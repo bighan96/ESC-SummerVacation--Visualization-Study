{
 "cells": [
  {
   "cell_type": "code",
   "execution_count": 66,
   "metadata": {
    "colab": {},
    "colab_type": "code",
    "id": "6dfPp2Oyx57G"
   },
   "outputs": [],
   "source": [
    "from bokeh.io import output_notebook, show\n",
    "from bokeh.plotting import figure"
   ]
  },
  {
   "cell_type": "code",
   "execution_count": 2,
   "metadata": {
    "colab": {},
    "colab_type": "code",
    "id": "WXq3IE-YFCor"
   },
   "outputs": [],
   "source": [
    "import matplotlib as mpl ; mpl.rcParams['axes.unicode_minus'] = False\n",
    "import matplotlib.pyplot as plt \n",
    "import numpy as np\n",
    "import pandas as pd\n",
    "import requests\n",
    "from bs4 import BeautifulSoup\n",
    "from mpl_toolkits import mplot3d\n",
    "plt.rc('axes', unicode_minus=False)"
   ]
  },
  {
   "cell_type": "code",
   "execution_count": 3,
   "metadata": {
    "colab": {
     "base_uri": "https://localhost:8080/",
     "height": 107
    },
    "colab_type": "code",
    "id": "8NdhW8WZ7DiS",
    "outputId": "159a7e33-9472-40cc-df99-6a48dae44e3e"
   },
   "outputs": [
    {
     "name": "stdout",
     "output_type": "stream",
     "text": [
      "['NanumGothic']\n"
     ]
    }
   ],
   "source": [
    "# matplotlib 폰트설정\n",
    "plt.rc('font', family='NanumGothic') # For Windows\n",
    "print(plt.rcParams['font.family'])\n",
    "\n",
    "%matplotlib inline"
   ]
  },
  {
   "cell_type": "code",
   "execution_count": 4,
   "metadata": {
    "colab": {},
    "colab_type": "code",
    "id": "b2il-7Oix76K"
   },
   "outputs": [
    {
     "data": {
      "text/html": [
       "\n",
       "    <div class=\"bk-root\">\n",
       "        <a href=\"https://bokeh.pydata.org\" target=\"_blank\" class=\"bk-logo bk-logo-small bk-logo-notebook\"></a>\n",
       "        <span id=\"1001\">Loading BokehJS ...</span>\n",
       "    </div>"
      ]
     },
     "metadata": {},
     "output_type": "display_data"
    },
    {
     "data": {
      "application/javascript": [
       "\n",
       "(function(root) {\n",
       "  function now() {\n",
       "    return new Date();\n",
       "  }\n",
       "\n",
       "  var force = true;\n",
       "\n",
       "  if (typeof root._bokeh_onload_callbacks === \"undefined\" || force === true) {\n",
       "    root._bokeh_onload_callbacks = [];\n",
       "    root._bokeh_is_loading = undefined;\n",
       "  }\n",
       "\n",
       "  var JS_MIME_TYPE = 'application/javascript';\n",
       "  var HTML_MIME_TYPE = 'text/html';\n",
       "  var EXEC_MIME_TYPE = 'application/vnd.bokehjs_exec.v0+json';\n",
       "  var CLASS_NAME = 'output_bokeh rendered_html';\n",
       "\n",
       "  /**\n",
       "   * Render data to the DOM node\n",
       "   */\n",
       "  function render(props, node) {\n",
       "    var script = document.createElement(\"script\");\n",
       "    node.appendChild(script);\n",
       "  }\n",
       "\n",
       "  /**\n",
       "   * Handle when an output is cleared or removed\n",
       "   */\n",
       "  function handleClearOutput(event, handle) {\n",
       "    var cell = handle.cell;\n",
       "\n",
       "    var id = cell.output_area._bokeh_element_id;\n",
       "    var server_id = cell.output_area._bokeh_server_id;\n",
       "    // Clean up Bokeh references\n",
       "    if (id != null && id in Bokeh.index) {\n",
       "      Bokeh.index[id].model.document.clear();\n",
       "      delete Bokeh.index[id];\n",
       "    }\n",
       "\n",
       "    if (server_id !== undefined) {\n",
       "      // Clean up Bokeh references\n",
       "      var cmd = \"from bokeh.io.state import curstate; print(curstate().uuid_to_server['\" + server_id + \"'].get_sessions()[0].document.roots[0]._id)\";\n",
       "      cell.notebook.kernel.execute(cmd, {\n",
       "        iopub: {\n",
       "          output: function(msg) {\n",
       "            var id = msg.content.text.trim();\n",
       "            if (id in Bokeh.index) {\n",
       "              Bokeh.index[id].model.document.clear();\n",
       "              delete Bokeh.index[id];\n",
       "            }\n",
       "          }\n",
       "        }\n",
       "      });\n",
       "      // Destroy server and session\n",
       "      var cmd = \"import bokeh.io.notebook as ion; ion.destroy_server('\" + server_id + \"')\";\n",
       "      cell.notebook.kernel.execute(cmd);\n",
       "    }\n",
       "  }\n",
       "\n",
       "  /**\n",
       "   * Handle when a new output is added\n",
       "   */\n",
       "  function handleAddOutput(event, handle) {\n",
       "    var output_area = handle.output_area;\n",
       "    var output = handle.output;\n",
       "\n",
       "    // limit handleAddOutput to display_data with EXEC_MIME_TYPE content only\n",
       "    if ((output.output_type != \"display_data\") || (!output.data.hasOwnProperty(EXEC_MIME_TYPE))) {\n",
       "      return\n",
       "    }\n",
       "\n",
       "    var toinsert = output_area.element.find(\".\" + CLASS_NAME.split(' ')[0]);\n",
       "\n",
       "    if (output.metadata[EXEC_MIME_TYPE][\"id\"] !== undefined) {\n",
       "      toinsert[toinsert.length - 1].firstChild.textContent = output.data[JS_MIME_TYPE];\n",
       "      // store reference to embed id on output_area\n",
       "      output_area._bokeh_element_id = output.metadata[EXEC_MIME_TYPE][\"id\"];\n",
       "    }\n",
       "    if (output.metadata[EXEC_MIME_TYPE][\"server_id\"] !== undefined) {\n",
       "      var bk_div = document.createElement(\"div\");\n",
       "      bk_div.innerHTML = output.data[HTML_MIME_TYPE];\n",
       "      var script_attrs = bk_div.children[0].attributes;\n",
       "      for (var i = 0; i < script_attrs.length; i++) {\n",
       "        toinsert[toinsert.length - 1].firstChild.setAttribute(script_attrs[i].name, script_attrs[i].value);\n",
       "      }\n",
       "      // store reference to server id on output_area\n",
       "      output_area._bokeh_server_id = output.metadata[EXEC_MIME_TYPE][\"server_id\"];\n",
       "    }\n",
       "  }\n",
       "\n",
       "  function register_renderer(events, OutputArea) {\n",
       "\n",
       "    function append_mime(data, metadata, element) {\n",
       "      // create a DOM node to render to\n",
       "      var toinsert = this.create_output_subarea(\n",
       "        metadata,\n",
       "        CLASS_NAME,\n",
       "        EXEC_MIME_TYPE\n",
       "      );\n",
       "      this.keyboard_manager.register_events(toinsert);\n",
       "      // Render to node\n",
       "      var props = {data: data, metadata: metadata[EXEC_MIME_TYPE]};\n",
       "      render(props, toinsert[toinsert.length - 1]);\n",
       "      element.append(toinsert);\n",
       "      return toinsert\n",
       "    }\n",
       "\n",
       "    /* Handle when an output is cleared or removed */\n",
       "    events.on('clear_output.CodeCell', handleClearOutput);\n",
       "    events.on('delete.Cell', handleClearOutput);\n",
       "\n",
       "    /* Handle when a new output is added */\n",
       "    events.on('output_added.OutputArea', handleAddOutput);\n",
       "\n",
       "    /**\n",
       "     * Register the mime type and append_mime function with output_area\n",
       "     */\n",
       "    OutputArea.prototype.register_mime_type(EXEC_MIME_TYPE, append_mime, {\n",
       "      /* Is output safe? */\n",
       "      safe: true,\n",
       "      /* Index of renderer in `output_area.display_order` */\n",
       "      index: 0\n",
       "    });\n",
       "  }\n",
       "\n",
       "  // register the mime type if in Jupyter Notebook environment and previously unregistered\n",
       "  if (root.Jupyter !== undefined) {\n",
       "    var events = require('base/js/events');\n",
       "    var OutputArea = require('notebook/js/outputarea').OutputArea;\n",
       "\n",
       "    if (OutputArea.prototype.mime_types().indexOf(EXEC_MIME_TYPE) == -1) {\n",
       "      register_renderer(events, OutputArea);\n",
       "    }\n",
       "  }\n",
       "\n",
       "  \n",
       "  if (typeof (root._bokeh_timeout) === \"undefined\" || force === true) {\n",
       "    root._bokeh_timeout = Date.now() + 5000;\n",
       "    root._bokeh_failed_load = false;\n",
       "  }\n",
       "\n",
       "  var NB_LOAD_WARNING = {'data': {'text/html':\n",
       "     \"<div style='background-color: #fdd'>\\n\"+\n",
       "     \"<p>\\n\"+\n",
       "     \"BokehJS does not appear to have successfully loaded. If loading BokehJS from CDN, this \\n\"+\n",
       "     \"may be due to a slow or bad network connection. Possible fixes:\\n\"+\n",
       "     \"</p>\\n\"+\n",
       "     \"<ul>\\n\"+\n",
       "     \"<li>re-rerun `output_notebook()` to attempt to load from CDN again, or</li>\\n\"+\n",
       "     \"<li>use INLINE resources instead, as so:</li>\\n\"+\n",
       "     \"</ul>\\n\"+\n",
       "     \"<code>\\n\"+\n",
       "     \"from bokeh.resources import INLINE\\n\"+\n",
       "     \"output_notebook(resources=INLINE)\\n\"+\n",
       "     \"</code>\\n\"+\n",
       "     \"</div>\"}};\n",
       "\n",
       "  function display_loaded() {\n",
       "    var el = document.getElementById(\"1001\");\n",
       "    if (el != null) {\n",
       "      el.textContent = \"BokehJS is loading...\";\n",
       "    }\n",
       "    if (root.Bokeh !== undefined) {\n",
       "      if (el != null) {\n",
       "        el.textContent = \"BokehJS \" + root.Bokeh.version + \" successfully loaded.\";\n",
       "      }\n",
       "    } else if (Date.now() < root._bokeh_timeout) {\n",
       "      setTimeout(display_loaded, 100)\n",
       "    }\n",
       "  }\n",
       "\n",
       "\n",
       "  function run_callbacks() {\n",
       "    try {\n",
       "      root._bokeh_onload_callbacks.forEach(function(callback) {\n",
       "        if (callback != null)\n",
       "          callback();\n",
       "      });\n",
       "    } finally {\n",
       "      delete root._bokeh_onload_callbacks\n",
       "    }\n",
       "    console.debug(\"Bokeh: all callbacks have finished\");\n",
       "  }\n",
       "\n",
       "  function load_libs(css_urls, js_urls, callback) {\n",
       "    if (css_urls == null) css_urls = [];\n",
       "    if (js_urls == null) js_urls = [];\n",
       "\n",
       "    root._bokeh_onload_callbacks.push(callback);\n",
       "    if (root._bokeh_is_loading > 0) {\n",
       "      console.debug(\"Bokeh: BokehJS is being loaded, scheduling callback at\", now());\n",
       "      return null;\n",
       "    }\n",
       "    if (js_urls == null || js_urls.length === 0) {\n",
       "      run_callbacks();\n",
       "      return null;\n",
       "    }\n",
       "    console.debug(\"Bokeh: BokehJS not loaded, scheduling load and callback at\", now());\n",
       "    root._bokeh_is_loading = css_urls.length + js_urls.length;\n",
       "\n",
       "    function on_load() {\n",
       "      root._bokeh_is_loading--;\n",
       "      if (root._bokeh_is_loading === 0) {\n",
       "        console.debug(\"Bokeh: all BokehJS libraries/stylesheets loaded\");\n",
       "        run_callbacks()\n",
       "      }\n",
       "    }\n",
       "\n",
       "    function on_error() {\n",
       "      console.error(\"failed to load \" + url);\n",
       "    }\n",
       "\n",
       "    for (var i = 0; i < css_urls.length; i++) {\n",
       "      var url = css_urls[i];\n",
       "      const element = document.createElement(\"link\");\n",
       "      element.onload = on_load;\n",
       "      element.onerror = on_error;\n",
       "      element.rel = \"stylesheet\";\n",
       "      element.type = \"text/css\";\n",
       "      element.href = url;\n",
       "      console.debug(\"Bokeh: injecting link tag for BokehJS stylesheet: \", url);\n",
       "      document.body.appendChild(element);\n",
       "    }\n",
       "\n",
       "    for (var i = 0; i < js_urls.length; i++) {\n",
       "      var url = js_urls[i];\n",
       "      var element = document.createElement('script');\n",
       "      element.onload = on_load;\n",
       "      element.onerror = on_error;\n",
       "      element.async = false;\n",
       "      element.src = url;\n",
       "      console.debug(\"Bokeh: injecting script tag for BokehJS library: \", url);\n",
       "      document.head.appendChild(element);\n",
       "    }\n",
       "  };var element = document.getElementById(\"1001\");\n",
       "  if (element == null) {\n",
       "    console.error(\"Bokeh: ERROR: autoload.js configured with elementid '1001' but no matching script tag was found. \")\n",
       "    return false;\n",
       "  }\n",
       "\n",
       "  function inject_raw_css(css) {\n",
       "    const element = document.createElement(\"style\");\n",
       "    element.appendChild(document.createTextNode(css));\n",
       "    document.body.appendChild(element);\n",
       "  }\n",
       "\n",
       "  var js_urls = [\"https://cdn.pydata.org/bokeh/release/bokeh-1.2.0.min.js\", \"https://cdn.pydata.org/bokeh/release/bokeh-widgets-1.2.0.min.js\", \"https://cdn.pydata.org/bokeh/release/bokeh-tables-1.2.0.min.js\", \"https://cdn.pydata.org/bokeh/release/bokeh-gl-1.2.0.min.js\"];\n",
       "  var css_urls = [\"https://cdn.pydata.org/bokeh/release/bokeh-1.2.0.min.css\", \"https://cdn.pydata.org/bokeh/release/bokeh-widgets-1.2.0.min.css\", \"https://cdn.pydata.org/bokeh/release/bokeh-tables-1.2.0.min.css\"];\n",
       "\n",
       "  var inline_js = [\n",
       "    function(Bokeh) {\n",
       "      Bokeh.set_log_level(\"info\");\n",
       "    },\n",
       "    \n",
       "    function(Bokeh) {\n",
       "      \n",
       "    },\n",
       "    function(Bokeh) {} // ensure no trailing comma for IE\n",
       "  ];\n",
       "\n",
       "  function run_inline_js() {\n",
       "    \n",
       "    if ((root.Bokeh !== undefined) || (force === true)) {\n",
       "      for (var i = 0; i < inline_js.length; i++) {\n",
       "        inline_js[i].call(root, root.Bokeh);\n",
       "      }if (force === true) {\n",
       "        display_loaded();\n",
       "      }} else if (Date.now() < root._bokeh_timeout) {\n",
       "      setTimeout(run_inline_js, 100);\n",
       "    } else if (!root._bokeh_failed_load) {\n",
       "      console.log(\"Bokeh: BokehJS failed to load within specified timeout.\");\n",
       "      root._bokeh_failed_load = true;\n",
       "    } else if (force !== true) {\n",
       "      var cell = $(document.getElementById(\"1001\")).parents('.cell').data().cell;\n",
       "      cell.output_area.append_execute_result(NB_LOAD_WARNING)\n",
       "    }\n",
       "\n",
       "  }\n",
       "\n",
       "  if (root._bokeh_is_loading === 0) {\n",
       "    console.debug(\"Bokeh: BokehJS loaded, going straight to plotting\");\n",
       "    run_inline_js();\n",
       "  } else {\n",
       "    load_libs(css_urls, js_urls, function() {\n",
       "      console.debug(\"Bokeh: BokehJS plotting callback run at\", now());\n",
       "      run_inline_js();\n",
       "    });\n",
       "  }\n",
       "}(window));"
      ],
      "application/vnd.bokehjs_load.v0+json": "\n(function(root) {\n  function now() {\n    return new Date();\n  }\n\n  var force = true;\n\n  if (typeof root._bokeh_onload_callbacks === \"undefined\" || force === true) {\n    root._bokeh_onload_callbacks = [];\n    root._bokeh_is_loading = undefined;\n  }\n\n  \n\n  \n  if (typeof (root._bokeh_timeout) === \"undefined\" || force === true) {\n    root._bokeh_timeout = Date.now() + 5000;\n    root._bokeh_failed_load = false;\n  }\n\n  var NB_LOAD_WARNING = {'data': {'text/html':\n     \"<div style='background-color: #fdd'>\\n\"+\n     \"<p>\\n\"+\n     \"BokehJS does not appear to have successfully loaded. If loading BokehJS from CDN, this \\n\"+\n     \"may be due to a slow or bad network connection. Possible fixes:\\n\"+\n     \"</p>\\n\"+\n     \"<ul>\\n\"+\n     \"<li>re-rerun `output_notebook()` to attempt to load from CDN again, or</li>\\n\"+\n     \"<li>use INLINE resources instead, as so:</li>\\n\"+\n     \"</ul>\\n\"+\n     \"<code>\\n\"+\n     \"from bokeh.resources import INLINE\\n\"+\n     \"output_notebook(resources=INLINE)\\n\"+\n     \"</code>\\n\"+\n     \"</div>\"}};\n\n  function display_loaded() {\n    var el = document.getElementById(\"1001\");\n    if (el != null) {\n      el.textContent = \"BokehJS is loading...\";\n    }\n    if (root.Bokeh !== undefined) {\n      if (el != null) {\n        el.textContent = \"BokehJS \" + root.Bokeh.version + \" successfully loaded.\";\n      }\n    } else if (Date.now() < root._bokeh_timeout) {\n      setTimeout(display_loaded, 100)\n    }\n  }\n\n\n  function run_callbacks() {\n    try {\n      root._bokeh_onload_callbacks.forEach(function(callback) {\n        if (callback != null)\n          callback();\n      });\n    } finally {\n      delete root._bokeh_onload_callbacks\n    }\n    console.debug(\"Bokeh: all callbacks have finished\");\n  }\n\n  function load_libs(css_urls, js_urls, callback) {\n    if (css_urls == null) css_urls = [];\n    if (js_urls == null) js_urls = [];\n\n    root._bokeh_onload_callbacks.push(callback);\n    if (root._bokeh_is_loading > 0) {\n      console.debug(\"Bokeh: BokehJS is being loaded, scheduling callback at\", now());\n      return null;\n    }\n    if (js_urls == null || js_urls.length === 0) {\n      run_callbacks();\n      return null;\n    }\n    console.debug(\"Bokeh: BokehJS not loaded, scheduling load and callback at\", now());\n    root._bokeh_is_loading = css_urls.length + js_urls.length;\n\n    function on_load() {\n      root._bokeh_is_loading--;\n      if (root._bokeh_is_loading === 0) {\n        console.debug(\"Bokeh: all BokehJS libraries/stylesheets loaded\");\n        run_callbacks()\n      }\n    }\n\n    function on_error() {\n      console.error(\"failed to load \" + url);\n    }\n\n    for (var i = 0; i < css_urls.length; i++) {\n      var url = css_urls[i];\n      const element = document.createElement(\"link\");\n      element.onload = on_load;\n      element.onerror = on_error;\n      element.rel = \"stylesheet\";\n      element.type = \"text/css\";\n      element.href = url;\n      console.debug(\"Bokeh: injecting link tag for BokehJS stylesheet: \", url);\n      document.body.appendChild(element);\n    }\n\n    for (var i = 0; i < js_urls.length; i++) {\n      var url = js_urls[i];\n      var element = document.createElement('script');\n      element.onload = on_load;\n      element.onerror = on_error;\n      element.async = false;\n      element.src = url;\n      console.debug(\"Bokeh: injecting script tag for BokehJS library: \", url);\n      document.head.appendChild(element);\n    }\n  };var element = document.getElementById(\"1001\");\n  if (element == null) {\n    console.error(\"Bokeh: ERROR: autoload.js configured with elementid '1001' but no matching script tag was found. \")\n    return false;\n  }\n\n  function inject_raw_css(css) {\n    const element = document.createElement(\"style\");\n    element.appendChild(document.createTextNode(css));\n    document.body.appendChild(element);\n  }\n\n  var js_urls = [\"https://cdn.pydata.org/bokeh/release/bokeh-1.2.0.min.js\", \"https://cdn.pydata.org/bokeh/release/bokeh-widgets-1.2.0.min.js\", \"https://cdn.pydata.org/bokeh/release/bokeh-tables-1.2.0.min.js\", \"https://cdn.pydata.org/bokeh/release/bokeh-gl-1.2.0.min.js\"];\n  var css_urls = [\"https://cdn.pydata.org/bokeh/release/bokeh-1.2.0.min.css\", \"https://cdn.pydata.org/bokeh/release/bokeh-widgets-1.2.0.min.css\", \"https://cdn.pydata.org/bokeh/release/bokeh-tables-1.2.0.min.css\"];\n\n  var inline_js = [\n    function(Bokeh) {\n      Bokeh.set_log_level(\"info\");\n    },\n    \n    function(Bokeh) {\n      \n    },\n    function(Bokeh) {} // ensure no trailing comma for IE\n  ];\n\n  function run_inline_js() {\n    \n    if ((root.Bokeh !== undefined) || (force === true)) {\n      for (var i = 0; i < inline_js.length; i++) {\n        inline_js[i].call(root, root.Bokeh);\n      }if (force === true) {\n        display_loaded();\n      }} else if (Date.now() < root._bokeh_timeout) {\n      setTimeout(run_inline_js, 100);\n    } else if (!root._bokeh_failed_load) {\n      console.log(\"Bokeh: BokehJS failed to load within specified timeout.\");\n      root._bokeh_failed_load = true;\n    } else if (force !== true) {\n      var cell = $(document.getElementById(\"1001\")).parents('.cell').data().cell;\n      cell.output_area.append_execute_result(NB_LOAD_WARNING)\n    }\n\n  }\n\n  if (root._bokeh_is_loading === 0) {\n    console.debug(\"Bokeh: BokehJS loaded, going straight to plotting\");\n    run_inline_js();\n  } else {\n    load_libs(css_urls, js_urls, function() {\n      console.debug(\"Bokeh: BokehJS plotting callback run at\", now());\n      run_inline_js();\n    });\n  }\n}(window));"
     },
     "metadata": {},
     "output_type": "display_data"
    }
   ],
   "source": [
    "output_notebook()"
   ]
  },
  {
   "cell_type": "code",
   "execution_count": 5,
   "metadata": {
    "colab": {},
    "colab_type": "code",
    "id": "d_x2AUyqyAT_"
   },
   "outputs": [],
   "source": [
    "plot = figure()"
   ]
  },
  {
   "cell_type": "code",
   "execution_count": 6,
   "metadata": {
    "colab": {
     "base_uri": "https://localhost:8080/",
     "height": 635
    },
    "colab_type": "code",
    "id": "JKfp-FOKyAYF",
    "outputId": "93bc45d1-8848-415d-b27d-206b56ab7e74"
   },
   "outputs": [
    {
     "name": "stderr",
     "output_type": "stream",
     "text": [
      "WARNING:bokeh.core.validation.check:W-1000 (MISSING_RENDERERS): Plot has no renderers: Figure(id='1002', ...)\n"
     ]
    },
    {
     "data": {
      "text/html": [
       "\n",
       "\n",
       "\n",
       "\n",
       "\n",
       "\n",
       "  <div class=\"bk-root\" id=\"bd376029-343d-4c29-a7bc-0f4df643f573\" data-root-id=\"1002\"></div>\n"
      ]
     },
     "metadata": {},
     "output_type": "display_data"
    },
    {
     "data": {
      "application/javascript": [
       "(function(root) {\n",
       "  function embed_document(root) {\n",
       "    \n",
       "  var docs_json = {\"ace9b89f-e363-4598-94ab-e5df305b4693\":{\"roots\":{\"references\":[{\"attributes\":{\"below\":[{\"id\":\"1011\",\"type\":\"LinearAxis\"}],\"center\":[{\"id\":\"1015\",\"type\":\"Grid\"},{\"id\":\"1020\",\"type\":\"Grid\"}],\"left\":[{\"id\":\"1016\",\"type\":\"LinearAxis\"}],\"title\":{\"id\":\"1034\",\"type\":\"Title\"},\"toolbar\":{\"id\":\"1027\",\"type\":\"Toolbar\"},\"x_range\":{\"id\":\"1003\",\"type\":\"DataRange1d\"},\"x_scale\":{\"id\":\"1007\",\"type\":\"LinearScale\"},\"y_range\":{\"id\":\"1005\",\"type\":\"DataRange1d\"},\"y_scale\":{\"id\":\"1009\",\"type\":\"LinearScale\"}},\"id\":\"1002\",\"subtype\":\"Figure\",\"type\":\"Plot\"},{\"attributes\":{\"formatter\":{\"id\":\"1036\",\"type\":\"BasicTickFormatter\"},\"ticker\":{\"id\":\"1017\",\"type\":\"BasicTicker\"}},\"id\":\"1016\",\"type\":\"LinearAxis\"},{\"attributes\":{},\"id\":\"1017\",\"type\":\"BasicTicker\"},{\"attributes\":{\"dimension\":1,\"ticker\":{\"id\":\"1017\",\"type\":\"BasicTicker\"}},\"id\":\"1020\",\"type\":\"Grid\"},{\"attributes\":{},\"id\":\"1036\",\"type\":\"BasicTickFormatter\"},{\"attributes\":{},\"id\":\"1021\",\"type\":\"PanTool\"},{\"attributes\":{\"overlay\":{\"id\":\"1040\",\"type\":\"BoxAnnotation\"}},\"id\":\"1023\",\"type\":\"BoxZoomTool\"},{\"attributes\":{},\"id\":\"1024\",\"type\":\"SaveTool\"},{\"attributes\":{},\"id\":\"1025\",\"type\":\"ResetTool\"},{\"attributes\":{},\"id\":\"1022\",\"type\":\"WheelZoomTool\"},{\"attributes\":{\"active_drag\":\"auto\",\"active_inspect\":\"auto\",\"active_multi\":null,\"active_scroll\":\"auto\",\"active_tap\":\"auto\",\"tools\":[{\"id\":\"1021\",\"type\":\"PanTool\"},{\"id\":\"1022\",\"type\":\"WheelZoomTool\"},{\"id\":\"1023\",\"type\":\"BoxZoomTool\"},{\"id\":\"1024\",\"type\":\"SaveTool\"},{\"id\":\"1025\",\"type\":\"ResetTool\"},{\"id\":\"1026\",\"type\":\"HelpTool\"}]},\"id\":\"1027\",\"type\":\"Toolbar\"},{\"attributes\":{\"callback\":null},\"id\":\"1005\",\"type\":\"DataRange1d\"},{\"attributes\":{\"bottom_units\":\"screen\",\"fill_alpha\":{\"value\":0.5},\"fill_color\":{\"value\":\"lightgrey\"},\"left_units\":\"screen\",\"level\":\"overlay\",\"line_alpha\":{\"value\":1.0},\"line_color\":{\"value\":\"black\"},\"line_dash\":[4,4],\"line_width\":{\"value\":2},\"render_mode\":\"css\",\"right_units\":\"screen\",\"top_units\":\"screen\"},\"id\":\"1040\",\"type\":\"BoxAnnotation\"},{\"attributes\":{},\"id\":\"1007\",\"type\":\"LinearScale\"},{\"attributes\":{},\"id\":\"1026\",\"type\":\"HelpTool\"},{\"attributes\":{\"callback\":null},\"id\":\"1003\",\"type\":\"DataRange1d\"},{\"attributes\":{},\"id\":\"1009\",\"type\":\"LinearScale\"},{\"attributes\":{\"text\":\"\"},\"id\":\"1034\",\"type\":\"Title\"},{\"attributes\":{\"formatter\":{\"id\":\"1038\",\"type\":\"BasicTickFormatter\"},\"ticker\":{\"id\":\"1012\",\"type\":\"BasicTicker\"}},\"id\":\"1011\",\"type\":\"LinearAxis\"},{\"attributes\":{},\"id\":\"1038\",\"type\":\"BasicTickFormatter\"},{\"attributes\":{},\"id\":\"1012\",\"type\":\"BasicTicker\"},{\"attributes\":{\"ticker\":{\"id\":\"1012\",\"type\":\"BasicTicker\"}},\"id\":\"1015\",\"type\":\"Grid\"}],\"root_ids\":[\"1002\"]},\"title\":\"Bokeh Application\",\"version\":\"1.2.0\"}};\n",
       "  var render_items = [{\"docid\":\"ace9b89f-e363-4598-94ab-e5df305b4693\",\"roots\":{\"1002\":\"bd376029-343d-4c29-a7bc-0f4df643f573\"}}];\n",
       "  root.Bokeh.embed.embed_items_notebook(docs_json, render_items);\n",
       "\n",
       "  }\n",
       "  if (root.Bokeh !== undefined) {\n",
       "    embed_document(root);\n",
       "  } else {\n",
       "    var attempts = 0;\n",
       "    var timer = setInterval(function(root) {\n",
       "      if (root.Bokeh !== undefined) {\n",
       "        embed_document(root);\n",
       "        clearInterval(timer);\n",
       "      }\n",
       "      attempts++;\n",
       "      if (attempts > 100) {\n",
       "        console.log(\"Bokeh: ERROR: Unable to run BokehJS code because BokehJS library is missing\");\n",
       "        clearInterval(timer);\n",
       "      }\n",
       "    }, 10, root)\n",
       "  }\n",
       "})(window);"
      ],
      "application/vnd.bokehjs_exec.v0+json": ""
     },
     "metadata": {
      "application/vnd.bokehjs_exec.v0+json": {
       "id": "1002"
      }
     },
     "output_type": "display_data"
    }
   ],
   "source": [
    "show(plot)"
   ]
  },
  {
   "cell_type": "code",
   "execution_count": 7,
   "metadata": {
    "colab": {
     "base_uri": "https://localhost:8080/",
     "height": 417
    },
    "colab_type": "code",
    "id": "1DYEOTPSyAcO",
    "outputId": "1806564e-1d38-4a45-83c7-9c4942fd88de"
   },
   "outputs": [
    {
     "data": {
      "text/html": [
       "\n",
       "\n",
       "\n",
       "\n",
       "\n",
       "\n",
       "  <div class=\"bk-root\" id=\"694a1e56-29be-4ad9-a0b6-d3a80c722a5f\" data-root-id=\"1083\"></div>\n"
      ]
     },
     "metadata": {},
     "output_type": "display_data"
    },
    {
     "data": {
      "application/javascript": [
       "(function(root) {\n",
       "  function embed_document(root) {\n",
       "    \n",
       "  var docs_json = {\"a8629abb-d28a-47ef-a693-53c6c1b00a4b\":{\"roots\":{\"references\":[{\"attributes\":{\"below\":[{\"id\":\"1092\",\"type\":\"LinearAxis\"}],\"center\":[{\"id\":\"1096\",\"type\":\"Grid\"},{\"id\":\"1101\",\"type\":\"Grid\"}],\"left\":[{\"id\":\"1097\",\"type\":\"LinearAxis\"}],\"plot_height\":400,\"plot_width\":400,\"renderers\":[{\"id\":\"1112\",\"type\":\"GlyphRenderer\"}],\"title\":{\"id\":\"1121\",\"type\":\"Title\"},\"toolbar\":{\"id\":\"1105\",\"type\":\"Toolbar\"},\"x_range\":{\"id\":\"1084\",\"type\":\"DataRange1d\"},\"x_scale\":{\"id\":\"1088\",\"type\":\"LinearScale\"},\"y_range\":{\"id\":\"1086\",\"type\":\"DataRange1d\"},\"y_scale\":{\"id\":\"1090\",\"type\":\"LinearScale\"}},\"id\":\"1083\",\"subtype\":\"Figure\",\"type\":\"Plot\"},{\"attributes\":{\"formatter\":{\"id\":\"1123\",\"type\":\"BasicTickFormatter\"},\"ticker\":{\"id\":\"1098\",\"type\":\"BasicTicker\"}},\"id\":\"1097\",\"type\":\"LinearAxis\"},{\"attributes\":{\"active_drag\":\"auto\",\"active_inspect\":\"auto\",\"active_multi\":null,\"active_scroll\":\"auto\",\"active_tap\":\"auto\",\"tools\":[{\"id\":\"1102\",\"type\":\"PanTool\"},{\"id\":\"1103\",\"type\":\"ResetTool\"},{\"id\":\"1104\",\"type\":\"SaveTool\"}]},\"id\":\"1105\",\"type\":\"Toolbar\"},{\"attributes\":{\"dimension\":1,\"ticker\":{\"id\":\"1098\",\"type\":\"BasicTicker\"}},\"id\":\"1101\",\"type\":\"Grid\"},{\"attributes\":{\"source\":{\"id\":\"1109\",\"type\":\"ColumnDataSource\"}},\"id\":\"1113\",\"type\":\"CDSView\"},{\"attributes\":{},\"id\":\"1102\",\"type\":\"PanTool\"},{\"attributes\":{},\"id\":\"1098\",\"type\":\"BasicTicker\"},{\"attributes\":{},\"id\":\"1103\",\"type\":\"ResetTool\"},{\"attributes\":{\"callback\":null},\"id\":\"1086\",\"type\":\"DataRange1d\"},{\"attributes\":{},\"id\":\"1104\",\"type\":\"SaveTool\"},{\"attributes\":{\"data_source\":{\"id\":\"1109\",\"type\":\"ColumnDataSource\"},\"glyph\":{\"id\":\"1110\",\"type\":\"Circle\"},\"hover_glyph\":null,\"muted_glyph\":null,\"nonselection_glyph\":{\"id\":\"1111\",\"type\":\"Circle\"},\"selection_glyph\":null,\"view\":{\"id\":\"1113\",\"type\":\"CDSView\"}},\"id\":\"1112\",\"type\":\"GlyphRenderer\"},{\"attributes\":{\"ticker\":{\"id\":\"1093\",\"type\":\"BasicTicker\"}},\"id\":\"1096\",\"type\":\"Grid\"},{\"attributes\":{\"text\":\"\"},\"id\":\"1121\",\"type\":\"Title\"},{\"attributes\":{\"fill_alpha\":{\"value\":0.1},\"fill_color\":{\"value\":\"#1f77b4\"},\"line_alpha\":{\"value\":0.1},\"line_color\":{\"value\":\"#1f77b4\"},\"x\":{\"field\":\"x\"},\"y\":{\"field\":\"y\"}},\"id\":\"1111\",\"type\":\"Circle\"},{\"attributes\":{},\"id\":\"1123\",\"type\":\"BasicTickFormatter\"},{\"attributes\":{},\"id\":\"1128\",\"type\":\"Selection\"},{\"attributes\":{\"callback\":null,\"data\":{\"x\":[1,2,3,4],\"y\":[1,2,3,4]},\"selected\":{\"id\":\"1128\",\"type\":\"Selection\"},\"selection_policy\":{\"id\":\"1127\",\"type\":\"UnionRenderers\"}},\"id\":\"1109\",\"type\":\"ColumnDataSource\"},{\"attributes\":{},\"id\":\"1125\",\"type\":\"BasicTickFormatter\"},{\"attributes\":{},\"id\":\"1088\",\"type\":\"LinearScale\"},{\"attributes\":{\"fill_color\":{\"value\":\"#1f77b4\"},\"line_color\":{\"value\":\"#1f77b4\"},\"x\":{\"field\":\"x\"},\"y\":{\"field\":\"y\"}},\"id\":\"1110\",\"type\":\"Circle\"},{\"attributes\":{\"callback\":null},\"id\":\"1084\",\"type\":\"DataRange1d\"},{\"attributes\":{},\"id\":\"1093\",\"type\":\"BasicTicker\"},{\"attributes\":{},\"id\":\"1090\",\"type\":\"LinearScale\"},{\"attributes\":{},\"id\":\"1127\",\"type\":\"UnionRenderers\"},{\"attributes\":{\"formatter\":{\"id\":\"1125\",\"type\":\"BasicTickFormatter\"},\"ticker\":{\"id\":\"1093\",\"type\":\"BasicTicker\"}},\"id\":\"1092\",\"type\":\"LinearAxis\"}],\"root_ids\":[\"1083\"]},\"title\":\"Bokeh Application\",\"version\":\"1.2.0\"}};\n",
       "  var render_items = [{\"docid\":\"a8629abb-d28a-47ef-a693-53c6c1b00a4b\",\"roots\":{\"1083\":\"694a1e56-29be-4ad9-a0b6-d3a80c722a5f\"}}];\n",
       "  root.Bokeh.embed.embed_items_notebook(docs_json, render_items);\n",
       "\n",
       "  }\n",
       "  if (root.Bokeh !== undefined) {\n",
       "    embed_document(root);\n",
       "  } else {\n",
       "    var attempts = 0;\n",
       "    var timer = setInterval(function(root) {\n",
       "      if (root.Bokeh !== undefined) {\n",
       "        embed_document(root);\n",
       "        clearInterval(timer);\n",
       "      }\n",
       "      attempts++;\n",
       "      if (attempts > 100) {\n",
       "        console.log(\"Bokeh: ERROR: Unable to run BokehJS code because BokehJS library is missing\");\n",
       "        clearInterval(timer);\n",
       "      }\n",
       "    }, 10, root)\n",
       "  }\n",
       "})(window);"
      ],
      "application/vnd.bokehjs_exec.v0+json": ""
     },
     "metadata": {
      "application/vnd.bokehjs_exec.v0+json": {
       "id": "1083"
      }
     },
     "output_type": "display_data"
    }
   ],
   "source": [
    "plot = figure(plot_width=400, plot_height=400, tools='pan, reset, save')\n",
    "plot.circle([1, 2, 3, 4], [1, 2, 3, 4])\n",
    "show(plot)\n",
    "#tools 툴에 뭘 포함할지"
   ]
  },
  {
   "cell_type": "code",
   "execution_count": 8,
   "metadata": {
    "colab": {
     "base_uri": "https://localhost:8080/",
     "height": 417
    },
    "colab_type": "code",
    "id": "L-ar3QMcyVwA",
    "outputId": "c5878fb3-c2b3-41d4-9550-7ad47101fc6b"
   },
   "outputs": [
    {
     "data": {
      "text/html": [
       "\n",
       "\n",
       "\n",
       "\n",
       "\n",
       "\n",
       "  <div class=\"bk-root\" id=\"393b9062-f872-481a-b555-b700ef27f8f6\" data-root-id=\"1177\"></div>\n"
      ]
     },
     "metadata": {},
     "output_type": "display_data"
    },
    {
     "data": {
      "application/javascript": [
       "(function(root) {\n",
       "  function embed_document(root) {\n",
       "    \n",
       "  var docs_json = {\"74c2a6a2-6c9f-4a22-bf8f-607786d1d18f\":{\"roots\":{\"references\":[{\"attributes\":{\"below\":[{\"id\":\"1186\",\"type\":\"LinearAxis\"}],\"center\":[{\"id\":\"1190\",\"type\":\"Grid\"},{\"id\":\"1195\",\"type\":\"Grid\"}],\"left\":[{\"id\":\"1191\",\"type\":\"LinearAxis\"}],\"plot_height\":400,\"plot_width\":400,\"renderers\":[{\"id\":\"1212\",\"type\":\"GlyphRenderer\"}],\"title\":{\"id\":\"1229\",\"type\":\"Title\"},\"toolbar\":{\"id\":\"1202\",\"type\":\"Toolbar\"},\"x_range\":{\"id\":\"1178\",\"type\":\"DataRange1d\"},\"x_scale\":{\"id\":\"1182\",\"type\":\"LinearScale\"},\"y_range\":{\"id\":\"1180\",\"type\":\"DataRange1d\"},\"y_scale\":{\"id\":\"1184\",\"type\":\"LinearScale\"}},\"id\":\"1177\",\"subtype\":\"Figure\",\"type\":\"Plot\"},{\"attributes\":{\"data_source\":{\"id\":\"1209\",\"type\":\"ColumnDataSource\"},\"glyph\":{\"id\":\"1210\",\"type\":\"X\"},\"hover_glyph\":null,\"muted_glyph\":null,\"nonselection_glyph\":{\"id\":\"1211\",\"type\":\"X\"},\"selection_glyph\":null,\"view\":{\"id\":\"1213\",\"type\":\"CDSView\"}},\"id\":\"1212\",\"type\":\"GlyphRenderer\"},{\"attributes\":{},\"id\":\"1197\",\"type\":\"WheelZoomTool\"},{\"attributes\":{\"overlay\":{\"id\":\"1237\",\"type\":\"BoxAnnotation\"}},\"id\":\"1198\",\"type\":\"BoxZoomTool\"},{\"attributes\":{\"fill_alpha\":{\"value\":0.1},\"fill_color\":{\"value\":\"#1f77b4\"},\"line_alpha\":{\"value\":0.1},\"line_color\":{\"value\":\"#1f77b4\"},\"size\":{\"units\":\"screen\",\"value\":10},\"x\":{\"field\":\"x\"},\"y\":{\"field\":\"y\"}},\"id\":\"1211\",\"type\":\"X\"},{\"attributes\":{},\"id\":\"1199\",\"type\":\"SaveTool\"},{\"attributes\":{\"fill_color\":{\"value\":\"red\"},\"line_color\":{\"value\":\"red\"},\"size\":{\"units\":\"screen\",\"value\":10},\"x\":{\"field\":\"x\"},\"y\":{\"field\":\"y\"}},\"id\":\"1210\",\"type\":\"X\"},{\"attributes\":{\"dimension\":1,\"ticker\":{\"id\":\"1192\",\"type\":\"BasicTicker\"}},\"id\":\"1195\",\"type\":\"Grid\"},{\"attributes\":{},\"id\":\"1200\",\"type\":\"ResetTool\"},{\"attributes\":{},\"id\":\"1201\",\"type\":\"HelpTool\"},{\"attributes\":{\"active_drag\":\"auto\",\"active_inspect\":\"auto\",\"active_multi\":null,\"active_scroll\":\"auto\",\"active_tap\":\"auto\",\"tools\":[{\"id\":\"1196\",\"type\":\"PanTool\"},{\"id\":\"1197\",\"type\":\"WheelZoomTool\"},{\"id\":\"1198\",\"type\":\"BoxZoomTool\"},{\"id\":\"1199\",\"type\":\"SaveTool\"},{\"id\":\"1200\",\"type\":\"ResetTool\"},{\"id\":\"1201\",\"type\":\"HelpTool\"}]},\"id\":\"1202\",\"type\":\"Toolbar\"},{\"attributes\":{},\"id\":\"1184\",\"type\":\"LinearScale\"},{\"attributes\":{\"callback\":null},\"id\":\"1180\",\"type\":\"DataRange1d\"},{\"attributes\":{\"text\":\"\"},\"id\":\"1229\",\"type\":\"Title\"},{\"attributes\":{},\"id\":\"1231\",\"type\":\"BasicTickFormatter\"},{\"attributes\":{},\"id\":\"1192\",\"type\":\"BasicTicker\"},{\"attributes\":{},\"id\":\"1233\",\"type\":\"BasicTickFormatter\"},{\"attributes\":{},\"id\":\"1235\",\"type\":\"UnionRenderers\"},{\"attributes\":{\"callback\":null},\"id\":\"1178\",\"type\":\"DataRange1d\"},{\"attributes\":{},\"id\":\"1187\",\"type\":\"BasicTicker\"},{\"attributes\":{},\"id\":\"1196\",\"type\":\"PanTool\"},{\"attributes\":{},\"id\":\"1182\",\"type\":\"LinearScale\"},{\"attributes\":{},\"id\":\"1236\",\"type\":\"Selection\"},{\"attributes\":{\"callback\":null,\"data\":{\"x\":[1,2,3,4],\"y\":[1,2,3,4]},\"selected\":{\"id\":\"1236\",\"type\":\"Selection\"},\"selection_policy\":{\"id\":\"1235\",\"type\":\"UnionRenderers\"}},\"id\":\"1209\",\"type\":\"ColumnDataSource\"},{\"attributes\":{\"bottom_units\":\"screen\",\"fill_alpha\":{\"value\":0.5},\"fill_color\":{\"value\":\"lightgrey\"},\"left_units\":\"screen\",\"level\":\"overlay\",\"line_alpha\":{\"value\":1.0},\"line_color\":{\"value\":\"black\"},\"line_dash\":[4,4],\"line_width\":{\"value\":2},\"render_mode\":\"css\",\"right_units\":\"screen\",\"top_units\":\"screen\"},\"id\":\"1237\",\"type\":\"BoxAnnotation\"},{\"attributes\":{\"formatter\":{\"id\":\"1231\",\"type\":\"BasicTickFormatter\"},\"ticker\":{\"id\":\"1192\",\"type\":\"BasicTicker\"}},\"id\":\"1191\",\"type\":\"LinearAxis\"},{\"attributes\":{\"formatter\":{\"id\":\"1233\",\"type\":\"BasicTickFormatter\"},\"ticker\":{\"id\":\"1187\",\"type\":\"BasicTicker\"}},\"id\":\"1186\",\"type\":\"LinearAxis\"},{\"attributes\":{\"ticker\":{\"id\":\"1187\",\"type\":\"BasicTicker\"}},\"id\":\"1190\",\"type\":\"Grid\"},{\"attributes\":{\"source\":{\"id\":\"1209\",\"type\":\"ColumnDataSource\"}},\"id\":\"1213\",\"type\":\"CDSView\"}],\"root_ids\":[\"1177\"]},\"title\":\"Bokeh Application\",\"version\":\"1.2.0\"}};\n",
       "  var render_items = [{\"docid\":\"74c2a6a2-6c9f-4a22-bf8f-607786d1d18f\",\"roots\":{\"1177\":\"393b9062-f872-481a-b555-b700ef27f8f6\"}}];\n",
       "  root.Bokeh.embed.embed_items_notebook(docs_json, render_items);\n",
       "\n",
       "  }\n",
       "  if (root.Bokeh !== undefined) {\n",
       "    embed_document(root);\n",
       "  } else {\n",
       "    var attempts = 0;\n",
       "    var timer = setInterval(function(root) {\n",
       "      if (root.Bokeh !== undefined) {\n",
       "        embed_document(root);\n",
       "        clearInterval(timer);\n",
       "      }\n",
       "      attempts++;\n",
       "      if (attempts > 100) {\n",
       "        console.log(\"Bokeh: ERROR: Unable to run BokehJS code because BokehJS library is missing\");\n",
       "        clearInterval(timer);\n",
       "      }\n",
       "    }, 10, root)\n",
       "  }\n",
       "})(window);"
      ],
      "application/vnd.bokehjs_exec.v0+json": ""
     },
     "metadata": {
      "application/vnd.bokehjs_exec.v0+json": {
       "id": "1177"
      }
     },
     "output_type": "display_data"
    }
   ],
   "source": [
    "plot = figure(plot_width=400, plot_height=400)\n",
    "plot.x([1, 2, 3, 4], [1, 2, 3, 4], color='red', size=10)\n",
    "show(plot)"
   ]
  },
  {
   "cell_type": "code",
   "execution_count": 9,
   "metadata": {
    "colab": {},
    "colab_type": "code",
    "id": "8roak9BayV2Q"
   },
   "outputs": [],
   "source": [
    "from bokeh.sampledata.iris import flowers\n"
   ]
  },
  {
   "cell_type": "code",
   "execution_count": 10,
   "metadata": {
    "colab": {
     "base_uri": "https://localhost:8080/",
     "height": 204
    },
    "colab_type": "code",
    "id": "1UKqDqLLyV5z",
    "outputId": "9259cce4-3e3d-4d1e-c652-283872d73c99"
   },
   "outputs": [
    {
     "data": {
      "text/html": [
       "<div>\n",
       "<style scoped>\n",
       "    .dataframe tbody tr th:only-of-type {\n",
       "        vertical-align: middle;\n",
       "    }\n",
       "\n",
       "    .dataframe tbody tr th {\n",
       "        vertical-align: top;\n",
       "    }\n",
       "\n",
       "    .dataframe thead th {\n",
       "        text-align: right;\n",
       "    }\n",
       "</style>\n",
       "<table border=\"1\" class=\"dataframe\">\n",
       "  <thead>\n",
       "    <tr style=\"text-align: right;\">\n",
       "      <th></th>\n",
       "      <th>sepal_length</th>\n",
       "      <th>sepal_width</th>\n",
       "      <th>petal_length</th>\n",
       "      <th>petal_width</th>\n",
       "      <th>species</th>\n",
       "    </tr>\n",
       "  </thead>\n",
       "  <tbody>\n",
       "    <tr>\n",
       "      <th>0</th>\n",
       "      <td>5.1</td>\n",
       "      <td>3.5</td>\n",
       "      <td>1.4</td>\n",
       "      <td>0.2</td>\n",
       "      <td>setosa</td>\n",
       "    </tr>\n",
       "    <tr>\n",
       "      <th>1</th>\n",
       "      <td>4.9</td>\n",
       "      <td>3.0</td>\n",
       "      <td>1.4</td>\n",
       "      <td>0.2</td>\n",
       "      <td>setosa</td>\n",
       "    </tr>\n",
       "    <tr>\n",
       "      <th>2</th>\n",
       "      <td>4.7</td>\n",
       "      <td>3.2</td>\n",
       "      <td>1.3</td>\n",
       "      <td>0.2</td>\n",
       "      <td>setosa</td>\n",
       "    </tr>\n",
       "    <tr>\n",
       "      <th>3</th>\n",
       "      <td>4.6</td>\n",
       "      <td>3.1</td>\n",
       "      <td>1.5</td>\n",
       "      <td>0.2</td>\n",
       "      <td>setosa</td>\n",
       "    </tr>\n",
       "    <tr>\n",
       "      <th>4</th>\n",
       "      <td>5.0</td>\n",
       "      <td>3.6</td>\n",
       "      <td>1.4</td>\n",
       "      <td>0.2</td>\n",
       "      <td>setosa</td>\n",
       "    </tr>\n",
       "  </tbody>\n",
       "</table>\n",
       "</div>"
      ],
      "text/plain": [
       "   sepal_length  sepal_width  petal_length  petal_width species\n",
       "0           5.1          3.5           1.4          0.2  setosa\n",
       "1           4.9          3.0           1.4          0.2  setosa\n",
       "2           4.7          3.2           1.3          0.2  setosa\n",
       "3           4.6          3.1           1.5          0.2  setosa\n",
       "4           5.0          3.6           1.4          0.2  setosa"
      ]
     },
     "execution_count": 10,
     "metadata": {},
     "output_type": "execute_result"
    }
   ],
   "source": [
    "flowers.head()\n"
   ]
  },
  {
   "cell_type": "code",
   "execution_count": 11,
   "metadata": {
    "colab": {
     "base_uri": "https://localhost:8080/",
     "height": 417
    },
    "colab_type": "code",
    "id": "ANo8b6zQyV_8",
    "outputId": "512ec231-4fce-45a0-a8f9-b321d9aae65a"
   },
   "outputs": [
    {
     "data": {
      "text/html": [
       "\n",
       "\n",
       "\n",
       "\n",
       "\n",
       "\n",
       "  <div class=\"bk-root\" id=\"bb661cf1-1b15-47fb-a200-4d910bfd3856\" data-root-id=\"1292\"></div>\n"
      ]
     },
     "metadata": {},
     "output_type": "display_data"
    },
    {
     "data": {
      "application/javascript": [
       "(function(root) {\n",
       "  function embed_document(root) {\n",
       "    \n",
       "  var docs_json = {\"edc2c58d-6812-4083-b126-23fabd93263c\":{\"roots\":{\"references\":[{\"attributes\":{\"below\":[{\"id\":\"1303\",\"type\":\"LinearAxis\"}],\"center\":[{\"id\":\"1307\",\"type\":\"Grid\"},{\"id\":\"1312\",\"type\":\"Grid\"}],\"left\":[{\"id\":\"1308\",\"type\":\"LinearAxis\"}],\"plot_height\":400,\"plot_width\":400,\"renderers\":[{\"id\":\"1329\",\"type\":\"GlyphRenderer\"}],\"title\":{\"id\":\"1293\",\"type\":\"Title\"},\"toolbar\":{\"id\":\"1319\",\"type\":\"Toolbar\"},\"x_range\":{\"id\":\"1295\",\"type\":\"DataRange1d\"},\"x_scale\":{\"id\":\"1299\",\"type\":\"LinearScale\"},\"y_range\":{\"id\":\"1297\",\"type\":\"DataRange1d\"},\"y_scale\":{\"id\":\"1301\",\"type\":\"LinearScale\"}},\"id\":\"1292\",\"subtype\":\"Figure\",\"type\":\"Plot\"},{\"attributes\":{\"text\":\"Petal Length vs. Sepal Length\"},\"id\":\"1293\",\"type\":\"Title\"},{\"attributes\":{\"data_source\":{\"id\":\"1326\",\"type\":\"ColumnDataSource\"},\"glyph\":{\"id\":\"1327\",\"type\":\"Circle\"},\"hover_glyph\":null,\"muted_glyph\":null,\"nonselection_glyph\":{\"id\":\"1328\",\"type\":\"Circle\"},\"selection_glyph\":null,\"view\":{\"id\":\"1330\",\"type\":\"CDSView\"}},\"id\":\"1329\",\"type\":\"GlyphRenderer\"},{\"attributes\":{},\"id\":\"1318\",\"type\":\"HelpTool\"},{\"attributes\":{\"callback\":null},\"id\":\"1297\",\"type\":\"DataRange1d\"},{\"attributes\":{},\"id\":\"1356\",\"type\":\"BasicTickFormatter\"},{\"attributes\":{},\"id\":\"1299\",\"type\":\"LinearScale\"},{\"attributes\":{},\"id\":\"1358\",\"type\":\"BasicTickFormatter\"},{\"attributes\":{},\"id\":\"1316\",\"type\":\"SaveTool\"},{\"attributes\":{},\"id\":\"1301\",\"type\":\"LinearScale\"},{\"attributes\":{},\"id\":\"1360\",\"type\":\"UnionRenderers\"},{\"attributes\":{\"axis_label\":\"Petal Length\",\"formatter\":{\"id\":\"1358\",\"type\":\"BasicTickFormatter\"},\"ticker\":{\"id\":\"1304\",\"type\":\"BasicTicker\"}},\"id\":\"1303\",\"type\":\"LinearAxis\"},{\"attributes\":{},\"id\":\"1361\",\"type\":\"Selection\"},{\"attributes\":{},\"id\":\"1304\",\"type\":\"BasicTicker\"},{\"attributes\":{\"bottom_units\":\"screen\",\"fill_alpha\":{\"value\":0.5},\"fill_color\":{\"value\":\"lightgrey\"},\"left_units\":\"screen\",\"level\":\"overlay\",\"line_alpha\":{\"value\":1.0},\"line_color\":{\"value\":\"black\"},\"line_dash\":[4,4],\"line_width\":{\"value\":2},\"render_mode\":\"css\",\"right_units\":\"screen\",\"top_units\":\"screen\"},\"id\":\"1362\",\"type\":\"BoxAnnotation\"},{\"attributes\":{\"ticker\":{\"id\":\"1304\",\"type\":\"BasicTicker\"}},\"id\":\"1307\",\"type\":\"Grid\"},{\"attributes\":{\"axis_label\":\"Sepal Length\",\"formatter\":{\"id\":\"1356\",\"type\":\"BasicTickFormatter\"},\"ticker\":{\"id\":\"1309\",\"type\":\"BasicTicker\"}},\"id\":\"1308\",\"type\":\"LinearAxis\"},{\"attributes\":{},\"id\":\"1309\",\"type\":\"BasicTicker\"},{\"attributes\":{\"dimension\":1,\"ticker\":{\"id\":\"1309\",\"type\":\"BasicTicker\"}},\"id\":\"1312\",\"type\":\"Grid\"},{\"attributes\":{\"callback\":null},\"id\":\"1295\",\"type\":\"DataRange1d\"},{\"attributes\":{\"fill_alpha\":{\"value\":0.1},\"fill_color\":{\"value\":\"#1f77b4\"},\"line_alpha\":{\"value\":0.1},\"line_color\":{\"value\":\"#1f77b4\"},\"size\":{\"units\":\"screen\",\"value\":5},\"x\":{\"field\":\"x\"},\"y\":{\"field\":\"y\"}},\"id\":\"1328\",\"type\":\"Circle\"},{\"attributes\":{\"fill_color\":{\"value\":\"gold\"},\"line_color\":{\"value\":\"gold\"},\"size\":{\"units\":\"screen\",\"value\":5},\"x\":{\"field\":\"x\"},\"y\":{\"field\":\"y\"}},\"id\":\"1327\",\"type\":\"Circle\"},{\"attributes\":{\"callback\":null,\"data\":{\"x\":{\"__ndarray__\":\"ZmZmZmZm9j9mZmZmZmb2P83MzMzMzPQ/AAAAAAAA+D9mZmZmZmb2PzMzMzMzM/s/ZmZmZmZm9j8AAAAAAAD4P2ZmZmZmZvY/AAAAAAAA+D8AAAAAAAD4P5qZmZmZmfk/ZmZmZmZm9j+amZmZmZnxPzMzMzMzM/M/AAAAAAAA+D/NzMzMzMz0P2ZmZmZmZvY/MzMzMzMz+z8AAAAAAAD4PzMzMzMzM/s/AAAAAAAA+D8AAAAAAADwPzMzMzMzM/s/ZmZmZmZm/j+amZmZmZn5P5qZmZmZmfk/AAAAAAAA+D9mZmZmZmb2P5qZmZmZmfk/mpmZmZmZ+T8AAAAAAAD4PwAAAAAAAPg/ZmZmZmZm9j8AAAAAAAD4PzMzMzMzM/M/zczMzMzM9D9mZmZmZmb2P83MzMzMzPQ/AAAAAAAA+D/NzMzMzMz0P83MzMzMzPQ/zczMzMzM9D+amZmZmZn5P2ZmZmZmZv4/ZmZmZmZm9j+amZmZmZn5P2ZmZmZmZvY/AAAAAAAA+D9mZmZmZmb2P83MzMzMzBJAAAAAAAAAEkCamZmZmZkTQAAAAAAAABBAZmZmZmZmEkAAAAAAAAASQM3MzMzMzBJAZmZmZmZmCkBmZmZmZmYSQDMzMzMzMw9AAAAAAAAADEDNzMzMzMwQQAAAAAAAABBAzczMzMzMEkDNzMzMzMwMQJqZmZmZmRFAAAAAAAAAEkBmZmZmZmYQQAAAAAAAABJAMzMzMzMzD0AzMzMzMzMTQAAAAAAAABBAmpmZmZmZE0DNzMzMzMwSQDMzMzMzMxFAmpmZmZmZEUAzMzMzMzMTQAAAAAAAABRAAAAAAAAAEkAAAAAAAAAMQGZmZmZmZg5AmpmZmZmZDUAzMzMzMzMPQGZmZmZmZhRAAAAAAAAAEkAAAAAAAAASQM3MzMzMzBJAmpmZmZmZEUBmZmZmZmYQQAAAAAAAABBAmpmZmZmZEUBmZmZmZmYSQAAAAAAAABBAZmZmZmZmCkDNzMzMzMwQQM3MzMzMzBBAzczMzMzMEEAzMzMzMzMRQAAAAAAAAAhAZmZmZmZmEEAAAAAAAAAYQGZmZmZmZhRAmpmZmZmZF0BmZmZmZmYWQDMzMzMzMxdAZmZmZmZmGkAAAAAAAAASQDMzMzMzMxlAMzMzMzMzF0BmZmZmZmYYQGZmZmZmZhRAMzMzMzMzFUAAAAAAAAAWQAAAAAAAABRAZmZmZmZmFEAzMzMzMzMVQAAAAAAAABZAzczMzMzMGkCamZmZmZkbQAAAAAAAABRAzczMzMzMFkCamZmZmZkTQM3MzMzMzBpAmpmZmZmZE0DNzMzMzMwWQAAAAAAAABhAMzMzMzMzE0CamZmZmZkTQGZmZmZmZhZAMzMzMzMzF0BmZmZmZmYYQJqZmZmZmRlAZmZmZmZmFkBmZmZmZmYUQGZmZmZmZhZAZmZmZmZmGEBmZmZmZmYWQAAAAAAAABZAMzMzMzMzE0CamZmZmZkVQGZmZmZmZhZAZmZmZmZmFEBmZmZmZmYUQJqZmZmZmRdAzczMzMzMFkDNzMzMzMwUQAAAAAAAABRAzczMzMzMFECamZmZmZkVQGZmZmZmZhRA\",\"dtype\":\"float64\",\"shape\":[150]},\"y\":{\"__ndarray__\":\"ZmZmZmZmFECamZmZmZkTQM3MzMzMzBJAZmZmZmZmEkAAAAAAAAAUQJqZmZmZmRVAZmZmZmZmEkAAAAAAAAAUQJqZmZmZmRFAmpmZmZmZE0CamZmZmZkVQDMzMzMzMxNAMzMzMzMzE0AzMzMzMzMRQDMzMzMzMxdAzczMzMzMFkCamZmZmZkVQGZmZmZmZhRAzczMzMzMFkBmZmZmZmYUQJqZmZmZmRVAZmZmZmZmFEBmZmZmZmYSQGZmZmZmZhRAMzMzMzMzE0AAAAAAAAAUQAAAAAAAABRAzczMzMzMFEDNzMzMzMwUQM3MzMzMzBJAMzMzMzMzE0CamZmZmZkVQM3MzMzMzBRAAAAAAAAAFkCamZmZmZkTQAAAAAAAABRAAAAAAAAAFkCamZmZmZkTQJqZmZmZmRFAZmZmZmZmFEAAAAAAAAAUQAAAAAAAABJAmpmZmZmZEUAAAAAAAAAUQGZmZmZmZhRAMzMzMzMzE0BmZmZmZmYUQGZmZmZmZhJAMzMzMzMzFUAAAAAAAAAUQAAAAAAAABxAmpmZmZmZGUCamZmZmZkbQAAAAAAAABZAAAAAAAAAGkDNzMzMzMwWQDMzMzMzMxlAmpmZmZmZE0BmZmZmZmYaQM3MzMzMzBRAAAAAAAAAFECamZmZmZkXQAAAAAAAABhAZmZmZmZmGEBmZmZmZmYWQM3MzMzMzBpAZmZmZmZmFkAzMzMzMzMXQM3MzMzMzBhAZmZmZmZmFkCamZmZmZkXQGZmZmZmZhhAMzMzMzMzGUBmZmZmZmYYQJqZmZmZmRlAZmZmZmZmGkAzMzMzMzMbQM3MzMzMzBpAAAAAAAAAGEDNzMzMzMwWQAAAAAAAABZAAAAAAAAAFkAzMzMzMzMXQAAAAAAAABhAmpmZmZmZFUAAAAAAAAAYQM3MzMzMzBpAMzMzMzMzGUBmZmZmZmYWQAAAAAAAABZAAAAAAAAAFkBmZmZmZmYYQDMzMzMzMxdAAAAAAAAAFEBmZmZmZmYWQM3MzMzMzBZAzczMzMzMFkDNzMzMzMwYQGZmZmZmZhRAzczMzMzMFkAzMzMzMzMZQDMzMzMzMxdAZmZmZmZmHEAzMzMzMzMZQAAAAAAAABpAZmZmZmZmHkCamZmZmZkTQDMzMzMzMx1AzczMzMzMGkDNzMzMzMwcQAAAAAAAABpAmpmZmZmZGUAzMzMzMzMbQM3MzMzMzBZAMzMzMzMzF0CamZmZmZkZQAAAAAAAABpAzczMzMzMHkDNzMzMzMweQAAAAAAAABhAmpmZmZmZG0BmZmZmZmYWQM3MzMzMzB5AMzMzMzMzGUDNzMzMzMwaQM3MzMzMzBxAzczMzMzMGEBmZmZmZmYYQJqZmZmZmRlAzczMzMzMHECamZmZmZkdQJqZmZmZmR9AmpmZmZmZGUAzMzMzMzMZQGZmZmZmZhhAzczMzMzMHkAzMzMzMzMZQJqZmZmZmRlAAAAAAAAAGECamZmZmZkbQM3MzMzMzBpAmpmZmZmZG0AzMzMzMzMXQDMzMzMzMxtAzczMzMzMGkDNzMzMzMwaQDMzMzMzMxlAAAAAAAAAGkDNzMzMzMwYQJqZmZmZmRdA\",\"dtype\":\"float64\",\"shape\":[150]}},\"selected\":{\"id\":\"1361\",\"type\":\"Selection\"},\"selection_policy\":{\"id\":\"1360\",\"type\":\"UnionRenderers\"}},\"id\":\"1326\",\"type\":\"ColumnDataSource\"},{\"attributes\":{},\"id\":\"1313\",\"type\":\"PanTool\"},{\"attributes\":{},\"id\":\"1314\",\"type\":\"WheelZoomTool\"},{\"attributes\":{},\"id\":\"1317\",\"type\":\"ResetTool\"},{\"attributes\":{\"overlay\":{\"id\":\"1362\",\"type\":\"BoxAnnotation\"}},\"id\":\"1315\",\"type\":\"BoxZoomTool\"},{\"attributes\":{\"source\":{\"id\":\"1326\",\"type\":\"ColumnDataSource\"}},\"id\":\"1330\",\"type\":\"CDSView\"},{\"attributes\":{\"active_drag\":\"auto\",\"active_inspect\":\"auto\",\"active_multi\":null,\"active_scroll\":\"auto\",\"active_tap\":\"auto\",\"tools\":[{\"id\":\"1313\",\"type\":\"PanTool\"},{\"id\":\"1314\",\"type\":\"WheelZoomTool\"},{\"id\":\"1315\",\"type\":\"BoxZoomTool\"},{\"id\":\"1316\",\"type\":\"SaveTool\"},{\"id\":\"1317\",\"type\":\"ResetTool\"},{\"id\":\"1318\",\"type\":\"HelpTool\"}]},\"id\":\"1319\",\"type\":\"Toolbar\"}],\"root_ids\":[\"1292\"]},\"title\":\"Bokeh Application\",\"version\":\"1.2.0\"}};\n",
       "  var render_items = [{\"docid\":\"edc2c58d-6812-4083-b126-23fabd93263c\",\"roots\":{\"1292\":\"bb661cf1-1b15-47fb-a200-4d910bfd3856\"}}];\n",
       "  root.Bokeh.embed.embed_items_notebook(docs_json, render_items);\n",
       "\n",
       "  }\n",
       "  if (root.Bokeh !== undefined) {\n",
       "    embed_document(root);\n",
       "  } else {\n",
       "    var attempts = 0;\n",
       "    var timer = setInterval(function(root) {\n",
       "      if (root.Bokeh !== undefined) {\n",
       "        embed_document(root);\n",
       "        clearInterval(timer);\n",
       "      }\n",
       "      attempts++;\n",
       "      if (attempts > 100) {\n",
       "        console.log(\"Bokeh: ERROR: Unable to run BokehJS code because BokehJS library is missing\");\n",
       "        clearInterval(timer);\n",
       "      }\n",
       "    }, 10, root)\n",
       "  }\n",
       "})(window);"
      ],
      "application/vnd.bokehjs_exec.v0+json": ""
     },
     "metadata": {
      "application/vnd.bokehjs_exec.v0+json": {
       "id": "1292"
      }
     },
     "output_type": "display_data"
    }
   ],
   "source": [
    "plot = figure(plot_width=400, plot_height=400, x_axis_label='Petal Length', y_axis_label='Sepal Length',\n",
    "              title='Petal Length vs. Sepal Length')\n",
    "plot.circle(flowers['petal_length'], flowers['sepal_length'], color='gold', size=5)\n",
    "show(plot)"
   ]
  },
  {
   "cell_type": "code",
   "execution_count": 12,
   "metadata": {
    "colab": {},
    "colab_type": "code",
    "id": "5EKCzkooyWIQ"
   },
   "outputs": [],
   "source": [
    "import pandas as pd\n"
   ]
  },
  {
   "cell_type": "code",
   "execution_count": 13,
   "metadata": {
    "colab": {},
    "colab_type": "code",
    "id": "geMLpi0eyWFD"
   },
   "outputs": [],
   "source": [
    "gapminder = pd.read_csv('C:/Users/bighan/Downloads/esc시각화스터디/gapminder.csv')\n",
    "gapminder = gapminder[gapminder['Country']=='France']\n",
    "gapminder = gapminder.reset_index(drop=True)"
   ]
  },
  {
   "cell_type": "code",
   "execution_count": 14,
   "metadata": {
    "colab": {
     "base_uri": "https://localhost:8080/",
     "height": 204
    },
    "colab_type": "code",
    "id": "fv007RxmzuA8",
    "outputId": "3ef2a695-cd5a-4ee2-d34b-7eead3343bc8"
   },
   "outputs": [
    {
     "data": {
      "text/html": [
       "<div>\n",
       "<style scoped>\n",
       "    .dataframe tbody tr th:only-of-type {\n",
       "        vertical-align: middle;\n",
       "    }\n",
       "\n",
       "    .dataframe tbody tr th {\n",
       "        vertical-align: top;\n",
       "    }\n",
       "\n",
       "    .dataframe thead th {\n",
       "        text-align: right;\n",
       "    }\n",
       "</style>\n",
       "<table border=\"1\" class=\"dataframe\">\n",
       "  <thead>\n",
       "    <tr style=\"text-align: right;\">\n",
       "      <th></th>\n",
       "      <th>Country</th>\n",
       "      <th>Year</th>\n",
       "      <th>fertility</th>\n",
       "      <th>life</th>\n",
       "      <th>population</th>\n",
       "      <th>child_mortality</th>\n",
       "      <th>gdp</th>\n",
       "      <th>region</th>\n",
       "    </tr>\n",
       "  </thead>\n",
       "  <tbody>\n",
       "    <tr>\n",
       "      <th>0</th>\n",
       "      <td>France</td>\n",
       "      <td>1964</td>\n",
       "      <td>2.800</td>\n",
       "      <td>71.32</td>\n",
       "      <td>48194218.0</td>\n",
       "      <td>23.4</td>\n",
       "      <td>13969.0</td>\n",
       "      <td>Europe &amp; Central Asia</td>\n",
       "    </tr>\n",
       "    <tr>\n",
       "      <th>1</th>\n",
       "      <td>France</td>\n",
       "      <td>1965</td>\n",
       "      <td>2.772</td>\n",
       "      <td>71.15</td>\n",
       "      <td>48754817.0</td>\n",
       "      <td>22.3</td>\n",
       "      <td>14514.0</td>\n",
       "      <td>Europe &amp; Central Asia</td>\n",
       "    </tr>\n",
       "    <tr>\n",
       "      <th>2</th>\n",
       "      <td>France</td>\n",
       "      <td>1966</td>\n",
       "      <td>2.730</td>\n",
       "      <td>71.56</td>\n",
       "      <td>49238715.0</td>\n",
       "      <td>21.4</td>\n",
       "      <td>15158.0</td>\n",
       "      <td>Europe &amp; Central Asia</td>\n",
       "    </tr>\n",
       "    <tr>\n",
       "      <th>3</th>\n",
       "      <td>France</td>\n",
       "      <td>1967</td>\n",
       "      <td>2.679</td>\n",
       "      <td>71.55</td>\n",
       "      <td>49655097.0</td>\n",
       "      <td>20.6</td>\n",
       "      <td>15759.0</td>\n",
       "      <td>Europe &amp; Central Asia</td>\n",
       "    </tr>\n",
       "    <tr>\n",
       "      <th>4</th>\n",
       "      <td>France</td>\n",
       "      <td>1968</td>\n",
       "      <td>2.621</td>\n",
       "      <td>71.54</td>\n",
       "      <td>50026522.0</td>\n",
       "      <td>19.9</td>\n",
       "      <td>16321.0</td>\n",
       "      <td>Europe &amp; Central Asia</td>\n",
       "    </tr>\n",
       "  </tbody>\n",
       "</table>\n",
       "</div>"
      ],
      "text/plain": [
       "  Country  Year  fertility   life  population  child_mortality      gdp  \\\n",
       "0  France  1964      2.800  71.32  48194218.0             23.4  13969.0   \n",
       "1  France  1965      2.772  71.15  48754817.0             22.3  14514.0   \n",
       "2  France  1966      2.730  71.56  49238715.0             21.4  15158.0   \n",
       "3  France  1967      2.679  71.55  49655097.0             20.6  15759.0   \n",
       "4  France  1968      2.621  71.54  50026522.0             19.9  16321.0   \n",
       "\n",
       "                  region  \n",
       "0  Europe & Central Asia  \n",
       "1  Europe & Central Asia  \n",
       "2  Europe & Central Asia  \n",
       "3  Europe & Central Asia  \n",
       "4  Europe & Central Asia  "
      ]
     },
     "execution_count": 14,
     "metadata": {},
     "output_type": "execute_result"
    }
   ],
   "source": [
    "gapminder.head()"
   ]
  },
  {
   "cell_type": "code",
   "execution_count": 16,
   "metadata": {
    "colab": {
     "base_uri": "https://localhost:8080/",
     "height": 417
    },
    "colab_type": "code",
    "id": "vYmfeBq1yV9a",
    "outputId": "6caeb186-f8ad-40c6-a46a-b5ecb8a2fcd5"
   },
   "outputs": [
    {
     "data": {
      "text/html": [
       "\n",
       "\n",
       "\n",
       "\n",
       "\n",
       "\n",
       "  <div class=\"bk-root\" id=\"af2af6e6-2e89-44ea-8b5d-f6af757df656\" data-root-id=\"1452\"></div>\n"
      ]
     },
     "metadata": {},
     "output_type": "display_data"
    },
    {
     "data": {
      "application/javascript": [
       "(function(root) {\n",
       "  function embed_document(root) {\n",
       "    \n",
       "  var docs_json = {\"2d860b86-a67b-48b2-883f-71429a4e5079\":{\"roots\":{\"references\":[{\"attributes\":{\"below\":[{\"id\":\"1463\",\"type\":\"LinearAxis\"}],\"center\":[{\"id\":\"1467\",\"type\":\"Grid\"},{\"id\":\"1472\",\"type\":\"Grid\"}],\"left\":[{\"id\":\"1468\",\"type\":\"LinearAxis\"}],\"plot_height\":400,\"plot_width\":700,\"renderers\":[{\"id\":\"1489\",\"type\":\"GlyphRenderer\"},{\"id\":\"1494\",\"type\":\"GlyphRenderer\"}],\"title\":{\"id\":\"1453\",\"type\":\"Title\"},\"toolbar\":{\"id\":\"1479\",\"type\":\"Toolbar\"},\"x_range\":{\"id\":\"1455\",\"type\":\"DataRange1d\"},\"x_scale\":{\"id\":\"1459\",\"type\":\"LinearScale\"},\"y_range\":{\"id\":\"1457\",\"type\":\"DataRange1d\"},\"y_scale\":{\"id\":\"1461\",\"type\":\"LinearScale\"}},\"id\":\"1452\",\"subtype\":\"Figure\",\"type\":\"Plot\"},{\"attributes\":{\"callback\":null},\"id\":\"1455\",\"type\":\"DataRange1d\"},{\"attributes\":{\"active_drag\":\"auto\",\"active_inspect\":\"auto\",\"active_multi\":null,\"active_scroll\":\"auto\",\"active_tap\":\"auto\",\"tools\":[{\"id\":\"1473\",\"type\":\"PanTool\"},{\"id\":\"1474\",\"type\":\"WheelZoomTool\"},{\"id\":\"1475\",\"type\":\"BoxZoomTool\"},{\"id\":\"1476\",\"type\":\"SaveTool\"},{\"id\":\"1477\",\"type\":\"ResetTool\"},{\"id\":\"1478\",\"type\":\"HelpTool\"}]},\"id\":\"1479\",\"type\":\"Toolbar\"},{\"attributes\":{\"callback\":null},\"id\":\"1457\",\"type\":\"DataRange1d\"},{\"attributes\":{},\"id\":\"1459\",\"type\":\"LinearScale\"},{\"attributes\":{},\"id\":\"1535\",\"type\":\"UnionRenderers\"},{\"attributes\":{},\"id\":\"1461\",\"type\":\"LinearScale\"},{\"attributes\":{\"line_color\":\"#1f77b4\",\"line_width\":3,\"x\":{\"field\":\"x\"},\"y\":{\"field\":\"y\"}},\"id\":\"1492\",\"type\":\"Line\"},{\"attributes\":{},\"id\":\"1529\",\"type\":\"BasicTickFormatter\"},{\"attributes\":{\"axis_label\":\"Year\",\"formatter\":{\"id\":\"1531\",\"type\":\"BasicTickFormatter\"},\"ticker\":{\"id\":\"1464\",\"type\":\"BasicTicker\"}},\"id\":\"1463\",\"type\":\"LinearAxis\"},{\"attributes\":{\"line_alpha\":0.1,\"line_color\":\"#1f77b4\",\"line_width\":3,\"x\":{\"field\":\"x\"},\"y\":{\"field\":\"y\"}},\"id\":\"1493\",\"type\":\"Line\"},{\"attributes\":{},\"id\":\"1464\",\"type\":\"BasicTicker\"},{\"attributes\":{\"data_source\":{\"id\":\"1491\",\"type\":\"ColumnDataSource\"},\"glyph\":{\"id\":\"1492\",\"type\":\"Line\"},\"hover_glyph\":null,\"muted_glyph\":null,\"nonselection_glyph\":{\"id\":\"1493\",\"type\":\"Line\"},\"selection_glyph\":null,\"view\":{\"id\":\"1495\",\"type\":\"CDSView\"}},\"id\":\"1494\",\"type\":\"GlyphRenderer\"},{\"attributes\":{\"ticker\":{\"id\":\"1464\",\"type\":\"BasicTicker\"}},\"id\":\"1467\",\"type\":\"Grid\"},{\"attributes\":{\"source\":{\"id\":\"1491\",\"type\":\"ColumnDataSource\"}},\"id\":\"1495\",\"type\":\"CDSView\"},{\"attributes\":{\"axis_label\":\"Life Expectancy\",\"formatter\":{\"id\":\"1529\",\"type\":\"BasicTickFormatter\"},\"ticker\":{\"id\":\"1469\",\"type\":\"BasicTicker\"}},\"id\":\"1468\",\"type\":\"LinearAxis\"},{\"attributes\":{},\"id\":\"1469\",\"type\":\"BasicTicker\"},{\"attributes\":{},\"id\":\"1531\",\"type\":\"BasicTickFormatter\"},{\"attributes\":{\"dimension\":1,\"ticker\":{\"id\":\"1469\",\"type\":\"BasicTicker\"}},\"id\":\"1472\",\"type\":\"Grid\"},{\"attributes\":{},\"id\":\"1536\",\"type\":\"Selection\"},{\"attributes\":{\"fill_alpha\":{\"value\":0.1},\"fill_color\":{\"value\":\"#1f77b4\"},\"line_alpha\":{\"value\":0.1},\"line_color\":{\"value\":\"#1f77b4\"},\"size\":{\"units\":\"screen\",\"value\":5},\"x\":{\"field\":\"x\"},\"y\":{\"field\":\"y\"}},\"id\":\"1488\",\"type\":\"Circle\"},{\"attributes\":{},\"id\":\"1533\",\"type\":\"UnionRenderers\"},{\"attributes\":{\"callback\":null,\"data\":{\"x\":[1964,1965,1966,1967,1968,1969,1970,1971,1972,1973,1974,1975,1976,1977,1978,1979,1980,1981,1982,1983,1984,1985,1986,1987,1988,1989,1990,1991,1992,1993,1994,1995,1996,1997,1998,1999,2000,2001,2002,2003,2004,2005,2006,2007,2008,2009,2010,2011,2012,2013],\"y\":{\"__ndarray__\":\"FK5H4XrUUUCamZmZmclRQKRwPQrX41FAMzMzMzPjUUDD9Shcj+JRQOF6FK5H0VFACtejcD0KUkC4HoXrUQhSQLgehetRGFJAw/UoXI8iUkApXI/C9ThSQB+F61G4PlJArkfhehROUkCF61G4HnVSQM3MzMzMfFJAcT0K16OQUkBmZmZmZpZSQHE9CtejoFJAKVyPwvW4UkBI4XoUrrdSQEjhehSu11JArkfhehTeUkAAAAAAAPBSQPYoXI/CFVNAFK5H4XokU0Bcj8L1KCxTQB+F61G4PlNAexSuR+FKU0A9CtejcF1TQAAAAAAAYFNAXI/C9Sh8U0CkcD0K14NTQOF6FK5HkVNASOF6FK6nU0DD9Shcj7JTQHsUrkfhulNAH4XrUbjOU0AK16NwPdpTQBSuR+F65FNAFK5H4XrkU0AAAAAAACBUQK5H4XoUHlRAuB6F61E4VEApXI/C9UhUQMVLN4lBUFRAexSuR+FKVEBmZmZmZlZUQFTjpZvEYFRA30+Nl25qVECkcD0K13NUQA==\",\"dtype\":\"float64\",\"shape\":[50]}},\"selected\":{\"id\":\"1534\",\"type\":\"Selection\"},\"selection_policy\":{\"id\":\"1533\",\"type\":\"UnionRenderers\"}},\"id\":\"1486\",\"type\":\"ColumnDataSource\"},{\"attributes\":{\"fill_color\":{\"value\":\"#1f77b4\"},\"line_color\":{\"value\":\"#1f77b4\"},\"size\":{\"units\":\"screen\",\"value\":5},\"x\":{\"field\":\"x\"},\"y\":{\"field\":\"y\"}},\"id\":\"1487\",\"type\":\"Circle\"},{\"attributes\":{},\"id\":\"1534\",\"type\":\"Selection\"},{\"attributes\":{\"bottom_units\":\"screen\",\"fill_alpha\":{\"value\":0.5},\"fill_color\":{\"value\":\"lightgrey\"},\"left_units\":\"screen\",\"level\":\"overlay\",\"line_alpha\":{\"value\":1.0},\"line_color\":{\"value\":\"black\"},\"line_dash\":[4,4],\"line_width\":{\"value\":2},\"render_mode\":\"css\",\"right_units\":\"screen\",\"top_units\":\"screen\"},\"id\":\"1537\",\"type\":\"BoxAnnotation\"},{\"attributes\":{\"callback\":null,\"data\":{\"x\":[1964,1965,1966,1967,1968,1969,1970,1971,1972,1973,1974,1975,1976,1977,1978,1979,1980,1981,1982,1983,1984,1985,1986,1987,1988,1989,1990,1991,1992,1993,1994,1995,1996,1997,1998,1999,2000,2001,2002,2003,2004,2005,2006,2007,2008,2009,2010,2011,2012,2013],\"y\":{\"__ndarray__\":\"FK5H4XrUUUCamZmZmclRQKRwPQrX41FAMzMzMzPjUUDD9Shcj+JRQOF6FK5H0VFACtejcD0KUkC4HoXrUQhSQLgehetRGFJAw/UoXI8iUkApXI/C9ThSQB+F61G4PlJArkfhehROUkCF61G4HnVSQM3MzMzMfFJAcT0K16OQUkBmZmZmZpZSQHE9CtejoFJAKVyPwvW4UkBI4XoUrrdSQEjhehSu11JArkfhehTeUkAAAAAAAPBSQPYoXI/CFVNAFK5H4XokU0Bcj8L1KCxTQB+F61G4PlNAexSuR+FKU0A9CtejcF1TQAAAAAAAYFNAXI/C9Sh8U0CkcD0K14NTQOF6FK5HkVNASOF6FK6nU0DD9Shcj7JTQHsUrkfhulNAH4XrUbjOU0AK16NwPdpTQBSuR+F65FNAFK5H4XrkU0AAAAAAACBUQK5H4XoUHlRAuB6F61E4VEApXI/C9UhUQMVLN4lBUFRAexSuR+FKVEBmZmZmZlZUQFTjpZvEYFRA30+Nl25qVECkcD0K13NUQA==\",\"dtype\":\"float64\",\"shape\":[50]}},\"selected\":{\"id\":\"1536\",\"type\":\"Selection\"},\"selection_policy\":{\"id\":\"1535\",\"type\":\"UnionRenderers\"}},\"id\":\"1491\",\"type\":\"ColumnDataSource\"},{\"attributes\":{\"data_source\":{\"id\":\"1486\",\"type\":\"ColumnDataSource\"},\"glyph\":{\"id\":\"1487\",\"type\":\"Circle\"},\"hover_glyph\":null,\"muted_glyph\":null,\"nonselection_glyph\":{\"id\":\"1488\",\"type\":\"Circle\"},\"selection_glyph\":null,\"view\":{\"id\":\"1490\",\"type\":\"CDSView\"}},\"id\":\"1489\",\"type\":\"GlyphRenderer\"},{\"attributes\":{},\"id\":\"1473\",\"type\":\"PanTool\"},{\"attributes\":{},\"id\":\"1474\",\"type\":\"WheelZoomTool\"},{\"attributes\":{\"overlay\":{\"id\":\"1537\",\"type\":\"BoxAnnotation\"}},\"id\":\"1475\",\"type\":\"BoxZoomTool\"},{\"attributes\":{},\"id\":\"1476\",\"type\":\"SaveTool\"},{\"attributes\":{\"text\":\"Life Expectancy in France\"},\"id\":\"1453\",\"type\":\"Title\"},{\"attributes\":{},\"id\":\"1477\",\"type\":\"ResetTool\"},{\"attributes\":{\"source\":{\"id\":\"1486\",\"type\":\"ColumnDataSource\"}},\"id\":\"1490\",\"type\":\"CDSView\"},{\"attributes\":{},\"id\":\"1478\",\"type\":\"HelpTool\"}],\"root_ids\":[\"1452\"]},\"title\":\"Bokeh Application\",\"version\":\"1.2.0\"}};\n",
       "  var render_items = [{\"docid\":\"2d860b86-a67b-48b2-883f-71429a4e5079\",\"roots\":{\"1452\":\"af2af6e6-2e89-44ea-8b5d-f6af757df656\"}}];\n",
       "  root.Bokeh.embed.embed_items_notebook(docs_json, render_items);\n",
       "\n",
       "  }\n",
       "  if (root.Bokeh !== undefined) {\n",
       "    embed_document(root);\n",
       "  } else {\n",
       "    var attempts = 0;\n",
       "    var timer = setInterval(function(root) {\n",
       "      if (root.Bokeh !== undefined) {\n",
       "        embed_document(root);\n",
       "        clearInterval(timer);\n",
       "      }\n",
       "      attempts++;\n",
       "      if (attempts > 100) {\n",
       "        console.log(\"Bokeh: ERROR: Unable to run BokehJS code because BokehJS library is missing\");\n",
       "        clearInterval(timer);\n",
       "      }\n",
       "    }, 10, root)\n",
       "  }\n",
       "})(window);"
      ],
      "application/vnd.bokehjs_exec.v0+json": ""
     },
     "metadata": {
      "application/vnd.bokehjs_exec.v0+json": {
       "id": "1452"
      }
     },
     "output_type": "display_data"
    }
   ],
   "source": [
    "plot = figure(x_axis_label='Year', y_axis_label='Life Expectancy', title='Life Expectancy in France',\n",
    "              plot_width=700, plot_height=400)\n",
    "plot.circle(gapminder['Year'], gapminder['life'], size=5)\n",
    "plot.line(gapminder['Year'], gapminder['life'], line_width=3)\n",
    "show(plot)"
   ]
  },
  {
   "cell_type": "code",
   "execution_count": 17,
   "metadata": {
    "colab": {},
    "colab_type": "code",
    "id": "cAidfMqcyVzY"
   },
   "outputs": [],
   "source": [
    "import numpy as np\n"
   ]
  },
  {
   "cell_type": "code",
   "execution_count": 18,
   "metadata": {
    "colab": {
     "base_uri": "https://localhost:8080/",
     "height": 417
    },
    "colab_type": "code",
    "id": "GHWLUAAoyVsv",
    "outputId": "6567a48f-ef4a-4d0a-8144-ef246d0a795e"
   },
   "outputs": [
    {
     "data": {
      "text/html": [
       "\n",
       "\n",
       "\n",
       "\n",
       "\n",
       "\n",
       "  <div class=\"bk-root\" id=\"c8355de5-bd66-4f3a-847a-19e65682f7b9\" data-root-id=\"1598\"></div>\n"
      ]
     },
     "metadata": {},
     "output_type": "display_data"
    },
    {
     "data": {
      "application/javascript": [
       "(function(root) {\n",
       "  function embed_document(root) {\n",
       "    \n",
       "  var docs_json = {\"776e3c11-0c5d-4580-83db-c1c783aaecdb\":{\"roots\":{\"references\":[{\"attributes\":{\"below\":[{\"id\":\"1609\",\"type\":\"LinearAxis\"}],\"center\":[{\"id\":\"1613\",\"type\":\"Grid\"},{\"id\":\"1618\",\"type\":\"Grid\"}],\"left\":[{\"id\":\"1614\",\"type\":\"LinearAxis\"}],\"plot_height\":400,\"plot_width\":400,\"renderers\":[{\"id\":\"1635\",\"type\":\"GlyphRenderer\"}],\"title\":{\"id\":\"1599\",\"type\":\"Title\"},\"toolbar\":{\"id\":\"1625\",\"type\":\"Toolbar\"},\"x_range\":{\"id\":\"1601\",\"type\":\"DataRange1d\"},\"x_scale\":{\"id\":\"1605\",\"type\":\"LinearScale\"},\"y_range\":{\"id\":\"1603\",\"type\":\"DataRange1d\"},\"y_scale\":{\"id\":\"1607\",\"type\":\"LinearScale\"}},\"id\":\"1598\",\"subtype\":\"Figure\",\"type\":\"Plot\"},{\"attributes\":{\"source\":{\"id\":\"1632\",\"type\":\"ColumnDataSource\"}},\"id\":\"1636\",\"type\":\"CDSView\"},{\"attributes\":{\"bottom\":{\"value\":0},\"fill_alpha\":{\"value\":0.1},\"fill_color\":{\"value\":\"#1f77b4\"},\"left\":{\"field\":\"left\"},\"line_alpha\":{\"value\":0.1},\"line_color\":{\"value\":\"#1f77b4\"},\"right\":{\"field\":\"right\"},\"top\":{\"field\":\"top\"}},\"id\":\"1634\",\"type\":\"Quad\"},{\"attributes\":{\"bottom\":{\"value\":0},\"fill_color\":{\"value\":\"orange\"},\"left\":{\"field\":\"left\"},\"line_color\":{\"value\":\"white\"},\"right\":{\"field\":\"right\"},\"top\":{\"field\":\"top\"}},\"id\":\"1633\",\"type\":\"Quad\"},{\"attributes\":{\"data_source\":{\"id\":\"1632\",\"type\":\"ColumnDataSource\"},\"glyph\":{\"id\":\"1633\",\"type\":\"Quad\"},\"hover_glyph\":null,\"muted_glyph\":null,\"nonselection_glyph\":{\"id\":\"1634\",\"type\":\"Quad\"},\"selection_glyph\":null,\"view\":{\"id\":\"1636\",\"type\":\"CDSView\"}},\"id\":\"1635\",\"type\":\"GlyphRenderer\"},{\"attributes\":{},\"id\":\"1680\",\"type\":\"BasicTickFormatter\"},{\"attributes\":{},\"id\":\"1619\",\"type\":\"PanTool\"},{\"attributes\":{},\"id\":\"1620\",\"type\":\"WheelZoomTool\"},{\"attributes\":{},\"id\":\"1685\",\"type\":\"Selection\"},{\"attributes\":{\"overlay\":{\"id\":\"1686\",\"type\":\"BoxAnnotation\"}},\"id\":\"1621\",\"type\":\"BoxZoomTool\"},{\"attributes\":{},\"id\":\"1622\",\"type\":\"SaveTool\"},{\"attributes\":{},\"id\":\"1623\",\"type\":\"ResetTool\"},{\"attributes\":{},\"id\":\"1684\",\"type\":\"UnionRenderers\"},{\"attributes\":{},\"id\":\"1624\",\"type\":\"HelpTool\"},{\"attributes\":{},\"id\":\"1610\",\"type\":\"BasicTicker\"},{\"attributes\":{\"active_drag\":\"auto\",\"active_inspect\":\"auto\",\"active_multi\":null,\"active_scroll\":\"auto\",\"active_tap\":\"auto\",\"tools\":[{\"id\":\"1619\",\"type\":\"PanTool\"},{\"id\":\"1620\",\"type\":\"WheelZoomTool\"},{\"id\":\"1621\",\"type\":\"BoxZoomTool\"},{\"id\":\"1622\",\"type\":\"SaveTool\"},{\"id\":\"1623\",\"type\":\"ResetTool\"},{\"id\":\"1624\",\"type\":\"HelpTool\"}]},\"id\":\"1625\",\"type\":\"Toolbar\"},{\"attributes\":{\"axis_label\":\"Sepal Length\",\"formatter\":{\"id\":\"1682\",\"type\":\"BasicTickFormatter\"},\"ticker\":{\"id\":\"1610\",\"type\":\"BasicTicker\"}},\"id\":\"1609\",\"type\":\"LinearAxis\"},{\"attributes\":{\"ticker\":{\"id\":\"1610\",\"type\":\"BasicTicker\"}},\"id\":\"1613\",\"type\":\"Grid\"},{\"attributes\":{},\"id\":\"1605\",\"type\":\"LinearScale\"},{\"attributes\":{},\"id\":\"1615\",\"type\":\"BasicTicker\"},{\"attributes\":{\"callback\":null},\"id\":\"1603\",\"type\":\"DataRange1d\"},{\"attributes\":{},\"id\":\"1682\",\"type\":\"BasicTickFormatter\"},{\"attributes\":{},\"id\":\"1607\",\"type\":\"LinearScale\"},{\"attributes\":{\"axis_label\":\"Probability\",\"formatter\":{\"id\":\"1680\",\"type\":\"BasicTickFormatter\"},\"ticker\":{\"id\":\"1615\",\"type\":\"BasicTicker\"}},\"id\":\"1614\",\"type\":\"LinearAxis\"},{\"attributes\":{\"bottom_units\":\"screen\",\"fill_alpha\":{\"value\":0.5},\"fill_color\":{\"value\":\"lightgrey\"},\"left_units\":\"screen\",\"level\":\"overlay\",\"line_alpha\":{\"value\":1.0},\"line_color\":{\"value\":\"black\"},\"line_dash\":[4,4],\"line_width\":{\"value\":2},\"render_mode\":\"css\",\"right_units\":\"screen\",\"top_units\":\"screen\"},\"id\":\"1686\",\"type\":\"BoxAnnotation\"},{\"attributes\":{\"callback\":null},\"id\":\"1601\",\"type\":\"DataRange1d\"},{\"attributes\":{\"callback\":null,\"data\":{\"left\":{\"__ndarray__\":\"MzMzMzMzEUCkcD0K16MSQBSuR+F6FBRAhetRuB6FFUD2KFyPwvUWQGZmZmZmZhhA16NwPQrXGUBI4XoUrkcbQLgehetRuBxAKVyPwvUoHkA=\",\"dtype\":\"float64\",\"shape\":[10]},\"right\":{\"__ndarray__\":\"pHA9CtejEkAUrkfhehQUQIXrUbgehRVA9ihcj8L1FkBmZmZmZmYYQNejcD0K1xlASOF6FK5HG0C4HoXrUbgcQClcj8L1KB5AmpmZmZmZH0A=\",\"dtype\":\"float64\",\"shape\":[10]},\"top\":{\"__ndarray__\":\"UFVVVVVVxT8ytJfQXkLbP3cJ7SW0l9A/9///////3z9xL6G9hPbSPwLtJbSX0N4/UFVVVVVV1T8px3Ecx3G8Pz17Ce0ltLc/FsdxHMdxvD8=\",\"dtype\":\"float64\",\"shape\":[10]}},\"selected\":{\"id\":\"1685\",\"type\":\"Selection\"},\"selection_policy\":{\"id\":\"1684\",\"type\":\"UnionRenderers\"}},\"id\":\"1632\",\"type\":\"ColumnDataSource\"},{\"attributes\":{\"text\":\"Histogram\"},\"id\":\"1599\",\"type\":\"Title\"},{\"attributes\":{\"dimension\":1,\"ticker\":{\"id\":\"1615\",\"type\":\"BasicTicker\"}},\"id\":\"1618\",\"type\":\"Grid\"}],\"root_ids\":[\"1598\"]},\"title\":\"Bokeh Application\",\"version\":\"1.2.0\"}};\n",
       "  var render_items = [{\"docid\":\"776e3c11-0c5d-4580-83db-c1c783aaecdb\",\"roots\":{\"1598\":\"c8355de5-bd66-4f3a-847a-19e65682f7b9\"}}];\n",
       "  root.Bokeh.embed.embed_items_notebook(docs_json, render_items);\n",
       "\n",
       "  }\n",
       "  if (root.Bokeh !== undefined) {\n",
       "    embed_document(root);\n",
       "  } else {\n",
       "    var attempts = 0;\n",
       "    var timer = setInterval(function(root) {\n",
       "      if (root.Bokeh !== undefined) {\n",
       "        embed_document(root);\n",
       "        clearInterval(timer);\n",
       "      }\n",
       "      attempts++;\n",
       "      if (attempts > 100) {\n",
       "        console.log(\"Bokeh: ERROR: Unable to run BokehJS code because BokehJS library is missing\");\n",
       "        clearInterval(timer);\n",
       "      }\n",
       "    }, 10, root)\n",
       "  }\n",
       "})(window);"
      ],
      "application/vnd.bokehjs_exec.v0+json": ""
     },
     "metadata": {
      "application/vnd.bokehjs_exec.v0+json": {
       "id": "1598"
      }
     },
     "output_type": "display_data"
    }
   ],
   "source": [
    "plot = figure(plot_width=400, plot_height=400, x_axis_label='Sepal Length', y_axis_label='Probability',\n",
    "             title='Histogram')\n",
    "hist, edges = np.histogram(flowers['sepal_length'], density=True, bins=10)\n",
    "plot.quad(top=hist, bottom=0, left=edges[:-1], right=edges[1:], line_color=\"white\", color='orange')\n",
    "show(plot)\n",
    "# 히스토그램을 그리기 위해 np를 같이 활용"
   ]
  },
  {
   "cell_type": "code",
   "execution_count": 19,
   "metadata": {
    "colab": {
     "base_uri": "https://localhost:8080/",
     "height": 417
    },
    "colab_type": "code",
    "id": "oRMPvwta0URH",
    "outputId": "c78d1fb1-6c03-4384-a1fe-c3e640be5087"
   },
   "outputs": [
    {
     "data": {
      "text/html": [
       "\n",
       "\n",
       "\n",
       "\n",
       "\n",
       "\n",
       "  <div class=\"bk-root\" id=\"3dd5348b-0483-4d65-8bf8-2dc2663c1302\" data-root-id=\"1735\"></div>\n"
      ]
     },
     "metadata": {},
     "output_type": "display_data"
    },
    {
     "data": {
      "application/javascript": [
       "(function(root) {\n",
       "  function embed_document(root) {\n",
       "    \n",
       "  var docs_json = {\"d52195fc-c0c6-4942-a2f5-f2a2af8e1f7b\":{\"roots\":{\"references\":[{\"attributes\":{\"below\":[{\"id\":\"1746\",\"type\":\"LinearAxis\"}],\"center\":[{\"id\":\"1750\",\"type\":\"Grid\"},{\"id\":\"1755\",\"type\":\"Grid\"}],\"left\":[{\"id\":\"1751\",\"type\":\"LinearAxis\"}],\"plot_height\":400,\"plot_width\":400,\"renderers\":[{\"id\":\"1765\",\"type\":\"GlyphRenderer\"}],\"title\":{\"id\":\"1736\",\"type\":\"Title\"},\"toolbar\":{\"id\":\"1758\",\"type\":\"Toolbar\"},\"x_range\":{\"id\":\"1738\",\"type\":\"DataRange1d\"},\"x_scale\":{\"id\":\"1742\",\"type\":\"LinearScale\"},\"y_range\":{\"id\":\"1740\",\"type\":\"DataRange1d\"},\"y_scale\":{\"id\":\"1744\",\"type\":\"LinearScale\"}},\"id\":\"1735\",\"subtype\":\"Figure\",\"type\":\"Plot\"},{\"attributes\":{\"text\":\"Petal Length vs. Sepal Length\"},\"id\":\"1736\",\"type\":\"Title\"},{\"attributes\":{\"fill_color\":{\"value\":\"#1f77b4\"},\"line_color\":{\"value\":\"#1f77b4\"},\"size\":{\"units\":\"screen\",\"value\":5},\"x\":{\"field\":\"x\"},\"y\":{\"field\":\"y\"}},\"id\":\"1762\",\"type\":\"Circle\"},{\"attributes\":{},\"id\":\"1822\",\"type\":\"UnionRenderers\"},{\"attributes\":{\"data_source\":{\"id\":\"1761\",\"type\":\"ColumnDataSource\"},\"glyph\":{\"id\":\"1762\",\"type\":\"Circle\"},\"hover_glyph\":null,\"muted_glyph\":null,\"nonselection_glyph\":{\"id\":\"1763\",\"type\":\"Circle\"},\"selection_glyph\":{\"id\":\"1764\",\"type\":\"Circle\"},\"view\":{\"id\":\"1766\",\"type\":\"CDSView\"}},\"id\":\"1765\",\"type\":\"GlyphRenderer\"},{\"attributes\":{\"fill_alpha\":{\"value\":0.3},\"fill_color\":{\"value\":\"grey\"},\"line_alpha\":{\"value\":0.1},\"line_color\":{\"value\":\"#1f77b4\"},\"size\":{\"units\":\"screen\",\"value\":5},\"x\":{\"field\":\"x\"},\"y\":{\"field\":\"y\"}},\"id\":\"1763\",\"type\":\"Circle\"},{\"attributes\":{\"axis_label\":\"Petal Length\",\"formatter\":{\"id\":\"1820\",\"type\":\"BasicTickFormatter\"},\"ticker\":{\"id\":\"1747\",\"type\":\"BasicTicker\"}},\"id\":\"1746\",\"type\":\"LinearAxis\"},{\"attributes\":{},\"id\":\"1820\",\"type\":\"BasicTickFormatter\"},{\"attributes\":{\"active_drag\":\"auto\",\"active_inspect\":\"auto\",\"active_multi\":null,\"active_scroll\":\"auto\",\"active_tap\":\"auto\",\"tools\":[{\"id\":\"1756\",\"type\":\"BoxSelectTool\"},{\"id\":\"1757\",\"type\":\"ResetTool\"}]},\"id\":\"1758\",\"type\":\"Toolbar\"},{\"attributes\":{},\"id\":\"1818\",\"type\":\"BasicTickFormatter\"},{\"attributes\":{},\"id\":\"1744\",\"type\":\"LinearScale\"},{\"attributes\":{},\"id\":\"1757\",\"type\":\"ResetTool\"},{\"attributes\":{},\"id\":\"1742\",\"type\":\"LinearScale\"},{\"attributes\":{},\"id\":\"1823\",\"type\":\"Selection\"},{\"attributes\":{},\"id\":\"1752\",\"type\":\"BasicTicker\"},{\"attributes\":{\"dimension\":1,\"ticker\":{\"id\":\"1752\",\"type\":\"BasicTicker\"}},\"id\":\"1755\",\"type\":\"Grid\"},{\"attributes\":{\"fill_color\":{\"value\":\"red\"},\"line_color\":{\"value\":\"red\"},\"size\":{\"units\":\"screen\",\"value\":5},\"x\":{\"field\":\"x\"},\"y\":{\"field\":\"y\"}},\"id\":\"1764\",\"type\":\"Circle\"},{\"attributes\":{\"bottom_units\":\"screen\",\"fill_alpha\":{\"value\":0.5},\"fill_color\":{\"value\":\"lightgrey\"},\"left_units\":\"screen\",\"level\":\"overlay\",\"line_alpha\":{\"value\":1.0},\"line_color\":{\"value\":\"black\"},\"line_dash\":[4,4],\"line_width\":{\"value\":2},\"render_mode\":\"css\",\"right_units\":\"screen\",\"top_units\":\"screen\"},\"id\":\"1824\",\"type\":\"BoxAnnotation\"},{\"attributes\":{\"callback\":null},\"id\":\"1738\",\"type\":\"DataRange1d\"},{\"attributes\":{\"axis_label\":\"Sepal Length\",\"formatter\":{\"id\":\"1818\",\"type\":\"BasicTickFormatter\"},\"ticker\":{\"id\":\"1752\",\"type\":\"BasicTicker\"}},\"id\":\"1751\",\"type\":\"LinearAxis\"},{\"attributes\":{\"callback\":null,\"data\":{\"x\":{\"__ndarray__\":\"ZmZmZmZm9j9mZmZmZmb2P83MzMzMzPQ/AAAAAAAA+D9mZmZmZmb2PzMzMzMzM/s/ZmZmZmZm9j8AAAAAAAD4P2ZmZmZmZvY/AAAAAAAA+D8AAAAAAAD4P5qZmZmZmfk/ZmZmZmZm9j+amZmZmZnxPzMzMzMzM/M/AAAAAAAA+D/NzMzMzMz0P2ZmZmZmZvY/MzMzMzMz+z8AAAAAAAD4PzMzMzMzM/s/AAAAAAAA+D8AAAAAAADwPzMzMzMzM/s/ZmZmZmZm/j+amZmZmZn5P5qZmZmZmfk/AAAAAAAA+D9mZmZmZmb2P5qZmZmZmfk/mpmZmZmZ+T8AAAAAAAD4PwAAAAAAAPg/ZmZmZmZm9j8AAAAAAAD4PzMzMzMzM/M/zczMzMzM9D9mZmZmZmb2P83MzMzMzPQ/AAAAAAAA+D/NzMzMzMz0P83MzMzMzPQ/zczMzMzM9D+amZmZmZn5P2ZmZmZmZv4/ZmZmZmZm9j+amZmZmZn5P2ZmZmZmZvY/AAAAAAAA+D9mZmZmZmb2P83MzMzMzBJAAAAAAAAAEkCamZmZmZkTQAAAAAAAABBAZmZmZmZmEkAAAAAAAAASQM3MzMzMzBJAZmZmZmZmCkBmZmZmZmYSQDMzMzMzMw9AAAAAAAAADEDNzMzMzMwQQAAAAAAAABBAzczMzMzMEkDNzMzMzMwMQJqZmZmZmRFAAAAAAAAAEkBmZmZmZmYQQAAAAAAAABJAMzMzMzMzD0AzMzMzMzMTQAAAAAAAABBAmpmZmZmZE0DNzMzMzMwSQDMzMzMzMxFAmpmZmZmZEUAzMzMzMzMTQAAAAAAAABRAAAAAAAAAEkAAAAAAAAAMQGZmZmZmZg5AmpmZmZmZDUAzMzMzMzMPQGZmZmZmZhRAAAAAAAAAEkAAAAAAAAASQM3MzMzMzBJAmpmZmZmZEUBmZmZmZmYQQAAAAAAAABBAmpmZmZmZEUBmZmZmZmYSQAAAAAAAABBAZmZmZmZmCkDNzMzMzMwQQM3MzMzMzBBAzczMzMzMEEAzMzMzMzMRQAAAAAAAAAhAZmZmZmZmEEAAAAAAAAAYQGZmZmZmZhRAmpmZmZmZF0BmZmZmZmYWQDMzMzMzMxdAZmZmZmZmGkAAAAAAAAASQDMzMzMzMxlAMzMzMzMzF0BmZmZmZmYYQGZmZmZmZhRAMzMzMzMzFUAAAAAAAAAWQAAAAAAAABRAZmZmZmZmFEAzMzMzMzMVQAAAAAAAABZAzczMzMzMGkCamZmZmZkbQAAAAAAAABRAzczMzMzMFkCamZmZmZkTQM3MzMzMzBpAmpmZmZmZE0DNzMzMzMwWQAAAAAAAABhAMzMzMzMzE0CamZmZmZkTQGZmZmZmZhZAMzMzMzMzF0BmZmZmZmYYQJqZmZmZmRlAZmZmZmZmFkBmZmZmZmYUQGZmZmZmZhZAZmZmZmZmGEBmZmZmZmYWQAAAAAAAABZAMzMzMzMzE0CamZmZmZkVQGZmZmZmZhZAZmZmZmZmFEBmZmZmZmYUQJqZmZmZmRdAzczMzMzMFkDNzMzMzMwUQAAAAAAAABRAzczMzMzMFECamZmZmZkVQGZmZmZmZhRA\",\"dtype\":\"float64\",\"shape\":[150]},\"y\":{\"__ndarray__\":\"ZmZmZmZmFECamZmZmZkTQM3MzMzMzBJAZmZmZmZmEkAAAAAAAAAUQJqZmZmZmRVAZmZmZmZmEkAAAAAAAAAUQJqZmZmZmRFAmpmZmZmZE0CamZmZmZkVQDMzMzMzMxNAMzMzMzMzE0AzMzMzMzMRQDMzMzMzMxdAzczMzMzMFkCamZmZmZkVQGZmZmZmZhRAzczMzMzMFkBmZmZmZmYUQJqZmZmZmRVAZmZmZmZmFEBmZmZmZmYSQGZmZmZmZhRAMzMzMzMzE0AAAAAAAAAUQAAAAAAAABRAzczMzMzMFEDNzMzMzMwUQM3MzMzMzBJAMzMzMzMzE0CamZmZmZkVQM3MzMzMzBRAAAAAAAAAFkCamZmZmZkTQAAAAAAAABRAAAAAAAAAFkCamZmZmZkTQJqZmZmZmRFAZmZmZmZmFEAAAAAAAAAUQAAAAAAAABJAmpmZmZmZEUAAAAAAAAAUQGZmZmZmZhRAMzMzMzMzE0BmZmZmZmYUQGZmZmZmZhJAMzMzMzMzFUAAAAAAAAAUQAAAAAAAABxAmpmZmZmZGUCamZmZmZkbQAAAAAAAABZAAAAAAAAAGkDNzMzMzMwWQDMzMzMzMxlAmpmZmZmZE0BmZmZmZmYaQM3MzMzMzBRAAAAAAAAAFECamZmZmZkXQAAAAAAAABhAZmZmZmZmGEBmZmZmZmYWQM3MzMzMzBpAZmZmZmZmFkAzMzMzMzMXQM3MzMzMzBhAZmZmZmZmFkCamZmZmZkXQGZmZmZmZhhAMzMzMzMzGUBmZmZmZmYYQJqZmZmZmRlAZmZmZmZmGkAzMzMzMzMbQM3MzMzMzBpAAAAAAAAAGEDNzMzMzMwWQAAAAAAAABZAAAAAAAAAFkAzMzMzMzMXQAAAAAAAABhAmpmZmZmZFUAAAAAAAAAYQM3MzMzMzBpAMzMzMzMzGUBmZmZmZmYWQAAAAAAAABZAAAAAAAAAFkBmZmZmZmYYQDMzMzMzMxdAAAAAAAAAFEBmZmZmZmYWQM3MzMzMzBZAzczMzMzMFkDNzMzMzMwYQGZmZmZmZhRAzczMzMzMFkAzMzMzMzMZQDMzMzMzMxdAZmZmZmZmHEAzMzMzMzMZQAAAAAAAABpAZmZmZmZmHkCamZmZmZkTQDMzMzMzMx1AzczMzMzMGkDNzMzMzMwcQAAAAAAAABpAmpmZmZmZGUAzMzMzMzMbQM3MzMzMzBZAMzMzMzMzF0CamZmZmZkZQAAAAAAAABpAzczMzMzMHkDNzMzMzMweQAAAAAAAABhAmpmZmZmZG0BmZmZmZmYWQM3MzMzMzB5AMzMzMzMzGUDNzMzMzMwaQM3MzMzMzBxAzczMzMzMGEBmZmZmZmYYQJqZmZmZmRlAzczMzMzMHECamZmZmZkdQJqZmZmZmR9AmpmZmZmZGUAzMzMzMzMZQGZmZmZmZhhAzczMzMzMHkAzMzMzMzMZQJqZmZmZmRlAAAAAAAAAGECamZmZmZkbQM3MzMzMzBpAmpmZmZmZG0AzMzMzMzMXQDMzMzMzMxtAzczMzMzMGkDNzMzMzMwaQDMzMzMzMxlAAAAAAAAAGkDNzMzMzMwYQJqZmZmZmRdA\",\"dtype\":\"float64\",\"shape\":[150]}},\"selected\":{\"id\":\"1823\",\"type\":\"Selection\"},\"selection_policy\":{\"id\":\"1822\",\"type\":\"UnionRenderers\"}},\"id\":\"1761\",\"type\":\"ColumnDataSource\"},{\"attributes\":{\"callback\":null,\"overlay\":{\"id\":\"1824\",\"type\":\"BoxAnnotation\"}},\"id\":\"1756\",\"type\":\"BoxSelectTool\"},{\"attributes\":{\"source\":{\"id\":\"1761\",\"type\":\"ColumnDataSource\"}},\"id\":\"1766\",\"type\":\"CDSView\"},{\"attributes\":{\"ticker\":{\"id\":\"1747\",\"type\":\"BasicTicker\"}},\"id\":\"1750\",\"type\":\"Grid\"},{\"attributes\":{},\"id\":\"1747\",\"type\":\"BasicTicker\"},{\"attributes\":{\"callback\":null},\"id\":\"1740\",\"type\":\"DataRange1d\"}],\"root_ids\":[\"1735\"]},\"title\":\"Bokeh Application\",\"version\":\"1.2.0\"}};\n",
       "  var render_items = [{\"docid\":\"d52195fc-c0c6-4942-a2f5-f2a2af8e1f7b\",\"roots\":{\"1735\":\"3dd5348b-0483-4d65-8bf8-2dc2663c1302\"}}];\n",
       "  root.Bokeh.embed.embed_items_notebook(docs_json, render_items);\n",
       "\n",
       "  }\n",
       "  if (root.Bokeh !== undefined) {\n",
       "    embed_document(root);\n",
       "  } else {\n",
       "    var attempts = 0;\n",
       "    var timer = setInterval(function(root) {\n",
       "      if (root.Bokeh !== undefined) {\n",
       "        embed_document(root);\n",
       "        clearInterval(timer);\n",
       "      }\n",
       "      attempts++;\n",
       "      if (attempts > 100) {\n",
       "        console.log(\"Bokeh: ERROR: Unable to run BokehJS code because BokehJS library is missing\");\n",
       "        clearInterval(timer);\n",
       "      }\n",
       "    }, 10, root)\n",
       "  }\n",
       "})(window);"
      ],
      "application/vnd.bokehjs_exec.v0+json": ""
     },
     "metadata": {
      "application/vnd.bokehjs_exec.v0+json": {
       "id": "1735"
      }
     },
     "output_type": "display_data"
    }
   ],
   "source": [
    "plot = figure(plot_width=400, plot_height=400, tools='box_select, reset',\n",
    "              x_axis_label='Petal Length', y_axis_label='Sepal Length', title='Petal Length vs. Sepal Length')\n",
    "plot.circle(flowers['petal_length'], flowers['sepal_length'], size=5,\n",
    "           selection_color='red', nonselection_fill_alpha=0.3, nonselection_fill_color='grey')\n",
    "show(plot)\n",
    "# box_select : 원하는 부분 선택"
   ]
  },
  {
   "cell_type": "code",
   "execution_count": 20,
   "metadata": {
    "colab": {},
    "colab_type": "code",
    "id": "1XmGtd1z0Uhp"
   },
   "outputs": [],
   "source": [
    "from bokeh.models import HoverTool\n"
   ]
  },
  {
   "cell_type": "code",
   "execution_count": 21,
   "metadata": {
    "colab": {
     "base_uri": "https://localhost:8080/",
     "height": 417
    },
    "colab_type": "code",
    "id": "njk_VyTF0Ul-",
    "outputId": "4535dc93-649b-4297-c6e9-476b061276ea"
   },
   "outputs": [
    {
     "data": {
      "text/html": [
       "\n",
       "\n",
       "\n",
       "\n",
       "\n",
       "\n",
       "  <div class=\"bk-root\" id=\"c73c6f8e-5612-49b0-a43a-c4b8c8ac036b\" data-root-id=\"1874\"></div>\n"
      ]
     },
     "metadata": {},
     "output_type": "display_data"
    },
    {
     "data": {
      "application/javascript": [
       "(function(root) {\n",
       "  function embed_document(root) {\n",
       "    \n",
       "  var docs_json = {\"df3eaffe-f9b6-467a-aca2-c2f71b1edcf8\":{\"roots\":{\"references\":[{\"attributes\":{\"below\":[{\"id\":\"1885\",\"type\":\"LinearAxis\"}],\"center\":[{\"id\":\"1889\",\"type\":\"Grid\"},{\"id\":\"1894\",\"type\":\"Grid\"}],\"left\":[{\"id\":\"1890\",\"type\":\"LinearAxis\"}],\"plot_height\":400,\"plot_width\":400,\"renderers\":[{\"id\":\"1901\",\"type\":\"GlyphRenderer\"}],\"title\":{\"id\":\"1875\",\"type\":\"Title\"},\"toolbar\":{\"id\":\"1895\",\"type\":\"Toolbar\"},\"x_range\":{\"id\":\"1877\",\"type\":\"DataRange1d\"},\"x_scale\":{\"id\":\"1881\",\"type\":\"LinearScale\"},\"y_range\":{\"id\":\"1879\",\"type\":\"DataRange1d\"},\"y_scale\":{\"id\":\"1883\",\"type\":\"LinearScale\"}},\"id\":\"1874\",\"subtype\":\"Figure\",\"type\":\"Plot\"},{\"attributes\":{\"axis_label\":\"Sepal Length\",\"formatter\":{\"id\":\"1962\",\"type\":\"BasicTickFormatter\"},\"ticker\":{\"id\":\"1891\",\"type\":\"BasicTicker\"}},\"id\":\"1890\",\"type\":\"LinearAxis\"},{\"attributes\":{\"axis_label\":\"Petal Length\",\"formatter\":{\"id\":\"1964\",\"type\":\"BasicTickFormatter\"},\"ticker\":{\"id\":\"1886\",\"type\":\"BasicTicker\"}},\"id\":\"1885\",\"type\":\"LinearAxis\"},{\"attributes\":{},\"id\":\"1891\",\"type\":\"BasicTicker\"},{\"attributes\":{},\"id\":\"1886\",\"type\":\"BasicTicker\"},{\"attributes\":{\"dimension\":1,\"ticker\":{\"id\":\"1891\",\"type\":\"BasicTicker\"}},\"id\":\"1894\",\"type\":\"Grid\"},{\"attributes\":{\"ticker\":{\"id\":\"1886\",\"type\":\"BasicTicker\"}},\"id\":\"1889\",\"type\":\"Grid\"},{\"attributes\":{\"fill_alpha\":{\"value\":0.1},\"fill_color\":{\"value\":\"#1f77b4\"},\"line_alpha\":{\"value\":0.1},\"line_color\":{\"value\":\"#1f77b4\"},\"size\":{\"units\":\"screen\",\"value\":5},\"x\":{\"field\":\"x\"},\"y\":{\"field\":\"y\"}},\"id\":\"1899\",\"type\":\"Circle\"},{\"attributes\":{},\"id\":\"1964\",\"type\":\"BasicTickFormatter\"},{\"attributes\":{\"fill_color\":{\"value\":\"#1f77b4\"},\"line_color\":{\"value\":\"#1f77b4\"},\"size\":{\"units\":\"screen\",\"value\":5},\"x\":{\"field\":\"x\"},\"y\":{\"field\":\"y\"}},\"id\":\"1898\",\"type\":\"Circle\"},{\"attributes\":{\"data_source\":{\"id\":\"1897\",\"type\":\"ColumnDataSource\"},\"glyph\":{\"id\":\"1898\",\"type\":\"Circle\"},\"hover_glyph\":{\"id\":\"1900\",\"type\":\"Circle\"},\"muted_glyph\":null,\"nonselection_glyph\":{\"id\":\"1899\",\"type\":\"Circle\"},\"selection_glyph\":null,\"view\":{\"id\":\"1902\",\"type\":\"CDSView\"}},\"id\":\"1901\",\"type\":\"GlyphRenderer\"},{\"attributes\":{\"callback\":null},\"id\":\"1877\",\"type\":\"DataRange1d\"},{\"attributes\":{},\"id\":\"1966\",\"type\":\"UnionRenderers\"},{\"attributes\":{\"callback\":null,\"data\":{\"x\":{\"__ndarray__\":\"ZmZmZmZm9j9mZmZmZmb2P83MzMzMzPQ/AAAAAAAA+D9mZmZmZmb2PzMzMzMzM/s/ZmZmZmZm9j8AAAAAAAD4P2ZmZmZmZvY/AAAAAAAA+D8AAAAAAAD4P5qZmZmZmfk/ZmZmZmZm9j+amZmZmZnxPzMzMzMzM/M/AAAAAAAA+D/NzMzMzMz0P2ZmZmZmZvY/MzMzMzMz+z8AAAAAAAD4PzMzMzMzM/s/AAAAAAAA+D8AAAAAAADwPzMzMzMzM/s/ZmZmZmZm/j+amZmZmZn5P5qZmZmZmfk/AAAAAAAA+D9mZmZmZmb2P5qZmZmZmfk/mpmZmZmZ+T8AAAAAAAD4PwAAAAAAAPg/ZmZmZmZm9j8AAAAAAAD4PzMzMzMzM/M/zczMzMzM9D9mZmZmZmb2P83MzMzMzPQ/AAAAAAAA+D/NzMzMzMz0P83MzMzMzPQ/zczMzMzM9D+amZmZmZn5P2ZmZmZmZv4/ZmZmZmZm9j+amZmZmZn5P2ZmZmZmZvY/AAAAAAAA+D9mZmZmZmb2P83MzMzMzBJAAAAAAAAAEkCamZmZmZkTQAAAAAAAABBAZmZmZmZmEkAAAAAAAAASQM3MzMzMzBJAZmZmZmZmCkBmZmZmZmYSQDMzMzMzMw9AAAAAAAAADEDNzMzMzMwQQAAAAAAAABBAzczMzMzMEkDNzMzMzMwMQJqZmZmZmRFAAAAAAAAAEkBmZmZmZmYQQAAAAAAAABJAMzMzMzMzD0AzMzMzMzMTQAAAAAAAABBAmpmZmZmZE0DNzMzMzMwSQDMzMzMzMxFAmpmZmZmZEUAzMzMzMzMTQAAAAAAAABRAAAAAAAAAEkAAAAAAAAAMQGZmZmZmZg5AmpmZmZmZDUAzMzMzMzMPQGZmZmZmZhRAAAAAAAAAEkAAAAAAAAASQM3MzMzMzBJAmpmZmZmZEUBmZmZmZmYQQAAAAAAAABBAmpmZmZmZEUBmZmZmZmYSQAAAAAAAABBAZmZmZmZmCkDNzMzMzMwQQM3MzMzMzBBAzczMzMzMEEAzMzMzMzMRQAAAAAAAAAhAZmZmZmZmEEAAAAAAAAAYQGZmZmZmZhRAmpmZmZmZF0BmZmZmZmYWQDMzMzMzMxdAZmZmZmZmGkAAAAAAAAASQDMzMzMzMxlAMzMzMzMzF0BmZmZmZmYYQGZmZmZmZhRAMzMzMzMzFUAAAAAAAAAWQAAAAAAAABRAZmZmZmZmFEAzMzMzMzMVQAAAAAAAABZAzczMzMzMGkCamZmZmZkbQAAAAAAAABRAzczMzMzMFkCamZmZmZkTQM3MzMzMzBpAmpmZmZmZE0DNzMzMzMwWQAAAAAAAABhAMzMzMzMzE0CamZmZmZkTQGZmZmZmZhZAMzMzMzMzF0BmZmZmZmYYQJqZmZmZmRlAZmZmZmZmFkBmZmZmZmYUQGZmZmZmZhZAZmZmZmZmGEBmZmZmZmYWQAAAAAAAABZAMzMzMzMzE0CamZmZmZkVQGZmZmZmZhZAZmZmZmZmFEBmZmZmZmYUQJqZmZmZmRdAzczMzMzMFkDNzMzMzMwUQAAAAAAAABRAzczMzMzMFECamZmZmZkVQGZmZmZmZhRA\",\"dtype\":\"float64\",\"shape\":[150]},\"y\":{\"__ndarray__\":\"ZmZmZmZmFECamZmZmZkTQM3MzMzMzBJAZmZmZmZmEkAAAAAAAAAUQJqZmZmZmRVAZmZmZmZmEkAAAAAAAAAUQJqZmZmZmRFAmpmZmZmZE0CamZmZmZkVQDMzMzMzMxNAMzMzMzMzE0AzMzMzMzMRQDMzMzMzMxdAzczMzMzMFkCamZmZmZkVQGZmZmZmZhRAzczMzMzMFkBmZmZmZmYUQJqZmZmZmRVAZmZmZmZmFEBmZmZmZmYSQGZmZmZmZhRAMzMzMzMzE0AAAAAAAAAUQAAAAAAAABRAzczMzMzMFEDNzMzMzMwUQM3MzMzMzBJAMzMzMzMzE0CamZmZmZkVQM3MzMzMzBRAAAAAAAAAFkCamZmZmZkTQAAAAAAAABRAAAAAAAAAFkCamZmZmZkTQJqZmZmZmRFAZmZmZmZmFEAAAAAAAAAUQAAAAAAAABJAmpmZmZmZEUAAAAAAAAAUQGZmZmZmZhRAMzMzMzMzE0BmZmZmZmYUQGZmZmZmZhJAMzMzMzMzFUAAAAAAAAAUQAAAAAAAABxAmpmZmZmZGUCamZmZmZkbQAAAAAAAABZAAAAAAAAAGkDNzMzMzMwWQDMzMzMzMxlAmpmZmZmZE0BmZmZmZmYaQM3MzMzMzBRAAAAAAAAAFECamZmZmZkXQAAAAAAAABhAZmZmZmZmGEBmZmZmZmYWQM3MzMzMzBpAZmZmZmZmFkAzMzMzMzMXQM3MzMzMzBhAZmZmZmZmFkCamZmZmZkXQGZmZmZmZhhAMzMzMzMzGUBmZmZmZmYYQJqZmZmZmRlAZmZmZmZmGkAzMzMzMzMbQM3MzMzMzBpAAAAAAAAAGEDNzMzMzMwWQAAAAAAAABZAAAAAAAAAFkAzMzMzMzMXQAAAAAAAABhAmpmZmZmZFUAAAAAAAAAYQM3MzMzMzBpAMzMzMzMzGUBmZmZmZmYWQAAAAAAAABZAAAAAAAAAFkBmZmZmZmYYQDMzMzMzMxdAAAAAAAAAFEBmZmZmZmYWQM3MzMzMzBZAzczMzMzMFkDNzMzMzMwYQGZmZmZmZhRAzczMzMzMFkAzMzMzMzMZQDMzMzMzMxdAZmZmZmZmHEAzMzMzMzMZQAAAAAAAABpAZmZmZmZmHkCamZmZmZkTQDMzMzMzMx1AzczMzMzMGkDNzMzMzMwcQAAAAAAAABpAmpmZmZmZGUAzMzMzMzMbQM3MzMzMzBZAMzMzMzMzF0CamZmZmZkZQAAAAAAAABpAzczMzMzMHkDNzMzMzMweQAAAAAAAABhAmpmZmZmZG0BmZmZmZmYWQM3MzMzMzB5AMzMzMzMzGUDNzMzMzMwaQM3MzMzMzBxAzczMzMzMGEBmZmZmZmYYQJqZmZmZmRlAzczMzMzMHECamZmZmZkdQJqZmZmZmR9AmpmZmZmZGUAzMzMzMzMZQGZmZmZmZhhAzczMzMzMHkAzMzMzMzMZQJqZmZmZmRlAAAAAAAAAGECamZmZmZkbQM3MzMzMzBpAmpmZmZmZG0AzMzMzMzMXQDMzMzMzMxtAzczMzMzMGkDNzMzMzMwaQDMzMzMzMxlAAAAAAAAAGkDNzMzMzMwYQJqZmZmZmRdA\",\"dtype\":\"float64\",\"shape\":[150]}},\"selected\":{\"id\":\"1967\",\"type\":\"Selection\"},\"selection_policy\":{\"id\":\"1966\",\"type\":\"UnionRenderers\"}},\"id\":\"1897\",\"type\":\"ColumnDataSource\"},{\"attributes\":{\"callback\":null,\"mode\":\"vline\",\"tooltips\":null},\"id\":\"1873\",\"type\":\"HoverTool\"},{\"attributes\":{\"fill_alpha\":{\"value\":0.5},\"fill_color\":{\"value\":\"firebrick\"},\"line_alpha\":{\"value\":0.5},\"line_color\":{\"value\":\"white\"},\"size\":{\"units\":\"screen\",\"value\":5},\"x\":{\"field\":\"x\"},\"y\":{\"field\":\"y\"}},\"id\":\"1900\",\"type\":\"Circle\"},{\"attributes\":{},\"id\":\"1962\",\"type\":\"BasicTickFormatter\"},{\"attributes\":{},\"id\":\"1967\",\"type\":\"Selection\"},{\"attributes\":{\"text\":\"Petal Length vs. Sepal Length\"},\"id\":\"1875\",\"type\":\"Title\"},{\"attributes\":{\"source\":{\"id\":\"1897\",\"type\":\"ColumnDataSource\"}},\"id\":\"1902\",\"type\":\"CDSView\"},{\"attributes\":{\"callback\":null},\"id\":\"1879\",\"type\":\"DataRange1d\"},{\"attributes\":{},\"id\":\"1881\",\"type\":\"LinearScale\"},{\"attributes\":{\"active_drag\":\"auto\",\"active_inspect\":\"auto\",\"active_multi\":null,\"active_scroll\":\"auto\",\"active_tap\":\"auto\",\"tools\":[{\"id\":\"1873\",\"type\":\"HoverTool\"}]},\"id\":\"1895\",\"type\":\"Toolbar\"},{\"attributes\":{},\"id\":\"1883\",\"type\":\"LinearScale\"}],\"root_ids\":[\"1874\"]},\"title\":\"Bokeh Application\",\"version\":\"1.2.0\"}};\n",
       "  var render_items = [{\"docid\":\"df3eaffe-f9b6-467a-aca2-c2f71b1edcf8\",\"roots\":{\"1874\":\"c73c6f8e-5612-49b0-a43a-c4b8c8ac036b\"}}];\n",
       "  root.Bokeh.embed.embed_items_notebook(docs_json, render_items);\n",
       "\n",
       "  }\n",
       "  if (root.Bokeh !== undefined) {\n",
       "    embed_document(root);\n",
       "  } else {\n",
       "    var attempts = 0;\n",
       "    var timer = setInterval(function(root) {\n",
       "      if (root.Bokeh !== undefined) {\n",
       "        embed_document(root);\n",
       "        clearInterval(timer);\n",
       "      }\n",
       "      attempts++;\n",
       "      if (attempts > 100) {\n",
       "        console.log(\"Bokeh: ERROR: Unable to run BokehJS code because BokehJS library is missing\");\n",
       "        clearInterval(timer);\n",
       "      }\n",
       "    }, 10, root)\n",
       "  }\n",
       "})(window);"
      ],
      "application/vnd.bokehjs_exec.v0+json": ""
     },
     "metadata": {
      "application/vnd.bokehjs_exec.v0+json": {
       "id": "1874"
      }
     },
     "output_type": "display_data"
    }
   ],
   "source": [
    "hover = HoverTool(tooltips=None, mode='vline')\n",
    "plot = figure(plot_width=400, plot_height=400, tools=[hover],\n",
    "              x_axis_label='Petal Length', y_axis_label='Sepal Length', title='Petal Length vs. Sepal Length')\n",
    "plot.circle(flowers['petal_length'], flowers['sepal_length'], size=5,\n",
    "            hover_fill_color='firebrick', hover_alpha=0.5, hover_line_color='white')\n",
    "show(plot)\n",
    "# 마우스를 갖다대면 색깔 변화 vline : 세로선으로 색변화함 tools에 hover포함시켜야함"
   ]
  },
  {
   "cell_type": "code",
   "execution_count": 22,
   "metadata": {
    "colab": {},
    "colab_type": "code",
    "id": "iE0APpne0UtK"
   },
   "outputs": [],
   "source": [
    "from bokeh.models import ColumnDataSource"
   ]
  },
  {
   "cell_type": "code",
   "execution_count": 23,
   "metadata": {
    "colab": {
     "base_uri": "https://localhost:8080/",
     "height": 417
    },
    "colab_type": "code",
    "id": "0qEJ8ln60UzG",
    "outputId": "16026457-e1ec-4bd3-d6ba-20c73a932674"
   },
   "outputs": [
    {
     "data": {
      "text/html": [
       "\n",
       "\n",
       "\n",
       "\n",
       "\n",
       "\n",
       "  <div class=\"bk-root\" id=\"93988e56-7bae-47ef-b9f3-39af788f8320\" data-root-id=\"2012\"></div>\n"
      ]
     },
     "metadata": {},
     "output_type": "display_data"
    },
    {
     "data": {
      "application/javascript": [
       "(function(root) {\n",
       "  function embed_document(root) {\n",
       "    \n",
       "  var docs_json = {\"82c0c127-8a76-4475-b98e-342c071ea92d\":{\"roots\":{\"references\":[{\"attributes\":{\"below\":[{\"id\":\"2023\",\"type\":\"LinearAxis\"}],\"center\":[{\"id\":\"2027\",\"type\":\"Grid\"},{\"id\":\"2032\",\"type\":\"Grid\"}],\"left\":[{\"id\":\"2028\",\"type\":\"LinearAxis\"}],\"plot_height\":400,\"plot_width\":400,\"renderers\":[{\"id\":\"2038\",\"type\":\"GlyphRenderer\"}],\"title\":{\"id\":\"2013\",\"type\":\"Title\"},\"toolbar\":{\"id\":\"2033\",\"type\":\"Toolbar\"},\"x_range\":{\"id\":\"2015\",\"type\":\"DataRange1d\"},\"x_scale\":{\"id\":\"2019\",\"type\":\"LinearScale\"},\"y_range\":{\"id\":\"2017\",\"type\":\"DataRange1d\"},\"y_scale\":{\"id\":\"2021\",\"type\":\"LinearScale\"}},\"id\":\"2012\",\"subtype\":\"Figure\",\"type\":\"Plot\"},{\"attributes\":{},\"id\":\"2111\",\"type\":\"Selection\"},{\"attributes\":{\"callback\":null},\"id\":\"2015\",\"type\":\"DataRange1d\"},{\"attributes\":{\"text\":\"Petal Length vs. Sepal Length\"},\"id\":\"2013\",\"type\":\"Title\"},{\"attributes\":{\"callback\":null},\"id\":\"2017\",\"type\":\"DataRange1d\"},{\"attributes\":{\"source\":{\"id\":\"2010\",\"type\":\"ColumnDataSource\"}},\"id\":\"2039\",\"type\":\"CDSView\"},{\"attributes\":{\"callback\":null,\"data\":{\"index\":[0,1,2,3,4,5,6,7,8,9,10,11,12,13,14,15,16,17,18,19,20,21,22,23,24,25,26,27,28,29,30,31,32,33,34,35,36,37,38,39,40,41,42,43,44,45,46,47,48,49,50,51,52,53,54,55,56,57,58,59,60,61,62,63,64,65,66,67,68,69,70,71,72,73,74,75,76,77,78,79,80,81,82,83,84,85,86,87,88,89,90,91,92,93,94,95,96,97,98,99,100,101,102,103,104,105,106,107,108,109,110,111,112,113,114,115,116,117,118,119,120,121,122,123,124,125,126,127,128,129,130,131,132,133,134,135,136,137,138,139,140,141,142,143,144,145,146,147,148,149],\"petal_length\":{\"__ndarray__\":\"ZmZmZmZm9j9mZmZmZmb2P83MzMzMzPQ/AAAAAAAA+D9mZmZmZmb2PzMzMzMzM/s/ZmZmZmZm9j8AAAAAAAD4P2ZmZmZmZvY/AAAAAAAA+D8AAAAAAAD4P5qZmZmZmfk/ZmZmZmZm9j+amZmZmZnxPzMzMzMzM/M/AAAAAAAA+D/NzMzMzMz0P2ZmZmZmZvY/MzMzMzMz+z8AAAAAAAD4PzMzMzMzM/s/AAAAAAAA+D8AAAAAAADwPzMzMzMzM/s/ZmZmZmZm/j+amZmZmZn5P5qZmZmZmfk/AAAAAAAA+D9mZmZmZmb2P5qZmZmZmfk/mpmZmZmZ+T8AAAAAAAD4PwAAAAAAAPg/ZmZmZmZm9j8AAAAAAAD4PzMzMzMzM/M/zczMzMzM9D9mZmZmZmb2P83MzMzMzPQ/AAAAAAAA+D/NzMzMzMz0P83MzMzMzPQ/zczMzMzM9D+amZmZmZn5P2ZmZmZmZv4/ZmZmZmZm9j+amZmZmZn5P2ZmZmZmZvY/AAAAAAAA+D9mZmZmZmb2P83MzMzMzBJAAAAAAAAAEkCamZmZmZkTQAAAAAAAABBAZmZmZmZmEkAAAAAAAAASQM3MzMzMzBJAZmZmZmZmCkBmZmZmZmYSQDMzMzMzMw9AAAAAAAAADEDNzMzMzMwQQAAAAAAAABBAzczMzMzMEkDNzMzMzMwMQJqZmZmZmRFAAAAAAAAAEkBmZmZmZmYQQAAAAAAAABJAMzMzMzMzD0AzMzMzMzMTQAAAAAAAABBAmpmZmZmZE0DNzMzMzMwSQDMzMzMzMxFAmpmZmZmZEUAzMzMzMzMTQAAAAAAAABRAAAAAAAAAEkAAAAAAAAAMQGZmZmZmZg5AmpmZmZmZDUAzMzMzMzMPQGZmZmZmZhRAAAAAAAAAEkAAAAAAAAASQM3MzMzMzBJAmpmZmZmZEUBmZmZmZmYQQAAAAAAAABBAmpmZmZmZEUBmZmZmZmYSQAAAAAAAABBAZmZmZmZmCkDNzMzMzMwQQM3MzMzMzBBAzczMzMzMEEAzMzMzMzMRQAAAAAAAAAhAZmZmZmZmEEAAAAAAAAAYQGZmZmZmZhRAmpmZmZmZF0BmZmZmZmYWQDMzMzMzMxdAZmZmZmZmGkAAAAAAAAASQDMzMzMzMxlAMzMzMzMzF0BmZmZmZmYYQGZmZmZmZhRAMzMzMzMzFUAAAAAAAAAWQAAAAAAAABRAZmZmZmZmFEAzMzMzMzMVQAAAAAAAABZAzczMzMzMGkCamZmZmZkbQAAAAAAAABRAzczMzMzMFkCamZmZmZkTQM3MzMzMzBpAmpmZmZmZE0DNzMzMzMwWQAAAAAAAABhAMzMzMzMzE0CamZmZmZkTQGZmZmZmZhZAMzMzMzMzF0BmZmZmZmYYQJqZmZmZmRlAZmZmZmZmFkBmZmZmZmYUQGZmZmZmZhZAZmZmZmZmGEBmZmZmZmYWQAAAAAAAABZAMzMzMzMzE0CamZmZmZkVQGZmZmZmZhZAZmZmZmZmFEBmZmZmZmYUQJqZmZmZmRdAzczMzMzMFkDNzMzMzMwUQAAAAAAAABRAzczMzMzMFECamZmZmZkVQGZmZmZmZhRA\",\"dtype\":\"float64\",\"shape\":[150]},\"petal_width\":{\"__ndarray__\":\"mpmZmZmZyT+amZmZmZnJP5qZmZmZmck/mpmZmZmZyT+amZmZmZnJP5qZmZmZmdk/MzMzMzMz0z+amZmZmZnJP5qZmZmZmck/mpmZmZmZuT+amZmZmZnJP5qZmZmZmck/mpmZmZmZuT+amZmZmZm5P5qZmZmZmck/mpmZmZmZ2T+amZmZmZnZPzMzMzMzM9M/MzMzMzMz0z8zMzMzMzPTP5qZmZmZmck/mpmZmZmZ2T+amZmZmZnJPwAAAAAAAOA/mpmZmZmZyT+amZmZmZnJP5qZmZmZmdk/mpmZmZmZyT+amZmZmZnJP5qZmZmZmck/mpmZmZmZyT+amZmZmZnZP5qZmZmZmbk/mpmZmZmZyT+amZmZmZnJP5qZmZmZmck/mpmZmZmZyT+amZmZmZm5P5qZmZmZmck/mpmZmZmZyT8zMzMzMzPTPzMzMzMzM9M/mpmZmZmZyT8zMzMzMzPjP5qZmZmZmdk/MzMzMzMz0z+amZmZmZnJP5qZmZmZmck/mpmZmZmZyT+amZmZmZnJP2ZmZmZmZvY/AAAAAAAA+D8AAAAAAAD4P83MzMzMzPQ/AAAAAAAA+D/NzMzMzMz0P5qZmZmZmfk/AAAAAAAA8D/NzMzMzMz0P2ZmZmZmZvY/AAAAAAAA8D8AAAAAAAD4PwAAAAAAAPA/ZmZmZmZm9j/NzMzMzMz0P2ZmZmZmZvY/AAAAAAAA+D8AAAAAAADwPwAAAAAAAPg/mpmZmZmZ8T/NzMzMzMz8P83MzMzMzPQ/AAAAAAAA+D8zMzMzMzPzP83MzMzMzPQ/ZmZmZmZm9j9mZmZmZmb2PzMzMzMzM/s/AAAAAAAA+D8AAAAAAADwP5qZmZmZmfE/AAAAAAAA8D8zMzMzMzPzP5qZmZmZmfk/AAAAAAAA+D+amZmZmZn5PwAAAAAAAPg/zczMzMzM9D/NzMzMzMz0P83MzMzMzPQ/MzMzMzMz8z9mZmZmZmb2PzMzMzMzM/M/AAAAAAAA8D/NzMzMzMz0PzMzMzMzM/M/zczMzMzM9D/NzMzMzMz0P5qZmZmZmfE/zczMzMzM9D8AAAAAAAAEQGZmZmZmZv4/zczMzMzMAEDNzMzMzMz8P5qZmZmZmQFAzczMzMzMAEAzMzMzMzP7P83MzMzMzPw/zczMzMzM/D8AAAAAAAAEQAAAAAAAAABAZmZmZmZm/j/NzMzMzMwAQAAAAAAAAABAMzMzMzMzA0BmZmZmZmYCQM3MzMzMzPw/mpmZmZmZAUBmZmZmZmYCQAAAAAAAAPg/ZmZmZmZmAkAAAAAAAAAAQAAAAAAAAABAzczMzMzM/D/NzMzMzMwAQM3MzMzMzPw/zczMzMzM/D/NzMzMzMz8P83MzMzMzABAmpmZmZmZ+T9mZmZmZmb+PwAAAAAAAABAmpmZmZmZAUAAAAAAAAD4P2ZmZmZmZvY/ZmZmZmZmAkAzMzMzMzMDQM3MzMzMzPw/zczMzMzM/D/NzMzMzMwAQDMzMzMzMwNAZmZmZmZmAkBmZmZmZmb+P2ZmZmZmZgJAAAAAAAAABEBmZmZmZmYCQGZmZmZmZv4/AAAAAAAAAEBmZmZmZmYCQM3MzMzMzPw/\",\"dtype\":\"float64\",\"shape\":[150]},\"sepal_length\":{\"__ndarray__\":\"ZmZmZmZmFECamZmZmZkTQM3MzMzMzBJAZmZmZmZmEkAAAAAAAAAUQJqZmZmZmRVAZmZmZmZmEkAAAAAAAAAUQJqZmZmZmRFAmpmZmZmZE0CamZmZmZkVQDMzMzMzMxNAMzMzMzMzE0AzMzMzMzMRQDMzMzMzMxdAzczMzMzMFkCamZmZmZkVQGZmZmZmZhRAzczMzMzMFkBmZmZmZmYUQJqZmZmZmRVAZmZmZmZmFEBmZmZmZmYSQGZmZmZmZhRAMzMzMzMzE0AAAAAAAAAUQAAAAAAAABRAzczMzMzMFEDNzMzMzMwUQM3MzMzMzBJAMzMzMzMzE0CamZmZmZkVQM3MzMzMzBRAAAAAAAAAFkCamZmZmZkTQAAAAAAAABRAAAAAAAAAFkCamZmZmZkTQJqZmZmZmRFAZmZmZmZmFEAAAAAAAAAUQAAAAAAAABJAmpmZmZmZEUAAAAAAAAAUQGZmZmZmZhRAMzMzMzMzE0BmZmZmZmYUQGZmZmZmZhJAMzMzMzMzFUAAAAAAAAAUQAAAAAAAABxAmpmZmZmZGUCamZmZmZkbQAAAAAAAABZAAAAAAAAAGkDNzMzMzMwWQDMzMzMzMxlAmpmZmZmZE0BmZmZmZmYaQM3MzMzMzBRAAAAAAAAAFECamZmZmZkXQAAAAAAAABhAZmZmZmZmGEBmZmZmZmYWQM3MzMzMzBpAZmZmZmZmFkAzMzMzMzMXQM3MzMzMzBhAZmZmZmZmFkCamZmZmZkXQGZmZmZmZhhAMzMzMzMzGUBmZmZmZmYYQJqZmZmZmRlAZmZmZmZmGkAzMzMzMzMbQM3MzMzMzBpAAAAAAAAAGEDNzMzMzMwWQAAAAAAAABZAAAAAAAAAFkAzMzMzMzMXQAAAAAAAABhAmpmZmZmZFUAAAAAAAAAYQM3MzMzMzBpAMzMzMzMzGUBmZmZmZmYWQAAAAAAAABZAAAAAAAAAFkBmZmZmZmYYQDMzMzMzMxdAAAAAAAAAFEBmZmZmZmYWQM3MzMzMzBZAzczMzMzMFkDNzMzMzMwYQGZmZmZmZhRAzczMzMzMFkAzMzMzMzMZQDMzMzMzMxdAZmZmZmZmHEAzMzMzMzMZQAAAAAAAABpAZmZmZmZmHkCamZmZmZkTQDMzMzMzMx1AzczMzMzMGkDNzMzMzMwcQAAAAAAAABpAmpmZmZmZGUAzMzMzMzMbQM3MzMzMzBZAMzMzMzMzF0CamZmZmZkZQAAAAAAAABpAzczMzMzMHkDNzMzMzMweQAAAAAAAABhAmpmZmZmZG0BmZmZmZmYWQM3MzMzMzB5AMzMzMzMzGUDNzMzMzMwaQM3MzMzMzBxAzczMzMzMGEBmZmZmZmYYQJqZmZmZmRlAzczMzMzMHECamZmZmZkdQJqZmZmZmR9AmpmZmZmZGUAzMzMzMzMZQGZmZmZmZhhAzczMzMzMHkAzMzMzMzMZQJqZmZmZmRlAAAAAAAAAGECamZmZmZkbQM3MzMzMzBpAmpmZmZmZG0AzMzMzMzMXQDMzMzMzMxtAzczMzMzMGkDNzMzMzMwaQDMzMzMzMxlAAAAAAAAAGkDNzMzMzMwYQJqZmZmZmRdA\",\"dtype\":\"float64\",\"shape\":[150]},\"sepal_width\":{\"__ndarray__\":\"AAAAAAAADEAAAAAAAAAIQJqZmZmZmQlAzczMzMzMCEDNzMzMzMwMQDMzMzMzMw9AMzMzMzMzC0AzMzMzMzMLQDMzMzMzMwdAzczMzMzMCECamZmZmZkNQDMzMzMzMwtAAAAAAAAACEAAAAAAAAAIQAAAAAAAABBAmpmZmZmZEUAzMzMzMzMPQAAAAAAAAAxAZmZmZmZmDkBmZmZmZmYOQDMzMzMzMwtAmpmZmZmZDUDNzMzMzMwMQGZmZmZmZgpAMzMzMzMzC0AAAAAAAAAIQDMzMzMzMwtAAAAAAAAADEAzMzMzMzMLQJqZmZmZmQlAzczMzMzMCEAzMzMzMzMLQGZmZmZmZhBAzczMzMzMEEDNzMzMzMwIQJqZmZmZmQlAAAAAAAAADEDNzMzMzMwMQAAAAAAAAAhAMzMzMzMzC0AAAAAAAAAMQGZmZmZmZgJAmpmZmZmZCUAAAAAAAAAMQGZmZmZmZg5AAAAAAAAACEBmZmZmZmYOQJqZmZmZmQlAmpmZmZmZDUBmZmZmZmYKQJqZmZmZmQlAmpmZmZmZCUDNzMzMzMwIQGZmZmZmZgJAZmZmZmZmBkBmZmZmZmYGQGZmZmZmZgpAMzMzMzMzA0AzMzMzMzMHQJqZmZmZmQVAAAAAAAAAAEAAAAAAAAAIQJqZmZmZmQFAMzMzMzMzB0AzMzMzMzMHQM3MzMzMzAhAAAAAAAAACECamZmZmZkFQJqZmZmZmQFAAAAAAAAABECamZmZmZkJQGZmZmZmZgZAAAAAAAAABEBmZmZmZmYGQDMzMzMzMwdAAAAAAAAACEBmZmZmZmYGQAAAAAAAAAhAMzMzMzMzB0DNzMzMzMwEQDMzMzMzMwNAMzMzMzMzA0CamZmZmZkFQJqZmZmZmQVAAAAAAAAACEAzMzMzMzMLQM3MzMzMzAhAZmZmZmZmAkAAAAAAAAAIQAAAAAAAAARAzczMzMzMBEAAAAAAAAAIQM3MzMzMzARAZmZmZmZmAkCamZmZmZkFQAAAAAAAAAhAMzMzMzMzB0AzMzMzMzMHQAAAAAAAAARAZmZmZmZmBkBmZmZmZmYKQJqZmZmZmQVAAAAAAAAACEAzMzMzMzMHQAAAAAAAAAhAAAAAAAAACEAAAAAAAAAEQDMzMzMzMwdAAAAAAAAABEDNzMzMzMwMQJqZmZmZmQlAmpmZmZmZBUAAAAAAAAAIQAAAAAAAAARAZmZmZmZmBkCamZmZmZkJQAAAAAAAAAhAZmZmZmZmDkDNzMzMzMwEQJqZmZmZmQFAmpmZmZmZCUBmZmZmZmYGQGZmZmZmZgZAmpmZmZmZBUBmZmZmZmYKQJqZmZmZmQlAZmZmZmZmBkAAAAAAAAAIQGZmZmZmZgZAAAAAAAAACEBmZmZmZmYGQGZmZmZmZg5AZmZmZmZmBkBmZmZmZmYGQM3MzMzMzARAAAAAAAAACEAzMzMzMzMLQM3MzMzMzAhAAAAAAAAACEDNzMzMzMwIQM3MzMzMzAhAzczMzMzMCECamZmZmZkFQJqZmZmZmQlAZmZmZmZmCkAAAAAAAAAIQAAAAAAAAARAAAAAAAAACEAzMzMzMzMLQAAAAAAAAAhA\",\"dtype\":\"float64\",\"shape\":[150]},\"species\":[\"setosa\",\"setosa\",\"setosa\",\"setosa\",\"setosa\",\"setosa\",\"setosa\",\"setosa\",\"setosa\",\"setosa\",\"setosa\",\"setosa\",\"setosa\",\"setosa\",\"setosa\",\"setosa\",\"setosa\",\"setosa\",\"setosa\",\"setosa\",\"setosa\",\"setosa\",\"setosa\",\"setosa\",\"setosa\",\"setosa\",\"setosa\",\"setosa\",\"setosa\",\"setosa\",\"setosa\",\"setosa\",\"setosa\",\"setosa\",\"setosa\",\"setosa\",\"setosa\",\"setosa\",\"setosa\",\"setosa\",\"setosa\",\"setosa\",\"setosa\",\"setosa\",\"setosa\",\"setosa\",\"setosa\",\"setosa\",\"setosa\",\"setosa\",\"versicolor\",\"versicolor\",\"versicolor\",\"versicolor\",\"versicolor\",\"versicolor\",\"versicolor\",\"versicolor\",\"versicolor\",\"versicolor\",\"versicolor\",\"versicolor\",\"versicolor\",\"versicolor\",\"versicolor\",\"versicolor\",\"versicolor\",\"versicolor\",\"versicolor\",\"versicolor\",\"versicolor\",\"versicolor\",\"versicolor\",\"versicolor\",\"versicolor\",\"versicolor\",\"versicolor\",\"versicolor\",\"versicolor\",\"versicolor\",\"versicolor\",\"versicolor\",\"versicolor\",\"versicolor\",\"versicolor\",\"versicolor\",\"versicolor\",\"versicolor\",\"versicolor\",\"versicolor\",\"versicolor\",\"versicolor\",\"versicolor\",\"versicolor\",\"versicolor\",\"versicolor\",\"versicolor\",\"versicolor\",\"versicolor\",\"versicolor\",\"virginica\",\"virginica\",\"virginica\",\"virginica\",\"virginica\",\"virginica\",\"virginica\",\"virginica\",\"virginica\",\"virginica\",\"virginica\",\"virginica\",\"virginica\",\"virginica\",\"virginica\",\"virginica\",\"virginica\",\"virginica\",\"virginica\",\"virginica\",\"virginica\",\"virginica\",\"virginica\",\"virginica\",\"virginica\",\"virginica\",\"virginica\",\"virginica\",\"virginica\",\"virginica\",\"virginica\",\"virginica\",\"virginica\",\"virginica\",\"virginica\",\"virginica\",\"virginica\",\"virginica\",\"virginica\",\"virginica\",\"virginica\",\"virginica\",\"virginica\",\"virginica\",\"virginica\",\"virginica\",\"virginica\",\"virginica\",\"virginica\",\"virginica\"]},\"selected\":{\"id\":\"2111\",\"type\":\"Selection\"},\"selection_policy\":{\"id\":\"2110\",\"type\":\"UnionRenderers\"}},\"id\":\"2010\",\"type\":\"ColumnDataSource\"},{\"attributes\":{},\"id\":\"2019\",\"type\":\"LinearScale\"},{\"attributes\":{},\"id\":\"2021\",\"type\":\"LinearScale\"},{\"attributes\":{\"callback\":null,\"tooltips\":[[\"Species\",\"@species\"],[\"Petal Length\",\"@petal_length\"],[\"Sepal Length\",\"@sepal_length\"]]},\"id\":\"2011\",\"type\":\"HoverTool\"},{\"attributes\":{\"axis_label\":\"Petal Length\",\"formatter\":{\"id\":\"2108\",\"type\":\"BasicTickFormatter\"},\"ticker\":{\"id\":\"2024\",\"type\":\"BasicTicker\"}},\"id\":\"2023\",\"type\":\"LinearAxis\"},{\"attributes\":{},\"id\":\"2108\",\"type\":\"BasicTickFormatter\"},{\"attributes\":{},\"id\":\"2024\",\"type\":\"BasicTicker\"},{\"attributes\":{\"ticker\":{\"id\":\"2024\",\"type\":\"BasicTicker\"}},\"id\":\"2027\",\"type\":\"Grid\"},{\"attributes\":{\"axis_label\":\"Sepal Length\",\"formatter\":{\"id\":\"2106\",\"type\":\"BasicTickFormatter\"},\"ticker\":{\"id\":\"2029\",\"type\":\"BasicTicker\"}},\"id\":\"2028\",\"type\":\"LinearAxis\"},{\"attributes\":{},\"id\":\"2029\",\"type\":\"BasicTicker\"},{\"attributes\":{\"dimension\":1,\"ticker\":{\"id\":\"2029\",\"type\":\"BasicTicker\"}},\"id\":\"2032\",\"type\":\"Grid\"},{\"attributes\":{\"active_drag\":\"auto\",\"active_inspect\":\"auto\",\"active_multi\":null,\"active_scroll\":\"auto\",\"active_tap\":\"auto\",\"tools\":[{\"id\":\"2011\",\"type\":\"HoverTool\"}]},\"id\":\"2033\",\"type\":\"Toolbar\"},{\"attributes\":{\"fill_color\":{\"value\":\"#1f77b4\"},\"line_color\":{\"value\":\"#1f77b4\"},\"size\":{\"units\":\"screen\",\"value\":5},\"x\":{\"field\":\"petal_length\"},\"y\":{\"field\":\"sepal_length\"}},\"id\":\"2036\",\"type\":\"Circle\"},{\"attributes\":{\"fill_alpha\":{\"value\":0.1},\"fill_color\":{\"value\":\"#1f77b4\"},\"line_alpha\":{\"value\":0.1},\"line_color\":{\"value\":\"#1f77b4\"},\"size\":{\"units\":\"screen\",\"value\":5},\"x\":{\"field\":\"petal_length\"},\"y\":{\"field\":\"sepal_length\"}},\"id\":\"2037\",\"type\":\"Circle\"},{\"attributes\":{},\"id\":\"2110\",\"type\":\"UnionRenderers\"},{\"attributes\":{\"data_source\":{\"id\":\"2010\",\"type\":\"ColumnDataSource\"},\"glyph\":{\"id\":\"2036\",\"type\":\"Circle\"},\"hover_glyph\":null,\"muted_glyph\":null,\"nonselection_glyph\":{\"id\":\"2037\",\"type\":\"Circle\"},\"selection_glyph\":null,\"view\":{\"id\":\"2039\",\"type\":\"CDSView\"}},\"id\":\"2038\",\"type\":\"GlyphRenderer\"},{\"attributes\":{},\"id\":\"2106\",\"type\":\"BasicTickFormatter\"}],\"root_ids\":[\"2012\"]},\"title\":\"Bokeh Application\",\"version\":\"1.2.0\"}};\n",
       "  var render_items = [{\"docid\":\"82c0c127-8a76-4475-b98e-342c071ea92d\",\"roots\":{\"2012\":\"93988e56-7bae-47ef-b9f3-39af788f8320\"}}];\n",
       "  root.Bokeh.embed.embed_items_notebook(docs_json, render_items);\n",
       "\n",
       "  }\n",
       "  if (root.Bokeh !== undefined) {\n",
       "    embed_document(root);\n",
       "  } else {\n",
       "    var attempts = 0;\n",
       "    var timer = setInterval(function(root) {\n",
       "      if (root.Bokeh !== undefined) {\n",
       "        embed_document(root);\n",
       "        clearInterval(timer);\n",
       "      }\n",
       "      attempts++;\n",
       "      if (attempts > 100) {\n",
       "        console.log(\"Bokeh: ERROR: Unable to run BokehJS code because BokehJS library is missing\");\n",
       "        clearInterval(timer);\n",
       "      }\n",
       "    }, 10, root)\n",
       "  }\n",
       "})(window);"
      ],
      "application/vnd.bokehjs_exec.v0+json": ""
     },
     "metadata": {
      "application/vnd.bokehjs_exec.v0+json": {
       "id": "2012"
      }
     },
     "output_type": "display_data"
    }
   ],
   "source": [
    "source = ColumnDataSource(flowers)\n",
    "hover = HoverTool(tooltips=[('Species', '@species'), ('Petal Length', '@petal_length'),\n",
    "                            ('Sepal Length', '@sepal_length')])\n",
    "plot = figure(plot_width=400, plot_height=400, tools=[hover],\n",
    "              x_axis_label='Petal Length', y_axis_label='Sepal Length', title='Petal Length vs. Sepal Length')\n",
    "plot.circle('petal_length', 'sepal_length', source=source, size=5)\n",
    "show(plot)\n",
    "# 마우스 갖다대면 description, 소스 변수"
   ]
  },
  {
   "cell_type": "code",
   "execution_count": 24,
   "metadata": {
    "colab": {},
    "colab_type": "code",
    "id": "XwgOEPKu0Uqg"
   },
   "outputs": [],
   "source": [
    "from bokeh.models import CategoricalColorMapper"
   ]
  },
  {
   "cell_type": "code",
   "execution_count": 25,
   "metadata": {
    "colab": {
     "base_uri": "https://localhost:8080/",
     "height": 417
    },
    "colab_type": "code",
    "id": "uNokaTmT0UcX",
    "outputId": "638816f3-65b7-4127-912e-250a80ee5e0e"
   },
   "outputs": [
    {
     "data": {
      "text/html": [
       "\n",
       "\n",
       "\n",
       "\n",
       "\n",
       "\n",
       "  <div class=\"bk-root\" id=\"831f5db3-1e5e-48dd-a7b7-61fdb62642ee\" data-root-id=\"2154\"></div>\n"
      ]
     },
     "metadata": {},
     "output_type": "display_data"
    },
    {
     "data": {
      "application/javascript": [
       "(function(root) {\n",
       "  function embed_document(root) {\n",
       "    \n",
       "  var docs_json = {\"76e94341-3708-4b6b-a00d-caea6f1b1caa\":{\"roots\":{\"references\":[{\"attributes\":{\"below\":[{\"id\":\"2165\",\"type\":\"LinearAxis\"}],\"center\":[{\"id\":\"2169\",\"type\":\"Grid\"},{\"id\":\"2174\",\"type\":\"Grid\"}],\"left\":[{\"id\":\"2170\",\"type\":\"LinearAxis\"}],\"plot_height\":400,\"plot_width\":400,\"renderers\":[{\"id\":\"2193\",\"type\":\"GlyphRenderer\"}],\"title\":{\"id\":\"2155\",\"type\":\"Title\"},\"toolbar\":{\"id\":\"2181\",\"type\":\"Toolbar\"},\"x_range\":{\"id\":\"2157\",\"type\":\"DataRange1d\"},\"x_scale\":{\"id\":\"2161\",\"type\":\"LinearScale\"},\"y_range\":{\"id\":\"2159\",\"type\":\"DataRange1d\"},\"y_scale\":{\"id\":\"2163\",\"type\":\"LinearScale\"}},\"id\":\"2154\",\"subtype\":\"Figure\",\"type\":\"Plot\"},{\"attributes\":{\"dimension\":1,\"ticker\":{\"id\":\"2171\",\"type\":\"BasicTicker\"}},\"id\":\"2174\",\"type\":\"Grid\"},{\"attributes\":{\"data_source\":{\"id\":\"2188\",\"type\":\"ColumnDataSource\"},\"glyph\":{\"id\":\"2191\",\"type\":\"Circle\"},\"hover_glyph\":null,\"muted_glyph\":null,\"nonselection_glyph\":{\"id\":\"2192\",\"type\":\"Circle\"},\"selection_glyph\":null,\"view\":{\"id\":\"2194\",\"type\":\"CDSView\"}},\"id\":\"2193\",\"type\":\"GlyphRenderer\"},{\"attributes\":{},\"id\":\"2175\",\"type\":\"PanTool\"},{\"attributes\":{},\"id\":\"2176\",\"type\":\"WheelZoomTool\"},{\"attributes\":{\"overlay\":{\"id\":\"2274\",\"type\":\"BoxAnnotation\"}},\"id\":\"2177\",\"type\":\"BoxZoomTool\"},{\"attributes\":{\"text\":\"Petal Length vs. Sepal Length\"},\"id\":\"2155\",\"type\":\"Title\"},{\"attributes\":{},\"id\":\"2178\",\"type\":\"SaveTool\"},{\"attributes\":{},\"id\":\"2179\",\"type\":\"ResetTool\"},{\"attributes\":{},\"id\":\"2161\",\"type\":\"LinearScale\"},{\"attributes\":{},\"id\":\"2180\",\"type\":\"HelpTool\"},{\"attributes\":{\"ticker\":{\"id\":\"2166\",\"type\":\"BasicTicker\"}},\"id\":\"2169\",\"type\":\"Grid\"},{\"attributes\":{\"active_drag\":\"auto\",\"active_inspect\":\"auto\",\"active_multi\":null,\"active_scroll\":\"auto\",\"active_tap\":\"auto\",\"tools\":[{\"id\":\"2175\",\"type\":\"PanTool\"},{\"id\":\"2176\",\"type\":\"WheelZoomTool\"},{\"id\":\"2177\",\"type\":\"BoxZoomTool\"},{\"id\":\"2178\",\"type\":\"SaveTool\"},{\"id\":\"2179\",\"type\":\"ResetTool\"},{\"id\":\"2180\",\"type\":\"HelpTool\"}]},\"id\":\"2181\",\"type\":\"Toolbar\"},{\"attributes\":{\"axis_label\":\"Petal Length\",\"formatter\":{\"id\":\"2270\",\"type\":\"BasicTickFormatter\"},\"ticker\":{\"id\":\"2166\",\"type\":\"BasicTicker\"}},\"id\":\"2165\",\"type\":\"LinearAxis\"},{\"attributes\":{},\"id\":\"2272\",\"type\":\"UnionRenderers\"},{\"attributes\":{\"callback\":null},\"id\":\"2157\",\"type\":\"DataRange1d\"},{\"attributes\":{},\"id\":\"2268\",\"type\":\"BasicTickFormatter\"},{\"attributes\":{},\"id\":\"2171\",\"type\":\"BasicTicker\"},{\"attributes\":{\"axis_label\":\"Sepal Length\",\"formatter\":{\"id\":\"2268\",\"type\":\"BasicTickFormatter\"},\"ticker\":{\"id\":\"2171\",\"type\":\"BasicTicker\"}},\"id\":\"2170\",\"type\":\"LinearAxis\"},{\"attributes\":{\"source\":{\"id\":\"2188\",\"type\":\"ColumnDataSource\"}},\"id\":\"2194\",\"type\":\"CDSView\"},{\"attributes\":{\"callback\":null,\"data\":{\"index\":[0,1,2,3,4,5,6,7,8,9,10,11,12,13,14,15,16,17,18,19,20,21,22,23,24,25,26,27,28,29,30,31,32,33,34,35,36,37,38,39,40,41,42,43,44,45,46,47,48,49,50,51,52,53,54,55,56,57,58,59,60,61,62,63,64,65,66,67,68,69,70,71,72,73,74,75,76,77,78,79,80,81,82,83,84,85,86,87,88,89,90,91,92,93,94,95,96,97,98,99,100,101,102,103,104,105,106,107,108,109,110,111,112,113,114,115,116,117,118,119,120,121,122,123,124,125,126,127,128,129,130,131,132,133,134,135,136,137,138,139,140,141,142,143,144,145,146,147,148,149],\"petal_length\":{\"__ndarray__\":\"ZmZmZmZm9j9mZmZmZmb2P83MzMzMzPQ/AAAAAAAA+D9mZmZmZmb2PzMzMzMzM/s/ZmZmZmZm9j8AAAAAAAD4P2ZmZmZmZvY/AAAAAAAA+D8AAAAAAAD4P5qZmZmZmfk/ZmZmZmZm9j+amZmZmZnxPzMzMzMzM/M/AAAAAAAA+D/NzMzMzMz0P2ZmZmZmZvY/MzMzMzMz+z8AAAAAAAD4PzMzMzMzM/s/AAAAAAAA+D8AAAAAAADwPzMzMzMzM/s/ZmZmZmZm/j+amZmZmZn5P5qZmZmZmfk/AAAAAAAA+D9mZmZmZmb2P5qZmZmZmfk/mpmZmZmZ+T8AAAAAAAD4PwAAAAAAAPg/ZmZmZmZm9j8AAAAAAAD4PzMzMzMzM/M/zczMzMzM9D9mZmZmZmb2P83MzMzMzPQ/AAAAAAAA+D/NzMzMzMz0P83MzMzMzPQ/zczMzMzM9D+amZmZmZn5P2ZmZmZmZv4/ZmZmZmZm9j+amZmZmZn5P2ZmZmZmZvY/AAAAAAAA+D9mZmZmZmb2P83MzMzMzBJAAAAAAAAAEkCamZmZmZkTQAAAAAAAABBAZmZmZmZmEkAAAAAAAAASQM3MzMzMzBJAZmZmZmZmCkBmZmZmZmYSQDMzMzMzMw9AAAAAAAAADEDNzMzMzMwQQAAAAAAAABBAzczMzMzMEkDNzMzMzMwMQJqZmZmZmRFAAAAAAAAAEkBmZmZmZmYQQAAAAAAAABJAMzMzMzMzD0AzMzMzMzMTQAAAAAAAABBAmpmZmZmZE0DNzMzMzMwSQDMzMzMzMxFAmpmZmZmZEUAzMzMzMzMTQAAAAAAAABRAAAAAAAAAEkAAAAAAAAAMQGZmZmZmZg5AmpmZmZmZDUAzMzMzMzMPQGZmZmZmZhRAAAAAAAAAEkAAAAAAAAASQM3MzMzMzBJAmpmZmZmZEUBmZmZmZmYQQAAAAAAAABBAmpmZmZmZEUBmZmZmZmYSQAAAAAAAABBAZmZmZmZmCkDNzMzMzMwQQM3MzMzMzBBAzczMzMzMEEAzMzMzMzMRQAAAAAAAAAhAZmZmZmZmEEAAAAAAAAAYQGZmZmZmZhRAmpmZmZmZF0BmZmZmZmYWQDMzMzMzMxdAZmZmZmZmGkAAAAAAAAASQDMzMzMzMxlAMzMzMzMzF0BmZmZmZmYYQGZmZmZmZhRAMzMzMzMzFUAAAAAAAAAWQAAAAAAAABRAZmZmZmZmFEAzMzMzMzMVQAAAAAAAABZAzczMzMzMGkCamZmZmZkbQAAAAAAAABRAzczMzMzMFkCamZmZmZkTQM3MzMzMzBpAmpmZmZmZE0DNzMzMzMwWQAAAAAAAABhAMzMzMzMzE0CamZmZmZkTQGZmZmZmZhZAMzMzMzMzF0BmZmZmZmYYQJqZmZmZmRlAZmZmZmZmFkBmZmZmZmYUQGZmZmZmZhZAZmZmZmZmGEBmZmZmZmYWQAAAAAAAABZAMzMzMzMzE0CamZmZmZkVQGZmZmZmZhZAZmZmZmZmFEBmZmZmZmYUQJqZmZmZmRdAzczMzMzMFkDNzMzMzMwUQAAAAAAAABRAzczMzMzMFECamZmZmZkVQGZmZmZmZhRA\",\"dtype\":\"float64\",\"shape\":[150]},\"petal_width\":{\"__ndarray__\":\"mpmZmZmZyT+amZmZmZnJP5qZmZmZmck/mpmZmZmZyT+amZmZmZnJP5qZmZmZmdk/MzMzMzMz0z+amZmZmZnJP5qZmZmZmck/mpmZmZmZuT+amZmZmZnJP5qZmZmZmck/mpmZmZmZuT+amZmZmZm5P5qZmZmZmck/mpmZmZmZ2T+amZmZmZnZPzMzMzMzM9M/MzMzMzMz0z8zMzMzMzPTP5qZmZmZmck/mpmZmZmZ2T+amZmZmZnJPwAAAAAAAOA/mpmZmZmZyT+amZmZmZnJP5qZmZmZmdk/mpmZmZmZyT+amZmZmZnJP5qZmZmZmck/mpmZmZmZyT+amZmZmZnZP5qZmZmZmbk/mpmZmZmZyT+amZmZmZnJP5qZmZmZmck/mpmZmZmZyT+amZmZmZm5P5qZmZmZmck/mpmZmZmZyT8zMzMzMzPTPzMzMzMzM9M/mpmZmZmZyT8zMzMzMzPjP5qZmZmZmdk/MzMzMzMz0z+amZmZmZnJP5qZmZmZmck/mpmZmZmZyT+amZmZmZnJP2ZmZmZmZvY/AAAAAAAA+D8AAAAAAAD4P83MzMzMzPQ/AAAAAAAA+D/NzMzMzMz0P5qZmZmZmfk/AAAAAAAA8D/NzMzMzMz0P2ZmZmZmZvY/AAAAAAAA8D8AAAAAAAD4PwAAAAAAAPA/ZmZmZmZm9j/NzMzMzMz0P2ZmZmZmZvY/AAAAAAAA+D8AAAAAAADwPwAAAAAAAPg/mpmZmZmZ8T/NzMzMzMz8P83MzMzMzPQ/AAAAAAAA+D8zMzMzMzPzP83MzMzMzPQ/ZmZmZmZm9j9mZmZmZmb2PzMzMzMzM/s/AAAAAAAA+D8AAAAAAADwP5qZmZmZmfE/AAAAAAAA8D8zMzMzMzPzP5qZmZmZmfk/AAAAAAAA+D+amZmZmZn5PwAAAAAAAPg/zczMzMzM9D/NzMzMzMz0P83MzMzMzPQ/MzMzMzMz8z9mZmZmZmb2PzMzMzMzM/M/AAAAAAAA8D/NzMzMzMz0PzMzMzMzM/M/zczMzMzM9D/NzMzMzMz0P5qZmZmZmfE/zczMzMzM9D8AAAAAAAAEQGZmZmZmZv4/zczMzMzMAEDNzMzMzMz8P5qZmZmZmQFAzczMzMzMAEAzMzMzMzP7P83MzMzMzPw/zczMzMzM/D8AAAAAAAAEQAAAAAAAAABAZmZmZmZm/j/NzMzMzMwAQAAAAAAAAABAMzMzMzMzA0BmZmZmZmYCQM3MzMzMzPw/mpmZmZmZAUBmZmZmZmYCQAAAAAAAAPg/ZmZmZmZmAkAAAAAAAAAAQAAAAAAAAABAzczMzMzM/D/NzMzMzMwAQM3MzMzMzPw/zczMzMzM/D/NzMzMzMz8P83MzMzMzABAmpmZmZmZ+T9mZmZmZmb+PwAAAAAAAABAmpmZmZmZAUAAAAAAAAD4P2ZmZmZmZvY/ZmZmZmZmAkAzMzMzMzMDQM3MzMzMzPw/zczMzMzM/D/NzMzMzMwAQDMzMzMzMwNAZmZmZmZmAkBmZmZmZmb+P2ZmZmZmZgJAAAAAAAAABEBmZmZmZmYCQGZmZmZmZv4/AAAAAAAAAEBmZmZmZmYCQM3MzMzMzPw/\",\"dtype\":\"float64\",\"shape\":[150]},\"sepal_length\":{\"__ndarray__\":\"ZmZmZmZmFECamZmZmZkTQM3MzMzMzBJAZmZmZmZmEkAAAAAAAAAUQJqZmZmZmRVAZmZmZmZmEkAAAAAAAAAUQJqZmZmZmRFAmpmZmZmZE0CamZmZmZkVQDMzMzMzMxNAMzMzMzMzE0AzMzMzMzMRQDMzMzMzMxdAzczMzMzMFkCamZmZmZkVQGZmZmZmZhRAzczMzMzMFkBmZmZmZmYUQJqZmZmZmRVAZmZmZmZmFEBmZmZmZmYSQGZmZmZmZhRAMzMzMzMzE0AAAAAAAAAUQAAAAAAAABRAzczMzMzMFEDNzMzMzMwUQM3MzMzMzBJAMzMzMzMzE0CamZmZmZkVQM3MzMzMzBRAAAAAAAAAFkCamZmZmZkTQAAAAAAAABRAAAAAAAAAFkCamZmZmZkTQJqZmZmZmRFAZmZmZmZmFEAAAAAAAAAUQAAAAAAAABJAmpmZmZmZEUAAAAAAAAAUQGZmZmZmZhRAMzMzMzMzE0BmZmZmZmYUQGZmZmZmZhJAMzMzMzMzFUAAAAAAAAAUQAAAAAAAABxAmpmZmZmZGUCamZmZmZkbQAAAAAAAABZAAAAAAAAAGkDNzMzMzMwWQDMzMzMzMxlAmpmZmZmZE0BmZmZmZmYaQM3MzMzMzBRAAAAAAAAAFECamZmZmZkXQAAAAAAAABhAZmZmZmZmGEBmZmZmZmYWQM3MzMzMzBpAZmZmZmZmFkAzMzMzMzMXQM3MzMzMzBhAZmZmZmZmFkCamZmZmZkXQGZmZmZmZhhAMzMzMzMzGUBmZmZmZmYYQJqZmZmZmRlAZmZmZmZmGkAzMzMzMzMbQM3MzMzMzBpAAAAAAAAAGEDNzMzMzMwWQAAAAAAAABZAAAAAAAAAFkAzMzMzMzMXQAAAAAAAABhAmpmZmZmZFUAAAAAAAAAYQM3MzMzMzBpAMzMzMzMzGUBmZmZmZmYWQAAAAAAAABZAAAAAAAAAFkBmZmZmZmYYQDMzMzMzMxdAAAAAAAAAFEBmZmZmZmYWQM3MzMzMzBZAzczMzMzMFkDNzMzMzMwYQGZmZmZmZhRAzczMzMzMFkAzMzMzMzMZQDMzMzMzMxdAZmZmZmZmHEAzMzMzMzMZQAAAAAAAABpAZmZmZmZmHkCamZmZmZkTQDMzMzMzMx1AzczMzMzMGkDNzMzMzMwcQAAAAAAAABpAmpmZmZmZGUAzMzMzMzMbQM3MzMzMzBZAMzMzMzMzF0CamZmZmZkZQAAAAAAAABpAzczMzMzMHkDNzMzMzMweQAAAAAAAABhAmpmZmZmZG0BmZmZmZmYWQM3MzMzMzB5AMzMzMzMzGUDNzMzMzMwaQM3MzMzMzBxAzczMzMzMGEBmZmZmZmYYQJqZmZmZmRlAzczMzMzMHECamZmZmZkdQJqZmZmZmR9AmpmZmZmZGUAzMzMzMzMZQGZmZmZmZhhAzczMzMzMHkAzMzMzMzMZQJqZmZmZmRlAAAAAAAAAGECamZmZmZkbQM3MzMzMzBpAmpmZmZmZG0AzMzMzMzMXQDMzMzMzMxtAzczMzMzMGkDNzMzMzMwaQDMzMzMzMxlAAAAAAAAAGkDNzMzMzMwYQJqZmZmZmRdA\",\"dtype\":\"float64\",\"shape\":[150]},\"sepal_width\":{\"__ndarray__\":\"AAAAAAAADEAAAAAAAAAIQJqZmZmZmQlAzczMzMzMCEDNzMzMzMwMQDMzMzMzMw9AMzMzMzMzC0AzMzMzMzMLQDMzMzMzMwdAzczMzMzMCECamZmZmZkNQDMzMzMzMwtAAAAAAAAACEAAAAAAAAAIQAAAAAAAABBAmpmZmZmZEUAzMzMzMzMPQAAAAAAAAAxAZmZmZmZmDkBmZmZmZmYOQDMzMzMzMwtAmpmZmZmZDUDNzMzMzMwMQGZmZmZmZgpAMzMzMzMzC0AAAAAAAAAIQDMzMzMzMwtAAAAAAAAADEAzMzMzMzMLQJqZmZmZmQlAzczMzMzMCEAzMzMzMzMLQGZmZmZmZhBAzczMzMzMEEDNzMzMzMwIQJqZmZmZmQlAAAAAAAAADEDNzMzMzMwMQAAAAAAAAAhAMzMzMzMzC0AAAAAAAAAMQGZmZmZmZgJAmpmZmZmZCUAAAAAAAAAMQGZmZmZmZg5AAAAAAAAACEBmZmZmZmYOQJqZmZmZmQlAmpmZmZmZDUBmZmZmZmYKQJqZmZmZmQlAmpmZmZmZCUDNzMzMzMwIQGZmZmZmZgJAZmZmZmZmBkBmZmZmZmYGQGZmZmZmZgpAMzMzMzMzA0AzMzMzMzMHQJqZmZmZmQVAAAAAAAAAAEAAAAAAAAAIQJqZmZmZmQFAMzMzMzMzB0AzMzMzMzMHQM3MzMzMzAhAAAAAAAAACECamZmZmZkFQJqZmZmZmQFAAAAAAAAABECamZmZmZkJQGZmZmZmZgZAAAAAAAAABEBmZmZmZmYGQDMzMzMzMwdAAAAAAAAACEBmZmZmZmYGQAAAAAAAAAhAMzMzMzMzB0DNzMzMzMwEQDMzMzMzMwNAMzMzMzMzA0CamZmZmZkFQJqZmZmZmQVAAAAAAAAACEAzMzMzMzMLQM3MzMzMzAhAZmZmZmZmAkAAAAAAAAAIQAAAAAAAAARAzczMzMzMBEAAAAAAAAAIQM3MzMzMzARAZmZmZmZmAkCamZmZmZkFQAAAAAAAAAhAMzMzMzMzB0AzMzMzMzMHQAAAAAAAAARAZmZmZmZmBkBmZmZmZmYKQJqZmZmZmQVAAAAAAAAACEAzMzMzMzMHQAAAAAAAAAhAAAAAAAAACEAAAAAAAAAEQDMzMzMzMwdAAAAAAAAABEDNzMzMzMwMQJqZmZmZmQlAmpmZmZmZBUAAAAAAAAAIQAAAAAAAAARAZmZmZmZmBkCamZmZmZkJQAAAAAAAAAhAZmZmZmZmDkDNzMzMzMwEQJqZmZmZmQFAmpmZmZmZCUBmZmZmZmYGQGZmZmZmZgZAmpmZmZmZBUBmZmZmZmYKQJqZmZmZmQlAZmZmZmZmBkAAAAAAAAAIQGZmZmZmZgZAAAAAAAAACEBmZmZmZmYGQGZmZmZmZg5AZmZmZmZmBkBmZmZmZmYGQM3MzMzMzARAAAAAAAAACEAzMzMzMzMLQM3MzMzMzAhAAAAAAAAACEDNzMzMzMwIQM3MzMzMzAhAzczMzMzMCECamZmZmZkFQJqZmZmZmQlAZmZmZmZmCkAAAAAAAAAIQAAAAAAAAARAAAAAAAAACEAzMzMzMzMLQAAAAAAAAAhA\",\"dtype\":\"float64\",\"shape\":[150]},\"species\":[\"setosa\",\"setosa\",\"setosa\",\"setosa\",\"setosa\",\"setosa\",\"setosa\",\"setosa\",\"setosa\",\"setosa\",\"setosa\",\"setosa\",\"setosa\",\"setosa\",\"setosa\",\"setosa\",\"setosa\",\"setosa\",\"setosa\",\"setosa\",\"setosa\",\"setosa\",\"setosa\",\"setosa\",\"setosa\",\"setosa\",\"setosa\",\"setosa\",\"setosa\",\"setosa\",\"setosa\",\"setosa\",\"setosa\",\"setosa\",\"setosa\",\"setosa\",\"setosa\",\"setosa\",\"setosa\",\"setosa\",\"setosa\",\"setosa\",\"setosa\",\"setosa\",\"setosa\",\"setosa\",\"setosa\",\"setosa\",\"setosa\",\"setosa\",\"versicolor\",\"versicolor\",\"versicolor\",\"versicolor\",\"versicolor\",\"versicolor\",\"versicolor\",\"versicolor\",\"versicolor\",\"versicolor\",\"versicolor\",\"versicolor\",\"versicolor\",\"versicolor\",\"versicolor\",\"versicolor\",\"versicolor\",\"versicolor\",\"versicolor\",\"versicolor\",\"versicolor\",\"versicolor\",\"versicolor\",\"versicolor\",\"versicolor\",\"versicolor\",\"versicolor\",\"versicolor\",\"versicolor\",\"versicolor\",\"versicolor\",\"versicolor\",\"versicolor\",\"versicolor\",\"versicolor\",\"versicolor\",\"versicolor\",\"versicolor\",\"versicolor\",\"versicolor\",\"versicolor\",\"versicolor\",\"versicolor\",\"versicolor\",\"versicolor\",\"versicolor\",\"versicolor\",\"versicolor\",\"versicolor\",\"versicolor\",\"virginica\",\"virginica\",\"virginica\",\"virginica\",\"virginica\",\"virginica\",\"virginica\",\"virginica\",\"virginica\",\"virginica\",\"virginica\",\"virginica\",\"virginica\",\"virginica\",\"virginica\",\"virginica\",\"virginica\",\"virginica\",\"virginica\",\"virginica\",\"virginica\",\"virginica\",\"virginica\",\"virginica\",\"virginica\",\"virginica\",\"virginica\",\"virginica\",\"virginica\",\"virginica\",\"virginica\",\"virginica\",\"virginica\",\"virginica\",\"virginica\",\"virginica\",\"virginica\",\"virginica\",\"virginica\",\"virginica\",\"virginica\",\"virginica\",\"virginica\",\"virginica\",\"virginica\",\"virginica\",\"virginica\",\"virginica\",\"virginica\",\"virginica\"]},\"selected\":{\"id\":\"2273\",\"type\":\"Selection\"},\"selection_policy\":{\"id\":\"2272\",\"type\":\"UnionRenderers\"}},\"id\":\"2188\",\"type\":\"ColumnDataSource\"},{\"attributes\":{\"fill_alpha\":{\"value\":0.1},\"fill_color\":{\"value\":\"#1f77b4\"},\"line_alpha\":{\"value\":0.1},\"line_color\":{\"value\":\"#1f77b4\"},\"x\":{\"field\":\"petal_length\"},\"y\":{\"field\":\"sepal_length\"}},\"id\":\"2192\",\"type\":\"Circle\"},{\"attributes\":{},\"id\":\"2166\",\"type\":\"BasicTicker\"},{\"attributes\":{\"fill_color\":{\"field\":\"species\",\"transform\":{\"id\":\"2189\",\"type\":\"CategoricalColorMapper\"}},\"line_color\":{\"field\":\"species\",\"transform\":{\"id\":\"2189\",\"type\":\"CategoricalColorMapper\"}},\"x\":{\"field\":\"petal_length\"},\"y\":{\"field\":\"sepal_length\"}},\"id\":\"2191\",\"type\":\"Circle\"},{\"attributes\":{},\"id\":\"2163\",\"type\":\"LinearScale\"},{\"attributes\":{},\"id\":\"2270\",\"type\":\"BasicTickFormatter\"},{\"attributes\":{\"factors\":[\"setosa\",\"virginica\",\"versicolor\"],\"palette\":[\"red\",\"green\",\"blue\"]},\"id\":\"2189\",\"type\":\"CategoricalColorMapper\"},{\"attributes\":{},\"id\":\"2273\",\"type\":\"Selection\"},{\"attributes\":{\"bottom_units\":\"screen\",\"fill_alpha\":{\"value\":0.5},\"fill_color\":{\"value\":\"lightgrey\"},\"left_units\":\"screen\",\"level\":\"overlay\",\"line_alpha\":{\"value\":1.0},\"line_color\":{\"value\":\"black\"},\"line_dash\":[4,4],\"line_width\":{\"value\":2},\"render_mode\":\"css\",\"right_units\":\"screen\",\"top_units\":\"screen\"},\"id\":\"2274\",\"type\":\"BoxAnnotation\"},{\"attributes\":{\"callback\":null},\"id\":\"2159\",\"type\":\"DataRange1d\"}],\"root_ids\":[\"2154\"]},\"title\":\"Bokeh Application\",\"version\":\"1.2.0\"}};\n",
       "  var render_items = [{\"docid\":\"76e94341-3708-4b6b-a00d-caea6f1b1caa\",\"roots\":{\"2154\":\"831f5db3-1e5e-48dd-a7b7-61fdb62642ee\"}}];\n",
       "  root.Bokeh.embed.embed_items_notebook(docs_json, render_items);\n",
       "\n",
       "  }\n",
       "  if (root.Bokeh !== undefined) {\n",
       "    embed_document(root);\n",
       "  } else {\n",
       "    var attempts = 0;\n",
       "    var timer = setInterval(function(root) {\n",
       "      if (root.Bokeh !== undefined) {\n",
       "        embed_document(root);\n",
       "        clearInterval(timer);\n",
       "      }\n",
       "      attempts++;\n",
       "      if (attempts > 100) {\n",
       "        console.log(\"Bokeh: ERROR: Unable to run BokehJS code because BokehJS library is missing\");\n",
       "        clearInterval(timer);\n",
       "      }\n",
       "    }, 10, root)\n",
       "  }\n",
       "})(window);"
      ],
      "application/vnd.bokehjs_exec.v0+json": ""
     },
     "metadata": {
      "application/vnd.bokehjs_exec.v0+json": {
       "id": "2154"
      }
     },
     "output_type": "display_data"
    }
   ],
   "source": [
    "plot = figure(plot_width=400, plot_height=400, x_axis_label='Petal Length', y_axis_label='Sepal Length',\n",
    "             title='Petal Length vs. Sepal Length')\n",
    "source = ColumnDataSource(flowers)\n",
    "mapper = CategoricalColorMapper(factors=['setosa', 'virginica', 'versicolor'], palette=['red', 'green', 'blue'])\n",
    "plot.circle('petal_length', 'sepal_length', color={'field':'species', 'transform':mapper}, source=source)\n",
    "show(plot)\n",
    "# mapper factors에 field지정해줌\n",
    "# field에 species적어줘서 구분"
   ]
  },
  {
   "cell_type": "code",
   "execution_count": 28,
   "metadata": {
    "colab": {
     "base_uri": "https://localhost:8080/",
     "height": 417
    },
    "colab_type": "code",
    "id": "_PdCy96y0UXT",
    "outputId": "2c7669df-7017-468e-9884-62be447d1301"
   },
   "outputs": [
    {
     "data": {
      "text/html": [
       "\n",
       "\n",
       "\n",
       "\n",
       "\n",
       "\n",
       "  <div class=\"bk-root\" id=\"21f2a500-38e7-48e7-9baa-ffed3c3b5915\" data-root-id=\"2399\"></div>\n"
      ]
     },
     "metadata": {},
     "output_type": "display_data"
    },
    {
     "data": {
      "application/javascript": [
       "(function(root) {\n",
       "  function embed_document(root) {\n",
       "    \n",
       "  var docs_json = {\"780e06b1-bdac-4714-94cf-8fdee4f6a7b7\":{\"roots\":{\"references\":[{\"attributes\":{\"below\":[{\"id\":\"2410\",\"type\":\"LinearAxis\"}],\"center\":[{\"id\":\"2414\",\"type\":\"Grid\"},{\"id\":\"2419\",\"type\":\"Grid\"},{\"id\":\"2446\",\"type\":\"Legend\"}],\"left\":[{\"id\":\"2415\",\"type\":\"LinearAxis\"}],\"plot_height\":400,\"plot_width\":400,\"renderers\":[{\"id\":\"2438\",\"type\":\"GlyphRenderer\"}],\"title\":{\"id\":\"2400\",\"type\":\"Title\"},\"toolbar\":{\"id\":\"2426\",\"type\":\"Toolbar\"},\"x_range\":{\"id\":\"2402\",\"type\":\"DataRange1d\"},\"x_scale\":{\"id\":\"2406\",\"type\":\"LinearScale\"},\"y_range\":{\"id\":\"2404\",\"type\":\"DataRange1d\"},\"y_scale\":{\"id\":\"2408\",\"type\":\"LinearScale\"}},\"id\":\"2399\",\"subtype\":\"Figure\",\"type\":\"Plot\"},{\"attributes\":{\"bottom_units\":\"screen\",\"fill_alpha\":{\"value\":0.5},\"fill_color\":{\"value\":\"lightgrey\"},\"left_units\":\"screen\",\"level\":\"overlay\",\"line_alpha\":{\"value\":1.0},\"line_color\":{\"value\":\"black\"},\"line_dash\":[4,4],\"line_width\":{\"value\":2},\"render_mode\":\"css\",\"right_units\":\"screen\",\"top_units\":\"screen\"},\"id\":\"2445\",\"type\":\"BoxAnnotation\"},{\"attributes\":{},\"id\":\"2425\",\"type\":\"HelpTool\"},{\"attributes\":{\"active_drag\":\"auto\",\"active_inspect\":\"auto\",\"active_multi\":null,\"active_scroll\":\"auto\",\"active_tap\":\"auto\",\"tools\":[{\"id\":\"2420\",\"type\":\"PanTool\"},{\"id\":\"2421\",\"type\":\"WheelZoomTool\"},{\"id\":\"2422\",\"type\":\"BoxZoomTool\"},{\"id\":\"2423\",\"type\":\"SaveTool\"},{\"id\":\"2424\",\"type\":\"ResetTool\"},{\"id\":\"2425\",\"type\":\"HelpTool\"}]},\"id\":\"2426\",\"type\":\"Toolbar\"},{\"attributes\":{\"callback\":null},\"id\":\"2404\",\"type\":\"DataRange1d\"},{\"attributes\":{},\"id\":\"2443\",\"type\":\"BasicTickFormatter\"},{\"attributes\":{},\"id\":\"2406\",\"type\":\"LinearScale\"},{\"attributes\":{\"source\":{\"id\":\"2433\",\"type\":\"ColumnDataSource\"}},\"id\":\"2439\",\"type\":\"CDSView\"},{\"attributes\":{\"items\":[{\"id\":\"2447\",\"type\":\"LegendItem\"}],\"location\":\"top_left\"},\"id\":\"2446\",\"type\":\"Legend\"},{\"attributes\":{},\"id\":\"2408\",\"type\":\"LinearScale\"},{\"attributes\":{\"fill_color\":{\"field\":\"species\",\"transform\":{\"id\":\"2434\",\"type\":\"CategoricalColorMapper\"}},\"line_color\":{\"field\":\"species\",\"transform\":{\"id\":\"2434\",\"type\":\"CategoricalColorMapper\"}},\"x\":{\"field\":\"petal_length\"},\"y\":{\"field\":\"sepal_length\"}},\"id\":\"2436\",\"type\":\"Circle\"},{\"attributes\":{},\"id\":\"2441\",\"type\":\"BasicTickFormatter\"},{\"attributes\":{},\"id\":\"2534\",\"type\":\"Selection\"},{\"attributes\":{\"axis_label\":\"Petal Length\",\"formatter\":{\"id\":\"2443\",\"type\":\"BasicTickFormatter\"},\"ticker\":{\"id\":\"2411\",\"type\":\"BasicTicker\"}},\"id\":\"2410\",\"type\":\"LinearAxis\"},{\"attributes\":{},\"id\":\"2411\",\"type\":\"BasicTicker\"},{\"attributes\":{\"callback\":null},\"id\":\"2402\",\"type\":\"DataRange1d\"},{\"attributes\":{\"ticker\":{\"id\":\"2411\",\"type\":\"BasicTicker\"}},\"id\":\"2414\",\"type\":\"Grid\"},{\"attributes\":{},\"id\":\"2533\",\"type\":\"UnionRenderers\"},{\"attributes\":{\"axis_label\":\"Sepal Length\",\"formatter\":{\"id\":\"2441\",\"type\":\"BasicTickFormatter\"},\"ticker\":{\"id\":\"2416\",\"type\":\"BasicTicker\"}},\"id\":\"2415\",\"type\":\"LinearAxis\"},{\"attributes\":{},\"id\":\"2416\",\"type\":\"BasicTicker\"},{\"attributes\":{\"dimension\":1,\"ticker\":{\"id\":\"2416\",\"type\":\"BasicTicker\"}},\"id\":\"2419\",\"type\":\"Grid\"},{\"attributes\":{\"fill_alpha\":{\"value\":0.1},\"fill_color\":{\"value\":\"#1f77b4\"},\"line_alpha\":{\"value\":0.1},\"line_color\":{\"value\":\"#1f77b4\"},\"x\":{\"field\":\"petal_length\"},\"y\":{\"field\":\"sepal_length\"}},\"id\":\"2437\",\"type\":\"Circle\"},{\"attributes\":{\"callback\":null,\"data\":{\"index\":[0,1,2,3,4,5,6,7,8,9,10,11,12,13,14,15,16,17,18,19,20,21,22,23,24,25,26,27,28,29,30,31,32,33,34,35,36,37,38,39,40,41,42,43,44,45,46,47,48,49,50,51,52,53,54,55,56,57,58,59,60,61,62,63,64,65,66,67,68,69,70,71,72,73,74,75,76,77,78,79,80,81,82,83,84,85,86,87,88,89,90,91,92,93,94,95,96,97,98,99,100,101,102,103,104,105,106,107,108,109,110,111,112,113,114,115,116,117,118,119,120,121,122,123,124,125,126,127,128,129,130,131,132,133,134,135,136,137,138,139,140,141,142,143,144,145,146,147,148,149],\"petal_length\":{\"__ndarray__\":\"ZmZmZmZm9j9mZmZmZmb2P83MzMzMzPQ/AAAAAAAA+D9mZmZmZmb2PzMzMzMzM/s/ZmZmZmZm9j8AAAAAAAD4P2ZmZmZmZvY/AAAAAAAA+D8AAAAAAAD4P5qZmZmZmfk/ZmZmZmZm9j+amZmZmZnxPzMzMzMzM/M/AAAAAAAA+D/NzMzMzMz0P2ZmZmZmZvY/MzMzMzMz+z8AAAAAAAD4PzMzMzMzM/s/AAAAAAAA+D8AAAAAAADwPzMzMzMzM/s/ZmZmZmZm/j+amZmZmZn5P5qZmZmZmfk/AAAAAAAA+D9mZmZmZmb2P5qZmZmZmfk/mpmZmZmZ+T8AAAAAAAD4PwAAAAAAAPg/ZmZmZmZm9j8AAAAAAAD4PzMzMzMzM/M/zczMzMzM9D9mZmZmZmb2P83MzMzMzPQ/AAAAAAAA+D/NzMzMzMz0P83MzMzMzPQ/zczMzMzM9D+amZmZmZn5P2ZmZmZmZv4/ZmZmZmZm9j+amZmZmZn5P2ZmZmZmZvY/AAAAAAAA+D9mZmZmZmb2P83MzMzMzBJAAAAAAAAAEkCamZmZmZkTQAAAAAAAABBAZmZmZmZmEkAAAAAAAAASQM3MzMzMzBJAZmZmZmZmCkBmZmZmZmYSQDMzMzMzMw9AAAAAAAAADEDNzMzMzMwQQAAAAAAAABBAzczMzMzMEkDNzMzMzMwMQJqZmZmZmRFAAAAAAAAAEkBmZmZmZmYQQAAAAAAAABJAMzMzMzMzD0AzMzMzMzMTQAAAAAAAABBAmpmZmZmZE0DNzMzMzMwSQDMzMzMzMxFAmpmZmZmZEUAzMzMzMzMTQAAAAAAAABRAAAAAAAAAEkAAAAAAAAAMQGZmZmZmZg5AmpmZmZmZDUAzMzMzMzMPQGZmZmZmZhRAAAAAAAAAEkAAAAAAAAASQM3MzMzMzBJAmpmZmZmZEUBmZmZmZmYQQAAAAAAAABBAmpmZmZmZEUBmZmZmZmYSQAAAAAAAABBAZmZmZmZmCkDNzMzMzMwQQM3MzMzMzBBAzczMzMzMEEAzMzMzMzMRQAAAAAAAAAhAZmZmZmZmEEAAAAAAAAAYQGZmZmZmZhRAmpmZmZmZF0BmZmZmZmYWQDMzMzMzMxdAZmZmZmZmGkAAAAAAAAASQDMzMzMzMxlAMzMzMzMzF0BmZmZmZmYYQGZmZmZmZhRAMzMzMzMzFUAAAAAAAAAWQAAAAAAAABRAZmZmZmZmFEAzMzMzMzMVQAAAAAAAABZAzczMzMzMGkCamZmZmZkbQAAAAAAAABRAzczMzMzMFkCamZmZmZkTQM3MzMzMzBpAmpmZmZmZE0DNzMzMzMwWQAAAAAAAABhAMzMzMzMzE0CamZmZmZkTQGZmZmZmZhZAMzMzMzMzF0BmZmZmZmYYQJqZmZmZmRlAZmZmZmZmFkBmZmZmZmYUQGZmZmZmZhZAZmZmZmZmGEBmZmZmZmYWQAAAAAAAABZAMzMzMzMzE0CamZmZmZkVQGZmZmZmZhZAZmZmZmZmFEBmZmZmZmYUQJqZmZmZmRdAzczMzMzMFkDNzMzMzMwUQAAAAAAAABRAzczMzMzMFECamZmZmZkVQGZmZmZmZhRA\",\"dtype\":\"float64\",\"shape\":[150]},\"petal_width\":{\"__ndarray__\":\"mpmZmZmZyT+amZmZmZnJP5qZmZmZmck/mpmZmZmZyT+amZmZmZnJP5qZmZmZmdk/MzMzMzMz0z+amZmZmZnJP5qZmZmZmck/mpmZmZmZuT+amZmZmZnJP5qZmZmZmck/mpmZmZmZuT+amZmZmZm5P5qZmZmZmck/mpmZmZmZ2T+amZmZmZnZPzMzMzMzM9M/MzMzMzMz0z8zMzMzMzPTP5qZmZmZmck/mpmZmZmZ2T+amZmZmZnJPwAAAAAAAOA/mpmZmZmZyT+amZmZmZnJP5qZmZmZmdk/mpmZmZmZyT+amZmZmZnJP5qZmZmZmck/mpmZmZmZyT+amZmZmZnZP5qZmZmZmbk/mpmZmZmZyT+amZmZmZnJP5qZmZmZmck/mpmZmZmZyT+amZmZmZm5P5qZmZmZmck/mpmZmZmZyT8zMzMzMzPTPzMzMzMzM9M/mpmZmZmZyT8zMzMzMzPjP5qZmZmZmdk/MzMzMzMz0z+amZmZmZnJP5qZmZmZmck/mpmZmZmZyT+amZmZmZnJP2ZmZmZmZvY/AAAAAAAA+D8AAAAAAAD4P83MzMzMzPQ/AAAAAAAA+D/NzMzMzMz0P5qZmZmZmfk/AAAAAAAA8D/NzMzMzMz0P2ZmZmZmZvY/AAAAAAAA8D8AAAAAAAD4PwAAAAAAAPA/ZmZmZmZm9j/NzMzMzMz0P2ZmZmZmZvY/AAAAAAAA+D8AAAAAAADwPwAAAAAAAPg/mpmZmZmZ8T/NzMzMzMz8P83MzMzMzPQ/AAAAAAAA+D8zMzMzMzPzP83MzMzMzPQ/ZmZmZmZm9j9mZmZmZmb2PzMzMzMzM/s/AAAAAAAA+D8AAAAAAADwP5qZmZmZmfE/AAAAAAAA8D8zMzMzMzPzP5qZmZmZmfk/AAAAAAAA+D+amZmZmZn5PwAAAAAAAPg/zczMzMzM9D/NzMzMzMz0P83MzMzMzPQ/MzMzMzMz8z9mZmZmZmb2PzMzMzMzM/M/AAAAAAAA8D/NzMzMzMz0PzMzMzMzM/M/zczMzMzM9D/NzMzMzMz0P5qZmZmZmfE/zczMzMzM9D8AAAAAAAAEQGZmZmZmZv4/zczMzMzMAEDNzMzMzMz8P5qZmZmZmQFAzczMzMzMAEAzMzMzMzP7P83MzMzMzPw/zczMzMzM/D8AAAAAAAAEQAAAAAAAAABAZmZmZmZm/j/NzMzMzMwAQAAAAAAAAABAMzMzMzMzA0BmZmZmZmYCQM3MzMzMzPw/mpmZmZmZAUBmZmZmZmYCQAAAAAAAAPg/ZmZmZmZmAkAAAAAAAAAAQAAAAAAAAABAzczMzMzM/D/NzMzMzMwAQM3MzMzMzPw/zczMzMzM/D/NzMzMzMz8P83MzMzMzABAmpmZmZmZ+T9mZmZmZmb+PwAAAAAAAABAmpmZmZmZAUAAAAAAAAD4P2ZmZmZmZvY/ZmZmZmZmAkAzMzMzMzMDQM3MzMzMzPw/zczMzMzM/D/NzMzMzMwAQDMzMzMzMwNAZmZmZmZmAkBmZmZmZmb+P2ZmZmZmZgJAAAAAAAAABEBmZmZmZmYCQGZmZmZmZv4/AAAAAAAAAEBmZmZmZmYCQM3MzMzMzPw/\",\"dtype\":\"float64\",\"shape\":[150]},\"sepal_length\":{\"__ndarray__\":\"ZmZmZmZmFECamZmZmZkTQM3MzMzMzBJAZmZmZmZmEkAAAAAAAAAUQJqZmZmZmRVAZmZmZmZmEkAAAAAAAAAUQJqZmZmZmRFAmpmZmZmZE0CamZmZmZkVQDMzMzMzMxNAMzMzMzMzE0AzMzMzMzMRQDMzMzMzMxdAzczMzMzMFkCamZmZmZkVQGZmZmZmZhRAzczMzMzMFkBmZmZmZmYUQJqZmZmZmRVAZmZmZmZmFEBmZmZmZmYSQGZmZmZmZhRAMzMzMzMzE0AAAAAAAAAUQAAAAAAAABRAzczMzMzMFEDNzMzMzMwUQM3MzMzMzBJAMzMzMzMzE0CamZmZmZkVQM3MzMzMzBRAAAAAAAAAFkCamZmZmZkTQAAAAAAAABRAAAAAAAAAFkCamZmZmZkTQJqZmZmZmRFAZmZmZmZmFEAAAAAAAAAUQAAAAAAAABJAmpmZmZmZEUAAAAAAAAAUQGZmZmZmZhRAMzMzMzMzE0BmZmZmZmYUQGZmZmZmZhJAMzMzMzMzFUAAAAAAAAAUQAAAAAAAABxAmpmZmZmZGUCamZmZmZkbQAAAAAAAABZAAAAAAAAAGkDNzMzMzMwWQDMzMzMzMxlAmpmZmZmZE0BmZmZmZmYaQM3MzMzMzBRAAAAAAAAAFECamZmZmZkXQAAAAAAAABhAZmZmZmZmGEBmZmZmZmYWQM3MzMzMzBpAZmZmZmZmFkAzMzMzMzMXQM3MzMzMzBhAZmZmZmZmFkCamZmZmZkXQGZmZmZmZhhAMzMzMzMzGUBmZmZmZmYYQJqZmZmZmRlAZmZmZmZmGkAzMzMzMzMbQM3MzMzMzBpAAAAAAAAAGEDNzMzMzMwWQAAAAAAAABZAAAAAAAAAFkAzMzMzMzMXQAAAAAAAABhAmpmZmZmZFUAAAAAAAAAYQM3MzMzMzBpAMzMzMzMzGUBmZmZmZmYWQAAAAAAAABZAAAAAAAAAFkBmZmZmZmYYQDMzMzMzMxdAAAAAAAAAFEBmZmZmZmYWQM3MzMzMzBZAzczMzMzMFkDNzMzMzMwYQGZmZmZmZhRAzczMzMzMFkAzMzMzMzMZQDMzMzMzMxdAZmZmZmZmHEAzMzMzMzMZQAAAAAAAABpAZmZmZmZmHkCamZmZmZkTQDMzMzMzMx1AzczMzMzMGkDNzMzMzMwcQAAAAAAAABpAmpmZmZmZGUAzMzMzMzMbQM3MzMzMzBZAMzMzMzMzF0CamZmZmZkZQAAAAAAAABpAzczMzMzMHkDNzMzMzMweQAAAAAAAABhAmpmZmZmZG0BmZmZmZmYWQM3MzMzMzB5AMzMzMzMzGUDNzMzMzMwaQM3MzMzMzBxAzczMzMzMGEBmZmZmZmYYQJqZmZmZmRlAzczMzMzMHECamZmZmZkdQJqZmZmZmR9AmpmZmZmZGUAzMzMzMzMZQGZmZmZmZhhAzczMzMzMHkAzMzMzMzMZQJqZmZmZmRlAAAAAAAAAGECamZmZmZkbQM3MzMzMzBpAmpmZmZmZG0AzMzMzMzMXQDMzMzMzMxtAzczMzMzMGkDNzMzMzMwaQDMzMzMzMxlAAAAAAAAAGkDNzMzMzMwYQJqZmZmZmRdA\",\"dtype\":\"float64\",\"shape\":[150]},\"sepal_width\":{\"__ndarray__\":\"AAAAAAAADEAAAAAAAAAIQJqZmZmZmQlAzczMzMzMCEDNzMzMzMwMQDMzMzMzMw9AMzMzMzMzC0AzMzMzMzMLQDMzMzMzMwdAzczMzMzMCECamZmZmZkNQDMzMzMzMwtAAAAAAAAACEAAAAAAAAAIQAAAAAAAABBAmpmZmZmZEUAzMzMzMzMPQAAAAAAAAAxAZmZmZmZmDkBmZmZmZmYOQDMzMzMzMwtAmpmZmZmZDUDNzMzMzMwMQGZmZmZmZgpAMzMzMzMzC0AAAAAAAAAIQDMzMzMzMwtAAAAAAAAADEAzMzMzMzMLQJqZmZmZmQlAzczMzMzMCEAzMzMzMzMLQGZmZmZmZhBAzczMzMzMEEDNzMzMzMwIQJqZmZmZmQlAAAAAAAAADEDNzMzMzMwMQAAAAAAAAAhAMzMzMzMzC0AAAAAAAAAMQGZmZmZmZgJAmpmZmZmZCUAAAAAAAAAMQGZmZmZmZg5AAAAAAAAACEBmZmZmZmYOQJqZmZmZmQlAmpmZmZmZDUBmZmZmZmYKQJqZmZmZmQlAmpmZmZmZCUDNzMzMzMwIQGZmZmZmZgJAZmZmZmZmBkBmZmZmZmYGQGZmZmZmZgpAMzMzMzMzA0AzMzMzMzMHQJqZmZmZmQVAAAAAAAAAAEAAAAAAAAAIQJqZmZmZmQFAMzMzMzMzB0AzMzMzMzMHQM3MzMzMzAhAAAAAAAAACECamZmZmZkFQJqZmZmZmQFAAAAAAAAABECamZmZmZkJQGZmZmZmZgZAAAAAAAAABEBmZmZmZmYGQDMzMzMzMwdAAAAAAAAACEBmZmZmZmYGQAAAAAAAAAhAMzMzMzMzB0DNzMzMzMwEQDMzMzMzMwNAMzMzMzMzA0CamZmZmZkFQJqZmZmZmQVAAAAAAAAACEAzMzMzMzMLQM3MzMzMzAhAZmZmZmZmAkAAAAAAAAAIQAAAAAAAAARAzczMzMzMBEAAAAAAAAAIQM3MzMzMzARAZmZmZmZmAkCamZmZmZkFQAAAAAAAAAhAMzMzMzMzB0AzMzMzMzMHQAAAAAAAAARAZmZmZmZmBkBmZmZmZmYKQJqZmZmZmQVAAAAAAAAACEAzMzMzMzMHQAAAAAAAAAhAAAAAAAAACEAAAAAAAAAEQDMzMzMzMwdAAAAAAAAABEDNzMzMzMwMQJqZmZmZmQlAmpmZmZmZBUAAAAAAAAAIQAAAAAAAAARAZmZmZmZmBkCamZmZmZkJQAAAAAAAAAhAZmZmZmZmDkDNzMzMzMwEQJqZmZmZmQFAmpmZmZmZCUBmZmZmZmYGQGZmZmZmZgZAmpmZmZmZBUBmZmZmZmYKQJqZmZmZmQlAZmZmZmZmBkAAAAAAAAAIQGZmZmZmZgZAAAAAAAAACEBmZmZmZmYGQGZmZmZmZg5AZmZmZmZmBkBmZmZmZmYGQM3MzMzMzARAAAAAAAAACEAzMzMzMzMLQM3MzMzMzAhAAAAAAAAACEDNzMzMzMwIQM3MzMzMzAhAzczMzMzMCECamZmZmZkFQJqZmZmZmQlAZmZmZmZmCkAAAAAAAAAIQAAAAAAAAARAAAAAAAAACEAzMzMzMzMLQAAAAAAAAAhA\",\"dtype\":\"float64\",\"shape\":[150]},\"species\":[\"setosa\",\"setosa\",\"setosa\",\"setosa\",\"setosa\",\"setosa\",\"setosa\",\"setosa\",\"setosa\",\"setosa\",\"setosa\",\"setosa\",\"setosa\",\"setosa\",\"setosa\",\"setosa\",\"setosa\",\"setosa\",\"setosa\",\"setosa\",\"setosa\",\"setosa\",\"setosa\",\"setosa\",\"setosa\",\"setosa\",\"setosa\",\"setosa\",\"setosa\",\"setosa\",\"setosa\",\"setosa\",\"setosa\",\"setosa\",\"setosa\",\"setosa\",\"setosa\",\"setosa\",\"setosa\",\"setosa\",\"setosa\",\"setosa\",\"setosa\",\"setosa\",\"setosa\",\"setosa\",\"setosa\",\"setosa\",\"setosa\",\"setosa\",\"versicolor\",\"versicolor\",\"versicolor\",\"versicolor\",\"versicolor\",\"versicolor\",\"versicolor\",\"versicolor\",\"versicolor\",\"versicolor\",\"versicolor\",\"versicolor\",\"versicolor\",\"versicolor\",\"versicolor\",\"versicolor\",\"versicolor\",\"versicolor\",\"versicolor\",\"versicolor\",\"versicolor\",\"versicolor\",\"versicolor\",\"versicolor\",\"versicolor\",\"versicolor\",\"versicolor\",\"versicolor\",\"versicolor\",\"versicolor\",\"versicolor\",\"versicolor\",\"versicolor\",\"versicolor\",\"versicolor\",\"versicolor\",\"versicolor\",\"versicolor\",\"versicolor\",\"versicolor\",\"versicolor\",\"versicolor\",\"versicolor\",\"versicolor\",\"versicolor\",\"versicolor\",\"versicolor\",\"versicolor\",\"versicolor\",\"versicolor\",\"virginica\",\"virginica\",\"virginica\",\"virginica\",\"virginica\",\"virginica\",\"virginica\",\"virginica\",\"virginica\",\"virginica\",\"virginica\",\"virginica\",\"virginica\",\"virginica\",\"virginica\",\"virginica\",\"virginica\",\"virginica\",\"virginica\",\"virginica\",\"virginica\",\"virginica\",\"virginica\",\"virginica\",\"virginica\",\"virginica\",\"virginica\",\"virginica\",\"virginica\",\"virginica\",\"virginica\",\"virginica\",\"virginica\",\"virginica\",\"virginica\",\"virginica\",\"virginica\",\"virginica\",\"virginica\",\"virginica\",\"virginica\",\"virginica\",\"virginica\",\"virginica\",\"virginica\",\"virginica\",\"virginica\",\"virginica\",\"virginica\",\"virginica\"]},\"selected\":{\"id\":\"2534\",\"type\":\"Selection\"},\"selection_policy\":{\"id\":\"2533\",\"type\":\"UnionRenderers\"}},\"id\":\"2433\",\"type\":\"ColumnDataSource\"},{\"attributes\":{},\"id\":\"2420\",\"type\":\"PanTool\"},{\"attributes\":{\"label\":{\"field\":\"species\"},\"renderers\":[{\"id\":\"2438\",\"type\":\"GlyphRenderer\"}]},\"id\":\"2447\",\"type\":\"LegendItem\"},{\"attributes\":{},\"id\":\"2421\",\"type\":\"WheelZoomTool\"},{\"attributes\":{\"data_source\":{\"id\":\"2433\",\"type\":\"ColumnDataSource\"},\"glyph\":{\"id\":\"2436\",\"type\":\"Circle\"},\"hover_glyph\":null,\"muted_glyph\":null,\"nonselection_glyph\":{\"id\":\"2437\",\"type\":\"Circle\"},\"selection_glyph\":null,\"view\":{\"id\":\"2439\",\"type\":\"CDSView\"}},\"id\":\"2438\",\"type\":\"GlyphRenderer\"},{\"attributes\":{\"overlay\":{\"id\":\"2445\",\"type\":\"BoxAnnotation\"}},\"id\":\"2422\",\"type\":\"BoxZoomTool\"},{\"attributes\":{\"factors\":[\"setosa\",\"virginica\",\"versicolor\"],\"palette\":[\"red\",\"green\",\"blue\"]},\"id\":\"2434\",\"type\":\"CategoricalColorMapper\"},{\"attributes\":{},\"id\":\"2423\",\"type\":\"SaveTool\"},{\"attributes\":{\"text\":\"Petal Length vs. Sepal Length\"},\"id\":\"2400\",\"type\":\"Title\"},{\"attributes\":{},\"id\":\"2424\",\"type\":\"ResetTool\"}],\"root_ids\":[\"2399\"]},\"title\":\"Bokeh Application\",\"version\":\"1.2.0\"}};\n",
       "  var render_items = [{\"docid\":\"780e06b1-bdac-4714-94cf-8fdee4f6a7b7\",\"roots\":{\"2399\":\"21f2a500-38e7-48e7-9baa-ffed3c3b5915\"}}];\n",
       "  root.Bokeh.embed.embed_items_notebook(docs_json, render_items);\n",
       "\n",
       "  }\n",
       "  if (root.Bokeh !== undefined) {\n",
       "    embed_document(root);\n",
       "  } else {\n",
       "    var attempts = 0;\n",
       "    var timer = setInterval(function(root) {\n",
       "      if (root.Bokeh !== undefined) {\n",
       "        embed_document(root);\n",
       "        clearInterval(timer);\n",
       "      }\n",
       "      attempts++;\n",
       "      if (attempts > 100) {\n",
       "        console.log(\"Bokeh: ERROR: Unable to run BokehJS code because BokehJS library is missing\");\n",
       "        clearInterval(timer);\n",
       "      }\n",
       "    }, 10, root)\n",
       "  }\n",
       "})(window);"
      ],
      "application/vnd.bokehjs_exec.v0+json": ""
     },
     "metadata": {
      "application/vnd.bokehjs_exec.v0+json": {
       "id": "2399"
      }
     },
     "output_type": "display_data"
    }
   ],
   "source": [
    "plot = figure(plot_width=400, plot_height=400, x_axis_label='Petal Length', y_axis_label='Sepal Length',\n",
    "             title='Petal Length vs. Sepal Length')\n",
    "source = ColumnDataSource(flowers)\n",
    "mapper = CategoricalColorMapper(factors=['setosa', 'virginica', 'versicolor'], palette=['red', 'green', 'blue'])\n",
    "plot.circle('petal_length', 'sepal_length', color={'field':'species', 'transform':mapper},\n",
    "            legend='species', source=source)\n",
    "plot.legend.location = 'top_left'\n",
    "show(plot)\n",
    "# legend 추가"
   ]
  },
  {
   "cell_type": "code",
   "execution_count": 30,
   "metadata": {
    "colab": {
     "base_uri": "https://localhost:8080/",
     "height": 417
    },
    "colab_type": "code",
    "id": "q-2917q_1-3m",
    "outputId": "6d4e408e-7d54-4b96-f181-11a54f72170e"
   },
   "outputs": [
    {
     "data": {
      "text/html": [
       "\n",
       "\n",
       "\n",
       "\n",
       "\n",
       "\n",
       "  <div class=\"bk-root\" id=\"53cc97b0-5a8d-4023-bc50-70346477c844\" data-root-id=\"2622\"></div>\n"
      ]
     },
     "metadata": {},
     "output_type": "display_data"
    },
    {
     "data": {
      "application/javascript": [
       "(function(root) {\n",
       "  function embed_document(root) {\n",
       "    \n",
       "  var docs_json = {\"6e02306e-8f72-4df2-a975-70cdc1168123\":{\"roots\":{\"references\":[{\"attributes\":{\"below\":[{\"id\":\"2633\",\"type\":\"LinearAxis\"}],\"center\":[{\"id\":\"2637\",\"type\":\"Grid\"},{\"id\":\"2642\",\"type\":\"Grid\"},{\"id\":\"2669\",\"type\":\"Legend\"}],\"left\":[{\"id\":\"2638\",\"type\":\"LinearAxis\"}],\"plot_height\":400,\"plot_width\":400,\"renderers\":[{\"id\":\"2661\",\"type\":\"GlyphRenderer\"}],\"title\":{\"id\":\"2623\",\"type\":\"Title\"},\"toolbar\":{\"id\":\"2649\",\"type\":\"Toolbar\"},\"x_range\":{\"id\":\"2625\",\"type\":\"DataRange1d\"},\"x_scale\":{\"id\":\"2629\",\"type\":\"LinearScale\"},\"y_range\":{\"id\":\"2627\",\"type\":\"DataRange1d\"},\"y_scale\":{\"id\":\"2631\",\"type\":\"LinearScale\"}},\"id\":\"2622\",\"subtype\":\"Figure\",\"type\":\"Plot\"},{\"attributes\":{\"fill_alpha\":{\"value\":0.1},\"fill_color\":{\"value\":\"#1f77b4\"},\"line_alpha\":{\"value\":0.1},\"line_color\":{\"value\":\"#1f77b4\"},\"x\":{\"field\":\"petal_length\"},\"y\":{\"field\":\"sepal_length\"}},\"id\":\"2660\",\"type\":\"Circle\"},{\"attributes\":{\"data_source\":{\"id\":\"2656\",\"type\":\"ColumnDataSource\"},\"glyph\":{\"id\":\"2659\",\"type\":\"Circle\"},\"hover_glyph\":null,\"muted_glyph\":null,\"nonselection_glyph\":{\"id\":\"2660\",\"type\":\"Circle\"},\"selection_glyph\":null,\"view\":{\"id\":\"2662\",\"type\":\"CDSView\"}},\"id\":\"2661\",\"type\":\"GlyphRenderer\"},{\"attributes\":{\"dimension\":1,\"ticker\":{\"id\":\"2639\",\"type\":\"BasicTicker\"}},\"id\":\"2642\",\"type\":\"Grid\"},{\"attributes\":{},\"id\":\"2644\",\"type\":\"WheelZoomTool\"},{\"attributes\":{\"axis_label\":\"Sepal Length\",\"formatter\":{\"id\":\"2664\",\"type\":\"BasicTickFormatter\"},\"ticker\":{\"id\":\"2639\",\"type\":\"BasicTicker\"}},\"id\":\"2638\",\"type\":\"LinearAxis\"},{\"attributes\":{},\"id\":\"2643\",\"type\":\"PanTool\"},{\"attributes\":{},\"id\":\"2666\",\"type\":\"BasicTickFormatter\"},{\"attributes\":{\"text\":\"Petal Length vs. Sepal Length\"},\"id\":\"2623\",\"type\":\"Title\"},{\"attributes\":{\"bottom_units\":\"screen\",\"fill_alpha\":{\"value\":0.5},\"fill_color\":{\"value\":\"lightgrey\"},\"left_units\":\"screen\",\"level\":\"overlay\",\"line_alpha\":{\"value\":1.0},\"line_color\":{\"value\":\"black\"},\"line_dash\":[4,4],\"line_width\":{\"value\":2},\"render_mode\":\"css\",\"right_units\":\"screen\",\"top_units\":\"screen\"},\"id\":\"2668\",\"type\":\"BoxAnnotation\"},{\"attributes\":{\"fill_color\":{\"field\":\"species\",\"transform\":{\"id\":\"2657\",\"type\":\"CategoricalColorMapper\"}},\"line_color\":{\"field\":\"species\",\"transform\":{\"id\":\"2657\",\"type\":\"CategoricalColorMapper\"}},\"x\":{\"field\":\"petal_length\"},\"y\":{\"field\":\"sepal_length\"}},\"id\":\"2659\",\"type\":\"Circle\"},{\"attributes\":{\"background_fill_color\":{\"value\":\"lightgray\"},\"items\":[{\"id\":\"2670\",\"type\":\"LegendItem\"}],\"location\":\"top_left\"},\"id\":\"2669\",\"type\":\"Legend\"},{\"attributes\":{},\"id\":\"2664\",\"type\":\"BasicTickFormatter\"},{\"attributes\":{\"label\":{\"field\":\"species\"},\"renderers\":[{\"id\":\"2661\",\"type\":\"GlyphRenderer\"}]},\"id\":\"2670\",\"type\":\"LegendItem\"},{\"attributes\":{\"callback\":null},\"id\":\"2627\",\"type\":\"DataRange1d\"},{\"attributes\":{\"ticker\":{\"id\":\"2634\",\"type\":\"BasicTicker\"}},\"id\":\"2637\",\"type\":\"Grid\"},{\"attributes\":{},\"id\":\"2629\",\"type\":\"LinearScale\"},{\"attributes\":{\"overlay\":{\"id\":\"2668\",\"type\":\"BoxAnnotation\"}},\"id\":\"2645\",\"type\":\"BoxZoomTool\"},{\"attributes\":{},\"id\":\"2765\",\"type\":\"Selection\"},{\"attributes\":{},\"id\":\"2764\",\"type\":\"UnionRenderers\"},{\"attributes\":{},\"id\":\"2631\",\"type\":\"LinearScale\"},{\"attributes\":{\"axis_label\":\"Petal Length\",\"formatter\":{\"id\":\"2666\",\"type\":\"BasicTickFormatter\"},\"ticker\":{\"id\":\"2634\",\"type\":\"BasicTicker\"}},\"id\":\"2633\",\"type\":\"LinearAxis\"},{\"attributes\":{},\"id\":\"2634\",\"type\":\"BasicTicker\"},{\"attributes\":{\"callback\":null,\"data\":{\"index\":[0,1,2,3,4,5,6,7,8,9,10,11,12,13,14,15,16,17,18,19,20,21,22,23,24,25,26,27,28,29,30,31,32,33,34,35,36,37,38,39,40,41,42,43,44,45,46,47,48,49,50,51,52,53,54,55,56,57,58,59,60,61,62,63,64,65,66,67,68,69,70,71,72,73,74,75,76,77,78,79,80,81,82,83,84,85,86,87,88,89,90,91,92,93,94,95,96,97,98,99,100,101,102,103,104,105,106,107,108,109,110,111,112,113,114,115,116,117,118,119,120,121,122,123,124,125,126,127,128,129,130,131,132,133,134,135,136,137,138,139,140,141,142,143,144,145,146,147,148,149],\"petal_length\":{\"__ndarray__\":\"ZmZmZmZm9j9mZmZmZmb2P83MzMzMzPQ/AAAAAAAA+D9mZmZmZmb2PzMzMzMzM/s/ZmZmZmZm9j8AAAAAAAD4P2ZmZmZmZvY/AAAAAAAA+D8AAAAAAAD4P5qZmZmZmfk/ZmZmZmZm9j+amZmZmZnxPzMzMzMzM/M/AAAAAAAA+D/NzMzMzMz0P2ZmZmZmZvY/MzMzMzMz+z8AAAAAAAD4PzMzMzMzM/s/AAAAAAAA+D8AAAAAAADwPzMzMzMzM/s/ZmZmZmZm/j+amZmZmZn5P5qZmZmZmfk/AAAAAAAA+D9mZmZmZmb2P5qZmZmZmfk/mpmZmZmZ+T8AAAAAAAD4PwAAAAAAAPg/ZmZmZmZm9j8AAAAAAAD4PzMzMzMzM/M/zczMzMzM9D9mZmZmZmb2P83MzMzMzPQ/AAAAAAAA+D/NzMzMzMz0P83MzMzMzPQ/zczMzMzM9D+amZmZmZn5P2ZmZmZmZv4/ZmZmZmZm9j+amZmZmZn5P2ZmZmZmZvY/AAAAAAAA+D9mZmZmZmb2P83MzMzMzBJAAAAAAAAAEkCamZmZmZkTQAAAAAAAABBAZmZmZmZmEkAAAAAAAAASQM3MzMzMzBJAZmZmZmZmCkBmZmZmZmYSQDMzMzMzMw9AAAAAAAAADEDNzMzMzMwQQAAAAAAAABBAzczMzMzMEkDNzMzMzMwMQJqZmZmZmRFAAAAAAAAAEkBmZmZmZmYQQAAAAAAAABJAMzMzMzMzD0AzMzMzMzMTQAAAAAAAABBAmpmZmZmZE0DNzMzMzMwSQDMzMzMzMxFAmpmZmZmZEUAzMzMzMzMTQAAAAAAAABRAAAAAAAAAEkAAAAAAAAAMQGZmZmZmZg5AmpmZmZmZDUAzMzMzMzMPQGZmZmZmZhRAAAAAAAAAEkAAAAAAAAASQM3MzMzMzBJAmpmZmZmZEUBmZmZmZmYQQAAAAAAAABBAmpmZmZmZEUBmZmZmZmYSQAAAAAAAABBAZmZmZmZmCkDNzMzMzMwQQM3MzMzMzBBAzczMzMzMEEAzMzMzMzMRQAAAAAAAAAhAZmZmZmZmEEAAAAAAAAAYQGZmZmZmZhRAmpmZmZmZF0BmZmZmZmYWQDMzMzMzMxdAZmZmZmZmGkAAAAAAAAASQDMzMzMzMxlAMzMzMzMzF0BmZmZmZmYYQGZmZmZmZhRAMzMzMzMzFUAAAAAAAAAWQAAAAAAAABRAZmZmZmZmFEAzMzMzMzMVQAAAAAAAABZAzczMzMzMGkCamZmZmZkbQAAAAAAAABRAzczMzMzMFkCamZmZmZkTQM3MzMzMzBpAmpmZmZmZE0DNzMzMzMwWQAAAAAAAABhAMzMzMzMzE0CamZmZmZkTQGZmZmZmZhZAMzMzMzMzF0BmZmZmZmYYQJqZmZmZmRlAZmZmZmZmFkBmZmZmZmYUQGZmZmZmZhZAZmZmZmZmGEBmZmZmZmYWQAAAAAAAABZAMzMzMzMzE0CamZmZmZkVQGZmZmZmZhZAZmZmZmZmFEBmZmZmZmYUQJqZmZmZmRdAzczMzMzMFkDNzMzMzMwUQAAAAAAAABRAzczMzMzMFECamZmZmZkVQGZmZmZmZhRA\",\"dtype\":\"float64\",\"shape\":[150]},\"petal_width\":{\"__ndarray__\":\"mpmZmZmZyT+amZmZmZnJP5qZmZmZmck/mpmZmZmZyT+amZmZmZnJP5qZmZmZmdk/MzMzMzMz0z+amZmZmZnJP5qZmZmZmck/mpmZmZmZuT+amZmZmZnJP5qZmZmZmck/mpmZmZmZuT+amZmZmZm5P5qZmZmZmck/mpmZmZmZ2T+amZmZmZnZPzMzMzMzM9M/MzMzMzMz0z8zMzMzMzPTP5qZmZmZmck/mpmZmZmZ2T+amZmZmZnJPwAAAAAAAOA/mpmZmZmZyT+amZmZmZnJP5qZmZmZmdk/mpmZmZmZyT+amZmZmZnJP5qZmZmZmck/mpmZmZmZyT+amZmZmZnZP5qZmZmZmbk/mpmZmZmZyT+amZmZmZnJP5qZmZmZmck/mpmZmZmZyT+amZmZmZm5P5qZmZmZmck/mpmZmZmZyT8zMzMzMzPTPzMzMzMzM9M/mpmZmZmZyT8zMzMzMzPjP5qZmZmZmdk/MzMzMzMz0z+amZmZmZnJP5qZmZmZmck/mpmZmZmZyT+amZmZmZnJP2ZmZmZmZvY/AAAAAAAA+D8AAAAAAAD4P83MzMzMzPQ/AAAAAAAA+D/NzMzMzMz0P5qZmZmZmfk/AAAAAAAA8D/NzMzMzMz0P2ZmZmZmZvY/AAAAAAAA8D8AAAAAAAD4PwAAAAAAAPA/ZmZmZmZm9j/NzMzMzMz0P2ZmZmZmZvY/AAAAAAAA+D8AAAAAAADwPwAAAAAAAPg/mpmZmZmZ8T/NzMzMzMz8P83MzMzMzPQ/AAAAAAAA+D8zMzMzMzPzP83MzMzMzPQ/ZmZmZmZm9j9mZmZmZmb2PzMzMzMzM/s/AAAAAAAA+D8AAAAAAADwP5qZmZmZmfE/AAAAAAAA8D8zMzMzMzPzP5qZmZmZmfk/AAAAAAAA+D+amZmZmZn5PwAAAAAAAPg/zczMzMzM9D/NzMzMzMz0P83MzMzMzPQ/MzMzMzMz8z9mZmZmZmb2PzMzMzMzM/M/AAAAAAAA8D/NzMzMzMz0PzMzMzMzM/M/zczMzMzM9D/NzMzMzMz0P5qZmZmZmfE/zczMzMzM9D8AAAAAAAAEQGZmZmZmZv4/zczMzMzMAEDNzMzMzMz8P5qZmZmZmQFAzczMzMzMAEAzMzMzMzP7P83MzMzMzPw/zczMzMzM/D8AAAAAAAAEQAAAAAAAAABAZmZmZmZm/j/NzMzMzMwAQAAAAAAAAABAMzMzMzMzA0BmZmZmZmYCQM3MzMzMzPw/mpmZmZmZAUBmZmZmZmYCQAAAAAAAAPg/ZmZmZmZmAkAAAAAAAAAAQAAAAAAAAABAzczMzMzM/D/NzMzMzMwAQM3MzMzMzPw/zczMzMzM/D/NzMzMzMz8P83MzMzMzABAmpmZmZmZ+T9mZmZmZmb+PwAAAAAAAABAmpmZmZmZAUAAAAAAAAD4P2ZmZmZmZvY/ZmZmZmZmAkAzMzMzMzMDQM3MzMzMzPw/zczMzMzM/D/NzMzMzMwAQDMzMzMzMwNAZmZmZmZmAkBmZmZmZmb+P2ZmZmZmZgJAAAAAAAAABEBmZmZmZmYCQGZmZmZmZv4/AAAAAAAAAEBmZmZmZmYCQM3MzMzMzPw/\",\"dtype\":\"float64\",\"shape\":[150]},\"sepal_length\":{\"__ndarray__\":\"ZmZmZmZmFECamZmZmZkTQM3MzMzMzBJAZmZmZmZmEkAAAAAAAAAUQJqZmZmZmRVAZmZmZmZmEkAAAAAAAAAUQJqZmZmZmRFAmpmZmZmZE0CamZmZmZkVQDMzMzMzMxNAMzMzMzMzE0AzMzMzMzMRQDMzMzMzMxdAzczMzMzMFkCamZmZmZkVQGZmZmZmZhRAzczMzMzMFkBmZmZmZmYUQJqZmZmZmRVAZmZmZmZmFEBmZmZmZmYSQGZmZmZmZhRAMzMzMzMzE0AAAAAAAAAUQAAAAAAAABRAzczMzMzMFEDNzMzMzMwUQM3MzMzMzBJAMzMzMzMzE0CamZmZmZkVQM3MzMzMzBRAAAAAAAAAFkCamZmZmZkTQAAAAAAAABRAAAAAAAAAFkCamZmZmZkTQJqZmZmZmRFAZmZmZmZmFEAAAAAAAAAUQAAAAAAAABJAmpmZmZmZEUAAAAAAAAAUQGZmZmZmZhRAMzMzMzMzE0BmZmZmZmYUQGZmZmZmZhJAMzMzMzMzFUAAAAAAAAAUQAAAAAAAABxAmpmZmZmZGUCamZmZmZkbQAAAAAAAABZAAAAAAAAAGkDNzMzMzMwWQDMzMzMzMxlAmpmZmZmZE0BmZmZmZmYaQM3MzMzMzBRAAAAAAAAAFECamZmZmZkXQAAAAAAAABhAZmZmZmZmGEBmZmZmZmYWQM3MzMzMzBpAZmZmZmZmFkAzMzMzMzMXQM3MzMzMzBhAZmZmZmZmFkCamZmZmZkXQGZmZmZmZhhAMzMzMzMzGUBmZmZmZmYYQJqZmZmZmRlAZmZmZmZmGkAzMzMzMzMbQM3MzMzMzBpAAAAAAAAAGEDNzMzMzMwWQAAAAAAAABZAAAAAAAAAFkAzMzMzMzMXQAAAAAAAABhAmpmZmZmZFUAAAAAAAAAYQM3MzMzMzBpAMzMzMzMzGUBmZmZmZmYWQAAAAAAAABZAAAAAAAAAFkBmZmZmZmYYQDMzMzMzMxdAAAAAAAAAFEBmZmZmZmYWQM3MzMzMzBZAzczMzMzMFkDNzMzMzMwYQGZmZmZmZhRAzczMzMzMFkAzMzMzMzMZQDMzMzMzMxdAZmZmZmZmHEAzMzMzMzMZQAAAAAAAABpAZmZmZmZmHkCamZmZmZkTQDMzMzMzMx1AzczMzMzMGkDNzMzMzMwcQAAAAAAAABpAmpmZmZmZGUAzMzMzMzMbQM3MzMzMzBZAMzMzMzMzF0CamZmZmZkZQAAAAAAAABpAzczMzMzMHkDNzMzMzMweQAAAAAAAABhAmpmZmZmZG0BmZmZmZmYWQM3MzMzMzB5AMzMzMzMzGUDNzMzMzMwaQM3MzMzMzBxAzczMzMzMGEBmZmZmZmYYQJqZmZmZmRlAzczMzMzMHECamZmZmZkdQJqZmZmZmR9AmpmZmZmZGUAzMzMzMzMZQGZmZmZmZhhAzczMzMzMHkAzMzMzMzMZQJqZmZmZmRlAAAAAAAAAGECamZmZmZkbQM3MzMzMzBpAmpmZmZmZG0AzMzMzMzMXQDMzMzMzMxtAzczMzMzMGkDNzMzMzMwaQDMzMzMzMxlAAAAAAAAAGkDNzMzMzMwYQJqZmZmZmRdA\",\"dtype\":\"float64\",\"shape\":[150]},\"sepal_width\":{\"__ndarray__\":\"AAAAAAAADEAAAAAAAAAIQJqZmZmZmQlAzczMzMzMCEDNzMzMzMwMQDMzMzMzMw9AMzMzMzMzC0AzMzMzMzMLQDMzMzMzMwdAzczMzMzMCECamZmZmZkNQDMzMzMzMwtAAAAAAAAACEAAAAAAAAAIQAAAAAAAABBAmpmZmZmZEUAzMzMzMzMPQAAAAAAAAAxAZmZmZmZmDkBmZmZmZmYOQDMzMzMzMwtAmpmZmZmZDUDNzMzMzMwMQGZmZmZmZgpAMzMzMzMzC0AAAAAAAAAIQDMzMzMzMwtAAAAAAAAADEAzMzMzMzMLQJqZmZmZmQlAzczMzMzMCEAzMzMzMzMLQGZmZmZmZhBAzczMzMzMEEDNzMzMzMwIQJqZmZmZmQlAAAAAAAAADEDNzMzMzMwMQAAAAAAAAAhAMzMzMzMzC0AAAAAAAAAMQGZmZmZmZgJAmpmZmZmZCUAAAAAAAAAMQGZmZmZmZg5AAAAAAAAACEBmZmZmZmYOQJqZmZmZmQlAmpmZmZmZDUBmZmZmZmYKQJqZmZmZmQlAmpmZmZmZCUDNzMzMzMwIQGZmZmZmZgJAZmZmZmZmBkBmZmZmZmYGQGZmZmZmZgpAMzMzMzMzA0AzMzMzMzMHQJqZmZmZmQVAAAAAAAAAAEAAAAAAAAAIQJqZmZmZmQFAMzMzMzMzB0AzMzMzMzMHQM3MzMzMzAhAAAAAAAAACECamZmZmZkFQJqZmZmZmQFAAAAAAAAABECamZmZmZkJQGZmZmZmZgZAAAAAAAAABEBmZmZmZmYGQDMzMzMzMwdAAAAAAAAACEBmZmZmZmYGQAAAAAAAAAhAMzMzMzMzB0DNzMzMzMwEQDMzMzMzMwNAMzMzMzMzA0CamZmZmZkFQJqZmZmZmQVAAAAAAAAACEAzMzMzMzMLQM3MzMzMzAhAZmZmZmZmAkAAAAAAAAAIQAAAAAAAAARAzczMzMzMBEAAAAAAAAAIQM3MzMzMzARAZmZmZmZmAkCamZmZmZkFQAAAAAAAAAhAMzMzMzMzB0AzMzMzMzMHQAAAAAAAAARAZmZmZmZmBkBmZmZmZmYKQJqZmZmZmQVAAAAAAAAACEAzMzMzMzMHQAAAAAAAAAhAAAAAAAAACEAAAAAAAAAEQDMzMzMzMwdAAAAAAAAABEDNzMzMzMwMQJqZmZmZmQlAmpmZmZmZBUAAAAAAAAAIQAAAAAAAAARAZmZmZmZmBkCamZmZmZkJQAAAAAAAAAhAZmZmZmZmDkDNzMzMzMwEQJqZmZmZmQFAmpmZmZmZCUBmZmZmZmYGQGZmZmZmZgZAmpmZmZmZBUBmZmZmZmYKQJqZmZmZmQlAZmZmZmZmBkAAAAAAAAAIQGZmZmZmZgZAAAAAAAAACEBmZmZmZmYGQGZmZmZmZg5AZmZmZmZmBkBmZmZmZmYGQM3MzMzMzARAAAAAAAAACEAzMzMzMzMLQM3MzMzMzAhAAAAAAAAACEDNzMzMzMwIQM3MzMzMzAhAzczMzMzMCECamZmZmZkFQJqZmZmZmQlAZmZmZmZmCkAAAAAAAAAIQAAAAAAAAARAAAAAAAAACEAzMzMzMzMLQAAAAAAAAAhA\",\"dtype\":\"float64\",\"shape\":[150]},\"species\":[\"setosa\",\"setosa\",\"setosa\",\"setosa\",\"setosa\",\"setosa\",\"setosa\",\"setosa\",\"setosa\",\"setosa\",\"setosa\",\"setosa\",\"setosa\",\"setosa\",\"setosa\",\"setosa\",\"setosa\",\"setosa\",\"setosa\",\"setosa\",\"setosa\",\"setosa\",\"setosa\",\"setosa\",\"setosa\",\"setosa\",\"setosa\",\"setosa\",\"setosa\",\"setosa\",\"setosa\",\"setosa\",\"setosa\",\"setosa\",\"setosa\",\"setosa\",\"setosa\",\"setosa\",\"setosa\",\"setosa\",\"setosa\",\"setosa\",\"setosa\",\"setosa\",\"setosa\",\"setosa\",\"setosa\",\"setosa\",\"setosa\",\"setosa\",\"versicolor\",\"versicolor\",\"versicolor\",\"versicolor\",\"versicolor\",\"versicolor\",\"versicolor\",\"versicolor\",\"versicolor\",\"versicolor\",\"versicolor\",\"versicolor\",\"versicolor\",\"versicolor\",\"versicolor\",\"versicolor\",\"versicolor\",\"versicolor\",\"versicolor\",\"versicolor\",\"versicolor\",\"versicolor\",\"versicolor\",\"versicolor\",\"versicolor\",\"versicolor\",\"versicolor\",\"versicolor\",\"versicolor\",\"versicolor\",\"versicolor\",\"versicolor\",\"versicolor\",\"versicolor\",\"versicolor\",\"versicolor\",\"versicolor\",\"versicolor\",\"versicolor\",\"versicolor\",\"versicolor\",\"versicolor\",\"versicolor\",\"versicolor\",\"versicolor\",\"versicolor\",\"versicolor\",\"versicolor\",\"versicolor\",\"versicolor\",\"virginica\",\"virginica\",\"virginica\",\"virginica\",\"virginica\",\"virginica\",\"virginica\",\"virginica\",\"virginica\",\"virginica\",\"virginica\",\"virginica\",\"virginica\",\"virginica\",\"virginica\",\"virginica\",\"virginica\",\"virginica\",\"virginica\",\"virginica\",\"virginica\",\"virginica\",\"virginica\",\"virginica\",\"virginica\",\"virginica\",\"virginica\",\"virginica\",\"virginica\",\"virginica\",\"virginica\",\"virginica\",\"virginica\",\"virginica\",\"virginica\",\"virginica\",\"virginica\",\"virginica\",\"virginica\",\"virginica\",\"virginica\",\"virginica\",\"virginica\",\"virginica\",\"virginica\",\"virginica\",\"virginica\",\"virginica\",\"virginica\",\"virginica\"]},\"selected\":{\"id\":\"2765\",\"type\":\"Selection\"},\"selection_policy\":{\"id\":\"2764\",\"type\":\"UnionRenderers\"}},\"id\":\"2656\",\"type\":\"ColumnDataSource\"},{\"attributes\":{},\"id\":\"2647\",\"type\":\"ResetTool\"},{\"attributes\":{},\"id\":\"2648\",\"type\":\"HelpTool\"},{\"attributes\":{\"callback\":null},\"id\":\"2625\",\"type\":\"DataRange1d\"},{\"attributes\":{\"active_drag\":\"auto\",\"active_inspect\":\"auto\",\"active_multi\":null,\"active_scroll\":\"auto\",\"active_tap\":\"auto\",\"tools\":[{\"id\":\"2643\",\"type\":\"PanTool\"},{\"id\":\"2644\",\"type\":\"WheelZoomTool\"},{\"id\":\"2645\",\"type\":\"BoxZoomTool\"},{\"id\":\"2646\",\"type\":\"SaveTool\"},{\"id\":\"2647\",\"type\":\"ResetTool\"},{\"id\":\"2648\",\"type\":\"HelpTool\"}]},\"id\":\"2649\",\"type\":\"Toolbar\"},{\"attributes\":{\"factors\":[\"setosa\",\"virginica\",\"versicolor\"],\"palette\":[\"red\",\"green\",\"blue\"]},\"id\":\"2657\",\"type\":\"CategoricalColorMapper\"},{\"attributes\":{\"source\":{\"id\":\"2656\",\"type\":\"ColumnDataSource\"}},\"id\":\"2662\",\"type\":\"CDSView\"},{\"attributes\":{},\"id\":\"2639\",\"type\":\"BasicTicker\"},{\"attributes\":{},\"id\":\"2646\",\"type\":\"SaveTool\"}],\"root_ids\":[\"2622\"]},\"title\":\"Bokeh Application\",\"version\":\"1.2.0\"}};\n",
       "  var render_items = [{\"docid\":\"6e02306e-8f72-4df2-a975-70cdc1168123\",\"roots\":{\"2622\":\"53cc97b0-5a8d-4023-bc50-70346477c844\"}}];\n",
       "  root.Bokeh.embed.embed_items_notebook(docs_json, render_items);\n",
       "\n",
       "  }\n",
       "  if (root.Bokeh !== undefined) {\n",
       "    embed_document(root);\n",
       "  } else {\n",
       "    var attempts = 0;\n",
       "    var timer = setInterval(function(root) {\n",
       "      if (root.Bokeh !== undefined) {\n",
       "        embed_document(root);\n",
       "        clearInterval(timer);\n",
       "      }\n",
       "      attempts++;\n",
       "      if (attempts > 100) {\n",
       "        console.log(\"Bokeh: ERROR: Unable to run BokehJS code because BokehJS library is missing\");\n",
       "        clearInterval(timer);\n",
       "      }\n",
       "    }, 10, root)\n",
       "  }\n",
       "})(window);"
      ],
      "application/vnd.bokehjs_exec.v0+json": ""
     },
     "metadata": {
      "application/vnd.bokehjs_exec.v0+json": {
       "id": "2622"
      }
     },
     "output_type": "display_data"
    }
   ],
   "source": [
    "plot = figure(plot_width=400, plot_height=400, x_axis_label='Petal Length', y_axis_label='Sepal Length',\n",
    "             title='Petal Length vs. Sepal Length')\n",
    "source = ColumnDataSource(flowers)\n",
    "mapper = CategoricalColorMapper(factors=['setosa', 'virginica', 'versicolor'], palette=['red', 'green', 'blue'])\n",
    "plot.circle('petal_length', 'sepal_length', color={'field':'species', 'transform':mapper},\n",
    "            legend='species', source=source)\n",
    "plot.legend.location = 'top_left'\n",
    "plot.legend.background_fill_color = 'lightgray'\n",
    "show(plot)\n",
    "# 레전드 배경색 변경"
   ]
  },
  {
   "cell_type": "code",
   "execution_count": 31,
   "metadata": {
    "colab": {},
    "colab_type": "code",
    "id": "YpiAIJon1-6t"
   },
   "outputs": [],
   "source": [
    "from bokeh.layouts import row"
   ]
  },
  {
   "cell_type": "code",
   "execution_count": 32,
   "metadata": {
    "colab": {
     "base_uri": "https://localhost:8080/",
     "height": 417
    },
    "colab_type": "code",
    "id": "0cNA32t71_A-",
    "outputId": "abfd2fcd-da1f-4ed7-b22d-53d4abe5f5f4"
   },
   "outputs": [
    {
     "data": {
      "text/html": [
       "\n",
       "\n",
       "\n",
       "\n",
       "\n",
       "\n",
       "  <div class=\"bk-root\" id=\"17b7919b-1d41-4303-87c2-363cda057f9d\" data-root-id=\"2894\"></div>\n"
      ]
     },
     "metadata": {},
     "output_type": "display_data"
    },
    {
     "data": {
      "application/javascript": [
       "(function(root) {\n",
       "  function embed_document(root) {\n",
       "    \n",
       "  var docs_json = {\"c400f3ff-bff3-47bf-947b-dc3d5b85201e\":{\"roots\":{\"references\":[{\"attributes\":{\"children\":[{\"id\":\"2816\",\"subtype\":\"Figure\",\"type\":\"Plot\"},{\"id\":\"2855\",\"subtype\":\"Figure\",\"type\":\"Plot\"}]},\"id\":\"2894\",\"type\":\"Row\"},{\"attributes\":{\"active_drag\":\"auto\",\"active_inspect\":\"auto\",\"active_multi\":null,\"active_scroll\":\"auto\",\"active_tap\":\"auto\",\"tools\":[{\"id\":\"2876\",\"type\":\"PanTool\"},{\"id\":\"2877\",\"type\":\"WheelZoomTool\"},{\"id\":\"2878\",\"type\":\"BoxZoomTool\"},{\"id\":\"2879\",\"type\":\"SaveTool\"},{\"id\":\"2880\",\"type\":\"ResetTool\"},{\"id\":\"2881\",\"type\":\"HelpTool\"}]},\"id\":\"2882\",\"type\":\"Toolbar\"},{\"attributes\":{\"data_source\":{\"id\":\"2815\",\"type\":\"ColumnDataSource\"},\"glyph\":{\"id\":\"2851\",\"type\":\"Circle\"},\"hover_glyph\":null,\"muted_glyph\":null,\"nonselection_glyph\":{\"id\":\"2852\",\"type\":\"Circle\"},\"selection_glyph\":null,\"view\":{\"id\":\"2854\",\"type\":\"CDSView\"}},\"id\":\"2853\",\"type\":\"GlyphRenderer\"},{\"attributes\":{},\"id\":\"2838\",\"type\":\"WheelZoomTool\"},{\"attributes\":{\"overlay\":{\"id\":\"3003\",\"type\":\"BoxAnnotation\"}},\"id\":\"2839\",\"type\":\"BoxZoomTool\"},{\"attributes\":{\"source\":{\"id\":\"2815\",\"type\":\"ColumnDataSource\"}},\"id\":\"2893\",\"type\":\"CDSView\"},{\"attributes\":{},\"id\":\"2823\",\"type\":\"LinearScale\"},{\"attributes\":{},\"id\":\"2840\",\"type\":\"SaveTool\"},{\"attributes\":{},\"id\":\"2833\",\"type\":\"BasicTicker\"},{\"attributes\":{},\"id\":\"2841\",\"type\":\"ResetTool\"},{\"attributes\":{},\"id\":\"2842\",\"type\":\"HelpTool\"},{\"attributes\":{},\"id\":\"2997\",\"type\":\"BasicTickFormatter\"},{\"attributes\":{},\"id\":\"2993\",\"type\":\"BasicTickFormatter\"},{\"attributes\":{\"callback\":null},\"id\":\"2819\",\"type\":\"DataRange1d\"},{\"attributes\":{\"active_drag\":\"auto\",\"active_inspect\":\"auto\",\"active_multi\":null,\"active_scroll\":\"auto\",\"active_tap\":\"auto\",\"tools\":[{\"id\":\"2837\",\"type\":\"PanTool\"},{\"id\":\"2838\",\"type\":\"WheelZoomTool\"},{\"id\":\"2839\",\"type\":\"BoxZoomTool\"},{\"id\":\"2840\",\"type\":\"SaveTool\"},{\"id\":\"2841\",\"type\":\"ResetTool\"},{\"id\":\"2842\",\"type\":\"HelpTool\"}]},\"id\":\"2843\",\"type\":\"Toolbar\"},{\"attributes\":{},\"id\":\"2999\",\"type\":\"BasicTickFormatter\"},{\"attributes\":{\"text\":\"Petal Length vs. Sepal Length\"},\"id\":\"2817\",\"type\":\"Title\"},{\"attributes\":{},\"id\":\"3001\",\"type\":\"UnionRenderers\"},{\"attributes\":{\"axis_label\":\"Petal Width\",\"formatter\":{\"id\":\"2997\",\"type\":\"BasicTickFormatter\"},\"ticker\":{\"id\":\"2872\",\"type\":\"BasicTicker\"}},\"id\":\"2871\",\"type\":\"LinearAxis\"},{\"attributes\":{\"callback\":null},\"id\":\"2821\",\"type\":\"DataRange1d\"},{\"attributes\":{},\"id\":\"3002\",\"type\":\"Selection\"},{\"attributes\":{},\"id\":\"2872\",\"type\":\"BasicTicker\"},{\"attributes\":{},\"id\":\"2837\",\"type\":\"PanTool\"},{\"attributes\":{},\"id\":\"2867\",\"type\":\"BasicTicker\"},{\"attributes\":{},\"id\":\"2995\",\"type\":\"BasicTickFormatter\"},{\"attributes\":{\"bottom_units\":\"screen\",\"fill_alpha\":{\"value\":0.5},\"fill_color\":{\"value\":\"lightgrey\"},\"left_units\":\"screen\",\"level\":\"overlay\",\"line_alpha\":{\"value\":1.0},\"line_color\":{\"value\":\"black\"},\"line_dash\":[4,4],\"line_width\":{\"value\":2},\"render_mode\":\"css\",\"right_units\":\"screen\",\"top_units\":\"screen\"},\"id\":\"3003\",\"type\":\"BoxAnnotation\"},{\"attributes\":{\"dimension\":1,\"ticker\":{\"id\":\"2872\",\"type\":\"BasicTicker\"}},\"id\":\"2875\",\"type\":\"Grid\"},{\"attributes\":{\"dimension\":1,\"ticker\":{\"id\":\"2833\",\"type\":\"BasicTicker\"}},\"id\":\"2836\",\"type\":\"Grid\"},{\"attributes\":{\"source\":{\"id\":\"2815\",\"type\":\"ColumnDataSource\"}},\"id\":\"2854\",\"type\":\"CDSView\"},{\"attributes\":{\"callback\":null},\"id\":\"2860\",\"type\":\"DataRange1d\"},{\"attributes\":{},\"id\":\"2828\",\"type\":\"BasicTicker\"},{\"attributes\":{\"bottom_units\":\"screen\",\"fill_alpha\":{\"value\":0.5},\"fill_color\":{\"value\":\"lightgrey\"},\"left_units\":\"screen\",\"level\":\"overlay\",\"line_alpha\":{\"value\":1.0},\"line_color\":{\"value\":\"black\"},\"line_dash\":[4,4],\"line_width\":{\"value\":2},\"render_mode\":\"css\",\"right_units\":\"screen\",\"top_units\":\"screen\"},\"id\":\"3004\",\"type\":\"BoxAnnotation\"},{\"attributes\":{\"fill_alpha\":{\"value\":0.1},\"fill_color\":{\"value\":\"#1f77b4\"},\"line_alpha\":{\"value\":0.1},\"line_color\":{\"value\":\"#1f77b4\"},\"x\":{\"field\":\"petal_length\"},\"y\":{\"field\":\"petal_width\"}},\"id\":\"2891\",\"type\":\"Circle\"},{\"attributes\":{\"ticker\":{\"id\":\"2828\",\"type\":\"BasicTicker\"}},\"id\":\"2831\",\"type\":\"Grid\"},{\"attributes\":{\"ticker\":{\"id\":\"2867\",\"type\":\"BasicTicker\"}},\"id\":\"2870\",\"type\":\"Grid\"},{\"attributes\":{\"fill_color\":{\"value\":\"blue\"},\"line_color\":{\"value\":\"blue\"},\"x\":{\"field\":\"petal_length\"},\"y\":{\"field\":\"petal_width\"}},\"id\":\"2890\",\"type\":\"Circle\"},{\"attributes\":{\"axis_label\":\"Sepal Length\",\"formatter\":{\"id\":\"2993\",\"type\":\"BasicTickFormatter\"},\"ticker\":{\"id\":\"2833\",\"type\":\"BasicTicker\"}},\"id\":\"2832\",\"type\":\"LinearAxis\"},{\"attributes\":{\"data_source\":{\"id\":\"2815\",\"type\":\"ColumnDataSource\"},\"glyph\":{\"id\":\"2890\",\"type\":\"Circle\"},\"hover_glyph\":null,\"muted_glyph\":null,\"nonselection_glyph\":{\"id\":\"2891\",\"type\":\"Circle\"},\"selection_glyph\":null,\"view\":{\"id\":\"2893\",\"type\":\"CDSView\"}},\"id\":\"2892\",\"type\":\"GlyphRenderer\"},{\"attributes\":{\"axis_label\":\"Petal Length\",\"formatter\":{\"id\":\"2999\",\"type\":\"BasicTickFormatter\"},\"ticker\":{\"id\":\"2867\",\"type\":\"BasicTicker\"}},\"id\":\"2866\",\"type\":\"LinearAxis\"},{\"attributes\":{},\"id\":\"2876\",\"type\":\"PanTool\"},{\"attributes\":{},\"id\":\"2877\",\"type\":\"WheelZoomTool\"},{\"attributes\":{\"fill_alpha\":{\"value\":0.1},\"fill_color\":{\"value\":\"#1f77b4\"},\"line_alpha\":{\"value\":0.1},\"line_color\":{\"value\":\"#1f77b4\"},\"x\":{\"field\":\"petal_length\"},\"y\":{\"field\":\"sepal_length\"}},\"id\":\"2852\",\"type\":\"Circle\"},{\"attributes\":{\"fill_color\":{\"value\":\"red\"},\"line_color\":{\"value\":\"red\"},\"x\":{\"field\":\"petal_length\"},\"y\":{\"field\":\"sepal_length\"}},\"id\":\"2851\",\"type\":\"Circle\"},{\"attributes\":{\"callback\":null},\"id\":\"2858\",\"type\":\"DataRange1d\"},{\"attributes\":{\"overlay\":{\"id\":\"3004\",\"type\":\"BoxAnnotation\"}},\"id\":\"2878\",\"type\":\"BoxZoomTool\"},{\"attributes\":{},\"id\":\"2864\",\"type\":\"LinearScale\"},{\"attributes\":{\"text\":\"Petal Length vs. Petal Width\"},\"id\":\"2856\",\"type\":\"Title\"},{\"attributes\":{},\"id\":\"2879\",\"type\":\"SaveTool\"},{\"attributes\":{},\"id\":\"2825\",\"type\":\"LinearScale\"},{\"attributes\":{\"callback\":null,\"data\":{\"index\":[0,1,2,3,4,5,6,7,8,9,10,11,12,13,14,15,16,17,18,19,20,21,22,23,24,25,26,27,28,29,30,31,32,33,34,35,36,37,38,39,40,41,42,43,44,45,46,47,48,49,50,51,52,53,54,55,56,57,58,59,60,61,62,63,64,65,66,67,68,69,70,71,72,73,74,75,76,77,78,79,80,81,82,83,84,85,86,87,88,89,90,91,92,93,94,95,96,97,98,99,100,101,102,103,104,105,106,107,108,109,110,111,112,113,114,115,116,117,118,119,120,121,122,123,124,125,126,127,128,129,130,131,132,133,134,135,136,137,138,139,140,141,142,143,144,145,146,147,148,149],\"petal_length\":{\"__ndarray__\":\"ZmZmZmZm9j9mZmZmZmb2P83MzMzMzPQ/AAAAAAAA+D9mZmZmZmb2PzMzMzMzM/s/ZmZmZmZm9j8AAAAAAAD4P2ZmZmZmZvY/AAAAAAAA+D8AAAAAAAD4P5qZmZmZmfk/ZmZmZmZm9j+amZmZmZnxPzMzMzMzM/M/AAAAAAAA+D/NzMzMzMz0P2ZmZmZmZvY/MzMzMzMz+z8AAAAAAAD4PzMzMzMzM/s/AAAAAAAA+D8AAAAAAADwPzMzMzMzM/s/ZmZmZmZm/j+amZmZmZn5P5qZmZmZmfk/AAAAAAAA+D9mZmZmZmb2P5qZmZmZmfk/mpmZmZmZ+T8AAAAAAAD4PwAAAAAAAPg/ZmZmZmZm9j8AAAAAAAD4PzMzMzMzM/M/zczMzMzM9D9mZmZmZmb2P83MzMzMzPQ/AAAAAAAA+D/NzMzMzMz0P83MzMzMzPQ/zczMzMzM9D+amZmZmZn5P2ZmZmZmZv4/ZmZmZmZm9j+amZmZmZn5P2ZmZmZmZvY/AAAAAAAA+D9mZmZmZmb2P83MzMzMzBJAAAAAAAAAEkCamZmZmZkTQAAAAAAAABBAZmZmZmZmEkAAAAAAAAASQM3MzMzMzBJAZmZmZmZmCkBmZmZmZmYSQDMzMzMzMw9AAAAAAAAADEDNzMzMzMwQQAAAAAAAABBAzczMzMzMEkDNzMzMzMwMQJqZmZmZmRFAAAAAAAAAEkBmZmZmZmYQQAAAAAAAABJAMzMzMzMzD0AzMzMzMzMTQAAAAAAAABBAmpmZmZmZE0DNzMzMzMwSQDMzMzMzMxFAmpmZmZmZEUAzMzMzMzMTQAAAAAAAABRAAAAAAAAAEkAAAAAAAAAMQGZmZmZmZg5AmpmZmZmZDUAzMzMzMzMPQGZmZmZmZhRAAAAAAAAAEkAAAAAAAAASQM3MzMzMzBJAmpmZmZmZEUBmZmZmZmYQQAAAAAAAABBAmpmZmZmZEUBmZmZmZmYSQAAAAAAAABBAZmZmZmZmCkDNzMzMzMwQQM3MzMzMzBBAzczMzMzMEEAzMzMzMzMRQAAAAAAAAAhAZmZmZmZmEEAAAAAAAAAYQGZmZmZmZhRAmpmZmZmZF0BmZmZmZmYWQDMzMzMzMxdAZmZmZmZmGkAAAAAAAAASQDMzMzMzMxlAMzMzMzMzF0BmZmZmZmYYQGZmZmZmZhRAMzMzMzMzFUAAAAAAAAAWQAAAAAAAABRAZmZmZmZmFEAzMzMzMzMVQAAAAAAAABZAzczMzMzMGkCamZmZmZkbQAAAAAAAABRAzczMzMzMFkCamZmZmZkTQM3MzMzMzBpAmpmZmZmZE0DNzMzMzMwWQAAAAAAAABhAMzMzMzMzE0CamZmZmZkTQGZmZmZmZhZAMzMzMzMzF0BmZmZmZmYYQJqZmZmZmRlAZmZmZmZmFkBmZmZmZmYUQGZmZmZmZhZAZmZmZmZmGEBmZmZmZmYWQAAAAAAAABZAMzMzMzMzE0CamZmZmZkVQGZmZmZmZhZAZmZmZmZmFEBmZmZmZmYUQJqZmZmZmRdAzczMzMzMFkDNzMzMzMwUQAAAAAAAABRAzczMzMzMFECamZmZmZkVQGZmZmZmZhRA\",\"dtype\":\"float64\",\"shape\":[150]},\"petal_width\":{\"__ndarray__\":\"mpmZmZmZyT+amZmZmZnJP5qZmZmZmck/mpmZmZmZyT+amZmZmZnJP5qZmZmZmdk/MzMzMzMz0z+amZmZmZnJP5qZmZmZmck/mpmZmZmZuT+amZmZmZnJP5qZmZmZmck/mpmZmZmZuT+amZmZmZm5P5qZmZmZmck/mpmZmZmZ2T+amZmZmZnZPzMzMzMzM9M/MzMzMzMz0z8zMzMzMzPTP5qZmZmZmck/mpmZmZmZ2T+amZmZmZnJPwAAAAAAAOA/mpmZmZmZyT+amZmZmZnJP5qZmZmZmdk/mpmZmZmZyT+amZmZmZnJP5qZmZmZmck/mpmZmZmZyT+amZmZmZnZP5qZmZmZmbk/mpmZmZmZyT+amZmZmZnJP5qZmZmZmck/mpmZmZmZyT+amZmZmZm5P5qZmZmZmck/mpmZmZmZyT8zMzMzMzPTPzMzMzMzM9M/mpmZmZmZyT8zMzMzMzPjP5qZmZmZmdk/MzMzMzMz0z+amZmZmZnJP5qZmZmZmck/mpmZmZmZyT+amZmZmZnJP2ZmZmZmZvY/AAAAAAAA+D8AAAAAAAD4P83MzMzMzPQ/AAAAAAAA+D/NzMzMzMz0P5qZmZmZmfk/AAAAAAAA8D/NzMzMzMz0P2ZmZmZmZvY/AAAAAAAA8D8AAAAAAAD4PwAAAAAAAPA/ZmZmZmZm9j/NzMzMzMz0P2ZmZmZmZvY/AAAAAAAA+D8AAAAAAADwPwAAAAAAAPg/mpmZmZmZ8T/NzMzMzMz8P83MzMzMzPQ/AAAAAAAA+D8zMzMzMzPzP83MzMzMzPQ/ZmZmZmZm9j9mZmZmZmb2PzMzMzMzM/s/AAAAAAAA+D8AAAAAAADwP5qZmZmZmfE/AAAAAAAA8D8zMzMzMzPzP5qZmZmZmfk/AAAAAAAA+D+amZmZmZn5PwAAAAAAAPg/zczMzMzM9D/NzMzMzMz0P83MzMzMzPQ/MzMzMzMz8z9mZmZmZmb2PzMzMzMzM/M/AAAAAAAA8D/NzMzMzMz0PzMzMzMzM/M/zczMzMzM9D/NzMzMzMz0P5qZmZmZmfE/zczMzMzM9D8AAAAAAAAEQGZmZmZmZv4/zczMzMzMAEDNzMzMzMz8P5qZmZmZmQFAzczMzMzMAEAzMzMzMzP7P83MzMzMzPw/zczMzMzM/D8AAAAAAAAEQAAAAAAAAABAZmZmZmZm/j/NzMzMzMwAQAAAAAAAAABAMzMzMzMzA0BmZmZmZmYCQM3MzMzMzPw/mpmZmZmZAUBmZmZmZmYCQAAAAAAAAPg/ZmZmZmZmAkAAAAAAAAAAQAAAAAAAAABAzczMzMzM/D/NzMzMzMwAQM3MzMzMzPw/zczMzMzM/D/NzMzMzMz8P83MzMzMzABAmpmZmZmZ+T9mZmZmZmb+PwAAAAAAAABAmpmZmZmZAUAAAAAAAAD4P2ZmZmZmZvY/ZmZmZmZmAkAzMzMzMzMDQM3MzMzMzPw/zczMzMzM/D/NzMzMzMwAQDMzMzMzMwNAZmZmZmZmAkBmZmZmZmb+P2ZmZmZmZgJAAAAAAAAABEBmZmZmZmYCQGZmZmZmZv4/AAAAAAAAAEBmZmZmZmYCQM3MzMzMzPw/\",\"dtype\":\"float64\",\"shape\":[150]},\"sepal_length\":{\"__ndarray__\":\"ZmZmZmZmFECamZmZmZkTQM3MzMzMzBJAZmZmZmZmEkAAAAAAAAAUQJqZmZmZmRVAZmZmZmZmEkAAAAAAAAAUQJqZmZmZmRFAmpmZmZmZE0CamZmZmZkVQDMzMzMzMxNAMzMzMzMzE0AzMzMzMzMRQDMzMzMzMxdAzczMzMzMFkCamZmZmZkVQGZmZmZmZhRAzczMzMzMFkBmZmZmZmYUQJqZmZmZmRVAZmZmZmZmFEBmZmZmZmYSQGZmZmZmZhRAMzMzMzMzE0AAAAAAAAAUQAAAAAAAABRAzczMzMzMFEDNzMzMzMwUQM3MzMzMzBJAMzMzMzMzE0CamZmZmZkVQM3MzMzMzBRAAAAAAAAAFkCamZmZmZkTQAAAAAAAABRAAAAAAAAAFkCamZmZmZkTQJqZmZmZmRFAZmZmZmZmFEAAAAAAAAAUQAAAAAAAABJAmpmZmZmZEUAAAAAAAAAUQGZmZmZmZhRAMzMzMzMzE0BmZmZmZmYUQGZmZmZmZhJAMzMzMzMzFUAAAAAAAAAUQAAAAAAAABxAmpmZmZmZGUCamZmZmZkbQAAAAAAAABZAAAAAAAAAGkDNzMzMzMwWQDMzMzMzMxlAmpmZmZmZE0BmZmZmZmYaQM3MzMzMzBRAAAAAAAAAFECamZmZmZkXQAAAAAAAABhAZmZmZmZmGEBmZmZmZmYWQM3MzMzMzBpAZmZmZmZmFkAzMzMzMzMXQM3MzMzMzBhAZmZmZmZmFkCamZmZmZkXQGZmZmZmZhhAMzMzMzMzGUBmZmZmZmYYQJqZmZmZmRlAZmZmZmZmGkAzMzMzMzMbQM3MzMzMzBpAAAAAAAAAGEDNzMzMzMwWQAAAAAAAABZAAAAAAAAAFkAzMzMzMzMXQAAAAAAAABhAmpmZmZmZFUAAAAAAAAAYQM3MzMzMzBpAMzMzMzMzGUBmZmZmZmYWQAAAAAAAABZAAAAAAAAAFkBmZmZmZmYYQDMzMzMzMxdAAAAAAAAAFEBmZmZmZmYWQM3MzMzMzBZAzczMzMzMFkDNzMzMzMwYQGZmZmZmZhRAzczMzMzMFkAzMzMzMzMZQDMzMzMzMxdAZmZmZmZmHEAzMzMzMzMZQAAAAAAAABpAZmZmZmZmHkCamZmZmZkTQDMzMzMzMx1AzczMzMzMGkDNzMzMzMwcQAAAAAAAABpAmpmZmZmZGUAzMzMzMzMbQM3MzMzMzBZAMzMzMzMzF0CamZmZmZkZQAAAAAAAABpAzczMzMzMHkDNzMzMzMweQAAAAAAAABhAmpmZmZmZG0BmZmZmZmYWQM3MzMzMzB5AMzMzMzMzGUDNzMzMzMwaQM3MzMzMzBxAzczMzMzMGEBmZmZmZmYYQJqZmZmZmRlAzczMzMzMHECamZmZmZkdQJqZmZmZmR9AmpmZmZmZGUAzMzMzMzMZQGZmZmZmZhhAzczMzMzMHkAzMzMzMzMZQJqZmZmZmRlAAAAAAAAAGECamZmZmZkbQM3MzMzMzBpAmpmZmZmZG0AzMzMzMzMXQDMzMzMzMxtAzczMzMzMGkDNzMzMzMwaQDMzMzMzMxlAAAAAAAAAGkDNzMzMzMwYQJqZmZmZmRdA\",\"dtype\":\"float64\",\"shape\":[150]},\"sepal_width\":{\"__ndarray__\":\"AAAAAAAADEAAAAAAAAAIQJqZmZmZmQlAzczMzMzMCEDNzMzMzMwMQDMzMzMzMw9AMzMzMzMzC0AzMzMzMzMLQDMzMzMzMwdAzczMzMzMCECamZmZmZkNQDMzMzMzMwtAAAAAAAAACEAAAAAAAAAIQAAAAAAAABBAmpmZmZmZEUAzMzMzMzMPQAAAAAAAAAxAZmZmZmZmDkBmZmZmZmYOQDMzMzMzMwtAmpmZmZmZDUDNzMzMzMwMQGZmZmZmZgpAMzMzMzMzC0AAAAAAAAAIQDMzMzMzMwtAAAAAAAAADEAzMzMzMzMLQJqZmZmZmQlAzczMzMzMCEAzMzMzMzMLQGZmZmZmZhBAzczMzMzMEEDNzMzMzMwIQJqZmZmZmQlAAAAAAAAADEDNzMzMzMwMQAAAAAAAAAhAMzMzMzMzC0AAAAAAAAAMQGZmZmZmZgJAmpmZmZmZCUAAAAAAAAAMQGZmZmZmZg5AAAAAAAAACEBmZmZmZmYOQJqZmZmZmQlAmpmZmZmZDUBmZmZmZmYKQJqZmZmZmQlAmpmZmZmZCUDNzMzMzMwIQGZmZmZmZgJAZmZmZmZmBkBmZmZmZmYGQGZmZmZmZgpAMzMzMzMzA0AzMzMzMzMHQJqZmZmZmQVAAAAAAAAAAEAAAAAAAAAIQJqZmZmZmQFAMzMzMzMzB0AzMzMzMzMHQM3MzMzMzAhAAAAAAAAACECamZmZmZkFQJqZmZmZmQFAAAAAAAAABECamZmZmZkJQGZmZmZmZgZAAAAAAAAABEBmZmZmZmYGQDMzMzMzMwdAAAAAAAAACEBmZmZmZmYGQAAAAAAAAAhAMzMzMzMzB0DNzMzMzMwEQDMzMzMzMwNAMzMzMzMzA0CamZmZmZkFQJqZmZmZmQVAAAAAAAAACEAzMzMzMzMLQM3MzMzMzAhAZmZmZmZmAkAAAAAAAAAIQAAAAAAAAARAzczMzMzMBEAAAAAAAAAIQM3MzMzMzARAZmZmZmZmAkCamZmZmZkFQAAAAAAAAAhAMzMzMzMzB0AzMzMzMzMHQAAAAAAAAARAZmZmZmZmBkBmZmZmZmYKQJqZmZmZmQVAAAAAAAAACEAzMzMzMzMHQAAAAAAAAAhAAAAAAAAACEAAAAAAAAAEQDMzMzMzMwdAAAAAAAAABEDNzMzMzMwMQJqZmZmZmQlAmpmZmZmZBUAAAAAAAAAIQAAAAAAAAARAZmZmZmZmBkCamZmZmZkJQAAAAAAAAAhAZmZmZmZmDkDNzMzMzMwEQJqZmZmZmQFAmpmZmZmZCUBmZmZmZmYGQGZmZmZmZgZAmpmZmZmZBUBmZmZmZmYKQJqZmZmZmQlAZmZmZmZmBkAAAAAAAAAIQGZmZmZmZgZAAAAAAAAACEBmZmZmZmYGQGZmZmZmZg5AZmZmZmZmBkBmZmZmZmYGQM3MzMzMzARAAAAAAAAACEAzMzMzMzMLQM3MzMzMzAhAAAAAAAAACEDNzMzMzMwIQM3MzMzMzAhAzczMzMzMCECamZmZmZkFQJqZmZmZmQlAZmZmZmZmCkAAAAAAAAAIQAAAAAAAAARAAAAAAAAACEAzMzMzMzMLQAAAAAAAAAhA\",\"dtype\":\"float64\",\"shape\":[150]},\"species\":[\"setosa\",\"setosa\",\"setosa\",\"setosa\",\"setosa\",\"setosa\",\"setosa\",\"setosa\",\"setosa\",\"setosa\",\"setosa\",\"setosa\",\"setosa\",\"setosa\",\"setosa\",\"setosa\",\"setosa\",\"setosa\",\"setosa\",\"setosa\",\"setosa\",\"setosa\",\"setosa\",\"setosa\",\"setosa\",\"setosa\",\"setosa\",\"setosa\",\"setosa\",\"setosa\",\"setosa\",\"setosa\",\"setosa\",\"setosa\",\"setosa\",\"setosa\",\"setosa\",\"setosa\",\"setosa\",\"setosa\",\"setosa\",\"setosa\",\"setosa\",\"setosa\",\"setosa\",\"setosa\",\"setosa\",\"setosa\",\"setosa\",\"setosa\",\"versicolor\",\"versicolor\",\"versicolor\",\"versicolor\",\"versicolor\",\"versicolor\",\"versicolor\",\"versicolor\",\"versicolor\",\"versicolor\",\"versicolor\",\"versicolor\",\"versicolor\",\"versicolor\",\"versicolor\",\"versicolor\",\"versicolor\",\"versicolor\",\"versicolor\",\"versicolor\",\"versicolor\",\"versicolor\",\"versicolor\",\"versicolor\",\"versicolor\",\"versicolor\",\"versicolor\",\"versicolor\",\"versicolor\",\"versicolor\",\"versicolor\",\"versicolor\",\"versicolor\",\"versicolor\",\"versicolor\",\"versicolor\",\"versicolor\",\"versicolor\",\"versicolor\",\"versicolor\",\"versicolor\",\"versicolor\",\"versicolor\",\"versicolor\",\"versicolor\",\"versicolor\",\"versicolor\",\"versicolor\",\"versicolor\",\"versicolor\",\"virginica\",\"virginica\",\"virginica\",\"virginica\",\"virginica\",\"virginica\",\"virginica\",\"virginica\",\"virginica\",\"virginica\",\"virginica\",\"virginica\",\"virginica\",\"virginica\",\"virginica\",\"virginica\",\"virginica\",\"virginica\",\"virginica\",\"virginica\",\"virginica\",\"virginica\",\"virginica\",\"virginica\",\"virginica\",\"virginica\",\"virginica\",\"virginica\",\"virginica\",\"virginica\",\"virginica\",\"virginica\",\"virginica\",\"virginica\",\"virginica\",\"virginica\",\"virginica\",\"virginica\",\"virginica\",\"virginica\",\"virginica\",\"virginica\",\"virginica\",\"virginica\",\"virginica\",\"virginica\",\"virginica\",\"virginica\",\"virginica\",\"virginica\"]},\"selected\":{\"id\":\"3002\",\"type\":\"Selection\"},\"selection_policy\":{\"id\":\"3001\",\"type\":\"UnionRenderers\"}},\"id\":\"2815\",\"type\":\"ColumnDataSource\"},{\"attributes\":{},\"id\":\"2880\",\"type\":\"ResetTool\"},{\"attributes\":{\"below\":[{\"id\":\"2827\",\"type\":\"LinearAxis\"}],\"center\":[{\"id\":\"2831\",\"type\":\"Grid\"},{\"id\":\"2836\",\"type\":\"Grid\"}],\"left\":[{\"id\":\"2832\",\"type\":\"LinearAxis\"}],\"plot_height\":400,\"plot_width\":400,\"renderers\":[{\"id\":\"2853\",\"type\":\"GlyphRenderer\"}],\"title\":{\"id\":\"2817\",\"type\":\"Title\"},\"toolbar\":{\"id\":\"2843\",\"type\":\"Toolbar\"},\"x_range\":{\"id\":\"2819\",\"type\":\"DataRange1d\"},\"x_scale\":{\"id\":\"2823\",\"type\":\"LinearScale\"},\"y_range\":{\"id\":\"2821\",\"type\":\"DataRange1d\"},\"y_scale\":{\"id\":\"2825\",\"type\":\"LinearScale\"}},\"id\":\"2816\",\"subtype\":\"Figure\",\"type\":\"Plot\"},{\"attributes\":{\"axis_label\":\"Petal Length\",\"formatter\":{\"id\":\"2995\",\"type\":\"BasicTickFormatter\"},\"ticker\":{\"id\":\"2828\",\"type\":\"BasicTicker\"}},\"id\":\"2827\",\"type\":\"LinearAxis\"},{\"attributes\":{},\"id\":\"2862\",\"type\":\"LinearScale\"},{\"attributes\":{},\"id\":\"2881\",\"type\":\"HelpTool\"},{\"attributes\":{\"below\":[{\"id\":\"2866\",\"type\":\"LinearAxis\"}],\"center\":[{\"id\":\"2870\",\"type\":\"Grid\"},{\"id\":\"2875\",\"type\":\"Grid\"}],\"left\":[{\"id\":\"2871\",\"type\":\"LinearAxis\"}],\"plot_height\":400,\"plot_width\":400,\"renderers\":[{\"id\":\"2892\",\"type\":\"GlyphRenderer\"}],\"title\":{\"id\":\"2856\",\"type\":\"Title\"},\"toolbar\":{\"id\":\"2882\",\"type\":\"Toolbar\"},\"x_range\":{\"id\":\"2858\",\"type\":\"DataRange1d\"},\"x_scale\":{\"id\":\"2862\",\"type\":\"LinearScale\"},\"y_range\":{\"id\":\"2860\",\"type\":\"DataRange1d\"},\"y_scale\":{\"id\":\"2864\",\"type\":\"LinearScale\"}},\"id\":\"2855\",\"subtype\":\"Figure\",\"type\":\"Plot\"}],\"root_ids\":[\"2894\"]},\"title\":\"Bokeh Application\",\"version\":\"1.2.0\"}};\n",
       "  var render_items = [{\"docid\":\"c400f3ff-bff3-47bf-947b-dc3d5b85201e\",\"roots\":{\"2894\":\"17b7919b-1d41-4303-87c2-363cda057f9d\"}}];\n",
       "  root.Bokeh.embed.embed_items_notebook(docs_json, render_items);\n",
       "\n",
       "  }\n",
       "  if (root.Bokeh !== undefined) {\n",
       "    embed_document(root);\n",
       "  } else {\n",
       "    var attempts = 0;\n",
       "    var timer = setInterval(function(root) {\n",
       "      if (root.Bokeh !== undefined) {\n",
       "        embed_document(root);\n",
       "        clearInterval(timer);\n",
       "      }\n",
       "      attempts++;\n",
       "      if (attempts > 100) {\n",
       "        console.log(\"Bokeh: ERROR: Unable to run BokehJS code because BokehJS library is missing\");\n",
       "        clearInterval(timer);\n",
       "      }\n",
       "    }, 10, root)\n",
       "  }\n",
       "})(window);"
      ],
      "application/vnd.bokehjs_exec.v0+json": ""
     },
     "metadata": {
      "application/vnd.bokehjs_exec.v0+json": {
       "id": "2894"
      }
     },
     "output_type": "display_data"
    }
   ],
   "source": [
    "source = ColumnDataSource(flowers)\n",
    "\n",
    "p1 = figure(plot_width=400, plot_height=400, x_axis_label='Petal Length', y_axis_label='Sepal Length',\n",
    "           title='Petal Length vs. Sepal Length')\n",
    "p1.circle('petal_length', 'sepal_length', source=source, color='red')\n",
    "\n",
    "p2 = figure(plot_width=400, plot_height=400, x_axis_label='Petal Length', y_axis_label='Petal Width',\n",
    "           title='Petal Length vs. Petal Width')\n",
    "p2.circle('petal_length', 'petal_width', source=source, color='blue')\n",
    "\n",
    "layout = row(p1, p2)\n",
    "show(layout)"
   ]
  },
  {
   "cell_type": "code",
   "execution_count": 33,
   "metadata": {
    "colab": {},
    "colab_type": "code",
    "id": "4pswmOvZ1-0c"
   },
   "outputs": [],
   "source": [
    "from bokeh.layouts import column"
   ]
  },
  {
   "cell_type": "code",
   "execution_count": 34,
   "metadata": {
    "colab": {
     "base_uri": "https://localhost:8080/",
     "height": 817
    },
    "colab_type": "code",
    "id": "0If9M9LI2p8u",
    "outputId": "ac886ed4-e67e-4676-9e31-d03d76e146bb"
   },
   "outputs": [
    {
     "data": {
      "text/html": [
       "\n",
       "\n",
       "\n",
       "\n",
       "\n",
       "\n",
       "  <div class=\"bk-root\" id=\"918af4a9-51b4-4841-ab61-4c6f89161f30\" data-root-id=\"3170\"></div>\n"
      ]
     },
     "metadata": {},
     "output_type": "display_data"
    },
    {
     "data": {
      "application/javascript": [
       "(function(root) {\n",
       "  function embed_document(root) {\n",
       "    \n",
       "  var docs_json = {\"b87ef299-a7b7-4f3d-8c8e-cb88aa841986\":{\"roots\":{\"references\":[{\"attributes\":{\"children\":[{\"id\":\"3092\",\"subtype\":\"Figure\",\"type\":\"Plot\"},{\"id\":\"3131\",\"subtype\":\"Figure\",\"type\":\"Plot\"}]},\"id\":\"3170\",\"type\":\"Column\"},{\"attributes\":{\"ticker\":{\"id\":\"3143\",\"type\":\"BasicTicker\"}},\"id\":\"3146\",\"type\":\"Grid\"},{\"attributes\":{\"callback\":null,\"data\":{\"index\":[0,1,2,3,4,5,6,7,8,9,10,11,12,13,14,15,16,17,18,19,20,21,22,23,24,25,26,27,28,29,30,31,32,33,34,35,36,37,38,39,40,41,42,43,44,45,46,47,48,49,50,51,52,53,54,55,56,57,58,59,60,61,62,63,64,65,66,67,68,69,70,71,72,73,74,75,76,77,78,79,80,81,82,83,84,85,86,87,88,89,90,91,92,93,94,95,96,97,98,99,100,101,102,103,104,105,106,107,108,109,110,111,112,113,114,115,116,117,118,119,120,121,122,123,124,125,126,127,128,129,130,131,132,133,134,135,136,137,138,139,140,141,142,143,144,145,146,147,148,149],\"petal_length\":{\"__ndarray__\":\"ZmZmZmZm9j9mZmZmZmb2P83MzMzMzPQ/AAAAAAAA+D9mZmZmZmb2PzMzMzMzM/s/ZmZmZmZm9j8AAAAAAAD4P2ZmZmZmZvY/AAAAAAAA+D8AAAAAAAD4P5qZmZmZmfk/ZmZmZmZm9j+amZmZmZnxPzMzMzMzM/M/AAAAAAAA+D/NzMzMzMz0P2ZmZmZmZvY/MzMzMzMz+z8AAAAAAAD4PzMzMzMzM/s/AAAAAAAA+D8AAAAAAADwPzMzMzMzM/s/ZmZmZmZm/j+amZmZmZn5P5qZmZmZmfk/AAAAAAAA+D9mZmZmZmb2P5qZmZmZmfk/mpmZmZmZ+T8AAAAAAAD4PwAAAAAAAPg/ZmZmZmZm9j8AAAAAAAD4PzMzMzMzM/M/zczMzMzM9D9mZmZmZmb2P83MzMzMzPQ/AAAAAAAA+D/NzMzMzMz0P83MzMzMzPQ/zczMzMzM9D+amZmZmZn5P2ZmZmZmZv4/ZmZmZmZm9j+amZmZmZn5P2ZmZmZmZvY/AAAAAAAA+D9mZmZmZmb2P83MzMzMzBJAAAAAAAAAEkCamZmZmZkTQAAAAAAAABBAZmZmZmZmEkAAAAAAAAASQM3MzMzMzBJAZmZmZmZmCkBmZmZmZmYSQDMzMzMzMw9AAAAAAAAADEDNzMzMzMwQQAAAAAAAABBAzczMzMzMEkDNzMzMzMwMQJqZmZmZmRFAAAAAAAAAEkBmZmZmZmYQQAAAAAAAABJAMzMzMzMzD0AzMzMzMzMTQAAAAAAAABBAmpmZmZmZE0DNzMzMzMwSQDMzMzMzMxFAmpmZmZmZEUAzMzMzMzMTQAAAAAAAABRAAAAAAAAAEkAAAAAAAAAMQGZmZmZmZg5AmpmZmZmZDUAzMzMzMzMPQGZmZmZmZhRAAAAAAAAAEkAAAAAAAAASQM3MzMzMzBJAmpmZmZmZEUBmZmZmZmYQQAAAAAAAABBAmpmZmZmZEUBmZmZmZmYSQAAAAAAAABBAZmZmZmZmCkDNzMzMzMwQQM3MzMzMzBBAzczMzMzMEEAzMzMzMzMRQAAAAAAAAAhAZmZmZmZmEEAAAAAAAAAYQGZmZmZmZhRAmpmZmZmZF0BmZmZmZmYWQDMzMzMzMxdAZmZmZmZmGkAAAAAAAAASQDMzMzMzMxlAMzMzMzMzF0BmZmZmZmYYQGZmZmZmZhRAMzMzMzMzFUAAAAAAAAAWQAAAAAAAABRAZmZmZmZmFEAzMzMzMzMVQAAAAAAAABZAzczMzMzMGkCamZmZmZkbQAAAAAAAABRAzczMzMzMFkCamZmZmZkTQM3MzMzMzBpAmpmZmZmZE0DNzMzMzMwWQAAAAAAAABhAMzMzMzMzE0CamZmZmZkTQGZmZmZmZhZAMzMzMzMzF0BmZmZmZmYYQJqZmZmZmRlAZmZmZmZmFkBmZmZmZmYUQGZmZmZmZhZAZmZmZmZmGEBmZmZmZmYWQAAAAAAAABZAMzMzMzMzE0CamZmZmZkVQGZmZmZmZhZAZmZmZmZmFEBmZmZmZmYUQJqZmZmZmRdAzczMzMzMFkDNzMzMzMwUQAAAAAAAABRAzczMzMzMFECamZmZmZkVQGZmZmZmZhRA\",\"dtype\":\"float64\",\"shape\":[150]},\"petal_width\":{\"__ndarray__\":\"mpmZmZmZyT+amZmZmZnJP5qZmZmZmck/mpmZmZmZyT+amZmZmZnJP5qZmZmZmdk/MzMzMzMz0z+amZmZmZnJP5qZmZmZmck/mpmZmZmZuT+amZmZmZnJP5qZmZmZmck/mpmZmZmZuT+amZmZmZm5P5qZmZmZmck/mpmZmZmZ2T+amZmZmZnZPzMzMzMzM9M/MzMzMzMz0z8zMzMzMzPTP5qZmZmZmck/mpmZmZmZ2T+amZmZmZnJPwAAAAAAAOA/mpmZmZmZyT+amZmZmZnJP5qZmZmZmdk/mpmZmZmZyT+amZmZmZnJP5qZmZmZmck/mpmZmZmZyT+amZmZmZnZP5qZmZmZmbk/mpmZmZmZyT+amZmZmZnJP5qZmZmZmck/mpmZmZmZyT+amZmZmZm5P5qZmZmZmck/mpmZmZmZyT8zMzMzMzPTPzMzMzMzM9M/mpmZmZmZyT8zMzMzMzPjP5qZmZmZmdk/MzMzMzMz0z+amZmZmZnJP5qZmZmZmck/mpmZmZmZyT+amZmZmZnJP2ZmZmZmZvY/AAAAAAAA+D8AAAAAAAD4P83MzMzMzPQ/AAAAAAAA+D/NzMzMzMz0P5qZmZmZmfk/AAAAAAAA8D/NzMzMzMz0P2ZmZmZmZvY/AAAAAAAA8D8AAAAAAAD4PwAAAAAAAPA/ZmZmZmZm9j/NzMzMzMz0P2ZmZmZmZvY/AAAAAAAA+D8AAAAAAADwPwAAAAAAAPg/mpmZmZmZ8T/NzMzMzMz8P83MzMzMzPQ/AAAAAAAA+D8zMzMzMzPzP83MzMzMzPQ/ZmZmZmZm9j9mZmZmZmb2PzMzMzMzM/s/AAAAAAAA+D8AAAAAAADwP5qZmZmZmfE/AAAAAAAA8D8zMzMzMzPzP5qZmZmZmfk/AAAAAAAA+D+amZmZmZn5PwAAAAAAAPg/zczMzMzM9D/NzMzMzMz0P83MzMzMzPQ/MzMzMzMz8z9mZmZmZmb2PzMzMzMzM/M/AAAAAAAA8D/NzMzMzMz0PzMzMzMzM/M/zczMzMzM9D/NzMzMzMz0P5qZmZmZmfE/zczMzMzM9D8AAAAAAAAEQGZmZmZmZv4/zczMzMzMAEDNzMzMzMz8P5qZmZmZmQFAzczMzMzMAEAzMzMzMzP7P83MzMzMzPw/zczMzMzM/D8AAAAAAAAEQAAAAAAAAABAZmZmZmZm/j/NzMzMzMwAQAAAAAAAAABAMzMzMzMzA0BmZmZmZmYCQM3MzMzMzPw/mpmZmZmZAUBmZmZmZmYCQAAAAAAAAPg/ZmZmZmZmAkAAAAAAAAAAQAAAAAAAAABAzczMzMzM/D/NzMzMzMwAQM3MzMzMzPw/zczMzMzM/D/NzMzMzMz8P83MzMzMzABAmpmZmZmZ+T9mZmZmZmb+PwAAAAAAAABAmpmZmZmZAUAAAAAAAAD4P2ZmZmZmZvY/ZmZmZmZmAkAzMzMzMzMDQM3MzMzMzPw/zczMzMzM/D/NzMzMzMwAQDMzMzMzMwNAZmZmZmZmAkBmZmZmZmb+P2ZmZmZmZgJAAAAAAAAABEBmZmZmZmYCQGZmZmZmZv4/AAAAAAAAAEBmZmZmZmYCQM3MzMzMzPw/\",\"dtype\":\"float64\",\"shape\":[150]},\"sepal_length\":{\"__ndarray__\":\"ZmZmZmZmFECamZmZmZkTQM3MzMzMzBJAZmZmZmZmEkAAAAAAAAAUQJqZmZmZmRVAZmZmZmZmEkAAAAAAAAAUQJqZmZmZmRFAmpmZmZmZE0CamZmZmZkVQDMzMzMzMxNAMzMzMzMzE0AzMzMzMzMRQDMzMzMzMxdAzczMzMzMFkCamZmZmZkVQGZmZmZmZhRAzczMzMzMFkBmZmZmZmYUQJqZmZmZmRVAZmZmZmZmFEBmZmZmZmYSQGZmZmZmZhRAMzMzMzMzE0AAAAAAAAAUQAAAAAAAABRAzczMzMzMFEDNzMzMzMwUQM3MzMzMzBJAMzMzMzMzE0CamZmZmZkVQM3MzMzMzBRAAAAAAAAAFkCamZmZmZkTQAAAAAAAABRAAAAAAAAAFkCamZmZmZkTQJqZmZmZmRFAZmZmZmZmFEAAAAAAAAAUQAAAAAAAABJAmpmZmZmZEUAAAAAAAAAUQGZmZmZmZhRAMzMzMzMzE0BmZmZmZmYUQGZmZmZmZhJAMzMzMzMzFUAAAAAAAAAUQAAAAAAAABxAmpmZmZmZGUCamZmZmZkbQAAAAAAAABZAAAAAAAAAGkDNzMzMzMwWQDMzMzMzMxlAmpmZmZmZE0BmZmZmZmYaQM3MzMzMzBRAAAAAAAAAFECamZmZmZkXQAAAAAAAABhAZmZmZmZmGEBmZmZmZmYWQM3MzMzMzBpAZmZmZmZmFkAzMzMzMzMXQM3MzMzMzBhAZmZmZmZmFkCamZmZmZkXQGZmZmZmZhhAMzMzMzMzGUBmZmZmZmYYQJqZmZmZmRlAZmZmZmZmGkAzMzMzMzMbQM3MzMzMzBpAAAAAAAAAGEDNzMzMzMwWQAAAAAAAABZAAAAAAAAAFkAzMzMzMzMXQAAAAAAAABhAmpmZmZmZFUAAAAAAAAAYQM3MzMzMzBpAMzMzMzMzGUBmZmZmZmYWQAAAAAAAABZAAAAAAAAAFkBmZmZmZmYYQDMzMzMzMxdAAAAAAAAAFEBmZmZmZmYWQM3MzMzMzBZAzczMzMzMFkDNzMzMzMwYQGZmZmZmZhRAzczMzMzMFkAzMzMzMzMZQDMzMzMzMxdAZmZmZmZmHEAzMzMzMzMZQAAAAAAAABpAZmZmZmZmHkCamZmZmZkTQDMzMzMzMx1AzczMzMzMGkDNzMzMzMwcQAAAAAAAABpAmpmZmZmZGUAzMzMzMzMbQM3MzMzMzBZAMzMzMzMzF0CamZmZmZkZQAAAAAAAABpAzczMzMzMHkDNzMzMzMweQAAAAAAAABhAmpmZmZmZG0BmZmZmZmYWQM3MzMzMzB5AMzMzMzMzGUDNzMzMzMwaQM3MzMzMzBxAzczMzMzMGEBmZmZmZmYYQJqZmZmZmRlAzczMzMzMHECamZmZmZkdQJqZmZmZmR9AmpmZmZmZGUAzMzMzMzMZQGZmZmZmZhhAzczMzMzMHkAzMzMzMzMZQJqZmZmZmRlAAAAAAAAAGECamZmZmZkbQM3MzMzMzBpAmpmZmZmZG0AzMzMzMzMXQDMzMzMzMxtAzczMzMzMGkDNzMzMzMwaQDMzMzMzMxlAAAAAAAAAGkDNzMzMzMwYQJqZmZmZmRdA\",\"dtype\":\"float64\",\"shape\":[150]},\"sepal_width\":{\"__ndarray__\":\"AAAAAAAADEAAAAAAAAAIQJqZmZmZmQlAzczMzMzMCEDNzMzMzMwMQDMzMzMzMw9AMzMzMzMzC0AzMzMzMzMLQDMzMzMzMwdAzczMzMzMCECamZmZmZkNQDMzMzMzMwtAAAAAAAAACEAAAAAAAAAIQAAAAAAAABBAmpmZmZmZEUAzMzMzMzMPQAAAAAAAAAxAZmZmZmZmDkBmZmZmZmYOQDMzMzMzMwtAmpmZmZmZDUDNzMzMzMwMQGZmZmZmZgpAMzMzMzMzC0AAAAAAAAAIQDMzMzMzMwtAAAAAAAAADEAzMzMzMzMLQJqZmZmZmQlAzczMzMzMCEAzMzMzMzMLQGZmZmZmZhBAzczMzMzMEEDNzMzMzMwIQJqZmZmZmQlAAAAAAAAADEDNzMzMzMwMQAAAAAAAAAhAMzMzMzMzC0AAAAAAAAAMQGZmZmZmZgJAmpmZmZmZCUAAAAAAAAAMQGZmZmZmZg5AAAAAAAAACEBmZmZmZmYOQJqZmZmZmQlAmpmZmZmZDUBmZmZmZmYKQJqZmZmZmQlAmpmZmZmZCUDNzMzMzMwIQGZmZmZmZgJAZmZmZmZmBkBmZmZmZmYGQGZmZmZmZgpAMzMzMzMzA0AzMzMzMzMHQJqZmZmZmQVAAAAAAAAAAEAAAAAAAAAIQJqZmZmZmQFAMzMzMzMzB0AzMzMzMzMHQM3MzMzMzAhAAAAAAAAACECamZmZmZkFQJqZmZmZmQFAAAAAAAAABECamZmZmZkJQGZmZmZmZgZAAAAAAAAABEBmZmZmZmYGQDMzMzMzMwdAAAAAAAAACEBmZmZmZmYGQAAAAAAAAAhAMzMzMzMzB0DNzMzMzMwEQDMzMzMzMwNAMzMzMzMzA0CamZmZmZkFQJqZmZmZmQVAAAAAAAAACEAzMzMzMzMLQM3MzMzMzAhAZmZmZmZmAkAAAAAAAAAIQAAAAAAAAARAzczMzMzMBEAAAAAAAAAIQM3MzMzMzARAZmZmZmZmAkCamZmZmZkFQAAAAAAAAAhAMzMzMzMzB0AzMzMzMzMHQAAAAAAAAARAZmZmZmZmBkBmZmZmZmYKQJqZmZmZmQVAAAAAAAAACEAzMzMzMzMHQAAAAAAAAAhAAAAAAAAACEAAAAAAAAAEQDMzMzMzMwdAAAAAAAAABEDNzMzMzMwMQJqZmZmZmQlAmpmZmZmZBUAAAAAAAAAIQAAAAAAAAARAZmZmZmZmBkCamZmZmZkJQAAAAAAAAAhAZmZmZmZmDkDNzMzMzMwEQJqZmZmZmQFAmpmZmZmZCUBmZmZmZmYGQGZmZmZmZgZAmpmZmZmZBUBmZmZmZmYKQJqZmZmZmQlAZmZmZmZmBkAAAAAAAAAIQGZmZmZmZgZAAAAAAAAACEBmZmZmZmYGQGZmZmZmZg5AZmZmZmZmBkBmZmZmZmYGQM3MzMzMzARAAAAAAAAACEAzMzMzMzMLQM3MzMzMzAhAAAAAAAAACEDNzMzMzMwIQM3MzMzMzAhAzczMzMzMCECamZmZmZkFQJqZmZmZmQlAZmZmZmZmCkAAAAAAAAAIQAAAAAAAAARAAAAAAAAACEAzMzMzMzMLQAAAAAAAAAhA\",\"dtype\":\"float64\",\"shape\":[150]},\"species\":[\"setosa\",\"setosa\",\"setosa\",\"setosa\",\"setosa\",\"setosa\",\"setosa\",\"setosa\",\"setosa\",\"setosa\",\"setosa\",\"setosa\",\"setosa\",\"setosa\",\"setosa\",\"setosa\",\"setosa\",\"setosa\",\"setosa\",\"setosa\",\"setosa\",\"setosa\",\"setosa\",\"setosa\",\"setosa\",\"setosa\",\"setosa\",\"setosa\",\"setosa\",\"setosa\",\"setosa\",\"setosa\",\"setosa\",\"setosa\",\"setosa\",\"setosa\",\"setosa\",\"setosa\",\"setosa\",\"setosa\",\"setosa\",\"setosa\",\"setosa\",\"setosa\",\"setosa\",\"setosa\",\"setosa\",\"setosa\",\"setosa\",\"setosa\",\"versicolor\",\"versicolor\",\"versicolor\",\"versicolor\",\"versicolor\",\"versicolor\",\"versicolor\",\"versicolor\",\"versicolor\",\"versicolor\",\"versicolor\",\"versicolor\",\"versicolor\",\"versicolor\",\"versicolor\",\"versicolor\",\"versicolor\",\"versicolor\",\"versicolor\",\"versicolor\",\"versicolor\",\"versicolor\",\"versicolor\",\"versicolor\",\"versicolor\",\"versicolor\",\"versicolor\",\"versicolor\",\"versicolor\",\"versicolor\",\"versicolor\",\"versicolor\",\"versicolor\",\"versicolor\",\"versicolor\",\"versicolor\",\"versicolor\",\"versicolor\",\"versicolor\",\"versicolor\",\"versicolor\",\"versicolor\",\"versicolor\",\"versicolor\",\"versicolor\",\"versicolor\",\"versicolor\",\"versicolor\",\"versicolor\",\"versicolor\",\"virginica\",\"virginica\",\"virginica\",\"virginica\",\"virginica\",\"virginica\",\"virginica\",\"virginica\",\"virginica\",\"virginica\",\"virginica\",\"virginica\",\"virginica\",\"virginica\",\"virginica\",\"virginica\",\"virginica\",\"virginica\",\"virginica\",\"virginica\",\"virginica\",\"virginica\",\"virginica\",\"virginica\",\"virginica\",\"virginica\",\"virginica\",\"virginica\",\"virginica\",\"virginica\",\"virginica\",\"virginica\",\"virginica\",\"virginica\",\"virginica\",\"virginica\",\"virginica\",\"virginica\",\"virginica\",\"virginica\",\"virginica\",\"virginica\",\"virginica\",\"virginica\",\"virginica\",\"virginica\",\"virginica\",\"virginica\",\"virginica\",\"virginica\"]},\"selected\":{\"id\":\"3292\",\"type\":\"Selection\"},\"selection_policy\":{\"id\":\"3291\",\"type\":\"UnionRenderers\"}},\"id\":\"3091\",\"type\":\"ColumnDataSource\"},{\"attributes\":{},\"id\":\"3114\",\"type\":\"WheelZoomTool\"},{\"attributes\":{\"axis_label\":\"Petal Width\",\"formatter\":{\"id\":\"3287\",\"type\":\"BasicTickFormatter\"},\"ticker\":{\"id\":\"3148\",\"type\":\"BasicTicker\"}},\"id\":\"3147\",\"type\":\"LinearAxis\"},{\"attributes\":{\"overlay\":{\"id\":\"3293\",\"type\":\"BoxAnnotation\"}},\"id\":\"3115\",\"type\":\"BoxZoomTool\"},{\"attributes\":{\"fill_alpha\":{\"value\":0.1},\"fill_color\":{\"value\":\"#1f77b4\"},\"line_alpha\":{\"value\":0.1},\"line_color\":{\"value\":\"#1f77b4\"},\"x\":{\"field\":\"petal_length\"},\"y\":{\"field\":\"sepal_length\"}},\"id\":\"3128\",\"type\":\"Circle\"},{\"attributes\":{},\"id\":\"3148\",\"type\":\"BasicTicker\"},{\"attributes\":{},\"id\":\"3116\",\"type\":\"SaveTool\"},{\"attributes\":{},\"id\":\"3287\",\"type\":\"BasicTickFormatter\"},{\"attributes\":{},\"id\":\"3292\",\"type\":\"Selection\"},{\"attributes\":{\"callback\":null},\"id\":\"3097\",\"type\":\"DataRange1d\"},{\"attributes\":{\"dimension\":1,\"ticker\":{\"id\":\"3148\",\"type\":\"BasicTicker\"}},\"id\":\"3151\",\"type\":\"Grid\"},{\"attributes\":{},\"id\":\"3117\",\"type\":\"ResetTool\"},{\"attributes\":{\"callback\":null},\"id\":\"3095\",\"type\":\"DataRange1d\"},{\"attributes\":{\"fill_alpha\":{\"value\":0.1},\"fill_color\":{\"value\":\"#1f77b4\"},\"line_alpha\":{\"value\":0.1},\"line_color\":{\"value\":\"#1f77b4\"},\"x\":{\"field\":\"petal_length\"},\"y\":{\"field\":\"petal_width\"}},\"id\":\"3167\",\"type\":\"Circle\"},{\"attributes\":{},\"id\":\"3118\",\"type\":\"HelpTool\"},{\"attributes\":{\"active_drag\":\"auto\",\"active_inspect\":\"auto\",\"active_multi\":null,\"active_scroll\":\"auto\",\"active_tap\":\"auto\",\"tools\":[{\"id\":\"3113\",\"type\":\"PanTool\"},{\"id\":\"3114\",\"type\":\"WheelZoomTool\"},{\"id\":\"3115\",\"type\":\"BoxZoomTool\"},{\"id\":\"3116\",\"type\":\"SaveTool\"},{\"id\":\"3117\",\"type\":\"ResetTool\"},{\"id\":\"3118\",\"type\":\"HelpTool\"}]},\"id\":\"3119\",\"type\":\"Toolbar\"},{\"attributes\":{\"text\":\"Petal Length vs. Sepal Length\"},\"id\":\"3093\",\"type\":\"Title\"},{\"attributes\":{\"fill_color\":{\"value\":\"blue\"},\"line_color\":{\"value\":\"blue\"},\"x\":{\"field\":\"petal_length\"},\"y\":{\"field\":\"petal_width\"}},\"id\":\"3166\",\"type\":\"Circle\"},{\"attributes\":{\"data_source\":{\"id\":\"3091\",\"type\":\"ColumnDataSource\"},\"glyph\":{\"id\":\"3166\",\"type\":\"Circle\"},\"hover_glyph\":null,\"muted_glyph\":null,\"nonselection_glyph\":{\"id\":\"3167\",\"type\":\"Circle\"},\"selection_glyph\":null,\"view\":{\"id\":\"3169\",\"type\":\"CDSView\"}},\"id\":\"3168\",\"type\":\"GlyphRenderer\"},{\"attributes\":{},\"id\":\"3152\",\"type\":\"PanTool\"},{\"attributes\":{},\"id\":\"3099\",\"type\":\"LinearScale\"},{\"attributes\":{},\"id\":\"3153\",\"type\":\"WheelZoomTool\"},{\"attributes\":{},\"id\":\"3283\",\"type\":\"BasicTickFormatter\"},{\"attributes\":{},\"id\":\"3101\",\"type\":\"LinearScale\"},{\"attributes\":{\"overlay\":{\"id\":\"3294\",\"type\":\"BoxAnnotation\"}},\"id\":\"3154\",\"type\":\"BoxZoomTool\"},{\"attributes\":{},\"id\":\"3285\",\"type\":\"BasicTickFormatter\"},{\"attributes\":{\"axis_label\":\"Petal Length\",\"formatter\":{\"id\":\"3285\",\"type\":\"BasicTickFormatter\"},\"ticker\":{\"id\":\"3104\",\"type\":\"BasicTicker\"}},\"id\":\"3103\",\"type\":\"LinearAxis\"},{\"attributes\":{\"below\":[{\"id\":\"3142\",\"type\":\"LinearAxis\"}],\"center\":[{\"id\":\"3146\",\"type\":\"Grid\"},{\"id\":\"3151\",\"type\":\"Grid\"}],\"left\":[{\"id\":\"3147\",\"type\":\"LinearAxis\"}],\"plot_height\":400,\"plot_width\":400,\"renderers\":[{\"id\":\"3168\",\"type\":\"GlyphRenderer\"}],\"title\":{\"id\":\"3132\",\"type\":\"Title\"},\"toolbar\":{\"id\":\"3158\",\"type\":\"Toolbar\"},\"x_range\":{\"id\":\"3134\",\"type\":\"DataRange1d\"},\"x_scale\":{\"id\":\"3138\",\"type\":\"LinearScale\"},\"y_range\":{\"id\":\"3136\",\"type\":\"DataRange1d\"},\"y_scale\":{\"id\":\"3140\",\"type\":\"LinearScale\"}},\"id\":\"3131\",\"subtype\":\"Figure\",\"type\":\"Plot\"},{\"attributes\":{},\"id\":\"3155\",\"type\":\"SaveTool\"},{\"attributes\":{},\"id\":\"3104\",\"type\":\"BasicTicker\"},{\"attributes\":{},\"id\":\"3156\",\"type\":\"ResetTool\"},{\"attributes\":{\"text\":\"Petal Length vs. Petal Width\"},\"id\":\"3132\",\"type\":\"Title\"},{\"attributes\":{\"ticker\":{\"id\":\"3104\",\"type\":\"BasicTicker\"}},\"id\":\"3107\",\"type\":\"Grid\"},{\"attributes\":{},\"id\":\"3289\",\"type\":\"BasicTickFormatter\"},{\"attributes\":{},\"id\":\"3157\",\"type\":\"HelpTool\"},{\"attributes\":{\"callback\":null},\"id\":\"3134\",\"type\":\"DataRange1d\"},{\"attributes\":{\"axis_label\":\"Sepal Length\",\"formatter\":{\"id\":\"3283\",\"type\":\"BasicTickFormatter\"},\"ticker\":{\"id\":\"3109\",\"type\":\"BasicTicker\"}},\"id\":\"3108\",\"type\":\"LinearAxis\"},{\"attributes\":{\"active_drag\":\"auto\",\"active_inspect\":\"auto\",\"active_multi\":null,\"active_scroll\":\"auto\",\"active_tap\":\"auto\",\"tools\":[{\"id\":\"3152\",\"type\":\"PanTool\"},{\"id\":\"3153\",\"type\":\"WheelZoomTool\"},{\"id\":\"3154\",\"type\":\"BoxZoomTool\"},{\"id\":\"3155\",\"type\":\"SaveTool\"},{\"id\":\"3156\",\"type\":\"ResetTool\"},{\"id\":\"3157\",\"type\":\"HelpTool\"}]},\"id\":\"3158\",\"type\":\"Toolbar\"},{\"attributes\":{\"callback\":null},\"id\":\"3136\",\"type\":\"DataRange1d\"},{\"attributes\":{},\"id\":\"3109\",\"type\":\"BasicTicker\"},{\"attributes\":{},\"id\":\"3291\",\"type\":\"UnionRenderers\"},{\"attributes\":{},\"id\":\"3138\",\"type\":\"LinearScale\"},{\"attributes\":{\"bottom_units\":\"screen\",\"fill_alpha\":{\"value\":0.5},\"fill_color\":{\"value\":\"lightgrey\"},\"left_units\":\"screen\",\"level\":\"overlay\",\"line_alpha\":{\"value\":1.0},\"line_color\":{\"value\":\"black\"},\"line_dash\":[4,4],\"line_width\":{\"value\":2},\"render_mode\":\"css\",\"right_units\":\"screen\",\"top_units\":\"screen\"},\"id\":\"3293\",\"type\":\"BoxAnnotation\"},{\"attributes\":{\"dimension\":1,\"ticker\":{\"id\":\"3109\",\"type\":\"BasicTicker\"}},\"id\":\"3112\",\"type\":\"Grid\"},{\"attributes\":{},\"id\":\"3140\",\"type\":\"LinearScale\"},{\"attributes\":{\"bottom_units\":\"screen\",\"fill_alpha\":{\"value\":0.5},\"fill_color\":{\"value\":\"lightgrey\"},\"left_units\":\"screen\",\"level\":\"overlay\",\"line_alpha\":{\"value\":1.0},\"line_color\":{\"value\":\"black\"},\"line_dash\":[4,4],\"line_width\":{\"value\":2},\"render_mode\":\"css\",\"right_units\":\"screen\",\"top_units\":\"screen\"},\"id\":\"3294\",\"type\":\"BoxAnnotation\"},{\"attributes\":{\"source\":{\"id\":\"3091\",\"type\":\"ColumnDataSource\"}},\"id\":\"3169\",\"type\":\"CDSView\"},{\"attributes\":{\"axis_label\":\"Petal Length\",\"formatter\":{\"id\":\"3289\",\"type\":\"BasicTickFormatter\"},\"ticker\":{\"id\":\"3143\",\"type\":\"BasicTicker\"}},\"id\":\"3142\",\"type\":\"LinearAxis\"},{\"attributes\":{\"source\":{\"id\":\"3091\",\"type\":\"ColumnDataSource\"}},\"id\":\"3130\",\"type\":\"CDSView\"},{\"attributes\":{\"fill_color\":{\"value\":\"red\"},\"line_color\":{\"value\":\"red\"},\"x\":{\"field\":\"petal_length\"},\"y\":{\"field\":\"sepal_length\"}},\"id\":\"3127\",\"type\":\"Circle\"},{\"attributes\":{},\"id\":\"3143\",\"type\":\"BasicTicker\"},{\"attributes\":{\"data_source\":{\"id\":\"3091\",\"type\":\"ColumnDataSource\"},\"glyph\":{\"id\":\"3127\",\"type\":\"Circle\"},\"hover_glyph\":null,\"muted_glyph\":null,\"nonselection_glyph\":{\"id\":\"3128\",\"type\":\"Circle\"},\"selection_glyph\":null,\"view\":{\"id\":\"3130\",\"type\":\"CDSView\"}},\"id\":\"3129\",\"type\":\"GlyphRenderer\"},{\"attributes\":{\"below\":[{\"id\":\"3103\",\"type\":\"LinearAxis\"}],\"center\":[{\"id\":\"3107\",\"type\":\"Grid\"},{\"id\":\"3112\",\"type\":\"Grid\"}],\"left\":[{\"id\":\"3108\",\"type\":\"LinearAxis\"}],\"plot_height\":400,\"plot_width\":400,\"renderers\":[{\"id\":\"3129\",\"type\":\"GlyphRenderer\"}],\"title\":{\"id\":\"3093\",\"type\":\"Title\"},\"toolbar\":{\"id\":\"3119\",\"type\":\"Toolbar\"},\"x_range\":{\"id\":\"3095\",\"type\":\"DataRange1d\"},\"x_scale\":{\"id\":\"3099\",\"type\":\"LinearScale\"},\"y_range\":{\"id\":\"3097\",\"type\":\"DataRange1d\"},\"y_scale\":{\"id\":\"3101\",\"type\":\"LinearScale\"}},\"id\":\"3092\",\"subtype\":\"Figure\",\"type\":\"Plot\"},{\"attributes\":{},\"id\":\"3113\",\"type\":\"PanTool\"}],\"root_ids\":[\"3170\"]},\"title\":\"Bokeh Application\",\"version\":\"1.2.0\"}};\n",
       "  var render_items = [{\"docid\":\"b87ef299-a7b7-4f3d-8c8e-cb88aa841986\",\"roots\":{\"3170\":\"918af4a9-51b4-4841-ab61-4c6f89161f30\"}}];\n",
       "  root.Bokeh.embed.embed_items_notebook(docs_json, render_items);\n",
       "\n",
       "  }\n",
       "  if (root.Bokeh !== undefined) {\n",
       "    embed_document(root);\n",
       "  } else {\n",
       "    var attempts = 0;\n",
       "    var timer = setInterval(function(root) {\n",
       "      if (root.Bokeh !== undefined) {\n",
       "        embed_document(root);\n",
       "        clearInterval(timer);\n",
       "      }\n",
       "      attempts++;\n",
       "      if (attempts > 100) {\n",
       "        console.log(\"Bokeh: ERROR: Unable to run BokehJS code because BokehJS library is missing\");\n",
       "        clearInterval(timer);\n",
       "      }\n",
       "    }, 10, root)\n",
       "  }\n",
       "})(window);"
      ],
      "application/vnd.bokehjs_exec.v0+json": ""
     },
     "metadata": {
      "application/vnd.bokehjs_exec.v0+json": {
       "id": "3170"
      }
     },
     "output_type": "display_data"
    }
   ],
   "source": [
    "source = ColumnDataSource(flowers)\n",
    "\n",
    "p1 = figure(plot_width=400, plot_height=400, x_axis_label='Petal Length', y_axis_label='Sepal Length',\n",
    "           title='Petal Length vs. Sepal Length')\n",
    "p1.circle('petal_length', 'sepal_length', source=source, color='red')\n",
    "\n",
    "p2 = figure(plot_width=400, plot_height=400, x_axis_label='Petal Length', y_axis_label='Petal Width',\n",
    "           title='Petal Length vs. Petal Width')\n",
    "p2.circle('petal_length', 'petal_width', source=source, color='blue')\n",
    "\n",
    "layout = column(p1, p2)\n",
    "show(layout)\n",
    "# 열로 배치"
   ]
  },
  {
   "cell_type": "code",
   "execution_count": 35,
   "metadata": {
    "colab": {
     "base_uri": "https://localhost:8080/",
     "height": 817
    },
    "colab_type": "code",
    "id": "uqwXPcM72uEm",
    "outputId": "2d3f49f9-1bc5-46a0-ffbe-41bf86f840aa"
   },
   "outputs": [
    {
     "data": {
      "text/html": [
       "\n",
       "\n",
       "\n",
       "\n",
       "\n",
       "\n",
       "  <div class=\"bk-root\" id=\"b1c0724d-2832-4d8c-9158-fc03d54aaa09\" data-root-id=\"3540\"></div>\n"
      ]
     },
     "metadata": {},
     "output_type": "display_data"
    },
    {
     "data": {
      "application/javascript": [
       "(function(root) {\n",
       "  function embed_document(root) {\n",
       "    \n",
       "  var docs_json = {\"5a35bf61-901b-4471-9b58-352f8806f1c4\":{\"roots\":{\"references\":[{\"attributes\":{\"children\":[{\"id\":\"3538\",\"type\":\"Row\"},{\"id\":\"3539\",\"type\":\"Row\"}]},\"id\":\"3540\",\"type\":\"Column\"},{\"attributes\":{\"text\":\"Petal Length vs. Petal Width\"},\"id\":\"3422\",\"type\":\"Title\"},{\"attributes\":{\"below\":[{\"id\":\"3393\",\"type\":\"LinearAxis\"}],\"center\":[{\"id\":\"3397\",\"type\":\"Grid\"},{\"id\":\"3402\",\"type\":\"Grid\"}],\"left\":[{\"id\":\"3398\",\"type\":\"LinearAxis\"}],\"plot_height\":400,\"plot_width\":400,\"renderers\":[{\"id\":\"3419\",\"type\":\"GlyphRenderer\"}],\"title\":{\"id\":\"3383\",\"type\":\"Title\"},\"toolbar\":{\"id\":\"3409\",\"type\":\"Toolbar\"},\"x_range\":{\"id\":\"3385\",\"type\":\"DataRange1d\"},\"x_scale\":{\"id\":\"3389\",\"type\":\"LinearScale\"},\"y_range\":{\"id\":\"3387\",\"type\":\"DataRange1d\"},\"y_scale\":{\"id\":\"3391\",\"type\":\"LinearScale\"}},\"id\":\"3382\",\"subtype\":\"Figure\",\"type\":\"Plot\"},{\"attributes\":{\"callback\":null},\"id\":\"3424\",\"type\":\"DataRange1d\"},{\"attributes\":{\"callback\":null},\"id\":\"3426\",\"type\":\"DataRange1d\"},{\"attributes\":{},\"id\":\"3428\",\"type\":\"LinearScale\"},{\"attributes\":{},\"id\":\"3430\",\"type\":\"LinearScale\"},{\"attributes\":{\"axis_label\":\"Petal Length\",\"formatter\":{\"id\":\"3675\",\"type\":\"BasicTickFormatter\"},\"ticker\":{\"id\":\"3433\",\"type\":\"BasicTicker\"}},\"id\":\"3432\",\"type\":\"LinearAxis\"},{\"attributes\":{},\"id\":\"3433\",\"type\":\"BasicTicker\"},{\"attributes\":{\"ticker\":{\"id\":\"3433\",\"type\":\"BasicTicker\"}},\"id\":\"3436\",\"type\":\"Grid\"},{\"attributes\":{\"axis_label\":\"Petal Width\",\"formatter\":{\"id\":\"3673\",\"type\":\"BasicTickFormatter\"},\"ticker\":{\"id\":\"3438\",\"type\":\"BasicTicker\"}},\"id\":\"3437\",\"type\":\"LinearAxis\"},{\"attributes\":{\"dimension\":1,\"ticker\":{\"id\":\"3477\",\"type\":\"BasicTicker\"}},\"id\":\"3480\",\"type\":\"Grid\"},{\"attributes\":{\"callback\":null,\"data\":{\"index\":[0,1,2,3,4,5,6,7,8,9,10,11,12,13,14,15,16,17,18,19,20,21,22,23,24,25,26,27,28,29,30,31,32,33,34,35,36,37,38,39,40,41,42,43,44,45,46,47,48,49,50,51,52,53,54,55,56,57,58,59,60,61,62,63,64,65,66,67,68,69,70,71,72,73,74,75,76,77,78,79,80,81,82,83,84,85,86,87,88,89,90,91,92,93,94,95,96,97,98,99,100,101,102,103,104,105,106,107,108,109,110,111,112,113,114,115,116,117,118,119,120,121,122,123,124,125,126,127,128,129,130,131,132,133,134,135,136,137,138,139,140,141,142,143,144,145,146,147,148,149],\"petal_length\":{\"__ndarray__\":\"ZmZmZmZm9j9mZmZmZmb2P83MzMzMzPQ/AAAAAAAA+D9mZmZmZmb2PzMzMzMzM/s/ZmZmZmZm9j8AAAAAAAD4P2ZmZmZmZvY/AAAAAAAA+D8AAAAAAAD4P5qZmZmZmfk/ZmZmZmZm9j+amZmZmZnxPzMzMzMzM/M/AAAAAAAA+D/NzMzMzMz0P2ZmZmZmZvY/MzMzMzMz+z8AAAAAAAD4PzMzMzMzM/s/AAAAAAAA+D8AAAAAAADwPzMzMzMzM/s/ZmZmZmZm/j+amZmZmZn5P5qZmZmZmfk/AAAAAAAA+D9mZmZmZmb2P5qZmZmZmfk/mpmZmZmZ+T8AAAAAAAD4PwAAAAAAAPg/ZmZmZmZm9j8AAAAAAAD4PzMzMzMzM/M/zczMzMzM9D9mZmZmZmb2P83MzMzMzPQ/AAAAAAAA+D/NzMzMzMz0P83MzMzMzPQ/zczMzMzM9D+amZmZmZn5P2ZmZmZmZv4/ZmZmZmZm9j+amZmZmZn5P2ZmZmZmZvY/AAAAAAAA+D9mZmZmZmb2P83MzMzMzBJAAAAAAAAAEkCamZmZmZkTQAAAAAAAABBAZmZmZmZmEkAAAAAAAAASQM3MzMzMzBJAZmZmZmZmCkBmZmZmZmYSQDMzMzMzMw9AAAAAAAAADEDNzMzMzMwQQAAAAAAAABBAzczMzMzMEkDNzMzMzMwMQJqZmZmZmRFAAAAAAAAAEkBmZmZmZmYQQAAAAAAAABJAMzMzMzMzD0AzMzMzMzMTQAAAAAAAABBAmpmZmZmZE0DNzMzMzMwSQDMzMzMzMxFAmpmZmZmZEUAzMzMzMzMTQAAAAAAAABRAAAAAAAAAEkAAAAAAAAAMQGZmZmZmZg5AmpmZmZmZDUAzMzMzMzMPQGZmZmZmZhRAAAAAAAAAEkAAAAAAAAASQM3MzMzMzBJAmpmZmZmZEUBmZmZmZmYQQAAAAAAAABBAmpmZmZmZEUBmZmZmZmYSQAAAAAAAABBAZmZmZmZmCkDNzMzMzMwQQM3MzMzMzBBAzczMzMzMEEAzMzMzMzMRQAAAAAAAAAhAZmZmZmZmEEAAAAAAAAAYQGZmZmZmZhRAmpmZmZmZF0BmZmZmZmYWQDMzMzMzMxdAZmZmZmZmGkAAAAAAAAASQDMzMzMzMxlAMzMzMzMzF0BmZmZmZmYYQGZmZmZmZhRAMzMzMzMzFUAAAAAAAAAWQAAAAAAAABRAZmZmZmZmFEAzMzMzMzMVQAAAAAAAABZAzczMzMzMGkCamZmZmZkbQAAAAAAAABRAzczMzMzMFkCamZmZmZkTQM3MzMzMzBpAmpmZmZmZE0DNzMzMzMwWQAAAAAAAABhAMzMzMzMzE0CamZmZmZkTQGZmZmZmZhZAMzMzMzMzF0BmZmZmZmYYQJqZmZmZmRlAZmZmZmZmFkBmZmZmZmYUQGZmZmZmZhZAZmZmZmZmGEBmZmZmZmYWQAAAAAAAABZAMzMzMzMzE0CamZmZmZkVQGZmZmZmZhZAZmZmZmZmFEBmZmZmZmYUQJqZmZmZmRdAzczMzMzMFkDNzMzMzMwUQAAAAAAAABRAzczMzMzMFECamZmZmZkVQGZmZmZmZhRA\",\"dtype\":\"float64\",\"shape\":[150]},\"petal_width\":{\"__ndarray__\":\"mpmZmZmZyT+amZmZmZnJP5qZmZmZmck/mpmZmZmZyT+amZmZmZnJP5qZmZmZmdk/MzMzMzMz0z+amZmZmZnJP5qZmZmZmck/mpmZmZmZuT+amZmZmZnJP5qZmZmZmck/mpmZmZmZuT+amZmZmZm5P5qZmZmZmck/mpmZmZmZ2T+amZmZmZnZPzMzMzMzM9M/MzMzMzMz0z8zMzMzMzPTP5qZmZmZmck/mpmZmZmZ2T+amZmZmZnJPwAAAAAAAOA/mpmZmZmZyT+amZmZmZnJP5qZmZmZmdk/mpmZmZmZyT+amZmZmZnJP5qZmZmZmck/mpmZmZmZyT+amZmZmZnZP5qZmZmZmbk/mpmZmZmZyT+amZmZmZnJP5qZmZmZmck/mpmZmZmZyT+amZmZmZm5P5qZmZmZmck/mpmZmZmZyT8zMzMzMzPTPzMzMzMzM9M/mpmZmZmZyT8zMzMzMzPjP5qZmZmZmdk/MzMzMzMz0z+amZmZmZnJP5qZmZmZmck/mpmZmZmZyT+amZmZmZnJP2ZmZmZmZvY/AAAAAAAA+D8AAAAAAAD4P83MzMzMzPQ/AAAAAAAA+D/NzMzMzMz0P5qZmZmZmfk/AAAAAAAA8D/NzMzMzMz0P2ZmZmZmZvY/AAAAAAAA8D8AAAAAAAD4PwAAAAAAAPA/ZmZmZmZm9j/NzMzMzMz0P2ZmZmZmZvY/AAAAAAAA+D8AAAAAAADwPwAAAAAAAPg/mpmZmZmZ8T/NzMzMzMz8P83MzMzMzPQ/AAAAAAAA+D8zMzMzMzPzP83MzMzMzPQ/ZmZmZmZm9j9mZmZmZmb2PzMzMzMzM/s/AAAAAAAA+D8AAAAAAADwP5qZmZmZmfE/AAAAAAAA8D8zMzMzMzPzP5qZmZmZmfk/AAAAAAAA+D+amZmZmZn5PwAAAAAAAPg/zczMzMzM9D/NzMzMzMz0P83MzMzMzPQ/MzMzMzMz8z9mZmZmZmb2PzMzMzMzM/M/AAAAAAAA8D/NzMzMzMz0PzMzMzMzM/M/zczMzMzM9D/NzMzMzMz0P5qZmZmZmfE/zczMzMzM9D8AAAAAAAAEQGZmZmZmZv4/zczMzMzMAEDNzMzMzMz8P5qZmZmZmQFAzczMzMzMAEAzMzMzMzP7P83MzMzMzPw/zczMzMzM/D8AAAAAAAAEQAAAAAAAAABAZmZmZmZm/j/NzMzMzMwAQAAAAAAAAABAMzMzMzMzA0BmZmZmZmYCQM3MzMzMzPw/mpmZmZmZAUBmZmZmZmYCQAAAAAAAAPg/ZmZmZmZmAkAAAAAAAAAAQAAAAAAAAABAzczMzMzM/D/NzMzMzMwAQM3MzMzMzPw/zczMzMzM/D/NzMzMzMz8P83MzMzMzABAmpmZmZmZ+T9mZmZmZmb+PwAAAAAAAABAmpmZmZmZAUAAAAAAAAD4P2ZmZmZmZvY/ZmZmZmZmAkAzMzMzMzMDQM3MzMzMzPw/zczMzMzM/D/NzMzMzMwAQDMzMzMzMwNAZmZmZmZmAkBmZmZmZmb+P2ZmZmZmZgJAAAAAAAAABEBmZmZmZmYCQGZmZmZmZv4/AAAAAAAAAEBmZmZmZmYCQM3MzMzMzPw/\",\"dtype\":\"float64\",\"shape\":[150]},\"sepal_length\":{\"__ndarray__\":\"ZmZmZmZmFECamZmZmZkTQM3MzMzMzBJAZmZmZmZmEkAAAAAAAAAUQJqZmZmZmRVAZmZmZmZmEkAAAAAAAAAUQJqZmZmZmRFAmpmZmZmZE0CamZmZmZkVQDMzMzMzMxNAMzMzMzMzE0AzMzMzMzMRQDMzMzMzMxdAzczMzMzMFkCamZmZmZkVQGZmZmZmZhRAzczMzMzMFkBmZmZmZmYUQJqZmZmZmRVAZmZmZmZmFEBmZmZmZmYSQGZmZmZmZhRAMzMzMzMzE0AAAAAAAAAUQAAAAAAAABRAzczMzMzMFEDNzMzMzMwUQM3MzMzMzBJAMzMzMzMzE0CamZmZmZkVQM3MzMzMzBRAAAAAAAAAFkCamZmZmZkTQAAAAAAAABRAAAAAAAAAFkCamZmZmZkTQJqZmZmZmRFAZmZmZmZmFEAAAAAAAAAUQAAAAAAAABJAmpmZmZmZEUAAAAAAAAAUQGZmZmZmZhRAMzMzMzMzE0BmZmZmZmYUQGZmZmZmZhJAMzMzMzMzFUAAAAAAAAAUQAAAAAAAABxAmpmZmZmZGUCamZmZmZkbQAAAAAAAABZAAAAAAAAAGkDNzMzMzMwWQDMzMzMzMxlAmpmZmZmZE0BmZmZmZmYaQM3MzMzMzBRAAAAAAAAAFECamZmZmZkXQAAAAAAAABhAZmZmZmZmGEBmZmZmZmYWQM3MzMzMzBpAZmZmZmZmFkAzMzMzMzMXQM3MzMzMzBhAZmZmZmZmFkCamZmZmZkXQGZmZmZmZhhAMzMzMzMzGUBmZmZmZmYYQJqZmZmZmRlAZmZmZmZmGkAzMzMzMzMbQM3MzMzMzBpAAAAAAAAAGEDNzMzMzMwWQAAAAAAAABZAAAAAAAAAFkAzMzMzMzMXQAAAAAAAABhAmpmZmZmZFUAAAAAAAAAYQM3MzMzMzBpAMzMzMzMzGUBmZmZmZmYWQAAAAAAAABZAAAAAAAAAFkBmZmZmZmYYQDMzMzMzMxdAAAAAAAAAFEBmZmZmZmYWQM3MzMzMzBZAzczMzMzMFkDNzMzMzMwYQGZmZmZmZhRAzczMzMzMFkAzMzMzMzMZQDMzMzMzMxdAZmZmZmZmHEAzMzMzMzMZQAAAAAAAABpAZmZmZmZmHkCamZmZmZkTQDMzMzMzMx1AzczMzMzMGkDNzMzMzMwcQAAAAAAAABpAmpmZmZmZGUAzMzMzMzMbQM3MzMzMzBZAMzMzMzMzF0CamZmZmZkZQAAAAAAAABpAzczMzMzMHkDNzMzMzMweQAAAAAAAABhAmpmZmZmZG0BmZmZmZmYWQM3MzMzMzB5AMzMzMzMzGUDNzMzMzMwaQM3MzMzMzBxAzczMzMzMGEBmZmZmZmYYQJqZmZmZmRlAzczMzMzMHECamZmZmZkdQJqZmZmZmR9AmpmZmZmZGUAzMzMzMzMZQGZmZmZmZhhAzczMzMzMHkAzMzMzMzMZQJqZmZmZmRlAAAAAAAAAGECamZmZmZkbQM3MzMzMzBpAmpmZmZmZG0AzMzMzMzMXQDMzMzMzMxtAzczMzMzMGkDNzMzMzMwaQDMzMzMzMxlAAAAAAAAAGkDNzMzMzMwYQJqZmZmZmRdA\",\"dtype\":\"float64\",\"shape\":[150]},\"sepal_width\":{\"__ndarray__\":\"AAAAAAAADEAAAAAAAAAIQJqZmZmZmQlAzczMzMzMCEDNzMzMzMwMQDMzMzMzMw9AMzMzMzMzC0AzMzMzMzMLQDMzMzMzMwdAzczMzMzMCECamZmZmZkNQDMzMzMzMwtAAAAAAAAACEAAAAAAAAAIQAAAAAAAABBAmpmZmZmZEUAzMzMzMzMPQAAAAAAAAAxAZmZmZmZmDkBmZmZmZmYOQDMzMzMzMwtAmpmZmZmZDUDNzMzMzMwMQGZmZmZmZgpAMzMzMzMzC0AAAAAAAAAIQDMzMzMzMwtAAAAAAAAADEAzMzMzMzMLQJqZmZmZmQlAzczMzMzMCEAzMzMzMzMLQGZmZmZmZhBAzczMzMzMEEDNzMzMzMwIQJqZmZmZmQlAAAAAAAAADEDNzMzMzMwMQAAAAAAAAAhAMzMzMzMzC0AAAAAAAAAMQGZmZmZmZgJAmpmZmZmZCUAAAAAAAAAMQGZmZmZmZg5AAAAAAAAACEBmZmZmZmYOQJqZmZmZmQlAmpmZmZmZDUBmZmZmZmYKQJqZmZmZmQlAmpmZmZmZCUDNzMzMzMwIQGZmZmZmZgJAZmZmZmZmBkBmZmZmZmYGQGZmZmZmZgpAMzMzMzMzA0AzMzMzMzMHQJqZmZmZmQVAAAAAAAAAAEAAAAAAAAAIQJqZmZmZmQFAMzMzMzMzB0AzMzMzMzMHQM3MzMzMzAhAAAAAAAAACECamZmZmZkFQJqZmZmZmQFAAAAAAAAABECamZmZmZkJQGZmZmZmZgZAAAAAAAAABEBmZmZmZmYGQDMzMzMzMwdAAAAAAAAACEBmZmZmZmYGQAAAAAAAAAhAMzMzMzMzB0DNzMzMzMwEQDMzMzMzMwNAMzMzMzMzA0CamZmZmZkFQJqZmZmZmQVAAAAAAAAACEAzMzMzMzMLQM3MzMzMzAhAZmZmZmZmAkAAAAAAAAAIQAAAAAAAAARAzczMzMzMBEAAAAAAAAAIQM3MzMzMzARAZmZmZmZmAkCamZmZmZkFQAAAAAAAAAhAMzMzMzMzB0AzMzMzMzMHQAAAAAAAAARAZmZmZmZmBkBmZmZmZmYKQJqZmZmZmQVAAAAAAAAACEAzMzMzMzMHQAAAAAAAAAhAAAAAAAAACEAAAAAAAAAEQDMzMzMzMwdAAAAAAAAABEDNzMzMzMwMQJqZmZmZmQlAmpmZmZmZBUAAAAAAAAAIQAAAAAAAAARAZmZmZmZmBkCamZmZmZkJQAAAAAAAAAhAZmZmZmZmDkDNzMzMzMwEQJqZmZmZmQFAmpmZmZmZCUBmZmZmZmYGQGZmZmZmZgZAmpmZmZmZBUBmZmZmZmYKQJqZmZmZmQlAZmZmZmZmBkAAAAAAAAAIQGZmZmZmZgZAAAAAAAAACEBmZmZmZmYGQGZmZmZmZg5AZmZmZmZmBkBmZmZmZmYGQM3MzMzMzARAAAAAAAAACEAzMzMzMzMLQM3MzMzMzAhAAAAAAAAACEDNzMzMzMwIQM3MzMzMzAhAzczMzMzMCECamZmZmZkFQJqZmZmZmQlAZmZmZmZmCkAAAAAAAAAIQAAAAAAAAARAAAAAAAAACEAzMzMzMzMLQAAAAAAAAAhA\",\"dtype\":\"float64\",\"shape\":[150]},\"species\":[\"setosa\",\"setosa\",\"setosa\",\"setosa\",\"setosa\",\"setosa\",\"setosa\",\"setosa\",\"setosa\",\"setosa\",\"setosa\",\"setosa\",\"setosa\",\"setosa\",\"setosa\",\"setosa\",\"setosa\",\"setosa\",\"setosa\",\"setosa\",\"setosa\",\"setosa\",\"setosa\",\"setosa\",\"setosa\",\"setosa\",\"setosa\",\"setosa\",\"setosa\",\"setosa\",\"setosa\",\"setosa\",\"setosa\",\"setosa\",\"setosa\",\"setosa\",\"setosa\",\"setosa\",\"setosa\",\"setosa\",\"setosa\",\"setosa\",\"setosa\",\"setosa\",\"setosa\",\"setosa\",\"setosa\",\"setosa\",\"setosa\",\"setosa\",\"versicolor\",\"versicolor\",\"versicolor\",\"versicolor\",\"versicolor\",\"versicolor\",\"versicolor\",\"versicolor\",\"versicolor\",\"versicolor\",\"versicolor\",\"versicolor\",\"versicolor\",\"versicolor\",\"versicolor\",\"versicolor\",\"versicolor\",\"versicolor\",\"versicolor\",\"versicolor\",\"versicolor\",\"versicolor\",\"versicolor\",\"versicolor\",\"versicolor\",\"versicolor\",\"versicolor\",\"versicolor\",\"versicolor\",\"versicolor\",\"versicolor\",\"versicolor\",\"versicolor\",\"versicolor\",\"versicolor\",\"versicolor\",\"versicolor\",\"versicolor\",\"versicolor\",\"versicolor\",\"versicolor\",\"versicolor\",\"versicolor\",\"versicolor\",\"versicolor\",\"versicolor\",\"versicolor\",\"versicolor\",\"versicolor\",\"versicolor\",\"virginica\",\"virginica\",\"virginica\",\"virginica\",\"virginica\",\"virginica\",\"virginica\",\"virginica\",\"virginica\",\"virginica\",\"virginica\",\"virginica\",\"virginica\",\"virginica\",\"virginica\",\"virginica\",\"virginica\",\"virginica\",\"virginica\",\"virginica\",\"virginica\",\"virginica\",\"virginica\",\"virginica\",\"virginica\",\"virginica\",\"virginica\",\"virginica\",\"virginica\",\"virginica\",\"virginica\",\"virginica\",\"virginica\",\"virginica\",\"virginica\",\"virginica\",\"virginica\",\"virginica\",\"virginica\",\"virginica\",\"virginica\",\"virginica\",\"virginica\",\"virginica\",\"virginica\",\"virginica\",\"virginica\",\"virginica\",\"virginica\",\"virginica\"]},\"selected\":{\"id\":\"3686\",\"type\":\"Selection\"},\"selection_policy\":{\"id\":\"3685\",\"type\":\"UnionRenderers\"}},\"id\":\"3381\",\"type\":\"ColumnDataSource\"},{\"attributes\":{\"data_source\":{\"id\":\"3381\",\"type\":\"ColumnDataSource\"},\"glyph\":{\"id\":\"3495\",\"type\":\"Circle\"},\"hover_glyph\":null,\"muted_glyph\":null,\"nonselection_glyph\":{\"id\":\"3496\",\"type\":\"Circle\"},\"selection_glyph\":null,\"view\":{\"id\":\"3498\",\"type\":\"CDSView\"}},\"id\":\"3497\",\"type\":\"GlyphRenderer\"},{\"attributes\":{},\"id\":\"3438\",\"type\":\"BasicTicker\"},{\"attributes\":{\"fill_alpha\":{\"value\":0.1},\"fill_color\":{\"value\":\"#1f77b4\"},\"line_alpha\":{\"value\":0.1},\"line_color\":{\"value\":\"#1f77b4\"},\"x\":{\"field\":\"petal_length\"},\"y\":{\"field\":\"sepal_length\"}},\"id\":\"3418\",\"type\":\"Circle\"},{\"attributes\":{\"dimension\":1,\"ticker\":{\"id\":\"3438\",\"type\":\"BasicTicker\"}},\"id\":\"3441\",\"type\":\"Grid\"},{\"attributes\":{\"callback\":null},\"id\":\"3387\",\"type\":\"DataRange1d\"},{\"attributes\":{\"callback\":null},\"id\":\"3385\",\"type\":\"DataRange1d\"},{\"attributes\":{\"children\":[{\"id\":\"3460\",\"subtype\":\"Figure\",\"type\":\"Plot\"},{\"id\":\"3499\",\"subtype\":\"Figure\",\"type\":\"Plot\"}]},\"id\":\"3539\",\"type\":\"Row\"},{\"attributes\":{\"fill_alpha\":{\"value\":0.1},\"fill_color\":{\"value\":\"#1f77b4\"},\"line_alpha\":{\"value\":0.1},\"line_color\":{\"value\":\"#1f77b4\"},\"x\":{\"field\":\"petal_length\"},\"y\":{\"field\":\"petal_width\"}},\"id\":\"3457\",\"type\":\"Circle\"},{\"attributes\":{\"below\":[{\"id\":\"3471\",\"type\":\"LinearAxis\"}],\"center\":[{\"id\":\"3475\",\"type\":\"Grid\"},{\"id\":\"3480\",\"type\":\"Grid\"}],\"left\":[{\"id\":\"3476\",\"type\":\"LinearAxis\"}],\"plot_height\":400,\"plot_width\":400,\"renderers\":[{\"id\":\"3497\",\"type\":\"GlyphRenderer\"}],\"title\":{\"id\":\"3461\",\"type\":\"Title\"},\"toolbar\":{\"id\":\"3487\",\"type\":\"Toolbar\"},\"x_range\":{\"id\":\"3463\",\"type\":\"DataRange1d\"},\"x_scale\":{\"id\":\"3467\",\"type\":\"LinearScale\"},\"y_range\":{\"id\":\"3465\",\"type\":\"DataRange1d\"},\"y_scale\":{\"id\":\"3469\",\"type\":\"LinearScale\"}},\"id\":\"3460\",\"subtype\":\"Figure\",\"type\":\"Plot\"},{\"attributes\":{\"text\":\"Petal Length vs. Sepal Length\"},\"id\":\"3383\",\"type\":\"Title\"},{\"attributes\":{},\"id\":\"3442\",\"type\":\"PanTool\"},{\"attributes\":{},\"id\":\"3669\",\"type\":\"BasicTickFormatter\"},{\"attributes\":{},\"id\":\"3443\",\"type\":\"WheelZoomTool\"},{\"attributes\":{},\"id\":\"3389\",\"type\":\"LinearScale\"},{\"attributes\":{\"overlay\":{\"id\":\"3688\",\"type\":\"BoxAnnotation\"}},\"id\":\"3444\",\"type\":\"BoxZoomTool\"},{\"attributes\":{},\"id\":\"3391\",\"type\":\"LinearScale\"},{\"attributes\":{},\"id\":\"3445\",\"type\":\"SaveTool\"},{\"attributes\":{\"axis_label\":\"Petal Length\",\"formatter\":{\"id\":\"3671\",\"type\":\"BasicTickFormatter\"},\"ticker\":{\"id\":\"3394\",\"type\":\"BasicTicker\"}},\"id\":\"3393\",\"type\":\"LinearAxis\"},{\"attributes\":{},\"id\":\"3446\",\"type\":\"ResetTool\"},{\"attributes\":{},\"id\":\"3394\",\"type\":\"BasicTicker\"},{\"attributes\":{},\"id\":\"3447\",\"type\":\"HelpTool\"},{\"attributes\":{\"ticker\":{\"id\":\"3394\",\"type\":\"BasicTicker\"}},\"id\":\"3397\",\"type\":\"Grid\"},{\"attributes\":{},\"id\":\"3671\",\"type\":\"BasicTickFormatter\"},{\"attributes\":{\"axis_label\":\"Sepal Length\",\"formatter\":{\"id\":\"3669\",\"type\":\"BasicTickFormatter\"},\"ticker\":{\"id\":\"3399\",\"type\":\"BasicTicker\"}},\"id\":\"3398\",\"type\":\"LinearAxis\"},{\"attributes\":{},\"id\":\"3467\",\"type\":\"LinearScale\"},{\"attributes\":{},\"id\":\"3673\",\"type\":\"BasicTickFormatter\"},{\"attributes\":{},\"id\":\"3399\",\"type\":\"BasicTicker\"},{\"attributes\":{},\"id\":\"3675\",\"type\":\"BasicTickFormatter\"},{\"attributes\":{\"fill_alpha\":{\"value\":0.1},\"fill_color\":{\"value\":\"#1f77b4\"},\"line_alpha\":{\"value\":0.1},\"line_color\":{\"value\":\"#1f77b4\"},\"x\":{\"field\":\"sepal_width\"},\"y\":{\"field\":\"sepal_length\"}},\"id\":\"3496\",\"type\":\"Circle\"},{\"attributes\":{\"dimension\":1,\"ticker\":{\"id\":\"3399\",\"type\":\"BasicTicker\"}},\"id\":\"3402\",\"type\":\"Grid\"},{\"attributes\":{},\"id\":\"3677\",\"type\":\"BasicTickFormatter\"},{\"attributes\":{},\"id\":\"3477\",\"type\":\"BasicTicker\"},{\"attributes\":{\"ticker\":{\"id\":\"3472\",\"type\":\"BasicTicker\"}},\"id\":\"3475\",\"type\":\"Grid\"},{\"attributes\":{},\"id\":\"3481\",\"type\":\"PanTool\"},{\"attributes\":{},\"id\":\"3685\",\"type\":\"UnionRenderers\"},{\"attributes\":{\"fill_color\":{\"value\":\"red\"},\"line_color\":{\"value\":\"red\"},\"x\":{\"field\":\"petal_length\"},\"y\":{\"field\":\"sepal_length\"}},\"id\":\"3417\",\"type\":\"Circle\"},{\"attributes\":{\"below\":[{\"id\":\"3432\",\"type\":\"LinearAxis\"}],\"center\":[{\"id\":\"3436\",\"type\":\"Grid\"},{\"id\":\"3441\",\"type\":\"Grid\"}],\"left\":[{\"id\":\"3437\",\"type\":\"LinearAxis\"}],\"plot_height\":400,\"plot_width\":400,\"renderers\":[{\"id\":\"3458\",\"type\":\"GlyphRenderer\"}],\"title\":{\"id\":\"3422\",\"type\":\"Title\"},\"toolbar\":{\"id\":\"3448\",\"type\":\"Toolbar\"},\"x_range\":{\"id\":\"3424\",\"type\":\"DataRange1d\"},\"x_scale\":{\"id\":\"3428\",\"type\":\"LinearScale\"},\"y_range\":{\"id\":\"3426\",\"type\":\"DataRange1d\"},\"y_scale\":{\"id\":\"3430\",\"type\":\"LinearScale\"}},\"id\":\"3421\",\"subtype\":\"Figure\",\"type\":\"Plot\"},{\"attributes\":{},\"id\":\"3686\",\"type\":\"Selection\"},{\"attributes\":{\"data_source\":{\"id\":\"3381\",\"type\":\"ColumnDataSource\"},\"glyph\":{\"id\":\"3417\",\"type\":\"Circle\"},\"hover_glyph\":null,\"muted_glyph\":null,\"nonselection_glyph\":{\"id\":\"3418\",\"type\":\"Circle\"},\"selection_glyph\":null,\"view\":{\"id\":\"3420\",\"type\":\"CDSView\"}},\"id\":\"3419\",\"type\":\"GlyphRenderer\"},{\"attributes\":{\"fill_color\":{\"value\":\"green\"},\"line_color\":{\"value\":\"green\"},\"x\":{\"field\":\"sepal_width\"},\"y\":{\"field\":\"sepal_length\"}},\"id\":\"3495\",\"type\":\"Circle\"},{\"attributes\":{\"axis_label\":\"Sepal Length\",\"formatter\":{\"id\":\"3677\",\"type\":\"BasicTickFormatter\"},\"ticker\":{\"id\":\"3477\",\"type\":\"BasicTicker\"}},\"id\":\"3476\",\"type\":\"LinearAxis\"},{\"attributes\":{},\"id\":\"3403\",\"type\":\"PanTool\"},{\"attributes\":{\"source\":{\"id\":\"3381\",\"type\":\"ColumnDataSource\"}},\"id\":\"3459\",\"type\":\"CDSView\"},{\"attributes\":{\"below\":[{\"id\":\"3510\",\"type\":\"LinearAxis\"}],\"center\":[{\"id\":\"3514\",\"type\":\"Grid\"},{\"id\":\"3519\",\"type\":\"Grid\"}],\"left\":[{\"id\":\"3515\",\"type\":\"LinearAxis\"}],\"plot_height\":400,\"plot_width\":400,\"renderers\":[{\"id\":\"3536\",\"type\":\"GlyphRenderer\"}],\"title\":{\"id\":\"3500\",\"type\":\"Title\"},\"toolbar\":{\"id\":\"3526\",\"type\":\"Toolbar\"},\"x_range\":{\"id\":\"3502\",\"type\":\"DataRange1d\"},\"x_scale\":{\"id\":\"3506\",\"type\":\"LinearScale\"},\"y_range\":{\"id\":\"3504\",\"type\":\"DataRange1d\"},\"y_scale\":{\"id\":\"3508\",\"type\":\"LinearScale\"}},\"id\":\"3499\",\"subtype\":\"Figure\",\"type\":\"Plot\"},{\"attributes\":{\"active_drag\":\"auto\",\"active_inspect\":\"auto\",\"active_multi\":null,\"active_scroll\":\"auto\",\"active_tap\":\"auto\",\"tools\":[{\"id\":\"3442\",\"type\":\"PanTool\"},{\"id\":\"3443\",\"type\":\"WheelZoomTool\"},{\"id\":\"3444\",\"type\":\"BoxZoomTool\"},{\"id\":\"3445\",\"type\":\"SaveTool\"},{\"id\":\"3446\",\"type\":\"ResetTool\"},{\"id\":\"3447\",\"type\":\"HelpTool\"}]},\"id\":\"3448\",\"type\":\"Toolbar\"},{\"attributes\":{\"ticker\":{\"id\":\"3511\",\"type\":\"BasicTicker\"}},\"id\":\"3514\",\"type\":\"Grid\"},{\"attributes\":{\"bottom_units\":\"screen\",\"fill_alpha\":{\"value\":0.5},\"fill_color\":{\"value\":\"lightgrey\"},\"left_units\":\"screen\",\"level\":\"overlay\",\"line_alpha\":{\"value\":1.0},\"line_color\":{\"value\":\"black\"},\"line_dash\":[4,4],\"line_width\":{\"value\":2},\"render_mode\":\"css\",\"right_units\":\"screen\",\"top_units\":\"screen\"},\"id\":\"3687\",\"type\":\"BoxAnnotation\"},{\"attributes\":{\"text\":\"Sepal Width vs. Sepal Length\"},\"id\":\"3461\",\"type\":\"Title\"},{\"attributes\":{},\"id\":\"3404\",\"type\":\"WheelZoomTool\"},{\"attributes\":{\"bottom_units\":\"screen\",\"fill_alpha\":{\"value\":0.5},\"fill_color\":{\"value\":\"lightgrey\"},\"left_units\":\"screen\",\"level\":\"overlay\",\"line_alpha\":{\"value\":1.0},\"line_color\":{\"value\":\"black\"},\"line_dash\":[4,4],\"line_width\":{\"value\":2},\"render_mode\":\"css\",\"right_units\":\"screen\",\"top_units\":\"screen\"},\"id\":\"3688\",\"type\":\"BoxAnnotation\"},{\"attributes\":{\"data_source\":{\"id\":\"3381\",\"type\":\"ColumnDataSource\"},\"glyph\":{\"id\":\"3456\",\"type\":\"Circle\"},\"hover_glyph\":null,\"muted_glyph\":null,\"nonselection_glyph\":{\"id\":\"3457\",\"type\":\"Circle\"},\"selection_glyph\":null,\"view\":{\"id\":\"3459\",\"type\":\"CDSView\"}},\"id\":\"3458\",\"type\":\"GlyphRenderer\"},{\"attributes\":{\"axis_label\":\"Sepal Width\",\"formatter\":{\"id\":\"3679\",\"type\":\"BasicTickFormatter\"},\"ticker\":{\"id\":\"3472\",\"type\":\"BasicTicker\"}},\"id\":\"3471\",\"type\":\"LinearAxis\"},{\"attributes\":{\"overlay\":{\"id\":\"3687\",\"type\":\"BoxAnnotation\"}},\"id\":\"3405\",\"type\":\"BoxZoomTool\"},{\"attributes\":{\"bottom_units\":\"screen\",\"fill_alpha\":{\"value\":0.5},\"fill_color\":{\"value\":\"lightgrey\"},\"left_units\":\"screen\",\"level\":\"overlay\",\"line_alpha\":{\"value\":1.0},\"line_color\":{\"value\":\"black\"},\"line_dash\":[4,4],\"line_width\":{\"value\":2},\"render_mode\":\"css\",\"right_units\":\"screen\",\"top_units\":\"screen\"},\"id\":\"3689\",\"type\":\"BoxAnnotation\"},{\"attributes\":{\"callback\":null},\"id\":\"3465\",\"type\":\"DataRange1d\"},{\"attributes\":{},\"id\":\"3406\",\"type\":\"SaveTool\"},{\"attributes\":{\"bottom_units\":\"screen\",\"fill_alpha\":{\"value\":0.5},\"fill_color\":{\"value\":\"lightgrey\"},\"left_units\":\"screen\",\"level\":\"overlay\",\"line_alpha\":{\"value\":1.0},\"line_color\":{\"value\":\"black\"},\"line_dash\":[4,4],\"line_width\":{\"value\":2},\"render_mode\":\"css\",\"right_units\":\"screen\",\"top_units\":\"screen\"},\"id\":\"3690\",\"type\":\"BoxAnnotation\"},{\"attributes\":{\"callback\":null},\"id\":\"3463\",\"type\":\"DataRange1d\"},{\"attributes\":{},\"id\":\"3407\",\"type\":\"ResetTool\"},{\"attributes\":{\"fill_color\":{\"value\":\"blue\"},\"line_color\":{\"value\":\"blue\"},\"x\":{\"field\":\"petal_length\"},\"y\":{\"field\":\"petal_width\"}},\"id\":\"3456\",\"type\":\"Circle\"},{\"attributes\":{},\"id\":\"3408\",\"type\":\"HelpTool\"},{\"attributes\":{\"active_drag\":\"auto\",\"active_inspect\":\"auto\",\"active_multi\":null,\"active_scroll\":\"auto\",\"active_tap\":\"auto\",\"tools\":[{\"id\":\"3403\",\"type\":\"PanTool\"},{\"id\":\"3404\",\"type\":\"WheelZoomTool\"},{\"id\":\"3405\",\"type\":\"BoxZoomTool\"},{\"id\":\"3406\",\"type\":\"SaveTool\"},{\"id\":\"3407\",\"type\":\"ResetTool\"},{\"id\":\"3408\",\"type\":\"HelpTool\"}]},\"id\":\"3409\",\"type\":\"Toolbar\"},{\"attributes\":{\"source\":{\"id\":\"3381\",\"type\":\"ColumnDataSource\"}},\"id\":\"3420\",\"type\":\"CDSView\"},{\"attributes\":{},\"id\":\"3472\",\"type\":\"BasicTicker\"},{\"attributes\":{},\"id\":\"3681\",\"type\":\"BasicTickFormatter\"},{\"attributes\":{},\"id\":\"3469\",\"type\":\"LinearScale\"},{\"attributes\":{},\"id\":\"3683\",\"type\":\"BasicTickFormatter\"},{\"attributes\":{\"children\":[{\"id\":\"3382\",\"subtype\":\"Figure\",\"type\":\"Plot\"},{\"id\":\"3421\",\"subtype\":\"Figure\",\"type\":\"Plot\"}]},\"id\":\"3538\",\"type\":\"Row\"},{\"attributes\":{},\"id\":\"3520\",\"type\":\"PanTool\"},{\"attributes\":{},\"id\":\"3521\",\"type\":\"WheelZoomTool\"},{\"attributes\":{\"overlay\":{\"id\":\"3690\",\"type\":\"BoxAnnotation\"}},\"id\":\"3522\",\"type\":\"BoxZoomTool\"},{\"attributes\":{\"fill_color\":{\"value\":\"gold\"},\"line_color\":{\"value\":\"gold\"},\"x\":{\"field\":\"sepal_width\"},\"y\":{\"field\":\"petal_width\"}},\"id\":\"3534\",\"type\":\"Circle\"},{\"attributes\":{},\"id\":\"3523\",\"type\":\"SaveTool\"},{\"attributes\":{},\"id\":\"3679\",\"type\":\"BasicTickFormatter\"},{\"attributes\":{\"source\":{\"id\":\"3381\",\"type\":\"ColumnDataSource\"}},\"id\":\"3498\",\"type\":\"CDSView\"},{\"attributes\":{},\"id\":\"3516\",\"type\":\"BasicTicker\"},{\"attributes\":{\"axis_label\":\"Petal Width\",\"formatter\":{\"id\":\"3681\",\"type\":\"BasicTickFormatter\"},\"ticker\":{\"id\":\"3516\",\"type\":\"BasicTicker\"}},\"id\":\"3515\",\"type\":\"LinearAxis\"},{\"attributes\":{},\"id\":\"3511\",\"type\":\"BasicTicker\"},{\"attributes\":{\"axis_label\":\"Sepal Width\",\"formatter\":{\"id\":\"3683\",\"type\":\"BasicTickFormatter\"},\"ticker\":{\"id\":\"3511\",\"type\":\"BasicTicker\"}},\"id\":\"3510\",\"type\":\"LinearAxis\"},{\"attributes\":{\"callback\":null},\"id\":\"3502\",\"type\":\"DataRange1d\"},{\"attributes\":{\"callback\":null},\"id\":\"3504\",\"type\":\"DataRange1d\"},{\"attributes\":{},\"id\":\"3506\",\"type\":\"LinearScale\"},{\"attributes\":{},\"id\":\"3524\",\"type\":\"ResetTool\"},{\"attributes\":{\"source\":{\"id\":\"3381\",\"type\":\"ColumnDataSource\"}},\"id\":\"3537\",\"type\":\"CDSView\"},{\"attributes\":{\"fill_alpha\":{\"value\":0.1},\"fill_color\":{\"value\":\"#1f77b4\"},\"line_alpha\":{\"value\":0.1},\"line_color\":{\"value\":\"#1f77b4\"},\"x\":{\"field\":\"sepal_width\"},\"y\":{\"field\":\"petal_width\"}},\"id\":\"3535\",\"type\":\"Circle\"},{\"attributes\":{\"text\":\"Sepal Width vs. Petal Width\"},\"id\":\"3500\",\"type\":\"Title\"},{\"attributes\":{},\"id\":\"3508\",\"type\":\"LinearScale\"},{\"attributes\":{\"dimension\":1,\"ticker\":{\"id\":\"3516\",\"type\":\"BasicTicker\"}},\"id\":\"3519\",\"type\":\"Grid\"},{\"attributes\":{},\"id\":\"3482\",\"type\":\"WheelZoomTool\"},{\"attributes\":{\"active_drag\":\"auto\",\"active_inspect\":\"auto\",\"active_multi\":null,\"active_scroll\":\"auto\",\"active_tap\":\"auto\",\"tools\":[{\"id\":\"3520\",\"type\":\"PanTool\"},{\"id\":\"3521\",\"type\":\"WheelZoomTool\"},{\"id\":\"3522\",\"type\":\"BoxZoomTool\"},{\"id\":\"3523\",\"type\":\"SaveTool\"},{\"id\":\"3524\",\"type\":\"ResetTool\"},{\"id\":\"3525\",\"type\":\"HelpTool\"}]},\"id\":\"3526\",\"type\":\"Toolbar\"},{\"attributes\":{\"overlay\":{\"id\":\"3689\",\"type\":\"BoxAnnotation\"}},\"id\":\"3483\",\"type\":\"BoxZoomTool\"},{\"attributes\":{\"data_source\":{\"id\":\"3381\",\"type\":\"ColumnDataSource\"},\"glyph\":{\"id\":\"3534\",\"type\":\"Circle\"},\"hover_glyph\":null,\"muted_glyph\":null,\"nonselection_glyph\":{\"id\":\"3535\",\"type\":\"Circle\"},\"selection_glyph\":null,\"view\":{\"id\":\"3537\",\"type\":\"CDSView\"}},\"id\":\"3536\",\"type\":\"GlyphRenderer\"},{\"attributes\":{},\"id\":\"3484\",\"type\":\"SaveTool\"},{\"attributes\":{},\"id\":\"3485\",\"type\":\"ResetTool\"},{\"attributes\":{},\"id\":\"3486\",\"type\":\"HelpTool\"},{\"attributes\":{\"active_drag\":\"auto\",\"active_inspect\":\"auto\",\"active_multi\":null,\"active_scroll\":\"auto\",\"active_tap\":\"auto\",\"tools\":[{\"id\":\"3481\",\"type\":\"PanTool\"},{\"id\":\"3482\",\"type\":\"WheelZoomTool\"},{\"id\":\"3483\",\"type\":\"BoxZoomTool\"},{\"id\":\"3484\",\"type\":\"SaveTool\"},{\"id\":\"3485\",\"type\":\"ResetTool\"},{\"id\":\"3486\",\"type\":\"HelpTool\"}]},\"id\":\"3487\",\"type\":\"Toolbar\"},{\"attributes\":{},\"id\":\"3525\",\"type\":\"HelpTool\"}],\"root_ids\":[\"3540\"]},\"title\":\"Bokeh Application\",\"version\":\"1.2.0\"}};\n",
       "  var render_items = [{\"docid\":\"5a35bf61-901b-4471-9b58-352f8806f1c4\",\"roots\":{\"3540\":\"b1c0724d-2832-4d8c-9158-fc03d54aaa09\"}}];\n",
       "  root.Bokeh.embed.embed_items_notebook(docs_json, render_items);\n",
       "\n",
       "  }\n",
       "  if (root.Bokeh !== undefined) {\n",
       "    embed_document(root);\n",
       "  } else {\n",
       "    var attempts = 0;\n",
       "    var timer = setInterval(function(root) {\n",
       "      if (root.Bokeh !== undefined) {\n",
       "        embed_document(root);\n",
       "        clearInterval(timer);\n",
       "      }\n",
       "      attempts++;\n",
       "      if (attempts > 100) {\n",
       "        console.log(\"Bokeh: ERROR: Unable to run BokehJS code because BokehJS library is missing\");\n",
       "        clearInterval(timer);\n",
       "      }\n",
       "    }, 10, root)\n",
       "  }\n",
       "})(window);"
      ],
      "application/vnd.bokehjs_exec.v0+json": ""
     },
     "metadata": {
      "application/vnd.bokehjs_exec.v0+json": {
       "id": "3540"
      }
     },
     "output_type": "display_data"
    }
   ],
   "source": [
    "source = ColumnDataSource(flowers)\n",
    "\n",
    "p1 = figure(plot_width=400, plot_height=400, x_axis_label='Petal Length', y_axis_label='Sepal Length',\n",
    "           title='Petal Length vs. Sepal Length')\n",
    "p1.circle('petal_length', 'sepal_length', source=source, color='red')\n",
    "\n",
    "p2 = figure(plot_width=400, plot_height=400, x_axis_label='Petal Length', y_axis_label='Petal Width',\n",
    "           title='Petal Length vs. Petal Width')\n",
    "p2.circle('petal_length', 'petal_width', source=source, color='blue')\n",
    "\n",
    "p3 = figure(plot_width=400, plot_height=400, x_axis_label='Sepal Width', y_axis_label='Sepal Length',\n",
    "           title='Sepal Width vs. Sepal Length')\n",
    "p3.circle('sepal_width', 'sepal_length', source=source, color='green')\n",
    "\n",
    "p4 = figure(plot_width=400, plot_height=400, x_axis_label='Sepal Width', y_axis_label='Petal Width',\n",
    "           title='Sepal Width vs. Petal Width')\n",
    "p4.circle('sepal_width', 'petal_width', source=source, color='gold')\n",
    "\n",
    "layout = column(row(p1, p2), row(p3, p4))\n",
    "show(layout)\n",
    "# 2,2로 그려짐"
   ]
  },
  {
   "cell_type": "code",
   "execution_count": 36,
   "metadata": {
    "colab": {},
    "colab_type": "code",
    "id": "GBrKFQax2uHs"
   },
   "outputs": [],
   "source": [
    "from bokeh.layouts import gridplot"
   ]
  },
  {
   "cell_type": "code",
   "execution_count": 37,
   "metadata": {
    "colab": {
     "base_uri": "https://localhost:8080/",
     "height": 847
    },
    "colab_type": "code",
    "id": "_RbbgGtc20sh",
    "outputId": "03c781f2-1e41-48f0-b7bd-a68f2e5edebb"
   },
   "outputs": [
    {
     "data": {
      "text/html": [
       "\n",
       "\n",
       "\n",
       "\n",
       "\n",
       "\n",
       "  <div class=\"bk-root\" id=\"7c3e51ca-ece5-47b2-a598-51b395932173\" data-root-id=\"4049\"></div>\n"
      ]
     },
     "metadata": {},
     "output_type": "display_data"
    },
    {
     "data": {
      "application/javascript": [
       "(function(root) {\n",
       "  function embed_document(root) {\n",
       "    \n",
       "  var docs_json = {\"5bae663d-50d7-45ea-a646-81cd155e5171\":{\"roots\":{\"references\":[{\"attributes\":{\"children\":[{\"id\":\"4048\",\"type\":\"ToolbarBox\"},{\"id\":\"4046\",\"type\":\"GridBox\"}]},\"id\":\"4049\",\"type\":\"Column\"},{\"attributes\":{\"callback\":null},\"id\":\"3974\",\"type\":\"DataRange1d\"},{\"attributes\":{\"callback\":null},\"id\":\"3976\",\"type\":\"DataRange1d\"},{\"attributes\":{},\"id\":\"3978\",\"type\":\"LinearScale\"},{\"attributes\":{},\"id\":\"3918\",\"type\":\"ResetTool\"},{\"attributes\":{},\"id\":\"3980\",\"type\":\"LinearScale\"},{\"attributes\":{\"callback\":null,\"data\":{\"index\":[0,1,2,3,4,5,6,7,8,9,10,11,12,13,14,15,16,17,18,19,20,21,22,23,24,25,26,27,28,29,30,31,32,33,34,35,36,37,38,39,40,41,42,43,44,45,46,47,48,49,50,51,52,53,54,55,56,57,58,59,60,61,62,63,64,65,66,67,68,69,70,71,72,73,74,75,76,77,78,79,80,81,82,83,84,85,86,87,88,89,90,91,92,93,94,95,96,97,98,99,100,101,102,103,104,105,106,107,108,109,110,111,112,113,114,115,116,117,118,119,120,121,122,123,124,125,126,127,128,129,130,131,132,133,134,135,136,137,138,139,140,141,142,143,144,145,146,147,148,149],\"petal_length\":{\"__ndarray__\":\"ZmZmZmZm9j9mZmZmZmb2P83MzMzMzPQ/AAAAAAAA+D9mZmZmZmb2PzMzMzMzM/s/ZmZmZmZm9j8AAAAAAAD4P2ZmZmZmZvY/AAAAAAAA+D8AAAAAAAD4P5qZmZmZmfk/ZmZmZmZm9j+amZmZmZnxPzMzMzMzM/M/AAAAAAAA+D/NzMzMzMz0P2ZmZmZmZvY/MzMzMzMz+z8AAAAAAAD4PzMzMzMzM/s/AAAAAAAA+D8AAAAAAADwPzMzMzMzM/s/ZmZmZmZm/j+amZmZmZn5P5qZmZmZmfk/AAAAAAAA+D9mZmZmZmb2P5qZmZmZmfk/mpmZmZmZ+T8AAAAAAAD4PwAAAAAAAPg/ZmZmZmZm9j8AAAAAAAD4PzMzMzMzM/M/zczMzMzM9D9mZmZmZmb2P83MzMzMzPQ/AAAAAAAA+D/NzMzMzMz0P83MzMzMzPQ/zczMzMzM9D+amZmZmZn5P2ZmZmZmZv4/ZmZmZmZm9j+amZmZmZn5P2ZmZmZmZvY/AAAAAAAA+D9mZmZmZmb2P83MzMzMzBJAAAAAAAAAEkCamZmZmZkTQAAAAAAAABBAZmZmZmZmEkAAAAAAAAASQM3MzMzMzBJAZmZmZmZmCkBmZmZmZmYSQDMzMzMzMw9AAAAAAAAADEDNzMzMzMwQQAAAAAAAABBAzczMzMzMEkDNzMzMzMwMQJqZmZmZmRFAAAAAAAAAEkBmZmZmZmYQQAAAAAAAABJAMzMzMzMzD0AzMzMzMzMTQAAAAAAAABBAmpmZmZmZE0DNzMzMzMwSQDMzMzMzMxFAmpmZmZmZEUAzMzMzMzMTQAAAAAAAABRAAAAAAAAAEkAAAAAAAAAMQGZmZmZmZg5AmpmZmZmZDUAzMzMzMzMPQGZmZmZmZhRAAAAAAAAAEkAAAAAAAAASQM3MzMzMzBJAmpmZmZmZEUBmZmZmZmYQQAAAAAAAABBAmpmZmZmZEUBmZmZmZmYSQAAAAAAAABBAZmZmZmZmCkDNzMzMzMwQQM3MzMzMzBBAzczMzMzMEEAzMzMzMzMRQAAAAAAAAAhAZmZmZmZmEEAAAAAAAAAYQGZmZmZmZhRAmpmZmZmZF0BmZmZmZmYWQDMzMzMzMxdAZmZmZmZmGkAAAAAAAAASQDMzMzMzMxlAMzMzMzMzF0BmZmZmZmYYQGZmZmZmZhRAMzMzMzMzFUAAAAAAAAAWQAAAAAAAABRAZmZmZmZmFEAzMzMzMzMVQAAAAAAAABZAzczMzMzMGkCamZmZmZkbQAAAAAAAABRAzczMzMzMFkCamZmZmZkTQM3MzMzMzBpAmpmZmZmZE0DNzMzMzMwWQAAAAAAAABhAMzMzMzMzE0CamZmZmZkTQGZmZmZmZhZAMzMzMzMzF0BmZmZmZmYYQJqZmZmZmRlAZmZmZmZmFkBmZmZmZmYUQGZmZmZmZhZAZmZmZmZmGEBmZmZmZmYWQAAAAAAAABZAMzMzMzMzE0CamZmZmZkVQGZmZmZmZhZAZmZmZmZmFEBmZmZmZmYUQJqZmZmZmRdAzczMzMzMFkDNzMzMzMwUQAAAAAAAABRAzczMzMzMFECamZmZmZkVQGZmZmZmZhRA\",\"dtype\":\"float64\",\"shape\":[150]},\"petal_width\":{\"__ndarray__\":\"mpmZmZmZyT+amZmZmZnJP5qZmZmZmck/mpmZmZmZyT+amZmZmZnJP5qZmZmZmdk/MzMzMzMz0z+amZmZmZnJP5qZmZmZmck/mpmZmZmZuT+amZmZmZnJP5qZmZmZmck/mpmZmZmZuT+amZmZmZm5P5qZmZmZmck/mpmZmZmZ2T+amZmZmZnZPzMzMzMzM9M/MzMzMzMz0z8zMzMzMzPTP5qZmZmZmck/mpmZmZmZ2T+amZmZmZnJPwAAAAAAAOA/mpmZmZmZyT+amZmZmZnJP5qZmZmZmdk/mpmZmZmZyT+amZmZmZnJP5qZmZmZmck/mpmZmZmZyT+amZmZmZnZP5qZmZmZmbk/mpmZmZmZyT+amZmZmZnJP5qZmZmZmck/mpmZmZmZyT+amZmZmZm5P5qZmZmZmck/mpmZmZmZyT8zMzMzMzPTPzMzMzMzM9M/mpmZmZmZyT8zMzMzMzPjP5qZmZmZmdk/MzMzMzMz0z+amZmZmZnJP5qZmZmZmck/mpmZmZmZyT+amZmZmZnJP2ZmZmZmZvY/AAAAAAAA+D8AAAAAAAD4P83MzMzMzPQ/AAAAAAAA+D/NzMzMzMz0P5qZmZmZmfk/AAAAAAAA8D/NzMzMzMz0P2ZmZmZmZvY/AAAAAAAA8D8AAAAAAAD4PwAAAAAAAPA/ZmZmZmZm9j/NzMzMzMz0P2ZmZmZmZvY/AAAAAAAA+D8AAAAAAADwPwAAAAAAAPg/mpmZmZmZ8T/NzMzMzMz8P83MzMzMzPQ/AAAAAAAA+D8zMzMzMzPzP83MzMzMzPQ/ZmZmZmZm9j9mZmZmZmb2PzMzMzMzM/s/AAAAAAAA+D8AAAAAAADwP5qZmZmZmfE/AAAAAAAA8D8zMzMzMzPzP5qZmZmZmfk/AAAAAAAA+D+amZmZmZn5PwAAAAAAAPg/zczMzMzM9D/NzMzMzMz0P83MzMzMzPQ/MzMzMzMz8z9mZmZmZmb2PzMzMzMzM/M/AAAAAAAA8D/NzMzMzMz0PzMzMzMzM/M/zczMzMzM9D/NzMzMzMz0P5qZmZmZmfE/zczMzMzM9D8AAAAAAAAEQGZmZmZmZv4/zczMzMzMAEDNzMzMzMz8P5qZmZmZmQFAzczMzMzMAEAzMzMzMzP7P83MzMzMzPw/zczMzMzM/D8AAAAAAAAEQAAAAAAAAABAZmZmZmZm/j/NzMzMzMwAQAAAAAAAAABAMzMzMzMzA0BmZmZmZmYCQM3MzMzMzPw/mpmZmZmZAUBmZmZmZmYCQAAAAAAAAPg/ZmZmZmZmAkAAAAAAAAAAQAAAAAAAAABAzczMzMzM/D/NzMzMzMwAQM3MzMzMzPw/zczMzMzM/D/NzMzMzMz8P83MzMzMzABAmpmZmZmZ+T9mZmZmZmb+PwAAAAAAAABAmpmZmZmZAUAAAAAAAAD4P2ZmZmZmZvY/ZmZmZmZmAkAzMzMzMzMDQM3MzMzMzPw/zczMzMzM/D/NzMzMzMwAQDMzMzMzMwNAZmZmZmZmAkBmZmZmZmb+P2ZmZmZmZgJAAAAAAAAABEBmZmZmZmYCQGZmZmZmZv4/AAAAAAAAAEBmZmZmZmYCQM3MzMzMzPw/\",\"dtype\":\"float64\",\"shape\":[150]},\"sepal_length\":{\"__ndarray__\":\"ZmZmZmZmFECamZmZmZkTQM3MzMzMzBJAZmZmZmZmEkAAAAAAAAAUQJqZmZmZmRVAZmZmZmZmEkAAAAAAAAAUQJqZmZmZmRFAmpmZmZmZE0CamZmZmZkVQDMzMzMzMxNAMzMzMzMzE0AzMzMzMzMRQDMzMzMzMxdAzczMzMzMFkCamZmZmZkVQGZmZmZmZhRAzczMzMzMFkBmZmZmZmYUQJqZmZmZmRVAZmZmZmZmFEBmZmZmZmYSQGZmZmZmZhRAMzMzMzMzE0AAAAAAAAAUQAAAAAAAABRAzczMzMzMFEDNzMzMzMwUQM3MzMzMzBJAMzMzMzMzE0CamZmZmZkVQM3MzMzMzBRAAAAAAAAAFkCamZmZmZkTQAAAAAAAABRAAAAAAAAAFkCamZmZmZkTQJqZmZmZmRFAZmZmZmZmFEAAAAAAAAAUQAAAAAAAABJAmpmZmZmZEUAAAAAAAAAUQGZmZmZmZhRAMzMzMzMzE0BmZmZmZmYUQGZmZmZmZhJAMzMzMzMzFUAAAAAAAAAUQAAAAAAAABxAmpmZmZmZGUCamZmZmZkbQAAAAAAAABZAAAAAAAAAGkDNzMzMzMwWQDMzMzMzMxlAmpmZmZmZE0BmZmZmZmYaQM3MzMzMzBRAAAAAAAAAFECamZmZmZkXQAAAAAAAABhAZmZmZmZmGEBmZmZmZmYWQM3MzMzMzBpAZmZmZmZmFkAzMzMzMzMXQM3MzMzMzBhAZmZmZmZmFkCamZmZmZkXQGZmZmZmZhhAMzMzMzMzGUBmZmZmZmYYQJqZmZmZmRlAZmZmZmZmGkAzMzMzMzMbQM3MzMzMzBpAAAAAAAAAGEDNzMzMzMwWQAAAAAAAABZAAAAAAAAAFkAzMzMzMzMXQAAAAAAAABhAmpmZmZmZFUAAAAAAAAAYQM3MzMzMzBpAMzMzMzMzGUBmZmZmZmYWQAAAAAAAABZAAAAAAAAAFkBmZmZmZmYYQDMzMzMzMxdAAAAAAAAAFEBmZmZmZmYWQM3MzMzMzBZAzczMzMzMFkDNzMzMzMwYQGZmZmZmZhRAzczMzMzMFkAzMzMzMzMZQDMzMzMzMxdAZmZmZmZmHEAzMzMzMzMZQAAAAAAAABpAZmZmZmZmHkCamZmZmZkTQDMzMzMzMx1AzczMzMzMGkDNzMzMzMwcQAAAAAAAABpAmpmZmZmZGUAzMzMzMzMbQM3MzMzMzBZAMzMzMzMzF0CamZmZmZkZQAAAAAAAABpAzczMzMzMHkDNzMzMzMweQAAAAAAAABhAmpmZmZmZG0BmZmZmZmYWQM3MzMzMzB5AMzMzMzMzGUDNzMzMzMwaQM3MzMzMzBxAzczMzMzMGEBmZmZmZmYYQJqZmZmZmRlAzczMzMzMHECamZmZmZkdQJqZmZmZmR9AmpmZmZmZGUAzMzMzMzMZQGZmZmZmZhhAzczMzMzMHkAzMzMzMzMZQJqZmZmZmRlAAAAAAAAAGECamZmZmZkbQM3MzMzMzBpAmpmZmZmZG0AzMzMzMzMXQDMzMzMzMxtAzczMzMzMGkDNzMzMzMwaQDMzMzMzMxlAAAAAAAAAGkDNzMzMzMwYQJqZmZmZmRdA\",\"dtype\":\"float64\",\"shape\":[150]},\"sepal_width\":{\"__ndarray__\":\"AAAAAAAADEAAAAAAAAAIQJqZmZmZmQlAzczMzMzMCEDNzMzMzMwMQDMzMzMzMw9AMzMzMzMzC0AzMzMzMzMLQDMzMzMzMwdAzczMzMzMCECamZmZmZkNQDMzMzMzMwtAAAAAAAAACEAAAAAAAAAIQAAAAAAAABBAmpmZmZmZEUAzMzMzMzMPQAAAAAAAAAxAZmZmZmZmDkBmZmZmZmYOQDMzMzMzMwtAmpmZmZmZDUDNzMzMzMwMQGZmZmZmZgpAMzMzMzMzC0AAAAAAAAAIQDMzMzMzMwtAAAAAAAAADEAzMzMzMzMLQJqZmZmZmQlAzczMzMzMCEAzMzMzMzMLQGZmZmZmZhBAzczMzMzMEEDNzMzMzMwIQJqZmZmZmQlAAAAAAAAADEDNzMzMzMwMQAAAAAAAAAhAMzMzMzMzC0AAAAAAAAAMQGZmZmZmZgJAmpmZmZmZCUAAAAAAAAAMQGZmZmZmZg5AAAAAAAAACEBmZmZmZmYOQJqZmZmZmQlAmpmZmZmZDUBmZmZmZmYKQJqZmZmZmQlAmpmZmZmZCUDNzMzMzMwIQGZmZmZmZgJAZmZmZmZmBkBmZmZmZmYGQGZmZmZmZgpAMzMzMzMzA0AzMzMzMzMHQJqZmZmZmQVAAAAAAAAAAEAAAAAAAAAIQJqZmZmZmQFAMzMzMzMzB0AzMzMzMzMHQM3MzMzMzAhAAAAAAAAACECamZmZmZkFQJqZmZmZmQFAAAAAAAAABECamZmZmZkJQGZmZmZmZgZAAAAAAAAABEBmZmZmZmYGQDMzMzMzMwdAAAAAAAAACEBmZmZmZmYGQAAAAAAAAAhAMzMzMzMzB0DNzMzMzMwEQDMzMzMzMwNAMzMzMzMzA0CamZmZmZkFQJqZmZmZmQVAAAAAAAAACEAzMzMzMzMLQM3MzMzMzAhAZmZmZmZmAkAAAAAAAAAIQAAAAAAAAARAzczMzMzMBEAAAAAAAAAIQM3MzMzMzARAZmZmZmZmAkCamZmZmZkFQAAAAAAAAAhAMzMzMzMzB0AzMzMzMzMHQAAAAAAAAARAZmZmZmZmBkBmZmZmZmYKQJqZmZmZmQVAAAAAAAAACEAzMzMzMzMHQAAAAAAAAAhAAAAAAAAACEAAAAAAAAAEQDMzMzMzMwdAAAAAAAAABEDNzMzMzMwMQJqZmZmZmQlAmpmZmZmZBUAAAAAAAAAIQAAAAAAAAARAZmZmZmZmBkCamZmZmZkJQAAAAAAAAAhAZmZmZmZmDkDNzMzMzMwEQJqZmZmZmQFAmpmZmZmZCUBmZmZmZmYGQGZmZmZmZgZAmpmZmZmZBUBmZmZmZmYKQJqZmZmZmQlAZmZmZmZmBkAAAAAAAAAIQGZmZmZmZgZAAAAAAAAACEBmZmZmZmYGQGZmZmZmZg5AZmZmZmZmBkBmZmZmZmYGQM3MzMzMzARAAAAAAAAACEAzMzMzMzMLQM3MzMzMzAhAAAAAAAAACEDNzMzMzMwIQM3MzMzMzAhAzczMzMzMCECamZmZmZkFQJqZmZmZmQlAZmZmZmZmCkAAAAAAAAAIQAAAAAAAAARAAAAAAAAACEAzMzMzMzMLQAAAAAAAAAhA\",\"dtype\":\"float64\",\"shape\":[150]},\"species\":[\"setosa\",\"setosa\",\"setosa\",\"setosa\",\"setosa\",\"setosa\",\"setosa\",\"setosa\",\"setosa\",\"setosa\",\"setosa\",\"setosa\",\"setosa\",\"setosa\",\"setosa\",\"setosa\",\"setosa\",\"setosa\",\"setosa\",\"setosa\",\"setosa\",\"setosa\",\"setosa\",\"setosa\",\"setosa\",\"setosa\",\"setosa\",\"setosa\",\"setosa\",\"setosa\",\"setosa\",\"setosa\",\"setosa\",\"setosa\",\"setosa\",\"setosa\",\"setosa\",\"setosa\",\"setosa\",\"setosa\",\"setosa\",\"setosa\",\"setosa\",\"setosa\",\"setosa\",\"setosa\",\"setosa\",\"setosa\",\"setosa\",\"setosa\",\"versicolor\",\"versicolor\",\"versicolor\",\"versicolor\",\"versicolor\",\"versicolor\",\"versicolor\",\"versicolor\",\"versicolor\",\"versicolor\",\"versicolor\",\"versicolor\",\"versicolor\",\"versicolor\",\"versicolor\",\"versicolor\",\"versicolor\",\"versicolor\",\"versicolor\",\"versicolor\",\"versicolor\",\"versicolor\",\"versicolor\",\"versicolor\",\"versicolor\",\"versicolor\",\"versicolor\",\"versicolor\",\"versicolor\",\"versicolor\",\"versicolor\",\"versicolor\",\"versicolor\",\"versicolor\",\"versicolor\",\"versicolor\",\"versicolor\",\"versicolor\",\"versicolor\",\"versicolor\",\"versicolor\",\"versicolor\",\"versicolor\",\"versicolor\",\"versicolor\",\"versicolor\",\"versicolor\",\"versicolor\",\"versicolor\",\"versicolor\",\"virginica\",\"virginica\",\"virginica\",\"virginica\",\"virginica\",\"virginica\",\"virginica\",\"virginica\",\"virginica\",\"virginica\",\"virginica\",\"virginica\",\"virginica\",\"virginica\",\"virginica\",\"virginica\",\"virginica\",\"virginica\",\"virginica\",\"virginica\",\"virginica\",\"virginica\",\"virginica\",\"virginica\",\"virginica\",\"virginica\",\"virginica\",\"virginica\",\"virginica\",\"virginica\",\"virginica\",\"virginica\",\"virginica\",\"virginica\",\"virginica\",\"virginica\",\"virginica\",\"virginica\",\"virginica\",\"virginica\",\"virginica\",\"virginica\",\"virginica\",\"virginica\",\"virginica\",\"virginica\",\"virginica\",\"virginica\",\"virginica\",\"virginica\"]},\"selected\":{\"id\":\"4016\",\"type\":\"Selection\"},\"selection_policy\":{\"id\":\"4015\",\"type\":\"UnionRenderers\"}},\"id\":\"3853\",\"type\":\"ColumnDataSource\"},{\"attributes\":{\"below\":[{\"id\":\"3982\",\"type\":\"LinearAxis\"}],\"center\":[{\"id\":\"3986\",\"type\":\"Grid\"},{\"id\":\"3991\",\"type\":\"Grid\"}],\"left\":[{\"id\":\"3987\",\"type\":\"LinearAxis\"}],\"plot_height\":400,\"plot_width\":400,\"renderers\":[{\"id\":\"4008\",\"type\":\"GlyphRenderer\"}],\"title\":{\"id\":\"3972\",\"type\":\"Title\"},\"toolbar\":{\"id\":\"3998\",\"type\":\"Toolbar\"},\"toolbar_location\":null,\"x_range\":{\"id\":\"3974\",\"type\":\"DataRange1d\"},\"x_scale\":{\"id\":\"3978\",\"type\":\"LinearScale\"},\"y_range\":{\"id\":\"3976\",\"type\":\"DataRange1d\"},\"y_scale\":{\"id\":\"3980\",\"type\":\"LinearScale\"}},\"id\":\"3971\",\"subtype\":\"Figure\",\"type\":\"Plot\"},{\"attributes\":{\"axis_label\":\"Sepal Width\",\"formatter\":{\"id\":\"4040\",\"type\":\"BasicTickFormatter\"},\"ticker\":{\"id\":\"3983\",\"type\":\"BasicTicker\"}},\"id\":\"3982\",\"type\":\"LinearAxis\"},{\"attributes\":{\"source\":{\"id\":\"3853\",\"type\":\"ColumnDataSource\"}},\"id\":\"3892\",\"type\":\"CDSView\"},{\"attributes\":{},\"id\":\"3983\",\"type\":\"BasicTicker\"},{\"attributes\":{},\"id\":\"3919\",\"type\":\"HelpTool\"},{\"attributes\":{\"text\":\"Petal Length vs. Sepal Length\"},\"id\":\"3855\",\"type\":\"Title\"},{\"attributes\":{\"ticker\":{\"id\":\"3983\",\"type\":\"BasicTicker\"}},\"id\":\"3986\",\"type\":\"Grid\"},{\"attributes\":{\"axis_label\":\"Petal Width\",\"formatter\":{\"id\":\"4038\",\"type\":\"BasicTickFormatter\"},\"ticker\":{\"id\":\"3988\",\"type\":\"BasicTicker\"}},\"id\":\"3987\",\"type\":\"LinearAxis\"},{\"attributes\":{},\"id\":\"4016\",\"type\":\"Selection\"},{\"attributes\":{\"callback\":null},\"id\":\"3859\",\"type\":\"DataRange1d\"},{\"attributes\":{\"callback\":null},\"id\":\"3857\",\"type\":\"DataRange1d\"},{\"attributes\":{},\"id\":\"3988\",\"type\":\"BasicTicker\"},{\"attributes\":{\"dimension\":1,\"ticker\":{\"id\":\"3988\",\"type\":\"BasicTicker\"}},\"id\":\"3991\",\"type\":\"Grid\"},{\"attributes\":{\"fill_alpha\":{\"value\":0.1},\"fill_color\":{\"value\":\"#1f77b4\"},\"line_alpha\":{\"value\":0.1},\"line_color\":{\"value\":\"#1f77b4\"},\"x\":{\"field\":\"petal_length\"},\"y\":{\"field\":\"sepal_length\"}},\"id\":\"3890\",\"type\":\"Circle\"},{\"attributes\":{\"fill_alpha\":{\"value\":0.1},\"fill_color\":{\"value\":\"#1f77b4\"},\"line_alpha\":{\"value\":0.1},\"line_color\":{\"value\":\"#1f77b4\"},\"x\":{\"field\":\"sepal_width\"},\"y\":{\"field\":\"petal_width\"}},\"id\":\"4007\",\"type\":\"Circle\"},{\"attributes\":{},\"id\":\"3861\",\"type\":\"LinearScale\"},{\"attributes\":{\"bottom_units\":\"screen\",\"fill_alpha\":{\"value\":0.5},\"fill_color\":{\"value\":\"lightgrey\"},\"left_units\":\"screen\",\"level\":\"overlay\",\"line_alpha\":{\"value\":1.0},\"line_color\":{\"value\":\"black\"},\"line_dash\":[4,4],\"line_width\":{\"value\":2},\"render_mode\":\"css\",\"right_units\":\"screen\",\"top_units\":\"screen\"},\"id\":\"4035\",\"type\":\"BoxAnnotation\"},{\"attributes\":{\"fill_color\":{\"value\":\"gold\"},\"line_color\":{\"value\":\"gold\"},\"x\":{\"field\":\"sepal_width\"},\"y\":{\"field\":\"petal_width\"}},\"id\":\"4006\",\"type\":\"Circle\"},{\"attributes\":{},\"id\":\"3863\",\"type\":\"LinearScale\"},{\"attributes\":{\"data_source\":{\"id\":\"3853\",\"type\":\"ColumnDataSource\"},\"glyph\":{\"id\":\"4006\",\"type\":\"Circle\"},\"hover_glyph\":null,\"muted_glyph\":null,\"nonselection_glyph\":{\"id\":\"4007\",\"type\":\"Circle\"},\"selection_glyph\":null,\"view\":{\"id\":\"4009\",\"type\":\"CDSView\"}},\"id\":\"4008\",\"type\":\"GlyphRenderer\"},{\"attributes\":{},\"id\":\"3992\",\"type\":\"PanTool\"},{\"attributes\":{},\"id\":\"3993\",\"type\":\"WheelZoomTool\"},{\"attributes\":{\"axis_label\":\"Petal Length\",\"formatter\":{\"id\":\"4013\",\"type\":\"BasicTickFormatter\"},\"ticker\":{\"id\":\"3866\",\"type\":\"BasicTicker\"}},\"id\":\"3865\",\"type\":\"LinearAxis\"},{\"attributes\":{\"overlay\":{\"id\":\"4044\",\"type\":\"BoxAnnotation\"}},\"id\":\"3994\",\"type\":\"BoxZoomTool\"},{\"attributes\":{},\"id\":\"3866\",\"type\":\"BasicTicker\"},{\"attributes\":{},\"id\":\"3995\",\"type\":\"SaveTool\"},{\"attributes\":{\"ticker\":{\"id\":\"3866\",\"type\":\"BasicTicker\"}},\"id\":\"3869\",\"type\":\"Grid\"},{\"attributes\":{\"axis_label\":\"Sepal Length\",\"formatter\":{\"id\":\"4011\",\"type\":\"BasicTickFormatter\"},\"ticker\":{\"id\":\"3871\",\"type\":\"BasicTicker\"}},\"id\":\"3870\",\"type\":\"LinearAxis\"},{\"attributes\":{},\"id\":\"3996\",\"type\":\"ResetTool\"},{\"attributes\":{},\"id\":\"3997\",\"type\":\"HelpTool\"},{\"attributes\":{},\"id\":\"3871\",\"type\":\"BasicTicker\"},{\"attributes\":{\"dimension\":1,\"ticker\":{\"id\":\"3871\",\"type\":\"BasicTicker\"}},\"id\":\"3874\",\"type\":\"Grid\"},{\"attributes\":{\"active_drag\":\"auto\",\"active_inspect\":\"auto\",\"active_multi\":null,\"active_scroll\":\"auto\",\"active_tap\":\"auto\",\"tools\":[{\"id\":\"3992\",\"type\":\"PanTool\"},{\"id\":\"3993\",\"type\":\"WheelZoomTool\"},{\"id\":\"3994\",\"type\":\"BoxZoomTool\"},{\"id\":\"3995\",\"type\":\"SaveTool\"},{\"id\":\"3996\",\"type\":\"ResetTool\"},{\"id\":\"3997\",\"type\":\"HelpTool\"}]},\"id\":\"3998\",\"type\":\"Toolbar\"},{\"attributes\":{\"data_source\":{\"id\":\"3853\",\"type\":\"ColumnDataSource\"},\"glyph\":{\"id\":\"3928\",\"type\":\"Circle\"},\"hover_glyph\":null,\"muted_glyph\":null,\"nonselection_glyph\":{\"id\":\"3929\",\"type\":\"Circle\"},\"selection_glyph\":null,\"view\":{\"id\":\"3931\",\"type\":\"CDSView\"}},\"id\":\"3930\",\"type\":\"GlyphRenderer\"},{\"attributes\":{\"source\":{\"id\":\"3853\",\"type\":\"ColumnDataSource\"}},\"id\":\"4009\",\"type\":\"CDSView\"},{\"attributes\":{\"fill_color\":{\"value\":\"red\"},\"line_color\":{\"value\":\"red\"},\"x\":{\"field\":\"petal_length\"},\"y\":{\"field\":\"sepal_length\"}},\"id\":\"3889\",\"type\":\"Circle\"},{\"attributes\":{\"below\":[{\"id\":\"3904\",\"type\":\"LinearAxis\"}],\"center\":[{\"id\":\"3908\",\"type\":\"Grid\"},{\"id\":\"3913\",\"type\":\"Grid\"}],\"left\":[{\"id\":\"3909\",\"type\":\"LinearAxis\"}],\"plot_height\":400,\"plot_width\":400,\"renderers\":[{\"id\":\"3930\",\"type\":\"GlyphRenderer\"}],\"title\":{\"id\":\"3894\",\"type\":\"Title\"},\"toolbar\":{\"id\":\"3920\",\"type\":\"Toolbar\"},\"toolbar_location\":null,\"x_range\":{\"id\":\"3896\",\"type\":\"DataRange1d\"},\"x_scale\":{\"id\":\"3900\",\"type\":\"LinearScale\"},\"y_range\":{\"id\":\"3898\",\"type\":\"DataRange1d\"},\"y_scale\":{\"id\":\"3902\",\"type\":\"LinearScale\"}},\"id\":\"3893\",\"subtype\":\"Figure\",\"type\":\"Plot\"},{\"attributes\":{\"data_source\":{\"id\":\"3853\",\"type\":\"ColumnDataSource\"},\"glyph\":{\"id\":\"3889\",\"type\":\"Circle\"},\"hover_glyph\":null,\"muted_glyph\":null,\"nonselection_glyph\":{\"id\":\"3890\",\"type\":\"Circle\"},\"selection_glyph\":null,\"view\":{\"id\":\"3892\",\"type\":\"CDSView\"}},\"id\":\"3891\",\"type\":\"GlyphRenderer\"},{\"attributes\":{},\"id\":\"3875\",\"type\":\"PanTool\"},{\"attributes\":{},\"id\":\"4011\",\"type\":\"BasicTickFormatter\"},{\"attributes\":{},\"id\":\"3876\",\"type\":\"WheelZoomTool\"},{\"attributes\":{},\"id\":\"4013\",\"type\":\"BasicTickFormatter\"},{\"attributes\":{\"tools\":[{\"id\":\"3875\",\"type\":\"PanTool\"},{\"id\":\"3876\",\"type\":\"WheelZoomTool\"},{\"id\":\"3877\",\"type\":\"BoxZoomTool\"},{\"id\":\"3878\",\"type\":\"SaveTool\"},{\"id\":\"3879\",\"type\":\"ResetTool\"},{\"id\":\"3880\",\"type\":\"HelpTool\"},{\"id\":\"3914\",\"type\":\"PanTool\"},{\"id\":\"3915\",\"type\":\"WheelZoomTool\"},{\"id\":\"3916\",\"type\":\"BoxZoomTool\"},{\"id\":\"3917\",\"type\":\"SaveTool\"},{\"id\":\"3918\",\"type\":\"ResetTool\"},{\"id\":\"3919\",\"type\":\"HelpTool\"},{\"id\":\"3953\",\"type\":\"PanTool\"},{\"id\":\"3954\",\"type\":\"WheelZoomTool\"},{\"id\":\"3955\",\"type\":\"BoxZoomTool\"},{\"id\":\"3956\",\"type\":\"SaveTool\"},{\"id\":\"3957\",\"type\":\"ResetTool\"},{\"id\":\"3958\",\"type\":\"HelpTool\"},{\"id\":\"3992\",\"type\":\"PanTool\"},{\"id\":\"3993\",\"type\":\"WheelZoomTool\"},{\"id\":\"3994\",\"type\":\"BoxZoomTool\"},{\"id\":\"3995\",\"type\":\"SaveTool\"},{\"id\":\"3996\",\"type\":\"ResetTool\"},{\"id\":\"3997\",\"type\":\"HelpTool\"}]},\"id\":\"4047\",\"type\":\"ProxyToolbar\"},{\"attributes\":{\"overlay\":{\"id\":\"4017\",\"type\":\"BoxAnnotation\"}},\"id\":\"3877\",\"type\":\"BoxZoomTool\"},{\"attributes\":{},\"id\":\"4015\",\"type\":\"UnionRenderers\"},{\"attributes\":{},\"id\":\"3878\",\"type\":\"SaveTool\"},{\"attributes\":{\"fill_alpha\":{\"value\":0.1},\"fill_color\":{\"value\":\"#1f77b4\"},\"line_alpha\":{\"value\":0.1},\"line_color\":{\"value\":\"#1f77b4\"},\"x\":{\"field\":\"petal_length\"},\"y\":{\"field\":\"petal_width\"}},\"id\":\"3929\",\"type\":\"Circle\"},{\"attributes\":{\"bottom_units\":\"screen\",\"fill_alpha\":{\"value\":0.5},\"fill_color\":{\"value\":\"lightgrey\"},\"left_units\":\"screen\",\"level\":\"overlay\",\"line_alpha\":{\"value\":1.0},\"line_color\":{\"value\":\"black\"},\"line_dash\":[4,4],\"line_width\":{\"value\":2},\"render_mode\":\"css\",\"right_units\":\"screen\",\"top_units\":\"screen\"},\"id\":\"4017\",\"type\":\"BoxAnnotation\"},{\"attributes\":{},\"id\":\"3879\",\"type\":\"ResetTool\"},{\"attributes\":{\"bottom_units\":\"screen\",\"fill_alpha\":{\"value\":0.5},\"fill_color\":{\"value\":\"lightgrey\"},\"left_units\":\"screen\",\"level\":\"overlay\",\"line_alpha\":{\"value\":1.0},\"line_color\":{\"value\":\"black\"},\"line_dash\":[4,4],\"line_width\":{\"value\":2},\"render_mode\":\"css\",\"right_units\":\"screen\",\"top_units\":\"screen\"},\"id\":\"4026\",\"type\":\"BoxAnnotation\"},{\"attributes\":{},\"id\":\"3880\",\"type\":\"HelpTool\"},{\"attributes\":{},\"id\":\"4022\",\"type\":\"BasicTickFormatter\"},{\"attributes\":{\"active_drag\":\"auto\",\"active_inspect\":\"auto\",\"active_multi\":null,\"active_scroll\":\"auto\",\"active_tap\":\"auto\",\"tools\":[{\"id\":\"3875\",\"type\":\"PanTool\"},{\"id\":\"3876\",\"type\":\"WheelZoomTool\"},{\"id\":\"3877\",\"type\":\"BoxZoomTool\"},{\"id\":\"3878\",\"type\":\"SaveTool\"},{\"id\":\"3879\",\"type\":\"ResetTool\"},{\"id\":\"3880\",\"type\":\"HelpTool\"}]},\"id\":\"3881\",\"type\":\"Toolbar\"},{\"attributes\":{\"source\":{\"id\":\"3853\",\"type\":\"ColumnDataSource\"}},\"id\":\"3931\",\"type\":\"CDSView\"},{\"attributes\":{},\"id\":\"4038\",\"type\":\"BasicTickFormatter\"},{\"attributes\":{},\"id\":\"4040\",\"type\":\"BasicTickFormatter\"},{\"attributes\":{\"bottom_units\":\"screen\",\"fill_alpha\":{\"value\":0.5},\"fill_color\":{\"value\":\"lightgrey\"},\"left_units\":\"screen\",\"level\":\"overlay\",\"line_alpha\":{\"value\":1.0},\"line_color\":{\"value\":\"black\"},\"line_dash\":[4,4],\"line_width\":{\"value\":2},\"render_mode\":\"css\",\"right_units\":\"screen\",\"top_units\":\"screen\"},\"id\":\"4044\",\"type\":\"BoxAnnotation\"},{\"attributes\":{},\"id\":\"4031\",\"type\":\"BasicTickFormatter\"},{\"attributes\":{\"below\":[{\"id\":\"3943\",\"type\":\"LinearAxis\"}],\"center\":[{\"id\":\"3947\",\"type\":\"Grid\"},{\"id\":\"3952\",\"type\":\"Grid\"}],\"left\":[{\"id\":\"3948\",\"type\":\"LinearAxis\"}],\"plot_height\":400,\"plot_width\":400,\"renderers\":[{\"id\":\"3969\",\"type\":\"GlyphRenderer\"}],\"title\":{\"id\":\"3933\",\"type\":\"Title\"},\"toolbar\":{\"id\":\"3959\",\"type\":\"Toolbar\"},\"toolbar_location\":null,\"x_range\":{\"id\":\"3935\",\"type\":\"DataRange1d\"},\"x_scale\":{\"id\":\"3939\",\"type\":\"LinearScale\"},\"y_range\":{\"id\":\"3937\",\"type\":\"DataRange1d\"},\"y_scale\":{\"id\":\"3941\",\"type\":\"LinearScale\"}},\"id\":\"3932\",\"subtype\":\"Figure\",\"type\":\"Plot\"},{\"attributes\":{\"below\":[{\"id\":\"3865\",\"type\":\"LinearAxis\"}],\"center\":[{\"id\":\"3869\",\"type\":\"Grid\"},{\"id\":\"3874\",\"type\":\"Grid\"}],\"left\":[{\"id\":\"3870\",\"type\":\"LinearAxis\"}],\"plot_height\":400,\"plot_width\":400,\"renderers\":[{\"id\":\"3891\",\"type\":\"GlyphRenderer\"}],\"title\":{\"id\":\"3855\",\"type\":\"Title\"},\"toolbar\":{\"id\":\"3881\",\"type\":\"Toolbar\"},\"toolbar_location\":null,\"x_range\":{\"id\":\"3857\",\"type\":\"DataRange1d\"},\"x_scale\":{\"id\":\"3861\",\"type\":\"LinearScale\"},\"y_range\":{\"id\":\"3859\",\"type\":\"DataRange1d\"},\"y_scale\":{\"id\":\"3863\",\"type\":\"LinearScale\"}},\"id\":\"3854\",\"subtype\":\"Figure\",\"type\":\"Plot\"},{\"attributes\":{\"toolbar\":{\"id\":\"4047\",\"type\":\"ProxyToolbar\"},\"toolbar_location\":\"above\"},\"id\":\"4048\",\"type\":\"ToolbarBox\"},{\"attributes\":{\"text\":\"Petal Length vs. Petal Width\"},\"id\":\"3894\",\"type\":\"Title\"},{\"attributes\":{\"callback\":null},\"id\":\"3896\",\"type\":\"DataRange1d\"},{\"attributes\":{\"callback\":null},\"id\":\"3898\",\"type\":\"DataRange1d\"},{\"attributes\":{},\"id\":\"3900\",\"type\":\"LinearScale\"},{\"attributes\":{},\"id\":\"3902\",\"type\":\"LinearScale\"},{\"attributes\":{\"axis_label\":\"Petal Length\",\"formatter\":{\"id\":\"4022\",\"type\":\"BasicTickFormatter\"},\"ticker\":{\"id\":\"3905\",\"type\":\"BasicTicker\"}},\"id\":\"3904\",\"type\":\"LinearAxis\"},{\"attributes\":{},\"id\":\"3905\",\"type\":\"BasicTicker\"},{\"attributes\":{\"ticker\":{\"id\":\"3905\",\"type\":\"BasicTicker\"}},\"id\":\"3908\",\"type\":\"Grid\"},{\"attributes\":{\"axis_label\":\"Petal Width\",\"formatter\":{\"id\":\"4020\",\"type\":\"BasicTickFormatter\"},\"ticker\":{\"id\":\"3910\",\"type\":\"BasicTicker\"}},\"id\":\"3909\",\"type\":\"LinearAxis\"},{\"attributes\":{},\"id\":\"3910\",\"type\":\"BasicTicker\"},{\"attributes\":{\"dimension\":1,\"ticker\":{\"id\":\"3910\",\"type\":\"BasicTicker\"}},\"id\":\"3913\",\"type\":\"Grid\"},{\"attributes\":{\"callback\":null},\"id\":\"3935\",\"type\":\"DataRange1d\"},{\"attributes\":{\"text\":\"Sepal Width vs. Sepal Length\"},\"id\":\"3933\",\"type\":\"Title\"},{\"attributes\":{},\"id\":\"4029\",\"type\":\"BasicTickFormatter\"},{\"attributes\":{},\"id\":\"3914\",\"type\":\"PanTool\"},{\"attributes\":{},\"id\":\"3915\",\"type\":\"WheelZoomTool\"},{\"attributes\":{\"overlay\":{\"id\":\"4026\",\"type\":\"BoxAnnotation\"}},\"id\":\"3916\",\"type\":\"BoxZoomTool\"},{\"attributes\":{},\"id\":\"3917\",\"type\":\"SaveTool\"},{\"attributes\":{\"callback\":null},\"id\":\"3937\",\"type\":\"DataRange1d\"},{\"attributes\":{},\"id\":\"3939\",\"type\":\"LinearScale\"},{\"attributes\":{},\"id\":\"3941\",\"type\":\"LinearScale\"},{\"attributes\":{},\"id\":\"4020\",\"type\":\"BasicTickFormatter\"},{\"attributes\":{\"axis_label\":\"Sepal Width\",\"formatter\":{\"id\":\"4031\",\"type\":\"BasicTickFormatter\"},\"ticker\":{\"id\":\"3944\",\"type\":\"BasicTicker\"}},\"id\":\"3943\",\"type\":\"LinearAxis\"},{\"attributes\":{\"fill_color\":{\"value\":\"blue\"},\"line_color\":{\"value\":\"blue\"},\"x\":{\"field\":\"petal_length\"},\"y\":{\"field\":\"petal_width\"}},\"id\":\"3928\",\"type\":\"Circle\"},{\"attributes\":{},\"id\":\"3944\",\"type\":\"BasicTicker\"},{\"attributes\":{\"ticker\":{\"id\":\"3944\",\"type\":\"BasicTicker\"}},\"id\":\"3947\",\"type\":\"Grid\"},{\"attributes\":{\"axis_label\":\"Sepal Length\",\"formatter\":{\"id\":\"4029\",\"type\":\"BasicTickFormatter\"},\"ticker\":{\"id\":\"3949\",\"type\":\"BasicTicker\"}},\"id\":\"3948\",\"type\":\"LinearAxis\"},{\"attributes\":{},\"id\":\"3949\",\"type\":\"BasicTicker\"},{\"attributes\":{\"dimension\":1,\"ticker\":{\"id\":\"3949\",\"type\":\"BasicTicker\"}},\"id\":\"3952\",\"type\":\"Grid\"},{\"attributes\":{\"fill_alpha\":{\"value\":0.1},\"fill_color\":{\"value\":\"#1f77b4\"},\"line_alpha\":{\"value\":0.1},\"line_color\":{\"value\":\"#1f77b4\"},\"x\":{\"field\":\"sepal_width\"},\"y\":{\"field\":\"sepal_length\"}},\"id\":\"3968\",\"type\":\"Circle\"},{\"attributes\":{\"fill_color\":{\"value\":\"green\"},\"line_color\":{\"value\":\"green\"},\"x\":{\"field\":\"sepal_width\"},\"y\":{\"field\":\"sepal_length\"}},\"id\":\"3967\",\"type\":\"Circle\"},{\"attributes\":{\"data_source\":{\"id\":\"3853\",\"type\":\"ColumnDataSource\"},\"glyph\":{\"id\":\"3967\",\"type\":\"Circle\"},\"hover_glyph\":null,\"muted_glyph\":null,\"nonselection_glyph\":{\"id\":\"3968\",\"type\":\"Circle\"},\"selection_glyph\":null,\"view\":{\"id\":\"3970\",\"type\":\"CDSView\"}},\"id\":\"3969\",\"type\":\"GlyphRenderer\"},{\"attributes\":{},\"id\":\"3953\",\"type\":\"PanTool\"},{\"attributes\":{},\"id\":\"3954\",\"type\":\"WheelZoomTool\"},{\"attributes\":{\"overlay\":{\"id\":\"4035\",\"type\":\"BoxAnnotation\"}},\"id\":\"3955\",\"type\":\"BoxZoomTool\"},{\"attributes\":{},\"id\":\"3956\",\"type\":\"SaveTool\"},{\"attributes\":{\"active_drag\":\"auto\",\"active_inspect\":\"auto\",\"active_multi\":null,\"active_scroll\":\"auto\",\"active_tap\":\"auto\",\"tools\":[{\"id\":\"3914\",\"type\":\"PanTool\"},{\"id\":\"3915\",\"type\":\"WheelZoomTool\"},{\"id\":\"3916\",\"type\":\"BoxZoomTool\"},{\"id\":\"3917\",\"type\":\"SaveTool\"},{\"id\":\"3918\",\"type\":\"ResetTool\"},{\"id\":\"3919\",\"type\":\"HelpTool\"}]},\"id\":\"3920\",\"type\":\"Toolbar\"},{\"attributes\":{},\"id\":\"3957\",\"type\":\"ResetTool\"},{\"attributes\":{},\"id\":\"3958\",\"type\":\"HelpTool\"},{\"attributes\":{\"active_drag\":\"auto\",\"active_inspect\":\"auto\",\"active_multi\":null,\"active_scroll\":\"auto\",\"active_tap\":\"auto\",\"tools\":[{\"id\":\"3953\",\"type\":\"PanTool\"},{\"id\":\"3954\",\"type\":\"WheelZoomTool\"},{\"id\":\"3955\",\"type\":\"BoxZoomTool\"},{\"id\":\"3956\",\"type\":\"SaveTool\"},{\"id\":\"3957\",\"type\":\"ResetTool\"},{\"id\":\"3958\",\"type\":\"HelpTool\"}]},\"id\":\"3959\",\"type\":\"Toolbar\"},{\"attributes\":{\"source\":{\"id\":\"3853\",\"type\":\"ColumnDataSource\"}},\"id\":\"3970\",\"type\":\"CDSView\"},{\"attributes\":{\"children\":[[{\"id\":\"3854\",\"subtype\":\"Figure\",\"type\":\"Plot\"},0,0],[{\"id\":\"3893\",\"subtype\":\"Figure\",\"type\":\"Plot\"},0,1],[{\"id\":\"3932\",\"subtype\":\"Figure\",\"type\":\"Plot\"},1,0],[{\"id\":\"3971\",\"subtype\":\"Figure\",\"type\":\"Plot\"},1,1]]},\"id\":\"4046\",\"type\":\"GridBox\"},{\"attributes\":{\"text\":\"Sepal Width vs. Petal Width\"},\"id\":\"3972\",\"type\":\"Title\"}],\"root_ids\":[\"4049\"]},\"title\":\"Bokeh Application\",\"version\":\"1.2.0\"}};\n",
       "  var render_items = [{\"docid\":\"5bae663d-50d7-45ea-a646-81cd155e5171\",\"roots\":{\"4049\":\"7c3e51ca-ece5-47b2-a598-51b395932173\"}}];\n",
       "  root.Bokeh.embed.embed_items_notebook(docs_json, render_items);\n",
       "\n",
       "  }\n",
       "  if (root.Bokeh !== undefined) {\n",
       "    embed_document(root);\n",
       "  } else {\n",
       "    var attempts = 0;\n",
       "    var timer = setInterval(function(root) {\n",
       "      if (root.Bokeh !== undefined) {\n",
       "        embed_document(root);\n",
       "        clearInterval(timer);\n",
       "      }\n",
       "      attempts++;\n",
       "      if (attempts > 100) {\n",
       "        console.log(\"Bokeh: ERROR: Unable to run BokehJS code because BokehJS library is missing\");\n",
       "        clearInterval(timer);\n",
       "      }\n",
       "    }, 10, root)\n",
       "  }\n",
       "})(window);"
      ],
      "application/vnd.bokehjs_exec.v0+json": ""
     },
     "metadata": {
      "application/vnd.bokehjs_exec.v0+json": {
       "id": "4049"
      }
     },
     "output_type": "display_data"
    }
   ],
   "source": [
    "source = ColumnDataSource(flowers)\n",
    "\n",
    "p1 = figure(plot_width=400, plot_height=400, x_axis_label='Petal Length', y_axis_label='Sepal Length',\n",
    "           title='Petal Length vs. Sepal Length')\n",
    "p1.circle('petal_length', 'sepal_length', source=source, color='red')\n",
    "\n",
    "p2 = figure(plot_width=400, plot_height=400, x_axis_label='Petal Length', y_axis_label='Petal Width',\n",
    "           title='Petal Length vs. Petal Width')\n",
    "p2.circle('petal_length', 'petal_width', source=source, color='blue')\n",
    "\n",
    "p3 = figure(plot_width=400, plot_height=400, x_axis_label='Sepal Width', y_axis_label='Sepal Length',\n",
    "           title='Sepal Width vs. Sepal Length')\n",
    "p3.circle('sepal_width', 'sepal_length', source=source, color='green')\n",
    "\n",
    "p4 = figure(plot_width=400, plot_height=400, x_axis_label='Sepal Width', y_axis_label='Petal Width',\n",
    "           title='Sepal Width vs. Petal Width')\n",
    "p4.circle('sepal_width', 'petal_width', source=source, color='gold')\n",
    "\n",
    "layout = gridplot([[p1, p2], [p3, p4]])\n",
    "show(layout)\n",
    "# 위에서 한거를 gridplot 사용해서 표현  차이점 : 툴바 위에 나옴"
   ]
  },
  {
   "cell_type": "code",
   "execution_count": 38,
   "metadata": {
    "colab": {
     "base_uri": "https://localhost:8080/",
     "height": 847
    },
    "colab_type": "code",
    "id": "v2xiMKSP200-",
    "outputId": "bae2212c-4482-4ae6-807a-ee3ab273f462"
   },
   "outputs": [
    {
     "data": {
      "text/html": [
       "\n",
       "\n",
       "\n",
       "\n",
       "\n",
       "\n",
       "  <div class=\"bk-root\" id=\"9bc852c3-3870-43b9-9835-e3b3cca41098\" data-root-id=\"4584\"></div>\n"
      ]
     },
     "metadata": {},
     "output_type": "display_data"
    },
    {
     "data": {
      "application/javascript": [
       "(function(root) {\n",
       "  function embed_document(root) {\n",
       "    \n",
       "  var docs_json = {\"d7ed55f3-97ea-49b6-9d7f-e352d8aec531\":{\"roots\":{\"references\":[{\"attributes\":{\"children\":[{\"id\":\"4583\",\"type\":\"ToolbarBox\"},{\"id\":\"4581\",\"type\":\"GridBox\"}]},\"id\":\"4584\",\"type\":\"Column\"},{\"attributes\":{},\"id\":\"4406\",\"type\":\"BasicTicker\"},{\"attributes\":{\"fill_alpha\":{\"value\":0.1},\"fill_color\":{\"value\":\"#1f77b4\"},\"line_alpha\":{\"value\":0.1},\"line_color\":{\"value\":\"#1f77b4\"},\"x\":{\"field\":\"sepal_length\"},\"y\":{\"field\":\"sepal_width\"}},\"id\":\"4503\",\"type\":\"Circle\"},{\"attributes\":{\"dimension\":1,\"ticker\":{\"id\":\"4406\",\"type\":\"BasicTicker\"}},\"id\":\"4409\",\"type\":\"Grid\"},{\"attributes\":{\"callback\":null},\"id\":\"4392\",\"type\":\"DataRange1d\"},{\"attributes\":{\"fill_color\":{\"value\":\"green\"},\"line_color\":{\"value\":\"green\"},\"x\":{\"field\":\"sepal_length\"},\"y\":{\"field\":\"sepal_width\"}},\"id\":\"4502\",\"type\":\"Circle\"},{\"attributes\":{},\"id\":\"4398\",\"type\":\"LinearScale\"},{\"attributes\":{\"data_source\":{\"id\":\"4388\",\"type\":\"ColumnDataSource\"},\"glyph\":{\"id\":\"4502\",\"type\":\"Circle\"},\"hover_glyph\":null,\"muted_glyph\":null,\"nonselection_glyph\":{\"id\":\"4503\",\"type\":\"Circle\"},\"selection_glyph\":null,\"view\":{\"id\":\"4505\",\"type\":\"CDSView\"}},\"id\":\"4504\",\"type\":\"GlyphRenderer\"},{\"attributes\":{},\"id\":\"4488\",\"type\":\"PanTool\"},{\"attributes\":{},\"id\":\"4489\",\"type\":\"WheelZoomTool\"},{\"attributes\":{},\"id\":\"4396\",\"type\":\"LinearScale\"},{\"attributes\":{\"overlay\":{\"id\":\"4570\",\"type\":\"BoxAnnotation\"}},\"id\":\"4490\",\"type\":\"BoxZoomTool\"},{\"attributes\":{},\"id\":\"4491\",\"type\":\"SaveTool\"},{\"attributes\":{},\"id\":\"4492\",\"type\":\"ResetTool\"},{\"attributes\":{},\"id\":\"4493\",\"type\":\"HelpTool\"},{\"attributes\":{\"below\":[{\"id\":\"4439\",\"type\":\"LinearAxis\"}],\"center\":[{\"id\":\"4443\",\"type\":\"Grid\"},{\"id\":\"4448\",\"type\":\"Grid\"}],\"left\":[{\"id\":\"4444\",\"type\":\"LinearAxis\"}],\"plot_height\":400,\"plot_width\":400,\"renderers\":[{\"id\":\"4465\",\"type\":\"GlyphRenderer\"}],\"title\":{\"id\":\"4429\",\"type\":\"Title\"},\"toolbar\":{\"id\":\"4455\",\"type\":\"Toolbar\"},\"toolbar_location\":null,\"x_range\":{\"id\":\"4392\",\"type\":\"DataRange1d\"},\"x_scale\":{\"id\":\"4435\",\"type\":\"LinearScale\"},\"y_range\":{\"id\":\"4433\",\"type\":\"DataRange1d\"},\"y_scale\":{\"id\":\"4437\",\"type\":\"LinearScale\"}},\"id\":\"4428\",\"subtype\":\"Figure\",\"type\":\"Plot\"},{\"attributes\":{\"axis_label\":\"Sepal Length\",\"formatter\":{\"id\":\"4546\",\"type\":\"BasicTickFormatter\"},\"ticker\":{\"id\":\"4406\",\"type\":\"BasicTicker\"}},\"id\":\"4405\",\"type\":\"LinearAxis\"},{\"attributes\":{\"active_drag\":\"auto\",\"active_inspect\":\"auto\",\"active_multi\":null,\"active_scroll\":\"auto\",\"active_tap\":\"auto\",\"tools\":[{\"id\":\"4488\",\"type\":\"PanTool\"},{\"id\":\"4489\",\"type\":\"WheelZoomTool\"},{\"id\":\"4490\",\"type\":\"BoxZoomTool\"},{\"id\":\"4491\",\"type\":\"SaveTool\"},{\"id\":\"4492\",\"type\":\"ResetTool\"},{\"id\":\"4493\",\"type\":\"HelpTool\"}]},\"id\":\"4494\",\"type\":\"Toolbar\"},{\"attributes\":{},\"id\":\"4401\",\"type\":\"BasicTicker\"},{\"attributes\":{\"axis_label\":\"Petal Length\",\"formatter\":{\"id\":\"4548\",\"type\":\"BasicTickFormatter\"},\"ticker\":{\"id\":\"4401\",\"type\":\"BasicTicker\"}},\"id\":\"4400\",\"type\":\"LinearAxis\"},{\"attributes\":{\"ticker\":{\"id\":\"4401\",\"type\":\"BasicTicker\"}},\"id\":\"4404\",\"type\":\"Grid\"},{\"attributes\":{\"source\":{\"id\":\"4388\",\"type\":\"ColumnDataSource\"}},\"id\":\"4505\",\"type\":\"CDSView\"},{\"attributes\":{\"bottom_units\":\"screen\",\"fill_alpha\":{\"value\":0.5},\"fill_color\":{\"value\":\"lightgrey\"},\"left_units\":\"screen\",\"level\":\"overlay\",\"line_alpha\":{\"value\":1.0},\"line_color\":{\"value\":\"black\"},\"line_dash\":[4,4],\"line_width\":{\"value\":2},\"render_mode\":\"css\",\"right_units\":\"screen\",\"top_units\":\"screen\"},\"id\":\"4561\",\"type\":\"BoxAnnotation\"},{\"attributes\":{\"fill_alpha\":{\"value\":0.1},\"fill_color\":{\"value\":\"#1f77b4\"},\"line_alpha\":{\"value\":0.1},\"line_color\":{\"value\":\"#1f77b4\"},\"x\":{\"field\":\"sepal_width\"},\"y\":{\"field\":\"petal_width\"}},\"id\":\"4542\",\"type\":\"Circle\"},{\"attributes\":{\"text\":\"Sepal Width vs. Petal Width\"},\"id\":\"4507\",\"type\":\"Title\"},{\"attributes\":{},\"id\":\"4550\",\"type\":\"UnionRenderers\"},{\"attributes\":{},\"id\":\"4548\",\"type\":\"BasicTickFormatter\"},{\"attributes\":{},\"id\":\"4513\",\"type\":\"LinearScale\"},{\"attributes\":{},\"id\":\"4515\",\"type\":\"LinearScale\"},{\"attributes\":{\"axis_label\":\"Sepal Width\",\"formatter\":{\"id\":\"4575\",\"type\":\"BasicTickFormatter\"},\"ticker\":{\"id\":\"4518\",\"type\":\"BasicTicker\"}},\"id\":\"4517\",\"type\":\"LinearAxis\"},{\"attributes\":{},\"id\":\"4518\",\"type\":\"BasicTicker\"},{\"attributes\":{\"ticker\":{\"id\":\"4518\",\"type\":\"BasicTicker\"}},\"id\":\"4521\",\"type\":\"Grid\"},{\"attributes\":{\"axis_label\":\"Petal Width\",\"formatter\":{\"id\":\"4573\",\"type\":\"BasicTickFormatter\"},\"ticker\":{\"id\":\"4523\",\"type\":\"BasicTicker\"}},\"id\":\"4522\",\"type\":\"LinearAxis\"},{\"attributes\":{\"axis_label\":\"Sepal Length\",\"formatter\":{\"id\":\"4566\",\"type\":\"BasicTickFormatter\"},\"ticker\":{\"id\":\"4479\",\"type\":\"BasicTicker\"}},\"id\":\"4478\",\"type\":\"LinearAxis\"},{\"attributes\":{},\"id\":\"4523\",\"type\":\"BasicTicker\"},{\"attributes\":{\"dimension\":1,\"ticker\":{\"id\":\"4523\",\"type\":\"BasicTicker\"}},\"id\":\"4526\",\"type\":\"Grid\"},{\"attributes\":{\"bottom_units\":\"screen\",\"fill_alpha\":{\"value\":0.5},\"fill_color\":{\"value\":\"lightgrey\"},\"left_units\":\"screen\",\"level\":\"overlay\",\"line_alpha\":{\"value\":1.0},\"line_color\":{\"value\":\"black\"},\"line_dash\":[4,4],\"line_width\":{\"value\":2},\"render_mode\":\"css\",\"right_units\":\"screen\",\"top_units\":\"screen\"},\"id\":\"4552\",\"type\":\"BoxAnnotation\"},{\"attributes\":{\"fill_color\":{\"value\":\"gold\"},\"line_color\":{\"value\":\"gold\"},\"x\":{\"field\":\"sepal_width\"},\"y\":{\"field\":\"petal_width\"}},\"id\":\"4541\",\"type\":\"Circle\"},{\"attributes\":{\"data_source\":{\"id\":\"4388\",\"type\":\"ColumnDataSource\"},\"glyph\":{\"id\":\"4541\",\"type\":\"Circle\"},\"hover_glyph\":null,\"muted_glyph\":null,\"nonselection_glyph\":{\"id\":\"4542\",\"type\":\"Circle\"},\"selection_glyph\":null,\"view\":{\"id\":\"4544\",\"type\":\"CDSView\"}},\"id\":\"4543\",\"type\":\"GlyphRenderer\"},{\"attributes\":{},\"id\":\"4527\",\"type\":\"PanTool\"},{\"attributes\":{},\"id\":\"4528\",\"type\":\"WheelZoomTool\"},{\"attributes\":{\"below\":[{\"id\":\"4400\",\"type\":\"LinearAxis\"}],\"center\":[{\"id\":\"4404\",\"type\":\"Grid\"},{\"id\":\"4409\",\"type\":\"Grid\"}],\"left\":[{\"id\":\"4405\",\"type\":\"LinearAxis\"}],\"plot_height\":400,\"plot_width\":400,\"renderers\":[{\"id\":\"4426\",\"type\":\"GlyphRenderer\"}],\"title\":{\"id\":\"4390\",\"type\":\"Title\"},\"toolbar\":{\"id\":\"4416\",\"type\":\"Toolbar\"},\"toolbar_location\":null,\"x_range\":{\"id\":\"4392\",\"type\":\"DataRange1d\"},\"x_scale\":{\"id\":\"4396\",\"type\":\"LinearScale\"},\"y_range\":{\"id\":\"4394\",\"type\":\"DataRange1d\"},\"y_scale\":{\"id\":\"4398\",\"type\":\"LinearScale\"}},\"id\":\"4389\",\"subtype\":\"Figure\",\"type\":\"Plot\"},{\"attributes\":{\"overlay\":{\"id\":\"4579\",\"type\":\"BoxAnnotation\"}},\"id\":\"4529\",\"type\":\"BoxZoomTool\"},{\"attributes\":{\"callback\":null,\"data\":{\"index\":[0,1,2,3,4,5,6,7,8,9,10,11,12,13,14,15,16,17,18,19,20,21,22,23,24,25,26,27,28,29,30,31,32,33,34,35,36,37,38,39,40,41,42,43,44,45,46,47,48,49,50,51,52,53,54,55,56,57,58,59,60,61,62,63,64,65,66,67,68,69,70,71,72,73,74,75,76,77,78,79,80,81,82,83,84,85,86,87,88,89,90,91,92,93,94,95,96,97,98,99,100,101,102,103,104,105,106,107,108,109,110,111,112,113,114,115,116,117,118,119,120,121,122,123,124,125,126,127,128,129,130,131,132,133,134,135,136,137,138,139,140,141,142,143,144,145,146,147,148,149],\"petal_length\":{\"__ndarray__\":\"ZmZmZmZm9j9mZmZmZmb2P83MzMzMzPQ/AAAAAAAA+D9mZmZmZmb2PzMzMzMzM/s/ZmZmZmZm9j8AAAAAAAD4P2ZmZmZmZvY/AAAAAAAA+D8AAAAAAAD4P5qZmZmZmfk/ZmZmZmZm9j+amZmZmZnxPzMzMzMzM/M/AAAAAAAA+D/NzMzMzMz0P2ZmZmZmZvY/MzMzMzMz+z8AAAAAAAD4PzMzMzMzM/s/AAAAAAAA+D8AAAAAAADwPzMzMzMzM/s/ZmZmZmZm/j+amZmZmZn5P5qZmZmZmfk/AAAAAAAA+D9mZmZmZmb2P5qZmZmZmfk/mpmZmZmZ+T8AAAAAAAD4PwAAAAAAAPg/ZmZmZmZm9j8AAAAAAAD4PzMzMzMzM/M/zczMzMzM9D9mZmZmZmb2P83MzMzMzPQ/AAAAAAAA+D/NzMzMzMz0P83MzMzMzPQ/zczMzMzM9D+amZmZmZn5P2ZmZmZmZv4/ZmZmZmZm9j+amZmZmZn5P2ZmZmZmZvY/AAAAAAAA+D9mZmZmZmb2P83MzMzMzBJAAAAAAAAAEkCamZmZmZkTQAAAAAAAABBAZmZmZmZmEkAAAAAAAAASQM3MzMzMzBJAZmZmZmZmCkBmZmZmZmYSQDMzMzMzMw9AAAAAAAAADEDNzMzMzMwQQAAAAAAAABBAzczMzMzMEkDNzMzMzMwMQJqZmZmZmRFAAAAAAAAAEkBmZmZmZmYQQAAAAAAAABJAMzMzMzMzD0AzMzMzMzMTQAAAAAAAABBAmpmZmZmZE0DNzMzMzMwSQDMzMzMzMxFAmpmZmZmZEUAzMzMzMzMTQAAAAAAAABRAAAAAAAAAEkAAAAAAAAAMQGZmZmZmZg5AmpmZmZmZDUAzMzMzMzMPQGZmZmZmZhRAAAAAAAAAEkAAAAAAAAASQM3MzMzMzBJAmpmZmZmZEUBmZmZmZmYQQAAAAAAAABBAmpmZmZmZEUBmZmZmZmYSQAAAAAAAABBAZmZmZmZmCkDNzMzMzMwQQM3MzMzMzBBAzczMzMzMEEAzMzMzMzMRQAAAAAAAAAhAZmZmZmZmEEAAAAAAAAAYQGZmZmZmZhRAmpmZmZmZF0BmZmZmZmYWQDMzMzMzMxdAZmZmZmZmGkAAAAAAAAASQDMzMzMzMxlAMzMzMzMzF0BmZmZmZmYYQGZmZmZmZhRAMzMzMzMzFUAAAAAAAAAWQAAAAAAAABRAZmZmZmZmFEAzMzMzMzMVQAAAAAAAABZAzczMzMzMGkCamZmZmZkbQAAAAAAAABRAzczMzMzMFkCamZmZmZkTQM3MzMzMzBpAmpmZmZmZE0DNzMzMzMwWQAAAAAAAABhAMzMzMzMzE0CamZmZmZkTQGZmZmZmZhZAMzMzMzMzF0BmZmZmZmYYQJqZmZmZmRlAZmZmZmZmFkBmZmZmZmYUQGZmZmZmZhZAZmZmZmZmGEBmZmZmZmYWQAAAAAAAABZAMzMzMzMzE0CamZmZmZkVQGZmZmZmZhZAZmZmZmZmFEBmZmZmZmYUQJqZmZmZmRdAzczMzMzMFkDNzMzMzMwUQAAAAAAAABRAzczMzMzMFECamZmZmZkVQGZmZmZmZhRA\",\"dtype\":\"float64\",\"shape\":[150]},\"petal_width\":{\"__ndarray__\":\"mpmZmZmZyT+amZmZmZnJP5qZmZmZmck/mpmZmZmZyT+amZmZmZnJP5qZmZmZmdk/MzMzMzMz0z+amZmZmZnJP5qZmZmZmck/mpmZmZmZuT+amZmZmZnJP5qZmZmZmck/mpmZmZmZuT+amZmZmZm5P5qZmZmZmck/mpmZmZmZ2T+amZmZmZnZPzMzMzMzM9M/MzMzMzMz0z8zMzMzMzPTP5qZmZmZmck/mpmZmZmZ2T+amZmZmZnJPwAAAAAAAOA/mpmZmZmZyT+amZmZmZnJP5qZmZmZmdk/mpmZmZmZyT+amZmZmZnJP5qZmZmZmck/mpmZmZmZyT+amZmZmZnZP5qZmZmZmbk/mpmZmZmZyT+amZmZmZnJP5qZmZmZmck/mpmZmZmZyT+amZmZmZm5P5qZmZmZmck/mpmZmZmZyT8zMzMzMzPTPzMzMzMzM9M/mpmZmZmZyT8zMzMzMzPjP5qZmZmZmdk/MzMzMzMz0z+amZmZmZnJP5qZmZmZmck/mpmZmZmZyT+amZmZmZnJP2ZmZmZmZvY/AAAAAAAA+D8AAAAAAAD4P83MzMzMzPQ/AAAAAAAA+D/NzMzMzMz0P5qZmZmZmfk/AAAAAAAA8D/NzMzMzMz0P2ZmZmZmZvY/AAAAAAAA8D8AAAAAAAD4PwAAAAAAAPA/ZmZmZmZm9j/NzMzMzMz0P2ZmZmZmZvY/AAAAAAAA+D8AAAAAAADwPwAAAAAAAPg/mpmZmZmZ8T/NzMzMzMz8P83MzMzMzPQ/AAAAAAAA+D8zMzMzMzPzP83MzMzMzPQ/ZmZmZmZm9j9mZmZmZmb2PzMzMzMzM/s/AAAAAAAA+D8AAAAAAADwP5qZmZmZmfE/AAAAAAAA8D8zMzMzMzPzP5qZmZmZmfk/AAAAAAAA+D+amZmZmZn5PwAAAAAAAPg/zczMzMzM9D/NzMzMzMz0P83MzMzMzPQ/MzMzMzMz8z9mZmZmZmb2PzMzMzMzM/M/AAAAAAAA8D/NzMzMzMz0PzMzMzMzM/M/zczMzMzM9D/NzMzMzMz0P5qZmZmZmfE/zczMzMzM9D8AAAAAAAAEQGZmZmZmZv4/zczMzMzMAEDNzMzMzMz8P5qZmZmZmQFAzczMzMzMAEAzMzMzMzP7P83MzMzMzPw/zczMzMzM/D8AAAAAAAAEQAAAAAAAAABAZmZmZmZm/j/NzMzMzMwAQAAAAAAAAABAMzMzMzMzA0BmZmZmZmYCQM3MzMzMzPw/mpmZmZmZAUBmZmZmZmYCQAAAAAAAAPg/ZmZmZmZmAkAAAAAAAAAAQAAAAAAAAABAzczMzMzM/D/NzMzMzMwAQM3MzMzMzPw/zczMzMzM/D/NzMzMzMz8P83MzMzMzABAmpmZmZmZ+T9mZmZmZmb+PwAAAAAAAABAmpmZmZmZAUAAAAAAAAD4P2ZmZmZmZvY/ZmZmZmZmAkAzMzMzMzMDQM3MzMzMzPw/zczMzMzM/D/NzMzMzMwAQDMzMzMzMwNAZmZmZmZmAkBmZmZmZmb+P2ZmZmZmZgJAAAAAAAAABEBmZmZmZmYCQGZmZmZmZv4/AAAAAAAAAEBmZmZmZmYCQM3MzMzMzPw/\",\"dtype\":\"float64\",\"shape\":[150]},\"sepal_length\":{\"__ndarray__\":\"ZmZmZmZmFECamZmZmZkTQM3MzMzMzBJAZmZmZmZmEkAAAAAAAAAUQJqZmZmZmRVAZmZmZmZmEkAAAAAAAAAUQJqZmZmZmRFAmpmZmZmZE0CamZmZmZkVQDMzMzMzMxNAMzMzMzMzE0AzMzMzMzMRQDMzMzMzMxdAzczMzMzMFkCamZmZmZkVQGZmZmZmZhRAzczMzMzMFkBmZmZmZmYUQJqZmZmZmRVAZmZmZmZmFEBmZmZmZmYSQGZmZmZmZhRAMzMzMzMzE0AAAAAAAAAUQAAAAAAAABRAzczMzMzMFEDNzMzMzMwUQM3MzMzMzBJAMzMzMzMzE0CamZmZmZkVQM3MzMzMzBRAAAAAAAAAFkCamZmZmZkTQAAAAAAAABRAAAAAAAAAFkCamZmZmZkTQJqZmZmZmRFAZmZmZmZmFEAAAAAAAAAUQAAAAAAAABJAmpmZmZmZEUAAAAAAAAAUQGZmZmZmZhRAMzMzMzMzE0BmZmZmZmYUQGZmZmZmZhJAMzMzMzMzFUAAAAAAAAAUQAAAAAAAABxAmpmZmZmZGUCamZmZmZkbQAAAAAAAABZAAAAAAAAAGkDNzMzMzMwWQDMzMzMzMxlAmpmZmZmZE0BmZmZmZmYaQM3MzMzMzBRAAAAAAAAAFECamZmZmZkXQAAAAAAAABhAZmZmZmZmGEBmZmZmZmYWQM3MzMzMzBpAZmZmZmZmFkAzMzMzMzMXQM3MzMzMzBhAZmZmZmZmFkCamZmZmZkXQGZmZmZmZhhAMzMzMzMzGUBmZmZmZmYYQJqZmZmZmRlAZmZmZmZmGkAzMzMzMzMbQM3MzMzMzBpAAAAAAAAAGEDNzMzMzMwWQAAAAAAAABZAAAAAAAAAFkAzMzMzMzMXQAAAAAAAABhAmpmZmZmZFUAAAAAAAAAYQM3MzMzMzBpAMzMzMzMzGUBmZmZmZmYWQAAAAAAAABZAAAAAAAAAFkBmZmZmZmYYQDMzMzMzMxdAAAAAAAAAFEBmZmZmZmYWQM3MzMzMzBZAzczMzMzMFkDNzMzMzMwYQGZmZmZmZhRAzczMzMzMFkAzMzMzMzMZQDMzMzMzMxdAZmZmZmZmHEAzMzMzMzMZQAAAAAAAABpAZmZmZmZmHkCamZmZmZkTQDMzMzMzMx1AzczMzMzMGkDNzMzMzMwcQAAAAAAAABpAmpmZmZmZGUAzMzMzMzMbQM3MzMzMzBZAMzMzMzMzF0CamZmZmZkZQAAAAAAAABpAzczMzMzMHkDNzMzMzMweQAAAAAAAABhAmpmZmZmZG0BmZmZmZmYWQM3MzMzMzB5AMzMzMzMzGUDNzMzMzMwaQM3MzMzMzBxAzczMzMzMGEBmZmZmZmYYQJqZmZmZmRlAzczMzMzMHECamZmZmZkdQJqZmZmZmR9AmpmZmZmZGUAzMzMzMzMZQGZmZmZmZhhAzczMzMzMHkAzMzMzMzMZQJqZmZmZmRlAAAAAAAAAGECamZmZmZkbQM3MzMzMzBpAmpmZmZmZG0AzMzMzMzMXQDMzMzMzMxtAzczMzMzMGkDNzMzMzMwaQDMzMzMzMxlAAAAAAAAAGkDNzMzMzMwYQJqZmZmZmRdA\",\"dtype\":\"float64\",\"shape\":[150]},\"sepal_width\":{\"__ndarray__\":\"AAAAAAAADEAAAAAAAAAIQJqZmZmZmQlAzczMzMzMCEDNzMzMzMwMQDMzMzMzMw9AMzMzMzMzC0AzMzMzMzMLQDMzMzMzMwdAzczMzMzMCECamZmZmZkNQDMzMzMzMwtAAAAAAAAACEAAAAAAAAAIQAAAAAAAABBAmpmZmZmZEUAzMzMzMzMPQAAAAAAAAAxAZmZmZmZmDkBmZmZmZmYOQDMzMzMzMwtAmpmZmZmZDUDNzMzMzMwMQGZmZmZmZgpAMzMzMzMzC0AAAAAAAAAIQDMzMzMzMwtAAAAAAAAADEAzMzMzMzMLQJqZmZmZmQlAzczMzMzMCEAzMzMzMzMLQGZmZmZmZhBAzczMzMzMEEDNzMzMzMwIQJqZmZmZmQlAAAAAAAAADEDNzMzMzMwMQAAAAAAAAAhAMzMzMzMzC0AAAAAAAAAMQGZmZmZmZgJAmpmZmZmZCUAAAAAAAAAMQGZmZmZmZg5AAAAAAAAACEBmZmZmZmYOQJqZmZmZmQlAmpmZmZmZDUBmZmZmZmYKQJqZmZmZmQlAmpmZmZmZCUDNzMzMzMwIQGZmZmZmZgJAZmZmZmZmBkBmZmZmZmYGQGZmZmZmZgpAMzMzMzMzA0AzMzMzMzMHQJqZmZmZmQVAAAAAAAAAAEAAAAAAAAAIQJqZmZmZmQFAMzMzMzMzB0AzMzMzMzMHQM3MzMzMzAhAAAAAAAAACECamZmZmZkFQJqZmZmZmQFAAAAAAAAABECamZmZmZkJQGZmZmZmZgZAAAAAAAAABEBmZmZmZmYGQDMzMzMzMwdAAAAAAAAACEBmZmZmZmYGQAAAAAAAAAhAMzMzMzMzB0DNzMzMzMwEQDMzMzMzMwNAMzMzMzMzA0CamZmZmZkFQJqZmZmZmQVAAAAAAAAACEAzMzMzMzMLQM3MzMzMzAhAZmZmZmZmAkAAAAAAAAAIQAAAAAAAAARAzczMzMzMBEAAAAAAAAAIQM3MzMzMzARAZmZmZmZmAkCamZmZmZkFQAAAAAAAAAhAMzMzMzMzB0AzMzMzMzMHQAAAAAAAAARAZmZmZmZmBkBmZmZmZmYKQJqZmZmZmQVAAAAAAAAACEAzMzMzMzMHQAAAAAAAAAhAAAAAAAAACEAAAAAAAAAEQDMzMzMzMwdAAAAAAAAABEDNzMzMzMwMQJqZmZmZmQlAmpmZmZmZBUAAAAAAAAAIQAAAAAAAAARAZmZmZmZmBkCamZmZmZkJQAAAAAAAAAhAZmZmZmZmDkDNzMzMzMwEQJqZmZmZmQFAmpmZmZmZCUBmZmZmZmYGQGZmZmZmZgZAmpmZmZmZBUBmZmZmZmYKQJqZmZmZmQlAZmZmZmZmBkAAAAAAAAAIQGZmZmZmZgZAAAAAAAAACEBmZmZmZmYGQGZmZmZmZg5AZmZmZmZmBkBmZmZmZmYGQM3MzMzMzARAAAAAAAAACEAzMzMzMzMLQM3MzMzMzAhAAAAAAAAACEDNzMzMzMwIQM3MzMzMzAhAzczMzMzMCECamZmZmZkFQJqZmZmZmQlAZmZmZmZmCkAAAAAAAAAIQAAAAAAAAARAAAAAAAAACEAzMzMzMzMLQAAAAAAAAAhA\",\"dtype\":\"float64\",\"shape\":[150]},\"species\":[\"setosa\",\"setosa\",\"setosa\",\"setosa\",\"setosa\",\"setosa\",\"setosa\",\"setosa\",\"setosa\",\"setosa\",\"setosa\",\"setosa\",\"setosa\",\"setosa\",\"setosa\",\"setosa\",\"setosa\",\"setosa\",\"setosa\",\"setosa\",\"setosa\",\"setosa\",\"setosa\",\"setosa\",\"setosa\",\"setosa\",\"setosa\",\"setosa\",\"setosa\",\"setosa\",\"setosa\",\"setosa\",\"setosa\",\"setosa\",\"setosa\",\"setosa\",\"setosa\",\"setosa\",\"setosa\",\"setosa\",\"setosa\",\"setosa\",\"setosa\",\"setosa\",\"setosa\",\"setosa\",\"setosa\",\"setosa\",\"setosa\",\"setosa\",\"versicolor\",\"versicolor\",\"versicolor\",\"versicolor\",\"versicolor\",\"versicolor\",\"versicolor\",\"versicolor\",\"versicolor\",\"versicolor\",\"versicolor\",\"versicolor\",\"versicolor\",\"versicolor\",\"versicolor\",\"versicolor\",\"versicolor\",\"versicolor\",\"versicolor\",\"versicolor\",\"versicolor\",\"versicolor\",\"versicolor\",\"versicolor\",\"versicolor\",\"versicolor\",\"versicolor\",\"versicolor\",\"versicolor\",\"versicolor\",\"versicolor\",\"versicolor\",\"versicolor\",\"versicolor\",\"versicolor\",\"versicolor\",\"versicolor\",\"versicolor\",\"versicolor\",\"versicolor\",\"versicolor\",\"versicolor\",\"versicolor\",\"versicolor\",\"versicolor\",\"versicolor\",\"versicolor\",\"versicolor\",\"versicolor\",\"versicolor\",\"virginica\",\"virginica\",\"virginica\",\"virginica\",\"virginica\",\"virginica\",\"virginica\",\"virginica\",\"virginica\",\"virginica\",\"virginica\",\"virginica\",\"virginica\",\"virginica\",\"virginica\",\"virginica\",\"virginica\",\"virginica\",\"virginica\",\"virginica\",\"virginica\",\"virginica\",\"virginica\",\"virginica\",\"virginica\",\"virginica\",\"virginica\",\"virginica\",\"virginica\",\"virginica\",\"virginica\",\"virginica\",\"virginica\",\"virginica\",\"virginica\",\"virginica\",\"virginica\",\"virginica\",\"virginica\",\"virginica\",\"virginica\",\"virginica\",\"virginica\",\"virginica\",\"virginica\",\"virginica\",\"virginica\",\"virginica\",\"virginica\",\"virginica\"]},\"selected\":{\"id\":\"4551\",\"type\":\"Selection\"},\"selection_policy\":{\"id\":\"4550\",\"type\":\"UnionRenderers\"}},\"id\":\"4388\",\"type\":\"ColumnDataSource\"},{\"attributes\":{},\"id\":\"4530\",\"type\":\"SaveTool\"},{\"attributes\":{\"overlay\":{\"id\":\"4561\",\"type\":\"BoxAnnotation\"}},\"id\":\"4451\",\"type\":\"BoxZoomTool\"},{\"attributes\":{\"below\":[{\"id\":\"4478\",\"type\":\"LinearAxis\"}],\"center\":[{\"id\":\"4482\",\"type\":\"Grid\"},{\"id\":\"4487\",\"type\":\"Grid\"}],\"left\":[{\"id\":\"4483\",\"type\":\"LinearAxis\"}],\"plot_height\":400,\"plot_width\":400,\"renderers\":[{\"id\":\"4504\",\"type\":\"GlyphRenderer\"}],\"title\":{\"id\":\"4468\",\"type\":\"Title\"},\"toolbar\":{\"id\":\"4494\",\"type\":\"Toolbar\"},\"toolbar_location\":null,\"x_range\":{\"id\":\"4470\",\"type\":\"DataRange1d\"},\"x_scale\":{\"id\":\"4474\",\"type\":\"LinearScale\"},\"y_range\":{\"id\":\"4394\",\"type\":\"DataRange1d\"},\"y_scale\":{\"id\":\"4476\",\"type\":\"LinearScale\"}},\"id\":\"4467\",\"subtype\":\"Figure\",\"type\":\"Plot\"},{\"attributes\":{},\"id\":\"4531\",\"type\":\"ResetTool\"},{\"attributes\":{\"fill_color\":{\"value\":\"red\"},\"line_color\":{\"value\":\"red\"},\"x\":{\"field\":\"petal_length\"},\"y\":{\"field\":\"sepal_length\"}},\"id\":\"4424\",\"type\":\"Circle\"},{\"attributes\":{},\"id\":\"4532\",\"type\":\"HelpTool\"},{\"attributes\":{\"fill_alpha\":{\"value\":0.1},\"fill_color\":{\"value\":\"#1f77b4\"},\"line_alpha\":{\"value\":0.1},\"line_color\":{\"value\":\"#1f77b4\"},\"x\":{\"field\":\"petal_length\"},\"y\":{\"field\":\"sepal_length\"}},\"id\":\"4425\",\"type\":\"Circle\"},{\"attributes\":{},\"id\":\"4551\",\"type\":\"Selection\"},{\"attributes\":{\"overlay\":{\"id\":\"4552\",\"type\":\"BoxAnnotation\"}},\"id\":\"4412\",\"type\":\"BoxZoomTool\"},{\"attributes\":{\"callback\":null},\"id\":\"4394\",\"type\":\"DataRange1d\"},{\"attributes\":{},\"id\":\"4413\",\"type\":\"SaveTool\"},{\"attributes\":{\"active_drag\":\"auto\",\"active_inspect\":\"auto\",\"active_multi\":null,\"active_scroll\":\"auto\",\"active_tap\":\"auto\",\"tools\":[{\"id\":\"4527\",\"type\":\"PanTool\"},{\"id\":\"4528\",\"type\":\"WheelZoomTool\"},{\"id\":\"4529\",\"type\":\"BoxZoomTool\"},{\"id\":\"4530\",\"type\":\"SaveTool\"},{\"id\":\"4531\",\"type\":\"ResetTool\"},{\"id\":\"4532\",\"type\":\"HelpTool\"}]},\"id\":\"4533\",\"type\":\"Toolbar\"},{\"attributes\":{},\"id\":\"4411\",\"type\":\"WheelZoomTool\"},{\"attributes\":{},\"id\":\"4566\",\"type\":\"BasicTickFormatter\"},{\"attributes\":{\"text\":\"Petal Length vs. Sepal Length\"},\"id\":\"4390\",\"type\":\"Title\"},{\"attributes\":{},\"id\":\"4410\",\"type\":\"PanTool\"},{\"attributes\":{},\"id\":\"4414\",\"type\":\"ResetTool\"},{\"attributes\":{},\"id\":\"4555\",\"type\":\"BasicTickFormatter\"},{\"attributes\":{},\"id\":\"4415\",\"type\":\"HelpTool\"},{\"attributes\":{},\"id\":\"4557\",\"type\":\"BasicTickFormatter\"},{\"attributes\":{\"active_drag\":\"auto\",\"active_inspect\":\"auto\",\"active_multi\":null,\"active_scroll\":\"auto\",\"active_tap\":\"auto\",\"tools\":[{\"id\":\"4410\",\"type\":\"PanTool\"},{\"id\":\"4411\",\"type\":\"WheelZoomTool\"},{\"id\":\"4412\",\"type\":\"BoxZoomTool\"},{\"id\":\"4413\",\"type\":\"SaveTool\"},{\"id\":\"4414\",\"type\":\"ResetTool\"},{\"id\":\"4415\",\"type\":\"HelpTool\"}]},\"id\":\"4416\",\"type\":\"Toolbar\"},{\"attributes\":{\"bottom_units\":\"screen\",\"fill_alpha\":{\"value\":0.5},\"fill_color\":{\"value\":\"lightgrey\"},\"left_units\":\"screen\",\"level\":\"overlay\",\"line_alpha\":{\"value\":1.0},\"line_color\":{\"value\":\"black\"},\"line_dash\":[4,4],\"line_width\":{\"value\":2},\"render_mode\":\"css\",\"right_units\":\"screen\",\"top_units\":\"screen\"},\"id\":\"4570\",\"type\":\"BoxAnnotation\"},{\"attributes\":{\"data_source\":{\"id\":\"4388\",\"type\":\"ColumnDataSource\"},\"glyph\":{\"id\":\"4424\",\"type\":\"Circle\"},\"hover_glyph\":null,\"muted_glyph\":null,\"nonselection_glyph\":{\"id\":\"4425\",\"type\":\"Circle\"},\"selection_glyph\":null,\"view\":{\"id\":\"4427\",\"type\":\"CDSView\"}},\"id\":\"4426\",\"type\":\"GlyphRenderer\"},{\"attributes\":{},\"id\":\"4573\",\"type\":\"BasicTickFormatter\"},{\"attributes\":{},\"id\":\"4575\",\"type\":\"BasicTickFormatter\"},{\"attributes\":{\"bottom_units\":\"screen\",\"fill_alpha\":{\"value\":0.5},\"fill_color\":{\"value\":\"lightgrey\"},\"left_units\":\"screen\",\"level\":\"overlay\",\"line_alpha\":{\"value\":1.0},\"line_color\":{\"value\":\"black\"},\"line_dash\":[4,4],\"line_width\":{\"value\":2},\"render_mode\":\"css\",\"right_units\":\"screen\",\"top_units\":\"screen\"},\"id\":\"4579\",\"type\":\"BoxAnnotation\"},{\"attributes\":{\"source\":{\"id\":\"4388\",\"type\":\"ColumnDataSource\"}},\"id\":\"4427\",\"type\":\"CDSView\"},{\"attributes\":{\"source\":{\"id\":\"4388\",\"type\":\"ColumnDataSource\"}},\"id\":\"4544\",\"type\":\"CDSView\"},{\"attributes\":{\"tools\":[{\"id\":\"4410\",\"type\":\"PanTool\"},{\"id\":\"4411\",\"type\":\"WheelZoomTool\"},{\"id\":\"4412\",\"type\":\"BoxZoomTool\"},{\"id\":\"4413\",\"type\":\"SaveTool\"},{\"id\":\"4414\",\"type\":\"ResetTool\"},{\"id\":\"4415\",\"type\":\"HelpTool\"},{\"id\":\"4449\",\"type\":\"PanTool\"},{\"id\":\"4450\",\"type\":\"WheelZoomTool\"},{\"id\":\"4451\",\"type\":\"BoxZoomTool\"},{\"id\":\"4452\",\"type\":\"SaveTool\"},{\"id\":\"4453\",\"type\":\"ResetTool\"},{\"id\":\"4454\",\"type\":\"HelpTool\"},{\"id\":\"4488\",\"type\":\"PanTool\"},{\"id\":\"4489\",\"type\":\"WheelZoomTool\"},{\"id\":\"4490\",\"type\":\"BoxZoomTool\"},{\"id\":\"4491\",\"type\":\"SaveTool\"},{\"id\":\"4492\",\"type\":\"ResetTool\"},{\"id\":\"4493\",\"type\":\"HelpTool\"},{\"id\":\"4527\",\"type\":\"PanTool\"},{\"id\":\"4528\",\"type\":\"WheelZoomTool\"},{\"id\":\"4529\",\"type\":\"BoxZoomTool\"},{\"id\":\"4530\",\"type\":\"SaveTool\"},{\"id\":\"4531\",\"type\":\"ResetTool\"},{\"id\":\"4532\",\"type\":\"HelpTool\"}]},\"id\":\"4582\",\"type\":\"ProxyToolbar\"},{\"attributes\":{\"data_source\":{\"id\":\"4388\",\"type\":\"ColumnDataSource\"},\"glyph\":{\"id\":\"4463\",\"type\":\"Circle\"},\"hover_glyph\":null,\"muted_glyph\":null,\"nonselection_glyph\":{\"id\":\"4464\",\"type\":\"Circle\"},\"selection_glyph\":null,\"view\":{\"id\":\"4466\",\"type\":\"CDSView\"}},\"id\":\"4465\",\"type\":\"GlyphRenderer\"},{\"attributes\":{\"fill_alpha\":{\"value\":0.1},\"fill_color\":{\"value\":\"#1f77b4\"},\"line_alpha\":{\"value\":0.1},\"line_color\":{\"value\":\"#1f77b4\"},\"x\":{\"field\":\"petal_length\"},\"y\":{\"field\":\"petal_width\"}},\"id\":\"4464\",\"type\":\"Circle\"},{\"attributes\":{\"toolbar\":{\"id\":\"4582\",\"type\":\"ProxyToolbar\"},\"toolbar_location\":\"above\"},\"id\":\"4583\",\"type\":\"ToolbarBox\"},{\"attributes\":{\"text\":\"Petal Length vs. Petal Width\"},\"id\":\"4429\",\"type\":\"Title\"},{\"attributes\":{\"children\":[[{\"id\":\"4389\",\"subtype\":\"Figure\",\"type\":\"Plot\"},0,0],[{\"id\":\"4428\",\"subtype\":\"Figure\",\"type\":\"Plot\"},0,1],[{\"id\":\"4467\",\"subtype\":\"Figure\",\"type\":\"Plot\"},1,0],[{\"id\":\"4506\",\"subtype\":\"Figure\",\"type\":\"Plot\"},1,1]]},\"id\":\"4581\",\"type\":\"GridBox\"},{\"attributes\":{\"callback\":null},\"id\":\"4433\",\"type\":\"DataRange1d\"},{\"attributes\":{},\"id\":\"4435\",\"type\":\"LinearScale\"},{\"attributes\":{},\"id\":\"4437\",\"type\":\"LinearScale\"},{\"attributes\":{\"axis_label\":\"Petal Length\",\"formatter\":{\"id\":\"4557\",\"type\":\"BasicTickFormatter\"},\"ticker\":{\"id\":\"4440\",\"type\":\"BasicTicker\"}},\"id\":\"4439\",\"type\":\"LinearAxis\"},{\"attributes\":{},\"id\":\"4440\",\"type\":\"BasicTicker\"},{\"attributes\":{\"ticker\":{\"id\":\"4440\",\"type\":\"BasicTicker\"}},\"id\":\"4443\",\"type\":\"Grid\"},{\"attributes\":{\"axis_label\":\"Petal Width\",\"formatter\":{\"id\":\"4555\",\"type\":\"BasicTickFormatter\"},\"ticker\":{\"id\":\"4445\",\"type\":\"BasicTicker\"}},\"id\":\"4444\",\"type\":\"LinearAxis\"},{\"attributes\":{},\"id\":\"4445\",\"type\":\"BasicTicker\"},{\"attributes\":{\"dimension\":1,\"ticker\":{\"id\":\"4445\",\"type\":\"BasicTicker\"}},\"id\":\"4448\",\"type\":\"Grid\"},{\"attributes\":{},\"id\":\"4450\",\"type\":\"WheelZoomTool\"},{\"attributes\":{},\"id\":\"4449\",\"type\":\"PanTool\"},{\"attributes\":{},\"id\":\"4452\",\"type\":\"SaveTool\"},{\"attributes\":{},\"id\":\"4453\",\"type\":\"ResetTool\"},{\"attributes\":{},\"id\":\"4454\",\"type\":\"HelpTool\"},{\"attributes\":{\"active_drag\":\"auto\",\"active_inspect\":\"auto\",\"active_multi\":null,\"active_scroll\":\"auto\",\"active_tap\":\"auto\",\"tools\":[{\"id\":\"4449\",\"type\":\"PanTool\"},{\"id\":\"4450\",\"type\":\"WheelZoomTool\"},{\"id\":\"4451\",\"type\":\"BoxZoomTool\"},{\"id\":\"4452\",\"type\":\"SaveTool\"},{\"id\":\"4453\",\"type\":\"ResetTool\"},{\"id\":\"4454\",\"type\":\"HelpTool\"}]},\"id\":\"4455\",\"type\":\"Toolbar\"},{\"attributes\":{\"source\":{\"id\":\"4388\",\"type\":\"ColumnDataSource\"}},\"id\":\"4466\",\"type\":\"CDSView\"},{\"attributes\":{},\"id\":\"4564\",\"type\":\"BasicTickFormatter\"},{\"attributes\":{\"below\":[{\"id\":\"4517\",\"type\":\"LinearAxis\"}],\"center\":[{\"id\":\"4521\",\"type\":\"Grid\"},{\"id\":\"4526\",\"type\":\"Grid\"}],\"left\":[{\"id\":\"4522\",\"type\":\"LinearAxis\"}],\"plot_height\":400,\"plot_width\":400,\"renderers\":[{\"id\":\"4543\",\"type\":\"GlyphRenderer\"}],\"title\":{\"id\":\"4507\",\"type\":\"Title\"},\"toolbar\":{\"id\":\"4533\",\"type\":\"Toolbar\"},\"toolbar_location\":null,\"x_range\":{\"id\":\"4470\",\"type\":\"DataRange1d\"},\"x_scale\":{\"id\":\"4513\",\"type\":\"LinearScale\"},\"y_range\":{\"id\":\"4433\",\"type\":\"DataRange1d\"},\"y_scale\":{\"id\":\"4515\",\"type\":\"LinearScale\"}},\"id\":\"4506\",\"subtype\":\"Figure\",\"type\":\"Plot\"},{\"attributes\":{\"text\":\"Sepal Length vs. Sepal Width\"},\"id\":\"4468\",\"type\":\"Title\"},{\"attributes\":{\"callback\":null},\"id\":\"4470\",\"type\":\"DataRange1d\"},{\"attributes\":{},\"id\":\"4546\",\"type\":\"BasicTickFormatter\"},{\"attributes\":{},\"id\":\"4474\",\"type\":\"LinearScale\"},{\"attributes\":{},\"id\":\"4476\",\"type\":\"LinearScale\"},{\"attributes\":{\"fill_color\":{\"value\":\"blue\"},\"line_color\":{\"value\":\"blue\"},\"x\":{\"field\":\"petal_length\"},\"y\":{\"field\":\"petal_width\"}},\"id\":\"4463\",\"type\":\"Circle\"},{\"attributes\":{},\"id\":\"4479\",\"type\":\"BasicTicker\"},{\"attributes\":{\"ticker\":{\"id\":\"4479\",\"type\":\"BasicTicker\"}},\"id\":\"4482\",\"type\":\"Grid\"},{\"attributes\":{\"axis_label\":\"Sepal Width\",\"formatter\":{\"id\":\"4564\",\"type\":\"BasicTickFormatter\"},\"ticker\":{\"id\":\"4484\",\"type\":\"BasicTicker\"}},\"id\":\"4483\",\"type\":\"LinearAxis\"},{\"attributes\":{},\"id\":\"4484\",\"type\":\"BasicTicker\"},{\"attributes\":{\"dimension\":1,\"ticker\":{\"id\":\"4484\",\"type\":\"BasicTicker\"}},\"id\":\"4487\",\"type\":\"Grid\"}],\"root_ids\":[\"4584\"]},\"title\":\"Bokeh Application\",\"version\":\"1.2.0\"}};\n",
       "  var render_items = [{\"docid\":\"d7ed55f3-97ea-49b6-9d7f-e352d8aec531\",\"roots\":{\"4584\":\"9bc852c3-3870-43b9-9835-e3b3cca41098\"}}];\n",
       "  root.Bokeh.embed.embed_items_notebook(docs_json, render_items);\n",
       "\n",
       "  }\n",
       "  if (root.Bokeh !== undefined) {\n",
       "    embed_document(root);\n",
       "  } else {\n",
       "    var attempts = 0;\n",
       "    var timer = setInterval(function(root) {\n",
       "      if (root.Bokeh !== undefined) {\n",
       "        embed_document(root);\n",
       "        clearInterval(timer);\n",
       "      }\n",
       "      attempts++;\n",
       "      if (attempts > 100) {\n",
       "        console.log(\"Bokeh: ERROR: Unable to run BokehJS code because BokehJS library is missing\");\n",
       "        clearInterval(timer);\n",
       "      }\n",
       "    }, 10, root)\n",
       "  }\n",
       "})(window);"
      ],
      "application/vnd.bokehjs_exec.v0+json": ""
     },
     "metadata": {
      "application/vnd.bokehjs_exec.v0+json": {
       "id": "4584"
      }
     },
     "output_type": "display_data"
    }
   ],
   "source": [
    "source = ColumnDataSource(flowers)\n",
    "\n",
    "p1 = figure(plot_width=400, plot_height=400, x_axis_label='Petal Length', y_axis_label='Sepal Length',\n",
    "           title='Petal Length vs. Sepal Length')\n",
    "p1.circle('petal_length', 'sepal_length', source=source, color='red')\n",
    "\n",
    "p2 = figure(plot_width=400, plot_height=400, x_axis_label='Petal Length', y_axis_label='Petal Width',\n",
    "           title='Petal Length vs. Petal Width')\n",
    "p2.circle('petal_length', 'petal_width', source=source, color='blue')\n",
    "\n",
    "p3 = figure(plot_width=400, plot_height=400, x_axis_label='Sepal Length', y_axis_label='Sepal Width',\n",
    "           title='Sepal Length vs. Sepal Width')\n",
    "p3.circle('sepal_length', 'sepal_width', source=source, color='green')\n",
    "\n",
    "p4 = figure(plot_width=400, plot_height=400, x_axis_label='Sepal Width', y_axis_label='Petal Width',\n",
    "           title='Sepal Width vs. Petal Width')\n",
    "p4.circle('sepal_width', 'petal_width', source=source, color='gold')\n",
    "\n",
    "p2.x_range = p1.x_range\n",
    "p3.y_range = p1.y_range\n",
    "p4.x_range = p3.x_range\n",
    "p4.y_range = p2.y_range\n",
    "\n",
    "layout = gridplot([[p1, p2], [p3, p4]])\n",
    "show(layout)\n",
    "# 축이 같이 움직임 연결해준것끼리"
   ]
  },
  {
   "cell_type": "code",
   "execution_count": 39,
   "metadata": {
    "colab": {
     "base_uri": "https://localhost:8080/",
     "height": 847
    },
    "colab_type": "code",
    "id": "ItAxsvwl20y5",
    "outputId": "58bb694a-dbe6-44c1-8060-4167a6ed67e5"
   },
   "outputs": [
    {
     "data": {
      "text/html": [
       "\n",
       "\n",
       "\n",
       "\n",
       "\n",
       "\n",
       "  <div class=\"bk-root\" id=\"b2a3960b-8922-4f16-9d28-6462ceebb07f\" data-root-id=\"5113\"></div>\n"
      ]
     },
     "metadata": {},
     "output_type": "display_data"
    },
    {
     "data": {
      "application/javascript": [
       "(function(root) {\n",
       "  function embed_document(root) {\n",
       "    \n",
       "  var docs_json = {\"9e5aac83-b094-48ea-b28c-e1e448df405f\":{\"roots\":{\"references\":[{\"attributes\":{\"children\":[{\"id\":\"5112\",\"type\":\"ToolbarBox\"},{\"id\":\"5110\",\"type\":\"GridBox\"}]},\"id\":\"5113\",\"type\":\"Column\"},{\"attributes\":{\"callback\":null},\"id\":\"4955\",\"type\":\"DataRange1d\"},{\"attributes\":{\"source\":{\"id\":\"4949\",\"type\":\"ColumnDataSource\"}},\"id\":\"4980\",\"type\":\"CDSView\"},{\"attributes\":{},\"id\":\"4957\",\"type\":\"LinearScale\"},{\"attributes\":{},\"id\":\"4959\",\"type\":\"LinearScale\"},{\"attributes\":{\"callback\":null},\"id\":\"4953\",\"type\":\"DataRange1d\"},{\"attributes\":{},\"id\":\"5093\",\"type\":\"BasicTickFormatter\"},{\"attributes\":{\"axis_label\":\"Petal Length\",\"formatter\":{\"id\":\"5077\",\"type\":\"BasicTickFormatter\"},\"ticker\":{\"id\":\"4962\",\"type\":\"BasicTicker\"}},\"id\":\"4961\",\"type\":\"LinearAxis\"},{\"attributes\":{\"text\":\"Sepal Length vs. Sepal Width\"},\"id\":\"5013\",\"type\":\"Title\"},{\"attributes\":{\"ticker\":{\"id\":\"4962\",\"type\":\"BasicTicker\"}},\"id\":\"4965\",\"type\":\"Grid\"},{\"attributes\":{},\"id\":\"4962\",\"type\":\"BasicTicker\"},{\"attributes\":{\"axis_label\":\"Sepal Length\",\"formatter\":{\"id\":\"5075\",\"type\":\"BasicTickFormatter\"},\"ticker\":{\"id\":\"4967\",\"type\":\"BasicTicker\"}},\"id\":\"4966\",\"type\":\"LinearAxis\"},{\"attributes\":{},\"id\":\"4967\",\"type\":\"BasicTicker\"},{\"attributes\":{\"bottom_units\":\"screen\",\"fill_alpha\":{\"value\":0.5},\"fill_color\":{\"value\":\"lightgrey\"},\"left_units\":\"screen\",\"level\":\"overlay\",\"line_alpha\":{\"value\":1.0},\"line_color\":{\"value\":\"black\"},\"line_dash\":[4,4],\"line_width\":{\"value\":2},\"render_mode\":\"css\",\"right_units\":\"screen\",\"top_units\":\"screen\"},\"id\":\"5099\",\"type\":\"BoxAnnotation\"},{\"attributes\":{\"below\":[{\"id\":\"5054\",\"type\":\"LinearAxis\"}],\"center\":[{\"id\":\"5058\",\"type\":\"Grid\"},{\"id\":\"5063\",\"type\":\"Grid\"}],\"left\":[{\"id\":\"5059\",\"type\":\"LinearAxis\"}],\"plot_height\":400,\"plot_width\":400,\"renderers\":[{\"id\":\"5072\",\"type\":\"GlyphRenderer\"}],\"title\":{\"id\":\"5044\",\"type\":\"Title\"},\"toolbar\":{\"id\":\"5066\",\"type\":\"Toolbar\"},\"toolbar_location\":null,\"x_range\":{\"id\":\"5046\",\"type\":\"DataRange1d\"},\"x_scale\":{\"id\":\"5050\",\"type\":\"LinearScale\"},\"y_range\":{\"id\":\"5048\",\"type\":\"DataRange1d\"},\"y_scale\":{\"id\":\"5052\",\"type\":\"LinearScale\"}},\"id\":\"5043\",\"subtype\":\"Figure\",\"type\":\"Plot\"},{\"attributes\":{\"dimension\":1,\"ticker\":{\"id\":\"4967\",\"type\":\"BasicTicker\"}},\"id\":\"4970\",\"type\":\"Grid\"},{\"attributes\":{\"active_drag\":\"auto\",\"active_inspect\":\"auto\",\"active_multi\":null,\"active_scroll\":\"auto\",\"active_tap\":\"auto\",\"tools\":[{\"id\":\"4971\",\"type\":\"BoxSelectTool\"},{\"id\":\"4972\",\"type\":\"ResetTool\"}]},\"id\":\"4973\",\"type\":\"Toolbar\"},{\"attributes\":{\"callback\":null,\"overlay\":{\"id\":\"5081\",\"type\":\"BoxAnnotation\"}},\"id\":\"4971\",\"type\":\"BoxSelectTool\"},{\"attributes\":{\"callback\":null},\"id\":\"5017\",\"type\":\"DataRange1d\"},{\"attributes\":{},\"id\":\"4972\",\"type\":\"ResetTool\"},{\"attributes\":{\"callback\":null},\"id\":\"5015\",\"type\":\"DataRange1d\"},{\"attributes\":{\"data_source\":{\"id\":\"4949\",\"type\":\"ColumnDataSource\"},\"glyph\":{\"id\":\"4977\",\"type\":\"Circle\"},\"hover_glyph\":null,\"muted_glyph\":null,\"nonselection_glyph\":{\"id\":\"4978\",\"type\":\"Circle\"},\"selection_glyph\":null,\"view\":{\"id\":\"4980\",\"type\":\"CDSView\"}},\"id\":\"4979\",\"type\":\"GlyphRenderer\"},{\"attributes\":{\"fill_color\":{\"value\":\"red\"},\"line_color\":{\"value\":\"red\"},\"x\":{\"field\":\"petal_length\"},\"y\":{\"field\":\"sepal_length\"}},\"id\":\"4977\",\"type\":\"Circle\"},{\"attributes\":{\"fill_alpha\":{\"value\":0.1},\"fill_color\":{\"value\":\"#1f77b4\"},\"line_alpha\":{\"value\":0.1},\"line_color\":{\"value\":\"#1f77b4\"},\"x\":{\"field\":\"petal_length\"},\"y\":{\"field\":\"sepal_length\"}},\"id\":\"4978\",\"type\":\"Circle\"},{\"attributes\":{\"data_source\":{\"id\":\"4949\",\"type\":\"ColumnDataSource\"},\"glyph\":{\"id\":\"5008\",\"type\":\"Circle\"},\"hover_glyph\":null,\"muted_glyph\":null,\"nonselection_glyph\":{\"id\":\"5009\",\"type\":\"Circle\"},\"selection_glyph\":null,\"view\":{\"id\":\"5011\",\"type\":\"CDSView\"}},\"id\":\"5010\",\"type\":\"GlyphRenderer\"},{\"attributes\":{\"text\":\"Petal Length vs. Petal Width\"},\"id\":\"4982\",\"type\":\"Title\"},{\"attributes\":{\"below\":[{\"id\":\"5023\",\"type\":\"LinearAxis\"}],\"center\":[{\"id\":\"5027\",\"type\":\"Grid\"},{\"id\":\"5032\",\"type\":\"Grid\"}],\"left\":[{\"id\":\"5028\",\"type\":\"LinearAxis\"}],\"plot_height\":400,\"plot_width\":400,\"renderers\":[{\"id\":\"5041\",\"type\":\"GlyphRenderer\"}],\"title\":{\"id\":\"5013\",\"type\":\"Title\"},\"toolbar\":{\"id\":\"5035\",\"type\":\"Toolbar\"},\"toolbar_location\":null,\"x_range\":{\"id\":\"5015\",\"type\":\"DataRange1d\"},\"x_scale\":{\"id\":\"5019\",\"type\":\"LinearScale\"},\"y_range\":{\"id\":\"5017\",\"type\":\"DataRange1d\"},\"y_scale\":{\"id\":\"5021\",\"type\":\"LinearScale\"}},\"id\":\"5012\",\"subtype\":\"Figure\",\"type\":\"Plot\"},{\"attributes\":{\"callback\":null},\"id\":\"4984\",\"type\":\"DataRange1d\"},{\"attributes\":{\"callback\":null},\"id\":\"4986\",\"type\":\"DataRange1d\"},{\"attributes\":{\"axis_label\":\"Sepal Width\",\"formatter\":{\"id\":\"5104\",\"type\":\"BasicTickFormatter\"},\"ticker\":{\"id\":\"5055\",\"type\":\"BasicTicker\"}},\"id\":\"5054\",\"type\":\"LinearAxis\"},{\"attributes\":{},\"id\":\"4988\",\"type\":\"LinearScale\"},{\"attributes\":{},\"id\":\"5055\",\"type\":\"BasicTicker\"},{\"attributes\":{},\"id\":\"4990\",\"type\":\"LinearScale\"},{\"attributes\":{\"ticker\":{\"id\":\"5055\",\"type\":\"BasicTicker\"}},\"id\":\"5058\",\"type\":\"Grid\"},{\"attributes\":{\"axis_label\":\"Petal Length\",\"formatter\":{\"id\":\"5086\",\"type\":\"BasicTickFormatter\"},\"ticker\":{\"id\":\"4993\",\"type\":\"BasicTicker\"}},\"id\":\"4992\",\"type\":\"LinearAxis\"},{\"attributes\":{\"axis_label\":\"Petal Width\",\"formatter\":{\"id\":\"5102\",\"type\":\"BasicTickFormatter\"},\"ticker\":{\"id\":\"5060\",\"type\":\"BasicTicker\"}},\"id\":\"5059\",\"type\":\"LinearAxis\"},{\"attributes\":{},\"id\":\"4993\",\"type\":\"BasicTicker\"},{\"attributes\":{},\"id\":\"5060\",\"type\":\"BasicTicker\"},{\"attributes\":{\"ticker\":{\"id\":\"4993\",\"type\":\"BasicTicker\"}},\"id\":\"4996\",\"type\":\"Grid\"},{\"attributes\":{\"dimension\":1,\"ticker\":{\"id\":\"5060\",\"type\":\"BasicTicker\"}},\"id\":\"5063\",\"type\":\"Grid\"},{\"attributes\":{\"axis_label\":\"Petal Width\",\"formatter\":{\"id\":\"5084\",\"type\":\"BasicTickFormatter\"},\"ticker\":{\"id\":\"4998\",\"type\":\"BasicTicker\"}},\"id\":\"4997\",\"type\":\"LinearAxis\"},{\"attributes\":{\"active_drag\":\"auto\",\"active_inspect\":\"auto\",\"active_multi\":null,\"active_scroll\":\"auto\",\"active_tap\":\"auto\",\"tools\":[{\"id\":\"5064\",\"type\":\"BoxSelectTool\"},{\"id\":\"5065\",\"type\":\"ResetTool\"}]},\"id\":\"5066\",\"type\":\"Toolbar\"},{\"attributes\":{},\"id\":\"4998\",\"type\":\"BasicTicker\"},{\"attributes\":{\"callback\":null,\"overlay\":{\"id\":\"5108\",\"type\":\"BoxAnnotation\"}},\"id\":\"5064\",\"type\":\"BoxSelectTool\"},{\"attributes\":{\"dimension\":1,\"ticker\":{\"id\":\"4998\",\"type\":\"BasicTicker\"}},\"id\":\"5001\",\"type\":\"Grid\"},{\"attributes\":{},\"id\":\"5065\",\"type\":\"ResetTool\"},{\"attributes\":{\"active_drag\":\"auto\",\"active_inspect\":\"auto\",\"active_multi\":null,\"active_scroll\":\"auto\",\"active_tap\":\"auto\",\"tools\":[{\"id\":\"5002\",\"type\":\"BoxSelectTool\"},{\"id\":\"5003\",\"type\":\"ResetTool\"}]},\"id\":\"5004\",\"type\":\"Toolbar\"},{\"attributes\":{\"callback\":null,\"overlay\":{\"id\":\"5090\",\"type\":\"BoxAnnotation\"}},\"id\":\"5002\",\"type\":\"BoxSelectTool\"},{\"attributes\":{},\"id\":\"5102\",\"type\":\"BasicTickFormatter\"},{\"attributes\":{\"fill_color\":{\"value\":\"gold\"},\"line_color\":{\"value\":\"gold\"},\"x\":{\"field\":\"sepal_width\"},\"y\":{\"field\":\"petal_width\"}},\"id\":\"5070\",\"type\":\"Circle\"},{\"attributes\":{},\"id\":\"5003\",\"type\":\"ResetTool\"},{\"attributes\":{\"fill_alpha\":{\"value\":0.1},\"fill_color\":{\"value\":\"#1f77b4\"},\"line_alpha\":{\"value\":0.1},\"line_color\":{\"value\":\"#1f77b4\"},\"x\":{\"field\":\"sepal_width\"},\"y\":{\"field\":\"petal_width\"}},\"id\":\"5071\",\"type\":\"Circle\"},{\"attributes\":{\"data_source\":{\"id\":\"4949\",\"type\":\"ColumnDataSource\"},\"glyph\":{\"id\":\"5070\",\"type\":\"Circle\"},\"hover_glyph\":null,\"muted_glyph\":null,\"nonselection_glyph\":{\"id\":\"5071\",\"type\":\"Circle\"},\"selection_glyph\":null,\"view\":{\"id\":\"5073\",\"type\":\"CDSView\"}},\"id\":\"5072\",\"type\":\"GlyphRenderer\"},{\"attributes\":{\"fill_color\":{\"value\":\"blue\"},\"line_color\":{\"value\":\"blue\"},\"x\":{\"field\":\"petal_length\"},\"y\":{\"field\":\"petal_width\"}},\"id\":\"5008\",\"type\":\"Circle\"},{\"attributes\":{\"source\":{\"id\":\"4949\",\"type\":\"ColumnDataSource\"}},\"id\":\"5073\",\"type\":\"CDSView\"},{\"attributes\":{\"fill_alpha\":{\"value\":0.1},\"fill_color\":{\"value\":\"#1f77b4\"},\"line_alpha\":{\"value\":0.1},\"line_color\":{\"value\":\"#1f77b4\"},\"x\":{\"field\":\"petal_length\"},\"y\":{\"field\":\"petal_width\"}},\"id\":\"5009\",\"type\":\"Circle\"},{\"attributes\":{},\"id\":\"5080\",\"type\":\"Selection\"},{\"attributes\":{},\"id\":\"5019\",\"type\":\"LinearScale\"},{\"attributes\":{},\"id\":\"5075\",\"type\":\"BasicTickFormatter\"},{\"attributes\":{},\"id\":\"5021\",\"type\":\"LinearScale\"},{\"attributes\":{\"source\":{\"id\":\"4949\",\"type\":\"ColumnDataSource\"}},\"id\":\"5011\",\"type\":\"CDSView\"},{\"attributes\":{},\"id\":\"5077\",\"type\":\"BasicTickFormatter\"},{\"attributes\":{\"axis_label\":\"Sepal Length\",\"formatter\":{\"id\":\"5095\",\"type\":\"BasicTickFormatter\"},\"ticker\":{\"id\":\"5024\",\"type\":\"BasicTicker\"}},\"id\":\"5023\",\"type\":\"LinearAxis\"},{\"attributes\":{},\"id\":\"5079\",\"type\":\"UnionRenderers\"},{\"attributes\":{},\"id\":\"5024\",\"type\":\"BasicTicker\"},{\"attributes\":{\"ticker\":{\"id\":\"5024\",\"type\":\"BasicTicker\"}},\"id\":\"5027\",\"type\":\"Grid\"},{\"attributes\":{\"bottom_units\":\"screen\",\"fill_alpha\":{\"value\":0.5},\"fill_color\":{\"value\":\"lightgrey\"},\"left_units\":\"screen\",\"level\":\"overlay\",\"line_alpha\":{\"value\":1.0},\"line_color\":{\"value\":\"black\"},\"line_dash\":[4,4],\"line_width\":{\"value\":2},\"render_mode\":\"css\",\"right_units\":\"screen\",\"top_units\":\"screen\"},\"id\":\"5081\",\"type\":\"BoxAnnotation\"},{\"attributes\":{\"axis_label\":\"Sepal Width\",\"formatter\":{\"id\":\"5093\",\"type\":\"BasicTickFormatter\"},\"ticker\":{\"id\":\"5029\",\"type\":\"BasicTicker\"}},\"id\":\"5028\",\"type\":\"LinearAxis\"},{\"attributes\":{},\"id\":\"5084\",\"type\":\"BasicTickFormatter\"},{\"attributes\":{},\"id\":\"5086\",\"type\":\"BasicTickFormatter\"},{\"attributes\":{},\"id\":\"5029\",\"type\":\"BasicTicker\"},{\"attributes\":{\"dimension\":1,\"ticker\":{\"id\":\"5029\",\"type\":\"BasicTicker\"}},\"id\":\"5032\",\"type\":\"Grid\"},{\"attributes\":{\"bottom_units\":\"screen\",\"fill_alpha\":{\"value\":0.5},\"fill_color\":{\"value\":\"lightgrey\"},\"left_units\":\"screen\",\"level\":\"overlay\",\"line_alpha\":{\"value\":1.0},\"line_color\":{\"value\":\"black\"},\"line_dash\":[4,4],\"line_width\":{\"value\":2},\"render_mode\":\"css\",\"right_units\":\"screen\",\"top_units\":\"screen\"},\"id\":\"5090\",\"type\":\"BoxAnnotation\"},{\"attributes\":{\"below\":[{\"id\":\"4992\",\"type\":\"LinearAxis\"}],\"center\":[{\"id\":\"4996\",\"type\":\"Grid\"},{\"id\":\"5001\",\"type\":\"Grid\"}],\"left\":[{\"id\":\"4997\",\"type\":\"LinearAxis\"}],\"plot_height\":400,\"plot_width\":400,\"renderers\":[{\"id\":\"5010\",\"type\":\"GlyphRenderer\"}],\"title\":{\"id\":\"4982\",\"type\":\"Title\"},\"toolbar\":{\"id\":\"5004\",\"type\":\"Toolbar\"},\"toolbar_location\":null,\"x_range\":{\"id\":\"4984\",\"type\":\"DataRange1d\"},\"x_scale\":{\"id\":\"4988\",\"type\":\"LinearScale\"},\"y_range\":{\"id\":\"4986\",\"type\":\"DataRange1d\"},\"y_scale\":{\"id\":\"4990\",\"type\":\"LinearScale\"}},\"id\":\"4981\",\"subtype\":\"Figure\",\"type\":\"Plot\"},{\"attributes\":{\"active_drag\":\"auto\",\"active_inspect\":\"auto\",\"active_multi\":null,\"active_scroll\":\"auto\",\"active_tap\":\"auto\",\"tools\":[{\"id\":\"5033\",\"type\":\"BoxSelectTool\"},{\"id\":\"5034\",\"type\":\"ResetTool\"}]},\"id\":\"5035\",\"type\":\"Toolbar\"},{\"attributes\":{},\"id\":\"5104\",\"type\":\"BasicTickFormatter\"},{\"attributes\":{\"callback\":null,\"overlay\":{\"id\":\"5099\",\"type\":\"BoxAnnotation\"}},\"id\":\"5033\",\"type\":\"BoxSelectTool\"},{\"attributes\":{\"bottom_units\":\"screen\",\"fill_alpha\":{\"value\":0.5},\"fill_color\":{\"value\":\"lightgrey\"},\"left_units\":\"screen\",\"level\":\"overlay\",\"line_alpha\":{\"value\":1.0},\"line_color\":{\"value\":\"black\"},\"line_dash\":[4,4],\"line_width\":{\"value\":2},\"render_mode\":\"css\",\"right_units\":\"screen\",\"top_units\":\"screen\"},\"id\":\"5108\",\"type\":\"BoxAnnotation\"},{\"attributes\":{},\"id\":\"5034\",\"type\":\"ResetTool\"},{\"attributes\":{\"tools\":[{\"id\":\"4971\",\"type\":\"BoxSelectTool\"},{\"id\":\"4972\",\"type\":\"ResetTool\"},{\"id\":\"5002\",\"type\":\"BoxSelectTool\"},{\"id\":\"5003\",\"type\":\"ResetTool\"},{\"id\":\"5033\",\"type\":\"BoxSelectTool\"},{\"id\":\"5034\",\"type\":\"ResetTool\"},{\"id\":\"5064\",\"type\":\"BoxSelectTool\"},{\"id\":\"5065\",\"type\":\"ResetTool\"}]},\"id\":\"5111\",\"type\":\"ProxyToolbar\"},{\"attributes\":{\"toolbar\":{\"id\":\"5111\",\"type\":\"ProxyToolbar\"},\"toolbar_location\":\"above\"},\"id\":\"5112\",\"type\":\"ToolbarBox\"},{\"attributes\":{\"fill_color\":{\"value\":\"green\"},\"line_color\":{\"value\":\"green\"},\"x\":{\"field\":\"sepal_length\"},\"y\":{\"field\":\"sepal_width\"}},\"id\":\"5039\",\"type\":\"Circle\"},{\"attributes\":{\"fill_alpha\":{\"value\":0.1},\"fill_color\":{\"value\":\"#1f77b4\"},\"line_alpha\":{\"value\":0.1},\"line_color\":{\"value\":\"#1f77b4\"},\"x\":{\"field\":\"sepal_length\"},\"y\":{\"field\":\"sepal_width\"}},\"id\":\"5040\",\"type\":\"Circle\"},{\"attributes\":{\"data_source\":{\"id\":\"4949\",\"type\":\"ColumnDataSource\"},\"glyph\":{\"id\":\"5039\",\"type\":\"Circle\"},\"hover_glyph\":null,\"muted_glyph\":null,\"nonselection_glyph\":{\"id\":\"5040\",\"type\":\"Circle\"},\"selection_glyph\":null,\"view\":{\"id\":\"5042\",\"type\":\"CDSView\"}},\"id\":\"5041\",\"type\":\"GlyphRenderer\"},{\"attributes\":{\"source\":{\"id\":\"4949\",\"type\":\"ColumnDataSource\"}},\"id\":\"5042\",\"type\":\"CDSView\"},{\"attributes\":{},\"id\":\"5095\",\"type\":\"BasicTickFormatter\"},{\"attributes\":{\"children\":[[{\"id\":\"4950\",\"subtype\":\"Figure\",\"type\":\"Plot\"},0,0],[{\"id\":\"4981\",\"subtype\":\"Figure\",\"type\":\"Plot\"},0,1],[{\"id\":\"5012\",\"subtype\":\"Figure\",\"type\":\"Plot\"},1,0],[{\"id\":\"5043\",\"subtype\":\"Figure\",\"type\":\"Plot\"},1,1]]},\"id\":\"5110\",\"type\":\"GridBox\"},{\"attributes\":{\"text\":\"Sepal Width vs. Petal Width\"},\"id\":\"5044\",\"type\":\"Title\"},{\"attributes\":{\"callback\":null},\"id\":\"5046\",\"type\":\"DataRange1d\"},{\"attributes\":{\"callback\":null,\"data\":{\"index\":[0,1,2,3,4,5,6,7,8,9,10,11,12,13,14,15,16,17,18,19,20,21,22,23,24,25,26,27,28,29,30,31,32,33,34,35,36,37,38,39,40,41,42,43,44,45,46,47,48,49,50,51,52,53,54,55,56,57,58,59,60,61,62,63,64,65,66,67,68,69,70,71,72,73,74,75,76,77,78,79,80,81,82,83,84,85,86,87,88,89,90,91,92,93,94,95,96,97,98,99,100,101,102,103,104,105,106,107,108,109,110,111,112,113,114,115,116,117,118,119,120,121,122,123,124,125,126,127,128,129,130,131,132,133,134,135,136,137,138,139,140,141,142,143,144,145,146,147,148,149],\"petal_length\":{\"__ndarray__\":\"ZmZmZmZm9j9mZmZmZmb2P83MzMzMzPQ/AAAAAAAA+D9mZmZmZmb2PzMzMzMzM/s/ZmZmZmZm9j8AAAAAAAD4P2ZmZmZmZvY/AAAAAAAA+D8AAAAAAAD4P5qZmZmZmfk/ZmZmZmZm9j+amZmZmZnxPzMzMzMzM/M/AAAAAAAA+D/NzMzMzMz0P2ZmZmZmZvY/MzMzMzMz+z8AAAAAAAD4PzMzMzMzM/s/AAAAAAAA+D8AAAAAAADwPzMzMzMzM/s/ZmZmZmZm/j+amZmZmZn5P5qZmZmZmfk/AAAAAAAA+D9mZmZmZmb2P5qZmZmZmfk/mpmZmZmZ+T8AAAAAAAD4PwAAAAAAAPg/ZmZmZmZm9j8AAAAAAAD4PzMzMzMzM/M/zczMzMzM9D9mZmZmZmb2P83MzMzMzPQ/AAAAAAAA+D/NzMzMzMz0P83MzMzMzPQ/zczMzMzM9D+amZmZmZn5P2ZmZmZmZv4/ZmZmZmZm9j+amZmZmZn5P2ZmZmZmZvY/AAAAAAAA+D9mZmZmZmb2P83MzMzMzBJAAAAAAAAAEkCamZmZmZkTQAAAAAAAABBAZmZmZmZmEkAAAAAAAAASQM3MzMzMzBJAZmZmZmZmCkBmZmZmZmYSQDMzMzMzMw9AAAAAAAAADEDNzMzMzMwQQAAAAAAAABBAzczMzMzMEkDNzMzMzMwMQJqZmZmZmRFAAAAAAAAAEkBmZmZmZmYQQAAAAAAAABJAMzMzMzMzD0AzMzMzMzMTQAAAAAAAABBAmpmZmZmZE0DNzMzMzMwSQDMzMzMzMxFAmpmZmZmZEUAzMzMzMzMTQAAAAAAAABRAAAAAAAAAEkAAAAAAAAAMQGZmZmZmZg5AmpmZmZmZDUAzMzMzMzMPQGZmZmZmZhRAAAAAAAAAEkAAAAAAAAASQM3MzMzMzBJAmpmZmZmZEUBmZmZmZmYQQAAAAAAAABBAmpmZmZmZEUBmZmZmZmYSQAAAAAAAABBAZmZmZmZmCkDNzMzMzMwQQM3MzMzMzBBAzczMzMzMEEAzMzMzMzMRQAAAAAAAAAhAZmZmZmZmEEAAAAAAAAAYQGZmZmZmZhRAmpmZmZmZF0BmZmZmZmYWQDMzMzMzMxdAZmZmZmZmGkAAAAAAAAASQDMzMzMzMxlAMzMzMzMzF0BmZmZmZmYYQGZmZmZmZhRAMzMzMzMzFUAAAAAAAAAWQAAAAAAAABRAZmZmZmZmFEAzMzMzMzMVQAAAAAAAABZAzczMzMzMGkCamZmZmZkbQAAAAAAAABRAzczMzMzMFkCamZmZmZkTQM3MzMzMzBpAmpmZmZmZE0DNzMzMzMwWQAAAAAAAABhAMzMzMzMzE0CamZmZmZkTQGZmZmZmZhZAMzMzMzMzF0BmZmZmZmYYQJqZmZmZmRlAZmZmZmZmFkBmZmZmZmYUQGZmZmZmZhZAZmZmZmZmGEBmZmZmZmYWQAAAAAAAABZAMzMzMzMzE0CamZmZmZkVQGZmZmZmZhZAZmZmZmZmFEBmZmZmZmYUQJqZmZmZmRdAzczMzMzMFkDNzMzMzMwUQAAAAAAAABRAzczMzMzMFECamZmZmZkVQGZmZmZmZhRA\",\"dtype\":\"float64\",\"shape\":[150]},\"petal_width\":{\"__ndarray__\":\"mpmZmZmZyT+amZmZmZnJP5qZmZmZmck/mpmZmZmZyT+amZmZmZnJP5qZmZmZmdk/MzMzMzMz0z+amZmZmZnJP5qZmZmZmck/mpmZmZmZuT+amZmZmZnJP5qZmZmZmck/mpmZmZmZuT+amZmZmZm5P5qZmZmZmck/mpmZmZmZ2T+amZmZmZnZPzMzMzMzM9M/MzMzMzMz0z8zMzMzMzPTP5qZmZmZmck/mpmZmZmZ2T+amZmZmZnJPwAAAAAAAOA/mpmZmZmZyT+amZmZmZnJP5qZmZmZmdk/mpmZmZmZyT+amZmZmZnJP5qZmZmZmck/mpmZmZmZyT+amZmZmZnZP5qZmZmZmbk/mpmZmZmZyT+amZmZmZnJP5qZmZmZmck/mpmZmZmZyT+amZmZmZm5P5qZmZmZmck/mpmZmZmZyT8zMzMzMzPTPzMzMzMzM9M/mpmZmZmZyT8zMzMzMzPjP5qZmZmZmdk/MzMzMzMz0z+amZmZmZnJP5qZmZmZmck/mpmZmZmZyT+amZmZmZnJP2ZmZmZmZvY/AAAAAAAA+D8AAAAAAAD4P83MzMzMzPQ/AAAAAAAA+D/NzMzMzMz0P5qZmZmZmfk/AAAAAAAA8D/NzMzMzMz0P2ZmZmZmZvY/AAAAAAAA8D8AAAAAAAD4PwAAAAAAAPA/ZmZmZmZm9j/NzMzMzMz0P2ZmZmZmZvY/AAAAAAAA+D8AAAAAAADwPwAAAAAAAPg/mpmZmZmZ8T/NzMzMzMz8P83MzMzMzPQ/AAAAAAAA+D8zMzMzMzPzP83MzMzMzPQ/ZmZmZmZm9j9mZmZmZmb2PzMzMzMzM/s/AAAAAAAA+D8AAAAAAADwP5qZmZmZmfE/AAAAAAAA8D8zMzMzMzPzP5qZmZmZmfk/AAAAAAAA+D+amZmZmZn5PwAAAAAAAPg/zczMzMzM9D/NzMzMzMz0P83MzMzMzPQ/MzMzMzMz8z9mZmZmZmb2PzMzMzMzM/M/AAAAAAAA8D/NzMzMzMz0PzMzMzMzM/M/zczMzMzM9D/NzMzMzMz0P5qZmZmZmfE/zczMzMzM9D8AAAAAAAAEQGZmZmZmZv4/zczMzMzMAEDNzMzMzMz8P5qZmZmZmQFAzczMzMzMAEAzMzMzMzP7P83MzMzMzPw/zczMzMzM/D8AAAAAAAAEQAAAAAAAAABAZmZmZmZm/j/NzMzMzMwAQAAAAAAAAABAMzMzMzMzA0BmZmZmZmYCQM3MzMzMzPw/mpmZmZmZAUBmZmZmZmYCQAAAAAAAAPg/ZmZmZmZmAkAAAAAAAAAAQAAAAAAAAABAzczMzMzM/D/NzMzMzMwAQM3MzMzMzPw/zczMzMzM/D/NzMzMzMz8P83MzMzMzABAmpmZmZmZ+T9mZmZmZmb+PwAAAAAAAABAmpmZmZmZAUAAAAAAAAD4P2ZmZmZmZvY/ZmZmZmZmAkAzMzMzMzMDQM3MzMzMzPw/zczMzMzM/D/NzMzMzMwAQDMzMzMzMwNAZmZmZmZmAkBmZmZmZmb+P2ZmZmZmZgJAAAAAAAAABEBmZmZmZmYCQGZmZmZmZv4/AAAAAAAAAEBmZmZmZmYCQM3MzMzMzPw/\",\"dtype\":\"float64\",\"shape\":[150]},\"sepal_length\":{\"__ndarray__\":\"ZmZmZmZmFECamZmZmZkTQM3MzMzMzBJAZmZmZmZmEkAAAAAAAAAUQJqZmZmZmRVAZmZmZmZmEkAAAAAAAAAUQJqZmZmZmRFAmpmZmZmZE0CamZmZmZkVQDMzMzMzMxNAMzMzMzMzE0AzMzMzMzMRQDMzMzMzMxdAzczMzMzMFkCamZmZmZkVQGZmZmZmZhRAzczMzMzMFkBmZmZmZmYUQJqZmZmZmRVAZmZmZmZmFEBmZmZmZmYSQGZmZmZmZhRAMzMzMzMzE0AAAAAAAAAUQAAAAAAAABRAzczMzMzMFEDNzMzMzMwUQM3MzMzMzBJAMzMzMzMzE0CamZmZmZkVQM3MzMzMzBRAAAAAAAAAFkCamZmZmZkTQAAAAAAAABRAAAAAAAAAFkCamZmZmZkTQJqZmZmZmRFAZmZmZmZmFEAAAAAAAAAUQAAAAAAAABJAmpmZmZmZEUAAAAAAAAAUQGZmZmZmZhRAMzMzMzMzE0BmZmZmZmYUQGZmZmZmZhJAMzMzMzMzFUAAAAAAAAAUQAAAAAAAABxAmpmZmZmZGUCamZmZmZkbQAAAAAAAABZAAAAAAAAAGkDNzMzMzMwWQDMzMzMzMxlAmpmZmZmZE0BmZmZmZmYaQM3MzMzMzBRAAAAAAAAAFECamZmZmZkXQAAAAAAAABhAZmZmZmZmGEBmZmZmZmYWQM3MzMzMzBpAZmZmZmZmFkAzMzMzMzMXQM3MzMzMzBhAZmZmZmZmFkCamZmZmZkXQGZmZmZmZhhAMzMzMzMzGUBmZmZmZmYYQJqZmZmZmRlAZmZmZmZmGkAzMzMzMzMbQM3MzMzMzBpAAAAAAAAAGEDNzMzMzMwWQAAAAAAAABZAAAAAAAAAFkAzMzMzMzMXQAAAAAAAABhAmpmZmZmZFUAAAAAAAAAYQM3MzMzMzBpAMzMzMzMzGUBmZmZmZmYWQAAAAAAAABZAAAAAAAAAFkBmZmZmZmYYQDMzMzMzMxdAAAAAAAAAFEBmZmZmZmYWQM3MzMzMzBZAzczMzMzMFkDNzMzMzMwYQGZmZmZmZhRAzczMzMzMFkAzMzMzMzMZQDMzMzMzMxdAZmZmZmZmHEAzMzMzMzMZQAAAAAAAABpAZmZmZmZmHkCamZmZmZkTQDMzMzMzMx1AzczMzMzMGkDNzMzMzMwcQAAAAAAAABpAmpmZmZmZGUAzMzMzMzMbQM3MzMzMzBZAMzMzMzMzF0CamZmZmZkZQAAAAAAAABpAzczMzMzMHkDNzMzMzMweQAAAAAAAABhAmpmZmZmZG0BmZmZmZmYWQM3MzMzMzB5AMzMzMzMzGUDNzMzMzMwaQM3MzMzMzBxAzczMzMzMGEBmZmZmZmYYQJqZmZmZmRlAzczMzMzMHECamZmZmZkdQJqZmZmZmR9AmpmZmZmZGUAzMzMzMzMZQGZmZmZmZhhAzczMzMzMHkAzMzMzMzMZQJqZmZmZmRlAAAAAAAAAGECamZmZmZkbQM3MzMzMzBpAmpmZmZmZG0AzMzMzMzMXQDMzMzMzMxtAzczMzMzMGkDNzMzMzMwaQDMzMzMzMxlAAAAAAAAAGkDNzMzMzMwYQJqZmZmZmRdA\",\"dtype\":\"float64\",\"shape\":[150]},\"sepal_width\":{\"__ndarray__\":\"AAAAAAAADEAAAAAAAAAIQJqZmZmZmQlAzczMzMzMCEDNzMzMzMwMQDMzMzMzMw9AMzMzMzMzC0AzMzMzMzMLQDMzMzMzMwdAzczMzMzMCECamZmZmZkNQDMzMzMzMwtAAAAAAAAACEAAAAAAAAAIQAAAAAAAABBAmpmZmZmZEUAzMzMzMzMPQAAAAAAAAAxAZmZmZmZmDkBmZmZmZmYOQDMzMzMzMwtAmpmZmZmZDUDNzMzMzMwMQGZmZmZmZgpAMzMzMzMzC0AAAAAAAAAIQDMzMzMzMwtAAAAAAAAADEAzMzMzMzMLQJqZmZmZmQlAzczMzMzMCEAzMzMzMzMLQGZmZmZmZhBAzczMzMzMEEDNzMzMzMwIQJqZmZmZmQlAAAAAAAAADEDNzMzMzMwMQAAAAAAAAAhAMzMzMzMzC0AAAAAAAAAMQGZmZmZmZgJAmpmZmZmZCUAAAAAAAAAMQGZmZmZmZg5AAAAAAAAACEBmZmZmZmYOQJqZmZmZmQlAmpmZmZmZDUBmZmZmZmYKQJqZmZmZmQlAmpmZmZmZCUDNzMzMzMwIQGZmZmZmZgJAZmZmZmZmBkBmZmZmZmYGQGZmZmZmZgpAMzMzMzMzA0AzMzMzMzMHQJqZmZmZmQVAAAAAAAAAAEAAAAAAAAAIQJqZmZmZmQFAMzMzMzMzB0AzMzMzMzMHQM3MzMzMzAhAAAAAAAAACECamZmZmZkFQJqZmZmZmQFAAAAAAAAABECamZmZmZkJQGZmZmZmZgZAAAAAAAAABEBmZmZmZmYGQDMzMzMzMwdAAAAAAAAACEBmZmZmZmYGQAAAAAAAAAhAMzMzMzMzB0DNzMzMzMwEQDMzMzMzMwNAMzMzMzMzA0CamZmZmZkFQJqZmZmZmQVAAAAAAAAACEAzMzMzMzMLQM3MzMzMzAhAZmZmZmZmAkAAAAAAAAAIQAAAAAAAAARAzczMzMzMBEAAAAAAAAAIQM3MzMzMzARAZmZmZmZmAkCamZmZmZkFQAAAAAAAAAhAMzMzMzMzB0AzMzMzMzMHQAAAAAAAAARAZmZmZmZmBkBmZmZmZmYKQJqZmZmZmQVAAAAAAAAACEAzMzMzMzMHQAAAAAAAAAhAAAAAAAAACEAAAAAAAAAEQDMzMzMzMwdAAAAAAAAABEDNzMzMzMwMQJqZmZmZmQlAmpmZmZmZBUAAAAAAAAAIQAAAAAAAAARAZmZmZmZmBkCamZmZmZkJQAAAAAAAAAhAZmZmZmZmDkDNzMzMzMwEQJqZmZmZmQFAmpmZmZmZCUBmZmZmZmYGQGZmZmZmZgZAmpmZmZmZBUBmZmZmZmYKQJqZmZmZmQlAZmZmZmZmBkAAAAAAAAAIQGZmZmZmZgZAAAAAAAAACEBmZmZmZmYGQGZmZmZmZg5AZmZmZmZmBkBmZmZmZmYGQM3MzMzMzARAAAAAAAAACEAzMzMzMzMLQM3MzMzMzAhAAAAAAAAACEDNzMzMzMwIQM3MzMzMzAhAzczMzMzMCECamZmZmZkFQJqZmZmZmQlAZmZmZmZmCkAAAAAAAAAIQAAAAAAAAARAAAAAAAAACEAzMzMzMzMLQAAAAAAAAAhA\",\"dtype\":\"float64\",\"shape\":[150]},\"species\":[\"setosa\",\"setosa\",\"setosa\",\"setosa\",\"setosa\",\"setosa\",\"setosa\",\"setosa\",\"setosa\",\"setosa\",\"setosa\",\"setosa\",\"setosa\",\"setosa\",\"setosa\",\"setosa\",\"setosa\",\"setosa\",\"setosa\",\"setosa\",\"setosa\",\"setosa\",\"setosa\",\"setosa\",\"setosa\",\"setosa\",\"setosa\",\"setosa\",\"setosa\",\"setosa\",\"setosa\",\"setosa\",\"setosa\",\"setosa\",\"setosa\",\"setosa\",\"setosa\",\"setosa\",\"setosa\",\"setosa\",\"setosa\",\"setosa\",\"setosa\",\"setosa\",\"setosa\",\"setosa\",\"setosa\",\"setosa\",\"setosa\",\"setosa\",\"versicolor\",\"versicolor\",\"versicolor\",\"versicolor\",\"versicolor\",\"versicolor\",\"versicolor\",\"versicolor\",\"versicolor\",\"versicolor\",\"versicolor\",\"versicolor\",\"versicolor\",\"versicolor\",\"versicolor\",\"versicolor\",\"versicolor\",\"versicolor\",\"versicolor\",\"versicolor\",\"versicolor\",\"versicolor\",\"versicolor\",\"versicolor\",\"versicolor\",\"versicolor\",\"versicolor\",\"versicolor\",\"versicolor\",\"versicolor\",\"versicolor\",\"versicolor\",\"versicolor\",\"versicolor\",\"versicolor\",\"versicolor\",\"versicolor\",\"versicolor\",\"versicolor\",\"versicolor\",\"versicolor\",\"versicolor\",\"versicolor\",\"versicolor\",\"versicolor\",\"versicolor\",\"versicolor\",\"versicolor\",\"versicolor\",\"versicolor\",\"virginica\",\"virginica\",\"virginica\",\"virginica\",\"virginica\",\"virginica\",\"virginica\",\"virginica\",\"virginica\",\"virginica\",\"virginica\",\"virginica\",\"virginica\",\"virginica\",\"virginica\",\"virginica\",\"virginica\",\"virginica\",\"virginica\",\"virginica\",\"virginica\",\"virginica\",\"virginica\",\"virginica\",\"virginica\",\"virginica\",\"virginica\",\"virginica\",\"virginica\",\"virginica\",\"virginica\",\"virginica\",\"virginica\",\"virginica\",\"virginica\",\"virginica\",\"virginica\",\"virginica\",\"virginica\",\"virginica\",\"virginica\",\"virginica\",\"virginica\",\"virginica\",\"virginica\",\"virginica\",\"virginica\",\"virginica\",\"virginica\",\"virginica\"]},\"selected\":{\"id\":\"5080\",\"type\":\"Selection\"},\"selection_policy\":{\"id\":\"5079\",\"type\":\"UnionRenderers\"}},\"id\":\"4949\",\"type\":\"ColumnDataSource\"},{\"attributes\":{\"below\":[{\"id\":\"4961\",\"type\":\"LinearAxis\"}],\"center\":[{\"id\":\"4965\",\"type\":\"Grid\"},{\"id\":\"4970\",\"type\":\"Grid\"}],\"left\":[{\"id\":\"4966\",\"type\":\"LinearAxis\"}],\"plot_height\":400,\"plot_width\":400,\"renderers\":[{\"id\":\"4979\",\"type\":\"GlyphRenderer\"}],\"title\":{\"id\":\"4951\",\"type\":\"Title\"},\"toolbar\":{\"id\":\"4973\",\"type\":\"Toolbar\"},\"toolbar_location\":null,\"x_range\":{\"id\":\"4953\",\"type\":\"DataRange1d\"},\"x_scale\":{\"id\":\"4957\",\"type\":\"LinearScale\"},\"y_range\":{\"id\":\"4955\",\"type\":\"DataRange1d\"},\"y_scale\":{\"id\":\"4959\",\"type\":\"LinearScale\"}},\"id\":\"4950\",\"subtype\":\"Figure\",\"type\":\"Plot\"},{\"attributes\":{\"callback\":null},\"id\":\"5048\",\"type\":\"DataRange1d\"},{\"attributes\":{\"text\":\"Petal Length vs. Sepal Length\"},\"id\":\"4951\",\"type\":\"Title\"},{\"attributes\":{},\"id\":\"5050\",\"type\":\"LinearScale\"},{\"attributes\":{},\"id\":\"5052\",\"type\":\"LinearScale\"}],\"root_ids\":[\"5113\"]},\"title\":\"Bokeh Application\",\"version\":\"1.2.0\"}};\n",
       "  var render_items = [{\"docid\":\"9e5aac83-b094-48ea-b28c-e1e448df405f\",\"roots\":{\"5113\":\"b2a3960b-8922-4f16-9d28-6462ceebb07f\"}}];\n",
       "  root.Bokeh.embed.embed_items_notebook(docs_json, render_items);\n",
       "\n",
       "  }\n",
       "  if (root.Bokeh !== undefined) {\n",
       "    embed_document(root);\n",
       "  } else {\n",
       "    var attempts = 0;\n",
       "    var timer = setInterval(function(root) {\n",
       "      if (root.Bokeh !== undefined) {\n",
       "        embed_document(root);\n",
       "        clearInterval(timer);\n",
       "      }\n",
       "      attempts++;\n",
       "      if (attempts > 100) {\n",
       "        console.log(\"Bokeh: ERROR: Unable to run BokehJS code because BokehJS library is missing\");\n",
       "        clearInterval(timer);\n",
       "      }\n",
       "    }, 10, root)\n",
       "  }\n",
       "})(window);"
      ],
      "application/vnd.bokehjs_exec.v0+json": ""
     },
     "metadata": {
      "application/vnd.bokehjs_exec.v0+json": {
       "id": "5113"
      }
     },
     "output_type": "display_data"
    }
   ],
   "source": [
    "source = ColumnDataSource(flowers)\n",
    "\n",
    "p1 = figure(plot_width=400, plot_height=400, x_axis_label='Petal Length', y_axis_label='Sepal Length',\n",
    "           title='Petal Length vs. Sepal Length', tools='box_select, reset')\n",
    "p1.circle('petal_length', 'sepal_length', source=source, color='red')\n",
    "\n",
    "p2 = figure(plot_width=400, plot_height=400, x_axis_label='Petal Length', y_axis_label='Petal Width',\n",
    "           title='Petal Length vs. Petal Width', tools='box_select, reset')\n",
    "p2.circle('petal_length', 'petal_width', source=source, color='blue')\n",
    "\n",
    "p3 = figure(plot_width=400, plot_height=400, x_axis_label='Sepal Length', y_axis_label='Sepal Width',\n",
    "           title='Sepal Length vs. Sepal Width', tools='box_select, reset')\n",
    "p3.circle('sepal_length', 'sepal_width', source=source, color='green')\n",
    "\n",
    "p4 = figure(plot_width=400, plot_height=400, x_axis_label='Sepal Width', y_axis_label='Petal Width',\n",
    "           title='Sepal Width vs. Petal Width', tools='box_select, reset')\n",
    "p4.circle('sepal_width', 'petal_width', source=source, color='gold')\n",
    "\n",
    "layout = gridplot([[p1, p2], [p3, p4]])\n",
    "show(layout)\n",
    "# 선택이 4개모두 같이 됨 소스만 같으면 됨 tools에 box_select다 포함시킬것"
   ]
  },
  {
   "cell_type": "code",
   "execution_count": 40,
   "metadata": {
    "colab": {},
    "colab_type": "code",
    "id": "6MvDRA0P20xD"
   },
   "outputs": [],
   "source": [
    "from bokeh.models.widgets import Panel, Tabs"
   ]
  },
  {
   "cell_type": "code",
   "execution_count": 43,
   "metadata": {
    "colab": {
     "base_uri": "https://localhost:8080/",
     "height": 34
    },
    "colab_type": "code",
    "id": "_rzIXXyF3uiz",
    "outputId": "ba393145-228f-4b5b-fe79-1bff9f88fddd"
   },
   "outputs": [
    {
     "data": {
      "text/html": [
       "<div style=\"display: table;\"><div style=\"display: table-row;\"><div style=\"display: table-cell;\"><b title=\"bokeh.models.renderers.GlyphRenderer\">GlyphRenderer</b>(</div><div style=\"display: table-cell;\">id&nbsp;=&nbsp;'6239', <span id=\"6242\" style=\"cursor: pointer;\">&hellip;)</span></div></div><div class=\"6241\" style=\"display: none;\"><div style=\"display: table-cell;\"></div><div style=\"display: table-cell;\">data_source&nbsp;=&nbsp;ColumnDataSource(id='6084', ...),</div></div><div class=\"6241\" style=\"display: none;\"><div style=\"display: table-cell;\"></div><div style=\"display: table-cell;\">glyph&nbsp;=&nbsp;Circle(id='6237', ...),</div></div><div class=\"6241\" style=\"display: none;\"><div style=\"display: table-cell;\"></div><div style=\"display: table-cell;\">hover_glyph&nbsp;=&nbsp;None,</div></div><div class=\"6241\" style=\"display: none;\"><div style=\"display: table-cell;\"></div><div style=\"display: table-cell;\">js_event_callbacks&nbsp;=&nbsp;{},</div></div><div class=\"6241\" style=\"display: none;\"><div style=\"display: table-cell;\"></div><div style=\"display: table-cell;\">js_property_callbacks&nbsp;=&nbsp;{},</div></div><div class=\"6241\" style=\"display: none;\"><div style=\"display: table-cell;\"></div><div style=\"display: table-cell;\">level&nbsp;=&nbsp;'glyph',</div></div><div class=\"6241\" style=\"display: none;\"><div style=\"display: table-cell;\"></div><div style=\"display: table-cell;\">muted&nbsp;=&nbsp;False,</div></div><div class=\"6241\" style=\"display: none;\"><div style=\"display: table-cell;\"></div><div style=\"display: table-cell;\">muted_glyph&nbsp;=&nbsp;None,</div></div><div class=\"6241\" style=\"display: none;\"><div style=\"display: table-cell;\"></div><div style=\"display: table-cell;\">name&nbsp;=&nbsp;None,</div></div><div class=\"6241\" style=\"display: none;\"><div style=\"display: table-cell;\"></div><div style=\"display: table-cell;\">nonselection_glyph&nbsp;=&nbsp;Circle(id='6238', ...),</div></div><div class=\"6241\" style=\"display: none;\"><div style=\"display: table-cell;\"></div><div style=\"display: table-cell;\">selection_glyph&nbsp;=&nbsp;None,</div></div><div class=\"6241\" style=\"display: none;\"><div style=\"display: table-cell;\"></div><div style=\"display: table-cell;\">subscribed_events&nbsp;=&nbsp;[],</div></div><div class=\"6241\" style=\"display: none;\"><div style=\"display: table-cell;\"></div><div style=\"display: table-cell;\">tags&nbsp;=&nbsp;[],</div></div><div class=\"6241\" style=\"display: none;\"><div style=\"display: table-cell;\"></div><div style=\"display: table-cell;\">view&nbsp;=&nbsp;CDSView(id='6240', ...),</div></div><div class=\"6241\" style=\"display: none;\"><div style=\"display: table-cell;\"></div><div style=\"display: table-cell;\">visible&nbsp;=&nbsp;True,</div></div><div class=\"6241\" style=\"display: none;\"><div style=\"display: table-cell;\"></div><div style=\"display: table-cell;\">x_range_name&nbsp;=&nbsp;'default',</div></div><div class=\"6241\" style=\"display: none;\"><div style=\"display: table-cell;\"></div><div style=\"display: table-cell;\">y_range_name&nbsp;=&nbsp;'default')</div></div></div>\n",
       "<script>\n",
       "(function() {\n",
       "  var expanded = false;\n",
       "  var ellipsis = document.getElementById(\"6242\");\n",
       "  ellipsis.addEventListener(\"click\", function() {\n",
       "    var rows = document.getElementsByClassName(\"6241\");\n",
       "    for (var i = 0; i < rows.length; i++) {\n",
       "      var el = rows[i];\n",
       "      el.style.display = expanded ? \"none\" : \"table-row\";\n",
       "    }\n",
       "    ellipsis.innerHTML = expanded ? \"&hellip;)\" : \"&lsaquo;&lsaquo;&lsaquo;\";\n",
       "    expanded = !expanded;\n",
       "  });\n",
       "})();\n",
       "</script>\n"
      ],
      "text/plain": [
       "GlyphRenderer(id='6239', ...)"
      ]
     },
     "execution_count": 43,
     "metadata": {},
     "output_type": "execute_result"
    }
   ],
   "source": [
    "source = ColumnDataSource(flowers)\n",
    "\n",
    "p1 = figure(plot_width=400, plot_height=400, x_axis_label='Petal Length', y_axis_label='Sepal Length',\n",
    "           title='Petal Length vs. Sepal Length')\n",
    "p1.circle('petal_length', 'sepal_length', source=source, color='red')\n",
    "\n",
    "p2 = figure(plot_width=400, plot_height=400, x_axis_label='Petal Length', y_axis_label='Petal Width',\n",
    "           title='Petal Length vs. Petal Width')\n",
    "p2.circle('petal_length', 'petal_width', source=source, color='blue')\n",
    "\n",
    "p3 = figure(plot_width=400, plot_height=400, x_axis_label='Sepal Length', y_axis_label='Sepal Width',\n",
    "           title='Sepal Length vs. Sepal Width')\n",
    "p3.circle('sepal_length', 'sepal_width', source=source, color='green')\n",
    "\n",
    "p4 = figure(plot_width=400, plot_height=400, x_axis_label='Sepal Width', y_axis_label='Petal Width',\n",
    "           title='Sepal Width vs. Petal Width')\n",
    "p4.circle('sepal_width', 'petal_width', source=source, color='gold')"
   ]
  },
  {
   "cell_type": "code",
   "execution_count": 42,
   "metadata": {
    "colab": {
     "base_uri": "https://localhost:8080/",
     "height": 447
    },
    "colab_type": "code",
    "id": "qL1GEITx3uoF",
    "outputId": "66a4b240-80d2-476a-bb4f-c57c1b105f75"
   },
   "outputs": [
    {
     "data": {
      "text/html": [
       "\n",
       "\n",
       "\n",
       "\n",
       "\n",
       "\n",
       "  <div class=\"bk-root\" id=\"6541529d-a4c0-483b-9c6a-6dc87a4a9152\" data-root-id=\"5667\"></div>\n"
      ]
     },
     "metadata": {},
     "output_type": "display_data"
    },
    {
     "data": {
      "application/javascript": [
       "(function(root) {\n",
       "  function embed_document(root) {\n",
       "    \n",
       "  var docs_json = {\"8e8d68d8-cde7-4a56-bfb1-4f965d5c9235\":{\"roots\":{\"references\":[{\"attributes\":{\"callback\":null,\"tabs\":[{\"id\":\"5663\",\"type\":\"Panel\"},{\"id\":\"5664\",\"type\":\"Panel\"},{\"id\":\"5666\",\"type\":\"Panel\"}]},\"id\":\"5667\",\"type\":\"Tabs\"},{\"attributes\":{\"axis_label\":\"Petal Length\",\"formatter\":{\"id\":\"5900\",\"type\":\"BasicTickFormatter\"},\"ticker\":{\"id\":\"5517\",\"type\":\"BasicTicker\"}},\"id\":\"5516\",\"type\":\"LinearAxis\"},{\"attributes\":{},\"id\":\"5647\",\"type\":\"ResetTool\"},{\"attributes\":{\"children\":[{\"id\":\"5583\",\"subtype\":\"Figure\",\"type\":\"Plot\"},{\"id\":\"5622\",\"subtype\":\"Figure\",\"type\":\"Plot\"}]},\"id\":\"5665\",\"type\":\"Row\"},{\"attributes\":{},\"id\":\"5517\",\"type\":\"BasicTicker\"},{\"attributes\":{},\"id\":\"5648\",\"type\":\"HelpTool\"},{\"attributes\":{\"ticker\":{\"id\":\"5517\",\"type\":\"BasicTicker\"}},\"id\":\"5520\",\"type\":\"Grid\"},{\"attributes\":{\"active_drag\":\"auto\",\"active_inspect\":\"auto\",\"active_multi\":null,\"active_scroll\":\"auto\",\"active_tap\":\"auto\",\"tools\":[{\"id\":\"5643\",\"type\":\"PanTool\"},{\"id\":\"5644\",\"type\":\"WheelZoomTool\"},{\"id\":\"5645\",\"type\":\"BoxZoomTool\"},{\"id\":\"5646\",\"type\":\"SaveTool\"},{\"id\":\"5647\",\"type\":\"ResetTool\"},{\"id\":\"5648\",\"type\":\"HelpTool\"}]},\"id\":\"5649\",\"type\":\"Toolbar\"},{\"attributes\":{\"axis_label\":\"Sepal Length\",\"formatter\":{\"id\":\"5898\",\"type\":\"BasicTickFormatter\"},\"ticker\":{\"id\":\"5522\",\"type\":\"BasicTicker\"}},\"id\":\"5521\",\"type\":\"LinearAxis\"},{\"attributes\":{\"data_source\":{\"id\":\"5504\",\"type\":\"ColumnDataSource\"},\"glyph\":{\"id\":\"5657\",\"type\":\"Circle\"},\"hover_glyph\":null,\"muted_glyph\":null,\"nonselection_glyph\":{\"id\":\"5658\",\"type\":\"Circle\"},\"selection_glyph\":null,\"view\":{\"id\":\"5660\",\"type\":\"CDSView\"}},\"id\":\"5659\",\"type\":\"GlyphRenderer\"},{\"attributes\":{},\"id\":\"5522\",\"type\":\"BasicTicker\"},{\"attributes\":{\"source\":{\"id\":\"5504\",\"type\":\"ColumnDataSource\"}},\"id\":\"5660\",\"type\":\"CDSView\"},{\"attributes\":{\"child\":{\"id\":\"5544\",\"subtype\":\"Figure\",\"type\":\"Plot\"},\"title\":\"Tab 2\"},\"id\":\"5664\",\"type\":\"Panel\"},{\"attributes\":{\"dimension\":1,\"ticker\":{\"id\":\"5522\",\"type\":\"BasicTicker\"}},\"id\":\"5525\",\"type\":\"Grid\"},{\"attributes\":{\"child\":{\"id\":\"5505\",\"subtype\":\"Figure\",\"type\":\"Plot\"},\"title\":\"Tab 1\"},\"id\":\"5663\",\"type\":\"Panel\"},{\"attributes\":{\"fill_alpha\":{\"value\":0.1},\"fill_color\":{\"value\":\"#1f77b4\"},\"line_alpha\":{\"value\":0.1},\"line_color\":{\"value\":\"#1f77b4\"},\"x\":{\"field\":\"petal_length\"},\"y\":{\"field\":\"sepal_length\"}},\"id\":\"5541\",\"type\":\"Circle\"},{\"attributes\":{\"fill_color\":{\"value\":\"red\"},\"line_color\":{\"value\":\"red\"},\"x\":{\"field\":\"petal_length\"},\"y\":{\"field\":\"sepal_length\"}},\"id\":\"5540\",\"type\":\"Circle\"},{\"attributes\":{\"data_source\":{\"id\":\"5504\",\"type\":\"ColumnDataSource\"},\"glyph\":{\"id\":\"5540\",\"type\":\"Circle\"},\"hover_glyph\":null,\"muted_glyph\":null,\"nonselection_glyph\":{\"id\":\"5541\",\"type\":\"Circle\"},\"selection_glyph\":null,\"view\":{\"id\":\"5543\",\"type\":\"CDSView\"}},\"id\":\"5542\",\"type\":\"GlyphRenderer\"},{\"attributes\":{},\"id\":\"5526\",\"type\":\"PanTool\"},{\"attributes\":{},\"id\":\"5527\",\"type\":\"WheelZoomTool\"},{\"attributes\":{\"callback\":null},\"id\":\"5586\",\"type\":\"DataRange1d\"},{\"attributes\":{\"overlay\":{\"id\":\"5910\",\"type\":\"BoxAnnotation\"}},\"id\":\"5528\",\"type\":\"BoxZoomTool\"},{\"attributes\":{},\"id\":\"5529\",\"type\":\"SaveTool\"},{\"attributes\":{},\"id\":\"5530\",\"type\":\"ResetTool\"},{\"attributes\":{},\"id\":\"5531\",\"type\":\"HelpTool\"},{\"attributes\":{\"active_drag\":\"auto\",\"active_inspect\":\"auto\",\"active_multi\":null,\"active_scroll\":\"auto\",\"active_tap\":\"auto\",\"tools\":[{\"id\":\"5526\",\"type\":\"PanTool\"},{\"id\":\"5527\",\"type\":\"WheelZoomTool\"},{\"id\":\"5528\",\"type\":\"BoxZoomTool\"},{\"id\":\"5529\",\"type\":\"SaveTool\"},{\"id\":\"5530\",\"type\":\"ResetTool\"},{\"id\":\"5531\",\"type\":\"HelpTool\"}]},\"id\":\"5532\",\"type\":\"Toolbar\"},{\"attributes\":{\"fill_alpha\":{\"value\":0.1},\"fill_color\":{\"value\":\"#1f77b4\"},\"line_alpha\":{\"value\":0.1},\"line_color\":{\"value\":\"#1f77b4\"},\"x\":{\"field\":\"petal_length\"},\"y\":{\"field\":\"petal_width\"}},\"id\":\"5580\",\"type\":\"Circle\"},{\"attributes\":{},\"id\":\"5916\",\"type\":\"BasicTickFormatter\"},{\"attributes\":{},\"id\":\"5918\",\"type\":\"BasicTickFormatter\"},{\"attributes\":{\"text\":\"Petal Length vs. Petal Width\"},\"id\":\"5545\",\"type\":\"Title\"},{\"attributes\":{\"below\":[{\"id\":\"5633\",\"type\":\"LinearAxis\"}],\"center\":[{\"id\":\"5637\",\"type\":\"Grid\"},{\"id\":\"5642\",\"type\":\"Grid\"}],\"left\":[{\"id\":\"5638\",\"type\":\"LinearAxis\"}],\"plot_height\":400,\"plot_width\":400,\"renderers\":[{\"id\":\"5659\",\"type\":\"GlyphRenderer\"}],\"title\":{\"id\":\"5623\",\"type\":\"Title\"},\"toolbar\":{\"id\":\"5649\",\"type\":\"Toolbar\"},\"x_range\":{\"id\":\"5625\",\"type\":\"DataRange1d\"},\"x_scale\":{\"id\":\"5629\",\"type\":\"LinearScale\"},\"y_range\":{\"id\":\"5627\",\"type\":\"DataRange1d\"},\"y_scale\":{\"id\":\"5631\",\"type\":\"LinearScale\"}},\"id\":\"5622\",\"subtype\":\"Figure\",\"type\":\"Plot\"},{\"attributes\":{\"callback\":null},\"id\":\"5547\",\"type\":\"DataRange1d\"},{\"attributes\":{\"callback\":null},\"id\":\"5549\",\"type\":\"DataRange1d\"},{\"attributes\":{},\"id\":\"5551\",\"type\":\"LinearScale\"},{\"attributes\":{},\"id\":\"5553\",\"type\":\"LinearScale\"},{\"attributes\":{\"axis_label\":\"Petal Length\",\"formatter\":{\"id\":\"5904\",\"type\":\"BasicTickFormatter\"},\"ticker\":{\"id\":\"5556\",\"type\":\"BasicTicker\"}},\"id\":\"5555\",\"type\":\"LinearAxis\"},{\"attributes\":{},\"id\":\"5556\",\"type\":\"BasicTicker\"},{\"attributes\":{\"ticker\":{\"id\":\"5556\",\"type\":\"BasicTicker\"}},\"id\":\"5559\",\"type\":\"Grid\"},{\"attributes\":{\"axis_label\":\"Petal Width\",\"formatter\":{\"id\":\"5902\",\"type\":\"BasicTickFormatter\"},\"ticker\":{\"id\":\"5561\",\"type\":\"BasicTicker\"}},\"id\":\"5560\",\"type\":\"LinearAxis\"},{\"attributes\":{},\"id\":\"5561\",\"type\":\"BasicTicker\"},{\"attributes\":{\"dimension\":1,\"ticker\":{\"id\":\"5561\",\"type\":\"BasicTicker\"}},\"id\":\"5564\",\"type\":\"Grid\"},{\"attributes\":{\"text\":\"Sepal Length vs. Sepal Width\"},\"id\":\"5584\",\"type\":\"Title\"},{\"attributes\":{},\"id\":\"5570\",\"type\":\"HelpTool\"},{\"attributes\":{\"data_source\":{\"id\":\"5504\",\"type\":\"ColumnDataSource\"},\"glyph\":{\"id\":\"5579\",\"type\":\"Circle\"},\"hover_glyph\":null,\"muted_glyph\":null,\"nonselection_glyph\":{\"id\":\"5580\",\"type\":\"Circle\"},\"selection_glyph\":null,\"view\":{\"id\":\"5582\",\"type\":\"CDSView\"}},\"id\":\"5581\",\"type\":\"GlyphRenderer\"},{\"attributes\":{\"fill_color\":{\"value\":\"blue\"},\"line_color\":{\"value\":\"blue\"},\"x\":{\"field\":\"petal_length\"},\"y\":{\"field\":\"petal_width\"}},\"id\":\"5579\",\"type\":\"Circle\"},{\"attributes\":{},\"id\":\"5595\",\"type\":\"BasicTicker\"},{\"attributes\":{\"below\":[{\"id\":\"5594\",\"type\":\"LinearAxis\"}],\"center\":[{\"id\":\"5598\",\"type\":\"Grid\"},{\"id\":\"5603\",\"type\":\"Grid\"}],\"left\":[{\"id\":\"5599\",\"type\":\"LinearAxis\"}],\"plot_height\":400,\"plot_width\":400,\"renderers\":[{\"id\":\"5620\",\"type\":\"GlyphRenderer\"}],\"title\":{\"id\":\"5584\",\"type\":\"Title\"},\"toolbar\":{\"id\":\"5610\",\"type\":\"Toolbar\"},\"x_range\":{\"id\":\"5586\",\"type\":\"DataRange1d\"},\"x_scale\":{\"id\":\"5590\",\"type\":\"LinearScale\"},\"y_range\":{\"id\":\"5588\",\"type\":\"DataRange1d\"},\"y_scale\":{\"id\":\"5592\",\"type\":\"LinearScale\"}},\"id\":\"5583\",\"subtype\":\"Figure\",\"type\":\"Plot\"},{\"attributes\":{\"source\":{\"id\":\"5504\",\"type\":\"ColumnDataSource\"}},\"id\":\"5543\",\"type\":\"CDSView\"},{\"attributes\":{},\"id\":\"5565\",\"type\":\"PanTool\"},{\"attributes\":{\"bottom_units\":\"screen\",\"fill_alpha\":{\"value\":0.5},\"fill_color\":{\"value\":\"lightgrey\"},\"left_units\":\"screen\",\"level\":\"overlay\",\"line_alpha\":{\"value\":1.0},\"line_color\":{\"value\":\"black\"},\"line_dash\":[4,4],\"line_width\":{\"value\":2},\"render_mode\":\"css\",\"right_units\":\"screen\",\"top_units\":\"screen\"},\"id\":\"5920\",\"type\":\"BoxAnnotation\"},{\"attributes\":{\"active_drag\":\"auto\",\"active_inspect\":\"auto\",\"active_multi\":null,\"active_scroll\":\"auto\",\"active_tap\":\"auto\",\"tools\":[{\"id\":\"5565\",\"type\":\"PanTool\"},{\"id\":\"5566\",\"type\":\"WheelZoomTool\"},{\"id\":\"5567\",\"type\":\"BoxZoomTool\"},{\"id\":\"5568\",\"type\":\"SaveTool\"},{\"id\":\"5569\",\"type\":\"ResetTool\"},{\"id\":\"5570\",\"type\":\"HelpTool\"}]},\"id\":\"5571\",\"type\":\"Toolbar\"},{\"attributes\":{},\"id\":\"5566\",\"type\":\"WheelZoomTool\"},{\"attributes\":{\"overlay\":{\"id\":\"5911\",\"type\":\"BoxAnnotation\"}},\"id\":\"5567\",\"type\":\"BoxZoomTool\"},{\"attributes\":{\"bottom_units\":\"screen\",\"fill_alpha\":{\"value\":0.5},\"fill_color\":{\"value\":\"lightgrey\"},\"left_units\":\"screen\",\"level\":\"overlay\",\"line_alpha\":{\"value\":1.0},\"line_color\":{\"value\":\"black\"},\"line_dash\":[4,4],\"line_width\":{\"value\":2},\"render_mode\":\"css\",\"right_units\":\"screen\",\"top_units\":\"screen\"},\"id\":\"5921\",\"type\":\"BoxAnnotation\"},{\"attributes\":{\"axis_label\":\"Sepal Length\",\"formatter\":{\"id\":\"5914\",\"type\":\"BasicTickFormatter\"},\"ticker\":{\"id\":\"5595\",\"type\":\"BasicTicker\"}},\"id\":\"5594\",\"type\":\"LinearAxis\"},{\"attributes\":{},\"id\":\"5568\",\"type\":\"SaveTool\"},{\"attributes\":{},\"id\":\"5569\",\"type\":\"ResetTool\"},{\"attributes\":{\"ticker\":{\"id\":\"5595\",\"type\":\"BasicTicker\"}},\"id\":\"5598\",\"type\":\"Grid\"},{\"attributes\":{\"axis_label\":\"Sepal Width\",\"formatter\":{\"id\":\"5912\",\"type\":\"BasicTickFormatter\"},\"ticker\":{\"id\":\"5600\",\"type\":\"BasicTicker\"}},\"id\":\"5599\",\"type\":\"LinearAxis\"},{\"attributes\":{},\"id\":\"5600\",\"type\":\"BasicTicker\"},{\"attributes\":{\"dimension\":1,\"ticker\":{\"id\":\"5600\",\"type\":\"BasicTicker\"}},\"id\":\"5603\",\"type\":\"Grid\"},{\"attributes\":{\"fill_alpha\":{\"value\":0.1},\"fill_color\":{\"value\":\"#1f77b4\"},\"line_alpha\":{\"value\":0.1},\"line_color\":{\"value\":\"#1f77b4\"},\"x\":{\"field\":\"sepal_length\"},\"y\":{\"field\":\"sepal_width\"}},\"id\":\"5619\",\"type\":\"Circle\"},{\"attributes\":{\"fill_color\":{\"value\":\"green\"},\"line_color\":{\"value\":\"green\"},\"x\":{\"field\":\"sepal_length\"},\"y\":{\"field\":\"sepal_width\"}},\"id\":\"5618\",\"type\":\"Circle\"},{\"attributes\":{\"data_source\":{\"id\":\"5504\",\"type\":\"ColumnDataSource\"},\"glyph\":{\"id\":\"5618\",\"type\":\"Circle\"},\"hover_glyph\":null,\"muted_glyph\":null,\"nonselection_glyph\":{\"id\":\"5619\",\"type\":\"Circle\"},\"selection_glyph\":null,\"view\":{\"id\":\"5621\",\"type\":\"CDSView\"}},\"id\":\"5620\",\"type\":\"GlyphRenderer\"},{\"attributes\":{},\"id\":\"5604\",\"type\":\"PanTool\"},{\"attributes\":{},\"id\":\"5605\",\"type\":\"WheelZoomTool\"},{\"attributes\":{},\"id\":\"5592\",\"type\":\"LinearScale\"},{\"attributes\":{\"overlay\":{\"id\":\"5920\",\"type\":\"BoxAnnotation\"}},\"id\":\"5606\",\"type\":\"BoxZoomTool\"},{\"attributes\":{},\"id\":\"5607\",\"type\":\"SaveTool\"},{\"attributes\":{},\"id\":\"5512\",\"type\":\"LinearScale\"},{\"attributes\":{},\"id\":\"5608\",\"type\":\"ResetTool\"},{\"attributes\":{\"bottom_units\":\"screen\",\"fill_alpha\":{\"value\":0.5},\"fill_color\":{\"value\":\"lightgrey\"},\"left_units\":\"screen\",\"level\":\"overlay\",\"line_alpha\":{\"value\":1.0},\"line_color\":{\"value\":\"black\"},\"line_dash\":[4,4],\"line_width\":{\"value\":2},\"render_mode\":\"css\",\"right_units\":\"screen\",\"top_units\":\"screen\"},\"id\":\"5910\",\"type\":\"BoxAnnotation\"},{\"attributes\":{},\"id\":\"5609\",\"type\":\"HelpTool\"},{\"attributes\":{\"active_drag\":\"auto\",\"active_inspect\":\"auto\",\"active_multi\":null,\"active_scroll\":\"auto\",\"active_tap\":\"auto\",\"tools\":[{\"id\":\"5604\",\"type\":\"PanTool\"},{\"id\":\"5605\",\"type\":\"WheelZoomTool\"},{\"id\":\"5606\",\"type\":\"BoxZoomTool\"},{\"id\":\"5607\",\"type\":\"SaveTool\"},{\"id\":\"5608\",\"type\":\"ResetTool\"},{\"id\":\"5609\",\"type\":\"HelpTool\"}]},\"id\":\"5610\",\"type\":\"Toolbar\"},{\"attributes\":{\"source\":{\"id\":\"5504\",\"type\":\"ColumnDataSource\"}},\"id\":\"5621\",\"type\":\"CDSView\"},{\"attributes\":{\"fill_alpha\":{\"value\":0.1},\"fill_color\":{\"value\":\"#1f77b4\"},\"line_alpha\":{\"value\":0.1},\"line_color\":{\"value\":\"#1f77b4\"},\"x\":{\"field\":\"sepal_width\"},\"y\":{\"field\":\"petal_width\"}},\"id\":\"5658\",\"type\":\"Circle\"},{\"attributes\":{\"text\":\"Sepal Width vs. Petal Width\"},\"id\":\"5623\",\"type\":\"Title\"},{\"attributes\":{},\"id\":\"5914\",\"type\":\"BasicTickFormatter\"},{\"attributes\":{\"callback\":null},\"id\":\"5625\",\"type\":\"DataRange1d\"},{\"attributes\":{\"callback\":null},\"id\":\"5627\",\"type\":\"DataRange1d\"},{\"attributes\":{},\"id\":\"5912\",\"type\":\"BasicTickFormatter\"},{\"attributes\":{},\"id\":\"5629\",\"type\":\"LinearScale\"},{\"attributes\":{\"bottom_units\":\"screen\",\"fill_alpha\":{\"value\":0.5},\"fill_color\":{\"value\":\"lightgrey\"},\"left_units\":\"screen\",\"level\":\"overlay\",\"line_alpha\":{\"value\":1.0},\"line_color\":{\"value\":\"black\"},\"line_dash\":[4,4],\"line_width\":{\"value\":2},\"render_mode\":\"css\",\"right_units\":\"screen\",\"top_units\":\"screen\"},\"id\":\"5911\",\"type\":\"BoxAnnotation\"},{\"attributes\":{},\"id\":\"5631\",\"type\":\"LinearScale\"},{\"attributes\":{\"axis_label\":\"Sepal Width\",\"formatter\":{\"id\":\"5918\",\"type\":\"BasicTickFormatter\"},\"ticker\":{\"id\":\"5634\",\"type\":\"BasicTicker\"}},\"id\":\"5633\",\"type\":\"LinearAxis\"},{\"attributes\":{},\"id\":\"5634\",\"type\":\"BasicTicker\"},{\"attributes\":{\"callback\":null},\"id\":\"5510\",\"type\":\"DataRange1d\"},{\"attributes\":{\"ticker\":{\"id\":\"5634\",\"type\":\"BasicTicker\"}},\"id\":\"5637\",\"type\":\"Grid\"},{\"attributes\":{\"below\":[{\"id\":\"5555\",\"type\":\"LinearAxis\"}],\"center\":[{\"id\":\"5559\",\"type\":\"Grid\"},{\"id\":\"5564\",\"type\":\"Grid\"}],\"left\":[{\"id\":\"5560\",\"type\":\"LinearAxis\"}],\"plot_height\":400,\"plot_width\":400,\"renderers\":[{\"id\":\"5581\",\"type\":\"GlyphRenderer\"}],\"title\":{\"id\":\"5545\",\"type\":\"Title\"},\"toolbar\":{\"id\":\"5571\",\"type\":\"Toolbar\"},\"x_range\":{\"id\":\"5547\",\"type\":\"DataRange1d\"},\"x_scale\":{\"id\":\"5551\",\"type\":\"LinearScale\"},\"y_range\":{\"id\":\"5549\",\"type\":\"DataRange1d\"},\"y_scale\":{\"id\":\"5553\",\"type\":\"LinearScale\"}},\"id\":\"5544\",\"subtype\":\"Figure\",\"type\":\"Plot\"},{\"attributes\":{\"axis_label\":\"Petal Width\",\"formatter\":{\"id\":\"5916\",\"type\":\"BasicTickFormatter\"},\"ticker\":{\"id\":\"5639\",\"type\":\"BasicTicker\"}},\"id\":\"5638\",\"type\":\"LinearAxis\"},{\"attributes\":{},\"id\":\"5590\",\"type\":\"LinearScale\"},{\"attributes\":{},\"id\":\"5909\",\"type\":\"Selection\"},{\"attributes\":{},\"id\":\"5639\",\"type\":\"BasicTicker\"},{\"attributes\":{\"callback\":null},\"id\":\"5588\",\"type\":\"DataRange1d\"},{\"attributes\":{\"source\":{\"id\":\"5504\",\"type\":\"ColumnDataSource\"}},\"id\":\"5582\",\"type\":\"CDSView\"},{\"attributes\":{\"dimension\":1,\"ticker\":{\"id\":\"5639\",\"type\":\"BasicTicker\"}},\"id\":\"5642\",\"type\":\"Grid\"},{\"attributes\":{},\"id\":\"5900\",\"type\":\"BasicTickFormatter\"},{\"attributes\":{\"callback\":null,\"data\":{\"index\":[0,1,2,3,4,5,6,7,8,9,10,11,12,13,14,15,16,17,18,19,20,21,22,23,24,25,26,27,28,29,30,31,32,33,34,35,36,37,38,39,40,41,42,43,44,45,46,47,48,49,50,51,52,53,54,55,56,57,58,59,60,61,62,63,64,65,66,67,68,69,70,71,72,73,74,75,76,77,78,79,80,81,82,83,84,85,86,87,88,89,90,91,92,93,94,95,96,97,98,99,100,101,102,103,104,105,106,107,108,109,110,111,112,113,114,115,116,117,118,119,120,121,122,123,124,125,126,127,128,129,130,131,132,133,134,135,136,137,138,139,140,141,142,143,144,145,146,147,148,149],\"petal_length\":{\"__ndarray__\":\"ZmZmZmZm9j9mZmZmZmb2P83MzMzMzPQ/AAAAAAAA+D9mZmZmZmb2PzMzMzMzM/s/ZmZmZmZm9j8AAAAAAAD4P2ZmZmZmZvY/AAAAAAAA+D8AAAAAAAD4P5qZmZmZmfk/ZmZmZmZm9j+amZmZmZnxPzMzMzMzM/M/AAAAAAAA+D/NzMzMzMz0P2ZmZmZmZvY/MzMzMzMz+z8AAAAAAAD4PzMzMzMzM/s/AAAAAAAA+D8AAAAAAADwPzMzMzMzM/s/ZmZmZmZm/j+amZmZmZn5P5qZmZmZmfk/AAAAAAAA+D9mZmZmZmb2P5qZmZmZmfk/mpmZmZmZ+T8AAAAAAAD4PwAAAAAAAPg/ZmZmZmZm9j8AAAAAAAD4PzMzMzMzM/M/zczMzMzM9D9mZmZmZmb2P83MzMzMzPQ/AAAAAAAA+D/NzMzMzMz0P83MzMzMzPQ/zczMzMzM9D+amZmZmZn5P2ZmZmZmZv4/ZmZmZmZm9j+amZmZmZn5P2ZmZmZmZvY/AAAAAAAA+D9mZmZmZmb2P83MzMzMzBJAAAAAAAAAEkCamZmZmZkTQAAAAAAAABBAZmZmZmZmEkAAAAAAAAASQM3MzMzMzBJAZmZmZmZmCkBmZmZmZmYSQDMzMzMzMw9AAAAAAAAADEDNzMzMzMwQQAAAAAAAABBAzczMzMzMEkDNzMzMzMwMQJqZmZmZmRFAAAAAAAAAEkBmZmZmZmYQQAAAAAAAABJAMzMzMzMzD0AzMzMzMzMTQAAAAAAAABBAmpmZmZmZE0DNzMzMzMwSQDMzMzMzMxFAmpmZmZmZEUAzMzMzMzMTQAAAAAAAABRAAAAAAAAAEkAAAAAAAAAMQGZmZmZmZg5AmpmZmZmZDUAzMzMzMzMPQGZmZmZmZhRAAAAAAAAAEkAAAAAAAAASQM3MzMzMzBJAmpmZmZmZEUBmZmZmZmYQQAAAAAAAABBAmpmZmZmZEUBmZmZmZmYSQAAAAAAAABBAZmZmZmZmCkDNzMzMzMwQQM3MzMzMzBBAzczMzMzMEEAzMzMzMzMRQAAAAAAAAAhAZmZmZmZmEEAAAAAAAAAYQGZmZmZmZhRAmpmZmZmZF0BmZmZmZmYWQDMzMzMzMxdAZmZmZmZmGkAAAAAAAAASQDMzMzMzMxlAMzMzMzMzF0BmZmZmZmYYQGZmZmZmZhRAMzMzMzMzFUAAAAAAAAAWQAAAAAAAABRAZmZmZmZmFEAzMzMzMzMVQAAAAAAAABZAzczMzMzMGkCamZmZmZkbQAAAAAAAABRAzczMzMzMFkCamZmZmZkTQM3MzMzMzBpAmpmZmZmZE0DNzMzMzMwWQAAAAAAAABhAMzMzMzMzE0CamZmZmZkTQGZmZmZmZhZAMzMzMzMzF0BmZmZmZmYYQJqZmZmZmRlAZmZmZmZmFkBmZmZmZmYUQGZmZmZmZhZAZmZmZmZmGEBmZmZmZmYWQAAAAAAAABZAMzMzMzMzE0CamZmZmZkVQGZmZmZmZhZAZmZmZmZmFEBmZmZmZmYUQJqZmZmZmRdAzczMzMzMFkDNzMzMzMwUQAAAAAAAABRAzczMzMzMFECamZmZmZkVQGZmZmZmZhRA\",\"dtype\":\"float64\",\"shape\":[150]},\"petal_width\":{\"__ndarray__\":\"mpmZmZmZyT+amZmZmZnJP5qZmZmZmck/mpmZmZmZyT+amZmZmZnJP5qZmZmZmdk/MzMzMzMz0z+amZmZmZnJP5qZmZmZmck/mpmZmZmZuT+amZmZmZnJP5qZmZmZmck/mpmZmZmZuT+amZmZmZm5P5qZmZmZmck/mpmZmZmZ2T+amZmZmZnZPzMzMzMzM9M/MzMzMzMz0z8zMzMzMzPTP5qZmZmZmck/mpmZmZmZ2T+amZmZmZnJPwAAAAAAAOA/mpmZmZmZyT+amZmZmZnJP5qZmZmZmdk/mpmZmZmZyT+amZmZmZnJP5qZmZmZmck/mpmZmZmZyT+amZmZmZnZP5qZmZmZmbk/mpmZmZmZyT+amZmZmZnJP5qZmZmZmck/mpmZmZmZyT+amZmZmZm5P5qZmZmZmck/mpmZmZmZyT8zMzMzMzPTPzMzMzMzM9M/mpmZmZmZyT8zMzMzMzPjP5qZmZmZmdk/MzMzMzMz0z+amZmZmZnJP5qZmZmZmck/mpmZmZmZyT+amZmZmZnJP2ZmZmZmZvY/AAAAAAAA+D8AAAAAAAD4P83MzMzMzPQ/AAAAAAAA+D/NzMzMzMz0P5qZmZmZmfk/AAAAAAAA8D/NzMzMzMz0P2ZmZmZmZvY/AAAAAAAA8D8AAAAAAAD4PwAAAAAAAPA/ZmZmZmZm9j/NzMzMzMz0P2ZmZmZmZvY/AAAAAAAA+D8AAAAAAADwPwAAAAAAAPg/mpmZmZmZ8T/NzMzMzMz8P83MzMzMzPQ/AAAAAAAA+D8zMzMzMzPzP83MzMzMzPQ/ZmZmZmZm9j9mZmZmZmb2PzMzMzMzM/s/AAAAAAAA+D8AAAAAAADwP5qZmZmZmfE/AAAAAAAA8D8zMzMzMzPzP5qZmZmZmfk/AAAAAAAA+D+amZmZmZn5PwAAAAAAAPg/zczMzMzM9D/NzMzMzMz0P83MzMzMzPQ/MzMzMzMz8z9mZmZmZmb2PzMzMzMzM/M/AAAAAAAA8D/NzMzMzMz0PzMzMzMzM/M/zczMzMzM9D/NzMzMzMz0P5qZmZmZmfE/zczMzMzM9D8AAAAAAAAEQGZmZmZmZv4/zczMzMzMAEDNzMzMzMz8P5qZmZmZmQFAzczMzMzMAEAzMzMzMzP7P83MzMzMzPw/zczMzMzM/D8AAAAAAAAEQAAAAAAAAABAZmZmZmZm/j/NzMzMzMwAQAAAAAAAAABAMzMzMzMzA0BmZmZmZmYCQM3MzMzMzPw/mpmZmZmZAUBmZmZmZmYCQAAAAAAAAPg/ZmZmZmZmAkAAAAAAAAAAQAAAAAAAAABAzczMzMzM/D/NzMzMzMwAQM3MzMzMzPw/zczMzMzM/D/NzMzMzMz8P83MzMzMzABAmpmZmZmZ+T9mZmZmZmb+PwAAAAAAAABAmpmZmZmZAUAAAAAAAAD4P2ZmZmZmZvY/ZmZmZmZmAkAzMzMzMzMDQM3MzMzMzPw/zczMzMzM/D/NzMzMzMwAQDMzMzMzMwNAZmZmZmZmAkBmZmZmZmb+P2ZmZmZmZgJAAAAAAAAABEBmZmZmZmYCQGZmZmZmZv4/AAAAAAAAAEBmZmZmZmYCQM3MzMzMzPw/\",\"dtype\":\"float64\",\"shape\":[150]},\"sepal_length\":{\"__ndarray__\":\"ZmZmZmZmFECamZmZmZkTQM3MzMzMzBJAZmZmZmZmEkAAAAAAAAAUQJqZmZmZmRVAZmZmZmZmEkAAAAAAAAAUQJqZmZmZmRFAmpmZmZmZE0CamZmZmZkVQDMzMzMzMxNAMzMzMzMzE0AzMzMzMzMRQDMzMzMzMxdAzczMzMzMFkCamZmZmZkVQGZmZmZmZhRAzczMzMzMFkBmZmZmZmYUQJqZmZmZmRVAZmZmZmZmFEBmZmZmZmYSQGZmZmZmZhRAMzMzMzMzE0AAAAAAAAAUQAAAAAAAABRAzczMzMzMFEDNzMzMzMwUQM3MzMzMzBJAMzMzMzMzE0CamZmZmZkVQM3MzMzMzBRAAAAAAAAAFkCamZmZmZkTQAAAAAAAABRAAAAAAAAAFkCamZmZmZkTQJqZmZmZmRFAZmZmZmZmFEAAAAAAAAAUQAAAAAAAABJAmpmZmZmZEUAAAAAAAAAUQGZmZmZmZhRAMzMzMzMzE0BmZmZmZmYUQGZmZmZmZhJAMzMzMzMzFUAAAAAAAAAUQAAAAAAAABxAmpmZmZmZGUCamZmZmZkbQAAAAAAAABZAAAAAAAAAGkDNzMzMzMwWQDMzMzMzMxlAmpmZmZmZE0BmZmZmZmYaQM3MzMzMzBRAAAAAAAAAFECamZmZmZkXQAAAAAAAABhAZmZmZmZmGEBmZmZmZmYWQM3MzMzMzBpAZmZmZmZmFkAzMzMzMzMXQM3MzMzMzBhAZmZmZmZmFkCamZmZmZkXQGZmZmZmZhhAMzMzMzMzGUBmZmZmZmYYQJqZmZmZmRlAZmZmZmZmGkAzMzMzMzMbQM3MzMzMzBpAAAAAAAAAGEDNzMzMzMwWQAAAAAAAABZAAAAAAAAAFkAzMzMzMzMXQAAAAAAAABhAmpmZmZmZFUAAAAAAAAAYQM3MzMzMzBpAMzMzMzMzGUBmZmZmZmYWQAAAAAAAABZAAAAAAAAAFkBmZmZmZmYYQDMzMzMzMxdAAAAAAAAAFEBmZmZmZmYWQM3MzMzMzBZAzczMzMzMFkDNzMzMzMwYQGZmZmZmZhRAzczMzMzMFkAzMzMzMzMZQDMzMzMzMxdAZmZmZmZmHEAzMzMzMzMZQAAAAAAAABpAZmZmZmZmHkCamZmZmZkTQDMzMzMzMx1AzczMzMzMGkDNzMzMzMwcQAAAAAAAABpAmpmZmZmZGUAzMzMzMzMbQM3MzMzMzBZAMzMzMzMzF0CamZmZmZkZQAAAAAAAABpAzczMzMzMHkDNzMzMzMweQAAAAAAAABhAmpmZmZmZG0BmZmZmZmYWQM3MzMzMzB5AMzMzMzMzGUDNzMzMzMwaQM3MzMzMzBxAzczMzMzMGEBmZmZmZmYYQJqZmZmZmRlAzczMzMzMHECamZmZmZkdQJqZmZmZmR9AmpmZmZmZGUAzMzMzMzMZQGZmZmZmZhhAzczMzMzMHkAzMzMzMzMZQJqZmZmZmRlAAAAAAAAAGECamZmZmZkbQM3MzMzMzBpAmpmZmZmZG0AzMzMzMzMXQDMzMzMzMxtAzczMzMzMGkDNzMzMzMwaQDMzMzMzMxlAAAAAAAAAGkDNzMzMzMwYQJqZmZmZmRdA\",\"dtype\":\"float64\",\"shape\":[150]},\"sepal_width\":{\"__ndarray__\":\"AAAAAAAADEAAAAAAAAAIQJqZmZmZmQlAzczMzMzMCEDNzMzMzMwMQDMzMzMzMw9AMzMzMzMzC0AzMzMzMzMLQDMzMzMzMwdAzczMzMzMCECamZmZmZkNQDMzMzMzMwtAAAAAAAAACEAAAAAAAAAIQAAAAAAAABBAmpmZmZmZEUAzMzMzMzMPQAAAAAAAAAxAZmZmZmZmDkBmZmZmZmYOQDMzMzMzMwtAmpmZmZmZDUDNzMzMzMwMQGZmZmZmZgpAMzMzMzMzC0AAAAAAAAAIQDMzMzMzMwtAAAAAAAAADEAzMzMzMzMLQJqZmZmZmQlAzczMzMzMCEAzMzMzMzMLQGZmZmZmZhBAzczMzMzMEEDNzMzMzMwIQJqZmZmZmQlAAAAAAAAADEDNzMzMzMwMQAAAAAAAAAhAMzMzMzMzC0AAAAAAAAAMQGZmZmZmZgJAmpmZmZmZCUAAAAAAAAAMQGZmZmZmZg5AAAAAAAAACEBmZmZmZmYOQJqZmZmZmQlAmpmZmZmZDUBmZmZmZmYKQJqZmZmZmQlAmpmZmZmZCUDNzMzMzMwIQGZmZmZmZgJAZmZmZmZmBkBmZmZmZmYGQGZmZmZmZgpAMzMzMzMzA0AzMzMzMzMHQJqZmZmZmQVAAAAAAAAAAEAAAAAAAAAIQJqZmZmZmQFAMzMzMzMzB0AzMzMzMzMHQM3MzMzMzAhAAAAAAAAACECamZmZmZkFQJqZmZmZmQFAAAAAAAAABECamZmZmZkJQGZmZmZmZgZAAAAAAAAABEBmZmZmZmYGQDMzMzMzMwdAAAAAAAAACEBmZmZmZmYGQAAAAAAAAAhAMzMzMzMzB0DNzMzMzMwEQDMzMzMzMwNAMzMzMzMzA0CamZmZmZkFQJqZmZmZmQVAAAAAAAAACEAzMzMzMzMLQM3MzMzMzAhAZmZmZmZmAkAAAAAAAAAIQAAAAAAAAARAzczMzMzMBEAAAAAAAAAIQM3MzMzMzARAZmZmZmZmAkCamZmZmZkFQAAAAAAAAAhAMzMzMzMzB0AzMzMzMzMHQAAAAAAAAARAZmZmZmZmBkBmZmZmZmYKQJqZmZmZmQVAAAAAAAAACEAzMzMzMzMHQAAAAAAAAAhAAAAAAAAACEAAAAAAAAAEQDMzMzMzMwdAAAAAAAAABEDNzMzMzMwMQJqZmZmZmQlAmpmZmZmZBUAAAAAAAAAIQAAAAAAAAARAZmZmZmZmBkCamZmZmZkJQAAAAAAAAAhAZmZmZmZmDkDNzMzMzMwEQJqZmZmZmQFAmpmZmZmZCUBmZmZmZmYGQGZmZmZmZgZAmpmZmZmZBUBmZmZmZmYKQJqZmZmZmQlAZmZmZmZmBkAAAAAAAAAIQGZmZmZmZgZAAAAAAAAACEBmZmZmZmYGQGZmZmZmZg5AZmZmZmZmBkBmZmZmZmYGQM3MzMzMzARAAAAAAAAACEAzMzMzMzMLQM3MzMzMzAhAAAAAAAAACEDNzMzMzMwIQM3MzMzMzAhAzczMzMzMCECamZmZmZkFQJqZmZmZmQlAZmZmZmZmCkAAAAAAAAAIQAAAAAAAAARAAAAAAAAACEAzMzMzMzMLQAAAAAAAAAhA\",\"dtype\":\"float64\",\"shape\":[150]},\"species\":[\"setosa\",\"setosa\",\"setosa\",\"setosa\",\"setosa\",\"setosa\",\"setosa\",\"setosa\",\"setosa\",\"setosa\",\"setosa\",\"setosa\",\"setosa\",\"setosa\",\"setosa\",\"setosa\",\"setosa\",\"setosa\",\"setosa\",\"setosa\",\"setosa\",\"setosa\",\"setosa\",\"setosa\",\"setosa\",\"setosa\",\"setosa\",\"setosa\",\"setosa\",\"setosa\",\"setosa\",\"setosa\",\"setosa\",\"setosa\",\"setosa\",\"setosa\",\"setosa\",\"setosa\",\"setosa\",\"setosa\",\"setosa\",\"setosa\",\"setosa\",\"setosa\",\"setosa\",\"setosa\",\"setosa\",\"setosa\",\"setosa\",\"setosa\",\"versicolor\",\"versicolor\",\"versicolor\",\"versicolor\",\"versicolor\",\"versicolor\",\"versicolor\",\"versicolor\",\"versicolor\",\"versicolor\",\"versicolor\",\"versicolor\",\"versicolor\",\"versicolor\",\"versicolor\",\"versicolor\",\"versicolor\",\"versicolor\",\"versicolor\",\"versicolor\",\"versicolor\",\"versicolor\",\"versicolor\",\"versicolor\",\"versicolor\",\"versicolor\",\"versicolor\",\"versicolor\",\"versicolor\",\"versicolor\",\"versicolor\",\"versicolor\",\"versicolor\",\"versicolor\",\"versicolor\",\"versicolor\",\"versicolor\",\"versicolor\",\"versicolor\",\"versicolor\",\"versicolor\",\"versicolor\",\"versicolor\",\"versicolor\",\"versicolor\",\"versicolor\",\"versicolor\",\"versicolor\",\"versicolor\",\"versicolor\",\"virginica\",\"virginica\",\"virginica\",\"virginica\",\"virginica\",\"virginica\",\"virginica\",\"virginica\",\"virginica\",\"virginica\",\"virginica\",\"virginica\",\"virginica\",\"virginica\",\"virginica\",\"virginica\",\"virginica\",\"virginica\",\"virginica\",\"virginica\",\"virginica\",\"virginica\",\"virginica\",\"virginica\",\"virginica\",\"virginica\",\"virginica\",\"virginica\",\"virginica\",\"virginica\",\"virginica\",\"virginica\",\"virginica\",\"virginica\",\"virginica\",\"virginica\",\"virginica\",\"virginica\",\"virginica\",\"virginica\",\"virginica\",\"virginica\",\"virginica\",\"virginica\",\"virginica\",\"virginica\",\"virginica\",\"virginica\",\"virginica\",\"virginica\"]},\"selected\":{\"id\":\"5909\",\"type\":\"Selection\"},\"selection_policy\":{\"id\":\"5908\",\"type\":\"UnionRenderers\"}},\"id\":\"5504\",\"type\":\"ColumnDataSource\"},{\"attributes\":{\"callback\":null},\"id\":\"5508\",\"type\":\"DataRange1d\"},{\"attributes\":{},\"id\":\"5898\",\"type\":\"BasicTickFormatter\"},{\"attributes\":{\"below\":[{\"id\":\"5516\",\"type\":\"LinearAxis\"}],\"center\":[{\"id\":\"5520\",\"type\":\"Grid\"},{\"id\":\"5525\",\"type\":\"Grid\"}],\"left\":[{\"id\":\"5521\",\"type\":\"LinearAxis\"}],\"plot_height\":400,\"plot_width\":400,\"renderers\":[{\"id\":\"5542\",\"type\":\"GlyphRenderer\"}],\"title\":{\"id\":\"5506\",\"type\":\"Title\"},\"toolbar\":{\"id\":\"5532\",\"type\":\"Toolbar\"},\"x_range\":{\"id\":\"5508\",\"type\":\"DataRange1d\"},\"x_scale\":{\"id\":\"5512\",\"type\":\"LinearScale\"},\"y_range\":{\"id\":\"5510\",\"type\":\"DataRange1d\"},\"y_scale\":{\"id\":\"5514\",\"type\":\"LinearScale\"}},\"id\":\"5505\",\"subtype\":\"Figure\",\"type\":\"Plot\"},{\"attributes\":{\"fill_color\":{\"value\":\"gold\"},\"line_color\":{\"value\":\"gold\"},\"x\":{\"field\":\"sepal_width\"},\"y\":{\"field\":\"petal_width\"}},\"id\":\"5657\",\"type\":\"Circle\"},{\"attributes\":{\"text\":\"Petal Length vs. Sepal Length\"},\"id\":\"5506\",\"type\":\"Title\"},{\"attributes\":{\"child\":{\"id\":\"5665\",\"type\":\"Row\"},\"title\":\"Tab 3\"},\"id\":\"5666\",\"type\":\"Panel\"},{\"attributes\":{},\"id\":\"5514\",\"type\":\"LinearScale\"},{\"attributes\":{},\"id\":\"5902\",\"type\":\"BasicTickFormatter\"},{\"attributes\":{},\"id\":\"5643\",\"type\":\"PanTool\"},{\"attributes\":{},\"id\":\"5904\",\"type\":\"BasicTickFormatter\"},{\"attributes\":{},\"id\":\"5644\",\"type\":\"WheelZoomTool\"},{\"attributes\":{},\"id\":\"5908\",\"type\":\"UnionRenderers\"},{\"attributes\":{\"overlay\":{\"id\":\"5921\",\"type\":\"BoxAnnotation\"}},\"id\":\"5645\",\"type\":\"BoxZoomTool\"},{\"attributes\":{},\"id\":\"5646\",\"type\":\"SaveTool\"}],\"root_ids\":[\"5667\"]},\"title\":\"Bokeh Application\",\"version\":\"1.2.0\"}};\n",
       "  var render_items = [{\"docid\":\"8e8d68d8-cde7-4a56-bfb1-4f965d5c9235\",\"roots\":{\"5667\":\"6541529d-a4c0-483b-9c6a-6dc87a4a9152\"}}];\n",
       "  root.Bokeh.embed.embed_items_notebook(docs_json, render_items);\n",
       "\n",
       "  }\n",
       "  if (root.Bokeh !== undefined) {\n",
       "    embed_document(root);\n",
       "  } else {\n",
       "    var attempts = 0;\n",
       "    var timer = setInterval(function(root) {\n",
       "      if (root.Bokeh !== undefined) {\n",
       "        embed_document(root);\n",
       "        clearInterval(timer);\n",
       "      }\n",
       "      attempts++;\n",
       "      if (attempts > 100) {\n",
       "        console.log(\"Bokeh: ERROR: Unable to run BokehJS code because BokehJS library is missing\");\n",
       "        clearInterval(timer);\n",
       "      }\n",
       "    }, 10, root)\n",
       "  }\n",
       "})(window);"
      ],
      "application/vnd.bokehjs_exec.v0+json": ""
     },
     "metadata": {
      "application/vnd.bokehjs_exec.v0+json": {
       "id": "5667"
      }
     },
     "output_type": "display_data"
    }
   ],
   "source": [
    "tab1 = Panel(child=p1, title='Tab 1')\n",
    "tab2 = Panel(child=p2, title='Tab 2')\n",
    "tab3 = Panel(child=row(p3, p4), title='Tab 3')\n",
    "\n",
    "tabs = Tabs(tabs=[tab1, tab2, tab3])\n",
    "show(tabs)\n",
    "# tab을 생성 tab 1 2 3"
   ]
  },
  {
   "cell_type": "code",
   "execution_count": 44,
   "metadata": {
    "colab": {},
    "colab_type": "code",
    "id": "QKk9v-EM3ugc"
   },
   "outputs": [],
   "source": [
    "import pandas as pd\n",
    "import numpy as np"
   ]
  },
  {
   "cell_type": "code",
   "execution_count": 45,
   "metadata": {
    "colab": {},
    "colab_type": "code",
    "id": "21HPzemC3ucM"
   },
   "outputs": [],
   "source": [
    "temp = pd.read_csv('C:/Users/bighan/Downloads/esc시각화스터디/temp.csv')"
   ]
  },
  {
   "cell_type": "code",
   "execution_count": 46,
   "metadata": {
    "colab": {
     "base_uri": "https://localhost:8080/",
     "height": 204
    },
    "colab_type": "code",
    "id": "xRwz4juD6V9b",
    "outputId": "fbc675f9-8201-4acc-ec2f-f152ec27d547"
   },
   "outputs": [
    {
     "data": {
      "text/html": [
       "<div>\n",
       "<style scoped>\n",
       "    .dataframe tbody tr th:only-of-type {\n",
       "        vertical-align: middle;\n",
       "    }\n",
       "\n",
       "    .dataframe tbody tr th {\n",
       "        vertical-align: top;\n",
       "    }\n",
       "\n",
       "    .dataframe thead th {\n",
       "        text-align: right;\n",
       "    }\n",
       "</style>\n",
       "<table border=\"1\" class=\"dataframe\">\n",
       "  <thead>\n",
       "    <tr style=\"text-align: right;\">\n",
       "      <th></th>\n",
       "      <th>date</th>\n",
       "      <th>avg_temp</th>\n",
       "      <th>min_temp</th>\n",
       "      <th>max_temp</th>\n",
       "    </tr>\n",
       "  </thead>\n",
       "  <tbody>\n",
       "    <tr>\n",
       "      <th>0</th>\n",
       "      <td>1</td>\n",
       "      <td>21.1</td>\n",
       "      <td>18.1</td>\n",
       "      <td>24.3</td>\n",
       "    </tr>\n",
       "    <tr>\n",
       "      <th>1</th>\n",
       "      <td>2</td>\n",
       "      <td>24.2</td>\n",
       "      <td>20.4</td>\n",
       "      <td>29.8</td>\n",
       "    </tr>\n",
       "    <tr>\n",
       "      <th>2</th>\n",
       "      <td>3</td>\n",
       "      <td>25.5</td>\n",
       "      <td>21.6</td>\n",
       "      <td>30.6</td>\n",
       "    </tr>\n",
       "    <tr>\n",
       "      <th>3</th>\n",
       "      <td>4</td>\n",
       "      <td>24.2</td>\n",
       "      <td>20.4</td>\n",
       "      <td>29.5</td>\n",
       "    </tr>\n",
       "    <tr>\n",
       "      <th>4</th>\n",
       "      <td>5</td>\n",
       "      <td>23.8</td>\n",
       "      <td>19.9</td>\n",
       "      <td>27.6</td>\n",
       "    </tr>\n",
       "  </tbody>\n",
       "</table>\n",
       "</div>"
      ],
      "text/plain": [
       "   date  avg_temp  min_temp  max_temp\n",
       "0     1      21.1      18.1      24.3\n",
       "1     2      24.2      20.4      29.8\n",
       "2     3      25.5      21.6      30.6\n",
       "3     4      24.2      20.4      29.5\n",
       "4     5      23.8      19.9      27.6"
      ]
     },
     "execution_count": 46,
     "metadata": {},
     "output_type": "execute_result"
    }
   ],
   "source": [
    "temp.head()"
   ]
  },
  {
   "cell_type": "code",
   "execution_count": 47,
   "metadata": {
    "colab": {},
    "colab_type": "code",
    "id": "kmkdMZk_6WFd"
   },
   "outputs": [],
   "source": [
    "from bokeh.io import push_notebook\n",
    "import ipywidgets as widgets\n",
    "from ipywidgets import interact\n",
    "from ipywidgets.embed import embed_minimal_html"
   ]
  },
  {
   "cell_type": "code",
   "execution_count": 48,
   "metadata": {
    "colab": {
     "base_uri": "https://localhost:8080/",
     "height": 699,
     "referenced_widgets": [
      "8e86612d85ec4bd78b47c70567da1393",
      "40374bc2f6474ddb83eeee179fadfb3c",
      "be53d2c819704a128734cbac40d0b842",
      "1b0fa55543cc42e89ab7b300ff7b1c2f",
      "b8879f9e3a6144cfbdbeeac60c1d0750",
      "66d4e52a1ab74317927b078a4c0fb819",
      "baa88efa47814b468899770127ff69cf",
      "b4725c6c136f4ef4a8cf9663935e2876",
      "336d1c5ade824b19bda9bff5505cf081",
      "b89dfeeb8c544676af5aba594f5203c2"
     ]
    },
    "colab_type": "code",
    "id": "vy3W21ar6WK9",
    "outputId": "55387159-c426-47cb-85eb-c5892ffb5e63"
   },
   "outputs": [
    {
     "data": {
      "text/html": [
       "\n",
       "\n",
       "\n",
       "\n",
       "\n",
       "\n",
       "  <div class=\"bk-root\" id=\"e18be10a-0704-46df-864c-b0a63c5a1535\" data-root-id=\"6244\"></div>\n"
      ]
     },
     "metadata": {},
     "output_type": "display_data"
    },
    {
     "data": {
      "application/javascript": [
       "(function(root) {\n",
       "  function embed_document(root) {\n",
       "    \n",
       "  var docs_json = {\"d566393f-a8b2-462c-9437-11c11521d9ea\":{\"roots\":{\"references\":[{\"attributes\":{\"below\":[{\"id\":\"6253\",\"type\":\"LinearAxis\"}],\"center\":[{\"id\":\"6257\",\"type\":\"Grid\"},{\"id\":\"6262\",\"type\":\"Grid\"}],\"left\":[{\"id\":\"6258\",\"type\":\"LinearAxis\"}],\"renderers\":[{\"id\":\"6279\",\"type\":\"GlyphRenderer\"}],\"title\":{\"id\":\"6535\",\"type\":\"Title\"},\"toolbar\":{\"id\":\"6269\",\"type\":\"Toolbar\"},\"x_range\":{\"id\":\"6245\",\"type\":\"DataRange1d\"},\"x_scale\":{\"id\":\"6249\",\"type\":\"LinearScale\"},\"y_range\":{\"id\":\"6247\",\"type\":\"DataRange1d\"},\"y_scale\":{\"id\":\"6251\",\"type\":\"LinearScale\"}},\"id\":\"6244\",\"subtype\":\"Figure\",\"type\":\"Plot\"},{\"attributes\":{},\"id\":\"6537\",\"type\":\"BasicTickFormatter\"},{\"attributes\":{\"ticker\":{\"id\":\"6254\",\"type\":\"BasicTicker\"}},\"id\":\"6257\",\"type\":\"Grid\"},{\"attributes\":{\"source\":{\"id\":\"6243\",\"type\":\"ColumnDataSource\"}},\"id\":\"6280\",\"type\":\"CDSView\"},{\"attributes\":{\"formatter\":{\"id\":\"6537\",\"type\":\"BasicTickFormatter\"},\"ticker\":{\"id\":\"6259\",\"type\":\"BasicTicker\"}},\"id\":\"6258\",\"type\":\"LinearAxis\"},{\"attributes\":{},\"id\":\"6541\",\"type\":\"UnionRenderers\"},{\"attributes\":{},\"id\":\"6259\",\"type\":\"BasicTicker\"},{\"attributes\":{\"dimension\":1,\"ticker\":{\"id\":\"6259\",\"type\":\"BasicTicker\"}},\"id\":\"6262\",\"type\":\"Grid\"},{\"attributes\":{\"fill_color\":{\"value\":\"#1f77b4\"},\"line_color\":{\"value\":\"#1f77b4\"},\"x\":{\"field\":\"min_temp\"},\"y\":{\"field\":\"max_temp\"}},\"id\":\"6277\",\"type\":\"Circle\"},{\"attributes\":{},\"id\":\"6539\",\"type\":\"BasicTickFormatter\"},{\"attributes\":{},\"id\":\"6263\",\"type\":\"PanTool\"},{\"attributes\":{},\"id\":\"6264\",\"type\":\"WheelZoomTool\"},{\"attributes\":{\"callback\":null,\"data\":{\"avg_temp\":{\"__ndarray__\":\"mpmZmZkZNUAzMzMzMzM4QAAAAAAAgDlAMzMzMzMzOEDNzMzMzMw3QJqZmZmZmTlAmpmZmZkZOEAAAAAAAIA5QAAAAAAAgDtAAAAAAACAOEDNzMzMzMw5QAAAAAAAgDdAMzMzMzOzMkDNzMzMzEw0QGZmZmZmZjdAAAAAAAAAOUAAAAAAAAA6QJqZmZmZGTpAAAAAAAAAOEDNzMzMzMw3QAAAAAAAADlAMzMzMzOzN0CamZmZmRk1QAAAAAAAgDZAzczMzMxMOEBmZmZmZmY5QM3MzMzMTDhAZmZmZmZmOEAzMzMzM7M3QM3MzMzMTDlAMzMzMzMzOkA=\",\"dtype\":\"float64\",\"shape\":[31]},\"date\":[1,2,3,4,5,6,7,8,9,10,11,12,13,14,15,16,17,18,19,20,21,22,23,24,25,26,27,28,29,30,31],\"index\":[0,1,2,3,4,5,6,7,8,9,10,11,12,13,14,15,16,17,18,19,20,21,22,23,24,25,26,27,28,29,30],\"max_temp\":{\"__ndarray__\":\"zczMzMxMOEDNzMzMzMw9QJqZmZmZmT5AAAAAAACAPUCamZmZmZk7QGZmZmZm5j5AmpmZmZkZPEBmZmZmZmY+QDMzMzMzc0BAMzMzMzOzO0AzMzMzMzM+QAAAAAAAADpAMzMzMzOzNUDNzMzMzEw4QDMzMzMzszxAMzMzMzOzPUCamZmZmZk/QAAAAAAAAD9AmpmZmZmZOkCamZmZmZk6QAAAAAAAgD5AMzMzMzOzOUCamZmZmZk2QM3MzMzMzDpAAAAAAAAAPUCamZmZmZk9QAAAAAAAgDlAZmZmZmZmOkBmZmZmZuY4QGZmZmZmZjxAmpmZmZmZPUA=\",\"dtype\":\"float64\",\"shape\":[31]},\"min_temp\":{\"__ndarray__\":\"mpmZmZkZMkBmZmZmZmY0QJqZmZmZmTVAZmZmZmZmNEBmZmZmZuYzQM3MzMzMzDVAmpmZmZkZNkDNzMzMzEw1QM3MzMzMzDVAMzMzMzOzNkAzMzMzMzM2QDMzMzMzszVAMzMzMzOzMUAzMzMzMzMxQGZmZmZm5jJAZmZmZmZmNEAAAAAAAIA1QM3MzMzMzDZAmpmZmZmZNEBmZmZmZmY2QGZmZmZmZjVAmpmZmZmZNkAAAAAAAIAyQDMzMzMzszJAzczMzMxMNkCamZmZmZk1QGZmZmZm5jZAMzMzMzOzNkCamZmZmZk2QGZmZmZmZjdAzczMzMzMNkA=\",\"dtype\":\"float64\",\"shape\":[31]}},\"selected\":{\"id\":\"6542\",\"type\":\"Selection\"},\"selection_policy\":{\"id\":\"6541\",\"type\":\"UnionRenderers\"}},\"id\":\"6243\",\"type\":\"ColumnDataSource\"},{\"attributes\":{\"overlay\":{\"id\":\"6543\",\"type\":\"BoxAnnotation\"}},\"id\":\"6265\",\"type\":\"BoxZoomTool\"},{\"attributes\":{\"bottom_units\":\"screen\",\"fill_alpha\":{\"value\":0.5},\"fill_color\":{\"value\":\"lightgrey\"},\"left_units\":\"screen\",\"level\":\"overlay\",\"line_alpha\":{\"value\":1.0},\"line_color\":{\"value\":\"black\"},\"line_dash\":[4,4],\"line_width\":{\"value\":2},\"render_mode\":\"css\",\"right_units\":\"screen\",\"top_units\":\"screen\"},\"id\":\"6543\",\"type\":\"BoxAnnotation\"},{\"attributes\":{},\"id\":\"6266\",\"type\":\"SaveTool\"},{\"attributes\":{},\"id\":\"6249\",\"type\":\"LinearScale\"},{\"attributes\":{},\"id\":\"6267\",\"type\":\"ResetTool\"},{\"attributes\":{\"text\":\"\"},\"id\":\"6535\",\"type\":\"Title\"},{\"attributes\":{},\"id\":\"6268\",\"type\":\"HelpTool\"},{\"attributes\":{\"data_source\":{\"id\":\"6243\",\"type\":\"ColumnDataSource\"},\"glyph\":{\"id\":\"6277\",\"type\":\"Circle\"},\"hover_glyph\":null,\"muted_glyph\":null,\"nonselection_glyph\":{\"id\":\"6278\",\"type\":\"Circle\"},\"selection_glyph\":null,\"view\":{\"id\":\"6280\",\"type\":\"CDSView\"}},\"id\":\"6279\",\"type\":\"GlyphRenderer\"},{\"attributes\":{\"active_drag\":\"auto\",\"active_inspect\":\"auto\",\"active_multi\":null,\"active_scroll\":\"auto\",\"active_tap\":\"auto\",\"tools\":[{\"id\":\"6263\",\"type\":\"PanTool\"},{\"id\":\"6264\",\"type\":\"WheelZoomTool\"},{\"id\":\"6265\",\"type\":\"BoxZoomTool\"},{\"id\":\"6266\",\"type\":\"SaveTool\"},{\"id\":\"6267\",\"type\":\"ResetTool\"},{\"id\":\"6268\",\"type\":\"HelpTool\"}]},\"id\":\"6269\",\"type\":\"Toolbar\"},{\"attributes\":{\"callback\":null},\"id\":\"6247\",\"type\":\"DataRange1d\"},{\"attributes\":{},\"id\":\"6542\",\"type\":\"Selection\"},{\"attributes\":{\"fill_alpha\":{\"value\":0.1},\"fill_color\":{\"value\":\"#1f77b4\"},\"line_alpha\":{\"value\":0.1},\"line_color\":{\"value\":\"#1f77b4\"},\"x\":{\"field\":\"min_temp\"},\"y\":{\"field\":\"max_temp\"}},\"id\":\"6278\",\"type\":\"Circle\"},{\"attributes\":{\"callback\":null},\"id\":\"6245\",\"type\":\"DataRange1d\"},{\"attributes\":{},\"id\":\"6251\",\"type\":\"LinearScale\"},{\"attributes\":{\"formatter\":{\"id\":\"6539\",\"type\":\"BasicTickFormatter\"},\"ticker\":{\"id\":\"6254\",\"type\":\"BasicTicker\"}},\"id\":\"6253\",\"type\":\"LinearAxis\"},{\"attributes\":{},\"id\":\"6254\",\"type\":\"BasicTicker\"}],\"root_ids\":[\"6244\"]},\"title\":\"Bokeh Application\",\"version\":\"1.2.0\"}};\n",
       "  var render_items = [{\"docid\":\"d566393f-a8b2-462c-9437-11c11521d9ea\",\"notebook_comms_target\":\"6544\",\"roots\":{\"6244\":\"e18be10a-0704-46df-864c-b0a63c5a1535\"}}];\n",
       "  root.Bokeh.embed.embed_items_notebook(docs_json, render_items);\n",
       "\n",
       "  }\n",
       "  if (root.Bokeh !== undefined) {\n",
       "    embed_document(root);\n",
       "  } else {\n",
       "    var attempts = 0;\n",
       "    var timer = setInterval(function(root) {\n",
       "      if (root.Bokeh !== undefined) {\n",
       "        embed_document(root);\n",
       "        clearInterval(timer);\n",
       "      }\n",
       "      attempts++;\n",
       "      if (attempts > 100) {\n",
       "        console.log(\"Bokeh: ERROR: Unable to run BokehJS code because BokehJS library is missing\");\n",
       "        clearInterval(timer);\n",
       "      }\n",
       "    }, 10, root)\n",
       "  }\n",
       "})(window);"
      ],
      "application/vnd.bokehjs_exec.v0+json": ""
     },
     "metadata": {
      "application/vnd.bokehjs_exec.v0+json": {
       "id": "6244"
      }
     },
     "output_type": "display_data"
    },
    {
     "data": {
      "application/vnd.jupyter.widget-view+json": {
       "model_id": "44a808554270460ea870ebd4c3f7a34f",
       "version_major": 2,
       "version_minor": 0
      },
      "text/plain": [
       "interactive(children=(IntSlider(value=1, description='v1', max=31, min=1), IntSlider(value=10, description='v2…"
      ]
     },
     "metadata": {},
     "output_type": "display_data"
    },
    {
     "data": {
      "text/plain": [
       "<function __main__.update(v1, v2)>"
      ]
     },
     "execution_count": 48,
     "metadata": {},
     "output_type": "execute_result"
    }
   ],
   "source": [
    "source = ColumnDataSource(temp)\n",
    "\n",
    "p = figure()\n",
    "p.circle('min_temp','max_temp',source=source)\n",
    "\n",
    "def update(v1,v2):\n",
    "    new_min = temp[(v1<temp['date']) & (temp['date']<=v2)]['min_temp']\n",
    "    new_max = temp[(v1<temp['date']) & (temp['date']<=v2)]['max_temp']\n",
    "    source.data = {'min_temp': new_min, 'max_temp':new_max}\n",
    "    push_notebook()\n",
    "    \n",
    "show(p, notebook_handle=True)\n",
    "interact(update, v1=widgets.IntSlider(min=1,max=31,step=1,value=1),\n",
    "        v2=widgets.IntSlider(min=1,max=31,step=1,value=10))\n",
    "# value 초기값"
   ]
  },
  {
   "cell_type": "code",
   "execution_count": 49,
   "metadata": {
    "colab": {
     "base_uri": "https://localhost:8080/",
     "height": 177,
     "referenced_widgets": [
      "3851cea748d7447dab050fc9228388b8",
      "f7f7ed9e148445c986cfe46ebdde9f05",
      "27022ffbf0c84f4891d45cb5eee9533d",
      "2577b3edd13b4730931354f13d0f4392",
      "35451581e614414a8b51847a229748b6",
      "a46eeec951194a7797fbb047d8314f05",
      "537f8e9e11c74277a290d37659a85d15",
      "3154ff31813b4ac990ee47ff4043bebd",
      "322951b8ec0441dea2fad47f38cdb1e3",
      "6c66ff4431db446d84672800612042c4",
      "b8f1d998646a465489a57fd451ce778e",
      "4e7aa783e1484a05b731854e79b95ac4",
      "2859c34f5c0a409ab87f92b330a8d0b3",
      "96b4a6d4654f47e28b33a9b25aecfd1f",
      "639d323e301340228dc6b314f32d5a53",
      "97f6564fa34b44e1b109daa216d7a489",
      "7d0553a486644a71b3bfb699ca214c65",
      "fbd9f94b60514f678dbf0466df067ebf",
      "869bb7fbfaa349288fc8f4cce71e715c"
     ]
    },
    "colab_type": "code",
    "id": "ZfFr_oQ57rHR",
    "outputId": "f188d702-157a-4f6b-812c-846dced36de2"
   },
   "outputs": [
    {
     "data": {
      "application/vnd.jupyter.widget-view+json": {
       "model_id": "54b740f4d2084947ad76bfb6075e2467",
       "version_major": 2,
       "version_minor": 0
      },
      "text/plain": [
       "interactive(children=(Dropdown(description='c1', options=('red', 'blue', 'green'), value='red'), Dropdown(desc…"
      ]
     },
     "metadata": {},
     "output_type": "display_data"
    }
   ],
   "source": [
    "source = ColumnDataSource(temp)\n",
    "\n",
    "cp = ['red','blue','green']\n",
    "@interact(c1=cp, c2=cp, c3=cp, w=(300,500), h=(400,600))\n",
    "\n",
    "def color(c1, c2, c3, w, h):\n",
    "    p = figure(plot_width=w, plot_height=h)\n",
    "    p.circle(x='date', y='min_temp', color=c1,source=source)\n",
    "    p.line(x='date', y='avg_temp', color=c2,source=source)\n",
    "    p.circle(x='date', y='max_temp', color=c3,source=source)\n",
    "    show(p)\n",
    "\n",
    "# @interact 안에 내가 조정하고픈 변수를 리스트로 넣어줌 ()는 슬라이더"
   ]
  },
  {
   "cell_type": "code",
   "execution_count": 50,
   "metadata": {
    "colab": {
     "base_uri": "https://localhost:8080/",
     "height": 81,
     "referenced_widgets": [
      "c489314242de42658ab4ce7feac9f713",
      "fbce027e31d0468281e017f49b25dfd8",
      "35b0dc472fba431a82a0a1d388d2e68c",
      "0af6c74c81e8435d86a13e850ef8b796",
      "f1a4ea2cfb2f498591f133e3ba7f33b7",
      "671f8d5eb3cd4ffab9f391d7e9df3024",
      "b106d9c079a4418d8532178bb9a927ab",
      "c60e8a9650f94627bfa6e6c4a6efbbbc",
      "0fe09dcc07c3455c825a04f0af1a7a92",
      "1ffe8db615ee4c71bbda956522fd38eb"
     ]
    },
    "colab_type": "code",
    "id": "R4SexzVl7rV2",
    "outputId": "324f4cd6-494e-4b59-a448-e8d404559126"
   },
   "outputs": [
    {
     "data": {
      "application/vnd.jupyter.widget-view+json": {
       "model_id": "1d1f2c116b9045c7943c82344d961e8c",
       "version_major": 2,
       "version_minor": 0
      },
      "text/plain": [
       "interactive(children=(Dropdown(description='mu', options=(0, 1, 2, 3), value=0), IntSlider(value=3, descriptio…"
      ]
     },
     "metadata": {},
     "output_type": "display_data"
    }
   ],
   "source": [
    "x = np.linspace(-5,5,100)\n",
    "@interact(mu=[0,1,2,3],sigma=(1,5))\n",
    "\n",
    "def update(mu, sigma):\n",
    "    p = figure(plot_width=800, plot_height=400)\n",
    "    new_y = 1/(sigma * np.sqrt(2 * np.pi)) * np.exp(-(x-mu)**2 / (2 * sigma **2))\n",
    "    p.line(x,new_y, color=\"#2222aa\", line_width=3)\n",
    "    show(p)"
   ]
  },
  {
   "cell_type": "code",
   "execution_count": 51,
   "metadata": {
    "colab": {},
    "colab_type": "code",
    "id": "x5pbYbmG7rf2"
   },
   "outputs": [],
   "source": [
    "from scipy.stats import gamma\n"
   ]
  },
  {
   "cell_type": "code",
   "execution_count": 52,
   "metadata": {
    "colab": {
     "base_uri": "https://localhost:8080/",
     "height": 81,
     "referenced_widgets": [
      "0c5c24ff2c0a44f9939ddc9fe754040c",
      "86575424716c4a5791ec6d12ee8a9305",
      "25c616c02ab14758ac5df31c71e2b7fb",
      "76c3cf7f131845b29556f245cb57a61c",
      "ebe5ae153eed4940aedb7cee39f61534",
      "43268faa13fd43f58f781653cf990c0f",
      "ca829b0b77ff4c09a687f64ccbb2d250",
      "2ae3ead2810c4ca7b28adb4f7d3353eb",
      "0ba36251be1c4ff082921eed3ff40902",
      "8c18f32b999c4ceebfedddc98c236ed6"
     ]
    },
    "colab_type": "code",
    "id": "-u5GI8cC6WC_",
    "outputId": "0e43566d-5310-4055-a7b9-a63377e547ef"
   },
   "outputs": [
    {
     "data": {
      "application/vnd.jupyter.widget-view+json": {
       "model_id": "7f9808eba9eb46989716e3539286f48c",
       "version_major": 2,
       "version_minor": 0
      },
      "text/plain": [
       "interactive(children=(IntSlider(value=3, description='shape', max=5, min=1), Play(value=1, description='Press …"
      ]
     },
     "metadata": {},
     "output_type": "display_data"
    }
   ],
   "source": [
    "x = np.linspace(0,20,100)\n",
    "@interact(shape=(1,5), scale=widgets.Play(value=1,min=1,max=50,step=1,interval=500,description=\"Press play\"))\n",
    "\n",
    "def update(shape,scale):\n",
    "    p = figure(plot_width=800,plot_height=400)\n",
    "    new_y = gamma(shape, 0, scale).pdf(x)\n",
    "    p.line(x,new_y, color=\"#2222aa\", line_width=2)\n",
    "    show(p)"
   ]
  },
  {
   "cell_type": "code",
   "execution_count": 53,
   "metadata": {
    "colab": {
     "base_uri": "https://localhost:8080/",
     "height": 73
    },
    "colab_type": "code",
    "id": "ULxVSG9a-eVa",
    "outputId": "6b5739a8-e55d-4fa3-caba-f5dfe39cddcc"
   },
   "outputs": [],
   "source": [
    "import matplotlib.pyplot as plt\n",
    "import seaborn as sns"
   ]
  },
  {
   "cell_type": "code",
   "execution_count": 54,
   "metadata": {
    "colab": {},
    "colab_type": "code",
    "id": "b88AhOKV-pSz"
   },
   "outputs": [],
   "source": [
    "movie = pd.read_csv('C:/Users/bighan/Downloads/esc시각화스터디/movies.csv')\n",
    "gnr = list(movie['genre'].unique())"
   ]
  },
  {
   "cell_type": "code",
   "execution_count": 70,
   "metadata": {
    "colab": {
     "base_uri": "https://localhost:8080/",
     "height": 970,
     "referenced_widgets": [
      "f6857aeb3da941b497a64df4056b3fcd",
      "06b03856bf0646b1a5abaa91e44c4695",
      "f1101ffad24c4dbd9873ea4923032b2f",
      "8c28d9c89c9c420182267fa088084cea",
      "2b15d92af3204c86af84ee26eb8b1ea1",
      "c48e6fc6b9164f508aa3745d915e7d0b",
      "2d45495a7d5f498ebe00aeaf372bfb19"
     ]
    },
    "colab_type": "code",
    "id": "9QNLmR3w-u1_",
    "outputId": "0377839e-6f7c-42ff-d64f-ed6380997175"
   },
   "outputs": [
    {
     "data": {
      "application/vnd.jupyter.widget-view+json": {
       "model_id": "05af115199fa4ae783a3951db35bfb20",
       "version_major": 2,
       "version_minor": 0
      },
      "text/plain": [
       "interactive(children=(Dropdown(description='genre', options=('액션', '느와르', '코미디', '다큐멘터리', '뮤지컬', '드라마', '멜로/로맨…"
      ]
     },
     "metadata": {},
     "output_type": "display_data"
    }
   ],
   "source": [
    "sns.set(font='NanumGothic', font_scale=1.3, style='whitegrid')\n",
    "@interact(genre = gnr)\n",
    "\n",
    "def update(genre):\n",
    "    movie2 = movie[movie['genre']==genre]\n",
    "    a = sns.pairplot(movie2[['dir_prev_bfnum', 'box_off_num', 'screening_rat']], hue='screening_rat',\n",
    "                diag_kind='hist', plot_kws = {'alpha':0.5, 's':80, 'edgecolor':'k'},\n",
    "                diag_kws = {'alpha':0.3}, palette='husl', height=6)\n",
    "    a.fig.suptitle('관객 수', x=0.43, y=1.05, fontsize=24)\n",
    "    plt.show()\n",
    "\n",
    "# 나머지는 2주차 퀴즈 답 그대로 movie2 = movie[movie['genre']==genre] 이부분 추가하여 장르별로 볼 수 있게끔"
   ]
  },
  {
   "cell_type": "code",
   "execution_count": 71,
   "metadata": {
    "colab": {
     "base_uri": "https://localhost:8080/",
     "height": 246,
     "referenced_widgets": [
      "c8803daa9e644be09cc43793ea5415ac",
      "e03cecf270c44d0eaf8cbf35f847bb2c",
      "bbe9cdb2de3b41b3b89f767ee6137f43",
      "0771e9741b2f4fa8b2f0d1714a6983a3",
      "096e92c1d05b427d8d8944af2513b68d",
      "a21954955eb5403ba22301f319e5c713",
      "f3a3317f98d642519db4092d0c162f9c"
     ]
    },
    "colab_type": "code",
    "id": "IRgXjPEp_ipf",
    "outputId": "236f59bf-2c13-4b77-f52f-5da2094d391c"
   },
   "outputs": [
    {
     "data": {
      "application/vnd.jupyter.widget-view+json": {
       "model_id": "99e56679a47d49e388032f221800e733",
       "version_major": 2,
       "version_minor": 0
      },
      "text/plain": [
       "interactive(children=(Text(value='내부자들', description='name'), Output()), _dom_classes=('widget-interact',))"
      ]
     },
     "metadata": {},
     "output_type": "display_data"
    }
   ],
   "source": [
    "@interact(name=widgets.Text(value='내부자들'))\n",
    "\n",
    "def update(name):\n",
    "    movie2 = movie[movie['title'].str.contains(name)]\n",
    "    return(movie2)"
   ]
  },
  {
   "cell_type": "code",
   "execution_count": 58,
   "metadata": {
    "colab": {
     "base_uri": "https://localhost:8080/",
     "height": 411
    },
    "colab_type": "code",
    "id": "SXGjX3_UApGD",
    "outputId": "672e18c7-b2ad-4631-8cdf-9e52b192bd33"
   },
   "outputs": [
    {
     "data": {
      "text/html": [
       "<div>\n",
       "<style scoped>\n",
       "    .dataframe tbody tr th:only-of-type {\n",
       "        vertical-align: middle;\n",
       "    }\n",
       "\n",
       "    .dataframe tbody tr th {\n",
       "        vertical-align: top;\n",
       "    }\n",
       "\n",
       "    .dataframe thead th {\n",
       "        text-align: right;\n",
       "    }\n",
       "</style>\n",
       "<table border=\"1\" class=\"dataframe\">\n",
       "  <thead>\n",
       "    <tr style=\"text-align: right;\">\n",
       "      <th></th>\n",
       "      <th>Country</th>\n",
       "      <th>Year</th>\n",
       "      <th>fertility</th>\n",
       "      <th>life</th>\n",
       "      <th>population</th>\n",
       "      <th>child_mortality</th>\n",
       "      <th>gdp</th>\n",
       "      <th>region</th>\n",
       "    </tr>\n",
       "  </thead>\n",
       "  <tbody>\n",
       "    <tr>\n",
       "      <th>0</th>\n",
       "      <td>France</td>\n",
       "      <td>1964</td>\n",
       "      <td>2.800</td>\n",
       "      <td>71.32</td>\n",
       "      <td>48194218.0</td>\n",
       "      <td>23.4</td>\n",
       "      <td>13969.0</td>\n",
       "      <td>Europe &amp; Central Asia</td>\n",
       "    </tr>\n",
       "    <tr>\n",
       "      <th>1</th>\n",
       "      <td>France</td>\n",
       "      <td>1965</td>\n",
       "      <td>2.772</td>\n",
       "      <td>71.15</td>\n",
       "      <td>48754817.0</td>\n",
       "      <td>22.3</td>\n",
       "      <td>14514.0</td>\n",
       "      <td>Europe &amp; Central Asia</td>\n",
       "    </tr>\n",
       "    <tr>\n",
       "      <th>2</th>\n",
       "      <td>France</td>\n",
       "      <td>1966</td>\n",
       "      <td>2.730</td>\n",
       "      <td>71.56</td>\n",
       "      <td>49238715.0</td>\n",
       "      <td>21.4</td>\n",
       "      <td>15158.0</td>\n",
       "      <td>Europe &amp; Central Asia</td>\n",
       "    </tr>\n",
       "    <tr>\n",
       "      <th>3</th>\n",
       "      <td>France</td>\n",
       "      <td>1967</td>\n",
       "      <td>2.679</td>\n",
       "      <td>71.55</td>\n",
       "      <td>49655097.0</td>\n",
       "      <td>20.6</td>\n",
       "      <td>15759.0</td>\n",
       "      <td>Europe &amp; Central Asia</td>\n",
       "    </tr>\n",
       "    <tr>\n",
       "      <th>4</th>\n",
       "      <td>France</td>\n",
       "      <td>1968</td>\n",
       "      <td>2.621</td>\n",
       "      <td>71.54</td>\n",
       "      <td>50026522.0</td>\n",
       "      <td>19.9</td>\n",
       "      <td>16321.0</td>\n",
       "      <td>Europe &amp; Central Asia</td>\n",
       "    </tr>\n",
       "  </tbody>\n",
       "</table>\n",
       "</div>"
      ],
      "text/plain": [
       "  Country  Year  fertility   life  population  child_mortality      gdp  \\\n",
       "0  France  1964      2.800  71.32  48194218.0             23.4  13969.0   \n",
       "1  France  1965      2.772  71.15  48754817.0             22.3  14514.0   \n",
       "2  France  1966      2.730  71.56  49238715.0             21.4  15158.0   \n",
       "3  France  1967      2.679  71.55  49655097.0             20.6  15759.0   \n",
       "4  France  1968      2.621  71.54  50026522.0             19.9  16321.0   \n",
       "\n",
       "                  region  \n",
       "0  Europe & Central Asia  \n",
       "1  Europe & Central Asia  \n",
       "2  Europe & Central Asia  \n",
       "3  Europe & Central Asia  \n",
       "4  Europe & Central Asia  "
      ]
     },
     "execution_count": 58,
     "metadata": {},
     "output_type": "execute_result"
    }
   ],
   "source": [
    "#quiz1\n",
    "\n",
    "gapminder.head()"
   ]
  },
  {
   "cell_type": "code",
   "execution_count": 59,
   "metadata": {
    "colab": {
     "base_uri": "https://localhost:8080/",
     "height": 309
    },
    "colab_type": "code",
    "id": "tfqMF8MI-u-B",
    "outputId": "bc7f4f8f-86a4-4e27-c78a-4005be406ad0"
   },
   "outputs": [
    {
     "data": {
      "text/html": [
       "<div>\n",
       "<style scoped>\n",
       "    .dataframe tbody tr th:only-of-type {\n",
       "        vertical-align: middle;\n",
       "    }\n",
       "\n",
       "    .dataframe tbody tr th {\n",
       "        vertical-align: top;\n",
       "    }\n",
       "\n",
       "    .dataframe thead th {\n",
       "        text-align: right;\n",
       "    }\n",
       "</style>\n",
       "<table border=\"1\" class=\"dataframe\">\n",
       "  <thead>\n",
       "    <tr style=\"text-align: right;\">\n",
       "      <th></th>\n",
       "      <th>Country</th>\n",
       "      <th>Year</th>\n",
       "      <th>fertility</th>\n",
       "      <th>life</th>\n",
       "      <th>population</th>\n",
       "      <th>child_mortality</th>\n",
       "      <th>gdp</th>\n",
       "      <th>region</th>\n",
       "    </tr>\n",
       "  </thead>\n",
       "  <tbody>\n",
       "    <tr>\n",
       "      <th>0</th>\n",
       "      <td>Afghanistan</td>\n",
       "      <td>1964</td>\n",
       "      <td>7.671</td>\n",
       "      <td>33.639</td>\n",
       "      <td>10474903.0</td>\n",
       "      <td>339.7</td>\n",
       "      <td>1182.0</td>\n",
       "      <td>South Asia</td>\n",
       "    </tr>\n",
       "    <tr>\n",
       "      <th>1</th>\n",
       "      <td>Afghanistan</td>\n",
       "      <td>1965</td>\n",
       "      <td>7.671</td>\n",
       "      <td>34.152</td>\n",
       "      <td>10697983.0</td>\n",
       "      <td>334.1</td>\n",
       "      <td>1182.0</td>\n",
       "      <td>South Asia</td>\n",
       "    </tr>\n",
       "    <tr>\n",
       "      <th>2</th>\n",
       "      <td>Afghanistan</td>\n",
       "      <td>1966</td>\n",
       "      <td>7.671</td>\n",
       "      <td>34.662</td>\n",
       "      <td>10927724.0</td>\n",
       "      <td>328.7</td>\n",
       "      <td>1168.0</td>\n",
       "      <td>South Asia</td>\n",
       "    </tr>\n",
       "    <tr>\n",
       "      <th>3</th>\n",
       "      <td>Afghanistan</td>\n",
       "      <td>1967</td>\n",
       "      <td>7.671</td>\n",
       "      <td>35.170</td>\n",
       "      <td>11163656.0</td>\n",
       "      <td>323.3</td>\n",
       "      <td>1173.0</td>\n",
       "      <td>South Asia</td>\n",
       "    </tr>\n",
       "    <tr>\n",
       "      <th>4</th>\n",
       "      <td>Afghanistan</td>\n",
       "      <td>1968</td>\n",
       "      <td>7.671</td>\n",
       "      <td>35.674</td>\n",
       "      <td>11411022.0</td>\n",
       "      <td>318.1</td>\n",
       "      <td>1187.0</td>\n",
       "      <td>South Asia</td>\n",
       "    </tr>\n",
       "  </tbody>\n",
       "</table>\n",
       "</div>"
      ],
      "text/plain": [
       "       Country  Year  fertility    life  population  child_mortality     gdp  \\\n",
       "0  Afghanistan  1964      7.671  33.639  10474903.0            339.7  1182.0   \n",
       "1  Afghanistan  1965      7.671  34.152  10697983.0            334.1  1182.0   \n",
       "2  Afghanistan  1966      7.671  34.662  10927724.0            328.7  1168.0   \n",
       "3  Afghanistan  1967      7.671  35.170  11163656.0            323.3  1173.0   \n",
       "4  Afghanistan  1968      7.671  35.674  11411022.0            318.1  1187.0   \n",
       "\n",
       "       region  \n",
       "0  South Asia  \n",
       "1  South Asia  \n",
       "2  South Asia  \n",
       "3  South Asia  \n",
       "4  South Asia  "
      ]
     },
     "execution_count": 59,
     "metadata": {},
     "output_type": "execute_result"
    }
   ],
   "source": [
    "gapminder = pd.read_csv('C:/Users/bighan/Downloads/esc시각화스터디/gapminder.csv')\n",
    "gapminder.head()"
   ]
  },
  {
   "cell_type": "code",
   "execution_count": 60,
   "metadata": {
    "colab": {
     "base_uri": "https://localhost:8080/",
     "height": 411
    },
    "colab_type": "code",
    "id": "Jo4VEQH3BEGE",
    "outputId": "c89a1b65-f472-456f-eff5-87a6677afe10"
   },
   "outputs": [
    {
     "data": {
      "text/html": [
       "<div>\n",
       "<style scoped>\n",
       "    .dataframe tbody tr th:only-of-type {\n",
       "        vertical-align: middle;\n",
       "    }\n",
       "\n",
       "    .dataframe tbody tr th {\n",
       "        vertical-align: top;\n",
       "    }\n",
       "\n",
       "    .dataframe thead th {\n",
       "        text-align: right;\n",
       "    }\n",
       "</style>\n",
       "<table border=\"1\" class=\"dataframe\">\n",
       "  <thead>\n",
       "    <tr style=\"text-align: right;\">\n",
       "      <th></th>\n",
       "      <th>Country</th>\n",
       "      <th>Year</th>\n",
       "      <th>fertility</th>\n",
       "      <th>life</th>\n",
       "      <th>population</th>\n",
       "      <th>child_mortality</th>\n",
       "      <th>gdp</th>\n",
       "      <th>region</th>\n",
       "    </tr>\n",
       "  </thead>\n",
       "  <tbody>\n",
       "    <tr>\n",
       "      <th>6</th>\n",
       "      <td>Afghanistan</td>\n",
       "      <td>1970</td>\n",
       "      <td>7.671</td>\n",
       "      <td>36.663</td>\n",
       "      <td>11964906.0</td>\n",
       "      <td>307.80</td>\n",
       "      <td>1174.0</td>\n",
       "      <td>South Asia</td>\n",
       "    </tr>\n",
       "    <tr>\n",
       "      <th>56</th>\n",
       "      <td>Albania</td>\n",
       "      <td>1970</td>\n",
       "      <td>5.050</td>\n",
       "      <td>66.948</td>\n",
       "      <td>2135599.0</td>\n",
       "      <td>107.98</td>\n",
       "      <td>3712.0</td>\n",
       "      <td>Europe &amp; Central Asia</td>\n",
       "    </tr>\n",
       "    <tr>\n",
       "      <th>106</th>\n",
       "      <td>Algeria</td>\n",
       "      <td>1970</td>\n",
       "      <td>7.641</td>\n",
       "      <td>50.366</td>\n",
       "      <td>13746185.0</td>\n",
       "      <td>242.20</td>\n",
       "      <td>7227.0</td>\n",
       "      <td>Middle East &amp; North Africa</td>\n",
       "    </tr>\n",
       "    <tr>\n",
       "      <th>156</th>\n",
       "      <td>Angola</td>\n",
       "      <td>1970</td>\n",
       "      <td>7.301</td>\n",
       "      <td>37.032</td>\n",
       "      <td>5926333.0</td>\n",
       "      <td>262.29</td>\n",
       "      <td>5397.0</td>\n",
       "      <td>Sub-Saharan Africa</td>\n",
       "    </tr>\n",
       "    <tr>\n",
       "      <th>206</th>\n",
       "      <td>Antigua and Barbuda</td>\n",
       "      <td>1970</td>\n",
       "      <td>3.684</td>\n",
       "      <td>65.898</td>\n",
       "      <td>65587.0</td>\n",
       "      <td>55.87</td>\n",
       "      <td>5807.0</td>\n",
       "      <td>America</td>\n",
       "    </tr>\n",
       "  </tbody>\n",
       "</table>\n",
       "</div>"
      ],
      "text/plain": [
       "                 Country  Year  fertility    life  population  \\\n",
       "6            Afghanistan  1970      7.671  36.663  11964906.0   \n",
       "56               Albania  1970      5.050  66.948   2135599.0   \n",
       "106              Algeria  1970      7.641  50.366  13746185.0   \n",
       "156               Angola  1970      7.301  37.032   5926333.0   \n",
       "206  Antigua and Barbuda  1970      3.684  65.898     65587.0   \n",
       "\n",
       "     child_mortality     gdp                      region  \n",
       "6             307.80  1174.0                  South Asia  \n",
       "56            107.98  3712.0       Europe & Central Asia  \n",
       "106           242.20  7227.0  Middle East & North Africa  \n",
       "156           262.29  5397.0          Sub-Saharan Africa  \n",
       "206            55.87  5807.0                     America  "
      ]
     },
     "execution_count": 60,
     "metadata": {},
     "output_type": "execute_result"
    }
   ],
   "source": [
    "gapminder = gapminder[gapminder['Year']==1970]\n",
    "gapminder.head()"
   ]
  },
  {
   "cell_type": "code",
   "execution_count": 61,
   "metadata": {
    "colab": {
     "base_uri": "https://localhost:8080/",
     "height": 125
    },
    "colab_type": "code",
    "id": "qzMwYX82CwSP",
    "outputId": "395fa5dd-fcab-4f16-f806-48680c79423a"
   },
   "outputs": [
    {
     "data": {
      "text/plain": [
       "['South Asia',\n",
       " 'Europe & Central Asia',\n",
       " 'Middle East & North Africa',\n",
       " 'Sub-Saharan Africa',\n",
       " 'America',\n",
       " 'East Asia & Pacific']"
      ]
     },
     "execution_count": 61,
     "metadata": {},
     "output_type": "execute_result"
    }
   ],
   "source": [
    "list(gapminder['region'].unique())"
   ]
  },
  {
   "cell_type": "code",
   "execution_count": 63,
   "metadata": {
    "colab": {
     "base_uri": "https://localhost:8080/",
     "height": 447
    },
    "colab_type": "code",
    "id": "7QlAqstp_iwZ",
    "outputId": "881cdf01-e1fe-44cc-ab58-a6c7acacbac8"
   },
   "outputs": [
    {
     "data": {
      "text/html": [
       "\n",
       "\n",
       "\n",
       "\n",
       "\n",
       "\n",
       "  <div class=\"bk-root\" id=\"eb0b502c-9278-47d1-89e3-e60a435ba4ee\" data-root-id=\"8236\"></div>\n"
      ]
     },
     "metadata": {},
     "output_type": "display_data"
    },
    {
     "data": {
      "application/javascript": [
       "(function(root) {\n",
       "  function embed_document(root) {\n",
       "    \n",
       "  var docs_json = {\"e77e360d-3acf-4a7e-ba1b-393983797ff0\":{\"roots\":{\"references\":[{\"attributes\":{\"callback\":null,\"tabs\":[{\"id\":\"8234\",\"type\":\"Panel\"},{\"id\":\"8235\",\"type\":\"Panel\"}]},\"id\":\"8236\",\"type\":\"Tabs\"},{\"attributes\":{\"axis_label\":\"Life Expectancy\",\"formatter\":{\"id\":\"8227\",\"type\":\"BasicTickFormatter\"},\"ticker\":{\"id\":\"8212\",\"type\":\"BasicTicker\"}},\"id\":\"8211\",\"type\":\"LinearAxis\"},{\"attributes\":{},\"id\":\"8227\",\"type\":\"BasicTickFormatter\"},{\"attributes\":{\"ticker\":{\"id\":\"8207\",\"type\":\"BasicTicker\"}},\"id\":\"8210\",\"type\":\"Grid\"},{\"attributes\":{\"label\":{\"field\":\"region\"},\"renderers\":[{\"id\":\"8224\",\"type\":\"GlyphRenderer\"}]},\"id\":\"8233\",\"type\":\"LegendItem\"},{\"attributes\":{\"data_source\":{\"id\":\"8157\",\"type\":\"ColumnDataSource\"},\"glyph\":{\"id\":\"8184\",\"type\":\"Circle\"},\"hover_glyph\":null,\"muted_glyph\":null,\"nonselection_glyph\":{\"id\":\"8185\",\"type\":\"Circle\"},\"selection_glyph\":null,\"view\":{\"id\":\"8187\",\"type\":\"CDSView\"}},\"id\":\"8186\",\"type\":\"GlyphRenderer\"},{\"attributes\":{},\"id\":\"8217\",\"type\":\"ResetTool\"},{\"attributes\":{\"callback\":null},\"id\":\"8162\",\"type\":\"DataRange1d\"},{\"attributes\":{\"callback\":null,\"overlay\":{\"id\":\"8231\",\"type\":\"BoxAnnotation\"}},\"id\":\"8216\",\"type\":\"BoxSelectTool\"},{\"attributes\":{\"axis_label\":\"Fertility\",\"formatter\":{\"id\":\"8191\",\"type\":\"BasicTickFormatter\"},\"ticker\":{\"id\":\"8171\",\"type\":\"BasicTicker\"}},\"id\":\"8170\",\"type\":\"LinearAxis\"},{\"attributes\":{\"label\":{\"field\":\"region\"},\"renderers\":[{\"id\":\"8186\",\"type\":\"GlyphRenderer\"}]},\"id\":\"8194\",\"type\":\"LegendItem\"},{\"attributes\":{},\"id\":\"8207\",\"type\":\"BasicTicker\"},{\"attributes\":{\"fill_alpha\":{\"value\":0.1},\"fill_color\":{\"value\":\"#1f77b4\"},\"line_alpha\":{\"value\":0.1},\"line_color\":{\"value\":\"#1f77b4\"},\"size\":{\"units\":\"screen\",\"value\":5},\"x\":{\"field\":\"fertility\"},\"y\":{\"field\":\"life\"}},\"id\":\"8185\",\"type\":\"Circle\"},{\"attributes\":{\"fill_color\":{\"field\":\"region\",\"transform\":{\"id\":\"8182\",\"type\":\"CategoricalColorMapper\"}},\"line_color\":{\"field\":\"region\",\"transform\":{\"id\":\"8182\",\"type\":\"CategoricalColorMapper\"}},\"size\":{\"units\":\"screen\",\"value\":5},\"x\":{\"field\":\"fertility\"},\"y\":{\"field\":\"life\"}},\"id\":\"8184\",\"type\":\"Circle\"},{\"attributes\":{},\"id\":\"8189\",\"type\":\"BasicTickFormatter\"},{\"attributes\":{},\"id\":\"8204\",\"type\":\"LinearScale\"},{\"attributes\":{\"callback\":null,\"tooltips\":[[\"Country\",\"@Country\"],[\"Fertility\",\"@fertility\"],[\"Life Expectancy\",\"@life\"],[\"GDP\",\"@gdp\"]]},\"id\":\"8158\",\"type\":\"HoverTool\"},{\"attributes\":{},\"id\":\"8229\",\"type\":\"BasicTickFormatter\"},{\"attributes\":{},\"id\":\"8202\",\"type\":\"LinearScale\"},{\"attributes\":{\"items\":[{\"id\":\"8233\",\"type\":\"LegendItem\"}],\"location\":\"bottom_left\"},\"id\":\"8232\",\"type\":\"Legend\"},{\"attributes\":{\"active_drag\":\"auto\",\"active_inspect\":\"auto\",\"active_multi\":null,\"active_scroll\":\"auto\",\"active_tap\":\"auto\",\"tools\":[{\"id\":\"8158\",\"type\":\"HoverTool\"}]},\"id\":\"8180\",\"type\":\"Toolbar\"},{\"attributes\":{\"source\":{\"id\":\"8157\",\"type\":\"ColumnDataSource\"}},\"id\":\"8187\",\"type\":\"CDSView\"},{\"attributes\":{\"child\":{\"id\":\"8195\",\"subtype\":\"Figure\",\"type\":\"Plot\"},\"title\":\"Box Select\"},\"id\":\"8235\",\"type\":\"Panel\"},{\"attributes\":{\"callback\":null},\"id\":\"8198\",\"type\":\"DataRange1d\"},{\"attributes\":{\"source\":{\"id\":\"8157\",\"type\":\"ColumnDataSource\"}},\"id\":\"8225\",\"type\":\"CDSView\"},{\"attributes\":{\"text\":\"Life Expectancy in 1970\"},\"id\":\"8196\",\"type\":\"Title\"},{\"attributes\":{},\"id\":\"8176\",\"type\":\"BasicTicker\"},{\"attributes\":{\"data_source\":{\"id\":\"8157\",\"type\":\"ColumnDataSource\"},\"glyph\":{\"id\":\"8222\",\"type\":\"Circle\"},\"hover_glyph\":null,\"muted_glyph\":null,\"nonselection_glyph\":{\"id\":\"8223\",\"type\":\"Circle\"},\"selection_glyph\":null,\"view\":{\"id\":\"8225\",\"type\":\"CDSView\"}},\"id\":\"8224\",\"type\":\"GlyphRenderer\"},{\"attributes\":{},\"id\":\"8191\",\"type\":\"BasicTickFormatter\"},{\"attributes\":{},\"id\":\"8547\",\"type\":\"Selection\"},{\"attributes\":{\"fill_color\":{\"field\":\"region\",\"transform\":{\"id\":\"8182\",\"type\":\"CategoricalColorMapper\"}},\"line_color\":{\"field\":\"region\",\"transform\":{\"id\":\"8182\",\"type\":\"CategoricalColorMapper\"}},\"size\":{\"units\":\"screen\",\"value\":5},\"x\":{\"field\":\"fertility\"},\"y\":{\"field\":\"life\"}},\"id\":\"8222\",\"type\":\"Circle\"},{\"attributes\":{\"fill_alpha\":{\"value\":0.1},\"fill_color\":{\"value\":\"#1f77b4\"},\"line_alpha\":{\"value\":0.1},\"line_color\":{\"value\":\"#1f77b4\"},\"size\":{\"units\":\"screen\",\"value\":5},\"x\":{\"field\":\"fertility\"},\"y\":{\"field\":\"life\"}},\"id\":\"8223\",\"type\":\"Circle\"},{\"attributes\":{},\"id\":\"8546\",\"type\":\"UnionRenderers\"},{\"attributes\":{},\"id\":\"8212\",\"type\":\"BasicTicker\"},{\"attributes\":{\"ticker\":{\"id\":\"8171\",\"type\":\"BasicTicker\"}},\"id\":\"8174\",\"type\":\"Grid\"},{\"attributes\":{\"dimension\":1,\"ticker\":{\"id\":\"8212\",\"type\":\"BasicTicker\"}},\"id\":\"8215\",\"type\":\"Grid\"},{\"attributes\":{},\"id\":\"8166\",\"type\":\"LinearScale\"},{\"attributes\":{\"callback\":null,\"data\":{\"Country\":[\"Afghanistan\",\"Albania\",\"Algeria\",\"Angola\",\"Antigua and Barbuda\",\"Argentina\",\"Armenia\",\"Aruba\",\"Australia\",\"Austria\",\"Azerbaijan\",\"Bahamas\",\"Bahrain\",\"Bangladesh\",\"Barbados\",\"Belarus\",\"Belgium\",\"Belize\",\"Benin\",\"Bhutan\",\"Bolivia\",\"Bosnia and Herzegovina\",\"Botswana\",\"Brazil\",\"Brunei\",\"Bulgaria\",\"Burkina Faso\",\"Burundi\",\"Cambodia\",\"Cameroon\",\"Canada\",\"Cape Verde\",\"Central African Rep.\",\"Chad\",\"Channel Islands\",\"Chile\",\"China\",\"Colombia\",\"Comoros\",\"Congo, Dem. Rep.\",\"Congo, Rep.\",\"Costa Rica\",\"Cote d'Ivoire\",\"Croatia\",\"Cuba\",\"Cyprus\",\"Czech Rep.\",\"Denmark\",\"Djibouti\",\"Dominican Rep.\",\"Ecuador\",\"Egypt\",\"El Salvador\",\"Equatorial Guinea\",\"Eritrea\",\"Estonia\",\"Ethiopia\",\"Fiji\",\"Finland\",\"France\",\"French Guiana\",\"French Polynesia\",\"Gabon\",\"Gambia\",\"Georgia\",\"Germany\",\"Ghana\",\"Greece\",\"Greenland\",\"Grenada\",\"Guadeloupe\",\"Guam\",\"Guatemala\",\"Guinea\",\"Guinea-Bissau\",\"Guyana\",\"Haiti\",\"Honduras\",\"Hong Kong, China\",\"Hungary\",\"Iceland\",\"India\",\"Indonesia\",\"Iran\",\"Iraq\",\"Ireland\",\"Israel\",\"Italy\",\"Jamaica\",\"Japan\",\"Jordan\",\"Kazakhstan\",\"Kenya\",\"Kiribati\",\"Korea, Dem. Rep.\",\"Korea, Rep.\",\"Kuwait\",\"Kyrgyzstan\",\"Laos\",\"Latvia\",\"Lebanon\",\"Lesotho\",\"Liberia\",\"Libya\",\"Lithuania\",\"Luxembourg\",\"Macao, China\",\"Macedonia, FYR\",\"Madagascar\",\"Malawi\",\"Malaysia\",\"Maldives\",\"Mali\",\"Malta\",\"Martinique\",\"Mauritania\",\"Mauritius\",\"Mayotte\",\"Mexico\",\"Micronesia, Fed. Sts.\",\"Moldova\",\"Mongolia\",\"Montenegro\",\"Morocco\",\"Mozambique\",\"Myanmar\",\"Namibia\",\"Nepal\",\"Netherlands\",\"Netherlands Antilles\",\"New Caledonia\",\"New Zealand\",\"Nicaragua\",\"Niger\",\"Nigeria\",\"Norway\",\"Oman\",\"Pakistan\",\"Panama\",\"Papua New Guinea\",\"Paraguay\",\"Peru\",\"Philippines\",\"Poland\",\"Portugal\",\"Puerto Rico\",\"Qatar\",\"Reunion\",\"Romania\",\"Russia\",\"Rwanda\",\"Saint Lucia\",\"Saint Vincent and the Grenadines\",\"Samoa\",\"Sao Tome and Principe\",\"Saudi Arabia\",\"Senegal\",\"Serbia\",\"Seychelles\",\"Sierra Leone\",\"Singapore\",\"Slovak Republic\",\"Slovenia\",\"Solomon Islands\",\"Somalia\",\"South Africa\",\"South Sudan\",\"Spain\",\"Sri Lanka\",\"Sudan\",\"Suriname\",\"Swaziland\",\"Sweden\",\"Switzerland\",\"Syria\",\"Taiwan\",\"Tajikistan\",\"Tanzania\",\"Thailand\",\"Timor-Leste\",\"Togo\",\"Tonga\",\"Trinidad and Tobago\",\"Tunisia\",\"Turkey\",\"Turkmenistan\",\"Uganda\",\"Ukraine\",\"United Arab Emirates\",\"United Kingdom\",\"United States\",\"Uruguay\",\"Uzbekistan\",\"Vanuatu\",\"Venezuela\",\"Vietnam\",\"Virgin Islands (U.S.)\",\"West Bank and Gaza\",\"Western Sahara\",\"Yemen, Rep.\",\"Zambia\",\"Zimbabwe\"],\"Year\":[1970,1970,1970,1970,1970,1970,1970,1970,1970,1970,1970,1970,1970,1970,1970,1970,1970,1970,1970,1970,1970,1970,1970,1970,1970,1970,1970,1970,1970,1970,1970,1970,1970,1970,1970,1970,1970,1970,1970,1970,1970,1970,1970,1970,1970,1970,1970,1970,1970,1970,1970,1970,1970,1970,1970,1970,1970,1970,1970,1970,1970,1970,1970,1970,1970,1970,1970,1970,1970,1970,1970,1970,1970,1970,1970,1970,1970,1970,1970,1970,1970,1970,1970,1970,1970,1970,1970,1970,1970,1970,1970,1970,1970,1970,1970,1970,1970,1970,1970,1970,1970,1970,1970,1970,1970,1970,1970,1970,1970,1970,1970,1970,1970,1970,1970,1970,1970,1970,1970,1970,1970,1970,1970,1970,1970,1970,1970,1970,1970,1970,1970,1970,1970,1970,1970,1970,1970,1970,1970,1970,1970,1970,1970,1970,1970,1970,1970,1970,1970,1970,1970,1970,1970,1970,1970,1970,1970,1970,1970,1970,1970,1970,1970,1970,1970,1970,1970,1970,1970,1970,1970,1970,1970,1970,1970,1970,1970,1970,1970,1970,1970,1970,1970,1970,1970,1970,1970,1970,1970,1970,1970,1970,1970,1970,1970,1970,1970,1970,1970,1970,1970,1970],\"child_mortality\":{\"__ndarray__\":\"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\",\"dtype\":\"float64\",\"shape\":[202]},\"fertility\":{\"__ndarray__\":\"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\",\"dtype\":\"float64\",\"shape\":[202]},\"gdp\":{\"__ndarray__\":\"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\",\"dtype\":\"float64\",\"shape\":[202]},\"index\":[6,56,106,156,206,256,306,356,406,456,506,556,606,656,706,756,806,856,906,956,1006,1056,1106,1156,1206,1256,1306,1356,1406,1456,1506,1556,1606,1656,1706,1756,1806,1856,1906,1956,2006,2056,2106,2156,2206,2256,2306,2356,2406,2456,2506,2556,2606,2656,2706,2756,2806,2856,2906,2956,3006,3056,3106,3156,3206,3256,3306,3356,3406,3456,3506,3556,3606,3656,3706,3756,3806,3856,3906,3956,4006,4056,4106,4156,4206,4256,4306,4356,4406,4456,4506,4556,4606,4656,4706,4756,4806,4856,4906,4956,5006,5056,5106,5156,5206,5256,5306,5356,5406,5456,5506,5556,5606,5656,5706,5756,5806,5856,5906,5956,6006,6056,6106,6156,6206,6256,6306,6356,6406,6456,6506,6556,6606,6656,6706,6756,6806,6856,6906,6956,7006,7056,7106,7156,7206,7256,7306,7356,7406,7456,7506,7556,7606,7656,7706,7756,7806,7856,7906,7956,8006,8056,8106,8156,8206,8256,8306,8356,8406,8456,8506,8556,8606,8656,8706,8756,8806,8856,8906,8956,9006,9057,9107,9157,9207,9257,9307,9357,9407,9457,9507,9557,9607,9657,9707,9757,9807,9857,9907,9957,10007,10057],\"life\":{\"__ndarray__\":\"vp8aL91UQkDqJjEIrLxQQAMrhxbZLklAarx0kxiEQkC28/3UeHlQQNv5fmq8nFBA/tR46SaJUUApXI/C9UhRQKRwPQrXs1FA16NwPQqHUUAK16NwPUJQQDEIrBxafFBAmpmZmZm5T0AK16NwPcpHQNEi2/l+SlBAFK5H4XoUUkCuR+F6FL5RQE5iEFg5ZFBAcT0K16MwRUDwp8ZLN3lCQFK4HoXr4UZA3SQGgZWLUED91HjpJmFLQB+F61G4bk1AEVg5tMjOUEDhehSuR9FRQFyPwvUojENAtMh2vp/qRUDb+X5qvNREQHe+nxovDUdAmpmZmZkpUkAlBoGVQxtKQNNNYhBY+URA7nw/NV6qREDrJjEIrPRRQFCNl24SA09ATx4Wak1TT0DdJAaBlXNOQLKd76fG20dATDeJQWD1RUBSuB6F67FKQKabxCCwslBAf2q8dJPYRUCq8dJNYhhRQJZDi2znc1FAwJ8aL90kUkBSuB6F62FRQLgehetRWFJAFK5H4XqUSEDsUbgehTtNQGiR7Xw/5UxA9P3UeOkWSkA7tMh2vj9MQKrx0k1i4ENAwcqhRbZDREApXI/C9ZhRQLbz/dR4eUVABFYOLbLtTUDXo3A9CpdRQArXo3A9ClJAIbByaJFVUEBkO99PjRdOQPYoXI/CVUdAtvP91HjpQkB3vp8aL91QQMZ5fugQrVFACKwcWmSrSEDb+X5qvLxRQEtgzaKrYVBAlkOLbOfrT0ACK4cW2T5QQO18PzVealBAaJHtfD8FSkCHFtnO91NCQPT91HjpBkZA8KfGSze5TUAmMQisHJpHQOF6FK5HQUpADAIrhxb5UUCPwvUoXE9RQKRwPQrXc1JAYLpJDAJrSECNbOf7qTFKQCGwcmiRbUlAtvP91HgZTUApXI/C9bhRQKRwPQrXy1FACtejcD3qUUB/arx0kxBRQBSuR+F6BFJA2s73U+MVTkBMN4lBYEVPQLKd76fGG0pAvHSTGAS2SUCJFtnO99NNQNrO91PjlU5AAiuHFtl2UEAdWmQ73z9OQFTjpZvEIEdAH4XrUbiOUUA/NV66SYRQQIkW2c73g0hAjZduEoOgQ0Atsp3vpwZMQIXrUbgexVFAhetRuB5lUUDqJjEIrExRQCUGgZVDk1BAppvEILBiRkBSuB6F61FEQAaBlUOLHFBA3SQGgZUTRkCMbOf7qTFAQClcj8L1oFFAyXa+nxp/UEBxPQrXo5BIQAaBlUOLnE9AO99PjZcuT0CsHFpkO69OQP3UeOkm0U5AexSuR+FCUEBYObTIdq5LQFYOLbKdd1FAfT81XrpJSkBWDi2ynZ9DQFg5tMh2fklAZBBYObRISkAQWDm0yDZFQGZmZmZmZlJA6Pup8dJNUUC8dJMYBDZPQIXrUbge1VFAukkMAivXSkBmZmZmZiZCQAAAAAAAgEJAhetRuB6FUkBI4XoUridJQARWDi2yvUpA/tR46SZhUEDFILByaAFHQLpJDAIrX1BACtejcD26SkDRItv5fmpOQEjhehSud1FAexSuR+HKUECF61G4HuVRQMuhRbbzFVFAZDvfT42HT0Cq8dJNYghRQNejcD0KN1FA+n5qvHQzRkAZBFYOLYJPQFg5tMh2RlBA+n5qvHRjS0DLoUW28+1LQH9qvHSTWEpAkxgEVg6dQ0CsHFpkO+9QQFCNl24Sa1BAsHJoke1MQUATg8DKoQVRQI/C9Shcb1FAbef7qfFaUUCq8dJNYiBLQLTIdr6fekRAmpmZmZlpSkAv3SQGgeVBQI/C9ShcD1JAne+nxksHUEAhsHJokR1KQPyp8dJNok9A9ihcj8IFSEDNzMzMzKxSQClcj8L1SFJAokW28/2UTUCamZmZmSlRQMdLN4lBEE5ACKwcWmRbR0DfT42XbsJNQPyp8dJNwkNAZBBYObRIR0Dy0k1iEDhQQHe+nxovRVBAGy/dJAaRSUBoke18PyVKQJZDi2znO01AmpmZmZlpSEBI4XoUrrdRQDvfT42Xzk5AAAAAAAAAUkB7FK5H4bpRQHNoke18J1FACKwcWmR7T0CsHFpkOy9KQNv5fmq8PFBAeekmMQjMTUBaZDvfT+1QQJHtfD813ktAf2q8dJMIRUBKDAIrh5ZEQBKDwMqhhUhAL90kBoF1S0A=\",\"dtype\":\"float64\",\"shape\":[202]},\"population\":{\"__ndarray__\":\"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\",\"dtype\":\"float64\",\"shape\":[202]},\"region\":[\"South Asia\",\"Europe & Central Asia\",\"Middle East & North Africa\",\"Sub-Saharan Africa\",\"America\",\"America\",\"Europe & Central Asia\",\"America\",\"East Asia & Pacific\",\"Europe & Central Asia\",\"Europe & Central Asia\",\"America\",\"Middle East & North Africa\",\"South Asia\",\"America\",\"Europe & Central Asia\",\"Europe & Central Asia\",\"America\",\"Sub-Saharan Africa\",\"South Asia\",\"America\",\"Europe & Central Asia\",\"Sub-Saharan Africa\",\"America\",\"East Asia & Pacific\",\"Europe & Central Asia\",\"Sub-Saharan Africa\",\"Sub-Saharan Africa\",\"East Asia & Pacific\",\"Sub-Saharan Africa\",\"America\",\"Sub-Saharan Africa\",\"Sub-Saharan Africa\",\"Sub-Saharan Africa\",\"Europe & Central Asia\",\"America\",\"East Asia & Pacific\",\"America\",\"Sub-Saharan Africa\",\"Sub-Saharan Africa\",\"Sub-Saharan Africa\",\"America\",\"Sub-Saharan Africa\",\"Europe & Central Asia\",\"America\",\"Europe & Central Asia\",\"Europe & Central Asia\",\"Europe & Central Asia\",\"Middle East & North Africa\",\"America\",\"America\",\"Middle East & North Africa\",\"America\",\"Sub-Saharan Africa\",\"Sub-Saharan Africa\",\"Europe & Central Asia\",\"Sub-Saharan Africa\",\"East Asia & Pacific\",\"Europe & Central Asia\",\"Europe & Central Asia\",\"America\",\"East Asia & Pacific\",\"Sub-Saharan Africa\",\"Sub-Saharan Africa\",\"Europe & Central Asia\",\"Europe & Central Asia\",\"Sub-Saharan Africa\",\"Europe & Central Asia\",\"Europe & Central Asia\",\"America\",\"America\",\"East Asia & Pacific\",\"America\",\"Sub-Saharan Africa\",\"Sub-Saharan Africa\",\"America\",\"America\",\"America\",\"East Asia & Pacific\",\"Europe & Central Asia\",\"Europe & Central Asia\",\"South Asia\",\"East Asia & Pacific\",\"Middle East & North Africa\",\"Middle East & North Africa\",\"Europe & Central Asia\",\"Middle East & North Africa\",\"Europe & Central Asia\",\"America\",\"East Asia & Pacific\",\"Middle East & North Africa\",\"Europe & Central Asia\",\"Sub-Saharan Africa\",\"East Asia & Pacific\",\"East Asia & Pacific\",\"East Asia & Pacific\",\"Middle East & North Africa\",\"Europe & Central Asia\",\"East Asia & Pacific\",\"Europe & Central Asia\",\"Middle East & North Africa\",\"Sub-Saharan Africa\",\"Sub-Saharan Africa\",\"Middle East & North Africa\",\"Europe & Central Asia\",\"Europe & Central Asia\",\"East Asia & Pacific\",\"Europe & Central Asia\",\"Sub-Saharan Africa\",\"Sub-Saharan Africa\",\"East Asia & Pacific\",\"South Asia\",\"Sub-Saharan Africa\",\"Europe & Central Asia\",\"America\",\"Sub-Saharan Africa\",\"Sub-Saharan Africa\",\"Sub-Saharan Africa\",\"America\",\"East Asia & Pacific\",\"Europe & Central Asia\",\"East Asia & Pacific\",\"Europe & Central Asia\",\"Middle East & North Africa\",\"Sub-Saharan Africa\",\"East Asia & Pacific\",\"Sub-Saharan Africa\",\"South Asia\",\"Europe & Central Asia\",\"America\",\"East Asia & Pacific\",\"East Asia & Pacific\",\"America\",\"Sub-Saharan Africa\",\"Sub-Saharan Africa\",\"Europe & Central Asia\",\"Middle East & North Africa\",\"South Asia\",\"America\",\"East Asia & Pacific\",\"America\",\"America\",\"East Asia & Pacific\",\"Europe & Central Asia\",\"Europe & Central Asia\",\"America\",\"Middle East & North Africa\",\"Sub-Saharan Africa\",\"Europe & Central Asia\",\"Europe & Central Asia\",\"Sub-Saharan Africa\",\"America\",\"America\",\"East Asia & Pacific\",\"Sub-Saharan Africa\",\"Middle East & North Africa\",\"Sub-Saharan Africa\",\"Europe & Central Asia\",\"Sub-Saharan Africa\",\"Sub-Saharan Africa\",\"East Asia & Pacific\",\"Europe & Central Asia\",\"Europe & Central Asia\",\"East Asia & Pacific\",\"Sub-Saharan Africa\",\"Sub-Saharan Africa\",\"Sub-Saharan Africa\",\"Europe & Central Asia\",\"South Asia\",\"Sub-Saharan Africa\",\"America\",\"Sub-Saharan Africa\",\"Europe & Central Asia\",\"Europe & Central Asia\",\"Middle East & North Africa\",\"East Asia & Pacific\",\"Europe & Central Asia\",\"Sub-Saharan Africa\",\"East Asia & Pacific\",\"East Asia & Pacific\",\"Sub-Saharan Africa\",\"East Asia & Pacific\",\"America\",\"Middle East & North Africa\",\"Europe & Central Asia\",\"Europe & Central Asia\",\"Sub-Saharan Africa\",\"Europe & Central Asia\",\"Middle East & North Africa\",\"Europe & Central Asia\",\"America\",\"America\",\"Europe & Central Asia\",\"East Asia & Pacific\",\"America\",\"East Asia & Pacific\",\"America\",\"Middle East & North Africa\",\"Middle East & North Africa\",\"Middle East & North Africa\",\"Sub-Saharan Africa\",\"Sub-Saharan Africa\"]},\"selected\":{\"id\":\"8547\",\"type\":\"Selection\"},\"selection_policy\":{\"id\":\"8546\",\"type\":\"UnionRenderers\"}},\"id\":\"8157\",\"type\":\"ColumnDataSource\"},{\"attributes\":{\"callback\":null},\"id\":\"8200\",\"type\":\"DataRange1d\"},{\"attributes\":{\"axis_label\":\"Fertility\",\"formatter\":{\"id\":\"8229\",\"type\":\"BasicTickFormatter\"},\"ticker\":{\"id\":\"8207\",\"type\":\"BasicTicker\"}},\"id\":\"8206\",\"type\":\"LinearAxis\"},{\"attributes\":{\"dimension\":1,\"ticker\":{\"id\":\"8176\",\"type\":\"BasicTicker\"}},\"id\":\"8179\",\"type\":\"Grid\"},{\"attributes\":{},\"id\":\"8171\",\"type\":\"BasicTicker\"},{\"attributes\":{\"child\":{\"id\":\"8159\",\"subtype\":\"Figure\",\"type\":\"Plot\"},\"title\":\"Hover\"},\"id\":\"8234\",\"type\":\"Panel\"},{\"attributes\":{\"below\":[{\"id\":\"8206\",\"type\":\"LinearAxis\"}],\"center\":[{\"id\":\"8210\",\"type\":\"Grid\"},{\"id\":\"8215\",\"type\":\"Grid\"},{\"id\":\"8232\",\"type\":\"Legend\"}],\"left\":[{\"id\":\"8211\",\"type\":\"LinearAxis\"}],\"plot_height\":400,\"plot_width\":700,\"renderers\":[{\"id\":\"8224\",\"type\":\"GlyphRenderer\"}],\"title\":{\"id\":\"8196\",\"type\":\"Title\"},\"toolbar\":{\"id\":\"8218\",\"type\":\"Toolbar\"},\"x_range\":{\"id\":\"8198\",\"type\":\"DataRange1d\"},\"x_scale\":{\"id\":\"8202\",\"type\":\"LinearScale\"},\"y_range\":{\"id\":\"8200\",\"type\":\"DataRange1d\"},\"y_scale\":{\"id\":\"8204\",\"type\":\"LinearScale\"}},\"id\":\"8195\",\"subtype\":\"Figure\",\"type\":\"Plot\"},{\"attributes\":{\"axis_label\":\"Life Expectancy\",\"formatter\":{\"id\":\"8189\",\"type\":\"BasicTickFormatter\"},\"ticker\":{\"id\":\"8176\",\"type\":\"BasicTicker\"}},\"id\":\"8175\",\"type\":\"LinearAxis\"},{\"attributes\":{\"callback\":null},\"id\":\"8164\",\"type\":\"DataRange1d\"},{\"attributes\":{},\"id\":\"8168\",\"type\":\"LinearScale\"},{\"attributes\":{\"factors\":[\"South Asia\",\"Europe & Central Asia\",\"Middle East & North Africa\",\"Sub-Saharan Africa\",\"America\",\"East Asia & Pacific\"],\"palette\":[\"#3288bd\",\"#99d594\",\"#e6f598\",\"#fee08b\",\"#fc8d59\",\"#d53e4f\"]},\"id\":\"8182\",\"type\":\"CategoricalColorMapper\"},{\"attributes\":{\"bottom_units\":\"screen\",\"fill_alpha\":{\"value\":0.5},\"fill_color\":{\"value\":\"lightgrey\"},\"left_units\":\"screen\",\"level\":\"overlay\",\"line_alpha\":{\"value\":1.0},\"line_color\":{\"value\":\"black\"},\"line_dash\":[4,4],\"line_width\":{\"value\":2},\"render_mode\":\"css\",\"right_units\":\"screen\",\"top_units\":\"screen\"},\"id\":\"8231\",\"type\":\"BoxAnnotation\"},{\"attributes\":{\"active_drag\":\"auto\",\"active_inspect\":\"auto\",\"active_multi\":null,\"active_scroll\":\"auto\",\"active_tap\":\"auto\",\"tools\":[{\"id\":\"8216\",\"type\":\"BoxSelectTool\"},{\"id\":\"8217\",\"type\":\"ResetTool\"}]},\"id\":\"8218\",\"type\":\"Toolbar\"},{\"attributes\":{\"items\":[{\"id\":\"8194\",\"type\":\"LegendItem\"}],\"location\":\"bottom_left\"},\"id\":\"8193\",\"type\":\"Legend\"},{\"attributes\":{\"text\":\"Life Expectancy in 1970\"},\"id\":\"8160\",\"type\":\"Title\"},{\"attributes\":{\"below\":[{\"id\":\"8170\",\"type\":\"LinearAxis\"}],\"center\":[{\"id\":\"8174\",\"type\":\"Grid\"},{\"id\":\"8179\",\"type\":\"Grid\"},{\"id\":\"8193\",\"type\":\"Legend\"}],\"left\":[{\"id\":\"8175\",\"type\":\"LinearAxis\"}],\"plot_height\":400,\"plot_width\":700,\"renderers\":[{\"id\":\"8186\",\"type\":\"GlyphRenderer\"}],\"title\":{\"id\":\"8160\",\"type\":\"Title\"},\"toolbar\":{\"id\":\"8180\",\"type\":\"Toolbar\"},\"x_range\":{\"id\":\"8162\",\"type\":\"DataRange1d\"},\"x_scale\":{\"id\":\"8166\",\"type\":\"LinearScale\"},\"y_range\":{\"id\":\"8164\",\"type\":\"DataRange1d\"},\"y_scale\":{\"id\":\"8168\",\"type\":\"LinearScale\"}},\"id\":\"8159\",\"subtype\":\"Figure\",\"type\":\"Plot\"}],\"root_ids\":[\"8236\"]},\"title\":\"Bokeh Application\",\"version\":\"1.2.0\"}};\n",
       "  var render_items = [{\"docid\":\"e77e360d-3acf-4a7e-ba1b-393983797ff0\",\"roots\":{\"8236\":\"eb0b502c-9278-47d1-89e3-e60a435ba4ee\"}}];\n",
       "  root.Bokeh.embed.embed_items_notebook(docs_json, render_items);\n",
       "\n",
       "  }\n",
       "  if (root.Bokeh !== undefined) {\n",
       "    embed_document(root);\n",
       "  } else {\n",
       "    var attempts = 0;\n",
       "    var timer = setInterval(function(root) {\n",
       "      if (root.Bokeh !== undefined) {\n",
       "        embed_document(root);\n",
       "        clearInterval(timer);\n",
       "      }\n",
       "      attempts++;\n",
       "      if (attempts > 100) {\n",
       "        console.log(\"Bokeh: ERROR: Unable to run BokehJS code because BokehJS library is missing\");\n",
       "        clearInterval(timer);\n",
       "      }\n",
       "    }, 10, root)\n",
       "  }\n",
       "})(window);"
      ],
      "application/vnd.bokehjs_exec.v0+json": ""
     },
     "metadata": {
      "application/vnd.bokehjs_exec.v0+json": {
       "id": "8236"
      }
     },
     "output_type": "display_data"
    }
   ],
   "source": [
    "source = ColumnDataSource(gapminder)\n",
    "hover = HoverTool(tooltips=[('Country', '@Country'), ('Fertility', '@fertility'),\n",
    "                            ('Life Expectancy', '@life'),('GDP','@gdp')])\n",
    "plot = figure(plot_width=700, plot_height=400, tools=[hover],\n",
    "              x_axis_label='Fertility', y_axis_label='Life Expectancy', title='Life Expectancy in 1970')\n",
    "mapper = CategoricalColorMapper(factors=list(gapminder['region'].unique()),palette='Spectral6' )              \n",
    "plot.circle('fertility', 'life',color={'field':'region', 'transform':mapper},legend='region',source=source, size=5)\n",
    "plot.legend.location = 'bottom_left'\n",
    "\n",
    "plot2 = figure(plot_width=700, plot_height=400, tools='box_select, reset',\n",
    "              x_axis_label='Fertility', y_axis_label='Life Expectancy', title='Life Expectancy in 1970')\n",
    "plot2.circle('fertility', 'life',color={'field':'region', 'transform':mapper},legend='region',source=source, size=5)\n",
    "plot2.legend.location = 'bottom_left'\n",
    "\n",
    "tab1 = Panel(child=plot, title='Hover')\n",
    "tab2 = Panel(child=plot2, title='Box Select')\n",
    "\n",
    "tabs = Tabs(tabs=[tab1, tab2])\n",
    "show(tabs)\n"
   ]
  },
  {
   "cell_type": "code",
   "execution_count": 69,
   "metadata": {
    "colab": {
     "base_uri": "https://localhost:8080/",
     "height": 508,
     "referenced_widgets": [
      "1912aad28ace4158b2b0f961b0455b7c",
      "77095972ba43432eb4ec0546d38f07a3",
      "c02242182e7f4023b8a86b5e2983706d",
      "225efe31b6334f7fb21f2748de9fdcd0",
      "0ff3ed71bca14e4090cfeac20d297f10",
      "e155b8b951204145800b3fb8f7376783",
      "7523a3a3c273413db737cc0bf0b5cef3",
      "22fc4c34ebe14f0db93a3189d124e55b",
      "0631da7780eb404999283a4da03daf82",
      "d9b93fc899184af597b0b4c11403b250"
     ]
    },
    "colab_type": "code",
    "id": "WkbRG0A7-uys",
    "outputId": "75336717-7464-4244-dc4e-0589ba01178d"
   },
   "outputs": [
    {
     "data": {
      "application/vnd.jupyter.widget-view+json": {
       "model_id": "38723be7b4a3485abf0febe43b819542",
       "version_major": 2,
       "version_minor": 0
      },
      "text/plain": [
       "interactive(children=(IntText(value=1000000, description='v1'), IntText(value=1000000, description='v2'), Outp…"
      ]
     },
     "metadata": {},
     "output_type": "display_data"
    }
   ],
   "source": [
    "max_v1 = max(movie['box_off_num'])\n",
    "max_v2 = np.nanmax(movie['dir_prev_bfnum'])\n",
    "sns.set(font='NanumGothic', style='whitegrid')\n",
    "@interact(v1=widgets.IntText(value=1000000), v2=widgets.IntText(value=1000000) )\n",
    "\n",
    "def update(v1,v2):\n",
    "    movie2 = movie[(movie['box_off_num']<v1)&(movie['dir_prev_bfnum']<v2)]\n",
    "    a = sns.jointplot(x='box_off_num', y='dir_prev_bfnum', data=movie)\n",
    "    a.fig.suptitle('Joint Plot')\n",
    "    plt.show()"
   ]
  },
  {
   "cell_type": "code",
   "execution_count": 67,
   "metadata": {},
   "outputs": [],
   "source": [
    "epl = pd.read_csv('C:/Users/bighan/Downloads/esc시각화스터디/epl.csv')\n",
    "epl2 = pd.read_csv('C:/Users/bighan/Downloads/esc시각화스터디/epl2.csv')"
   ]
  },
  {
   "cell_type": "code",
   "execution_count": 68,
   "metadata": {},
   "outputs": [
    {
     "data": {
      "text/html": [
       "<div>\n",
       "<style scoped>\n",
       "    .dataframe tbody tr th:only-of-type {\n",
       "        vertical-align: middle;\n",
       "    }\n",
       "\n",
       "    .dataframe tbody tr th {\n",
       "        vertical-align: top;\n",
       "    }\n",
       "\n",
       "    .dataframe thead th {\n",
       "        text-align: right;\n",
       "    }\n",
       "</style>\n",
       "<table border=\"1\" class=\"dataframe\">\n",
       "  <thead>\n",
       "    <tr style=\"text-align: right;\">\n",
       "      <th></th>\n",
       "      <th>name</th>\n",
       "      <th>club</th>\n",
       "      <th>age</th>\n",
       "      <th>position</th>\n",
       "      <th>position_cat</th>\n",
       "      <th>market_value</th>\n",
       "      <th>page_views</th>\n",
       "      <th>fpl_value</th>\n",
       "      <th>fpl_sel</th>\n",
       "      <th>fpl_points</th>\n",
       "      <th>region</th>\n",
       "      <th>nationality</th>\n",
       "      <th>new_foreign</th>\n",
       "      <th>age_cat</th>\n",
       "      <th>club_id</th>\n",
       "      <th>big_club</th>\n",
       "      <th>new_signing</th>\n",
       "    </tr>\n",
       "  </thead>\n",
       "  <tbody>\n",
       "    <tr>\n",
       "      <th>0</th>\n",
       "      <td>Alexis Sanchez</td>\n",
       "      <td>Arsenal</td>\n",
       "      <td>28</td>\n",
       "      <td>LW</td>\n",
       "      <td>1</td>\n",
       "      <td>65.0</td>\n",
       "      <td>4329</td>\n",
       "      <td>12.0</td>\n",
       "      <td>17.10%</td>\n",
       "      <td>264</td>\n",
       "      <td>3.0</td>\n",
       "      <td>Chile</td>\n",
       "      <td>0</td>\n",
       "      <td>4</td>\n",
       "      <td>1</td>\n",
       "      <td>1</td>\n",
       "      <td>0</td>\n",
       "    </tr>\n",
       "    <tr>\n",
       "      <th>1</th>\n",
       "      <td>Mesut Ozil</td>\n",
       "      <td>Arsenal</td>\n",
       "      <td>28</td>\n",
       "      <td>AM</td>\n",
       "      <td>1</td>\n",
       "      <td>50.0</td>\n",
       "      <td>4395</td>\n",
       "      <td>9.5</td>\n",
       "      <td>5.60%</td>\n",
       "      <td>167</td>\n",
       "      <td>2.0</td>\n",
       "      <td>Germany</td>\n",
       "      <td>0</td>\n",
       "      <td>4</td>\n",
       "      <td>1</td>\n",
       "      <td>1</td>\n",
       "      <td>0</td>\n",
       "    </tr>\n",
       "    <tr>\n",
       "      <th>2</th>\n",
       "      <td>Petr Cech</td>\n",
       "      <td>Arsenal</td>\n",
       "      <td>35</td>\n",
       "      <td>GK</td>\n",
       "      <td>4</td>\n",
       "      <td>7.0</td>\n",
       "      <td>1529</td>\n",
       "      <td>5.5</td>\n",
       "      <td>5.90%</td>\n",
       "      <td>134</td>\n",
       "      <td>2.0</td>\n",
       "      <td>Czech Republic</td>\n",
       "      <td>0</td>\n",
       "      <td>6</td>\n",
       "      <td>1</td>\n",
       "      <td>1</td>\n",
       "      <td>0</td>\n",
       "    </tr>\n",
       "    <tr>\n",
       "      <th>3</th>\n",
       "      <td>Theo Walcott</td>\n",
       "      <td>Arsenal</td>\n",
       "      <td>28</td>\n",
       "      <td>RW</td>\n",
       "      <td>1</td>\n",
       "      <td>20.0</td>\n",
       "      <td>2393</td>\n",
       "      <td>7.5</td>\n",
       "      <td>1.50%</td>\n",
       "      <td>122</td>\n",
       "      <td>1.0</td>\n",
       "      <td>England</td>\n",
       "      <td>0</td>\n",
       "      <td>4</td>\n",
       "      <td>1</td>\n",
       "      <td>1</td>\n",
       "      <td>0</td>\n",
       "    </tr>\n",
       "    <tr>\n",
       "      <th>4</th>\n",
       "      <td>Laurent Koscielny</td>\n",
       "      <td>Arsenal</td>\n",
       "      <td>31</td>\n",
       "      <td>CB</td>\n",
       "      <td>3</td>\n",
       "      <td>22.0</td>\n",
       "      <td>912</td>\n",
       "      <td>6.0</td>\n",
       "      <td>0.70%</td>\n",
       "      <td>121</td>\n",
       "      <td>2.0</td>\n",
       "      <td>France</td>\n",
       "      <td>0</td>\n",
       "      <td>4</td>\n",
       "      <td>1</td>\n",
       "      <td>1</td>\n",
       "      <td>0</td>\n",
       "    </tr>\n",
       "  </tbody>\n",
       "</table>\n",
       "</div>"
      ],
      "text/plain": [
       "                name     club  age position  position_cat  market_value  \\\n",
       "0     Alexis Sanchez  Arsenal   28       LW             1          65.0   \n",
       "1         Mesut Ozil  Arsenal   28       AM             1          50.0   \n",
       "2          Petr Cech  Arsenal   35       GK             4           7.0   \n",
       "3       Theo Walcott  Arsenal   28       RW             1          20.0   \n",
       "4  Laurent Koscielny  Arsenal   31       CB             3          22.0   \n",
       "\n",
       "   page_views  fpl_value fpl_sel  fpl_points  region     nationality  \\\n",
       "0        4329       12.0  17.10%         264     3.0           Chile   \n",
       "1        4395        9.5   5.60%         167     2.0         Germany   \n",
       "2        1529        5.5   5.90%         134     2.0  Czech Republic   \n",
       "3        2393        7.5   1.50%         122     1.0         England   \n",
       "4         912        6.0   0.70%         121     2.0          France   \n",
       "\n",
       "   new_foreign  age_cat  club_id  big_club  new_signing  \n",
       "0            0        4        1         1            0  \n",
       "1            0        4        1         1            0  \n",
       "2            0        6        1         1            0  \n",
       "3            0        4        1         1            0  \n",
       "4            0        4        1         1            0  "
      ]
     },
     "execution_count": 68,
     "metadata": {},
     "output_type": "execute_result"
    }
   ],
   "source": [
    "epl.head()"
   ]
  },
  {
   "cell_type": "code",
   "execution_count": 79,
   "metadata": {},
   "outputs": [
    {
     "data": {
      "application/vnd.jupyter.widget-view+json": {
       "model_id": "fb626500a55448528508a0bcc5ec3065",
       "version_major": 2,
       "version_minor": 0
      },
      "text/plain": [
       "interactive(children=(Text(value='Chelsea', description='name'), Output()), _dom_classes=('widget-interact',))"
      ]
     },
     "metadata": {},
     "output_type": "display_data"
    }
   ],
   "source": [
    "@interact(name=widgets.Text(value='Chelsea'))\n",
    "\n",
    "def update(name):\n",
    "    epl3 = epl[epl['club'].str.contains(name)]\n",
    "    return(epl3)"
   ]
  },
  {
   "cell_type": "code",
   "execution_count": 84,
   "metadata": {},
   "outputs": [
    {
     "ename": "TypeError",
     "evalue": "'type' object is not subscriptable",
     "output_type": "error",
     "traceback": [
      "\u001b[1;31m---------------------------------------------------------------------------\u001b[0m",
      "\u001b[1;31mTypeError\u001b[0m                                 Traceback (most recent call last)",
      "\u001b[1;32m<ipython-input-84-de8e3b9c3ecc>\u001b[0m in \u001b[0;36m<module>\u001b[1;34m\u001b[0m\n\u001b[0;32m      2\u001b[0m              title='age vs. market_value')\n\u001b[0;32m      3\u001b[0m \u001b[0msource\u001b[0m \u001b[1;33m=\u001b[0m \u001b[0mColumnDataSource\u001b[0m\u001b[1;33m(\u001b[0m\u001b[0mepl\u001b[0m\u001b[1;33m)\u001b[0m\u001b[1;33m\u001b[0m\u001b[1;33m\u001b[0m\u001b[0m\n\u001b[1;32m----> 4\u001b[1;33m \u001b[0mmapper\u001b[0m \u001b[1;33m=\u001b[0m \u001b[0mCategoricalColorMapper\u001b[0m\u001b[1;33m(\u001b[0m\u001b[0mfactors\u001b[0m\u001b[1;33m=\u001b[0m\u001b[0mlist\u001b[0m\u001b[1;33m[\u001b[0m\u001b[0mepl\u001b[0m\u001b[1;33m[\u001b[0m\u001b[1;34m'region'\u001b[0m\u001b[1;33m]\u001b[0m\u001b[1;33m.\u001b[0m\u001b[0munique\u001b[0m\u001b[1;33m(\u001b[0m\u001b[1;33m)\u001b[0m\u001b[1;33m]\u001b[0m\u001b[1;33m,\u001b[0m \u001b[0mpalette\u001b[0m\u001b[1;33m=\u001b[0m\u001b[1;34m'Spectral6'\u001b[0m\u001b[1;33m)\u001b[0m\u001b[1;33m\u001b[0m\u001b[1;33m\u001b[0m\u001b[0m\n\u001b[0m\u001b[0;32m      5\u001b[0m plot.circle('age', 'market_value', color={'field':'region', 'transform':mapper},\n\u001b[0;32m      6\u001b[0m             legend='region', source=source)\n",
      "\u001b[1;31mTypeError\u001b[0m: 'type' object is not subscriptable"
     ]
    }
   ],
   "source": [
    "plot = figure(plot_width=400, plot_height=400, x_axis_label='age', y_axis_label='market_value',\n",
    "             title='age vs. market_value')\n",
    "source = ColumnDataSource(epl)\n",
    "mapper = CategoricalColorMapper(factors=list[epl['region'].unique()], palette='Spectral6')\n",
    "plot.circle('age', 'market_value', color={'field':'region', 'transform':mapper},\n",
    "            legend='region', source=source)\n",
    "plot.legend.location = 'top_left'\n",
    "show(plot)\n",
    "# legend 추가"
   ]
  },
  {
   "cell_type": "code",
   "execution_count": null,
   "metadata": {},
   "outputs": [],
   "source": []
  },
  {
   "cell_type": "code",
   "execution_count": null,
   "metadata": {},
   "outputs": [],
   "source": []
  },
  {
   "cell_type": "code",
   "execution_count": null,
   "metadata": {},
   "outputs": [],
   "source": []
  },
  {
   "cell_type": "code",
   "execution_count": null,
   "metadata": {},
   "outputs": [],
   "source": []
  },
  {
   "cell_type": "code",
   "execution_count": null,
   "metadata": {},
   "outputs": [],
   "source": []
  }
 ],
 "metadata": {
  "colab": {
   "collapsed_sections": [],
   "name": "시각화week3_박대한.ipynb",
   "provenance": []
  },
  "kernelspec": {
   "display_name": "Python 3",
   "language": "python",
   "name": "python3"
  },
  "language_info": {
   "codemirror_mode": {
    "name": "ipython",
    "version": 3
   },
   "file_extension": ".py",
   "mimetype": "text/x-python",
   "name": "python",
   "nbconvert_exporter": "python",
   "pygments_lexer": "ipython3",
   "version": "3.7.3"
  },
  "widgets": {
   "application/vnd.jupyter.widget-state+json": {
    "0631da7780eb404999283a4da03daf82": {
     "model_module": "@jupyter-widgets/base",
     "model_name": "LayoutModel",
     "state": {
      "_model_module": "@jupyter-widgets/base",
      "_model_module_version": "1.2.0",
      "_model_name": "LayoutModel",
      "_view_count": null,
      "_view_module": "@jupyter-widgets/base",
      "_view_module_version": "1.2.0",
      "_view_name": "LayoutView",
      "align_content": null,
      "align_items": null,
      "align_self": null,
      "border": null,
      "bottom": null,
      "display": null,
      "flex": null,
      "flex_flow": null,
      "grid_area": null,
      "grid_auto_columns": null,
      "grid_auto_flow": null,
      "grid_auto_rows": null,
      "grid_column": null,
      "grid_gap": null,
      "grid_row": null,
      "grid_template_areas": null,
      "grid_template_columns": null,
      "grid_template_rows": null,
      "height": null,
      "justify_content": null,
      "justify_items": null,
      "left": null,
      "margin": null,
      "max_height": null,
      "max_width": null,
      "min_height": null,
      "min_width": null,
      "object_fit": null,
      "object_position": null,
      "order": null,
      "overflow": null,
      "overflow_x": null,
      "overflow_y": null,
      "padding": null,
      "right": null,
      "top": null,
      "visibility": null,
      "width": null
     }
    },
    "06b03856bf0646b1a5abaa91e44c4695": {
     "model_module": "@jupyter-widgets/base",
     "model_name": "LayoutModel",
     "state": {
      "_model_module": "@jupyter-widgets/base",
      "_model_module_version": "1.2.0",
      "_model_name": "LayoutModel",
      "_view_count": null,
      "_view_module": "@jupyter-widgets/base",
      "_view_module_version": "1.2.0",
      "_view_name": "LayoutView",
      "align_content": null,
      "align_items": null,
      "align_self": null,
      "border": null,
      "bottom": null,
      "display": null,
      "flex": null,
      "flex_flow": null,
      "grid_area": null,
      "grid_auto_columns": null,
      "grid_auto_flow": null,
      "grid_auto_rows": null,
      "grid_column": null,
      "grid_gap": null,
      "grid_row": null,
      "grid_template_areas": null,
      "grid_template_columns": null,
      "grid_template_rows": null,
      "height": null,
      "justify_content": null,
      "justify_items": null,
      "left": null,
      "margin": null,
      "max_height": null,
      "max_width": null,
      "min_height": null,
      "min_width": null,
      "object_fit": null,
      "object_position": null,
      "order": null,
      "overflow": null,
      "overflow_x": null,
      "overflow_y": null,
      "padding": null,
      "right": null,
      "top": null,
      "visibility": null,
      "width": null
     }
    },
    "0771e9741b2f4fa8b2f0d1714a6983a3": {
     "model_module": "@jupyter-widgets/output",
     "model_name": "OutputModel",
     "state": {
      "_dom_classes": [],
      "_model_module": "@jupyter-widgets/output",
      "_model_module_version": "1.0.0",
      "_model_name": "OutputModel",
      "_view_count": null,
      "_view_module": "@jupyter-widgets/output",
      "_view_module_version": "1.0.0",
      "_view_name": "OutputView",
      "layout": "IPY_MODEL_f3a3317f98d642519db4092d0c162f9c",
      "msg_id": "",
      "outputs": [
       {
        "metadata": {
         "tags": []
        },
        "output_type": "display_data",
        "text/html": "<div>\n<style scoped>\n    .dataframe tbody tr th:only-of-type {\n        vertical-align: middle;\n    }\n\n    .dataframe tbody tr th {\n        vertical-align: top;\n    }\n\n    .dataframe thead th {\n        text-align: right;\n    }\n</style>\n<table border=\"1\" class=\"dataframe\">\n  <thead>\n    <tr style=\"text-align: right;\">\n      <th></th>\n      <th>title</th>\n      <th>distributor</th>\n      <th>genre</th>\n      <th>release_time</th>\n      <th>time</th>\n      <th>screening_rat</th>\n      <th>director</th>\n      <th>dir_prev_bfnum</th>\n      <th>dir_prev_num</th>\n      <th>num_staff</th>\n      <th>num_actor</th>\n      <th>box_off_num</th>\n    </tr>\n  </thead>\n  <tbody>\n    <tr>\n      <th>1</th>\n      <td>내부자들</td>\n      <td>(주)쇼박스</td>\n      <td>느와르</td>\n      <td>2015-11-19</td>\n      <td>130</td>\n      <td>청소년 관람불가</td>\n      <td>우민호</td>\n      <td>1161602.5</td>\n      <td>2</td>\n      <td>387</td>\n      <td>3</td>\n      <td>7072501</td>\n    </tr>\n    <tr>\n      <th>377</th>\n      <td>내부자들: 디 오리지널</td>\n      <td>(주)쇼박스</td>\n      <td>느와르</td>\n      <td>2015-12-31</td>\n      <td>180</td>\n      <td>청소년 관람불가</td>\n      <td>우민호</td>\n      <td>3131902.0</td>\n      <td>3</td>\n      <td>382</td>\n      <td>3</td>\n      <td>2084844</td>\n    </tr>\n  </tbody>\n</table>\n</div>",
        "text/plain": "            title distributor genre  ... num_staff  num_actor box_off_num\n1            내부자들      (주)쇼박스   느와르  ...       387          3     7072501\n377  내부자들: 디 오리지널      (주)쇼박스   느와르  ...       382          3     2084844\n\n[2 rows x 12 columns]"
       }
      ]
     }
    },
    "096e92c1d05b427d8d8944af2513b68d": {
     "model_module": "@jupyter-widgets/controls",
     "model_name": "DescriptionStyleModel",
     "state": {
      "_model_module": "@jupyter-widgets/controls",
      "_model_module_version": "1.5.0",
      "_model_name": "DescriptionStyleModel",
      "_view_count": null,
      "_view_module": "@jupyter-widgets/base",
      "_view_module_version": "1.2.0",
      "_view_name": "StyleView",
      "description_width": ""
     }
    },
    "0af6c74c81e8435d86a13e850ef8b796": {
     "model_module": "@jupyter-widgets/controls",
     "model_name": "IntSliderModel",
     "state": {
      "_dom_classes": [],
      "_model_module": "@jupyter-widgets/controls",
      "_model_module_version": "1.5.0",
      "_model_name": "IntSliderModel",
      "_view_count": null,
      "_view_module": "@jupyter-widgets/controls",
      "_view_module_version": "1.5.0",
      "_view_name": "IntSliderView",
      "continuous_update": true,
      "description": "sigma",
      "description_tooltip": null,
      "disabled": false,
      "layout": "IPY_MODEL_0fe09dcc07c3455c825a04f0af1a7a92",
      "max": 5,
      "min": 1,
      "orientation": "horizontal",
      "readout": true,
      "readout_format": "d",
      "step": 1,
      "style": "IPY_MODEL_c60e8a9650f94627bfa6e6c4a6efbbbc",
      "value": 3
     }
    },
    "0ba36251be1c4ff082921eed3ff40902": {
     "model_module": "@jupyter-widgets/base",
     "model_name": "LayoutModel",
     "state": {
      "_model_module": "@jupyter-widgets/base",
      "_model_module_version": "1.2.0",
      "_model_name": "LayoutModel",
      "_view_count": null,
      "_view_module": "@jupyter-widgets/base",
      "_view_module_version": "1.2.0",
      "_view_name": "LayoutView",
      "align_content": null,
      "align_items": null,
      "align_self": null,
      "border": null,
      "bottom": null,
      "display": null,
      "flex": null,
      "flex_flow": null,
      "grid_area": null,
      "grid_auto_columns": null,
      "grid_auto_flow": null,
      "grid_auto_rows": null,
      "grid_column": null,
      "grid_gap": null,
      "grid_row": null,
      "grid_template_areas": null,
      "grid_template_columns": null,
      "grid_template_rows": null,
      "height": null,
      "justify_content": null,
      "justify_items": null,
      "left": null,
      "margin": null,
      "max_height": null,
      "max_width": null,
      "min_height": null,
      "min_width": null,
      "object_fit": null,
      "object_position": null,
      "order": null,
      "overflow": null,
      "overflow_x": null,
      "overflow_y": null,
      "padding": null,
      "right": null,
      "top": null,
      "visibility": null,
      "width": null
     }
    },
    "0c5c24ff2c0a44f9939ddc9fe754040c": {
     "model_module": "@jupyter-widgets/controls",
     "model_name": "VBoxModel",
     "state": {
      "_dom_classes": [
       "widget-interact"
      ],
      "_model_module": "@jupyter-widgets/controls",
      "_model_module_version": "1.5.0",
      "_model_name": "VBoxModel",
      "_view_count": null,
      "_view_module": "@jupyter-widgets/controls",
      "_view_module_version": "1.5.0",
      "_view_name": "VBoxView",
      "box_style": "",
      "children": [
       "IPY_MODEL_25c616c02ab14758ac5df31c71e2b7fb",
       "IPY_MODEL_76c3cf7f131845b29556f245cb57a61c",
       "IPY_MODEL_ebe5ae153eed4940aedb7cee39f61534"
      ],
      "layout": "IPY_MODEL_86575424716c4a5791ec6d12ee8a9305"
     }
    },
    "0fe09dcc07c3455c825a04f0af1a7a92": {
     "model_module": "@jupyter-widgets/base",
     "model_name": "LayoutModel",
     "state": {
      "_model_module": "@jupyter-widgets/base",
      "_model_module_version": "1.2.0",
      "_model_name": "LayoutModel",
      "_view_count": null,
      "_view_module": "@jupyter-widgets/base",
      "_view_module_version": "1.2.0",
      "_view_name": "LayoutView",
      "align_content": null,
      "align_items": null,
      "align_self": null,
      "border": null,
      "bottom": null,
      "display": null,
      "flex": null,
      "flex_flow": null,
      "grid_area": null,
      "grid_auto_columns": null,
      "grid_auto_flow": null,
      "grid_auto_rows": null,
      "grid_column": null,
      "grid_gap": null,
      "grid_row": null,
      "grid_template_areas": null,
      "grid_template_columns": null,
      "grid_template_rows": null,
      "height": null,
      "justify_content": null,
      "justify_items": null,
      "left": null,
      "margin": null,
      "max_height": null,
      "max_width": null,
      "min_height": null,
      "min_width": null,
      "object_fit": null,
      "object_position": null,
      "order": null,
      "overflow": null,
      "overflow_x": null,
      "overflow_y": null,
      "padding": null,
      "right": null,
      "top": null,
      "visibility": null,
      "width": null
     }
    },
    "0ff3ed71bca14e4090cfeac20d297f10": {
     "model_module": "@jupyter-widgets/output",
     "model_name": "OutputModel",
     "state": {
      "_dom_classes": [],
      "_model_module": "@jupyter-widgets/output",
      "_model_module_version": "1.0.0",
      "_model_name": "OutputModel",
      "_view_count": null,
      "_view_module": "@jupyter-widgets/output",
      "_view_module_version": "1.0.0",
      "_view_name": "OutputView",
      "layout": "IPY_MODEL_d9b93fc899184af597b0b4c11403b250",
      "msg_id": "",
      "outputs": [
       {
        "image/png": "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\n",
        "metadata": {
         "image/png": {
          "height": 425,
          "width": 427
         },
         "tags": []
        },
        "output_type": "display_data",
        "text/plain": "<Figure size 432x432 with 3 Axes>"
       }
      ]
     }
    },
    "1912aad28ace4158b2b0f961b0455b7c": {
     "model_module": "@jupyter-widgets/controls",
     "model_name": "VBoxModel",
     "state": {
      "_dom_classes": [
       "widget-interact"
      ],
      "_model_module": "@jupyter-widgets/controls",
      "_model_module_version": "1.5.0",
      "_model_name": "VBoxModel",
      "_view_count": null,
      "_view_module": "@jupyter-widgets/controls",
      "_view_module_version": "1.5.0",
      "_view_name": "VBoxView",
      "box_style": "",
      "children": [
       "IPY_MODEL_c02242182e7f4023b8a86b5e2983706d",
       "IPY_MODEL_225efe31b6334f7fb21f2748de9fdcd0",
       "IPY_MODEL_0ff3ed71bca14e4090cfeac20d297f10"
      ],
      "layout": "IPY_MODEL_77095972ba43432eb4ec0546d38f07a3"
     }
    },
    "1b0fa55543cc42e89ab7b300ff7b1c2f": {
     "model_module": "@jupyter-widgets/controls",
     "model_name": "IntSliderModel",
     "state": {
      "_dom_classes": [],
      "_model_module": "@jupyter-widgets/controls",
      "_model_module_version": "1.5.0",
      "_model_name": "IntSliderModel",
      "_view_count": null,
      "_view_module": "@jupyter-widgets/controls",
      "_view_module_version": "1.5.0",
      "_view_name": "IntSliderView",
      "continuous_update": true,
      "description": "v2",
      "description_tooltip": null,
      "disabled": false,
      "layout": "IPY_MODEL_336d1c5ade824b19bda9bff5505cf081",
      "max": 31,
      "min": 1,
      "orientation": "horizontal",
      "readout": true,
      "readout_format": "d",
      "step": 1,
      "style": "IPY_MODEL_b4725c6c136f4ef4a8cf9663935e2876",
      "value": 10
     }
    },
    "1ffe8db615ee4c71bbda956522fd38eb": {
     "model_module": "@jupyter-widgets/base",
     "model_name": "LayoutModel",
     "state": {
      "_model_module": "@jupyter-widgets/base",
      "_model_module_version": "1.2.0",
      "_model_name": "LayoutModel",
      "_view_count": null,
      "_view_module": "@jupyter-widgets/base",
      "_view_module_version": "1.2.0",
      "_view_name": "LayoutView",
      "align_content": null,
      "align_items": null,
      "align_self": null,
      "border": null,
      "bottom": null,
      "display": null,
      "flex": null,
      "flex_flow": null,
      "grid_area": null,
      "grid_auto_columns": null,
      "grid_auto_flow": null,
      "grid_auto_rows": null,
      "grid_column": null,
      "grid_gap": null,
      "grid_row": null,
      "grid_template_areas": null,
      "grid_template_columns": null,
      "grid_template_rows": null,
      "height": null,
      "justify_content": null,
      "justify_items": null,
      "left": null,
      "margin": null,
      "max_height": null,
      "max_width": null,
      "min_height": null,
      "min_width": null,
      "object_fit": null,
      "object_position": null,
      "order": null,
      "overflow": null,
      "overflow_x": null,
      "overflow_y": null,
      "padding": null,
      "right": null,
      "top": null,
      "visibility": null,
      "width": null
     }
    },
    "225efe31b6334f7fb21f2748de9fdcd0": {
     "model_module": "@jupyter-widgets/controls",
     "model_name": "IntTextModel",
     "state": {
      "_dom_classes": [],
      "_model_module": "@jupyter-widgets/controls",
      "_model_module_version": "1.5.0",
      "_model_name": "IntTextModel",
      "_view_count": null,
      "_view_module": "@jupyter-widgets/controls",
      "_view_module_version": "1.5.0",
      "_view_name": "IntTextView",
      "continuous_update": false,
      "description": "v2",
      "description_tooltip": null,
      "disabled": false,
      "layout": "IPY_MODEL_0631da7780eb404999283a4da03daf82",
      "step": 1,
      "style": "IPY_MODEL_22fc4c34ebe14f0db93a3189d124e55b",
      "value": 50000
     }
    },
    "22fc4c34ebe14f0db93a3189d124e55b": {
     "model_module": "@jupyter-widgets/controls",
     "model_name": "DescriptionStyleModel",
     "state": {
      "_model_module": "@jupyter-widgets/controls",
      "_model_module_version": "1.5.0",
      "_model_name": "DescriptionStyleModel",
      "_view_count": null,
      "_view_module": "@jupyter-widgets/base",
      "_view_module_version": "1.2.0",
      "_view_name": "StyleView",
      "description_width": ""
     }
    },
    "2577b3edd13b4730931354f13d0f4392": {
     "model_module": "@jupyter-widgets/controls",
     "model_name": "DropdownModel",
     "state": {
      "_dom_classes": [],
      "_model_module": "@jupyter-widgets/controls",
      "_model_module_version": "1.5.0",
      "_model_name": "DropdownModel",
      "_options_labels": [
       "red",
       "blue",
       "green"
      ],
      "_view_count": null,
      "_view_module": "@jupyter-widgets/controls",
      "_view_module_version": "1.5.0",
      "_view_name": "DropdownView",
      "description": "c2",
      "description_tooltip": null,
      "disabled": false,
      "index": 0,
      "layout": "IPY_MODEL_4e7aa783e1484a05b731854e79b95ac4",
      "style": "IPY_MODEL_b8f1d998646a465489a57fd451ce778e"
     }
    },
    "25c616c02ab14758ac5df31c71e2b7fb": {
     "model_module": "@jupyter-widgets/controls",
     "model_name": "IntSliderModel",
     "state": {
      "_dom_classes": [],
      "_model_module": "@jupyter-widgets/controls",
      "_model_module_version": "1.5.0",
      "_model_name": "IntSliderModel",
      "_view_count": null,
      "_view_module": "@jupyter-widgets/controls",
      "_view_module_version": "1.5.0",
      "_view_name": "IntSliderView",
      "continuous_update": true,
      "description": "shape",
      "description_tooltip": null,
      "disabled": false,
      "layout": "IPY_MODEL_ca829b0b77ff4c09a687f64ccbb2d250",
      "max": 5,
      "min": 1,
      "orientation": "horizontal",
      "readout": true,
      "readout_format": "d",
      "step": 1,
      "style": "IPY_MODEL_43268faa13fd43f58f781653cf990c0f",
      "value": 3
     }
    },
    "27022ffbf0c84f4891d45cb5eee9533d": {
     "model_module": "@jupyter-widgets/controls",
     "model_name": "DropdownModel",
     "state": {
      "_dom_classes": [],
      "_model_module": "@jupyter-widgets/controls",
      "_model_module_version": "1.5.0",
      "_model_name": "DropdownModel",
      "_options_labels": [
       "red",
       "blue",
       "green"
      ],
      "_view_count": null,
      "_view_module": "@jupyter-widgets/controls",
      "_view_module_version": "1.5.0",
      "_view_name": "DropdownView",
      "description": "c1",
      "description_tooltip": null,
      "disabled": false,
      "index": 0,
      "layout": "IPY_MODEL_6c66ff4431db446d84672800612042c4",
      "style": "IPY_MODEL_322951b8ec0441dea2fad47f38cdb1e3"
     }
    },
    "2859c34f5c0a409ab87f92b330a8d0b3": {
     "model_module": "@jupyter-widgets/controls",
     "model_name": "DescriptionStyleModel",
     "state": {
      "_model_module": "@jupyter-widgets/controls",
      "_model_module_version": "1.5.0",
      "_model_name": "DescriptionStyleModel",
      "_view_count": null,
      "_view_module": "@jupyter-widgets/base",
      "_view_module_version": "1.2.0",
      "_view_name": "StyleView",
      "description_width": ""
     }
    },
    "2ae3ead2810c4ca7b28adb4f7d3353eb": {
     "model_module": "@jupyter-widgets/controls",
     "model_name": "DescriptionStyleModel",
     "state": {
      "_model_module": "@jupyter-widgets/controls",
      "_model_module_version": "1.5.0",
      "_model_name": "DescriptionStyleModel",
      "_view_count": null,
      "_view_module": "@jupyter-widgets/base",
      "_view_module_version": "1.2.0",
      "_view_name": "StyleView",
      "description_width": ""
     }
    },
    "2b15d92af3204c86af84ee26eb8b1ea1": {
     "model_module": "@jupyter-widgets/controls",
     "model_name": "DescriptionStyleModel",
     "state": {
      "_model_module": "@jupyter-widgets/controls",
      "_model_module_version": "1.5.0",
      "_model_name": "DescriptionStyleModel",
      "_view_count": null,
      "_view_module": "@jupyter-widgets/base",
      "_view_module_version": "1.2.0",
      "_view_name": "StyleView",
      "description_width": ""
     }
    },
    "2d45495a7d5f498ebe00aeaf372bfb19": {
     "model_module": "@jupyter-widgets/base",
     "model_name": "LayoutModel",
     "state": {
      "_model_module": "@jupyter-widgets/base",
      "_model_module_version": "1.2.0",
      "_model_name": "LayoutModel",
      "_view_count": null,
      "_view_module": "@jupyter-widgets/base",
      "_view_module_version": "1.2.0",
      "_view_name": "LayoutView",
      "align_content": null,
      "align_items": null,
      "align_self": null,
      "border": null,
      "bottom": null,
      "display": null,
      "flex": null,
      "flex_flow": null,
      "grid_area": null,
      "grid_auto_columns": null,
      "grid_auto_flow": null,
      "grid_auto_rows": null,
      "grid_column": null,
      "grid_gap": null,
      "grid_row": null,
      "grid_template_areas": null,
      "grid_template_columns": null,
      "grid_template_rows": null,
      "height": null,
      "justify_content": null,
      "justify_items": null,
      "left": null,
      "margin": null,
      "max_height": null,
      "max_width": null,
      "min_height": null,
      "min_width": null,
      "object_fit": null,
      "object_position": null,
      "order": null,
      "overflow": null,
      "overflow_x": null,
      "overflow_y": null,
      "padding": null,
      "right": null,
      "top": null,
      "visibility": null,
      "width": null
     }
    },
    "3154ff31813b4ac990ee47ff4043bebd": {
     "model_module": "@jupyter-widgets/output",
     "model_name": "OutputModel",
     "state": {
      "_dom_classes": [],
      "_model_module": "@jupyter-widgets/output",
      "_model_module_version": "1.0.0",
      "_model_name": "OutputModel",
      "_view_count": null,
      "_view_module": "@jupyter-widgets/output",
      "_view_module_version": "1.0.0",
      "_view_name": "OutputView",
      "layout": "IPY_MODEL_869bb7fbfaa349288fc8f4cce71e715c",
      "msg_id": "",
      "outputs": [
       {
        "application/javascript": "\n(function(root) {\n  function now() {\n    return new Date();\n  }\n\n  var force = true;\n\n  if (typeof root._bokeh_onload_callbacks === \"undefined\" || force === true) {\n    root._bokeh_onload_callbacks = [];\n    root._bokeh_is_loading = undefined;\n  }\n\n  var JS_MIME_TYPE = 'application/javascript';\n  var HTML_MIME_TYPE = 'text/html';\n  var EXEC_MIME_TYPE = 'application/vnd.bokehjs_exec.v0+json';\n  var CLASS_NAME = 'output_bokeh rendered_html';\n\n  /**\n   * Render data to the DOM node\n   */\n  function render(props, node) {\n    var script = document.createElement(\"script\");\n    node.appendChild(script);\n  }\n\n  /**\n   * Handle when an output is cleared or removed\n   */\n  function handleClearOutput(event, handle) {\n    var cell = handle.cell;\n\n    var id = cell.output_area._bokeh_element_id;\n    var server_id = cell.output_area._bokeh_server_id;\n    // Clean up Bokeh references\n    if (id != null && id in Bokeh.index) {\n      Bokeh.index[id].model.document.clear();\n      delete Bokeh.index[id];\n    }\n\n    if (server_id !== undefined) {\n      // Clean up Bokeh references\n      var cmd = \"from bokeh.io.state import curstate; print(curstate().uuid_to_server['\" + server_id + \"'].get_sessions()[0].document.roots[0]._id)\";\n      cell.notebook.kernel.execute(cmd, {\n        iopub: {\n          output: function(msg) {\n            var id = msg.content.text.trim();\n            if (id in Bokeh.index) {\n              Bokeh.index[id].model.document.clear();\n              delete Bokeh.index[id];\n            }\n          }\n        }\n      });\n      // Destroy server and session\n      var cmd = \"import bokeh.io.notebook as ion; ion.destroy_server('\" + server_id + \"')\";\n      cell.notebook.kernel.execute(cmd);\n    }\n  }\n\n  /**\n   * Handle when a new output is added\n   */\n  function handleAddOutput(event, handle) {\n    var output_area = handle.output_area;\n    var output = handle.output;\n\n    // limit handleAddOutput to display_data with EXEC_MIME_TYPE content only\n    if ((output.output_type != \"display_data\") || (!output.data.hasOwnProperty(EXEC_MIME_TYPE))) {\n      return\n    }\n\n    var toinsert = output_area.element.find(\".\" + CLASS_NAME.split(' ')[0]);\n\n    if (output.metadata[EXEC_MIME_TYPE][\"id\"] !== undefined) {\n      toinsert[toinsert.length - 1].firstChild.textContent = output.data[JS_MIME_TYPE];\n      // store reference to embed id on output_area\n      output_area._bokeh_element_id = output.metadata[EXEC_MIME_TYPE][\"id\"];\n    }\n    if (output.metadata[EXEC_MIME_TYPE][\"server_id\"] !== undefined) {\n      var bk_div = document.createElement(\"div\");\n      bk_div.innerHTML = output.data[HTML_MIME_TYPE];\n      var script_attrs = bk_div.children[0].attributes;\n      for (var i = 0; i < script_attrs.length; i++) {\n        toinsert[toinsert.length - 1].firstChild.setAttribute(script_attrs[i].name, script_attrs[i].value);\n        toinsert[toinsert.length - 1].firstChild.textContent = bk_div.children[0].textContent\n      }\n      // store reference to server id on output_area\n      output_area._bokeh_server_id = output.metadata[EXEC_MIME_TYPE][\"server_id\"];\n    }\n  }\n\n  function register_renderer(events, OutputArea) {\n\n    function append_mime(data, metadata, element) {\n      // create a DOM node to render to\n      var toinsert = this.create_output_subarea(\n        metadata,\n        CLASS_NAME,\n        EXEC_MIME_TYPE\n      );\n      this.keyboard_manager.register_events(toinsert);\n      // Render to node\n      var props = {data: data, metadata: metadata[EXEC_MIME_TYPE]};\n      render(props, toinsert[toinsert.length - 1]);\n      element.append(toinsert);\n      return toinsert\n    }\n\n    /* Handle when an output is cleared or removed */\n    events.on('clear_output.CodeCell', handleClearOutput);\n    events.on('delete.Cell', handleClearOutput);\n\n    /* Handle when a new output is added */\n    events.on('output_added.OutputArea', handleAddOutput);\n\n    /**\n     * Register the mime type and append_mime function with output_area\n     */\n    OutputArea.prototype.register_mime_type(EXEC_MIME_TYPE, append_mime, {\n      /* Is output safe? */\n      safe: true,\n      /* Index of renderer in `output_area.display_order` */\n      index: 0\n    });\n  }\n\n  // register the mime type if in Jupyter Notebook environment and previously unregistered\n  if (root.Jupyter !== undefined) {\n    var events = require('base/js/events');\n    var OutputArea = require('notebook/js/outputarea').OutputArea;\n\n    if (OutputArea.prototype.mime_types().indexOf(EXEC_MIME_TYPE) == -1) {\n      register_renderer(events, OutputArea);\n    }\n  }\n\n  \n  if (typeof (root._bokeh_timeout) === \"undefined\" || force === true) {\n    root._bokeh_timeout = Date.now() + 5000;\n    root._bokeh_failed_load = false;\n  }\n\n  var NB_LOAD_WARNING = {'data': {'text/html':\n     \"<div style='background-color: #fdd'>\\n\"+\n     \"<p>\\n\"+\n     \"BokehJS does not appear to have successfully loaded. If loading BokehJS from CDN, this \\n\"+\n     \"may be due to a slow or bad network connection. Possible fixes:\\n\"+\n     \"</p>\\n\"+\n     \"<ul>\\n\"+\n     \"<li>re-rerun `output_notebook()` to attempt to load from CDN again, or</li>\\n\"+\n     \"<li>use INLINE resources instead, as so:</li>\\n\"+\n     \"</ul>\\n\"+\n     \"<code>\\n\"+\n     \"from bokeh.resources import INLINE\\n\"+\n     \"output_notebook(resources=INLINE)\\n\"+\n     \"</code>\\n\"+\n     \"</div>\"}};\n\n  function display_loaded() {\n    var el = document.getElementById(null);\n    if (el != null) {\n      el.textContent = \"BokehJS is loading...\";\n    }\n    if (root.Bokeh !== undefined) {\n      if (el != null) {\n        el.textContent = \"BokehJS \" + root.Bokeh.version + \" successfully loaded.\";\n      }\n    } else if (Date.now() < root._bokeh_timeout) {\n      setTimeout(display_loaded, 100)\n    }\n  }\n\n\n  function run_callbacks() {\n    try {\n      root._bokeh_onload_callbacks.forEach(function(callback) {\n        if (callback != null)\n          callback();\n      });\n    } finally {\n      delete root._bokeh_onload_callbacks\n    }\n    console.debug(\"Bokeh: all callbacks have finished\");\n  }\n\n  function load_libs(css_urls, js_urls, callback) {\n    if (css_urls == null) css_urls = [];\n    if (js_urls == null) js_urls = [];\n\n    root._bokeh_onload_callbacks.push(callback);\n    if (root._bokeh_is_loading > 0) {\n      console.debug(\"Bokeh: BokehJS is being loaded, scheduling callback at\", now());\n      return null;\n    }\n    if (js_urls == null || js_urls.length === 0) {\n      run_callbacks();\n      return null;\n    }\n    console.debug(\"Bokeh: BokehJS not loaded, scheduling load and callback at\", now());\n    root._bokeh_is_loading = css_urls.length + js_urls.length;\n\n    function on_load() {\n      root._bokeh_is_loading--;\n      if (root._bokeh_is_loading === 0) {\n        console.debug(\"Bokeh: all BokehJS libraries/stylesheets loaded\");\n        run_callbacks()\n      }\n    }\n\n    function on_error() {\n      console.error(\"failed to load \" + url);\n    }\n\n    for (var i = 0; i < css_urls.length; i++) {\n      var url = css_urls[i];\n      const element = document.createElement(\"link\");\n      element.onload = on_load;\n      element.onerror = on_error;\n      element.rel = \"stylesheet\";\n      element.type = \"text/css\";\n      element.href = url;\n      console.debug(\"Bokeh: injecting link tag for BokehJS stylesheet: \", url);\n      document.body.appendChild(element);\n    }\n\n    const hashes = {\"https://cdn.bokeh.org/bokeh/release/bokeh-2.1.1.min.js\": \"kLr4fYcqcSpbuI95brIH3vnnYCquzzSxHPU6XGQCIkQRGJwhg0StNbj1eegrHs12\", \"https://cdn.bokeh.org/bokeh/release/bokeh-widgets-2.1.1.min.js\": \"xIGPmVtaOm+z0BqfSOMn4lOR6ciex448GIKG4eE61LsAvmGj48XcMQZtKcE/UXZe\", \"https://cdn.bokeh.org/bokeh/release/bokeh-tables-2.1.1.min.js\": \"Dc9u1wF/0zApGIWoBbH77iWEHtdmkuYWG839Uzmv8y8yBLXebjO9ZnERsde5Ln/P\", \"https://cdn.bokeh.org/bokeh/release/bokeh-gl-2.1.1.min.js\": \"cT9JaBz7GiRXdENrJLZNSC6eMNF3nh3fa5fTF51Svp+ukxPdwcU5kGXGPBgDCa2j\"};\n\n    for (var i = 0; i < js_urls.length; i++) {\n      var url = js_urls[i];\n      var element = document.createElement('script');\n      element.onload = on_load;\n      element.onerror = on_error;\n      element.async = false;\n      element.src = url;\n      if (url in hashes) {\n        element.crossOrigin = \"anonymous\";\n        element.integrity = \"sha384-\" + hashes[url];\n      }\n      console.debug(\"Bokeh: injecting script tag for BokehJS library: \", url);\n      document.head.appendChild(element);\n    }\n  };\n\n  function inject_raw_css(css) {\n    const element = document.createElement(\"style\");\n    element.appendChild(document.createTextNode(css));\n    document.body.appendChild(element);\n  }\n\n  \n  var js_urls = [\"https://cdn.bokeh.org/bokeh/release/bokeh-2.1.1.min.js\", \"https://cdn.bokeh.org/bokeh/release/bokeh-widgets-2.1.1.min.js\", \"https://cdn.bokeh.org/bokeh/release/bokeh-tables-2.1.1.min.js\", \"https://cdn.bokeh.org/bokeh/release/bokeh-gl-2.1.1.min.js\"];\n  var css_urls = [];\n  \n\n  var inline_js = [\n    function(Bokeh) {\n      Bokeh.set_log_level(\"info\");\n    },\n    function(Bokeh) {\n    \n    \n    }\n  ];\n\n  function run_inline_js() {\n    \n    if (root.Bokeh !== undefined || force === true) {\n      \n    for (var i = 0; i < inline_js.length; i++) {\n      inline_js[i].call(root, root.Bokeh);\n    }\n    } else if (Date.now() < root._bokeh_timeout) {\n      setTimeout(run_inline_js, 100);\n    } else if (!root._bokeh_failed_load) {\n      console.log(\"Bokeh: BokehJS failed to load within specified timeout.\");\n      root._bokeh_failed_load = true;\n    } else if (force !== true) {\n      var cell = $(document.getElementById(null)).parents('.cell').data().cell;\n      cell.output_area.append_execute_result(NB_LOAD_WARNING)\n    }\n\n  }\n\n  if (root._bokeh_is_loading === 0) {\n    console.debug(\"Bokeh: BokehJS loaded, going straight to plotting\");\n    run_inline_js();\n  } else {\n    load_libs(css_urls, js_urls, function() {\n      console.debug(\"Bokeh: BokehJS plotting callback run at\", now());\n      run_inline_js();\n    });\n  }\n}(window));",
        "application/vnd.bokehjs_load.v0+json": "\n(function(root) {\n  function now() {\n    return new Date();\n  }\n\n  var force = true;\n\n  if (typeof root._bokeh_onload_callbacks === \"undefined\" || force === true) {\n    root._bokeh_onload_callbacks = [];\n    root._bokeh_is_loading = undefined;\n  }\n\n  \n\n  \n  if (typeof (root._bokeh_timeout) === \"undefined\" || force === true) {\n    root._bokeh_timeout = Date.now() + 5000;\n    root._bokeh_failed_load = false;\n  }\n\n  var NB_LOAD_WARNING = {'data': {'text/html':\n     \"<div style='background-color: #fdd'>\\n\"+\n     \"<p>\\n\"+\n     \"BokehJS does not appear to have successfully loaded. If loading BokehJS from CDN, this \\n\"+\n     \"may be due to a slow or bad network connection. Possible fixes:\\n\"+\n     \"</p>\\n\"+\n     \"<ul>\\n\"+\n     \"<li>re-rerun `output_notebook()` to attempt to load from CDN again, or</li>\\n\"+\n     \"<li>use INLINE resources instead, as so:</li>\\n\"+\n     \"</ul>\\n\"+\n     \"<code>\\n\"+\n     \"from bokeh.resources import INLINE\\n\"+\n     \"output_notebook(resources=INLINE)\\n\"+\n     \"</code>\\n\"+\n     \"</div>\"}};\n\n  function display_loaded() {\n    var el = document.getElementById(null);\n    if (el != null) {\n      el.textContent = \"BokehJS is loading...\";\n    }\n    if (root.Bokeh !== undefined) {\n      if (el != null) {\n        el.textContent = \"BokehJS \" + root.Bokeh.version + \" successfully loaded.\";\n      }\n    } else if (Date.now() < root._bokeh_timeout) {\n      setTimeout(display_loaded, 100)\n    }\n  }\n\n\n  function run_callbacks() {\n    try {\n      root._bokeh_onload_callbacks.forEach(function(callback) {\n        if (callback != null)\n          callback();\n      });\n    } finally {\n      delete root._bokeh_onload_callbacks\n    }\n    console.debug(\"Bokeh: all callbacks have finished\");\n  }\n\n  function load_libs(css_urls, js_urls, callback) {\n    if (css_urls == null) css_urls = [];\n    if (js_urls == null) js_urls = [];\n\n    root._bokeh_onload_callbacks.push(callback);\n    if (root._bokeh_is_loading > 0) {\n      console.debug(\"Bokeh: BokehJS is being loaded, scheduling callback at\", now());\n      return null;\n    }\n    if (js_urls == null || js_urls.length === 0) {\n      run_callbacks();\n      return null;\n    }\n    console.debug(\"Bokeh: BokehJS not loaded, scheduling load and callback at\", now());\n    root._bokeh_is_loading = css_urls.length + js_urls.length;\n\n    function on_load() {\n      root._bokeh_is_loading--;\n      if (root._bokeh_is_loading === 0) {\n        console.debug(\"Bokeh: all BokehJS libraries/stylesheets loaded\");\n        run_callbacks()\n      }\n    }\n\n    function on_error() {\n      console.error(\"failed to load \" + url);\n    }\n\n    for (var i = 0; i < css_urls.length; i++) {\n      var url = css_urls[i];\n      const element = document.createElement(\"link\");\n      element.onload = on_load;\n      element.onerror = on_error;\n      element.rel = \"stylesheet\";\n      element.type = \"text/css\";\n      element.href = url;\n      console.debug(\"Bokeh: injecting link tag for BokehJS stylesheet: \", url);\n      document.body.appendChild(element);\n    }\n\n    const hashes = {\"https://cdn.bokeh.org/bokeh/release/bokeh-2.1.1.min.js\": \"kLr4fYcqcSpbuI95brIH3vnnYCquzzSxHPU6XGQCIkQRGJwhg0StNbj1eegrHs12\", \"https://cdn.bokeh.org/bokeh/release/bokeh-widgets-2.1.1.min.js\": \"xIGPmVtaOm+z0BqfSOMn4lOR6ciex448GIKG4eE61LsAvmGj48XcMQZtKcE/UXZe\", \"https://cdn.bokeh.org/bokeh/release/bokeh-tables-2.1.1.min.js\": \"Dc9u1wF/0zApGIWoBbH77iWEHtdmkuYWG839Uzmv8y8yBLXebjO9ZnERsde5Ln/P\", \"https://cdn.bokeh.org/bokeh/release/bokeh-gl-2.1.1.min.js\": \"cT9JaBz7GiRXdENrJLZNSC6eMNF3nh3fa5fTF51Svp+ukxPdwcU5kGXGPBgDCa2j\"};\n\n    for (var i = 0; i < js_urls.length; i++) {\n      var url = js_urls[i];\n      var element = document.createElement('script');\n      element.onload = on_load;\n      element.onerror = on_error;\n      element.async = false;\n      element.src = url;\n      if (url in hashes) {\n        element.crossOrigin = \"anonymous\";\n        element.integrity = \"sha384-\" + hashes[url];\n      }\n      console.debug(\"Bokeh: injecting script tag for BokehJS library: \", url);\n      document.head.appendChild(element);\n    }\n  };\n\n  function inject_raw_css(css) {\n    const element = document.createElement(\"style\");\n    element.appendChild(document.createTextNode(css));\n    document.body.appendChild(element);\n  }\n\n  \n  var js_urls = [\"https://cdn.bokeh.org/bokeh/release/bokeh-2.1.1.min.js\", \"https://cdn.bokeh.org/bokeh/release/bokeh-widgets-2.1.1.min.js\", \"https://cdn.bokeh.org/bokeh/release/bokeh-tables-2.1.1.min.js\", \"https://cdn.bokeh.org/bokeh/release/bokeh-gl-2.1.1.min.js\"];\n  var css_urls = [];\n  \n\n  var inline_js = [\n    function(Bokeh) {\n      Bokeh.set_log_level(\"info\");\n    },\n    function(Bokeh) {\n    \n    \n    }\n  ];\n\n  function run_inline_js() {\n    \n    if (root.Bokeh !== undefined || force === true) {\n      \n    for (var i = 0; i < inline_js.length; i++) {\n      inline_js[i].call(root, root.Bokeh);\n    }\n    } else if (Date.now() < root._bokeh_timeout) {\n      setTimeout(run_inline_js, 100);\n    } else if (!root._bokeh_failed_load) {\n      console.log(\"Bokeh: BokehJS failed to load within specified timeout.\");\n      root._bokeh_failed_load = true;\n    } else if (force !== true) {\n      var cell = $(document.getElementById(null)).parents('.cell').data().cell;\n      cell.output_area.append_execute_result(NB_LOAD_WARNING)\n    }\n\n  }\n\n  if (root._bokeh_is_loading === 0) {\n    console.debug(\"Bokeh: BokehJS loaded, going straight to plotting\");\n    run_inline_js();\n  } else {\n    load_libs(css_urls, js_urls, function() {\n      console.debug(\"Bokeh: BokehJS plotting callback run at\", now());\n      run_inline_js();\n    });\n  }\n}(window));",
        "metadata": {
         "tags": []
        },
        "output_type": "display_data"
       },
       {
        "metadata": {
         "tags": []
        },
        "output_type": "display_data",
        "text/html": "\n\n\n\n\n\n  <div class=\"bk-root\" id=\"dab3d3ef-a278-4188-bf72-2bd5d72db81f\" data-root-id=\"6252\"></div>\n"
       },
       {
        "application/javascript": "(function(root) {\n  function embed_document(root) {\n    \n  var docs_json = {\"b7e156e5-3498-4b8e-8f07-9264e57cc34b\":{\"roots\":{\"references\":[{\"attributes\":{\"below\":[{\"id\":\"6261\"}],\"center\":[{\"id\":\"6264\"},{\"id\":\"6268\"}],\"left\":[{\"id\":\"6265\"}],\"plot_height\":500,\"plot_width\":400,\"renderers\":[{\"id\":\"6286\"},{\"id\":\"6291\"},{\"id\":\"6296\"}],\"title\":{\"id\":\"6561\"},\"toolbar\":{\"id\":\"6276\"},\"x_range\":{\"id\":\"6253\"},\"x_scale\":{\"id\":\"6257\"},\"y_range\":{\"id\":\"6255\"},\"y_scale\":{\"id\":\"6259\"}},\"id\":\"6252\",\"subtype\":\"Figure\",\"type\":\"Plot\"},{\"attributes\":{},\"id\":\"6569\",\"type\":\"UnionRenderers\"},{\"attributes\":{\"bottom_units\":\"screen\",\"fill_alpha\":0.5,\"fill_color\":\"lightgrey\",\"left_units\":\"screen\",\"level\":\"overlay\",\"line_alpha\":1.0,\"line_color\":\"black\",\"line_dash\":[4,4],\"line_width\":2,\"right_units\":\"screen\",\"top_units\":\"screen\"},\"id\":\"6275\",\"type\":\"BoxAnnotation\"},{\"attributes\":{},\"id\":\"6262\",\"type\":\"BasicTicker\"},{\"attributes\":{\"axis\":{\"id\":\"6261\"},\"ticker\":null},\"id\":\"6264\",\"type\":\"Grid\"},{\"attributes\":{\"formatter\":{\"id\":\"6563\"},\"ticker\":{\"id\":\"6266\"}},\"id\":\"6265\",\"type\":\"LinearAxis\"},{\"attributes\":{\"data_source\":{\"id\":\"6251\"},\"glyph\":{\"id\":\"6284\"},\"hover_glyph\":null,\"muted_glyph\":null,\"nonselection_glyph\":{\"id\":\"6285\"},\"selection_glyph\":null,\"view\":{\"id\":\"6287\"}},\"id\":\"6286\",\"type\":\"GlyphRenderer\"},{\"attributes\":{},\"id\":\"6266\",\"type\":\"BasicTicker\"},{\"attributes\":{},\"id\":\"6257\",\"type\":\"LinearScale\"},{\"attributes\":{\"axis\":{\"id\":\"6265\"},\"dimension\":1,\"ticker\":null},\"id\":\"6268\",\"type\":\"Grid\"},{\"attributes\":{\"line_alpha\":0.1,\"line_color\":\"red\",\"x\":{\"field\":\"date\"},\"y\":{\"field\":\"avg_temp\"}},\"id\":\"6290\",\"type\":\"Line\"},{\"attributes\":{\"source\":{\"id\":\"6251\"}},\"id\":\"6287\",\"type\":\"CDSView\"},{\"attributes\":{\"fill_alpha\":{\"value\":0.1},\"fill_color\":{\"value\":\"red\"},\"line_alpha\":{\"value\":0.1},\"line_color\":{\"value\":\"red\"},\"x\":{\"field\":\"date\"},\"y\":{\"field\":\"min_temp\"}},\"id\":\"6285\",\"type\":\"Circle\"},{\"attributes\":{\"data_source\":{\"id\":\"6251\"},\"glyph\":{\"id\":\"6289\"},\"hover_glyph\":null,\"muted_glyph\":null,\"nonselection_glyph\":{\"id\":\"6290\"},\"selection_glyph\":null,\"view\":{\"id\":\"6292\"}},\"id\":\"6291\",\"type\":\"GlyphRenderer\"},{\"attributes\":{\"formatter\":{\"id\":\"6565\"},\"ticker\":{\"id\":\"6262\"}},\"id\":\"6261\",\"type\":\"LinearAxis\"},{\"attributes\":{\"source\":{\"id\":\"6251\"}},\"id\":\"6292\",\"type\":\"CDSView\"},{\"attributes\":{\"line_color\":\"red\",\"x\":{\"field\":\"date\"},\"y\":{\"field\":\"avg_temp\"}},\"id\":\"6289\",\"type\":\"Line\"},{\"attributes\":{},\"id\":\"6269\",\"type\":\"PanTool\"},{\"attributes\":{},\"id\":\"6568\",\"type\":\"Selection\"},{\"attributes\":{},\"id\":\"6270\",\"type\":\"WheelZoomTool\"},{\"attributes\":{\"data\":{\"avg_temp\":{\"__ndarray__\":\"mpmZmZkZNUAzMzMzMzM4QAAAAAAAgDlAMzMzMzMzOEDNzMzMzMw3QJqZmZmZmTlAmpmZmZkZOEAAAAAAAIA5QAAAAAAAgDtAAAAAAACAOEDNzMzMzMw5QAAAAAAAgDdAMzMzMzOzMkDNzMzMzEw0QGZmZmZmZjdAAAAAAAAAOUAAAAAAAAA6QJqZmZmZGTpAAAAAAAAAOEDNzMzMzMw3QAAAAAAAADlAMzMzMzOzN0CamZmZmRk1QAAAAAAAgDZAzczMzMxMOEBmZmZmZmY5QM3MzMzMTDhAZmZmZmZmOEAzMzMzM7M3QM3MzMzMTDlAMzMzMzMzOkA=\",\"dtype\":\"float64\",\"order\":\"little\",\"shape\":[31]},\"date\":[1,2,3,4,5,6,7,8,9,10,11,12,13,14,15,16,17,18,19,20,21,22,23,24,25,26,27,28,29,30,31],\"index\":[0,1,2,3,4,5,6,7,8,9,10,11,12,13,14,15,16,17,18,19,20,21,22,23,24,25,26,27,28,29,30],\"max_temp\":{\"__ndarray__\":\"zczMzMxMOEDNzMzMzMw9QJqZmZmZmT5AAAAAAACAPUCamZmZmZk7QGZmZmZm5j5AmpmZmZkZPEBmZmZmZmY+QDMzMzMzc0BAMzMzMzOzO0AzMzMzMzM+QAAAAAAAADpAMzMzMzOzNUDNzMzMzEw4QDMzMzMzszxAMzMzMzOzPUCamZmZmZk/QAAAAAAAAD9AmpmZmZmZOkCamZmZmZk6QAAAAAAAgD5AMzMzMzOzOUCamZmZmZk2QM3MzMzMzDpAAAAAAAAAPUCamZmZmZk9QAAAAAAAgDlAZmZmZmZmOkBmZmZmZuY4QGZmZmZmZjxAmpmZmZmZPUA=\",\"dtype\":\"float64\",\"order\":\"little\",\"shape\":[31]},\"min_temp\":{\"__ndarray__\":\"mpmZmZkZMkBmZmZmZmY0QJqZmZmZmTVAZmZmZmZmNEBmZmZmZuYzQM3MzMzMzDVAmpmZmZkZNkDNzMzMzEw1QM3MzMzMzDVAMzMzMzOzNkAzMzMzMzM2QDMzMzMzszVAMzMzMzOzMUAzMzMzMzMxQGZmZmZm5jJAZmZmZmZmNEAAAAAAAIA1QM3MzMzMzDZAmpmZmZmZNEBmZmZmZmY2QGZmZmZmZjVAmpmZmZmZNkAAAAAAAIAyQDMzMzMzszJAzczMzMxMNkCamZmZmZk1QGZmZmZm5jZAMzMzMzOzNkCamZmZmZk2QGZmZmZmZjdAzczMzMzMNkA=\",\"dtype\":\"float64\",\"order\":\"little\",\"shape\":[31]}},\"selected\":{\"id\":\"6568\"},\"selection_policy\":{\"id\":\"6569\"}},\"id\":\"6251\",\"type\":\"ColumnDataSource\"},{\"attributes\":{},\"id\":\"6255\",\"type\":\"DataRange1d\"},{\"attributes\":{\"overlay\":{\"id\":\"6275\"}},\"id\":\"6271\",\"type\":\"BoxZoomTool\"},{\"attributes\":{\"source\":{\"id\":\"6251\"}},\"id\":\"6297\",\"type\":\"CDSView\"},{\"attributes\":{},\"id\":\"6272\",\"type\":\"SaveTool\"},{\"attributes\":{\"fill_alpha\":{\"value\":0.1},\"fill_color\":{\"value\":\"red\"},\"line_alpha\":{\"value\":0.1},\"line_color\":{\"value\":\"red\"},\"x\":{\"field\":\"date\"},\"y\":{\"field\":\"max_temp\"}},\"id\":\"6295\",\"type\":\"Circle\"},{\"attributes\":{\"data_source\":{\"id\":\"6251\"},\"glyph\":{\"id\":\"6294\"},\"hover_glyph\":null,\"muted_glyph\":null,\"nonselection_glyph\":{\"id\":\"6295\"},\"selection_glyph\":null,\"view\":{\"id\":\"6297\"}},\"id\":\"6296\",\"type\":\"GlyphRenderer\"},{\"attributes\":{\"text\":\"\"},\"id\":\"6561\",\"type\":\"Title\"},{\"attributes\":{},\"id\":\"6259\",\"type\":\"LinearScale\"},{\"attributes\":{},\"id\":\"6273\",\"type\":\"ResetTool\"},{\"attributes\":{},\"id\":\"6274\",\"type\":\"HelpTool\"},{\"attributes\":{\"fill_color\":{\"value\":\"red\"},\"line_color\":{\"value\":\"red\"},\"x\":{\"field\":\"date\"},\"y\":{\"field\":\"max_temp\"}},\"id\":\"6294\",\"type\":\"Circle\"},{\"attributes\":{\"active_drag\":\"auto\",\"active_inspect\":\"auto\",\"active_multi\":null,\"active_scroll\":\"auto\",\"active_tap\":\"auto\",\"tools\":[{\"id\":\"6269\"},{\"id\":\"6270\"},{\"id\":\"6271\"},{\"id\":\"6272\"},{\"id\":\"6273\"},{\"id\":\"6274\"}]},\"id\":\"6276\",\"type\":\"Toolbar\"},{\"attributes\":{},\"id\":\"6253\",\"type\":\"DataRange1d\"},{\"attributes\":{},\"id\":\"6565\",\"type\":\"BasicTickFormatter\"},{\"attributes\":{\"fill_color\":{\"value\":\"red\"},\"line_color\":{\"value\":\"red\"},\"x\":{\"field\":\"date\"},\"y\":{\"field\":\"min_temp\"}},\"id\":\"6284\",\"type\":\"Circle\"},{\"attributes\":{},\"id\":\"6563\",\"type\":\"BasicTickFormatter\"}],\"root_ids\":[\"6252\"]},\"title\":\"Bokeh Application\",\"version\":\"2.1.1\"}};\n  var render_items = [{\"docid\":\"b7e156e5-3498-4b8e-8f07-9264e57cc34b\",\"root_ids\":[\"6252\"],\"roots\":{\"6252\":\"dab3d3ef-a278-4188-bf72-2bd5d72db81f\"}}];\n  root.Bokeh.embed.embed_items_notebook(docs_json, render_items);\n\n  }\n  if (root.Bokeh !== undefined) {\n    embed_document(root);\n  } else {\n    var attempts = 0;\n    var timer = setInterval(function(root) {\n      if (root.Bokeh !== undefined) {\n        clearInterval(timer);\n        embed_document(root);\n      } else {\n        attempts++;\n        if (attempts > 100) {\n          clearInterval(timer);\n          console.log(\"Bokeh: ERROR: Unable to run BokehJS code because BokehJS library is missing\");\n        }\n      }\n    }, 10, root)\n  }\n})(window);",
        "application/vnd.bokehjs_exec.v0+json": "",
        "metadata": {
         "application/vnd.bokehjs_exec.v0+json": {
          "id": "6252"
         },
         "tags": []
        },
        "output_type": "display_data"
       }
      ]
     }
    },
    "322951b8ec0441dea2fad47f38cdb1e3": {
     "model_module": "@jupyter-widgets/controls",
     "model_name": "DescriptionStyleModel",
     "state": {
      "_model_module": "@jupyter-widgets/controls",
      "_model_module_version": "1.5.0",
      "_model_name": "DescriptionStyleModel",
      "_view_count": null,
      "_view_module": "@jupyter-widgets/base",
      "_view_module_version": "1.2.0",
      "_view_name": "StyleView",
      "description_width": ""
     }
    },
    "336d1c5ade824b19bda9bff5505cf081": {
     "model_module": "@jupyter-widgets/base",
     "model_name": "LayoutModel",
     "state": {
      "_model_module": "@jupyter-widgets/base",
      "_model_module_version": "1.2.0",
      "_model_name": "LayoutModel",
      "_view_count": null,
      "_view_module": "@jupyter-widgets/base",
      "_view_module_version": "1.2.0",
      "_view_name": "LayoutView",
      "align_content": null,
      "align_items": null,
      "align_self": null,
      "border": null,
      "bottom": null,
      "display": null,
      "flex": null,
      "flex_flow": null,
      "grid_area": null,
      "grid_auto_columns": null,
      "grid_auto_flow": null,
      "grid_auto_rows": null,
      "grid_column": null,
      "grid_gap": null,
      "grid_row": null,
      "grid_template_areas": null,
      "grid_template_columns": null,
      "grid_template_rows": null,
      "height": null,
      "justify_content": null,
      "justify_items": null,
      "left": null,
      "margin": null,
      "max_height": null,
      "max_width": null,
      "min_height": null,
      "min_width": null,
      "object_fit": null,
      "object_position": null,
      "order": null,
      "overflow": null,
      "overflow_x": null,
      "overflow_y": null,
      "padding": null,
      "right": null,
      "top": null,
      "visibility": null,
      "width": null
     }
    },
    "35451581e614414a8b51847a229748b6": {
     "model_module": "@jupyter-widgets/controls",
     "model_name": "DropdownModel",
     "state": {
      "_dom_classes": [],
      "_model_module": "@jupyter-widgets/controls",
      "_model_module_version": "1.5.0",
      "_model_name": "DropdownModel",
      "_options_labels": [
       "red",
       "blue",
       "green"
      ],
      "_view_count": null,
      "_view_module": "@jupyter-widgets/controls",
      "_view_module_version": "1.5.0",
      "_view_name": "DropdownView",
      "description": "c3",
      "description_tooltip": null,
      "disabled": false,
      "index": 0,
      "layout": "IPY_MODEL_96b4a6d4654f47e28b33a9b25aecfd1f",
      "style": "IPY_MODEL_2859c34f5c0a409ab87f92b330a8d0b3"
     }
    },
    "35b0dc472fba431a82a0a1d388d2e68c": {
     "model_module": "@jupyter-widgets/controls",
     "model_name": "DropdownModel",
     "state": {
      "_dom_classes": [],
      "_model_module": "@jupyter-widgets/controls",
      "_model_module_version": "1.5.0",
      "_model_name": "DropdownModel",
      "_options_labels": [
       "0",
       "1",
       "2",
       "3"
      ],
      "_view_count": null,
      "_view_module": "@jupyter-widgets/controls",
      "_view_module_version": "1.5.0",
      "_view_name": "DropdownView",
      "description": "mu",
      "description_tooltip": null,
      "disabled": false,
      "index": 0,
      "layout": "IPY_MODEL_b106d9c079a4418d8532178bb9a927ab",
      "style": "IPY_MODEL_671f8d5eb3cd4ffab9f391d7e9df3024"
     }
    },
    "3851cea748d7447dab050fc9228388b8": {
     "model_module": "@jupyter-widgets/controls",
     "model_name": "VBoxModel",
     "state": {
      "_dom_classes": [
       "widget-interact"
      ],
      "_model_module": "@jupyter-widgets/controls",
      "_model_module_version": "1.5.0",
      "_model_name": "VBoxModel",
      "_view_count": null,
      "_view_module": "@jupyter-widgets/controls",
      "_view_module_version": "1.5.0",
      "_view_name": "VBoxView",
      "box_style": "",
      "children": [
       "IPY_MODEL_27022ffbf0c84f4891d45cb5eee9533d",
       "IPY_MODEL_2577b3edd13b4730931354f13d0f4392",
       "IPY_MODEL_35451581e614414a8b51847a229748b6",
       "IPY_MODEL_a46eeec951194a7797fbb047d8314f05",
       "IPY_MODEL_537f8e9e11c74277a290d37659a85d15",
       "IPY_MODEL_3154ff31813b4ac990ee47ff4043bebd"
      ],
      "layout": "IPY_MODEL_f7f7ed9e148445c986cfe46ebdde9f05"
     }
    },
    "40374bc2f6474ddb83eeee179fadfb3c": {
     "model_module": "@jupyter-widgets/base",
     "model_name": "LayoutModel",
     "state": {
      "_model_module": "@jupyter-widgets/base",
      "_model_module_version": "1.2.0",
      "_model_name": "LayoutModel",
      "_view_count": null,
      "_view_module": "@jupyter-widgets/base",
      "_view_module_version": "1.2.0",
      "_view_name": "LayoutView",
      "align_content": null,
      "align_items": null,
      "align_self": null,
      "border": null,
      "bottom": null,
      "display": null,
      "flex": null,
      "flex_flow": null,
      "grid_area": null,
      "grid_auto_columns": null,
      "grid_auto_flow": null,
      "grid_auto_rows": null,
      "grid_column": null,
      "grid_gap": null,
      "grid_row": null,
      "grid_template_areas": null,
      "grid_template_columns": null,
      "grid_template_rows": null,
      "height": null,
      "justify_content": null,
      "justify_items": null,
      "left": null,
      "margin": null,
      "max_height": null,
      "max_width": null,
      "min_height": null,
      "min_width": null,
      "object_fit": null,
      "object_position": null,
      "order": null,
      "overflow": null,
      "overflow_x": null,
      "overflow_y": null,
      "padding": null,
      "right": null,
      "top": null,
      "visibility": null,
      "width": null
     }
    },
    "43268faa13fd43f58f781653cf990c0f": {
     "model_module": "@jupyter-widgets/controls",
     "model_name": "SliderStyleModel",
     "state": {
      "_model_module": "@jupyter-widgets/controls",
      "_model_module_version": "1.5.0",
      "_model_name": "SliderStyleModel",
      "_view_count": null,
      "_view_module": "@jupyter-widgets/base",
      "_view_module_version": "1.2.0",
      "_view_name": "StyleView",
      "description_width": "",
      "handle_color": null
     }
    },
    "4e7aa783e1484a05b731854e79b95ac4": {
     "model_module": "@jupyter-widgets/base",
     "model_name": "LayoutModel",
     "state": {
      "_model_module": "@jupyter-widgets/base",
      "_model_module_version": "1.2.0",
      "_model_name": "LayoutModel",
      "_view_count": null,
      "_view_module": "@jupyter-widgets/base",
      "_view_module_version": "1.2.0",
      "_view_name": "LayoutView",
      "align_content": null,
      "align_items": null,
      "align_self": null,
      "border": null,
      "bottom": null,
      "display": null,
      "flex": null,
      "flex_flow": null,
      "grid_area": null,
      "grid_auto_columns": null,
      "grid_auto_flow": null,
      "grid_auto_rows": null,
      "grid_column": null,
      "grid_gap": null,
      "grid_row": null,
      "grid_template_areas": null,
      "grid_template_columns": null,
      "grid_template_rows": null,
      "height": null,
      "justify_content": null,
      "justify_items": null,
      "left": null,
      "margin": null,
      "max_height": null,
      "max_width": null,
      "min_height": null,
      "min_width": null,
      "object_fit": null,
      "object_position": null,
      "order": null,
      "overflow": null,
      "overflow_x": null,
      "overflow_y": null,
      "padding": null,
      "right": null,
      "top": null,
      "visibility": null,
      "width": null
     }
    },
    "537f8e9e11c74277a290d37659a85d15": {
     "model_module": "@jupyter-widgets/controls",
     "model_name": "IntSliderModel",
     "state": {
      "_dom_classes": [],
      "_model_module": "@jupyter-widgets/controls",
      "_model_module_version": "1.5.0",
      "_model_name": "IntSliderModel",
      "_view_count": null,
      "_view_module": "@jupyter-widgets/controls",
      "_view_module_version": "1.5.0",
      "_view_name": "IntSliderView",
      "continuous_update": true,
      "description": "h",
      "description_tooltip": null,
      "disabled": false,
      "layout": "IPY_MODEL_fbd9f94b60514f678dbf0466df067ebf",
      "max": 600,
      "min": 400,
      "orientation": "horizontal",
      "readout": true,
      "readout_format": "d",
      "step": 1,
      "style": "IPY_MODEL_7d0553a486644a71b3bfb699ca214c65",
      "value": 500
     }
    },
    "639d323e301340228dc6b314f32d5a53": {
     "model_module": "@jupyter-widgets/controls",
     "model_name": "SliderStyleModel",
     "state": {
      "_model_module": "@jupyter-widgets/controls",
      "_model_module_version": "1.5.0",
      "_model_name": "SliderStyleModel",
      "_view_count": null,
      "_view_module": "@jupyter-widgets/base",
      "_view_module_version": "1.2.0",
      "_view_name": "StyleView",
      "description_width": "",
      "handle_color": null
     }
    },
    "66d4e52a1ab74317927b078a4c0fb819": {
     "model_module": "@jupyter-widgets/controls",
     "model_name": "SliderStyleModel",
     "state": {
      "_model_module": "@jupyter-widgets/controls",
      "_model_module_version": "1.5.0",
      "_model_name": "SliderStyleModel",
      "_view_count": null,
      "_view_module": "@jupyter-widgets/base",
      "_view_module_version": "1.2.0",
      "_view_name": "StyleView",
      "description_width": "",
      "handle_color": null
     }
    },
    "671f8d5eb3cd4ffab9f391d7e9df3024": {
     "model_module": "@jupyter-widgets/controls",
     "model_name": "DescriptionStyleModel",
     "state": {
      "_model_module": "@jupyter-widgets/controls",
      "_model_module_version": "1.5.0",
      "_model_name": "DescriptionStyleModel",
      "_view_count": null,
      "_view_module": "@jupyter-widgets/base",
      "_view_module_version": "1.2.0",
      "_view_name": "StyleView",
      "description_width": ""
     }
    },
    "6c66ff4431db446d84672800612042c4": {
     "model_module": "@jupyter-widgets/base",
     "model_name": "LayoutModel",
     "state": {
      "_model_module": "@jupyter-widgets/base",
      "_model_module_version": "1.2.0",
      "_model_name": "LayoutModel",
      "_view_count": null,
      "_view_module": "@jupyter-widgets/base",
      "_view_module_version": "1.2.0",
      "_view_name": "LayoutView",
      "align_content": null,
      "align_items": null,
      "align_self": null,
      "border": null,
      "bottom": null,
      "display": null,
      "flex": null,
      "flex_flow": null,
      "grid_area": null,
      "grid_auto_columns": null,
      "grid_auto_flow": null,
      "grid_auto_rows": null,
      "grid_column": null,
      "grid_gap": null,
      "grid_row": null,
      "grid_template_areas": null,
      "grid_template_columns": null,
      "grid_template_rows": null,
      "height": null,
      "justify_content": null,
      "justify_items": null,
      "left": null,
      "margin": null,
      "max_height": null,
      "max_width": null,
      "min_height": null,
      "min_width": null,
      "object_fit": null,
      "object_position": null,
      "order": null,
      "overflow": null,
      "overflow_x": null,
      "overflow_y": null,
      "padding": null,
      "right": null,
      "top": null,
      "visibility": null,
      "width": null
     }
    },
    "7523a3a3c273413db737cc0bf0b5cef3": {
     "model_module": "@jupyter-widgets/base",
     "model_name": "LayoutModel",
     "state": {
      "_model_module": "@jupyter-widgets/base",
      "_model_module_version": "1.2.0",
      "_model_name": "LayoutModel",
      "_view_count": null,
      "_view_module": "@jupyter-widgets/base",
      "_view_module_version": "1.2.0",
      "_view_name": "LayoutView",
      "align_content": null,
      "align_items": null,
      "align_self": null,
      "border": null,
      "bottom": null,
      "display": null,
      "flex": null,
      "flex_flow": null,
      "grid_area": null,
      "grid_auto_columns": null,
      "grid_auto_flow": null,
      "grid_auto_rows": null,
      "grid_column": null,
      "grid_gap": null,
      "grid_row": null,
      "grid_template_areas": null,
      "grid_template_columns": null,
      "grid_template_rows": null,
      "height": null,
      "justify_content": null,
      "justify_items": null,
      "left": null,
      "margin": null,
      "max_height": null,
      "max_width": null,
      "min_height": null,
      "min_width": null,
      "object_fit": null,
      "object_position": null,
      "order": null,
      "overflow": null,
      "overflow_x": null,
      "overflow_y": null,
      "padding": null,
      "right": null,
      "top": null,
      "visibility": null,
      "width": null
     }
    },
    "76c3cf7f131845b29556f245cb57a61c": {
     "model_module": "@jupyter-widgets/controls",
     "model_name": "PlayModel",
     "state": {
      "_dom_classes": [],
      "_model_module": "@jupyter-widgets/controls",
      "_model_module_version": "1.5.0",
      "_model_name": "PlayModel",
      "_playing": false,
      "_repeat": false,
      "_view_count": null,
      "_view_module": "@jupyter-widgets/controls",
      "_view_module_version": "1.5.0",
      "_view_name": "PlayView",
      "description": "Press play",
      "description_tooltip": null,
      "disabled": false,
      "interval": 500,
      "layout": "IPY_MODEL_0ba36251be1c4ff082921eed3ff40902",
      "max": 50,
      "min": 1,
      "show_repeat": true,
      "step": 1,
      "style": "IPY_MODEL_2ae3ead2810c4ca7b28adb4f7d3353eb",
      "value": 1
     }
    },
    "77095972ba43432eb4ec0546d38f07a3": {
     "model_module": "@jupyter-widgets/base",
     "model_name": "LayoutModel",
     "state": {
      "_model_module": "@jupyter-widgets/base",
      "_model_module_version": "1.2.0",
      "_model_name": "LayoutModel",
      "_view_count": null,
      "_view_module": "@jupyter-widgets/base",
      "_view_module_version": "1.2.0",
      "_view_name": "LayoutView",
      "align_content": null,
      "align_items": null,
      "align_self": null,
      "border": null,
      "bottom": null,
      "display": null,
      "flex": null,
      "flex_flow": null,
      "grid_area": null,
      "grid_auto_columns": null,
      "grid_auto_flow": null,
      "grid_auto_rows": null,
      "grid_column": null,
      "grid_gap": null,
      "grid_row": null,
      "grid_template_areas": null,
      "grid_template_columns": null,
      "grid_template_rows": null,
      "height": null,
      "justify_content": null,
      "justify_items": null,
      "left": null,
      "margin": null,
      "max_height": null,
      "max_width": null,
      "min_height": null,
      "min_width": null,
      "object_fit": null,
      "object_position": null,
      "order": null,
      "overflow": null,
      "overflow_x": null,
      "overflow_y": null,
      "padding": null,
      "right": null,
      "top": null,
      "visibility": null,
      "width": null
     }
    },
    "7d0553a486644a71b3bfb699ca214c65": {
     "model_module": "@jupyter-widgets/controls",
     "model_name": "SliderStyleModel",
     "state": {
      "_model_module": "@jupyter-widgets/controls",
      "_model_module_version": "1.5.0",
      "_model_name": "SliderStyleModel",
      "_view_count": null,
      "_view_module": "@jupyter-widgets/base",
      "_view_module_version": "1.2.0",
      "_view_name": "StyleView",
      "description_width": "",
      "handle_color": null
     }
    },
    "86575424716c4a5791ec6d12ee8a9305": {
     "model_module": "@jupyter-widgets/base",
     "model_name": "LayoutModel",
     "state": {
      "_model_module": "@jupyter-widgets/base",
      "_model_module_version": "1.2.0",
      "_model_name": "LayoutModel",
      "_view_count": null,
      "_view_module": "@jupyter-widgets/base",
      "_view_module_version": "1.2.0",
      "_view_name": "LayoutView",
      "align_content": null,
      "align_items": null,
      "align_self": null,
      "border": null,
      "bottom": null,
      "display": null,
      "flex": null,
      "flex_flow": null,
      "grid_area": null,
      "grid_auto_columns": null,
      "grid_auto_flow": null,
      "grid_auto_rows": null,
      "grid_column": null,
      "grid_gap": null,
      "grid_row": null,
      "grid_template_areas": null,
      "grid_template_columns": null,
      "grid_template_rows": null,
      "height": null,
      "justify_content": null,
      "justify_items": null,
      "left": null,
      "margin": null,
      "max_height": null,
      "max_width": null,
      "min_height": null,
      "min_width": null,
      "object_fit": null,
      "object_position": null,
      "order": null,
      "overflow": null,
      "overflow_x": null,
      "overflow_y": null,
      "padding": null,
      "right": null,
      "top": null,
      "visibility": null,
      "width": null
     }
    },
    "869bb7fbfaa349288fc8f4cce71e715c": {
     "model_module": "@jupyter-widgets/base",
     "model_name": "LayoutModel",
     "state": {
      "_model_module": "@jupyter-widgets/base",
      "_model_module_version": "1.2.0",
      "_model_name": "LayoutModel",
      "_view_count": null,
      "_view_module": "@jupyter-widgets/base",
      "_view_module_version": "1.2.0",
      "_view_name": "LayoutView",
      "align_content": null,
      "align_items": null,
      "align_self": null,
      "border": null,
      "bottom": null,
      "display": null,
      "flex": null,
      "flex_flow": null,
      "grid_area": null,
      "grid_auto_columns": null,
      "grid_auto_flow": null,
      "grid_auto_rows": null,
      "grid_column": null,
      "grid_gap": null,
      "grid_row": null,
      "grid_template_areas": null,
      "grid_template_columns": null,
      "grid_template_rows": null,
      "height": null,
      "justify_content": null,
      "justify_items": null,
      "left": null,
      "margin": null,
      "max_height": null,
      "max_width": null,
      "min_height": null,
      "min_width": null,
      "object_fit": null,
      "object_position": null,
      "order": null,
      "overflow": null,
      "overflow_x": null,
      "overflow_y": null,
      "padding": null,
      "right": null,
      "top": null,
      "visibility": null,
      "width": null
     }
    },
    "8c18f32b999c4ceebfedddc98c236ed6": {
     "model_module": "@jupyter-widgets/base",
     "model_name": "LayoutModel",
     "state": {
      "_model_module": "@jupyter-widgets/base",
      "_model_module_version": "1.2.0",
      "_model_name": "LayoutModel",
      "_view_count": null,
      "_view_module": "@jupyter-widgets/base",
      "_view_module_version": "1.2.0",
      "_view_name": "LayoutView",
      "align_content": null,
      "align_items": null,
      "align_self": null,
      "border": null,
      "bottom": null,
      "display": null,
      "flex": null,
      "flex_flow": null,
      "grid_area": null,
      "grid_auto_columns": null,
      "grid_auto_flow": null,
      "grid_auto_rows": null,
      "grid_column": null,
      "grid_gap": null,
      "grid_row": null,
      "grid_template_areas": null,
      "grid_template_columns": null,
      "grid_template_rows": null,
      "height": null,
      "justify_content": null,
      "justify_items": null,
      "left": null,
      "margin": null,
      "max_height": null,
      "max_width": null,
      "min_height": null,
      "min_width": null,
      "object_fit": null,
      "object_position": null,
      "order": null,
      "overflow": null,
      "overflow_x": null,
      "overflow_y": null,
      "padding": null,
      "right": null,
      "top": null,
      "visibility": null,
      "width": null
     }
    },
    "8c28d9c89c9c420182267fa088084cea": {
     "model_module": "@jupyter-widgets/output",
     "model_name": "OutputModel",
     "state": {
      "_dom_classes": [],
      "_model_module": "@jupyter-widgets/output",
      "_model_module_version": "1.0.0",
      "_model_name": "OutputModel",
      "_view_count": null,
      "_view_module": "@jupyter-widgets/output",
      "_view_module_version": "1.0.0",
      "_view_name": "OutputView",
      "layout": "IPY_MODEL_2d45495a7d5f498ebe00aeaf372bfb19",
      "msg_id": "",
      "outputs": [
       {
        "image/png": "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\n",
        "metadata": {
         "image/png": {
          "height": 921,
          "width": 1004
         },
         "tags": []
        },
        "output_type": "display_data",
        "text/plain": "<Figure size 1007.98x864 with 6 Axes>"
       }
      ]
     }
    },
    "8e86612d85ec4bd78b47c70567da1393": {
     "model_module": "@jupyter-widgets/controls",
     "model_name": "VBoxModel",
     "state": {
      "_dom_classes": [
       "widget-interact"
      ],
      "_model_module": "@jupyter-widgets/controls",
      "_model_module_version": "1.5.0",
      "_model_name": "VBoxModel",
      "_view_count": null,
      "_view_module": "@jupyter-widgets/controls",
      "_view_module_version": "1.5.0",
      "_view_name": "VBoxView",
      "box_style": "",
      "children": [
       "IPY_MODEL_be53d2c819704a128734cbac40d0b842",
       "IPY_MODEL_1b0fa55543cc42e89ab7b300ff7b1c2f",
       "IPY_MODEL_b8879f9e3a6144cfbdbeeac60c1d0750"
      ],
      "layout": "IPY_MODEL_40374bc2f6474ddb83eeee179fadfb3c"
     }
    },
    "96b4a6d4654f47e28b33a9b25aecfd1f": {
     "model_module": "@jupyter-widgets/base",
     "model_name": "LayoutModel",
     "state": {
      "_model_module": "@jupyter-widgets/base",
      "_model_module_version": "1.2.0",
      "_model_name": "LayoutModel",
      "_view_count": null,
      "_view_module": "@jupyter-widgets/base",
      "_view_module_version": "1.2.0",
      "_view_name": "LayoutView",
      "align_content": null,
      "align_items": null,
      "align_self": null,
      "border": null,
      "bottom": null,
      "display": null,
      "flex": null,
      "flex_flow": null,
      "grid_area": null,
      "grid_auto_columns": null,
      "grid_auto_flow": null,
      "grid_auto_rows": null,
      "grid_column": null,
      "grid_gap": null,
      "grid_row": null,
      "grid_template_areas": null,
      "grid_template_columns": null,
      "grid_template_rows": null,
      "height": null,
      "justify_content": null,
      "justify_items": null,
      "left": null,
      "margin": null,
      "max_height": null,
      "max_width": null,
      "min_height": null,
      "min_width": null,
      "object_fit": null,
      "object_position": null,
      "order": null,
      "overflow": null,
      "overflow_x": null,
      "overflow_y": null,
      "padding": null,
      "right": null,
      "top": null,
      "visibility": null,
      "width": null
     }
    },
    "97f6564fa34b44e1b109daa216d7a489": {
     "model_module": "@jupyter-widgets/base",
     "model_name": "LayoutModel",
     "state": {
      "_model_module": "@jupyter-widgets/base",
      "_model_module_version": "1.2.0",
      "_model_name": "LayoutModel",
      "_view_count": null,
      "_view_module": "@jupyter-widgets/base",
      "_view_module_version": "1.2.0",
      "_view_name": "LayoutView",
      "align_content": null,
      "align_items": null,
      "align_self": null,
      "border": null,
      "bottom": null,
      "display": null,
      "flex": null,
      "flex_flow": null,
      "grid_area": null,
      "grid_auto_columns": null,
      "grid_auto_flow": null,
      "grid_auto_rows": null,
      "grid_column": null,
      "grid_gap": null,
      "grid_row": null,
      "grid_template_areas": null,
      "grid_template_columns": null,
      "grid_template_rows": null,
      "height": null,
      "justify_content": null,
      "justify_items": null,
      "left": null,
      "margin": null,
      "max_height": null,
      "max_width": null,
      "min_height": null,
      "min_width": null,
      "object_fit": null,
      "object_position": null,
      "order": null,
      "overflow": null,
      "overflow_x": null,
      "overflow_y": null,
      "padding": null,
      "right": null,
      "top": null,
      "visibility": null,
      "width": null
     }
    },
    "a21954955eb5403ba22301f319e5c713": {
     "model_module": "@jupyter-widgets/base",
     "model_name": "LayoutModel",
     "state": {
      "_model_module": "@jupyter-widgets/base",
      "_model_module_version": "1.2.0",
      "_model_name": "LayoutModel",
      "_view_count": null,
      "_view_module": "@jupyter-widgets/base",
      "_view_module_version": "1.2.0",
      "_view_name": "LayoutView",
      "align_content": null,
      "align_items": null,
      "align_self": null,
      "border": null,
      "bottom": null,
      "display": null,
      "flex": null,
      "flex_flow": null,
      "grid_area": null,
      "grid_auto_columns": null,
      "grid_auto_flow": null,
      "grid_auto_rows": null,
      "grid_column": null,
      "grid_gap": null,
      "grid_row": null,
      "grid_template_areas": null,
      "grid_template_columns": null,
      "grid_template_rows": null,
      "height": null,
      "justify_content": null,
      "justify_items": null,
      "left": null,
      "margin": null,
      "max_height": null,
      "max_width": null,
      "min_height": null,
      "min_width": null,
      "object_fit": null,
      "object_position": null,
      "order": null,
      "overflow": null,
      "overflow_x": null,
      "overflow_y": null,
      "padding": null,
      "right": null,
      "top": null,
      "visibility": null,
      "width": null
     }
    },
    "a46eeec951194a7797fbb047d8314f05": {
     "model_module": "@jupyter-widgets/controls",
     "model_name": "IntSliderModel",
     "state": {
      "_dom_classes": [],
      "_model_module": "@jupyter-widgets/controls",
      "_model_module_version": "1.5.0",
      "_model_name": "IntSliderModel",
      "_view_count": null,
      "_view_module": "@jupyter-widgets/controls",
      "_view_module_version": "1.5.0",
      "_view_name": "IntSliderView",
      "continuous_update": true,
      "description": "w",
      "description_tooltip": null,
      "disabled": false,
      "layout": "IPY_MODEL_97f6564fa34b44e1b109daa216d7a489",
      "max": 500,
      "min": 300,
      "orientation": "horizontal",
      "readout": true,
      "readout_format": "d",
      "step": 1,
      "style": "IPY_MODEL_639d323e301340228dc6b314f32d5a53",
      "value": 400
     }
    },
    "b106d9c079a4418d8532178bb9a927ab": {
     "model_module": "@jupyter-widgets/base",
     "model_name": "LayoutModel",
     "state": {
      "_model_module": "@jupyter-widgets/base",
      "_model_module_version": "1.2.0",
      "_model_name": "LayoutModel",
      "_view_count": null,
      "_view_module": "@jupyter-widgets/base",
      "_view_module_version": "1.2.0",
      "_view_name": "LayoutView",
      "align_content": null,
      "align_items": null,
      "align_self": null,
      "border": null,
      "bottom": null,
      "display": null,
      "flex": null,
      "flex_flow": null,
      "grid_area": null,
      "grid_auto_columns": null,
      "grid_auto_flow": null,
      "grid_auto_rows": null,
      "grid_column": null,
      "grid_gap": null,
      "grid_row": null,
      "grid_template_areas": null,
      "grid_template_columns": null,
      "grid_template_rows": null,
      "height": null,
      "justify_content": null,
      "justify_items": null,
      "left": null,
      "margin": null,
      "max_height": null,
      "max_width": null,
      "min_height": null,
      "min_width": null,
      "object_fit": null,
      "object_position": null,
      "order": null,
      "overflow": null,
      "overflow_x": null,
      "overflow_y": null,
      "padding": null,
      "right": null,
      "top": null,
      "visibility": null,
      "width": null
     }
    },
    "b4725c6c136f4ef4a8cf9663935e2876": {
     "model_module": "@jupyter-widgets/controls",
     "model_name": "SliderStyleModel",
     "state": {
      "_model_module": "@jupyter-widgets/controls",
      "_model_module_version": "1.5.0",
      "_model_name": "SliderStyleModel",
      "_view_count": null,
      "_view_module": "@jupyter-widgets/base",
      "_view_module_version": "1.2.0",
      "_view_name": "StyleView",
      "description_width": "",
      "handle_color": null
     }
    },
    "b8879f9e3a6144cfbdbeeac60c1d0750": {
     "model_module": "@jupyter-widgets/output",
     "model_name": "OutputModel",
     "state": {
      "_dom_classes": [],
      "_model_module": "@jupyter-widgets/output",
      "_model_module_version": "1.0.0",
      "_model_name": "OutputModel",
      "_view_count": null,
      "_view_module": "@jupyter-widgets/output",
      "_view_module_version": "1.0.0",
      "_view_name": "OutputView",
      "layout": "IPY_MODEL_b89dfeeb8c544676af5aba594f5203c2",
      "msg_id": "",
      "outputs": []
     }
    },
    "b89dfeeb8c544676af5aba594f5203c2": {
     "model_module": "@jupyter-widgets/base",
     "model_name": "LayoutModel",
     "state": {
      "_model_module": "@jupyter-widgets/base",
      "_model_module_version": "1.2.0",
      "_model_name": "LayoutModel",
      "_view_count": null,
      "_view_module": "@jupyter-widgets/base",
      "_view_module_version": "1.2.0",
      "_view_name": "LayoutView",
      "align_content": null,
      "align_items": null,
      "align_self": null,
      "border": null,
      "bottom": null,
      "display": null,
      "flex": null,
      "flex_flow": null,
      "grid_area": null,
      "grid_auto_columns": null,
      "grid_auto_flow": null,
      "grid_auto_rows": null,
      "grid_column": null,
      "grid_gap": null,
      "grid_row": null,
      "grid_template_areas": null,
      "grid_template_columns": null,
      "grid_template_rows": null,
      "height": null,
      "justify_content": null,
      "justify_items": null,
      "left": null,
      "margin": null,
      "max_height": null,
      "max_width": null,
      "min_height": null,
      "min_width": null,
      "object_fit": null,
      "object_position": null,
      "order": null,
      "overflow": null,
      "overflow_x": null,
      "overflow_y": null,
      "padding": null,
      "right": null,
      "top": null,
      "visibility": null,
      "width": null
     }
    },
    "b8f1d998646a465489a57fd451ce778e": {
     "model_module": "@jupyter-widgets/controls",
     "model_name": "DescriptionStyleModel",
     "state": {
      "_model_module": "@jupyter-widgets/controls",
      "_model_module_version": "1.5.0",
      "_model_name": "DescriptionStyleModel",
      "_view_count": null,
      "_view_module": "@jupyter-widgets/base",
      "_view_module_version": "1.2.0",
      "_view_name": "StyleView",
      "description_width": ""
     }
    },
    "baa88efa47814b468899770127ff69cf": {
     "model_module": "@jupyter-widgets/base",
     "model_name": "LayoutModel",
     "state": {
      "_model_module": "@jupyter-widgets/base",
      "_model_module_version": "1.2.0",
      "_model_name": "LayoutModel",
      "_view_count": null,
      "_view_module": "@jupyter-widgets/base",
      "_view_module_version": "1.2.0",
      "_view_name": "LayoutView",
      "align_content": null,
      "align_items": null,
      "align_self": null,
      "border": null,
      "bottom": null,
      "display": null,
      "flex": null,
      "flex_flow": null,
      "grid_area": null,
      "grid_auto_columns": null,
      "grid_auto_flow": null,
      "grid_auto_rows": null,
      "grid_column": null,
      "grid_gap": null,
      "grid_row": null,
      "grid_template_areas": null,
      "grid_template_columns": null,
      "grid_template_rows": null,
      "height": null,
      "justify_content": null,
      "justify_items": null,
      "left": null,
      "margin": null,
      "max_height": null,
      "max_width": null,
      "min_height": null,
      "min_width": null,
      "object_fit": null,
      "object_position": null,
      "order": null,
      "overflow": null,
      "overflow_x": null,
      "overflow_y": null,
      "padding": null,
      "right": null,
      "top": null,
      "visibility": null,
      "width": null
     }
    },
    "bbe9cdb2de3b41b3b89f767ee6137f43": {
     "model_module": "@jupyter-widgets/controls",
     "model_name": "TextModel",
     "state": {
      "_dom_classes": [],
      "_model_module": "@jupyter-widgets/controls",
      "_model_module_version": "1.5.0",
      "_model_name": "TextModel",
      "_view_count": null,
      "_view_module": "@jupyter-widgets/controls",
      "_view_module_version": "1.5.0",
      "_view_name": "TextView",
      "continuous_update": true,
      "description": "name",
      "description_tooltip": null,
      "disabled": false,
      "layout": "IPY_MODEL_a21954955eb5403ba22301f319e5c713",
      "placeholder": "​",
      "style": "IPY_MODEL_096e92c1d05b427d8d8944af2513b68d",
      "value": "내부자들"
     }
    },
    "be53d2c819704a128734cbac40d0b842": {
     "model_module": "@jupyter-widgets/controls",
     "model_name": "IntSliderModel",
     "state": {
      "_dom_classes": [],
      "_model_module": "@jupyter-widgets/controls",
      "_model_module_version": "1.5.0",
      "_model_name": "IntSliderModel",
      "_view_count": null,
      "_view_module": "@jupyter-widgets/controls",
      "_view_module_version": "1.5.0",
      "_view_name": "IntSliderView",
      "continuous_update": true,
      "description": "v1",
      "description_tooltip": null,
      "disabled": false,
      "layout": "IPY_MODEL_baa88efa47814b468899770127ff69cf",
      "max": 31,
      "min": 1,
      "orientation": "horizontal",
      "readout": true,
      "readout_format": "d",
      "step": 1,
      "style": "IPY_MODEL_66d4e52a1ab74317927b078a4c0fb819",
      "value": 1
     }
    },
    "c02242182e7f4023b8a86b5e2983706d": {
     "model_module": "@jupyter-widgets/controls",
     "model_name": "IntTextModel",
     "state": {
      "_dom_classes": [],
      "_model_module": "@jupyter-widgets/controls",
      "_model_module_version": "1.5.0",
      "_model_name": "IntTextModel",
      "_view_count": null,
      "_view_module": "@jupyter-widgets/controls",
      "_view_module_version": "1.5.0",
      "_view_name": "IntTextView",
      "continuous_update": false,
      "description": "v1",
      "description_tooltip": null,
      "disabled": false,
      "layout": "IPY_MODEL_7523a3a3c273413db737cc0bf0b5cef3",
      "step": 1,
      "style": "IPY_MODEL_e155b8b951204145800b3fb8f7376783",
      "value": 50000
     }
    },
    "c489314242de42658ab4ce7feac9f713": {
     "model_module": "@jupyter-widgets/controls",
     "model_name": "VBoxModel",
     "state": {
      "_dom_classes": [
       "widget-interact"
      ],
      "_model_module": "@jupyter-widgets/controls",
      "_model_module_version": "1.5.0",
      "_model_name": "VBoxModel",
      "_view_count": null,
      "_view_module": "@jupyter-widgets/controls",
      "_view_module_version": "1.5.0",
      "_view_name": "VBoxView",
      "box_style": "",
      "children": [
       "IPY_MODEL_35b0dc472fba431a82a0a1d388d2e68c",
       "IPY_MODEL_0af6c74c81e8435d86a13e850ef8b796",
       "IPY_MODEL_f1a4ea2cfb2f498591f133e3ba7f33b7"
      ],
      "layout": "IPY_MODEL_fbce027e31d0468281e017f49b25dfd8"
     }
    },
    "c48e6fc6b9164f508aa3745d915e7d0b": {
     "model_module": "@jupyter-widgets/base",
     "model_name": "LayoutModel",
     "state": {
      "_model_module": "@jupyter-widgets/base",
      "_model_module_version": "1.2.0",
      "_model_name": "LayoutModel",
      "_view_count": null,
      "_view_module": "@jupyter-widgets/base",
      "_view_module_version": "1.2.0",
      "_view_name": "LayoutView",
      "align_content": null,
      "align_items": null,
      "align_self": null,
      "border": null,
      "bottom": null,
      "display": null,
      "flex": null,
      "flex_flow": null,
      "grid_area": null,
      "grid_auto_columns": null,
      "grid_auto_flow": null,
      "grid_auto_rows": null,
      "grid_column": null,
      "grid_gap": null,
      "grid_row": null,
      "grid_template_areas": null,
      "grid_template_columns": null,
      "grid_template_rows": null,
      "height": null,
      "justify_content": null,
      "justify_items": null,
      "left": null,
      "margin": null,
      "max_height": null,
      "max_width": null,
      "min_height": null,
      "min_width": null,
      "object_fit": null,
      "object_position": null,
      "order": null,
      "overflow": null,
      "overflow_x": null,
      "overflow_y": null,
      "padding": null,
      "right": null,
      "top": null,
      "visibility": null,
      "width": null
     }
    },
    "c60e8a9650f94627bfa6e6c4a6efbbbc": {
     "model_module": "@jupyter-widgets/controls",
     "model_name": "SliderStyleModel",
     "state": {
      "_model_module": "@jupyter-widgets/controls",
      "_model_module_version": "1.5.0",
      "_model_name": "SliderStyleModel",
      "_view_count": null,
      "_view_module": "@jupyter-widgets/base",
      "_view_module_version": "1.2.0",
      "_view_name": "StyleView",
      "description_width": "",
      "handle_color": null
     }
    },
    "c8803daa9e644be09cc43793ea5415ac": {
     "model_module": "@jupyter-widgets/controls",
     "model_name": "VBoxModel",
     "state": {
      "_dom_classes": [
       "widget-interact"
      ],
      "_model_module": "@jupyter-widgets/controls",
      "_model_module_version": "1.5.0",
      "_model_name": "VBoxModel",
      "_view_count": null,
      "_view_module": "@jupyter-widgets/controls",
      "_view_module_version": "1.5.0",
      "_view_name": "VBoxView",
      "box_style": "",
      "children": [
       "IPY_MODEL_bbe9cdb2de3b41b3b89f767ee6137f43",
       "IPY_MODEL_0771e9741b2f4fa8b2f0d1714a6983a3"
      ],
      "layout": "IPY_MODEL_e03cecf270c44d0eaf8cbf35f847bb2c"
     }
    },
    "ca829b0b77ff4c09a687f64ccbb2d250": {
     "model_module": "@jupyter-widgets/base",
     "model_name": "LayoutModel",
     "state": {
      "_model_module": "@jupyter-widgets/base",
      "_model_module_version": "1.2.0",
      "_model_name": "LayoutModel",
      "_view_count": null,
      "_view_module": "@jupyter-widgets/base",
      "_view_module_version": "1.2.0",
      "_view_name": "LayoutView",
      "align_content": null,
      "align_items": null,
      "align_self": null,
      "border": null,
      "bottom": null,
      "display": null,
      "flex": null,
      "flex_flow": null,
      "grid_area": null,
      "grid_auto_columns": null,
      "grid_auto_flow": null,
      "grid_auto_rows": null,
      "grid_column": null,
      "grid_gap": null,
      "grid_row": null,
      "grid_template_areas": null,
      "grid_template_columns": null,
      "grid_template_rows": null,
      "height": null,
      "justify_content": null,
      "justify_items": null,
      "left": null,
      "margin": null,
      "max_height": null,
      "max_width": null,
      "min_height": null,
      "min_width": null,
      "object_fit": null,
      "object_position": null,
      "order": null,
      "overflow": null,
      "overflow_x": null,
      "overflow_y": null,
      "padding": null,
      "right": null,
      "top": null,
      "visibility": null,
      "width": null
     }
    },
    "d9b93fc899184af597b0b4c11403b250": {
     "model_module": "@jupyter-widgets/base",
     "model_name": "LayoutModel",
     "state": {
      "_model_module": "@jupyter-widgets/base",
      "_model_module_version": "1.2.0",
      "_model_name": "LayoutModel",
      "_view_count": null,
      "_view_module": "@jupyter-widgets/base",
      "_view_module_version": "1.2.0",
      "_view_name": "LayoutView",
      "align_content": null,
      "align_items": null,
      "align_self": null,
      "border": null,
      "bottom": null,
      "display": null,
      "flex": null,
      "flex_flow": null,
      "grid_area": null,
      "grid_auto_columns": null,
      "grid_auto_flow": null,
      "grid_auto_rows": null,
      "grid_column": null,
      "grid_gap": null,
      "grid_row": null,
      "grid_template_areas": null,
      "grid_template_columns": null,
      "grid_template_rows": null,
      "height": null,
      "justify_content": null,
      "justify_items": null,
      "left": null,
      "margin": null,
      "max_height": null,
      "max_width": null,
      "min_height": null,
      "min_width": null,
      "object_fit": null,
      "object_position": null,
      "order": null,
      "overflow": null,
      "overflow_x": null,
      "overflow_y": null,
      "padding": null,
      "right": null,
      "top": null,
      "visibility": null,
      "width": null
     }
    },
    "e03cecf270c44d0eaf8cbf35f847bb2c": {
     "model_module": "@jupyter-widgets/base",
     "model_name": "LayoutModel",
     "state": {
      "_model_module": "@jupyter-widgets/base",
      "_model_module_version": "1.2.0",
      "_model_name": "LayoutModel",
      "_view_count": null,
      "_view_module": "@jupyter-widgets/base",
      "_view_module_version": "1.2.0",
      "_view_name": "LayoutView",
      "align_content": null,
      "align_items": null,
      "align_self": null,
      "border": null,
      "bottom": null,
      "display": null,
      "flex": null,
      "flex_flow": null,
      "grid_area": null,
      "grid_auto_columns": null,
      "grid_auto_flow": null,
      "grid_auto_rows": null,
      "grid_column": null,
      "grid_gap": null,
      "grid_row": null,
      "grid_template_areas": null,
      "grid_template_columns": null,
      "grid_template_rows": null,
      "height": null,
      "justify_content": null,
      "justify_items": null,
      "left": null,
      "margin": null,
      "max_height": null,
      "max_width": null,
      "min_height": null,
      "min_width": null,
      "object_fit": null,
      "object_position": null,
      "order": null,
      "overflow": null,
      "overflow_x": null,
      "overflow_y": null,
      "padding": null,
      "right": null,
      "top": null,
      "visibility": null,
      "width": null
     }
    },
    "e155b8b951204145800b3fb8f7376783": {
     "model_module": "@jupyter-widgets/controls",
     "model_name": "DescriptionStyleModel",
     "state": {
      "_model_module": "@jupyter-widgets/controls",
      "_model_module_version": "1.5.0",
      "_model_name": "DescriptionStyleModel",
      "_view_count": null,
      "_view_module": "@jupyter-widgets/base",
      "_view_module_version": "1.2.0",
      "_view_name": "StyleView",
      "description_width": ""
     }
    },
    "ebe5ae153eed4940aedb7cee39f61534": {
     "model_module": "@jupyter-widgets/output",
     "model_name": "OutputModel",
     "state": {
      "_dom_classes": [],
      "_model_module": "@jupyter-widgets/output",
      "_model_module_version": "1.0.0",
      "_model_name": "OutputModel",
      "_view_count": null,
      "_view_module": "@jupyter-widgets/output",
      "_view_module_version": "1.0.0",
      "_view_name": "OutputView",
      "layout": "IPY_MODEL_8c18f32b999c4ceebfedddc98c236ed6",
      "msg_id": "",
      "outputs": [
       {
        "application/javascript": "\n(function(root) {\n  function now() {\n    return new Date();\n  }\n\n  var force = true;\n\n  if (typeof root._bokeh_onload_callbacks === \"undefined\" || force === true) {\n    root._bokeh_onload_callbacks = [];\n    root._bokeh_is_loading = undefined;\n  }\n\n  var JS_MIME_TYPE = 'application/javascript';\n  var HTML_MIME_TYPE = 'text/html';\n  var EXEC_MIME_TYPE = 'application/vnd.bokehjs_exec.v0+json';\n  var CLASS_NAME = 'output_bokeh rendered_html';\n\n  /**\n   * Render data to the DOM node\n   */\n  function render(props, node) {\n    var script = document.createElement(\"script\");\n    node.appendChild(script);\n  }\n\n  /**\n   * Handle when an output is cleared or removed\n   */\n  function handleClearOutput(event, handle) {\n    var cell = handle.cell;\n\n    var id = cell.output_area._bokeh_element_id;\n    var server_id = cell.output_area._bokeh_server_id;\n    // Clean up Bokeh references\n    if (id != null && id in Bokeh.index) {\n      Bokeh.index[id].model.document.clear();\n      delete Bokeh.index[id];\n    }\n\n    if (server_id !== undefined) {\n      // Clean up Bokeh references\n      var cmd = \"from bokeh.io.state import curstate; print(curstate().uuid_to_server['\" + server_id + \"'].get_sessions()[0].document.roots[0]._id)\";\n      cell.notebook.kernel.execute(cmd, {\n        iopub: {\n          output: function(msg) {\n            var id = msg.content.text.trim();\n            if (id in Bokeh.index) {\n              Bokeh.index[id].model.document.clear();\n              delete Bokeh.index[id];\n            }\n          }\n        }\n      });\n      // Destroy server and session\n      var cmd = \"import bokeh.io.notebook as ion; ion.destroy_server('\" + server_id + \"')\";\n      cell.notebook.kernel.execute(cmd);\n    }\n  }\n\n  /**\n   * Handle when a new output is added\n   */\n  function handleAddOutput(event, handle) {\n    var output_area = handle.output_area;\n    var output = handle.output;\n\n    // limit handleAddOutput to display_data with EXEC_MIME_TYPE content only\n    if ((output.output_type != \"display_data\") || (!output.data.hasOwnProperty(EXEC_MIME_TYPE))) {\n      return\n    }\n\n    var toinsert = output_area.element.find(\".\" + CLASS_NAME.split(' ')[0]);\n\n    if (output.metadata[EXEC_MIME_TYPE][\"id\"] !== undefined) {\n      toinsert[toinsert.length - 1].firstChild.textContent = output.data[JS_MIME_TYPE];\n      // store reference to embed id on output_area\n      output_area._bokeh_element_id = output.metadata[EXEC_MIME_TYPE][\"id\"];\n    }\n    if (output.metadata[EXEC_MIME_TYPE][\"server_id\"] !== undefined) {\n      var bk_div = document.createElement(\"div\");\n      bk_div.innerHTML = output.data[HTML_MIME_TYPE];\n      var script_attrs = bk_div.children[0].attributes;\n      for (var i = 0; i < script_attrs.length; i++) {\n        toinsert[toinsert.length - 1].firstChild.setAttribute(script_attrs[i].name, script_attrs[i].value);\n        toinsert[toinsert.length - 1].firstChild.textContent = bk_div.children[0].textContent\n      }\n      // store reference to server id on output_area\n      output_area._bokeh_server_id = output.metadata[EXEC_MIME_TYPE][\"server_id\"];\n    }\n  }\n\n  function register_renderer(events, OutputArea) {\n\n    function append_mime(data, metadata, element) {\n      // create a DOM node to render to\n      var toinsert = this.create_output_subarea(\n        metadata,\n        CLASS_NAME,\n        EXEC_MIME_TYPE\n      );\n      this.keyboard_manager.register_events(toinsert);\n      // Render to node\n      var props = {data: data, metadata: metadata[EXEC_MIME_TYPE]};\n      render(props, toinsert[toinsert.length - 1]);\n      element.append(toinsert);\n      return toinsert\n    }\n\n    /* Handle when an output is cleared or removed */\n    events.on('clear_output.CodeCell', handleClearOutput);\n    events.on('delete.Cell', handleClearOutput);\n\n    /* Handle when a new output is added */\n    events.on('output_added.OutputArea', handleAddOutput);\n\n    /**\n     * Register the mime type and append_mime function with output_area\n     */\n    OutputArea.prototype.register_mime_type(EXEC_MIME_TYPE, append_mime, {\n      /* Is output safe? */\n      safe: true,\n      /* Index of renderer in `output_area.display_order` */\n      index: 0\n    });\n  }\n\n  // register the mime type if in Jupyter Notebook environment and previously unregistered\n  if (root.Jupyter !== undefined) {\n    var events = require('base/js/events');\n    var OutputArea = require('notebook/js/outputarea').OutputArea;\n\n    if (OutputArea.prototype.mime_types().indexOf(EXEC_MIME_TYPE) == -1) {\n      register_renderer(events, OutputArea);\n    }\n  }\n\n  \n  if (typeof (root._bokeh_timeout) === \"undefined\" || force === true) {\n    root._bokeh_timeout = Date.now() + 5000;\n    root._bokeh_failed_load = false;\n  }\n\n  var NB_LOAD_WARNING = {'data': {'text/html':\n     \"<div style='background-color: #fdd'>\\n\"+\n     \"<p>\\n\"+\n     \"BokehJS does not appear to have successfully loaded. If loading BokehJS from CDN, this \\n\"+\n     \"may be due to a slow or bad network connection. Possible fixes:\\n\"+\n     \"</p>\\n\"+\n     \"<ul>\\n\"+\n     \"<li>re-rerun `output_notebook()` to attempt to load from CDN again, or</li>\\n\"+\n     \"<li>use INLINE resources instead, as so:</li>\\n\"+\n     \"</ul>\\n\"+\n     \"<code>\\n\"+\n     \"from bokeh.resources import INLINE\\n\"+\n     \"output_notebook(resources=INLINE)\\n\"+\n     \"</code>\\n\"+\n     \"</div>\"}};\n\n  function display_loaded() {\n    var el = document.getElementById(null);\n    if (el != null) {\n      el.textContent = \"BokehJS is loading...\";\n    }\n    if (root.Bokeh !== undefined) {\n      if (el != null) {\n        el.textContent = \"BokehJS \" + root.Bokeh.version + \" successfully loaded.\";\n      }\n    } else if (Date.now() < root._bokeh_timeout) {\n      setTimeout(display_loaded, 100)\n    }\n  }\n\n\n  function run_callbacks() {\n    try {\n      root._bokeh_onload_callbacks.forEach(function(callback) {\n        if (callback != null)\n          callback();\n      });\n    } finally {\n      delete root._bokeh_onload_callbacks\n    }\n    console.debug(\"Bokeh: all callbacks have finished\");\n  }\n\n  function load_libs(css_urls, js_urls, callback) {\n    if (css_urls == null) css_urls = [];\n    if (js_urls == null) js_urls = [];\n\n    root._bokeh_onload_callbacks.push(callback);\n    if (root._bokeh_is_loading > 0) {\n      console.debug(\"Bokeh: BokehJS is being loaded, scheduling callback at\", now());\n      return null;\n    }\n    if (js_urls == null || js_urls.length === 0) {\n      run_callbacks();\n      return null;\n    }\n    console.debug(\"Bokeh: BokehJS not loaded, scheduling load and callback at\", now());\n    root._bokeh_is_loading = css_urls.length + js_urls.length;\n\n    function on_load() {\n      root._bokeh_is_loading--;\n      if (root._bokeh_is_loading === 0) {\n        console.debug(\"Bokeh: all BokehJS libraries/stylesheets loaded\");\n        run_callbacks()\n      }\n    }\n\n    function on_error() {\n      console.error(\"failed to load \" + url);\n    }\n\n    for (var i = 0; i < css_urls.length; i++) {\n      var url = css_urls[i];\n      const element = document.createElement(\"link\");\n      element.onload = on_load;\n      element.onerror = on_error;\n      element.rel = \"stylesheet\";\n      element.type = \"text/css\";\n      element.href = url;\n      console.debug(\"Bokeh: injecting link tag for BokehJS stylesheet: \", url);\n      document.body.appendChild(element);\n    }\n\n    const hashes = {\"https://cdn.bokeh.org/bokeh/release/bokeh-2.1.1.min.js\": \"kLr4fYcqcSpbuI95brIH3vnnYCquzzSxHPU6XGQCIkQRGJwhg0StNbj1eegrHs12\", \"https://cdn.bokeh.org/bokeh/release/bokeh-widgets-2.1.1.min.js\": \"xIGPmVtaOm+z0BqfSOMn4lOR6ciex448GIKG4eE61LsAvmGj48XcMQZtKcE/UXZe\", \"https://cdn.bokeh.org/bokeh/release/bokeh-tables-2.1.1.min.js\": \"Dc9u1wF/0zApGIWoBbH77iWEHtdmkuYWG839Uzmv8y8yBLXebjO9ZnERsde5Ln/P\", \"https://cdn.bokeh.org/bokeh/release/bokeh-gl-2.1.1.min.js\": \"cT9JaBz7GiRXdENrJLZNSC6eMNF3nh3fa5fTF51Svp+ukxPdwcU5kGXGPBgDCa2j\"};\n\n    for (var i = 0; i < js_urls.length; i++) {\n      var url = js_urls[i];\n      var element = document.createElement('script');\n      element.onload = on_load;\n      element.onerror = on_error;\n      element.async = false;\n      element.src = url;\n      if (url in hashes) {\n        element.crossOrigin = \"anonymous\";\n        element.integrity = \"sha384-\" + hashes[url];\n      }\n      console.debug(\"Bokeh: injecting script tag for BokehJS library: \", url);\n      document.head.appendChild(element);\n    }\n  };\n\n  function inject_raw_css(css) {\n    const element = document.createElement(\"style\");\n    element.appendChild(document.createTextNode(css));\n    document.body.appendChild(element);\n  }\n\n  \n  var js_urls = [\"https://cdn.bokeh.org/bokeh/release/bokeh-2.1.1.min.js\", \"https://cdn.bokeh.org/bokeh/release/bokeh-widgets-2.1.1.min.js\", \"https://cdn.bokeh.org/bokeh/release/bokeh-tables-2.1.1.min.js\", \"https://cdn.bokeh.org/bokeh/release/bokeh-gl-2.1.1.min.js\"];\n  var css_urls = [];\n  \n\n  var inline_js = [\n    function(Bokeh) {\n      Bokeh.set_log_level(\"info\");\n    },\n    function(Bokeh) {\n    \n    \n    }\n  ];\n\n  function run_inline_js() {\n    \n    if (root.Bokeh !== undefined || force === true) {\n      \n    for (var i = 0; i < inline_js.length; i++) {\n      inline_js[i].call(root, root.Bokeh);\n    }\n    } else if (Date.now() < root._bokeh_timeout) {\n      setTimeout(run_inline_js, 100);\n    } else if (!root._bokeh_failed_load) {\n      console.log(\"Bokeh: BokehJS failed to load within specified timeout.\");\n      root._bokeh_failed_load = true;\n    } else if (force !== true) {\n      var cell = $(document.getElementById(null)).parents('.cell').data().cell;\n      cell.output_area.append_execute_result(NB_LOAD_WARNING)\n    }\n\n  }\n\n  if (root._bokeh_is_loading === 0) {\n    console.debug(\"Bokeh: BokehJS loaded, going straight to plotting\");\n    run_inline_js();\n  } else {\n    load_libs(css_urls, js_urls, function() {\n      console.debug(\"Bokeh: BokehJS plotting callback run at\", now());\n      run_inline_js();\n    });\n  }\n}(window));",
        "application/vnd.bokehjs_load.v0+json": "\n(function(root) {\n  function now() {\n    return new Date();\n  }\n\n  var force = true;\n\n  if (typeof root._bokeh_onload_callbacks === \"undefined\" || force === true) {\n    root._bokeh_onload_callbacks = [];\n    root._bokeh_is_loading = undefined;\n  }\n\n  \n\n  \n  if (typeof (root._bokeh_timeout) === \"undefined\" || force === true) {\n    root._bokeh_timeout = Date.now() + 5000;\n    root._bokeh_failed_load = false;\n  }\n\n  var NB_LOAD_WARNING = {'data': {'text/html':\n     \"<div style='background-color: #fdd'>\\n\"+\n     \"<p>\\n\"+\n     \"BokehJS does not appear to have successfully loaded. If loading BokehJS from CDN, this \\n\"+\n     \"may be due to a slow or bad network connection. Possible fixes:\\n\"+\n     \"</p>\\n\"+\n     \"<ul>\\n\"+\n     \"<li>re-rerun `output_notebook()` to attempt to load from CDN again, or</li>\\n\"+\n     \"<li>use INLINE resources instead, as so:</li>\\n\"+\n     \"</ul>\\n\"+\n     \"<code>\\n\"+\n     \"from bokeh.resources import INLINE\\n\"+\n     \"output_notebook(resources=INLINE)\\n\"+\n     \"</code>\\n\"+\n     \"</div>\"}};\n\n  function display_loaded() {\n    var el = document.getElementById(null);\n    if (el != null) {\n      el.textContent = \"BokehJS is loading...\";\n    }\n    if (root.Bokeh !== undefined) {\n      if (el != null) {\n        el.textContent = \"BokehJS \" + root.Bokeh.version + \" successfully loaded.\";\n      }\n    } else if (Date.now() < root._bokeh_timeout) {\n      setTimeout(display_loaded, 100)\n    }\n  }\n\n\n  function run_callbacks() {\n    try {\n      root._bokeh_onload_callbacks.forEach(function(callback) {\n        if (callback != null)\n          callback();\n      });\n    } finally {\n      delete root._bokeh_onload_callbacks\n    }\n    console.debug(\"Bokeh: all callbacks have finished\");\n  }\n\n  function load_libs(css_urls, js_urls, callback) {\n    if (css_urls == null) css_urls = [];\n    if (js_urls == null) js_urls = [];\n\n    root._bokeh_onload_callbacks.push(callback);\n    if (root._bokeh_is_loading > 0) {\n      console.debug(\"Bokeh: BokehJS is being loaded, scheduling callback at\", now());\n      return null;\n    }\n    if (js_urls == null || js_urls.length === 0) {\n      run_callbacks();\n      return null;\n    }\n    console.debug(\"Bokeh: BokehJS not loaded, scheduling load and callback at\", now());\n    root._bokeh_is_loading = css_urls.length + js_urls.length;\n\n    function on_load() {\n      root._bokeh_is_loading--;\n      if (root._bokeh_is_loading === 0) {\n        console.debug(\"Bokeh: all BokehJS libraries/stylesheets loaded\");\n        run_callbacks()\n      }\n    }\n\n    function on_error() {\n      console.error(\"failed to load \" + url);\n    }\n\n    for (var i = 0; i < css_urls.length; i++) {\n      var url = css_urls[i];\n      const element = document.createElement(\"link\");\n      element.onload = on_load;\n      element.onerror = on_error;\n      element.rel = \"stylesheet\";\n      element.type = \"text/css\";\n      element.href = url;\n      console.debug(\"Bokeh: injecting link tag for BokehJS stylesheet: \", url);\n      document.body.appendChild(element);\n    }\n\n    const hashes = {\"https://cdn.bokeh.org/bokeh/release/bokeh-2.1.1.min.js\": \"kLr4fYcqcSpbuI95brIH3vnnYCquzzSxHPU6XGQCIkQRGJwhg0StNbj1eegrHs12\", \"https://cdn.bokeh.org/bokeh/release/bokeh-widgets-2.1.1.min.js\": \"xIGPmVtaOm+z0BqfSOMn4lOR6ciex448GIKG4eE61LsAvmGj48XcMQZtKcE/UXZe\", \"https://cdn.bokeh.org/bokeh/release/bokeh-tables-2.1.1.min.js\": \"Dc9u1wF/0zApGIWoBbH77iWEHtdmkuYWG839Uzmv8y8yBLXebjO9ZnERsde5Ln/P\", \"https://cdn.bokeh.org/bokeh/release/bokeh-gl-2.1.1.min.js\": \"cT9JaBz7GiRXdENrJLZNSC6eMNF3nh3fa5fTF51Svp+ukxPdwcU5kGXGPBgDCa2j\"};\n\n    for (var i = 0; i < js_urls.length; i++) {\n      var url = js_urls[i];\n      var element = document.createElement('script');\n      element.onload = on_load;\n      element.onerror = on_error;\n      element.async = false;\n      element.src = url;\n      if (url in hashes) {\n        element.crossOrigin = \"anonymous\";\n        element.integrity = \"sha384-\" + hashes[url];\n      }\n      console.debug(\"Bokeh: injecting script tag for BokehJS library: \", url);\n      document.head.appendChild(element);\n    }\n  };\n\n  function inject_raw_css(css) {\n    const element = document.createElement(\"style\");\n    element.appendChild(document.createTextNode(css));\n    document.body.appendChild(element);\n  }\n\n  \n  var js_urls = [\"https://cdn.bokeh.org/bokeh/release/bokeh-2.1.1.min.js\", \"https://cdn.bokeh.org/bokeh/release/bokeh-widgets-2.1.1.min.js\", \"https://cdn.bokeh.org/bokeh/release/bokeh-tables-2.1.1.min.js\", \"https://cdn.bokeh.org/bokeh/release/bokeh-gl-2.1.1.min.js\"];\n  var css_urls = [];\n  \n\n  var inline_js = [\n    function(Bokeh) {\n      Bokeh.set_log_level(\"info\");\n    },\n    function(Bokeh) {\n    \n    \n    }\n  ];\n\n  function run_inline_js() {\n    \n    if (root.Bokeh !== undefined || force === true) {\n      \n    for (var i = 0; i < inline_js.length; i++) {\n      inline_js[i].call(root, root.Bokeh);\n    }\n    } else if (Date.now() < root._bokeh_timeout) {\n      setTimeout(run_inline_js, 100);\n    } else if (!root._bokeh_failed_load) {\n      console.log(\"Bokeh: BokehJS failed to load within specified timeout.\");\n      root._bokeh_failed_load = true;\n    } else if (force !== true) {\n      var cell = $(document.getElementById(null)).parents('.cell').data().cell;\n      cell.output_area.append_execute_result(NB_LOAD_WARNING)\n    }\n\n  }\n\n  if (root._bokeh_is_loading === 0) {\n    console.debug(\"Bokeh: BokehJS loaded, going straight to plotting\");\n    run_inline_js();\n  } else {\n    load_libs(css_urls, js_urls, function() {\n      console.debug(\"Bokeh: BokehJS plotting callback run at\", now());\n      run_inline_js();\n    });\n  }\n}(window));",
        "metadata": {
         "tags": []
        },
        "output_type": "display_data"
       },
       {
        "metadata": {
         "tags": []
        },
        "output_type": "display_data",
        "text/html": "\n\n\n\n\n\n  <div class=\"bk-root\" id=\"b22b00c3-b779-421d-84ba-f2a64d156bef\" data-root-id=\"6995\"></div>\n"
       },
       {
        "application/javascript": "(function(root) {\n  function embed_document(root) {\n    \n  var docs_json = {\"4963b619-3332-4916-ae7e-a8adb0208dfe\":{\"roots\":{\"references\":[{\"attributes\":{\"below\":[{\"id\":\"7004\"}],\"center\":[{\"id\":\"7007\"},{\"id\":\"7011\"}],\"left\":[{\"id\":\"7008\"}],\"plot_height\":400,\"plot_width\":800,\"renderers\":[{\"id\":\"7029\"}],\"title\":{\"id\":\"7312\"},\"toolbar\":{\"id\":\"7019\"},\"x_range\":{\"id\":\"6996\"},\"x_scale\":{\"id\":\"7000\"},\"y_range\":{\"id\":\"6998\"},\"y_scale\":{\"id\":\"7002\"}},\"id\":\"6995\",\"subtype\":\"Figure\",\"type\":\"Plot\"},{\"attributes\":{},\"id\":\"7314\",\"type\":\"BasicTickFormatter\"},{\"attributes\":{\"text\":\"\"},\"id\":\"7312\",\"type\":\"Title\"},{\"attributes\":{},\"id\":\"7000\",\"type\":\"LinearScale\"},{\"attributes\":{},\"id\":\"7319\",\"type\":\"Selection\"},{\"attributes\":{},\"id\":\"7012\",\"type\":\"PanTool\"},{\"attributes\":{},\"id\":\"7316\",\"type\":\"BasicTickFormatter\"},{\"attributes\":{},\"id\":\"7013\",\"type\":\"WheelZoomTool\"},{\"attributes\":{\"overlay\":{\"id\":\"7018\"}},\"id\":\"7014\",\"type\":\"BoxZoomTool\"},{\"attributes\":{},\"id\":\"6998\",\"type\":\"DataRange1d\"},{\"attributes\":{},\"id\":\"7015\",\"type\":\"SaveTool\"},{\"attributes\":{},\"id\":\"7016\",\"type\":\"ResetTool\"},{\"attributes\":{},\"id\":\"7017\",\"type\":\"HelpTool\"},{\"attributes\":{\"active_drag\":\"auto\",\"active_inspect\":\"auto\",\"active_multi\":null,\"active_scroll\":\"auto\",\"active_tap\":\"auto\",\"tools\":[{\"id\":\"7012\"},{\"id\":\"7013\"},{\"id\":\"7014\"},{\"id\":\"7015\"},{\"id\":\"7016\"},{\"id\":\"7017\"}]},\"id\":\"7019\",\"type\":\"Toolbar\"},{\"attributes\":{\"data_source\":{\"id\":\"7026\"},\"glyph\":{\"id\":\"7027\"},\"hover_glyph\":null,\"muted_glyph\":null,\"nonselection_glyph\":{\"id\":\"7028\"},\"selection_glyph\":null,\"view\":{\"id\":\"7030\"}},\"id\":\"7029\",\"type\":\"GlyphRenderer\"},{\"attributes\":{\"formatter\":{\"id\":\"7314\"},\"ticker\":{\"id\":\"7009\"}},\"id\":\"7008\",\"type\":\"LinearAxis\"},{\"attributes\":{},\"id\":\"6996\",\"type\":\"DataRange1d\"},{\"attributes\":{\"line_alpha\":0.1,\"line_color\":\"#2222aa\",\"line_width\":2,\"x\":{\"field\":\"x\"},\"y\":{\"field\":\"y\"}},\"id\":\"7028\",\"type\":\"Line\"},{\"attributes\":{\"formatter\":{\"id\":\"7316\"},\"ticker\":{\"id\":\"7005\"}},\"id\":\"7004\",\"type\":\"LinearAxis\"},{\"attributes\":{},\"id\":\"7002\",\"type\":\"LinearScale\"},{\"attributes\":{},\"id\":\"7005\",\"type\":\"BasicTicker\"},{\"attributes\":{\"bottom_units\":\"screen\",\"fill_alpha\":0.5,\"fill_color\":\"lightgrey\",\"left_units\":\"screen\",\"level\":\"overlay\",\"line_alpha\":1.0,\"line_color\":\"black\",\"line_dash\":[4,4],\"line_width\":2,\"right_units\":\"screen\",\"top_units\":\"screen\"},\"id\":\"7018\",\"type\":\"BoxAnnotation\"},{\"attributes\":{\"axis\":{\"id\":\"7004\"},\"ticker\":null},\"id\":\"7007\",\"type\":\"Grid\"},{\"attributes\":{\"source\":{\"id\":\"7026\"}},\"id\":\"7030\",\"type\":\"CDSView\"},{\"attributes\":{},\"id\":\"7009\",\"type\":\"BasicTicker\"},{\"attributes\":{\"axis\":{\"id\":\"7008\"},\"dimension\":1,\"ticker\":null},\"id\":\"7011\",\"type\":\"Grid\"},{\"attributes\":{\"line_color\":\"#2222aa\",\"line_width\":2,\"x\":{\"field\":\"x\"},\"y\":{\"field\":\"y\"}},\"id\":\"7027\",\"type\":\"Line\"},{\"attributes\":{},\"id\":\"7320\",\"type\":\"UnionRenderers\"},{\"attributes\":{\"data\":{\"x\":{\"__ndarray__\":\"AAAAAAAAAAAxb2dIzNvJPzFvZ0jM29k/ZZNNNtlk4z8xb2dIzNvpP3+lQK1fKfA/ZZNNNtlk8z9LgVq/UqD2PzFvZ0jM2/k/F1100UUX/T9/pUCtXykAQHIcx3EcxwFAZZNNNtlkA0BYCtT6lQIFQEuBWr9SoAZAPvjggw8+CEAxb2dIzNsJQCTm7QyJeQtAF1100UUXDUAK1PqVArUOQH+lQK1fKRBA+OCDDz74EEByHMdxHMcRQOtXCtT6lRJAZZNNNtlkE0DezpCYtzMUQFgK1PqVAhVA0UUXXXTRFUBLgVq/UqAWQMS8nSExbxdAPvjggw8+GEC3MyTm7QwZQDFvZ0jM2xlAq6qqqqqqGkAk5u0MiXkbQJ4hMW9nSBxAF1100UUXHUCRmLczJOYdQArU+pUCtR5AhA8++OCDH0B/pUCtXykgQDtDYt7OkCBA+OCDDz74IEC1fqVArV8hQHIcx3EcxyFALrrooosuIkDrVwrU+pUiQKj1KwVq/SJAZZNNNtlkI0AiMW9nSMwjQN7OkJi3MyRAm2yyySabJEBYCtT6lQIlQBWo9SsFaiVA0UUXXXTRJUCO4ziO4zgmQEuBWr9SoCZACB988MEHJ0DEvJ0hMW8nQIFav1Kg1idAPvjggw8+KED7lQK1fqUoQLczJObtDClAdNFFF110KUAxb2dIzNspQO4MiXk7QypAq6qqqqqqKkBnSMzbGRIrQCTm7QyJeStA4YMPPvjgK0CeITFvZ0gsQFq/UqDWryxAF1100UUXLUDU+pUCtX4tQJGYtzMk5i1ATTbZZJNNLkAK1PqVArUuQMdxHMdxHC9AhA8++OCDL0BArV8pUOsvQH+lQK1fKTBAXXTRRRddMEA7Q2LezpAwQBoS83aGxDBA+OCDDz74MEDXrxSo9SsxQLV+pUCtXzFAk0022WSTMUByHMdxHMcxQFDrVwrU+jFALrrooosuMkANiXk7Q2IyQOtXCtT6lTJAyiabbLLJMkCo9SsFav0yQIbEvJ0hMTNAZZNNNtlkM0BDYt7OkJgzQCIxb2dIzDNAAAAAAAAANEA=\",\"dtype\":\"float64\",\"order\":\"little\",\"shape\":[100]},\"y\":{\"__ndarray__\":\"AAAAAAAAAACqLOrQ0hKRP7Tl+XKc5qs/17VvJZWluT83ZMCXh6DCP05c9hLpx8c/2jHFC/76yz+0lRsINh7PP/LstbvJmtA/nzHsmc0r0T+S3EuWN1LRP7lahm30H9E/RurM4uqm0D9lTsrfsu/PP1Qr4ZFvQ84/Bn4JFOJizD8qNHo/r2PKP+k01Q56V8g/I+ujUDxMxj+G4sa9s0zEP4kyb6PVYMI/6tnqTUCOwD/1tkPKSbG9P24a97NNhLo/+09VUV+Xtz8eSROPbeq0P+vKTY38e7I/gGCOEIpJsD/FUGq0vp+sP0zEMYClFqk/oxoJpfbvpT94/Hx5sSOjP1IhOLXiqaA/bZEGFaH1nD8ShVl9Mx6ZP8Q1CcSUv5U/EkcVwNDMkj8I16GE8zmQP3fbM7UY+Is/ecSMV1MSiD+Pm4zBn7CEP0XdiJTZwoE/zhaCVyN1fj81thwa3BV6P8lLfrERUXY//j+roJ4Scz9bwcp8w0hwP8L5SzHTx2s/YfotitKsZz/XKygqqChkP5HcrLaGJmE/S3I3tasoXT9m2iFhwMRYP6vhDYASBlU/rS0tPRbVUT/kORvS7DpOP4Zmo2hWm0k/9TNGADqtRT8VYbRVpFZCP4rL3iCbAj8/FuuJBzU0Oj/5kBy0WyE2Pw2p/s4OrjI/EAoSG8CELz9YxJ0awpMqPyQ39k9JZiY/TalNtqLeIj8023eBCscfP+gDATfdvho/2HdWPC2AFj9DDdjm7OsSP+44Q1uDzw8/7Z5UbKS6Cj/H93PVW3MGP2fBZy2V2QI/g52d5FOk/z7XgNmTRoz6PhmhxIEvRPY+jQkUF0Kr8j7Ncj5ZmUvvPsqkFbPgOOo++OPUoe325T5Z5xbRg2TiPmR6hwdEy94+DQGWX2TF2T5YM/Cuso/VPmyY4sLECNI+E/36hP8ozj6CFNtohTbJPukDsiRkEsU+pCmLxD6bwT507bw4Imq9Pjk6l1etkLg+2nZaDaeCtD7bGMsD9B6xPtRAjL6ik6w+ZlwTkPPXpz4w8Ek72uOjPk8SptKqlqA+t2JM5hGqmz4=\",\"dtype\":\"float64\",\"order\":\"little\",\"shape\":[100]}},\"selected\":{\"id\":\"7319\"},\"selection_policy\":{\"id\":\"7320\"}},\"id\":\"7026\",\"type\":\"ColumnDataSource\"}],\"root_ids\":[\"6995\"]},\"title\":\"Bokeh Application\",\"version\":\"2.1.1\"}};\n  var render_items = [{\"docid\":\"4963b619-3332-4916-ae7e-a8adb0208dfe\",\"root_ids\":[\"6995\"],\"roots\":{\"6995\":\"b22b00c3-b779-421d-84ba-f2a64d156bef\"}}];\n  root.Bokeh.embed.embed_items_notebook(docs_json, render_items);\n\n  }\n  if (root.Bokeh !== undefined) {\n    embed_document(root);\n  } else {\n    var attempts = 0;\n    var timer = setInterval(function(root) {\n      if (root.Bokeh !== undefined) {\n        clearInterval(timer);\n        embed_document(root);\n      } else {\n        attempts++;\n        if (attempts > 100) {\n          clearInterval(timer);\n          console.log(\"Bokeh: ERROR: Unable to run BokehJS code because BokehJS library is missing\");\n        }\n      }\n    }, 10, root)\n  }\n})(window);",
        "application/vnd.bokehjs_exec.v0+json": "",
        "metadata": {
         "application/vnd.bokehjs_exec.v0+json": {
          "id": "6995"
         },
         "tags": []
        },
        "output_type": "display_data"
       }
      ]
     }
    },
    "f1101ffad24c4dbd9873ea4923032b2f": {
     "model_module": "@jupyter-widgets/controls",
     "model_name": "DropdownModel",
     "state": {
      "_dom_classes": [],
      "_model_module": "@jupyter-widgets/controls",
      "_model_module_version": "1.5.0",
      "_model_name": "DropdownModel",
      "_options_labels": [
       "액션",
       "느와르",
       "코미디",
       "다큐멘터리",
       "뮤지컬",
       "드라마",
       "멜로/로맨스",
       "공포",
       "서스펜스",
       "애니메이션",
       "미스터리",
       "SF"
      ],
      "_view_count": null,
      "_view_module": "@jupyter-widgets/controls",
      "_view_module_version": "1.5.0",
      "_view_name": "DropdownView",
      "description": "genre",
      "description_tooltip": null,
      "disabled": false,
      "index": 2,
      "layout": "IPY_MODEL_c48e6fc6b9164f508aa3745d915e7d0b",
      "style": "IPY_MODEL_2b15d92af3204c86af84ee26eb8b1ea1"
     }
    },
    "f1a4ea2cfb2f498591f133e3ba7f33b7": {
     "model_module": "@jupyter-widgets/output",
     "model_name": "OutputModel",
     "state": {
      "_dom_classes": [],
      "_model_module": "@jupyter-widgets/output",
      "_model_module_version": "1.0.0",
      "_model_name": "OutputModel",
      "_view_count": null,
      "_view_module": "@jupyter-widgets/output",
      "_view_module_version": "1.0.0",
      "_view_name": "OutputView",
      "layout": "IPY_MODEL_1ffe8db615ee4c71bbda956522fd38eb",
      "msg_id": "",
      "outputs": [
       {
        "application/javascript": "\n(function(root) {\n  function now() {\n    return new Date();\n  }\n\n  var force = true;\n\n  if (typeof root._bokeh_onload_callbacks === \"undefined\" || force === true) {\n    root._bokeh_onload_callbacks = [];\n    root._bokeh_is_loading = undefined;\n  }\n\n  var JS_MIME_TYPE = 'application/javascript';\n  var HTML_MIME_TYPE = 'text/html';\n  var EXEC_MIME_TYPE = 'application/vnd.bokehjs_exec.v0+json';\n  var CLASS_NAME = 'output_bokeh rendered_html';\n\n  /**\n   * Render data to the DOM node\n   */\n  function render(props, node) {\n    var script = document.createElement(\"script\");\n    node.appendChild(script);\n  }\n\n  /**\n   * Handle when an output is cleared or removed\n   */\n  function handleClearOutput(event, handle) {\n    var cell = handle.cell;\n\n    var id = cell.output_area._bokeh_element_id;\n    var server_id = cell.output_area._bokeh_server_id;\n    // Clean up Bokeh references\n    if (id != null && id in Bokeh.index) {\n      Bokeh.index[id].model.document.clear();\n      delete Bokeh.index[id];\n    }\n\n    if (server_id !== undefined) {\n      // Clean up Bokeh references\n      var cmd = \"from bokeh.io.state import curstate; print(curstate().uuid_to_server['\" + server_id + \"'].get_sessions()[0].document.roots[0]._id)\";\n      cell.notebook.kernel.execute(cmd, {\n        iopub: {\n          output: function(msg) {\n            var id = msg.content.text.trim();\n            if (id in Bokeh.index) {\n              Bokeh.index[id].model.document.clear();\n              delete Bokeh.index[id];\n            }\n          }\n        }\n      });\n      // Destroy server and session\n      var cmd = \"import bokeh.io.notebook as ion; ion.destroy_server('\" + server_id + \"')\";\n      cell.notebook.kernel.execute(cmd);\n    }\n  }\n\n  /**\n   * Handle when a new output is added\n   */\n  function handleAddOutput(event, handle) {\n    var output_area = handle.output_area;\n    var output = handle.output;\n\n    // limit handleAddOutput to display_data with EXEC_MIME_TYPE content only\n    if ((output.output_type != \"display_data\") || (!output.data.hasOwnProperty(EXEC_MIME_TYPE))) {\n      return\n    }\n\n    var toinsert = output_area.element.find(\".\" + CLASS_NAME.split(' ')[0]);\n\n    if (output.metadata[EXEC_MIME_TYPE][\"id\"] !== undefined) {\n      toinsert[toinsert.length - 1].firstChild.textContent = output.data[JS_MIME_TYPE];\n      // store reference to embed id on output_area\n      output_area._bokeh_element_id = output.metadata[EXEC_MIME_TYPE][\"id\"];\n    }\n    if (output.metadata[EXEC_MIME_TYPE][\"server_id\"] !== undefined) {\n      var bk_div = document.createElement(\"div\");\n      bk_div.innerHTML = output.data[HTML_MIME_TYPE];\n      var script_attrs = bk_div.children[0].attributes;\n      for (var i = 0; i < script_attrs.length; i++) {\n        toinsert[toinsert.length - 1].firstChild.setAttribute(script_attrs[i].name, script_attrs[i].value);\n        toinsert[toinsert.length - 1].firstChild.textContent = bk_div.children[0].textContent\n      }\n      // store reference to server id on output_area\n      output_area._bokeh_server_id = output.metadata[EXEC_MIME_TYPE][\"server_id\"];\n    }\n  }\n\n  function register_renderer(events, OutputArea) {\n\n    function append_mime(data, metadata, element) {\n      // create a DOM node to render to\n      var toinsert = this.create_output_subarea(\n        metadata,\n        CLASS_NAME,\n        EXEC_MIME_TYPE\n      );\n      this.keyboard_manager.register_events(toinsert);\n      // Render to node\n      var props = {data: data, metadata: metadata[EXEC_MIME_TYPE]};\n      render(props, toinsert[toinsert.length - 1]);\n      element.append(toinsert);\n      return toinsert\n    }\n\n    /* Handle when an output is cleared or removed */\n    events.on('clear_output.CodeCell', handleClearOutput);\n    events.on('delete.Cell', handleClearOutput);\n\n    /* Handle when a new output is added */\n    events.on('output_added.OutputArea', handleAddOutput);\n\n    /**\n     * Register the mime type and append_mime function with output_area\n     */\n    OutputArea.prototype.register_mime_type(EXEC_MIME_TYPE, append_mime, {\n      /* Is output safe? */\n      safe: true,\n      /* Index of renderer in `output_area.display_order` */\n      index: 0\n    });\n  }\n\n  // register the mime type if in Jupyter Notebook environment and previously unregistered\n  if (root.Jupyter !== undefined) {\n    var events = require('base/js/events');\n    var OutputArea = require('notebook/js/outputarea').OutputArea;\n\n    if (OutputArea.prototype.mime_types().indexOf(EXEC_MIME_TYPE) == -1) {\n      register_renderer(events, OutputArea);\n    }\n  }\n\n  \n  if (typeof (root._bokeh_timeout) === \"undefined\" || force === true) {\n    root._bokeh_timeout = Date.now() + 5000;\n    root._bokeh_failed_load = false;\n  }\n\n  var NB_LOAD_WARNING = {'data': {'text/html':\n     \"<div style='background-color: #fdd'>\\n\"+\n     \"<p>\\n\"+\n     \"BokehJS does not appear to have successfully loaded. If loading BokehJS from CDN, this \\n\"+\n     \"may be due to a slow or bad network connection. Possible fixes:\\n\"+\n     \"</p>\\n\"+\n     \"<ul>\\n\"+\n     \"<li>re-rerun `output_notebook()` to attempt to load from CDN again, or</li>\\n\"+\n     \"<li>use INLINE resources instead, as so:</li>\\n\"+\n     \"</ul>\\n\"+\n     \"<code>\\n\"+\n     \"from bokeh.resources import INLINE\\n\"+\n     \"output_notebook(resources=INLINE)\\n\"+\n     \"</code>\\n\"+\n     \"</div>\"}};\n\n  function display_loaded() {\n    var el = document.getElementById(null);\n    if (el != null) {\n      el.textContent = \"BokehJS is loading...\";\n    }\n    if (root.Bokeh !== undefined) {\n      if (el != null) {\n        el.textContent = \"BokehJS \" + root.Bokeh.version + \" successfully loaded.\";\n      }\n    } else if (Date.now() < root._bokeh_timeout) {\n      setTimeout(display_loaded, 100)\n    }\n  }\n\n\n  function run_callbacks() {\n    try {\n      root._bokeh_onload_callbacks.forEach(function(callback) {\n        if (callback != null)\n          callback();\n      });\n    } finally {\n      delete root._bokeh_onload_callbacks\n    }\n    console.debug(\"Bokeh: all callbacks have finished\");\n  }\n\n  function load_libs(css_urls, js_urls, callback) {\n    if (css_urls == null) css_urls = [];\n    if (js_urls == null) js_urls = [];\n\n    root._bokeh_onload_callbacks.push(callback);\n    if (root._bokeh_is_loading > 0) {\n      console.debug(\"Bokeh: BokehJS is being loaded, scheduling callback at\", now());\n      return null;\n    }\n    if (js_urls == null || js_urls.length === 0) {\n      run_callbacks();\n      return null;\n    }\n    console.debug(\"Bokeh: BokehJS not loaded, scheduling load and callback at\", now());\n    root._bokeh_is_loading = css_urls.length + js_urls.length;\n\n    function on_load() {\n      root._bokeh_is_loading--;\n      if (root._bokeh_is_loading === 0) {\n        console.debug(\"Bokeh: all BokehJS libraries/stylesheets loaded\");\n        run_callbacks()\n      }\n    }\n\n    function on_error() {\n      console.error(\"failed to load \" + url);\n    }\n\n    for (var i = 0; i < css_urls.length; i++) {\n      var url = css_urls[i];\n      const element = document.createElement(\"link\");\n      element.onload = on_load;\n      element.onerror = on_error;\n      element.rel = \"stylesheet\";\n      element.type = \"text/css\";\n      element.href = url;\n      console.debug(\"Bokeh: injecting link tag for BokehJS stylesheet: \", url);\n      document.body.appendChild(element);\n    }\n\n    const hashes = {\"https://cdn.bokeh.org/bokeh/release/bokeh-2.1.1.min.js\": \"kLr4fYcqcSpbuI95brIH3vnnYCquzzSxHPU6XGQCIkQRGJwhg0StNbj1eegrHs12\", \"https://cdn.bokeh.org/bokeh/release/bokeh-widgets-2.1.1.min.js\": \"xIGPmVtaOm+z0BqfSOMn4lOR6ciex448GIKG4eE61LsAvmGj48XcMQZtKcE/UXZe\", \"https://cdn.bokeh.org/bokeh/release/bokeh-tables-2.1.1.min.js\": \"Dc9u1wF/0zApGIWoBbH77iWEHtdmkuYWG839Uzmv8y8yBLXebjO9ZnERsde5Ln/P\", \"https://cdn.bokeh.org/bokeh/release/bokeh-gl-2.1.1.min.js\": \"cT9JaBz7GiRXdENrJLZNSC6eMNF3nh3fa5fTF51Svp+ukxPdwcU5kGXGPBgDCa2j\"};\n\n    for (var i = 0; i < js_urls.length; i++) {\n      var url = js_urls[i];\n      var element = document.createElement('script');\n      element.onload = on_load;\n      element.onerror = on_error;\n      element.async = false;\n      element.src = url;\n      if (url in hashes) {\n        element.crossOrigin = \"anonymous\";\n        element.integrity = \"sha384-\" + hashes[url];\n      }\n      console.debug(\"Bokeh: injecting script tag for BokehJS library: \", url);\n      document.head.appendChild(element);\n    }\n  };\n\n  function inject_raw_css(css) {\n    const element = document.createElement(\"style\");\n    element.appendChild(document.createTextNode(css));\n    document.body.appendChild(element);\n  }\n\n  \n  var js_urls = [\"https://cdn.bokeh.org/bokeh/release/bokeh-2.1.1.min.js\", \"https://cdn.bokeh.org/bokeh/release/bokeh-widgets-2.1.1.min.js\", \"https://cdn.bokeh.org/bokeh/release/bokeh-tables-2.1.1.min.js\", \"https://cdn.bokeh.org/bokeh/release/bokeh-gl-2.1.1.min.js\"];\n  var css_urls = [];\n  \n\n  var inline_js = [\n    function(Bokeh) {\n      Bokeh.set_log_level(\"info\");\n    },\n    function(Bokeh) {\n    \n    \n    }\n  ];\n\n  function run_inline_js() {\n    \n    if (root.Bokeh !== undefined || force === true) {\n      \n    for (var i = 0; i < inline_js.length; i++) {\n      inline_js[i].call(root, root.Bokeh);\n    }\n    } else if (Date.now() < root._bokeh_timeout) {\n      setTimeout(run_inline_js, 100);\n    } else if (!root._bokeh_failed_load) {\n      console.log(\"Bokeh: BokehJS failed to load within specified timeout.\");\n      root._bokeh_failed_load = true;\n    } else if (force !== true) {\n      var cell = $(document.getElementById(null)).parents('.cell').data().cell;\n      cell.output_area.append_execute_result(NB_LOAD_WARNING)\n    }\n\n  }\n\n  if (root._bokeh_is_loading === 0) {\n    console.debug(\"Bokeh: BokehJS loaded, going straight to plotting\");\n    run_inline_js();\n  } else {\n    load_libs(css_urls, js_urls, function() {\n      console.debug(\"Bokeh: BokehJS plotting callback run at\", now());\n      run_inline_js();\n    });\n  }\n}(window));",
        "application/vnd.bokehjs_load.v0+json": "\n(function(root) {\n  function now() {\n    return new Date();\n  }\n\n  var force = true;\n\n  if (typeof root._bokeh_onload_callbacks === \"undefined\" || force === true) {\n    root._bokeh_onload_callbacks = [];\n    root._bokeh_is_loading = undefined;\n  }\n\n  \n\n  \n  if (typeof (root._bokeh_timeout) === \"undefined\" || force === true) {\n    root._bokeh_timeout = Date.now() + 5000;\n    root._bokeh_failed_load = false;\n  }\n\n  var NB_LOAD_WARNING = {'data': {'text/html':\n     \"<div style='background-color: #fdd'>\\n\"+\n     \"<p>\\n\"+\n     \"BokehJS does not appear to have successfully loaded. If loading BokehJS from CDN, this \\n\"+\n     \"may be due to a slow or bad network connection. Possible fixes:\\n\"+\n     \"</p>\\n\"+\n     \"<ul>\\n\"+\n     \"<li>re-rerun `output_notebook()` to attempt to load from CDN again, or</li>\\n\"+\n     \"<li>use INLINE resources instead, as so:</li>\\n\"+\n     \"</ul>\\n\"+\n     \"<code>\\n\"+\n     \"from bokeh.resources import INLINE\\n\"+\n     \"output_notebook(resources=INLINE)\\n\"+\n     \"</code>\\n\"+\n     \"</div>\"}};\n\n  function display_loaded() {\n    var el = document.getElementById(null);\n    if (el != null) {\n      el.textContent = \"BokehJS is loading...\";\n    }\n    if (root.Bokeh !== undefined) {\n      if (el != null) {\n        el.textContent = \"BokehJS \" + root.Bokeh.version + \" successfully loaded.\";\n      }\n    } else if (Date.now() < root._bokeh_timeout) {\n      setTimeout(display_loaded, 100)\n    }\n  }\n\n\n  function run_callbacks() {\n    try {\n      root._bokeh_onload_callbacks.forEach(function(callback) {\n        if (callback != null)\n          callback();\n      });\n    } finally {\n      delete root._bokeh_onload_callbacks\n    }\n    console.debug(\"Bokeh: all callbacks have finished\");\n  }\n\n  function load_libs(css_urls, js_urls, callback) {\n    if (css_urls == null) css_urls = [];\n    if (js_urls == null) js_urls = [];\n\n    root._bokeh_onload_callbacks.push(callback);\n    if (root._bokeh_is_loading > 0) {\n      console.debug(\"Bokeh: BokehJS is being loaded, scheduling callback at\", now());\n      return null;\n    }\n    if (js_urls == null || js_urls.length === 0) {\n      run_callbacks();\n      return null;\n    }\n    console.debug(\"Bokeh: BokehJS not loaded, scheduling load and callback at\", now());\n    root._bokeh_is_loading = css_urls.length + js_urls.length;\n\n    function on_load() {\n      root._bokeh_is_loading--;\n      if (root._bokeh_is_loading === 0) {\n        console.debug(\"Bokeh: all BokehJS libraries/stylesheets loaded\");\n        run_callbacks()\n      }\n    }\n\n    function on_error() {\n      console.error(\"failed to load \" + url);\n    }\n\n    for (var i = 0; i < css_urls.length; i++) {\n      var url = css_urls[i];\n      const element = document.createElement(\"link\");\n      element.onload = on_load;\n      element.onerror = on_error;\n      element.rel = \"stylesheet\";\n      element.type = \"text/css\";\n      element.href = url;\n      console.debug(\"Bokeh: injecting link tag for BokehJS stylesheet: \", url);\n      document.body.appendChild(element);\n    }\n\n    const hashes = {\"https://cdn.bokeh.org/bokeh/release/bokeh-2.1.1.min.js\": \"kLr4fYcqcSpbuI95brIH3vnnYCquzzSxHPU6XGQCIkQRGJwhg0StNbj1eegrHs12\", \"https://cdn.bokeh.org/bokeh/release/bokeh-widgets-2.1.1.min.js\": \"xIGPmVtaOm+z0BqfSOMn4lOR6ciex448GIKG4eE61LsAvmGj48XcMQZtKcE/UXZe\", \"https://cdn.bokeh.org/bokeh/release/bokeh-tables-2.1.1.min.js\": \"Dc9u1wF/0zApGIWoBbH77iWEHtdmkuYWG839Uzmv8y8yBLXebjO9ZnERsde5Ln/P\", \"https://cdn.bokeh.org/bokeh/release/bokeh-gl-2.1.1.min.js\": \"cT9JaBz7GiRXdENrJLZNSC6eMNF3nh3fa5fTF51Svp+ukxPdwcU5kGXGPBgDCa2j\"};\n\n    for (var i = 0; i < js_urls.length; i++) {\n      var url = js_urls[i];\n      var element = document.createElement('script');\n      element.onload = on_load;\n      element.onerror = on_error;\n      element.async = false;\n      element.src = url;\n      if (url in hashes) {\n        element.crossOrigin = \"anonymous\";\n        element.integrity = \"sha384-\" + hashes[url];\n      }\n      console.debug(\"Bokeh: injecting script tag for BokehJS library: \", url);\n      document.head.appendChild(element);\n    }\n  };\n\n  function inject_raw_css(css) {\n    const element = document.createElement(\"style\");\n    element.appendChild(document.createTextNode(css));\n    document.body.appendChild(element);\n  }\n\n  \n  var js_urls = [\"https://cdn.bokeh.org/bokeh/release/bokeh-2.1.1.min.js\", \"https://cdn.bokeh.org/bokeh/release/bokeh-widgets-2.1.1.min.js\", \"https://cdn.bokeh.org/bokeh/release/bokeh-tables-2.1.1.min.js\", \"https://cdn.bokeh.org/bokeh/release/bokeh-gl-2.1.1.min.js\"];\n  var css_urls = [];\n  \n\n  var inline_js = [\n    function(Bokeh) {\n      Bokeh.set_log_level(\"info\");\n    },\n    function(Bokeh) {\n    \n    \n    }\n  ];\n\n  function run_inline_js() {\n    \n    if (root.Bokeh !== undefined || force === true) {\n      \n    for (var i = 0; i < inline_js.length; i++) {\n      inline_js[i].call(root, root.Bokeh);\n    }\n    } else if (Date.now() < root._bokeh_timeout) {\n      setTimeout(run_inline_js, 100);\n    } else if (!root._bokeh_failed_load) {\n      console.log(\"Bokeh: BokehJS failed to load within specified timeout.\");\n      root._bokeh_failed_load = true;\n    } else if (force !== true) {\n      var cell = $(document.getElementById(null)).parents('.cell').data().cell;\n      cell.output_area.append_execute_result(NB_LOAD_WARNING)\n    }\n\n  }\n\n  if (root._bokeh_is_loading === 0) {\n    console.debug(\"Bokeh: BokehJS loaded, going straight to plotting\");\n    run_inline_js();\n  } else {\n    load_libs(css_urls, js_urls, function() {\n      console.debug(\"Bokeh: BokehJS plotting callback run at\", now());\n      run_inline_js();\n    });\n  }\n}(window));",
        "metadata": {
         "tags": []
        },
        "output_type": "display_data"
       },
       {
        "metadata": {
         "tags": []
        },
        "output_type": "display_data",
        "text/html": "\n\n\n\n\n\n  <div class=\"bk-root\" id=\"fc361bf3-ba4f-4436-896a-6e5d0616a511\" data-root-id=\"6624\"></div>\n"
       },
       {
        "application/javascript": "(function(root) {\n  function embed_document(root) {\n    \n  var docs_json = {\"70961604-532b-40bb-a6b0-0eee64438928\":{\"roots\":{\"references\":[{\"attributes\":{\"below\":[{\"id\":\"6633\"}],\"center\":[{\"id\":\"6636\"},{\"id\":\"6640\"}],\"left\":[{\"id\":\"6637\"}],\"plot_height\":400,\"plot_width\":800,\"renderers\":[{\"id\":\"6658\"}],\"title\":{\"id\":\"6932\"},\"toolbar\":{\"id\":\"6648\"},\"x_range\":{\"id\":\"6625\"},\"x_scale\":{\"id\":\"6629\"},\"y_range\":{\"id\":\"6627\"},\"y_scale\":{\"id\":\"6631\"}},\"id\":\"6624\",\"subtype\":\"Figure\",\"type\":\"Plot\"},{\"attributes\":{},\"id\":\"6641\",\"type\":\"PanTool\"},{\"attributes\":{},\"id\":\"6642\",\"type\":\"WheelZoomTool\"},{\"attributes\":{},\"id\":\"6631\",\"type\":\"LinearScale\"},{\"attributes\":{\"formatter\":{\"id\":\"6934\"},\"ticker\":{\"id\":\"6638\"}},\"id\":\"6637\",\"type\":\"LinearAxis\"},{\"attributes\":{\"overlay\":{\"id\":\"6647\"}},\"id\":\"6643\",\"type\":\"BoxZoomTool\"},{\"attributes\":{\"line_color\":\"#2222aa\",\"line_width\":3,\"x\":{\"field\":\"x\"},\"y\":{\"field\":\"y\"}},\"id\":\"6656\",\"type\":\"Line\"},{\"attributes\":{},\"id\":\"6644\",\"type\":\"SaveTool\"},{\"attributes\":{\"formatter\":{\"id\":\"6936\"},\"ticker\":{\"id\":\"6634\"}},\"id\":\"6633\",\"type\":\"LinearAxis\"},{\"attributes\":{\"data\":{\"x\":{\"__ndarray__\":\"AAAAAAAAFMBDYt7OkJgTwIbEvJ0hMRPAyiabbLLJEsANiXk7Q2ISwFDrVwrU+hHAk0022WSTEcDXrxSo9SsRwBoS83aGxBDAXXTRRRddEMBArV8pUOsPwMdxHMdxHA/ATjbZZJNNDsDU+pUCtX4NwFq/UqDWrwzA4YMPPvjgC8BoSMzbGRILwO4MiXk7QwrAdNFFF110CcD7lQK1fqUIwIFav1Kg1gfACB988MEHB8CO4ziO4zgGwBWo9SsFagXAm2yyySabBMAiMW9nSMwDwKj1KwVq/QLAL7rooosuAsC1fqVArV8BwDxDYt7OkADAhA8++OCD/7+SmLczJOb9v54hMW9nSPy/qqqqqqqq+r+4MyTm7Qz5v8S8nSExb/e/0kUXXXTR9b/ezpCYtzP0v+xXCtT6lfK/+OCDDz748L8I1PqVArXuvyjm7QyJeeu/QPjggw8+6L9YCtT6lQLlv3Acx3Ecx+G/IF100UUX3b9QgVq/UqDWv4ClQK1fKdC/YJNNNtlkw78Ab2dIzNupvwBvZ0jM26k/YJNNNtlkwz+ApUCtXynQP1CBWr9SoNY/EF100UUX3T9wHMdxHMfhP1gK1PqVAuU/QPjggw8+6D8g5u0MiXnrPwjU+pUCte4/+OCDDz748D/sVwrU+pXyP9zOkJi3M/Q/0EUXXXTR9T/EvJ0hMW/3P7gzJObtDPk/rKqqqqqq+j+cITFvZ0j8P5CYtzMk5v0/hA8++OCD/z88Q2LezpAAQLR+pUCtXwFALrrooosuAkCo9SsFav0CQCIxb2dIzANAmmyyySabBEAUqPUrBWoFQI7jOI7jOAZACB988MEHB0CAWr9SoNYHQPyVArV+pQhAdNFFF110CUDsDIl5O0MKQGhIzNsZEgtA4IMPPvjgC0Bcv1Kg1q8MQNT6lQK1fg1ATDbZZJNNDkDIcRzHcRwPQECtXylQ6w9AXHTRRRddEEAaEvN2hsQQQNavFKj1KxFAlE022WSTEUBQ61cK1PoRQAyJeTtDYhJAyiabbLLJEkCGxLydITETQERi3s6QmBNAAAAAAAAAFEA=\",\"dtype\":\"float64\",\"order\":\"little\",\"shape\":[100]},\"y\":{\"__ndarray__\":\"bQKL9jj6oD+LZgaCfPKhP8wMhK1t86I/h8j9fe/8oz8miwO22w6lP6ysnIECKaY/wpPhKypLpz9rslffDnWoPxZ4EXJipqk//LCIPszeqj+pxhsK6R2sP2R1BfpKY60/Z9iSl3murj9HPEXk8f6vP1MHOj8TqrA/WdRz679WsT964eM7LgWyP6cpjK4ItbI/ANRuL/Vlsz8ZhW5WlRe0Px4v5a2GybQ/pbbGAWN7tT9vjhG3wCy2P3EbPCsz3bY/63U6G0uMtz+uJ6URlzm4P2cQd9uj5Lg/T9LGAv2MuT8wSs9OLTK6P6rOiki/07o/rncWwz1xuz/DrQVnNAq8Pwjmwj8wnrw//uMQSsAsvT/6QLgCdrW9P+9xZ/TlN74/FSnIQ6izvj841cs4WSi/P30yMsSZlb8/L2dQABD7vz+pgRLWMyzAP62y5k+pVsA/77m9nMR8wD8ynAthZZ7AP8pLY+Ruu8A/VQNTOsjTwD/ixgdmXOfAP6W7cHga9sA/psWlqPX/wD/rNmBm5QTBP+s2YGblBME/psWlqPX/wD+lu3B4GvbAP+LGB2Zc58A/VQNTOsjTwD/KS2PkbrvAPzKcC2FlnsA/77m9nMR8wD+usuZPqVbAP6mBEtYzLMA/L2dQABD7vz99MjLEmZW/PznVyzhZKL8/FSnIQ6izvj/vcWf05Te+P/pAuAJ2tb0//uMQSsAsvT8I5sI/MJ68P8OtBWc0Crw/rncWwz1xuz+qzopIv9O6PzBKz04tMro/UNLGAv2MuT9nEHfbo+S4P64npRGXObg/7HU6G0uMtz9yGzwrM922P2+OEbfALLY/pbbGAWN7tT8fL+Wthsm0PxaFblaVF7Q/ANRuL/Vlsz+oKYyuCLWyP3rh4zsuBbI/WtRz679WsT9RBzo/E6qwP0c8ReTx/q8/bNiSl3murj9idQX6SmOtP6nGGwrpHaw//rCIPszeqj8WeBFyYqapP26yV98Odag/vpPhKypLpz+srJyBAimmPymLA7bbDqU/h8j9fe/8oz/MDIStbfOiP4lmBoJ88qE/bQKL9jj6oD8=\",\"dtype\":\"float64\",\"order\":\"little\",\"shape\":[100]}},\"selected\":{\"id\":\"6939\"},\"selection_policy\":{\"id\":\"6940\"}},\"id\":\"6655\",\"type\":\"ColumnDataSource\"},{\"attributes\":{},\"id\":\"6645\",\"type\":\"ResetTool\"},{\"attributes\":{},\"id\":\"6625\",\"type\":\"DataRange1d\"},{\"attributes\":{},\"id\":\"6646\",\"type\":\"HelpTool\"},{\"attributes\":{},\"id\":\"6627\",\"type\":\"DataRange1d\"},{\"attributes\":{\"active_drag\":\"auto\",\"active_inspect\":\"auto\",\"active_multi\":null,\"active_scroll\":\"auto\",\"active_tap\":\"auto\",\"tools\":[{\"id\":\"6641\"},{\"id\":\"6642\"},{\"id\":\"6643\"},{\"id\":\"6644\"},{\"id\":\"6645\"},{\"id\":\"6646\"}]},\"id\":\"6648\",\"type\":\"Toolbar\"},{\"attributes\":{},\"id\":\"6629\",\"type\":\"LinearScale\"},{\"attributes\":{\"line_alpha\":0.1,\"line_color\":\"#2222aa\",\"line_width\":3,\"x\":{\"field\":\"x\"},\"y\":{\"field\":\"y\"}},\"id\":\"6657\",\"type\":\"Line\"},{\"attributes\":{\"axis\":{\"id\":\"6633\"},\"ticker\":null},\"id\":\"6636\",\"type\":\"Grid\"},{\"attributes\":{\"text\":\"\"},\"id\":\"6932\",\"type\":\"Title\"},{\"attributes\":{\"axis\":{\"id\":\"6637\"},\"dimension\":1,\"ticker\":null},\"id\":\"6640\",\"type\":\"Grid\"},{\"attributes\":{},\"id\":\"6940\",\"type\":\"UnionRenderers\"},{\"attributes\":{\"source\":{\"id\":\"6655\"}},\"id\":\"6659\",\"type\":\"CDSView\"},{\"attributes\":{},\"id\":\"6939\",\"type\":\"Selection\"},{\"attributes\":{\"bottom_units\":\"screen\",\"fill_alpha\":0.5,\"fill_color\":\"lightgrey\",\"left_units\":\"screen\",\"level\":\"overlay\",\"line_alpha\":1.0,\"line_color\":\"black\",\"line_dash\":[4,4],\"line_width\":2,\"right_units\":\"screen\",\"top_units\":\"screen\"},\"id\":\"6647\",\"type\":\"BoxAnnotation\"},{\"attributes\":{\"data_source\":{\"id\":\"6655\"},\"glyph\":{\"id\":\"6656\"},\"hover_glyph\":null,\"muted_glyph\":null,\"nonselection_glyph\":{\"id\":\"6657\"},\"selection_glyph\":null,\"view\":{\"id\":\"6659\"}},\"id\":\"6658\",\"type\":\"GlyphRenderer\"},{\"attributes\":{},\"id\":\"6934\",\"type\":\"BasicTickFormatter\"},{\"attributes\":{},\"id\":\"6936\",\"type\":\"BasicTickFormatter\"},{\"attributes\":{},\"id\":\"6638\",\"type\":\"BasicTicker\"},{\"attributes\":{},\"id\":\"6634\",\"type\":\"BasicTicker\"}],\"root_ids\":[\"6624\"]},\"title\":\"Bokeh Application\",\"version\":\"2.1.1\"}};\n  var render_items = [{\"docid\":\"70961604-532b-40bb-a6b0-0eee64438928\",\"root_ids\":[\"6624\"],\"roots\":{\"6624\":\"fc361bf3-ba4f-4436-896a-6e5d0616a511\"}}];\n  root.Bokeh.embed.embed_items_notebook(docs_json, render_items);\n\n  }\n  if (root.Bokeh !== undefined) {\n    embed_document(root);\n  } else {\n    var attempts = 0;\n    var timer = setInterval(function(root) {\n      if (root.Bokeh !== undefined) {\n        clearInterval(timer);\n        embed_document(root);\n      } else {\n        attempts++;\n        if (attempts > 100) {\n          clearInterval(timer);\n          console.log(\"Bokeh: ERROR: Unable to run BokehJS code because BokehJS library is missing\");\n        }\n      }\n    }, 10, root)\n  }\n})(window);",
        "application/vnd.bokehjs_exec.v0+json": "",
        "metadata": {
         "application/vnd.bokehjs_exec.v0+json": {
          "id": "6624"
         },
         "tags": []
        },
        "output_type": "display_data"
       }
      ]
     }
    },
    "f3a3317f98d642519db4092d0c162f9c": {
     "model_module": "@jupyter-widgets/base",
     "model_name": "LayoutModel",
     "state": {
      "_model_module": "@jupyter-widgets/base",
      "_model_module_version": "1.2.0",
      "_model_name": "LayoutModel",
      "_view_count": null,
      "_view_module": "@jupyter-widgets/base",
      "_view_module_version": "1.2.0",
      "_view_name": "LayoutView",
      "align_content": null,
      "align_items": null,
      "align_self": null,
      "border": null,
      "bottom": null,
      "display": null,
      "flex": null,
      "flex_flow": null,
      "grid_area": null,
      "grid_auto_columns": null,
      "grid_auto_flow": null,
      "grid_auto_rows": null,
      "grid_column": null,
      "grid_gap": null,
      "grid_row": null,
      "grid_template_areas": null,
      "grid_template_columns": null,
      "grid_template_rows": null,
      "height": null,
      "justify_content": null,
      "justify_items": null,
      "left": null,
      "margin": null,
      "max_height": null,
      "max_width": null,
      "min_height": null,
      "min_width": null,
      "object_fit": null,
      "object_position": null,
      "order": null,
      "overflow": null,
      "overflow_x": null,
      "overflow_y": null,
      "padding": null,
      "right": null,
      "top": null,
      "visibility": null,
      "width": null
     }
    },
    "f6857aeb3da941b497a64df4056b3fcd": {
     "model_module": "@jupyter-widgets/controls",
     "model_name": "VBoxModel",
     "state": {
      "_dom_classes": [
       "widget-interact"
      ],
      "_model_module": "@jupyter-widgets/controls",
      "_model_module_version": "1.5.0",
      "_model_name": "VBoxModel",
      "_view_count": null,
      "_view_module": "@jupyter-widgets/controls",
      "_view_module_version": "1.5.0",
      "_view_name": "VBoxView",
      "box_style": "",
      "children": [
       "IPY_MODEL_f1101ffad24c4dbd9873ea4923032b2f",
       "IPY_MODEL_8c28d9c89c9c420182267fa088084cea"
      ],
      "layout": "IPY_MODEL_06b03856bf0646b1a5abaa91e44c4695"
     }
    },
    "f7f7ed9e148445c986cfe46ebdde9f05": {
     "model_module": "@jupyter-widgets/base",
     "model_name": "LayoutModel",
     "state": {
      "_model_module": "@jupyter-widgets/base",
      "_model_module_version": "1.2.0",
      "_model_name": "LayoutModel",
      "_view_count": null,
      "_view_module": "@jupyter-widgets/base",
      "_view_module_version": "1.2.0",
      "_view_name": "LayoutView",
      "align_content": null,
      "align_items": null,
      "align_self": null,
      "border": null,
      "bottom": null,
      "display": null,
      "flex": null,
      "flex_flow": null,
      "grid_area": null,
      "grid_auto_columns": null,
      "grid_auto_flow": null,
      "grid_auto_rows": null,
      "grid_column": null,
      "grid_gap": null,
      "grid_row": null,
      "grid_template_areas": null,
      "grid_template_columns": null,
      "grid_template_rows": null,
      "height": null,
      "justify_content": null,
      "justify_items": null,
      "left": null,
      "margin": null,
      "max_height": null,
      "max_width": null,
      "min_height": null,
      "min_width": null,
      "object_fit": null,
      "object_position": null,
      "order": null,
      "overflow": null,
      "overflow_x": null,
      "overflow_y": null,
      "padding": null,
      "right": null,
      "top": null,
      "visibility": null,
      "width": null
     }
    },
    "fbce027e31d0468281e017f49b25dfd8": {
     "model_module": "@jupyter-widgets/base",
     "model_name": "LayoutModel",
     "state": {
      "_model_module": "@jupyter-widgets/base",
      "_model_module_version": "1.2.0",
      "_model_name": "LayoutModel",
      "_view_count": null,
      "_view_module": "@jupyter-widgets/base",
      "_view_module_version": "1.2.0",
      "_view_name": "LayoutView",
      "align_content": null,
      "align_items": null,
      "align_self": null,
      "border": null,
      "bottom": null,
      "display": null,
      "flex": null,
      "flex_flow": null,
      "grid_area": null,
      "grid_auto_columns": null,
      "grid_auto_flow": null,
      "grid_auto_rows": null,
      "grid_column": null,
      "grid_gap": null,
      "grid_row": null,
      "grid_template_areas": null,
      "grid_template_columns": null,
      "grid_template_rows": null,
      "height": null,
      "justify_content": null,
      "justify_items": null,
      "left": null,
      "margin": null,
      "max_height": null,
      "max_width": null,
      "min_height": null,
      "min_width": null,
      "object_fit": null,
      "object_position": null,
      "order": null,
      "overflow": null,
      "overflow_x": null,
      "overflow_y": null,
      "padding": null,
      "right": null,
      "top": null,
      "visibility": null,
      "width": null
     }
    },
    "fbd9f94b60514f678dbf0466df067ebf": {
     "model_module": "@jupyter-widgets/base",
     "model_name": "LayoutModel",
     "state": {
      "_model_module": "@jupyter-widgets/base",
      "_model_module_version": "1.2.0",
      "_model_name": "LayoutModel",
      "_view_count": null,
      "_view_module": "@jupyter-widgets/base",
      "_view_module_version": "1.2.0",
      "_view_name": "LayoutView",
      "align_content": null,
      "align_items": null,
      "align_self": null,
      "border": null,
      "bottom": null,
      "display": null,
      "flex": null,
      "flex_flow": null,
      "grid_area": null,
      "grid_auto_columns": null,
      "grid_auto_flow": null,
      "grid_auto_rows": null,
      "grid_column": null,
      "grid_gap": null,
      "grid_row": null,
      "grid_template_areas": null,
      "grid_template_columns": null,
      "grid_template_rows": null,
      "height": null,
      "justify_content": null,
      "justify_items": null,
      "left": null,
      "margin": null,
      "max_height": null,
      "max_width": null,
      "min_height": null,
      "min_width": null,
      "object_fit": null,
      "object_position": null,
      "order": null,
      "overflow": null,
      "overflow_x": null,
      "overflow_y": null,
      "padding": null,
      "right": null,
      "top": null,
      "visibility": null,
      "width": null
     }
    }
   }
  }
 },
 "nbformat": 4,
 "nbformat_minor": 1
}
